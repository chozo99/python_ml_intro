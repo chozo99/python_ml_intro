{
 "cells": [
  {
   "cell_type": "markdown",
   "metadata": {},
   "source": [
    "Iris data 는 네 종류의 변수를 이용하여 Iris 의 품종을 예측하는데 이용되는 데이터입니다. Scikit-learn 에서도 해당 데이터를 제공하며, `data` 와 `target` 자체가 numpy.ndarray 로 정제되어 있습니다. 이를 pandas DataFrame 으로 변환하여 데이터를 살펴봅니다."
   ]
  },
  {
   "cell_type": "code",
   "execution_count": 1,
   "metadata": {},
   "outputs": [
    {
     "name": "stdout",
     "output_type": "stream",
     "text": [
      "iris keys = dict_keys(['data', 'target', 'target_names', 'DESCR', 'feature_names', 'filename'])\n"
     ]
    },
    {
     "data": {
      "text/html": [
       "<div>\n",
       "<style scoped>\n",
       "    .dataframe tbody tr th:only-of-type {\n",
       "        vertical-align: middle;\n",
       "    }\n",
       "\n",
       "    .dataframe tbody tr th {\n",
       "        vertical-align: top;\n",
       "    }\n",
       "\n",
       "    .dataframe thead th {\n",
       "        text-align: right;\n",
       "    }\n",
       "</style>\n",
       "<table border=\"1\" class=\"dataframe\">\n",
       "  <thead>\n",
       "    <tr style=\"text-align: right;\">\n",
       "      <th></th>\n",
       "      <th>sepal_length</th>\n",
       "      <th>sepal_width</th>\n",
       "      <th>petal_length</th>\n",
       "      <th>petal_width</th>\n",
       "      <th>labels</th>\n",
       "    </tr>\n",
       "  </thead>\n",
       "  <tbody>\n",
       "    <tr>\n",
       "      <th>0</th>\n",
       "      <td>5.1</td>\n",
       "      <td>3.5</td>\n",
       "      <td>1.4</td>\n",
       "      <td>0.2</td>\n",
       "      <td>0</td>\n",
       "    </tr>\n",
       "    <tr>\n",
       "      <th>1</th>\n",
       "      <td>4.9</td>\n",
       "      <td>3.0</td>\n",
       "      <td>1.4</td>\n",
       "      <td>0.2</td>\n",
       "      <td>0</td>\n",
       "    </tr>\n",
       "    <tr>\n",
       "      <th>2</th>\n",
       "      <td>4.7</td>\n",
       "      <td>3.2</td>\n",
       "      <td>1.3</td>\n",
       "      <td>0.2</td>\n",
       "      <td>0</td>\n",
       "    </tr>\n",
       "    <tr>\n",
       "      <th>3</th>\n",
       "      <td>4.6</td>\n",
       "      <td>3.1</td>\n",
       "      <td>1.5</td>\n",
       "      <td>0.2</td>\n",
       "      <td>0</td>\n",
       "    </tr>\n",
       "    <tr>\n",
       "      <th>4</th>\n",
       "      <td>5.0</td>\n",
       "      <td>3.6</td>\n",
       "      <td>1.4</td>\n",
       "      <td>0.2</td>\n",
       "      <td>0</td>\n",
       "    </tr>\n",
       "  </tbody>\n",
       "</table>\n",
       "</div>"
      ],
      "text/plain": [
       "   sepal_length  sepal_width  petal_length  petal_width  labels\n",
       "0           5.1          3.5           1.4          0.2       0\n",
       "1           4.9          3.0           1.4          0.2       0\n",
       "2           4.7          3.2           1.3          0.2       0\n",
       "3           4.6          3.1           1.5          0.2       0\n",
       "4           5.0          3.6           1.4          0.2       0"
      ]
     },
     "execution_count": 1,
     "metadata": {},
     "output_type": "execute_result"
    }
   ],
   "source": [
    "%matplotlib inline\n",
    "\n",
    "import pandas as pd\n",
    "import numpy as np\n",
    "import matplotlib.pyplot as plt\n",
    "import umap\n",
    "from sklearn.datasets import load_iris\n",
    "\n",
    "iris = load_iris()\n",
    "print(f'iris keys = {iris.keys()}')\n",
    "\n",
    "X = iris['data']\n",
    "labels = iris['target']\n",
    "\n",
    "# ['sepal length (cm)', 'sepal width (cm)', 'petal length (cm)', 'petal width (cm)']\n",
    "columns = [name[:-5].replace(' ', '_') for name in iris['feature_names']]\n",
    "iris_df = pd.DataFrame(data=iris.data, columns=columns)\n",
    "iris_df['labels'] = labels\n",
    "iris_df.head(5)"
   ]
  },
  {
   "cell_type": "markdown",
   "metadata": {},
   "source": [
    "데이터마다 스캐일에 차이가 있습니다. 이를 min-max scaler 를 이용하여 이를 정규화 합니다."
   ]
  },
  {
   "cell_type": "code",
   "execution_count": 2,
   "metadata": {},
   "outputs": [
    {
     "data": {
      "text/plain": [
       "array([[0.22222222, 0.625     , 0.06779661, 0.04166667],\n",
       "       [0.16666667, 0.41666667, 0.06779661, 0.04166667]])"
      ]
     },
     "execution_count": 2,
     "metadata": {},
     "output_type": "execute_result"
    }
   ],
   "source": [
    "from sklearn.preprocessing import MinMaxScaler\n",
    "\n",
    "scaler = MinMaxScaler(feature_range=(0, 1))\n",
    "X = scaler.fit_transform(X)\n",
    "X[:2]"
   ]
  },
  {
   "cell_type": "markdown",
   "metadata": {},
   "source": [
    "UMAP 을 이용하여 4차원의 데이터를 2차원으로 구분합니다. `target_weight` 를 설정하면 labels 의 영향력을 조절할 수 있습니다."
   ]
  },
  {
   "cell_type": "code",
   "execution_count": 3,
   "metadata": {},
   "outputs": [
    {
     "name": "stderr",
     "output_type": "stream",
     "text": [
      "/home/lovit/anaconda3/envs/pytorch/lib/python3.7/site-packages/umap/spectral.py:229: UserWarning: Embedding a total of 2 separate connected components using meta-embedding (experimental)\n",
      "  n_components\n"
     ]
    },
    {
     "data": {
      "image/png": "[encoded data removed]",
      "text/plain": [
       "<Figure size 432x360 with 2 Axes>"
      ]
     },
     "metadata": {
      "needs_background": "light"
     },
     "output_type": "display_data"
    }
   ],
   "source": [
    "import umap\n",
    "\n",
    "xy = umap.UMAP(n_neighbors=10, target_weight=0.1).fit_transform(X, y=labels)\n",
    "\n",
    "def draw(xy, classes, color, title):    \n",
    "    fig, ax = plt.subplots(1, figsize=(6, 5))\n",
    "    plt.scatter(xy[:,0], xy[:,1], s=10, c=color, alpha=1.0)\n",
    "    plt.setp(ax, xticks=[], yticks=[])\n",
    "    cbar = plt.colorbar(boundaries=np.arange(11)-0.5)\n",
    "    cbar.set_ticks(np.arange(10))\n",
    "    cbar.set_ticklabels(classes)\n",
    "    plt.title(title)\n",
    "    return fig\n",
    "\n",
    "classes = list(iris.target_names)\n",
    "title = 'UMAP: Iris data'\n",
    "fig = draw(xy, classes, labels, title)"
   ]
  },
  {
   "cell_type": "markdown",
   "metadata": {},
   "source": [
    "그런데 레이블 정보를 이용하지 않아도 PCA 를 통하여 2차원 벡터를 학습해보니 종별로 어느 정도 구분이 됩니다. 즉 PCA 를 이용하여 변수를 2개로 줄이더라도 classifier models 이 잘 학습될 가능성이 높습니다."
   ]
  },
  {
   "cell_type": "code",
   "execution_count": 4,
   "metadata": {},
   "outputs": [
    {
     "data": {
      "image/png": "[encoded data removed]",
      "text/plain": [
       "<Figure size 432x360 with 2 Axes>"
      ]
     },
     "metadata": {
      "needs_background": "light"
     },
     "output_type": "display_data"
    }
   ],
   "source": [
    "from sklearn.decomposition import PCA\n",
    "\n",
    "xy = PCA(n_components=2).fit_transform(X)\n",
    "title = 'PCA: Iris data'\n",
    "fig = draw(xy, classes, labels, title)"
   ]
  },
  {
   "cell_type": "markdown",
   "metadata": {},
   "source": [
    "t-SNE 를 이용하여 학습한 경우에도 어느 정도 클래스가 구분되어 2차원 벡터로 표현됩니다. 즉 Iris data 는 판별 문제에 매우 쉬운 데이터라는 의미입니다."
   ]
  },
  {
   "cell_type": "code",
   "execution_count": 5,
   "metadata": {},
   "outputs": [
    {
     "data": {
      "image/png": "[encoded data removed]",
      "text/plain": [
       "<Figure size 432x360 with 2 Axes>"
      ]
     },
     "metadata": {
      "needs_background": "light"
     },
     "output_type": "display_data"
    }
   ],
   "source": [
    "from sklearn.manifold import TSNE\n",
    "\n",
    "xy = TSNE(n_components=2, perplexity=30).fit_transform(X)\n",
    "title = 't-SNE: Iris data (perp=30)'\n",
    "fig = draw(xy, classes, labels, title)"
   ]
  },
  {
   "cell_type": "markdown",
   "metadata": {},
   "source": [
    "Perplexity 를 아주 작게 줄여보니 그 구분이 조금 약하고, 몇몇 점들이 튕겨져 나가듯이 그림이 그려집니다. 이는 perplexity 의 수치가 매우 작기 때문에 임베딩 모델이 잘 학습되지 않은 것입니다."
   ]
  },
  {
   "cell_type": "code",
   "execution_count": 6,
   "metadata": {},
   "outputs": [
    {
     "data": {
      "image/png": "[encoded data removed]",
      "text/plain": [
       "<Figure size 432x360 with 2 Axes>"
      ]
     },
     "metadata": {
      "needs_background": "light"
     },
     "output_type": "display_data"
    }
   ],
   "source": [
    "from sklearn.manifold import TSNE\n",
    "\n",
    "np.random.seed(2)\n",
    "xy = TSNE(n_components=2, perplexity=3).fit_transform(X)\n",
    "title = 't-SNE: Iris data (perp=3)'\n",
    "fig = draw(xy, classes, labels, title)"
   ]
  },
  {
   "cell_type": "markdown",
   "metadata": {},
   "source": [
    "`labels` 와 `classes` 의 변수값이 무엇인지 확인을 합니다."
   ]
  },
  {
   "cell_type": "code",
   "execution_count": 7,
   "metadata": {},
   "outputs": [
    {
     "name": "stdout",
     "output_type": "stream",
     "text": [
      "[0 0 0]\n",
      "['setosa', 'versicolor', 'virginica']\n"
     ]
    }
   ],
   "source": [
    "print(labels[:3])\n",
    "print(classes[:3])"
   ]
  },
  {
   "cell_type": "markdown",
   "metadata": {},
   "source": [
    "Seaborn 대신 Bokeh 를 이용하여 plotting 을 할 준비를 합니다. 아래의 코드는 Bokeh 를 이용하여 그림을 그릴 때 중요한 개념이 많이 포함되어 있습니다. 첫째 `output_notebook()` 은 IPython notebook 에서 한 번 이상 실행해야 합니다. 이는 `%matplotlib inline` 처럼 notebook 에 그림을 출력하겠다고 선언하는 부분입니다. 정상적으로 실행이 되면 아래와 같은 메시지가 출력됩니다.\n",
    "\n",
    "```\n",
    " BokehJS 1.4.0 successfully loaded.\n",
    "```\n",
    "\n",
    "Bokeh 는 명시적으로 그림을 그릴 도화지 p 를 figure() 함수를 이용하여 준비합니다. height, width, title 외에도 다양한 값을 입력할 수 있습니다. 이 때 `tooltips` 를 만들 수도 있고, 혹은 이용하지 않을 수도 있습니다. Bokeh 의 장점 중 하나인 Hover tool 을 이용하기 위하여 tooltips 를 준비해 봅니다. 이 값의 의미는 만들어진 그림에 마우스를 올려보면 곧바로 알게 됩니다.\n",
    "\n",
    "color code 는 'white', 'lightgrey' 처럼 색의 이름을 입력하거나 '#ad1313' 처럼 HTML color code 를 입력할 수도 있습니다. 혹은 이러한 color code 가 미리 준비되어 있는 palettes 를 이용할 수도 있습니다. 이에 대해서는 `bokeh palettes` 로 구글링을 해보시기 바랍니다. 처음 검색되는 페이지를 보시면 색상 예시를 볼 수 있습니다.\n",
    "\n",
    "ColumnDataSource 는 seaborn 에서 pandas.DataFrame 을 입력하는 것처럼 테이블 형식으로 구성된 데이터 입니다. 그리고 도화지 위에 `scatter()` 함수를 실행시킵니다. 이 역시 seaborn 의 `relplot()` 함수처럼 source 를 입력하고 scatter 함수가 필요한 인자의 이름을 scatter(x='x') 처럼 입력하면 됩니다. 혹은 `alpha=0.7` 처럼 몇몇 값은 직접 입력해도 됩니다."
   ]
  },
  {
   "cell_type": "code",
   "execution_count": 8,
   "metadata": {},
   "outputs": [
    {
     "data": {
      "text/html": [
       "\n",
       "    <div class=\"bk-root\">\n",
       "        <a href=\"https://bokeh.org\" target=\"_blank\" class=\"bk-logo bk-logo-small bk-logo-notebook\"></a>\n",
       "        <span id=\"1001\">Loading BokehJS ...</span>\n",
       "    </div>"
      ]
     },
     "metadata": {},
     "output_type": "display_data"
    },
    {
     "data": {
      "application/javascript": [
       "\n",
       "(function(root) {\n",
       "  function now() {\n",
       "    return new Date();\n",
       "  }\n",
       "\n",
       "  var force = true;\n",
       "\n",
       "  if (typeof root._bokeh_onload_callbacks === \"undefined\" || force === true) {\n",
       "    root._bokeh_onload_callbacks = [];\n",
       "    root._bokeh_is_loading = undefined;\n",
       "  }\n",
       "\n",
       "  var JS_MIME_TYPE = 'application/javascript';\n",
       "  var HTML_MIME_TYPE = 'text/html';\n",
       "  var EXEC_MIME_TYPE = 'application/vnd.bokehjs_exec.v0+json';\n",
       "  var CLASS_NAME = 'output_bokeh rendered_html';\n",
       "\n",
       "  /**\n",
       "   * Render data to the DOM node\n",
       "   */\n",
       "  function render(props, node) {\n",
       "    var script = document.createElement(\"script\");\n",
       "    node.appendChild(script);\n",
       "  }\n",
       "\n",
       "  /**\n",
       "   * Handle when an output is cleared or removed\n",
       "   */\n",
       "  function handleClearOutput(event, handle) {\n",
       "    var cell = handle.cell;\n",
       "\n",
       "    var id = cell.output_area._bokeh_element_id;\n",
       "    var server_id = cell.output_area._bokeh_server_id;\n",
       "    // Clean up Bokeh references\n",
       "    if (id != null && id in Bokeh.index) {\n",
       "      Bokeh.index[id].model.document.clear();\n",
       "      delete Bokeh.index[id];\n",
       "    }\n",
       "\n",
       "    if (server_id !== undefined) {\n",
       "      // Clean up Bokeh references\n",
       "      var cmd = \"from bokeh.io.state import curstate; print(curstate().uuid_to_server['\" + server_id + \"'].get_sessions()[0].document.roots[0]._id)\";\n",
       "      cell.notebook.kernel.execute(cmd, {\n",
       "        iopub: {\n",
       "          output: function(msg) {\n",
       "            var id = msg.content.text.trim();\n",
       "            if (id in Bokeh.index) {\n",
       "              Bokeh.index[id].model.document.clear();\n",
       "              delete Bokeh.index[id];\n",
       "            }\n",
       "          }\n",
       "        }\n",
       "      });\n",
       "      // Destroy server and session\n",
       "      var cmd = \"import bokeh.io.notebook as ion; ion.destroy_server('\" + server_id + \"')\";\n",
       "      cell.notebook.kernel.execute(cmd);\n",
       "    }\n",
       "  }\n",
       "\n",
       "  /**\n",
       "   * Handle when a new output is added\n",
       "   */\n",
       "  function handleAddOutput(event, handle) {\n",
       "    var output_area = handle.output_area;\n",
       "    var output = handle.output;\n",
       "\n",
       "    // limit handleAddOutput to display_data with EXEC_MIME_TYPE content only\n",
       "    if ((output.output_type != \"display_data\") || (!output.data.hasOwnProperty(EXEC_MIME_TYPE))) {\n",
       "      return\n",
       "    }\n",
       "\n",
       "    var toinsert = output_area.element.find(\".\" + CLASS_NAME.split(' ')[0]);\n",
       "\n",
       "    if (output.metadata[EXEC_MIME_TYPE][\"id\"] !== undefined) {\n",
       "      toinsert[toinsert.length - 1].firstChild.textContent = output.data[JS_MIME_TYPE];\n",
       "      // store reference to embed id on output_area\n",
       "      output_area._bokeh_element_id = output.metadata[EXEC_MIME_TYPE][\"id\"];\n",
       "    }\n",
       "    if (output.metadata[EXEC_MIME_TYPE][\"server_id\"] !== undefined) {\n",
       "      var bk_div = document.createElement(\"div\");\n",
       "      bk_div.innerHTML = output.data[HTML_MIME_TYPE];\n",
       "      var script_attrs = bk_div.children[0].attributes;\n",
       "      for (var i = 0; i < script_attrs.length; i++) {\n",
       "        toinsert[toinsert.length - 1].firstChild.setAttribute(script_attrs[i].name, script_attrs[i].value);\n",
       "      }\n",
       "      // store reference to server id on output_area\n",
       "      output_area._bokeh_server_id = output.metadata[EXEC_MIME_TYPE][\"server_id\"];\n",
       "    }\n",
       "  }\n",
       "\n",
       "  function register_renderer(events, OutputArea) {\n",
       "\n",
       "    function append_mime(data, metadata, element) {\n",
       "      // create a DOM node to render to\n",
       "      var toinsert = this.create_output_subarea(\n",
       "        metadata,\n",
       "        CLASS_NAME,\n",
       "        EXEC_MIME_TYPE\n",
       "      );\n",
       "      this.keyboard_manager.register_events(toinsert);\n",
       "      // Render to node\n",
       "      var props = {data: data, metadata: metadata[EXEC_MIME_TYPE]};\n",
       "      render(props, toinsert[toinsert.length - 1]);\n",
       "      element.append(toinsert);\n",
       "      return toinsert\n",
       "    }\n",
       "\n",
       "    /* Handle when an output is cleared or removed */\n",
       "    events.on('clear_output.CodeCell', handleClearOutput);\n",
       "    events.on('delete.Cell', handleClearOutput);\n",
       "\n",
       "    /* Handle when a new output is added */\n",
       "    events.on('output_added.OutputArea', handleAddOutput);\n",
       "\n",
       "    /**\n",
       "     * Register the mime type and append_mime function with output_area\n",
       "     */\n",
       "    OutputArea.prototype.register_mime_type(EXEC_MIME_TYPE, append_mime, {\n",
       "      /* Is output safe? */\n",
       "      safe: true,\n",
       "      /* Index of renderer in `output_area.display_order` */\n",
       "      index: 0\n",
       "    });\n",
       "  }\n",
       "\n",
       "  // register the mime type if in Jupyter Notebook environment and previously unregistered\n",
       "  if (root.Jupyter !== undefined) {\n",
       "    var events = require('base/js/events');\n",
       "    var OutputArea = require('notebook/js/outputarea').OutputArea;\n",
       "\n",
       "    if (OutputArea.prototype.mime_types().indexOf(EXEC_MIME_TYPE) == -1) {\n",
       "      register_renderer(events, OutputArea);\n",
       "    }\n",
       "  }\n",
       "\n",
       "  \n",
       "  if (typeof (root._bokeh_timeout) === \"undefined\" || force === true) {\n",
       "    root._bokeh_timeout = Date.now() + 5000;\n",
       "    root._bokeh_failed_load = false;\n",
       "  }\n",
       "\n",
       "  var NB_LOAD_WARNING = {'data': {'text/html':\n",
       "     \"<div style='background-color: #fdd'>\\n\"+\n",
       "     \"<p>\\n\"+\n",
       "     \"BokehJS does not appear to have successfully loaded. If loading BokehJS from CDN, this \\n\"+\n",
       "     \"may be due to a slow or bad network connection. Possible fixes:\\n\"+\n",
       "     \"</p>\\n\"+\n",
       "     \"<ul>\\n\"+\n",
       "     \"<li>re-rerun `output_notebook()` to attempt to load from CDN again, or</li>\\n\"+\n",
       "     \"<li>use INLINE resources instead, as so:</li>\\n\"+\n",
       "     \"</ul>\\n\"+\n",
       "     \"<code>\\n\"+\n",
       "     \"from bokeh.resources import INLINE\\n\"+\n",
       "     \"output_notebook(resources=INLINE)\\n\"+\n",
       "     \"</code>\\n\"+\n",
       "     \"</div>\"}};\n",
       "\n",
       "  function display_loaded() {\n",
       "    var el = document.getElementById(\"1001\");\n",
       "    if (el != null) {\n",
       "      el.textContent = \"BokehJS is loading...\";\n",
       "    }\n",
       "    if (root.Bokeh !== undefined) {\n",
       "      if (el != null) {\n",
       "        el.textContent = \"BokehJS \" + root.Bokeh.version + \" successfully loaded.\";\n",
       "      }\n",
       "    } else if (Date.now() < root._bokeh_timeout) {\n",
       "      setTimeout(display_loaded, 100)\n",
       "    }\n",
       "  }\n",
       "\n",
       "\n",
       "  function run_callbacks() {\n",
       "    try {\n",
       "      root._bokeh_onload_callbacks.forEach(function(callback) {\n",
       "        if (callback != null)\n",
       "          callback();\n",
       "      });\n",
       "    } finally {\n",
       "      delete root._bokeh_onload_callbacks\n",
       "    }\n",
       "    console.debug(\"Bokeh: all callbacks have finished\");\n",
       "  }\n",
       "\n",
       "  function load_libs(css_urls, js_urls, callback) {\n",
       "    if (css_urls == null) css_urls = [];\n",
       "    if (js_urls == null) js_urls = [];\n",
       "\n",
       "    root._bokeh_onload_callbacks.push(callback);\n",
       "    if (root._bokeh_is_loading > 0) {\n",
       "      console.debug(\"Bokeh: BokehJS is being loaded, scheduling callback at\", now());\n",
       "      return null;\n",
       "    }\n",
       "    if (js_urls == null || js_urls.length === 0) {\n",
       "      run_callbacks();\n",
       "      return null;\n",
       "    }\n",
       "    console.debug(\"Bokeh: BokehJS not loaded, scheduling load and callback at\", now());\n",
       "    root._bokeh_is_loading = css_urls.length + js_urls.length;\n",
       "\n",
       "    function on_load() {\n",
       "      root._bokeh_is_loading--;\n",
       "      if (root._bokeh_is_loading === 0) {\n",
       "        console.debug(\"Bokeh: all BokehJS libraries/stylesheets loaded\");\n",
       "        run_callbacks()\n",
       "      }\n",
       "    }\n",
       "\n",
       "    function on_error() {\n",
       "      console.error(\"failed to load \" + url);\n",
       "    }\n",
       "\n",
       "    for (var i = 0; i < css_urls.length; i++) {\n",
       "      var url = css_urls[i];\n",
       "      const element = document.createElement(\"link\");\n",
       "      element.onload = on_load;\n",
       "      element.onerror = on_error;\n",
       "      element.rel = \"stylesheet\";\n",
       "      element.type = \"text/css\";\n",
       "      element.href = url;\n",
       "      console.debug(\"Bokeh: injecting link tag for BokehJS stylesheet: \", url);\n",
       "      document.body.appendChild(element);\n",
       "    }\n",
       "\n",
       "    for (var i = 0; i < js_urls.length; i++) {\n",
       "      var url = js_urls[i];\n",
       "      var element = document.createElement('script');\n",
       "      element.onload = on_load;\n",
       "      element.onerror = on_error;\n",
       "      element.async = false;\n",
       "      element.src = url;\n",
       "      console.debug(\"Bokeh: injecting script tag for BokehJS library: \", url);\n",
       "      document.head.appendChild(element);\n",
       "    }\n",
       "  };var element = document.getElementById(\"1001\");\n",
       "  if (element == null) {\n",
       "    console.error(\"Bokeh: ERROR: autoload.js configured with elementid '1001' but no matching script tag was found. \")\n",
       "    return false;\n",
       "  }\n",
       "\n",
       "  function inject_raw_css(css) {\n",
       "    const element = document.createElement(\"style\");\n",
       "    element.appendChild(document.createTextNode(css));\n",
       "    document.body.appendChild(element);\n",
       "  }\n",
       "\n",
       "  \n",
       "  var js_urls = [\"https://cdn.pydata.org/bokeh/release/bokeh-1.4.0.min.js\", \"https://cdn.pydata.org/bokeh/release/bokeh-widgets-1.4.0.min.js\", \"https://cdn.pydata.org/bokeh/release/bokeh-tables-1.4.0.min.js\", \"https://cdn.pydata.org/bokeh/release/bokeh-gl-1.4.0.min.js\"];\n",
       "  var css_urls = [];\n",
       "  \n",
       "\n",
       "  var inline_js = [\n",
       "    function(Bokeh) {\n",
       "      Bokeh.set_log_level(\"info\");\n",
       "    },\n",
       "    function(Bokeh) {\n",
       "    \n",
       "    \n",
       "    }\n",
       "  ];\n",
       "\n",
       "  function run_inline_js() {\n",
       "    \n",
       "    if (root.Bokeh !== undefined || force === true) {\n",
       "      \n",
       "    for (var i = 0; i < inline_js.length; i++) {\n",
       "      inline_js[i].call(root, root.Bokeh);\n",
       "    }\n",
       "    if (force === true) {\n",
       "        display_loaded();\n",
       "      }} else if (Date.now() < root._bokeh_timeout) {\n",
       "      setTimeout(run_inline_js, 100);\n",
       "    } else if (!root._bokeh_failed_load) {\n",
       "      console.log(\"Bokeh: BokehJS failed to load within specified timeout.\");\n",
       "      root._bokeh_failed_load = true;\n",
       "    } else if (force !== true) {\n",
       "      var cell = $(document.getElementById(\"1001\")).parents('.cell').data().cell;\n",
       "      cell.output_area.append_execute_result(NB_LOAD_WARNING)\n",
       "    }\n",
       "\n",
       "  }\n",
       "\n",
       "  if (root._bokeh_is_loading === 0) {\n",
       "    console.debug(\"Bokeh: BokehJS loaded, going straight to plotting\");\n",
       "    run_inline_js();\n",
       "  } else {\n",
       "    load_libs(css_urls, js_urls, function() {\n",
       "      console.debug(\"Bokeh: BokehJS plotting callback run at\", now());\n",
       "      run_inline_js();\n",
       "    });\n",
       "  }\n",
       "}(window));"
      ],
      "application/vnd.bokehjs_load.v0+json": "\n(function(root) {\n  function now() {\n    return new Date();\n  }\n\n  var force = true;\n\n  if (typeof root._bokeh_onload_callbacks === \"undefined\" || force === true) {\n    root._bokeh_onload_callbacks = [];\n    root._bokeh_is_loading = undefined;\n  }\n\n  \n\n  \n  if (typeof (root._bokeh_timeout) === \"undefined\" || force === true) {\n    root._bokeh_timeout = Date.now() + 5000;\n    root._bokeh_failed_load = false;\n  }\n\n  var NB_LOAD_WARNING = {'data': {'text/html':\n     \"<div style='background-color: #fdd'>\\n\"+\n     \"<p>\\n\"+\n     \"BokehJS does not appear to have successfully loaded. If loading BokehJS from CDN, this \\n\"+\n     \"may be due to a slow or bad network connection. Possible fixes:\\n\"+\n     \"</p>\\n\"+\n     \"<ul>\\n\"+\n     \"<li>re-rerun `output_notebook()` to attempt to load from CDN again, or</li>\\n\"+\n     \"<li>use INLINE resources instead, as so:</li>\\n\"+\n     \"</ul>\\n\"+\n     \"<code>\\n\"+\n     \"from bokeh.resources import INLINE\\n\"+\n     \"output_notebook(resources=INLINE)\\n\"+\n     \"</code>\\n\"+\n     \"</div>\"}};\n\n  function display_loaded() {\n    var el = document.getElementById(\"1001\");\n    if (el != null) {\n      el.textContent = \"BokehJS is loading...\";\n    }\n    if (root.Bokeh !== undefined) {\n      if (el != null) {\n        el.textContent = \"BokehJS \" + root.Bokeh.version + \" successfully loaded.\";\n      }\n    } else if (Date.now() < root._bokeh_timeout) {\n      setTimeout(display_loaded, 100)\n    }\n  }\n\n\n  function run_callbacks() {\n    try {\n      root._bokeh_onload_callbacks.forEach(function(callback) {\n        if (callback != null)\n          callback();\n      });\n    } finally {\n      delete root._bokeh_onload_callbacks\n    }\n    console.debug(\"Bokeh: all callbacks have finished\");\n  }\n\n  function load_libs(css_urls, js_urls, callback) {\n    if (css_urls == null) css_urls = [];\n    if (js_urls == null) js_urls = [];\n\n    root._bokeh_onload_callbacks.push(callback);\n    if (root._bokeh_is_loading > 0) {\n      console.debug(\"Bokeh: BokehJS is being loaded, scheduling callback at\", now());\n      return null;\n    }\n    if (js_urls == null || js_urls.length === 0) {\n      run_callbacks();\n      return null;\n    }\n    console.debug(\"Bokeh: BokehJS not loaded, scheduling load and callback at\", now());\n    root._bokeh_is_loading = css_urls.length + js_urls.length;\n\n    function on_load() {\n      root._bokeh_is_loading--;\n      if (root._bokeh_is_loading === 0) {\n        console.debug(\"Bokeh: all BokehJS libraries/stylesheets loaded\");\n        run_callbacks()\n      }\n    }\n\n    function on_error() {\n      console.error(\"failed to load \" + url);\n    }\n\n    for (var i = 0; i < css_urls.length; i++) {\n      var url = css_urls[i];\n      const element = document.createElement(\"link\");\n      element.onload = on_load;\n      element.onerror = on_error;\n      element.rel = \"stylesheet\";\n      element.type = \"text/css\";\n      element.href = url;\n      console.debug(\"Bokeh: injecting link tag for BokehJS stylesheet: \", url);\n      document.body.appendChild(element);\n    }\n\n    for (var i = 0; i < js_urls.length; i++) {\n      var url = js_urls[i];\n      var element = document.createElement('script');\n      element.onload = on_load;\n      element.onerror = on_error;\n      element.async = false;\n      element.src = url;\n      console.debug(\"Bokeh: injecting script tag for BokehJS library: \", url);\n      document.head.appendChild(element);\n    }\n  };var element = document.getElementById(\"1001\");\n  if (element == null) {\n    console.error(\"Bokeh: ERROR: autoload.js configured with elementid '1001' but no matching script tag was found. \")\n    return false;\n  }\n\n  function inject_raw_css(css) {\n    const element = document.createElement(\"style\");\n    element.appendChild(document.createTextNode(css));\n    document.body.appendChild(element);\n  }\n\n  \n  var js_urls = [\"https://cdn.pydata.org/bokeh/release/bokeh-1.4.0.min.js\", \"https://cdn.pydata.org/bokeh/release/bokeh-widgets-1.4.0.min.js\", \"https://cdn.pydata.org/bokeh/release/bokeh-tables-1.4.0.min.js\", \"https://cdn.pydata.org/bokeh/release/bokeh-gl-1.4.0.min.js\"];\n  var css_urls = [];\n  \n\n  var inline_js = [\n    function(Bokeh) {\n      Bokeh.set_log_level(\"info\");\n    },\n    function(Bokeh) {\n    \n    \n    }\n  ];\n\n  function run_inline_js() {\n    \n    if (root.Bokeh !== undefined || force === true) {\n      \n    for (var i = 0; i < inline_js.length; i++) {\n      inline_js[i].call(root, root.Bokeh);\n    }\n    if (force === true) {\n        display_loaded();\n      }} else if (Date.now() < root._bokeh_timeout) {\n      setTimeout(run_inline_js, 100);\n    } else if (!root._bokeh_failed_load) {\n      console.log(\"Bokeh: BokehJS failed to load within specified timeout.\");\n      root._bokeh_failed_load = true;\n    } else if (force !== true) {\n      var cell = $(document.getElementById(\"1001\")).parents('.cell').data().cell;\n      cell.output_area.append_execute_result(NB_LOAD_WARNING)\n    }\n\n  }\n\n  if (root._bokeh_is_loading === 0) {\n    console.debug(\"Bokeh: BokehJS loaded, going straight to plotting\");\n    run_inline_js();\n  } else {\n    load_libs(css_urls, js_urls, function() {\n      console.debug(\"Bokeh: BokehJS plotting callback run at\", now());\n      run_inline_js();\n    });\n  }\n}(window));"
     },
     "metadata": {},
     "output_type": "display_data"
    }
   ],
   "source": [
    "from bokeh.palettes import Spectral\n",
    "from bokeh.plotting import output_notebook, show, figure\n",
    "from bokeh.io import save\n",
    "from bokeh.models import ColumnDataSource\n",
    "\n",
    "\n",
    "output_notebook()\n",
    "\n",
    "def draw_bokeh(xy, classes, labels, title=None, p=None):\n",
    "    if p is None:\n",
    "        tooltips = [\n",
    "            # (field name, value)\n",
    "            # @는 source 내 변수 이름, $는 plotting 에서 사용하는 변수 이름\n",
    "            (\"data index\", \"$index point\"),\n",
    "            (\"class\", \"@class\"),\n",
    "            (\"(x, y)\", \"($x, $y)\")\n",
    "        ]\n",
    "        p = figure(height=400, width=400, title=title, tooltips=tooltips)\n",
    "\n",
    "    # prepare colormaps\n",
    "    n_classes = len(classes)\n",
    "    colormap = Spectral[n_classes]\n",
    "\n",
    "    x = xy[:,0]\n",
    "    y = xy[:,1]\n",
    "    color = [colormap[l] for l in labels]\n",
    "    class_name = [classes[l] for l in labels]\n",
    "\n",
    "    # like pandas.DataFrame\n",
    "    source = ColumnDataSource({\n",
    "        'x': x, 'y': y, 'color': color, 'class': class_name\n",
    "    })\n",
    "\n",
    "    p.scatter(x='x', y='y', fill_color='color', line_color=None, source=source, alpha=0.7)\n",
    "    return p"
   ]
  },
  {
   "cell_type": "markdown",
   "metadata": {},
   "source": [
    "앞서 만든 함수를 이용하여 그림을 그려봅니다. 그 뒤 show 함수에 Figure 를 입력하면 그림이 출력됩니다."
   ]
  },
  {
   "cell_type": "code",
   "execution_count": 9,
   "metadata": {},
   "outputs": [
    {
     "data": {
      "text/html": [
       "\n",
       "\n",
       "\n",
       "\n",
       "\n",
       "\n",
       "  <div class=\"bk-root\" id=\"fdb36b08-418d-494a-ad9b-b86016c9ee4a\" data-root-id=\"1002\"></div>\n"
      ]
     },
     "metadata": {},
     "output_type": "display_data"
    },
    {
     "data": {
      "application/javascript": [
       "(function(root) {\n",
       "  function embed_document(root) {\n",
       "    \n",
       "  var docs_json = {\"5a0542e7-c839-4783-9378-96adaef468d4\":{\"roots\":{\"references\":[{\"attributes\":{\"below\":[{\"id\":\"1013\",\"type\":\"LinearAxis\"}],\"center\":[{\"id\":\"1017\",\"type\":\"Grid\"},{\"id\":\"1022\",\"type\":\"Grid\"}],\"left\":[{\"id\":\"1018\",\"type\":\"LinearAxis\"}],\"plot_height\":400,\"plot_width\":400,\"renderers\":[{\"id\":\"1042\",\"type\":\"GlyphRenderer\"}],\"title\":{\"id\":\"1003\",\"type\":\"Title\"},\"toolbar\":{\"id\":\"1030\",\"type\":\"Toolbar\"},\"x_range\":{\"id\":\"1005\",\"type\":\"DataRange1d\"},\"x_scale\":{\"id\":\"1009\",\"type\":\"LinearScale\"},\"y_range\":{\"id\":\"1007\",\"type\":\"DataRange1d\"},\"y_scale\":{\"id\":\"1011\",\"type\":\"LinearScale\"}},\"id\":\"1002\",\"subtype\":\"Figure\",\"type\":\"Plot\"},{\"attributes\":{\"fill_alpha\":{\"value\":0.1},\"fill_color\":{\"value\":\"#1f77b4\"},\"line_alpha\":{\"value\":0.1},\"line_color\":{\"value\":\"#1f77b4\"},\"x\":{\"field\":\"x\"},\"y\":{\"field\":\"y\"}},\"id\":\"1041\",\"type\":\"Scatter\"},{\"attributes\":{\"formatter\":{\"id\":\"1048\",\"type\":\"BasicTickFormatter\"},\"ticker\":{\"id\":\"1014\",\"type\":\"BasicTicker\"}},\"id\":\"1013\",\"type\":\"LinearAxis\"},{\"attributes\":{\"callback\":null},\"id\":\"1005\",\"type\":\"DataRange1d\"},{\"attributes\":{\"data_source\":{\"id\":\"1038\",\"type\":\"ColumnDataSource\"},\"glyph\":{\"id\":\"1040\",\"type\":\"Scatter\"},\"hover_glyph\":null,\"muted_glyph\":null,\"nonselection_glyph\":{\"id\":\"1041\",\"type\":\"Scatter\"},\"selection_glyph\":null,\"view\":{\"id\":\"1043\",\"type\":\"CDSView\"}},\"id\":\"1042\",\"type\":\"GlyphRenderer\"},{\"attributes\":{\"callback\":null},\"id\":\"1007\",\"type\":\"DataRange1d\"},{\"attributes\":{\"callback\":null,\"tooltips\":[[\"data index\",\"$index point\"],[\"class\",\"@class\"],[\"(x, y)\",\"($x, $y)\"]]},\"id\":\"1029\",\"type\":\"HoverTool\"},{\"attributes\":{},\"id\":\"1009\",\"type\":\"LinearScale\"},{\"attributes\":{},\"id\":\"1048\",\"type\":\"BasicTickFormatter\"},{\"attributes\":{},\"id\":\"1011\",\"type\":\"LinearScale\"},{\"attributes\":{\"source\":{\"id\":\"1038\",\"type\":\"ColumnDataSource\"}},\"id\":\"1043\",\"type\":\"CDSView\"},{\"attributes\":{},\"id\":\"1019\",\"type\":\"BasicTicker\"},{\"attributes\":{\"bottom_units\":\"screen\",\"fill_alpha\":{\"value\":0.5},\"fill_color\":{\"value\":\"lightgrey\"},\"left_units\":\"screen\",\"level\":\"overlay\",\"line_alpha\":{\"value\":1.0},\"line_color\":{\"value\":\"black\"},\"line_dash\":[4,4],\"line_width\":{\"value\":2},\"render_mode\":\"css\",\"right_units\":\"screen\",\"top_units\":\"screen\"},\"id\":\"1051\",\"type\":\"BoxAnnotation\"},{\"attributes\":{\"formatter\":{\"id\":\"1046\",\"type\":\"BasicTickFormatter\"},\"ticker\":{\"id\":\"1019\",\"type\":\"BasicTicker\"}},\"id\":\"1018\",\"type\":\"LinearAxis\"},{\"attributes\":{},\"id\":\"1014\",\"type\":\"BasicTicker\"},{\"attributes\":{\"dimension\":1,\"ticker\":{\"id\":\"1019\",\"type\":\"BasicTicker\"}},\"id\":\"1022\",\"type\":\"Grid\"},{\"attributes\":{\"ticker\":{\"id\":\"1014\",\"type\":\"BasicTicker\"}},\"id\":\"1017\",\"type\":\"Grid\"},{\"attributes\":{\"active_drag\":\"auto\",\"active_inspect\":\"auto\",\"active_multi\":null,\"active_scroll\":\"auto\",\"active_tap\":\"auto\",\"tools\":[{\"id\":\"1023\",\"type\":\"PanTool\"},{\"id\":\"1024\",\"type\":\"WheelZoomTool\"},{\"id\":\"1025\",\"type\":\"BoxZoomTool\"},{\"id\":\"1026\",\"type\":\"SaveTool\"},{\"id\":\"1027\",\"type\":\"ResetTool\"},{\"id\":\"1028\",\"type\":\"HelpTool\"},{\"id\":\"1029\",\"type\":\"HoverTool\"}]},\"id\":\"1030\",\"type\":\"Toolbar\"},{\"attributes\":{},\"id\":\"1050\",\"type\":\"Selection\"},{\"attributes\":{\"callback\":null,\"data\":{\"class\":[\"setosa\",\"setosa\",\"setosa\",\"setosa\",\"setosa\",\"setosa\",\"setosa\",\"setosa\",\"setosa\",\"setosa\",\"setosa\",\"setosa\",\"setosa\",\"setosa\",\"setosa\",\"setosa\",\"setosa\",\"setosa\",\"setosa\",\"setosa\",\"setosa\",\"setosa\",\"setosa\",\"setosa\",\"setosa\",\"setosa\",\"setosa\",\"setosa\",\"setosa\",\"setosa\",\"setosa\",\"setosa\",\"setosa\",\"setosa\",\"setosa\",\"setosa\",\"setosa\",\"setosa\",\"setosa\",\"setosa\",\"setosa\",\"setosa\",\"setosa\",\"setosa\",\"setosa\",\"setosa\",\"setosa\",\"setosa\",\"setosa\",\"setosa\",\"versicolor\",\"versicolor\",\"versicolor\",\"versicolor\",\"versicolor\",\"versicolor\",\"versicolor\",\"versicolor\",\"versicolor\",\"versicolor\",\"versicolor\",\"versicolor\",\"versicolor\",\"versicolor\",\"versicolor\",\"versicolor\",\"versicolor\",\"versicolor\",\"versicolor\",\"versicolor\",\"versicolor\",\"versicolor\",\"versicolor\",\"versicolor\",\"versicolor\",\"versicolor\",\"versicolor\",\"versicolor\",\"versicolor\",\"versicolor\",\"versicolor\",\"versicolor\",\"versicolor\",\"versicolor\",\"versicolor\",\"versicolor\",\"versicolor\",\"versicolor\",\"versicolor\",\"versicolor\",\"versicolor\",\"versicolor\",\"versicolor\",\"versicolor\",\"versicolor\",\"versicolor\",\"versicolor\",\"versicolor\",\"versicolor\",\"versicolor\",\"virginica\",\"virginica\",\"virginica\",\"virginica\",\"virginica\",\"virginica\",\"virginica\",\"virginica\",\"virginica\",\"virginica\",\"virginica\",\"virginica\",\"virginica\",\"virginica\",\"virginica\",\"virginica\",\"virginica\",\"virginica\",\"virginica\",\"virginica\",\"virginica\",\"virginica\",\"virginica\",\"virginica\",\"virginica\",\"virginica\",\"virginica\",\"virginica\",\"virginica\",\"virginica\",\"virginica\",\"virginica\",\"virginica\",\"virginica\",\"virginica\",\"virginica\",\"virginica\",\"virginica\",\"virginica\",\"virginica\",\"virginica\",\"virginica\",\"virginica\",\"virginica\",\"virginica\",\"virginica\",\"virginica\",\"virginica\",\"virginica\",\"virginica\"],\"color\":[\"#99d594\",\"#99d594\",\"#99d594\",\"#99d594\",\"#99d594\",\"#99d594\",\"#99d594\",\"#99d594\",\"#99d594\",\"#99d594\",\"#99d594\",\"#99d594\",\"#99d594\",\"#99d594\",\"#99d594\",\"#99d594\",\"#99d594\",\"#99d594\",\"#99d594\",\"#99d594\",\"#99d594\",\"#99d594\",\"#99d594\",\"#99d594\",\"#99d594\",\"#99d594\",\"#99d594\",\"#99d594\",\"#99d594\",\"#99d594\",\"#99d594\",\"#99d594\",\"#99d594\",\"#99d594\",\"#99d594\",\"#99d594\",\"#99d594\",\"#99d594\",\"#99d594\",\"#99d594\",\"#99d594\",\"#99d594\",\"#99d594\",\"#99d594\",\"#99d594\",\"#99d594\",\"#99d594\",\"#99d594\",\"#99d594\",\"#99d594\",\"#ffffbf\",\"#ffffbf\",\"#ffffbf\",\"#ffffbf\",\"#ffffbf\",\"#ffffbf\",\"#ffffbf\",\"#ffffbf\",\"#ffffbf\",\"#ffffbf\",\"#ffffbf\",\"#ffffbf\",\"#ffffbf\",\"#ffffbf\",\"#ffffbf\",\"#ffffbf\",\"#ffffbf\",\"#ffffbf\",\"#ffffbf\",\"#ffffbf\",\"#ffffbf\",\"#ffffbf\",\"#ffffbf\",\"#ffffbf\",\"#ffffbf\",\"#ffffbf\",\"#ffffbf\",\"#ffffbf\",\"#ffffbf\",\"#ffffbf\",\"#ffffbf\",\"#ffffbf\",\"#ffffbf\",\"#ffffbf\",\"#ffffbf\",\"#ffffbf\",\"#ffffbf\",\"#ffffbf\",\"#ffffbf\",\"#ffffbf\",\"#ffffbf\",\"#ffffbf\",\"#ffffbf\",\"#ffffbf\",\"#ffffbf\",\"#ffffbf\",\"#ffffbf\",\"#ffffbf\",\"#ffffbf\",\"#ffffbf\",\"#fc8d59\",\"#fc8d59\",\"#fc8d59\",\"#fc8d59\",\"#fc8d59\",\"#fc8d59\",\"#fc8d59\",\"#fc8d59\",\"#fc8d59\",\"#fc8d59\",\"#fc8d59\",\"#fc8d59\",\"#fc8d59\",\"#fc8d59\",\"#fc8d59\",\"#fc8d59\",\"#fc8d59\",\"#fc8d59\",\"#fc8d59\",\"#fc8d59\",\"#fc8d59\",\"#fc8d59\",\"#fc8d59\",\"#fc8d59\",\"#fc8d59\",\"#fc8d59\",\"#fc8d59\",\"#fc8d59\",\"#fc8d59\",\"#fc8d59\",\"#fc8d59\",\"#fc8d59\",\"#fc8d59\",\"#fc8d59\",\"#fc8d59\",\"#fc8d59\",\"#fc8d59\",\"#fc8d59\",\"#fc8d59\",\"#fc8d59\",\"#fc8d59\",\"#fc8d59\",\"#fc8d59\",\"#fc8d59\",\"#fc8d59\",\"#fc8d59\",\"#fc8d59\",\"#fc8d59\",\"#fc8d59\",\"#fc8d59\"],\"x\":{\"__ndarray__\":\"2dqvv//9pUK22q1CkbiiQn8RwsCL8pZCGibwQfmIaUHxweFCPN+TQjjzh0LVM+tBeZWXQrRz2kKXZntCqzxrQucbnEKCs6tAYE+LQu26pUL0KSq9X3uuQju610GXGjlBhyfzQcUeq0LCI1VBg0bGvx5cx0AaDaFCfj6cQvZ2h0BUmlZCnhllQk6KnEIPGZZB1gK0wJnTA8FkC+JC3W0sQTk30EAy3eNC9tu0QiYAjEFPlrFCcJqsQk97nUIeA6pCYFqLQj4khkHYRZPB5m2wwZKSiMEkM+jARg4qQWWI2MHIT8bBlxqIQRxgcEBRBZXBah4rQSQaFUJCdDBCp0HWQRwR7sE5PNfA1WcGw97fcML5t+BBhZMXwjpd0MGuJBzC8SHcQXK/mkG/eQlBPMgYwMDDhMLwo5jBtCcCQnF2NMKVRytD9GcCwmxfXsIRMudBpcS3wvF04MHMcU7BKIf+QYmCvMFEvzHB9CB6wRH320GzrFTCCyd6QYJsncEPsJjB36uyweuBP0EEo6tBna2pwcsIlMJB/V3AeoabwompCcOFnDZCKlsbw6FEr8Fo6PDC1DOpwtVVnMKaO2LCANiewmwmj8K8gwfBTV7nQLDse8Iw0A3DxCqzwp1WCcNzvL5BoLaLwm2lEUA65Q7DaGpDwuKTh8Klw+DCvmEYw0W9G8OY45TAmlLowlcp98L+Pa/CiBNVQhmfx0Gn2AtChm82QXJnjcKswjbEB1mmwFq2j8J2gIXCteZKwn75FsDfIYXCaCyQwsN0U8IdR5TCxV/IwhqAh8L/2wPC\",\"dtype\":\"float32\",\"shape\":[150]},\"y\":{\"__ndarray__\":\"ZkenwgTCBkK28aBA9P4HwDzHtMLsyjDC7OiWwmsLccLaM1ZBaPrnQXWGZsI97YrCD2QOQuqv4EAgwR/CgyD+wdcUJ8JGTbHC7dI5wiSsf8KK8IrCiBCDwrH9pMKhU9fC54CDwiKY8UEHttDCLimfwrGjgcLYJJxAtoGwQQeqkcLPphvC53IUwkMy0EFIDkfChLeIwsaRu8KvvxdBstp4wvxhuMKok5hBJDAuwCkW2sKhr3DCvJEaQlmtf8KAwLs/2wRzwuzKWcI14iBCWidpQj6gD0LsQAPC4+EvQra/c8HzZXRCWbZDwZSKFEL0hwDCyprTwNs5wEFS+FO/XiHOQbg5278JnApCZD+9wQxQkMLTD5FC+6mFwieBmUJGfRFC//pqQhAC1kH/9/RBWqwMQupJekGLkuVBXsPIQdewk0E0E+1CRLeNwkbmiMItCFJCPclSQm1igULygQdC3jCNQoUBL8AlH/vBHFGywaVprkGzWI7CRbEJwdg6k8HICAvA+vkJwTI440Eg2CzBW2JRwbn/DsICQuZCcjLkQUFjK0K3+BNDczbJwQMXEcL2JHxB9I2iQvedhsHh6CFBEMSmQjUa5kGXR+BCrmbsQuQUKMLKNCBCvnf4wdiL0cAH+JFCx1j3wDUZ50J5cwLBxOG2Qp72k77w15lB6fluQiNXkEJkF0xCwRamQcSjWkHPxJjCZEMSQ9rbTEKDdFJCQpB2Q6aAHcIUNLVDY/6aQhYpykEgaU3Bjpcwvoto30IfWd/AjKSAwU9DT8C9p61C6iEaws6xKMLrlqBC\",\"dtype\":\"float32\",\"shape\":[150]}},\"selected\":{\"id\":\"1050\",\"type\":\"Selection\"},\"selection_policy\":{\"id\":\"1049\",\"type\":\"UnionRenderers\"}},\"id\":\"1038\",\"type\":\"ColumnDataSource\"},{\"attributes\":{\"overlay\":{\"id\":\"1051\",\"type\":\"BoxAnnotation\"}},\"id\":\"1025\",\"type\":\"BoxZoomTool\"},{\"attributes\":{},\"id\":\"1023\",\"type\":\"PanTool\"},{\"attributes\":{},\"id\":\"1024\",\"type\":\"WheelZoomTool\"},{\"attributes\":{\"fill_alpha\":{\"value\":0.7},\"fill_color\":{\"field\":\"color\"},\"line_alpha\":{\"value\":0.7},\"line_color\":{\"value\":null},\"x\":{\"field\":\"x\"},\"y\":{\"field\":\"y\"}},\"id\":\"1040\",\"type\":\"Scatter\"},{\"attributes\":{},\"id\":\"1026\",\"type\":\"SaveTool\"},{\"attributes\":{},\"id\":\"1049\",\"type\":\"UnionRenderers\"},{\"attributes\":{},\"id\":\"1046\",\"type\":\"BasicTickFormatter\"},{\"attributes\":{},\"id\":\"1028\",\"type\":\"HelpTool\"},{\"attributes\":{},\"id\":\"1027\",\"type\":\"ResetTool\"},{\"attributes\":{\"text\":\"t-SNE + Bokeh\"},\"id\":\"1003\",\"type\":\"Title\"}],\"root_ids\":[\"1002\"]},\"title\":\"Bokeh Application\",\"version\":\"1.4.0\"}};\n",
       "  var render_items = [{\"docid\":\"5a0542e7-c839-4783-9378-96adaef468d4\",\"roots\":{\"1002\":\"fdb36b08-418d-494a-ad9b-b86016c9ee4a\"}}];\n",
       "  root.Bokeh.embed.embed_items_notebook(docs_json, render_items);\n",
       "\n",
       "  }\n",
       "  if (root.Bokeh !== undefined) {\n",
       "    embed_document(root);\n",
       "  } else {\n",
       "    var attempts = 0;\n",
       "    var timer = setInterval(function(root) {\n",
       "      if (root.Bokeh !== undefined) {\n",
       "        clearInterval(timer);\n",
       "        embed_document(root);\n",
       "      } else {\n",
       "        attempts++;\n",
       "        if (attempts > 100) {\n",
       "          clearInterval(timer);\n",
       "          console.log(\"Bokeh: ERROR: Unable to run BokehJS code because BokehJS library is missing\");\n",
       "        }\n",
       "      }\n",
       "    }, 10, root)\n",
       "  }\n",
       "})(window);"
      ],
      "application/vnd.bokehjs_exec.v0+json": ""
     },
     "metadata": {
      "application/vnd.bokehjs_exec.v0+json": {
       "id": "1002"
      }
     },
     "output_type": "display_data"
    }
   ],
   "source": [
    "p = draw_bokeh(xy, classes, labels, title='t-SNE + Bokeh')\n",
    "show(p)"
   ]
  },
  {
   "cell_type": "markdown",
   "metadata": {},
   "source": [
    "저장은 save 함수를 이용할 수 있습니다. 저장된 HTML 파일도 위 output cell 의 그림처럼 동적인 그림입니다."
   ]
  },
  {
   "cell_type": "code",
   "execution_count": 10,
   "metadata": {},
   "outputs": [
    {
     "name": "stderr",
     "output_type": "stream",
     "text": [
      "/home/lovit/anaconda3/envs/pytorch/lib/python3.7/site-packages/bokeh/io/saving.py:126: UserWarning: save() called but no resources were supplied and output_file(...) was never called, defaulting to resources.CDN\n",
      "  warn(\"save() called but no resources were supplied and output_file(...) was never called, defaulting to resources.CDN\")\n",
      "/home/lovit/anaconda3/envs/pytorch/lib/python3.7/site-packages/bokeh/io/saving.py:139: UserWarning: save() called but no title was supplied and output_file(...) was never called, using default title 'Bokeh Plot'\n",
      "  warn(\"save() called but no title was supplied and output_file(...) was never called, using default title 'Bokeh Plot'\")\n"
     ]
    }
   ],
   "source": [
    "_ = save(p, 'tsne_bokeh.html')"
   ]
  },
  {
   "cell_type": "markdown",
   "metadata": {},
   "source": [
    "만약 그림의 크기가 너무 작다면 그림을 그린 후 이를 수정할 수 있습니다. 그림 내 요소가 아닌, 그림 자체에 대한 요소들은 수정이 가능합니다."
   ]
  },
  {
   "cell_type": "code",
   "execution_count": 11,
   "metadata": {},
   "outputs": [
    {
     "data": {
      "text/html": [
       "\n",
       "\n",
       "\n",
       "\n",
       "\n",
       "\n",
       "  <div class=\"bk-root\" id=\"c17c5598-313c-44ec-9a5c-4553c990554f\" data-root-id=\"1002\"></div>\n"
      ]
     },
     "metadata": {},
     "output_type": "display_data"
    },
    {
     "data": {
      "application/javascript": [
       "(function(root) {\n",
       "  function embed_document(root) {\n",
       "    \n",
       "  var docs_json = {\"5895900e-57c1-4ad2-a4f3-e00fdd7ea78b\":{\"roots\":{\"references\":[{\"attributes\":{\"below\":[{\"id\":\"1013\",\"type\":\"LinearAxis\"}],\"center\":[{\"id\":\"1017\",\"type\":\"Grid\"},{\"id\":\"1022\",\"type\":\"Grid\"}],\"height\":600,\"left\":[{\"id\":\"1018\",\"type\":\"LinearAxis\"}],\"plot_height\":400,\"plot_width\":400,\"renderers\":[{\"id\":\"1042\",\"type\":\"GlyphRenderer\"}],\"title\":{\"id\":\"1003\",\"type\":\"Title\"},\"toolbar\":{\"id\":\"1030\",\"type\":\"Toolbar\"},\"width\":600,\"x_range\":{\"id\":\"1005\",\"type\":\"DataRange1d\"},\"x_scale\":{\"id\":\"1009\",\"type\":\"LinearScale\"},\"y_range\":{\"id\":\"1007\",\"type\":\"DataRange1d\"},\"y_scale\":{\"id\":\"1011\",\"type\":\"LinearScale\"}},\"id\":\"1002\",\"subtype\":\"Figure\",\"type\":\"Plot\"},{\"attributes\":{\"fill_alpha\":{\"value\":0.1},\"fill_color\":{\"value\":\"#1f77b4\"},\"line_alpha\":{\"value\":0.1},\"line_color\":{\"value\":\"#1f77b4\"},\"x\":{\"field\":\"x\"},\"y\":{\"field\":\"y\"}},\"id\":\"1041\",\"type\":\"Scatter\"},{\"attributes\":{\"formatter\":{\"id\":\"1048\",\"type\":\"BasicTickFormatter\"},\"ticker\":{\"id\":\"1014\",\"type\":\"BasicTicker\"}},\"id\":\"1013\",\"type\":\"LinearAxis\"},{\"attributes\":{\"callback\":null},\"id\":\"1005\",\"type\":\"DataRange1d\"},{\"attributes\":{\"data_source\":{\"id\":\"1038\",\"type\":\"ColumnDataSource\"},\"glyph\":{\"id\":\"1040\",\"type\":\"Scatter\"},\"hover_glyph\":null,\"muted_glyph\":null,\"nonselection_glyph\":{\"id\":\"1041\",\"type\":\"Scatter\"},\"selection_glyph\":null,\"view\":{\"id\":\"1043\",\"type\":\"CDSView\"}},\"id\":\"1042\",\"type\":\"GlyphRenderer\"},{\"attributes\":{\"callback\":null},\"id\":\"1007\",\"type\":\"DataRange1d\"},{\"attributes\":{\"callback\":null,\"tooltips\":[[\"data index\",\"$index point\"],[\"class\",\"@class\"],[\"(x, y)\",\"($x, $y)\"]]},\"id\":\"1029\",\"type\":\"HoverTool\"},{\"attributes\":{},\"id\":\"1009\",\"type\":\"LinearScale\"},{\"attributes\":{},\"id\":\"1048\",\"type\":\"BasicTickFormatter\"},{\"attributes\":{},\"id\":\"1011\",\"type\":\"LinearScale\"},{\"attributes\":{\"source\":{\"id\":\"1038\",\"type\":\"ColumnDataSource\"}},\"id\":\"1043\",\"type\":\"CDSView\"},{\"attributes\":{},\"id\":\"1019\",\"type\":\"BasicTicker\"},{\"attributes\":{\"bottom_units\":\"screen\",\"fill_alpha\":{\"value\":0.5},\"fill_color\":{\"value\":\"lightgrey\"},\"left_units\":\"screen\",\"level\":\"overlay\",\"line_alpha\":{\"value\":1.0},\"line_color\":{\"value\":\"black\"},\"line_dash\":[4,4],\"line_width\":{\"value\":2},\"render_mode\":\"css\",\"right_units\":\"screen\",\"top_units\":\"screen\"},\"id\":\"1051\",\"type\":\"BoxAnnotation\"},{\"attributes\":{\"formatter\":{\"id\":\"1046\",\"type\":\"BasicTickFormatter\"},\"ticker\":{\"id\":\"1019\",\"type\":\"BasicTicker\"}},\"id\":\"1018\",\"type\":\"LinearAxis\"},{\"attributes\":{},\"id\":\"1014\",\"type\":\"BasicTicker\"},{\"attributes\":{\"dimension\":1,\"ticker\":{\"id\":\"1019\",\"type\":\"BasicTicker\"}},\"id\":\"1022\",\"type\":\"Grid\"},{\"attributes\":{\"ticker\":{\"id\":\"1014\",\"type\":\"BasicTicker\"}},\"id\":\"1017\",\"type\":\"Grid\"},{\"attributes\":{\"active_drag\":\"auto\",\"active_inspect\":\"auto\",\"active_multi\":null,\"active_scroll\":\"auto\",\"active_tap\":\"auto\",\"tools\":[{\"id\":\"1023\",\"type\":\"PanTool\"},{\"id\":\"1024\",\"type\":\"WheelZoomTool\"},{\"id\":\"1025\",\"type\":\"BoxZoomTool\"},{\"id\":\"1026\",\"type\":\"SaveTool\"},{\"id\":\"1027\",\"type\":\"ResetTool\"},{\"id\":\"1028\",\"type\":\"HelpTool\"},{\"id\":\"1029\",\"type\":\"HoverTool\"}]},\"id\":\"1030\",\"type\":\"Toolbar\"},{\"attributes\":{},\"id\":\"1050\",\"type\":\"Selection\"},{\"attributes\":{\"callback\":null,\"data\":{\"class\":[\"setosa\",\"setosa\",\"setosa\",\"setosa\",\"setosa\",\"setosa\",\"setosa\",\"setosa\",\"setosa\",\"setosa\",\"setosa\",\"setosa\",\"setosa\",\"setosa\",\"setosa\",\"setosa\",\"setosa\",\"setosa\",\"setosa\",\"setosa\",\"setosa\",\"setosa\",\"setosa\",\"setosa\",\"setosa\",\"setosa\",\"setosa\",\"setosa\",\"setosa\",\"setosa\",\"setosa\",\"setosa\",\"setosa\",\"setosa\",\"setosa\",\"setosa\",\"setosa\",\"setosa\",\"setosa\",\"setosa\",\"setosa\",\"setosa\",\"setosa\",\"setosa\",\"setosa\",\"setosa\",\"setosa\",\"setosa\",\"setosa\",\"setosa\",\"versicolor\",\"versicolor\",\"versicolor\",\"versicolor\",\"versicolor\",\"versicolor\",\"versicolor\",\"versicolor\",\"versicolor\",\"versicolor\",\"versicolor\",\"versicolor\",\"versicolor\",\"versicolor\",\"versicolor\",\"versicolor\",\"versicolor\",\"versicolor\",\"versicolor\",\"versicolor\",\"versicolor\",\"versicolor\",\"versicolor\",\"versicolor\",\"versicolor\",\"versicolor\",\"versicolor\",\"versicolor\",\"versicolor\",\"versicolor\",\"versicolor\",\"versicolor\",\"versicolor\",\"versicolor\",\"versicolor\",\"versicolor\",\"versicolor\",\"versicolor\",\"versicolor\",\"versicolor\",\"versicolor\",\"versicolor\",\"versicolor\",\"versicolor\",\"versicolor\",\"versicolor\",\"versicolor\",\"versicolor\",\"versicolor\",\"versicolor\",\"virginica\",\"virginica\",\"virginica\",\"virginica\",\"virginica\",\"virginica\",\"virginica\",\"virginica\",\"virginica\",\"virginica\",\"virginica\",\"virginica\",\"virginica\",\"virginica\",\"virginica\",\"virginica\",\"virginica\",\"virginica\",\"virginica\",\"virginica\",\"virginica\",\"virginica\",\"virginica\",\"virginica\",\"virginica\",\"virginica\",\"virginica\",\"virginica\",\"virginica\",\"virginica\",\"virginica\",\"virginica\",\"virginica\",\"virginica\",\"virginica\",\"virginica\",\"virginica\",\"virginica\",\"virginica\",\"virginica\",\"virginica\",\"virginica\",\"virginica\",\"virginica\",\"virginica\",\"virginica\",\"virginica\",\"virginica\",\"virginica\",\"virginica\"],\"color\":[\"#99d594\",\"#99d594\",\"#99d594\",\"#99d594\",\"#99d594\",\"#99d594\",\"#99d594\",\"#99d594\",\"#99d594\",\"#99d594\",\"#99d594\",\"#99d594\",\"#99d594\",\"#99d594\",\"#99d594\",\"#99d594\",\"#99d594\",\"#99d594\",\"#99d594\",\"#99d594\",\"#99d594\",\"#99d594\",\"#99d594\",\"#99d594\",\"#99d594\",\"#99d594\",\"#99d594\",\"#99d594\",\"#99d594\",\"#99d594\",\"#99d594\",\"#99d594\",\"#99d594\",\"#99d594\",\"#99d594\",\"#99d594\",\"#99d594\",\"#99d594\",\"#99d594\",\"#99d594\",\"#99d594\",\"#99d594\",\"#99d594\",\"#99d594\",\"#99d594\",\"#99d594\",\"#99d594\",\"#99d594\",\"#99d594\",\"#99d594\",\"#ffffbf\",\"#ffffbf\",\"#ffffbf\",\"#ffffbf\",\"#ffffbf\",\"#ffffbf\",\"#ffffbf\",\"#ffffbf\",\"#ffffbf\",\"#ffffbf\",\"#ffffbf\",\"#ffffbf\",\"#ffffbf\",\"#ffffbf\",\"#ffffbf\",\"#ffffbf\",\"#ffffbf\",\"#ffffbf\",\"#ffffbf\",\"#ffffbf\",\"#ffffbf\",\"#ffffbf\",\"#ffffbf\",\"#ffffbf\",\"#ffffbf\",\"#ffffbf\",\"#ffffbf\",\"#ffffbf\",\"#ffffbf\",\"#ffffbf\",\"#ffffbf\",\"#ffffbf\",\"#ffffbf\",\"#ffffbf\",\"#ffffbf\",\"#ffffbf\",\"#ffffbf\",\"#ffffbf\",\"#ffffbf\",\"#ffffbf\",\"#ffffbf\",\"#ffffbf\",\"#ffffbf\",\"#ffffbf\",\"#ffffbf\",\"#ffffbf\",\"#ffffbf\",\"#ffffbf\",\"#ffffbf\",\"#ffffbf\",\"#fc8d59\",\"#fc8d59\",\"#fc8d59\",\"#fc8d59\",\"#fc8d59\",\"#fc8d59\",\"#fc8d59\",\"#fc8d59\",\"#fc8d59\",\"#fc8d59\",\"#fc8d59\",\"#fc8d59\",\"#fc8d59\",\"#fc8d59\",\"#fc8d59\",\"#fc8d59\",\"#fc8d59\",\"#fc8d59\",\"#fc8d59\",\"#fc8d59\",\"#fc8d59\",\"#fc8d59\",\"#fc8d59\",\"#fc8d59\",\"#fc8d59\",\"#fc8d59\",\"#fc8d59\",\"#fc8d59\",\"#fc8d59\",\"#fc8d59\",\"#fc8d59\",\"#fc8d59\",\"#fc8d59\",\"#fc8d59\",\"#fc8d59\",\"#fc8d59\",\"#fc8d59\",\"#fc8d59\",\"#fc8d59\",\"#fc8d59\",\"#fc8d59\",\"#fc8d59\",\"#fc8d59\",\"#fc8d59\",\"#fc8d59\",\"#fc8d59\",\"#fc8d59\",\"#fc8d59\",\"#fc8d59\",\"#fc8d59\"],\"x\":{\"__ndarray__\":\"2dqvv//9pUK22q1CkbiiQn8RwsCL8pZCGibwQfmIaUHxweFCPN+TQjjzh0LVM+tBeZWXQrRz2kKXZntCqzxrQucbnEKCs6tAYE+LQu26pUL0KSq9X3uuQju610GXGjlBhyfzQcUeq0LCI1VBg0bGvx5cx0AaDaFCfj6cQvZ2h0BUmlZCnhllQk6KnEIPGZZB1gK0wJnTA8FkC+JC3W0sQTk30EAy3eNC9tu0QiYAjEFPlrFCcJqsQk97nUIeA6pCYFqLQj4khkHYRZPB5m2wwZKSiMEkM+jARg4qQWWI2MHIT8bBlxqIQRxgcEBRBZXBah4rQSQaFUJCdDBCp0HWQRwR7sE5PNfA1WcGw97fcML5t+BBhZMXwjpd0MGuJBzC8SHcQXK/mkG/eQlBPMgYwMDDhMLwo5jBtCcCQnF2NMKVRytD9GcCwmxfXsIRMudBpcS3wvF04MHMcU7BKIf+QYmCvMFEvzHB9CB6wRH320GzrFTCCyd6QYJsncEPsJjB36uyweuBP0EEo6tBna2pwcsIlMJB/V3AeoabwompCcOFnDZCKlsbw6FEr8Fo6PDC1DOpwtVVnMKaO2LCANiewmwmj8K8gwfBTV7nQLDse8Iw0A3DxCqzwp1WCcNzvL5BoLaLwm2lEUA65Q7DaGpDwuKTh8Klw+DCvmEYw0W9G8OY45TAmlLowlcp98L+Pa/CiBNVQhmfx0Gn2AtChm82QXJnjcKswjbEB1mmwFq2j8J2gIXCteZKwn75FsDfIYXCaCyQwsN0U8IdR5TCxV/IwhqAh8L/2wPC\",\"dtype\":\"float32\",\"shape\":[150]},\"y\":{\"__ndarray__\":\"ZkenwgTCBkK28aBA9P4HwDzHtMLsyjDC7OiWwmsLccLaM1ZBaPrnQXWGZsI97YrCD2QOQuqv4EAgwR/CgyD+wdcUJ8JGTbHC7dI5wiSsf8KK8IrCiBCDwrH9pMKhU9fC54CDwiKY8UEHttDCLimfwrGjgcLYJJxAtoGwQQeqkcLPphvC53IUwkMy0EFIDkfChLeIwsaRu8KvvxdBstp4wvxhuMKok5hBJDAuwCkW2sKhr3DCvJEaQlmtf8KAwLs/2wRzwuzKWcI14iBCWidpQj6gD0LsQAPC4+EvQra/c8HzZXRCWbZDwZSKFEL0hwDCyprTwNs5wEFS+FO/XiHOQbg5278JnApCZD+9wQxQkMLTD5FC+6mFwieBmUJGfRFC//pqQhAC1kH/9/RBWqwMQupJekGLkuVBXsPIQdewk0E0E+1CRLeNwkbmiMItCFJCPclSQm1igULygQdC3jCNQoUBL8AlH/vBHFGywaVprkGzWI7CRbEJwdg6k8HICAvA+vkJwTI440Eg2CzBW2JRwbn/DsICQuZCcjLkQUFjK0K3+BNDczbJwQMXEcL2JHxB9I2iQvedhsHh6CFBEMSmQjUa5kGXR+BCrmbsQuQUKMLKNCBCvnf4wdiL0cAH+JFCx1j3wDUZ50J5cwLBxOG2Qp72k77w15lB6fluQiNXkEJkF0xCwRamQcSjWkHPxJjCZEMSQ9rbTEKDdFJCQpB2Q6aAHcIUNLVDY/6aQhYpykEgaU3Bjpcwvoto30IfWd/AjKSAwU9DT8C9p61C6iEaws6xKMLrlqBC\",\"dtype\":\"float32\",\"shape\":[150]}},\"selected\":{\"id\":\"1050\",\"type\":\"Selection\"},\"selection_policy\":{\"id\":\"1049\",\"type\":\"UnionRenderers\"}},\"id\":\"1038\",\"type\":\"ColumnDataSource\"},{\"attributes\":{\"overlay\":{\"id\":\"1051\",\"type\":\"BoxAnnotation\"}},\"id\":\"1025\",\"type\":\"BoxZoomTool\"},{\"attributes\":{},\"id\":\"1023\",\"type\":\"PanTool\"},{\"attributes\":{},\"id\":\"1024\",\"type\":\"WheelZoomTool\"},{\"attributes\":{\"fill_alpha\":{\"value\":0.7},\"fill_color\":{\"field\":\"color\"},\"line_alpha\":{\"value\":0.7},\"line_color\":{\"value\":null},\"x\":{\"field\":\"x\"},\"y\":{\"field\":\"y\"}},\"id\":\"1040\",\"type\":\"Scatter\"},{\"attributes\":{},\"id\":\"1026\",\"type\":\"SaveTool\"},{\"attributes\":{},\"id\":\"1049\",\"type\":\"UnionRenderers\"},{\"attributes\":{},\"id\":\"1046\",\"type\":\"BasicTickFormatter\"},{\"attributes\":{},\"id\":\"1028\",\"type\":\"HelpTool\"},{\"attributes\":{},\"id\":\"1027\",\"type\":\"ResetTool\"},{\"attributes\":{\"text\":\"t-SNE (perplexity=2) + Bokeh\"},\"id\":\"1003\",\"type\":\"Title\"}],\"root_ids\":[\"1002\"]},\"title\":\"Bokeh Application\",\"version\":\"1.4.0\"}};\n",
       "  var render_items = [{\"docid\":\"5895900e-57c1-4ad2-a4f3-e00fdd7ea78b\",\"roots\":{\"1002\":\"c17c5598-313c-44ec-9a5c-4553c990554f\"}}];\n",
       "  root.Bokeh.embed.embed_items_notebook(docs_json, render_items);\n",
       "\n",
       "  }\n",
       "  if (root.Bokeh !== undefined) {\n",
       "    embed_document(root);\n",
       "  } else {\n",
       "    var attempts = 0;\n",
       "    var timer = setInterval(function(root) {\n",
       "      if (root.Bokeh !== undefined) {\n",
       "        clearInterval(timer);\n",
       "        embed_document(root);\n",
       "      } else {\n",
       "        attempts++;\n",
       "        if (attempts > 100) {\n",
       "          clearInterval(timer);\n",
       "          console.log(\"Bokeh: ERROR: Unable to run BokehJS code because BokehJS library is missing\");\n",
       "        }\n",
       "      }\n",
       "    }, 10, root)\n",
       "  }\n",
       "})(window);"
      ],
      "application/vnd.bokehjs_exec.v0+json": ""
     },
     "metadata": {
      "application/vnd.bokehjs_exec.v0+json": {
       "id": "1002"
      }
     },
     "output_type": "display_data"
    }
   ],
   "source": [
    "p.height = 600\n",
    "p.width = 600\n",
    "p.title.text = 't-SNE (perplexity=2) + Bokeh'\n",
    "show(p)"
   ]
  },
  {
   "cell_type": "markdown",
   "metadata": {},
   "source": [
    "Bokeh 는 seaborn 보다 다양한 그림을 그릴 수 있지만, 많은 과정들을 직접 구현해야 합니다. 그런데 이런 함수는 매번 반복하여 이용하니 이를 잘 저장한 뒤, 필요에 따라 import 하여 사용하면 좋습니다."
   ]
  },
  {
   "cell_type": "code",
   "execution_count": null,
   "metadata": {},
   "outputs": [],
   "source": []
  }
 ],
 "metadata": {
  "kernelspec": {
   "display_name": "Python 3",
   "language": "python",
   "name": "python3"
  },
  "language_info": {
   "codemirror_mode": {
    "name": "ipython",
    "version": 3
   },
   "file_extension": ".py",
   "mimetype": "text/x-python",
   "name": "python",
   "nbconvert_exporter": "python",
   "pygments_lexer": "ipython3",
   "version": "3.7.1"
  }
 },
 "nbformat": 4,
 "nbformat_minor": 2
}
