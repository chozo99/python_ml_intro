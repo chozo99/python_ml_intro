{
 "cells": [
  {
   "cell_type": "markdown",
   "metadata": {},
   "source": [
    "Python >= 3.7.0 을 기준으로 작성된 튜토리얼입니다."
   ]
  },
  {
   "cell_type": "code",
   "execution_count": 1,
   "metadata": {},
   "outputs": [
    {
     "data": {
      "text/plain": [
       "sys.version_info(major=3, minor=7, micro=1, releaselevel='final', serial=0)"
      ]
     },
     "execution_count": 1,
     "metadata": {},
     "output_type": "execute_result"
    }
   ],
   "source": [
    "import sys\n",
    "sys.version_info"
   ]
  },
  {
   "cell_type": "markdown",
   "metadata": {},
   "source": [
    "## Function\n",
    "\n",
    "함수는 입력값을 받아 적절히 변형 혹은 특정 작업을 수행한 뒤, 출력값을 return 합니다."
   ]
  },
  {
   "cell_type": "code",
   "execution_count": 2,
   "metadata": {},
   "outputs": [
    {
     "name": "stdout",
     "output_type": "stream",
     "text": [
      "[('a', 5), ('b', 2), ('c', 3), ('dd', 2)]\n",
      "[('dd', 2), ('b', 2), ('c', 3), ('a', 5)]\n"
     ]
    }
   ],
   "source": [
    "def sorting_key(x):\n",
    "    if x[0] == 'dd':\n",
    "        return (-1, 1)\n",
    "    return (x[1], -len(x[0]))\n",
    "\n",
    "kv = [('c', 3), ('b', 2), ('a', 5), ('dd', 2)]\n",
    "\n",
    "print(sorted(kv))                   # [('a', 5), ('b', 2), ('c', 3), ('dd', 2)]\n",
    "print(sorted(kv, key=sorting_key))  # [('dd', 2), ('b', 2), ('c', 3), ('a', 5)]"
   ]
  },
  {
   "cell_type": "markdown",
   "metadata": {},
   "source": [
    "## Class\n",
    "\n",
    "클래스는 `__init__(self)` 함수를 통하여 생성됩니다. `self` 외에는 클래스를 만들기 위한 arguments 입니다. `sum_x` 와 같은 사용자 정의 함수를 만들 수 있으며, `__len__`, `__iter__`, `__getitem__` 등의 함수를 구현할 경우 `len()`, `loop` 등의 기능을 이용할 수 있습니다. 특히 `__call__` 함수를 구현하면 클래스 인스턴스를 마치 함수처럼 이용할 수 있습니다.\n",
    "\n",
    "각 인스턴스마다 데이터를 포함해야 하는 경우에는 이를 클래스로 만들고, 고정된 데이터가 필요하지 않다면 함수로 만들면 좋습니다."
   ]
  },
  {
   "cell_type": "code",
   "execution_count": 3,
   "metadata": {},
   "outputs": [
    {
     "name": "stdout",
     "output_type": "stream",
     "text": [
      "10\n",
      "3\n",
      "(3, 'c')\n",
      "[4, 5, 6, 7]\n",
      "1 a\n",
      "2 b\n",
      "3 c\n"
     ]
    }
   ],
   "source": [
    "class Dataset:\n",
    "    def __init__(self, x, y):\n",
    "        self.x = x\n",
    "        self.y = y\n",
    "\n",
    "    def sum_x(self):\n",
    "        return sum(self.x)\n",
    "\n",
    "    def __len__(self):\n",
    "        return min(len(self.x), len(self.y))\n",
    "\n",
    "    def __iter__(self):\n",
    "        for xi, yi in zip(self.x, self.y):\n",
    "            yield (xi, yi)\n",
    "\n",
    "    def __getitem__(self, index):\n",
    "        return self.x[index], self.y[index]\n",
    "\n",
    "    def __call__(self, add):\n",
    "        return [xi + add for xi in self.x]\n",
    "\n",
    "dataset = Dataset(\n",
    "    x = [1, 2, 3, 4],\n",
    "    y = ['a', 'b', 'c']    \n",
    ")\n",
    "\n",
    "print(dataset.sum_x()) # \"10\"\n",
    "print(len(dataset))    # \"3\"\n",
    "print(dataset[2])      # \"(3, 'c')\"\n",
    "print(dataset(3))      # \"[4, 5, 6, 7]\"\n",
    "\n",
    "for xi, yi in dataset:\n",
    "    print(xi, yi)\n",
    "\n",
    "# \"1 a\"\n",
    "# \"2 b\"\n",
    "# \"3 c\""
   ]
  },
  {
   "cell_type": "markdown",
   "metadata": {},
   "source": [
    "## Package and import\n",
    "\n",
    "`packages/myutils` 라는 폴더 안에 `utils.py` 라는 파일이 있으며, 그 안에 `print_name` 이라는 파일이 있습니다. 이 함수를 import 하여 사용하려하지만 `myutils` 라는 패키지가 import 되지 않습니다."
   ]
  },
  {
   "cell_type": "code",
   "execution_count": 4,
   "metadata": {},
   "outputs": [
    {
     "ename": "ModuleNotFoundError",
     "evalue": "No module named 'myutils'",
     "output_type": "error",
     "traceback": [
      "\u001b[0;31m---------------------------------------------------------------------------\u001b[0m",
      "\u001b[0;31mModuleNotFoundError\u001b[0m                       Traceback (most recent call last)",
      "\u001b[0;32m<ipython-input-4-3102c9c1d58e>\u001b[0m in \u001b[0;36m<module>\u001b[0;34m\u001b[0m\n\u001b[0;32m----> 1\u001b[0;31m \u001b[0;32mimport\u001b[0m \u001b[0mmyutils\u001b[0m\u001b[0;34m\u001b[0m\u001b[0;34m\u001b[0m\u001b[0m\n\u001b[0m",
      "\u001b[0;31mModuleNotFoundError\u001b[0m: No module named 'myutils'"
     ]
    }
   ],
   "source": [
    "import myutils"
   ]
  },
  {
   "cell_type": "markdown",
   "metadata": {},
   "source": [
    "`sys.path` 에는 패키지를 import 할 후보 디렉토리들이 포함되어 있습니다. `sys.path` 의 디렉토리를 순차적으로 탐색하며 `import` 할 패키지가 존재하는지 확인합니다. 아직 `myutils` 패키지가 존재하는 디렉토리가 `sys.path` 에 등록되어 있지 않기 때문입니다."
   ]
  },
  {
   "cell_type": "code",
   "execution_count": null,
   "metadata": {},
   "outputs": [],
   "source": [
    "import sys\n",
    "# sys.path"
   ]
  },
  {
   "cell_type": "markdown",
   "metadata": {},
   "source": [
    "이를 추가하면 `myutils` 패키지를 import 할 수 있습니다."
   ]
  },
  {
   "cell_type": "code",
   "execution_count": 5,
   "metadata": {},
   "outputs": [],
   "source": [
    "sys.path.append('./packages/')\n",
    "import myutils"
   ]
  },
  {
   "cell_type": "code",
   "execution_count": 6,
   "metadata": {},
   "outputs": [
    {
     "name": "stdout",
     "output_type": "stream",
     "text": [
      "Hello Lovit\n"
     ]
    }
   ],
   "source": [
    "from myutils import print_name\n",
    "\n",
    "print_name('Lovit')"
   ]
  },
  {
   "cell_type": "markdown",
   "metadata": {},
   "source": [
    "알파벳을 대문자로 변환하는 함수를 정의합니다."
   ]
  },
  {
   "cell_type": "code",
   "execution_count": 7,
   "metadata": {},
   "outputs": [
    {
     "data": {
      "text/plain": [
       "'ABC'"
      ]
     },
     "execution_count": 7,
     "metadata": {},
     "output_type": "execute_result"
    }
   ],
   "source": [
    "def to_capital(s):\n",
    "    return s.upper()\n",
    "\n",
    "to_capital('abc')"
   ]
  },
  {
   "cell_type": "markdown",
   "metadata": {},
   "source": [
    "`print_name` 의 첫번째 인자는 `name` 이며, 두번째 인자는 `transform` 입니다. 이 값이 `callable` 하면 (`__call__` 함수가 구현되어 있으면) 이를 이용합니다."
   ]
  },
  {
   "cell_type": "code",
   "execution_count": 8,
   "metadata": {},
   "outputs": [
    {
     "name": "stdout",
     "output_type": "stream",
     "text": [
      "Hello LOVIT\n"
     ]
    }
   ],
   "source": [
    "print_name('Lovit', to_capital)"
   ]
  },
  {
   "cell_type": "markdown",
   "metadata": {},
   "source": [
    "위에서 두 인자의 순서를 지켰기 때문에 함수가 제대로 작동합니다. 이처럼 순서를 지키는 인자를 position argument 라 합니다. 반대로 `transform=to_capital` 처럼 인자 이름을 적는 경우를 keyword argument 라 합니다."
   ]
  },
  {
   "cell_type": "code",
   "execution_count": 9,
   "metadata": {},
   "outputs": [
    {
     "name": "stdout",
     "output_type": "stream",
     "text": [
      "Hello LOVIT\n"
     ]
    }
   ],
   "source": [
    "print_name('Lovit', transform=to_capital)"
   ]
  },
  {
   "cell_type": "markdown",
   "metadata": {},
   "source": [
    "keyword arguments 는 그 순서를 지키지 않아도 됩니다."
   ]
  },
  {
   "cell_type": "code",
   "execution_count": 10,
   "metadata": {},
   "outputs": [
    {
     "name": "stdout",
     "output_type": "stream",
     "text": [
      "Hello LOVIT\n"
     ]
    }
   ],
   "source": [
    "print_name(transform=to_capital, name='Lovit')"
   ]
  },
  {
   "cell_type": "markdown",
   "metadata": {},
   "source": [
    "keyword argument 와 position argument 를 함께 이용할 수는 있지만, 이때는 반드시 position argument 를 먼저 입력해야 합니다."
   ]
  },
  {
   "cell_type": "code",
   "execution_count": 11,
   "metadata": {},
   "outputs": [
    {
     "ename": "SyntaxError",
     "evalue": "positional argument follows keyword argument (<ipython-input-11-044cfd92f1ed>, line 1)",
     "output_type": "error",
     "traceback": [
      "\u001b[0;36m  File \u001b[0;32m\"<ipython-input-11-044cfd92f1ed>\"\u001b[0;36m, line \u001b[0;32m1\u001b[0m\n\u001b[0;31m    print_name(name='Lovit', to_capital)\u001b[0m\n\u001b[0m                            ^\u001b[0m\n\u001b[0;31mSyntaxError\u001b[0m\u001b[0;31m:\u001b[0m positional argument follows keyword argument\n"
     ]
    }
   ],
   "source": [
    "print_name(name='Lovit', to_capital)"
   ]
  },
  {
   "cell_type": "markdown",
   "metadata": {},
   "source": [
    "또한 인자의 기본값이 정해진 경우에는 반드시 입력할 필요는 없습니다. 하지만 기본값이 정의되지 않은 변수는 반드시 입력을 해야 합니다."
   ]
  },
  {
   "cell_type": "code",
   "execution_count": 12,
   "metadata": {},
   "outputs": [
    {
     "name": "stdout",
     "output_type": "stream",
     "text": [
      "Hello Lovit\n"
     ]
    },
    {
     "ename": "TypeError",
     "evalue": "print_name() missing 1 required positional argument: 'name'",
     "output_type": "error",
     "traceback": [
      "\u001b[0;31m---------------------------------------------------------------------------\u001b[0m",
      "\u001b[0;31mTypeError\u001b[0m                                 Traceback (most recent call last)",
      "\u001b[0;32m<ipython-input-12-6a2f8670997b>\u001b[0m in \u001b[0;36m<module>\u001b[0;34m\u001b[0m\n\u001b[1;32m      1\u001b[0m \u001b[0mprint_name\u001b[0m\u001b[0;34m(\u001b[0m\u001b[0;34m'Lovit'\u001b[0m\u001b[0;34m)\u001b[0m\u001b[0;34m\u001b[0m\u001b[0;34m\u001b[0m\u001b[0m\n\u001b[0;32m----> 2\u001b[0;31m \u001b[0mprint_name\u001b[0m\u001b[0;34m(\u001b[0m\u001b[0mtransform\u001b[0m\u001b[0;34m=\u001b[0m\u001b[0mto_capital\u001b[0m\u001b[0;34m)\u001b[0m\u001b[0;34m\u001b[0m\u001b[0;34m\u001b[0m\u001b[0m\n\u001b[0m",
      "\u001b[0;31mTypeError\u001b[0m: print_name() missing 1 required positional argument: 'name'"
     ]
    }
   ],
   "source": [
    "print_name('Lovit')\n",
    "print_name(transform=to_capital)"
   ]
  },
  {
   "cell_type": "markdown",
   "metadata": {},
   "source": [
    "## See more\n",
    "\n",
    "점프 투 파이썬의 내용을 살펴보시길 추천합니다.\n",
    "\n",
    "- 함수 : https://wikidocs.net/24\n",
    "- 클래스 : https://wikidocs.net/28"
   ]
  },
  {
   "cell_type": "code",
   "execution_count": null,
   "metadata": {},
   "outputs": [],
   "source": []
  }
 ],
 "metadata": {
  "kernelspec": {
   "display_name": "Python 3",
   "language": "python",
   "name": "python3"
  },
  "language_info": {
   "codemirror_mode": {
    "name": "ipython",
    "version": 3
   },
   "file_extension": ".py",
   "mimetype": "text/x-python",
   "name": "python",
   "nbconvert_exporter": "python",
   "pygments_lexer": "ipython3",
   "version": "3.7.1"
  }
 },
 "nbformat": 4,
 "nbformat_minor": 2
}
