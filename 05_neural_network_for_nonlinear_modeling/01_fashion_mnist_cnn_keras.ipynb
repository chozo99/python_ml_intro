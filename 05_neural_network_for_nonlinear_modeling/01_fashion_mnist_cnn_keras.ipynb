{
 "cells": [
  {
   "cell_type": "markdown",
   "metadata": {},
   "source": [
    "Keras 는 scikit-learn 수준으로 추상화 되어 있는 패키지 입니다. Keras 의 간단한 모델 설정 함수들을 실행하면 그 안에서 tensorflow 의 여러 함수들이 실행됩니다. 즉 keras 는 backend 로 tensorflow 를 이용합니다. 그렇기 때문에 반드시 tensorflow 를 설치해야 합니다. 이를 위해서 다음을 설치하세요. Tensorflow 가 이용하는 몇몇 패키지들이 다른 패키지들과 충돌을 일으킬 수 있기 때문에 가능하면 가상환경을 만드신 다음에 설치하시는걸 권장드립니다.\n",
    "\n",
    "```\n",
    "pip install --upgrade tensorflow\n",
    "pip install keras\n",
    "```"
   ]
  },
  {
   "cell_type": "code",
   "execution_count": 1,
   "metadata": {},
   "outputs": [
    {
     "name": "stderr",
     "output_type": "stream",
     "text": [
      "Using TensorFlow backend.\n"
     ]
    },
    {
     "name": "stdout",
     "output_type": "stream",
     "text": [
      "keras==2.3.1\n",
      "tensorflow==2.1.0\n"
     ]
    }
   ],
   "source": [
    "import keras\n",
    "import tensorflow\n",
    "\n",
    "print(f'keras=={keras.__version__}')\n",
    "print(f'tensorflow=={tensorflow.__version__}')"
   ]
  },
  {
   "cell_type": "markdown",
   "metadata": {},
   "source": [
    "00 의 Feed forward neural network 의 실습에 이용했던 fashion-MNIST 데이터를 이용합니다. 이전 실습에서 이용했던 `show_image_grid()` 함수를 `image_utils.py` 파일에 넣어두었습니다."
   ]
  },
  {
   "cell_type": "code",
   "execution_count": 2,
   "metadata": {},
   "outputs": [
    {
     "data": {
      "text/html": [
       "\n",
       "    <div class=\"bk-root\">\n",
       "        <a href=\"https://bokeh.org\" target=\"_blank\" class=\"bk-logo bk-logo-small bk-logo-notebook\"></a>\n",
       "        <span id=\"1001\">Loading BokehJS ...</span>\n",
       "    </div>"
      ]
     },
     "metadata": {},
     "output_type": "display_data"
    },
    {
     "data": {
      "application/javascript": [
       "\n",
       "(function(root) {\n",
       "  function now() {\n",
       "    return new Date();\n",
       "  }\n",
       "\n",
       "  var force = true;\n",
       "\n",
       "  if (typeof root._bokeh_onload_callbacks === \"undefined\" || force === true) {\n",
       "    root._bokeh_onload_callbacks = [];\n",
       "    root._bokeh_is_loading = undefined;\n",
       "  }\n",
       "\n",
       "  var JS_MIME_TYPE = 'application/javascript';\n",
       "  var HTML_MIME_TYPE = 'text/html';\n",
       "  var EXEC_MIME_TYPE = 'application/vnd.bokehjs_exec.v0+json';\n",
       "  var CLASS_NAME = 'output_bokeh rendered_html';\n",
       "\n",
       "  /**\n",
       "   * Render data to the DOM node\n",
       "   */\n",
       "  function render(props, node) {\n",
       "    var script = document.createElement(\"script\");\n",
       "    node.appendChild(script);\n",
       "  }\n",
       "\n",
       "  /**\n",
       "   * Handle when an output is cleared or removed\n",
       "   */\n",
       "  function handleClearOutput(event, handle) {\n",
       "    var cell = handle.cell;\n",
       "\n",
       "    var id = cell.output_area._bokeh_element_id;\n",
       "    var server_id = cell.output_area._bokeh_server_id;\n",
       "    // Clean up Bokeh references\n",
       "    if (id != null && id in Bokeh.index) {\n",
       "      Bokeh.index[id].model.document.clear();\n",
       "      delete Bokeh.index[id];\n",
       "    }\n",
       "\n",
       "    if (server_id !== undefined) {\n",
       "      // Clean up Bokeh references\n",
       "      var cmd = \"from bokeh.io.state import curstate; print(curstate().uuid_to_server['\" + server_id + \"'].get_sessions()[0].document.roots[0]._id)\";\n",
       "      cell.notebook.kernel.execute(cmd, {\n",
       "        iopub: {\n",
       "          output: function(msg) {\n",
       "            var id = msg.content.text.trim();\n",
       "            if (id in Bokeh.index) {\n",
       "              Bokeh.index[id].model.document.clear();\n",
       "              delete Bokeh.index[id];\n",
       "            }\n",
       "          }\n",
       "        }\n",
       "      });\n",
       "      // Destroy server and session\n",
       "      var cmd = \"import bokeh.io.notebook as ion; ion.destroy_server('\" + server_id + \"')\";\n",
       "      cell.notebook.kernel.execute(cmd);\n",
       "    }\n",
       "  }\n",
       "\n",
       "  /**\n",
       "   * Handle when a new output is added\n",
       "   */\n",
       "  function handleAddOutput(event, handle) {\n",
       "    var output_area = handle.output_area;\n",
       "    var output = handle.output;\n",
       "\n",
       "    // limit handleAddOutput to display_data with EXEC_MIME_TYPE content only\n",
       "    if ((output.output_type != \"display_data\") || (!output.data.hasOwnProperty(EXEC_MIME_TYPE))) {\n",
       "      return\n",
       "    }\n",
       "\n",
       "    var toinsert = output_area.element.find(\".\" + CLASS_NAME.split(' ')[0]);\n",
       "\n",
       "    if (output.metadata[EXEC_MIME_TYPE][\"id\"] !== undefined) {\n",
       "      toinsert[toinsert.length - 1].firstChild.textContent = output.data[JS_MIME_TYPE];\n",
       "      // store reference to embed id on output_area\n",
       "      output_area._bokeh_element_id = output.metadata[EXEC_MIME_TYPE][\"id\"];\n",
       "    }\n",
       "    if (output.metadata[EXEC_MIME_TYPE][\"server_id\"] !== undefined) {\n",
       "      var bk_div = document.createElement(\"div\");\n",
       "      bk_div.innerHTML = output.data[HTML_MIME_TYPE];\n",
       "      var script_attrs = bk_div.children[0].attributes;\n",
       "      for (var i = 0; i < script_attrs.length; i++) {\n",
       "        toinsert[toinsert.length - 1].firstChild.setAttribute(script_attrs[i].name, script_attrs[i].value);\n",
       "      }\n",
       "      // store reference to server id on output_area\n",
       "      output_area._bokeh_server_id = output.metadata[EXEC_MIME_TYPE][\"server_id\"];\n",
       "    }\n",
       "  }\n",
       "\n",
       "  function register_renderer(events, OutputArea) {\n",
       "\n",
       "    function append_mime(data, metadata, element) {\n",
       "      // create a DOM node to render to\n",
       "      var toinsert = this.create_output_subarea(\n",
       "        metadata,\n",
       "        CLASS_NAME,\n",
       "        EXEC_MIME_TYPE\n",
       "      );\n",
       "      this.keyboard_manager.register_events(toinsert);\n",
       "      // Render to node\n",
       "      var props = {data: data, metadata: metadata[EXEC_MIME_TYPE]};\n",
       "      render(props, toinsert[toinsert.length - 1]);\n",
       "      element.append(toinsert);\n",
       "      return toinsert\n",
       "    }\n",
       "\n",
       "    /* Handle when an output is cleared or removed */\n",
       "    events.on('clear_output.CodeCell', handleClearOutput);\n",
       "    events.on('delete.Cell', handleClearOutput);\n",
       "\n",
       "    /* Handle when a new output is added */\n",
       "    events.on('output_added.OutputArea', handleAddOutput);\n",
       "\n",
       "    /**\n",
       "     * Register the mime type and append_mime function with output_area\n",
       "     */\n",
       "    OutputArea.prototype.register_mime_type(EXEC_MIME_TYPE, append_mime, {\n",
       "      /* Is output safe? */\n",
       "      safe: true,\n",
       "      /* Index of renderer in `output_area.display_order` */\n",
       "      index: 0\n",
       "    });\n",
       "  }\n",
       "\n",
       "  // register the mime type if in Jupyter Notebook environment and previously unregistered\n",
       "  if (root.Jupyter !== undefined) {\n",
       "    var events = require('base/js/events');\n",
       "    var OutputArea = require('notebook/js/outputarea').OutputArea;\n",
       "\n",
       "    if (OutputArea.prototype.mime_types().indexOf(EXEC_MIME_TYPE) == -1) {\n",
       "      register_renderer(events, OutputArea);\n",
       "    }\n",
       "  }\n",
       "\n",
       "  \n",
       "  if (typeof (root._bokeh_timeout) === \"undefined\" || force === true) {\n",
       "    root._bokeh_timeout = Date.now() + 5000;\n",
       "    root._bokeh_failed_load = false;\n",
       "  }\n",
       "\n",
       "  var NB_LOAD_WARNING = {'data': {'text/html':\n",
       "     \"<div style='background-color: #fdd'>\\n\"+\n",
       "     \"<p>\\n\"+\n",
       "     \"BokehJS does not appear to have successfully loaded. If loading BokehJS from CDN, this \\n\"+\n",
       "     \"may be due to a slow or bad network connection. Possible fixes:\\n\"+\n",
       "     \"</p>\\n\"+\n",
       "     \"<ul>\\n\"+\n",
       "     \"<li>re-rerun `output_notebook()` to attempt to load from CDN again, or</li>\\n\"+\n",
       "     \"<li>use INLINE resources instead, as so:</li>\\n\"+\n",
       "     \"</ul>\\n\"+\n",
       "     \"<code>\\n\"+\n",
       "     \"from bokeh.resources import INLINE\\n\"+\n",
       "     \"output_notebook(resources=INLINE)\\n\"+\n",
       "     \"</code>\\n\"+\n",
       "     \"</div>\"}};\n",
       "\n",
       "  function display_loaded() {\n",
       "    var el = document.getElementById(\"1001\");\n",
       "    if (el != null) {\n",
       "      el.textContent = \"BokehJS is loading...\";\n",
       "    }\n",
       "    if (root.Bokeh !== undefined) {\n",
       "      if (el != null) {\n",
       "        el.textContent = \"BokehJS \" + root.Bokeh.version + \" successfully loaded.\";\n",
       "      }\n",
       "    } else if (Date.now() < root._bokeh_timeout) {\n",
       "      setTimeout(display_loaded, 100)\n",
       "    }\n",
       "  }\n",
       "\n",
       "\n",
       "  function run_callbacks() {\n",
       "    try {\n",
       "      root._bokeh_onload_callbacks.forEach(function(callback) {\n",
       "        if (callback != null)\n",
       "          callback();\n",
       "      });\n",
       "    } finally {\n",
       "      delete root._bokeh_onload_callbacks\n",
       "    }\n",
       "    console.debug(\"Bokeh: all callbacks have finished\");\n",
       "  }\n",
       "\n",
       "  function load_libs(css_urls, js_urls, callback) {\n",
       "    if (css_urls == null) css_urls = [];\n",
       "    if (js_urls == null) js_urls = [];\n",
       "\n",
       "    root._bokeh_onload_callbacks.push(callback);\n",
       "    if (root._bokeh_is_loading > 0) {\n",
       "      console.debug(\"Bokeh: BokehJS is being loaded, scheduling callback at\", now());\n",
       "      return null;\n",
       "    }\n",
       "    if (js_urls == null || js_urls.length === 0) {\n",
       "      run_callbacks();\n",
       "      return null;\n",
       "    }\n",
       "    console.debug(\"Bokeh: BokehJS not loaded, scheduling load and callback at\", now());\n",
       "    root._bokeh_is_loading = css_urls.length + js_urls.length;\n",
       "\n",
       "    function on_load() {\n",
       "      root._bokeh_is_loading--;\n",
       "      if (root._bokeh_is_loading === 0) {\n",
       "        console.debug(\"Bokeh: all BokehJS libraries/stylesheets loaded\");\n",
       "        run_callbacks()\n",
       "      }\n",
       "    }\n",
       "\n",
       "    function on_error() {\n",
       "      console.error(\"failed to load \" + url);\n",
       "    }\n",
       "\n",
       "    for (var i = 0; i < css_urls.length; i++) {\n",
       "      var url = css_urls[i];\n",
       "      const element = document.createElement(\"link\");\n",
       "      element.onload = on_load;\n",
       "      element.onerror = on_error;\n",
       "      element.rel = \"stylesheet\";\n",
       "      element.type = \"text/css\";\n",
       "      element.href = url;\n",
       "      console.debug(\"Bokeh: injecting link tag for BokehJS stylesheet: \", url);\n",
       "      document.body.appendChild(element);\n",
       "    }\n",
       "\n",
       "    for (var i = 0; i < js_urls.length; i++) {\n",
       "      var url = js_urls[i];\n",
       "      var element = document.createElement('script');\n",
       "      element.onload = on_load;\n",
       "      element.onerror = on_error;\n",
       "      element.async = false;\n",
       "      element.src = url;\n",
       "      console.debug(\"Bokeh: injecting script tag for BokehJS library: \", url);\n",
       "      document.head.appendChild(element);\n",
       "    }\n",
       "  };var element = document.getElementById(\"1001\");\n",
       "  if (element == null) {\n",
       "    console.error(\"Bokeh: ERROR: autoload.js configured with elementid '1001' but no matching script tag was found. \")\n",
       "    return false;\n",
       "  }\n",
       "\n",
       "  function inject_raw_css(css) {\n",
       "    const element = document.createElement(\"style\");\n",
       "    element.appendChild(document.createTextNode(css));\n",
       "    document.body.appendChild(element);\n",
       "  }\n",
       "\n",
       "  \n",
       "  var js_urls = [\"https://cdn.pydata.org/bokeh/release/bokeh-1.4.0.min.js\", \"https://cdn.pydata.org/bokeh/release/bokeh-widgets-1.4.0.min.js\", \"https://cdn.pydata.org/bokeh/release/bokeh-tables-1.4.0.min.js\", \"https://cdn.pydata.org/bokeh/release/bokeh-gl-1.4.0.min.js\"];\n",
       "  var css_urls = [];\n",
       "  \n",
       "\n",
       "  var inline_js = [\n",
       "    function(Bokeh) {\n",
       "      Bokeh.set_log_level(\"info\");\n",
       "    },\n",
       "    function(Bokeh) {\n",
       "    \n",
       "    \n",
       "    }\n",
       "  ];\n",
       "\n",
       "  function run_inline_js() {\n",
       "    \n",
       "    if (root.Bokeh !== undefined || force === true) {\n",
       "      \n",
       "    for (var i = 0; i < inline_js.length; i++) {\n",
       "      inline_js[i].call(root, root.Bokeh);\n",
       "    }\n",
       "    if (force === true) {\n",
       "        display_loaded();\n",
       "      }} else if (Date.now() < root._bokeh_timeout) {\n",
       "      setTimeout(run_inline_js, 100);\n",
       "    } else if (!root._bokeh_failed_load) {\n",
       "      console.log(\"Bokeh: BokehJS failed to load within specified timeout.\");\n",
       "      root._bokeh_failed_load = true;\n",
       "    } else if (force !== true) {\n",
       "      var cell = $(document.getElementById(\"1001\")).parents('.cell').data().cell;\n",
       "      cell.output_area.append_execute_result(NB_LOAD_WARNING)\n",
       "    }\n",
       "\n",
       "  }\n",
       "\n",
       "  if (root._bokeh_is_loading === 0) {\n",
       "    console.debug(\"Bokeh: BokehJS loaded, going straight to plotting\");\n",
       "    run_inline_js();\n",
       "  } else {\n",
       "    load_libs(css_urls, js_urls, function() {\n",
       "      console.debug(\"Bokeh: BokehJS plotting callback run at\", now());\n",
       "      run_inline_js();\n",
       "    });\n",
       "  }\n",
       "}(window));"
      ],
      "application/vnd.bokehjs_load.v0+json": "\n(function(root) {\n  function now() {\n    return new Date();\n  }\n\n  var force = true;\n\n  if (typeof root._bokeh_onload_callbacks === \"undefined\" || force === true) {\n    root._bokeh_onload_callbacks = [];\n    root._bokeh_is_loading = undefined;\n  }\n\n  \n\n  \n  if (typeof (root._bokeh_timeout) === \"undefined\" || force === true) {\n    root._bokeh_timeout = Date.now() + 5000;\n    root._bokeh_failed_load = false;\n  }\n\n  var NB_LOAD_WARNING = {'data': {'text/html':\n     \"<div style='background-color: #fdd'>\\n\"+\n     \"<p>\\n\"+\n     \"BokehJS does not appear to have successfully loaded. If loading BokehJS from CDN, this \\n\"+\n     \"may be due to a slow or bad network connection. Possible fixes:\\n\"+\n     \"</p>\\n\"+\n     \"<ul>\\n\"+\n     \"<li>re-rerun `output_notebook()` to attempt to load from CDN again, or</li>\\n\"+\n     \"<li>use INLINE resources instead, as so:</li>\\n\"+\n     \"</ul>\\n\"+\n     \"<code>\\n\"+\n     \"from bokeh.resources import INLINE\\n\"+\n     \"output_notebook(resources=INLINE)\\n\"+\n     \"</code>\\n\"+\n     \"</div>\"}};\n\n  function display_loaded() {\n    var el = document.getElementById(\"1001\");\n    if (el != null) {\n      el.textContent = \"BokehJS is loading...\";\n    }\n    if (root.Bokeh !== undefined) {\n      if (el != null) {\n        el.textContent = \"BokehJS \" + root.Bokeh.version + \" successfully loaded.\";\n      }\n    } else if (Date.now() < root._bokeh_timeout) {\n      setTimeout(display_loaded, 100)\n    }\n  }\n\n\n  function run_callbacks() {\n    try {\n      root._bokeh_onload_callbacks.forEach(function(callback) {\n        if (callback != null)\n          callback();\n      });\n    } finally {\n      delete root._bokeh_onload_callbacks\n    }\n    console.debug(\"Bokeh: all callbacks have finished\");\n  }\n\n  function load_libs(css_urls, js_urls, callback) {\n    if (css_urls == null) css_urls = [];\n    if (js_urls == null) js_urls = [];\n\n    root._bokeh_onload_callbacks.push(callback);\n    if (root._bokeh_is_loading > 0) {\n      console.debug(\"Bokeh: BokehJS is being loaded, scheduling callback at\", now());\n      return null;\n    }\n    if (js_urls == null || js_urls.length === 0) {\n      run_callbacks();\n      return null;\n    }\n    console.debug(\"Bokeh: BokehJS not loaded, scheduling load and callback at\", now());\n    root._bokeh_is_loading = css_urls.length + js_urls.length;\n\n    function on_load() {\n      root._bokeh_is_loading--;\n      if (root._bokeh_is_loading === 0) {\n        console.debug(\"Bokeh: all BokehJS libraries/stylesheets loaded\");\n        run_callbacks()\n      }\n    }\n\n    function on_error() {\n      console.error(\"failed to load \" + url);\n    }\n\n    for (var i = 0; i < css_urls.length; i++) {\n      var url = css_urls[i];\n      const element = document.createElement(\"link\");\n      element.onload = on_load;\n      element.onerror = on_error;\n      element.rel = \"stylesheet\";\n      element.type = \"text/css\";\n      element.href = url;\n      console.debug(\"Bokeh: injecting link tag for BokehJS stylesheet: \", url);\n      document.body.appendChild(element);\n    }\n\n    for (var i = 0; i < js_urls.length; i++) {\n      var url = js_urls[i];\n      var element = document.createElement('script');\n      element.onload = on_load;\n      element.onerror = on_error;\n      element.async = false;\n      element.src = url;\n      console.debug(\"Bokeh: injecting script tag for BokehJS library: \", url);\n      document.head.appendChild(element);\n    }\n  };var element = document.getElementById(\"1001\");\n  if (element == null) {\n    console.error(\"Bokeh: ERROR: autoload.js configured with elementid '1001' but no matching script tag was found. \")\n    return false;\n  }\n\n  function inject_raw_css(css) {\n    const element = document.createElement(\"style\");\n    element.appendChild(document.createTextNode(css));\n    document.body.appendChild(element);\n  }\n\n  \n  var js_urls = [\"https://cdn.pydata.org/bokeh/release/bokeh-1.4.0.min.js\", \"https://cdn.pydata.org/bokeh/release/bokeh-widgets-1.4.0.min.js\", \"https://cdn.pydata.org/bokeh/release/bokeh-tables-1.4.0.min.js\", \"https://cdn.pydata.org/bokeh/release/bokeh-gl-1.4.0.min.js\"];\n  var css_urls = [];\n  \n\n  var inline_js = [\n    function(Bokeh) {\n      Bokeh.set_log_level(\"info\");\n    },\n    function(Bokeh) {\n    \n    \n    }\n  ];\n\n  function run_inline_js() {\n    \n    if (root.Bokeh !== undefined || force === true) {\n      \n    for (var i = 0; i < inline_js.length; i++) {\n      inline_js[i].call(root, root.Bokeh);\n    }\n    if (force === true) {\n        display_loaded();\n      }} else if (Date.now() < root._bokeh_timeout) {\n      setTimeout(run_inline_js, 100);\n    } else if (!root._bokeh_failed_load) {\n      console.log(\"Bokeh: BokehJS failed to load within specified timeout.\");\n      root._bokeh_failed_load = true;\n    } else if (force !== true) {\n      var cell = $(document.getElementById(\"1001\")).parents('.cell').data().cell;\n      cell.output_area.append_execute_result(NB_LOAD_WARNING)\n    }\n\n  }\n\n  if (root._bokeh_is_loading === 0) {\n    console.debug(\"Bokeh: BokehJS loaded, going straight to plotting\");\n    run_inline_js();\n  } else {\n    load_libs(css_urls, js_urls, function() {\n      console.debug(\"Bokeh: BokehJS plotting callback run at\", now());\n      run_inline_js();\n    });\n  }\n}(window));"
     },
     "metadata": {},
     "output_type": "display_data"
    }
   ],
   "source": [
    "import sys\n",
    "mnist_utils_path = '../../../../fashion-mnist/utils/'\n",
    "mnist_data_path  = '../../../../fashion-mnist/data/fashion/'\n",
    "sys.path.append(mnist_utils_path)\n",
    "\n",
    "from bokeh.plotting import output_notebook\n",
    "from image_utils import show_image_grid\n",
    "\n",
    "output_notebook()"
   ]
  },
  {
   "cell_type": "markdown",
   "metadata": {},
   "source": [
    "학습용 데이터와 테스트용 데이터를 모두 불러옵니다. `numpy.unique()` 를 이용하면 클래스 개수를 확인할 수 있습니다."
   ]
  },
  {
   "cell_type": "code",
   "execution_count": 3,
   "metadata": {},
   "outputs": [
    {
     "name": "stdout",
     "output_type": "stream",
     "text": [
      "(60000, 784)\n",
      "(60000,)\n",
      "(10000, 784)\n",
      "(10000,)\n",
      "10\n"
     ]
    }
   ],
   "source": [
    "import numpy as np\n",
    "from mnist_reader import load_mnist\n",
    "\n",
    "train, train_labels = load_mnist(mnist_data_path, kind='train')\n",
    "test, test_labels   = load_mnist(mnist_data_path, kind='t10k')\n",
    "\n",
    "n_classes = np.unique(train_labels).shape[0]\n",
    "\n",
    "print(train.shape)\n",
    "print(train_labels.shape)\n",
    "print(test.shape)\n",
    "print(test_labels.shape)\n",
    "print(n_classes)"
   ]
  },
  {
   "cell_type": "markdown",
   "metadata": {},
   "source": [
    "12 장의 이미지가 어떤 이미지인지 확인합니다."
   ]
  },
  {
   "cell_type": "code",
   "execution_count": 4,
   "metadata": {},
   "outputs": [
    {
     "data": {
      "text/html": [
       "\n",
       "\n",
       "\n",
       "\n",
       "\n",
       "\n",
       "  <div class=\"bk-root\" id=\"4304d6ec-d984-4c1a-9b66-f588fdaf4bb1\" data-root-id=\"1605\"></div>\n"
      ]
     },
     "metadata": {},
     "output_type": "display_data"
    },
    {
     "data": {
      "application/javascript": [
       "(function(root) {\n",
       "  function embed_document(root) {\n",
       "    \n",
       "  var docs_json = {\"df0f4271-b0a5-4063-8b70-861ab417f0bf\":{\"roots\":{\"references\":[{\"attributes\":{\"children\":[{\"id\":\"1604\",\"type\":\"ToolbarBox\"},{\"id\":\"1602\",\"type\":\"GridBox\"}]},\"id\":\"1605\",\"type\":\"Column\"},{\"attributes\":{},\"id\":\"1388\",\"type\":\"BasicTicker\"},{\"attributes\":{},\"id\":\"1383\",\"type\":\"BasicTicker\"},{\"attributes\":{\"ticker\":{\"id\":\"1383\",\"type\":\"BasicTicker\"},\"visible\":false},\"id\":\"1386\",\"type\":\"Grid\"},{\"attributes\":{\"data_source\":{\"id\":\"1405\",\"type\":\"ColumnDataSource\"},\"glyph\":{\"id\":\"1406\",\"type\":\"Image\"},\"hover_glyph\":null,\"muted_glyph\":null,\"nonselection_glyph\":{\"id\":\"1408\",\"type\":\"Image\"},\"selection_glyph\":null,\"view\":{\"id\":\"1411\",\"type\":\"CDSView\"}},\"id\":\"1410\",\"type\":\"GlyphRenderer\"},{\"attributes\":{\"dimension\":1,\"ticker\":{\"id\":\"1388\",\"type\":\"BasicTicker\"},\"visible\":false},\"id\":\"1391\",\"type\":\"Grid\"},{\"attributes\":{\"formatter\":{\"id\":\"1579\",\"type\":\"BasicTickFormatter\"},\"ticker\":{\"id\":\"1388\",\"type\":\"BasicTicker\"},\"visible\":false},\"id\":\"1387\",\"type\":\"LinearAxis\"},{\"attributes\":{\"color_mapper\":{\"id\":\"1409\",\"type\":\"LinearColorMapper\"},\"dh\":{\"units\":\"data\",\"value\":1},\"dw\":{\"units\":\"data\",\"value\":1},\"image\":{\"field\":\"image\"},\"x\":{\"value\":0},\"y\":{\"value\":0}},\"id\":\"1408\",\"type\":\"Image\"},{\"attributes\":{\"color_mapper\":{\"id\":\"1448\",\"type\":\"LinearColorMapper\"},\"dh\":{\"units\":\"data\",\"value\":1},\"dw\":{\"units\":\"data\",\"value\":1},\"image\":{\"field\":\"image\"},\"x\":{\"value\":0},\"y\":{\"value\":0}},\"id\":\"1447\",\"type\":\"Image\"},{\"attributes\":{\"palette\":[\"#000000\",\"#252525\",\"#525252\",\"#737373\",\"#969696\",\"#bdbdbd\",\"#d9d9d9\",\"#f0f0f0\",\"#ffffff\"]},\"id\":\"1407\",\"type\":\"LinearColorMapper\"},{\"attributes\":{\"active_drag\":\"auto\",\"active_inspect\":\"auto\",\"active_multi\":null,\"active_scroll\":\"auto\",\"active_tap\":\"auto\",\"tools\":[{\"id\":\"1392\",\"type\":\"PanTool\"},{\"id\":\"1393\",\"type\":\"WheelZoomTool\"},{\"id\":\"1394\",\"type\":\"BoxZoomTool\"},{\"id\":\"1395\",\"type\":\"SaveTool\"},{\"id\":\"1396\",\"type\":\"ResetTool\"},{\"id\":\"1397\",\"type\":\"HelpTool\"}]},\"id\":\"1398\",\"type\":\"Toolbar\"},{\"attributes\":{\"callback\":null,\"data\":{\"image\":[{\"__ndarray__\":\"AAAAAAAAAAAAAAAAAAAAAAAAAAAAAAAAAAAAAAADAB1EAAEAAAAAAAEAAJiztKKHWSYAAAAAAAAACQCgugAIAAAAAAIAAML//////////8pIAAAAAAoAj4AACgAAAAACAEH16e/w6+bf5fH9/P8tAAAIAKV4AAkAAAABAADP5ubt8/Lv6PTy5eD9pQAAAAC8aQACAAAAAgAt6er///Tz6/Te2+3w8MUAAgAAzFkAAgAAAAAArfKvJor//P/k0/Pt09/5YAMAANpAAAIAAAAAE++xAAAA3dC9xtj/zwAIXD4CAADkMQACAAAAAJHEAAAAAE3u2+nn/7UAAAAAAgA67hkAAgAJACPZHQABAAAA2fHQ0OiEAAQGBQEAdvAIAAAAAADDhAAIAAIAABWKKAAAAAABAAAAAJntCgACAACfrQAAAAEAAAAAAAAAAAABAAEAAADK4wYAAAC5zAAAAgABAAAAAgQEAwEAAAAAAAAU6eAAAADs+gEAAQQAAQAAAAAAAAAAAAAAAAAAae7mZVf/0gAAAAAAAQAAAAAAAAAAAAAAAAAAAK7j6P7/5dTRAAABAgEAAAEAAAAAAAAAAAAAABnu3d0vS8zG7QAAAgAAAAAAAAAAAAAAAAAAAACkvyoAAAnbt/9MAAQAAAEBAAAAAAAAAAAAAAAAEwAAAAAAtrX8qgAAAAUCAAAAAAAAAAAAAAAAAAAEAwEDAHfG8+sAAAAAABMAAAAAAAAAAAAAAAADAAABABrSzcex8cbhtsOzIwAFAAAAAAAAAAAAAAAAAQAW2criioZvOykXAAAAAgAAAAAAAAAAAAAAAAEASurn9B0AAAAAAAAAAAAAAAAAAAAAAAAAAAEAG9fn7D4AAgAJBQMDAAEBAAAAAAAAAAAAAAAGALD/2S0ABQAAAQEAAAEAAAEAAAAAAAAAAAAABwAypAAAAAAAAAABAQAAAAAAAAAAAAAAAAAAAAAAAAAAAAAAAAAAAAAAAAAAAAAAAAAAAAAAAAAAAAAAAAAAAAAAAAAAAAAAAAAAAAAAAAAAAA==\",\"dtype\":\"uint8\",\"shape\":[28,28]}]},\"selected\":{\"id\":\"1581\",\"type\":\"Selection\"},\"selection_policy\":{\"id\":\"1582\",\"type\":\"UnionRenderers\"}},\"id\":\"1405\",\"type\":\"ColumnDataSource\"},{\"attributes\":{},\"id\":\"1392\",\"type\":\"PanTool\"},{\"attributes\":{},\"id\":\"1393\",\"type\":\"WheelZoomTool\"},{\"attributes\":{\"overlay\":{\"id\":\"1580\",\"type\":\"BoxAnnotation\"}},\"id\":\"1394\",\"type\":\"BoxZoomTool\"},{\"attributes\":{},\"id\":\"1395\",\"type\":\"SaveTool\"},{\"attributes\":{},\"id\":\"1396\",\"type\":\"ResetTool\"},{\"attributes\":{},\"id\":\"1397\",\"type\":\"HelpTool\"},{\"attributes\":{\"below\":[{\"id\":\"1423\",\"type\":\"LinearAxis\"}],\"center\":[{\"id\":\"1427\",\"type\":\"Grid\"},{\"id\":\"1432\",\"type\":\"Grid\"}],\"left\":[{\"id\":\"1428\",\"type\":\"LinearAxis\"}],\"plot_height\":150,\"plot_width\":150,\"renderers\":[{\"id\":\"1451\",\"type\":\"GlyphRenderer\"}],\"title\":{\"id\":\"1413\",\"type\":\"Title\"},\"toolbar\":{\"id\":\"1439\",\"type\":\"Toolbar\"},\"toolbar_location\":null,\"x_range\":{\"id\":\"1415\",\"type\":\"DataRange1d\"},\"x_scale\":{\"id\":\"1419\",\"type\":\"LinearScale\"},\"y_range\":{\"id\":\"1417\",\"type\":\"DataRange1d\"},\"y_scale\":{\"id\":\"1421\",\"type\":\"LinearScale\"}},\"id\":\"1412\",\"subtype\":\"Figure\",\"type\":\"Plot\"},{\"attributes\":{\"palette\":[\"#000000\",\"#252525\",\"#525252\",\"#737373\",\"#969696\",\"#bdbdbd\",\"#d9d9d9\",\"#f0f0f0\",\"#ffffff\"]},\"id\":\"1409\",\"type\":\"LinearColorMapper\"},{\"attributes\":{\"source\":{\"id\":\"1405\",\"type\":\"ColumnDataSource\"}},\"id\":\"1411\",\"type\":\"CDSView\"},{\"attributes\":{\"text\":\"Label 0\"},\"id\":\"1413\",\"type\":\"Title\"},{\"attributes\":{\"callback\":null},\"id\":\"1415\",\"type\":\"DataRange1d\"},{\"attributes\":{\"callback\":null},\"id\":\"1417\",\"type\":\"DataRange1d\"},{\"attributes\":{},\"id\":\"1419\",\"type\":\"LinearScale\"},{\"attributes\":{},\"id\":\"1421\",\"type\":\"LinearScale\"},{\"attributes\":{\"formatter\":{\"id\":\"1586\",\"type\":\"BasicTickFormatter\"},\"ticker\":{\"id\":\"1424\",\"type\":\"BasicTicker\"},\"visible\":false},\"id\":\"1423\",\"type\":\"LinearAxis\"},{\"attributes\":{\"formatter\":{\"id\":\"1588\",\"type\":\"BasicTickFormatter\"},\"ticker\":{\"id\":\"1429\",\"type\":\"BasicTicker\"},\"visible\":false},\"id\":\"1428\",\"type\":\"LinearAxis\"},{\"attributes\":{},\"id\":\"1424\",\"type\":\"BasicTicker\"},{\"attributes\":{\"ticker\":{\"id\":\"1424\",\"type\":\"BasicTicker\"},\"visible\":false},\"id\":\"1427\",\"type\":\"Grid\"},{\"attributes\":{},\"id\":\"1429\",\"type\":\"BasicTicker\"},{\"attributes\":{\"callback\":null},\"id\":\"1087\",\"type\":\"DataRange1d\"},{\"attributes\":{\"active_drag\":\"auto\",\"active_inspect\":\"auto\",\"active_multi\":null,\"active_scroll\":\"auto\",\"active_tap\":\"auto\",\"tools\":[{\"id\":\"1474\",\"type\":\"PanTool\"},{\"id\":\"1475\",\"type\":\"WheelZoomTool\"},{\"id\":\"1476\",\"type\":\"BoxZoomTool\"},{\"id\":\"1477\",\"type\":\"SaveTool\"},{\"id\":\"1478\",\"type\":\"ResetTool\"},{\"id\":\"1479\",\"type\":\"HelpTool\"}]},\"id\":\"1480\",\"type\":\"Toolbar\"},{\"attributes\":{},\"id\":\"1474\",\"type\":\"PanTool\"},{\"attributes\":{},\"id\":\"1091\",\"type\":\"LinearScale\"},{\"attributes\":{},\"id\":\"1475\",\"type\":\"WheelZoomTool\"},{\"attributes\":{},\"id\":\"1093\",\"type\":\"LinearScale\"},{\"attributes\":{\"overlay\":{\"id\":\"1598\",\"type\":\"BoxAnnotation\"}},\"id\":\"1476\",\"type\":\"BoxZoomTool\"},{\"attributes\":{},\"id\":\"1477\",\"type\":\"SaveTool\"},{\"attributes\":{},\"id\":\"1478\",\"type\":\"ResetTool\"},{\"attributes\":{\"formatter\":{\"id\":\"1514\",\"type\":\"BasicTickFormatter\"},\"ticker\":{\"id\":\"1096\",\"type\":\"BasicTicker\"},\"visible\":false},\"id\":\"1095\",\"type\":\"LinearAxis\"},{\"attributes\":{},\"id\":\"1101\",\"type\":\"BasicTicker\"},{\"attributes\":{},\"id\":\"1496\",\"type\":\"BasicTickFormatter\"},{\"attributes\":{},\"id\":\"1096\",\"type\":\"BasicTicker\"},{\"attributes\":{},\"id\":\"1479\",\"type\":\"HelpTool\"},{\"attributes\":{\"ticker\":{\"id\":\"1096\",\"type\":\"BasicTicker\"},\"visible\":false},\"id\":\"1099\",\"type\":\"Grid\"},{\"attributes\":{\"data_source\":{\"id\":\"1118\",\"type\":\"ColumnDataSource\"},\"glyph\":{\"id\":\"1119\",\"type\":\"Image\"},\"hover_glyph\":null,\"muted_glyph\":null,\"nonselection_glyph\":{\"id\":\"1121\",\"type\":\"Image\"},\"selection_glyph\":null,\"view\":{\"id\":\"1124\",\"type\":\"CDSView\"}},\"id\":\"1123\",\"type\":\"GlyphRenderer\"},{\"attributes\":{\"data_source\":{\"id\":\"1487\",\"type\":\"ColumnDataSource\"},\"glyph\":{\"id\":\"1488\",\"type\":\"Image\"},\"hover_glyph\":null,\"muted_glyph\":null,\"nonselection_glyph\":{\"id\":\"1490\",\"type\":\"Image\"},\"selection_glyph\":null,\"view\":{\"id\":\"1493\",\"type\":\"CDSView\"}},\"id\":\"1492\",\"type\":\"GlyphRenderer\"},{\"attributes\":{\"dimension\":1,\"ticker\":{\"id\":\"1101\",\"type\":\"BasicTicker\"},\"visible\":false},\"id\":\"1104\",\"type\":\"Grid\"},{\"attributes\":{\"formatter\":{\"id\":\"1516\",\"type\":\"BasicTickFormatter\"},\"ticker\":{\"id\":\"1101\",\"type\":\"BasicTicker\"},\"visible\":false},\"id\":\"1100\",\"type\":\"LinearAxis\"},{\"attributes\":{},\"id\":\"1507\",\"type\":\"BasicTickFormatter\"},{\"attributes\":{\"color_mapper\":{\"id\":\"1122\",\"type\":\"LinearColorMapper\"},\"dh\":{\"units\":\"data\",\"value\":1},\"dw\":{\"units\":\"data\",\"value\":1},\"image\":{\"field\":\"image\"},\"x\":{\"value\":0},\"y\":{\"value\":0}},\"id\":\"1121\",\"type\":\"Image\"},{\"attributes\":{\"palette\":[\"#000000\",\"#252525\",\"#525252\",\"#737373\",\"#969696\",\"#bdbdbd\",\"#d9d9d9\",\"#f0f0f0\",\"#ffffff\"]},\"id\":\"1491\",\"type\":\"LinearColorMapper\"},{\"attributes\":{\"color_mapper\":{\"id\":\"1161\",\"type\":\"LinearColorMapper\"},\"dh\":{\"units\":\"data\",\"value\":1},\"dw\":{\"units\":\"data\",\"value\":1},\"image\":{\"field\":\"image\"},\"x\":{\"value\":0},\"y\":{\"value\":0}},\"id\":\"1160\",\"type\":\"Image\"},{\"attributes\":{\"source\":{\"id\":\"1487\",\"type\":\"ColumnDataSource\"}},\"id\":\"1493\",\"type\":\"CDSView\"},{\"attributes\":{\"palette\":[\"#000000\",\"#252525\",\"#525252\",\"#737373\",\"#969696\",\"#bdbdbd\",\"#d9d9d9\",\"#f0f0f0\",\"#ffffff\"]},\"id\":\"1120\",\"type\":\"LinearColorMapper\"},{\"attributes\":{\"active_drag\":\"auto\",\"active_inspect\":\"auto\",\"active_multi\":null,\"active_scroll\":\"auto\",\"active_tap\":\"auto\",\"tools\":[{\"id\":\"1105\",\"type\":\"PanTool\"},{\"id\":\"1106\",\"type\":\"WheelZoomTool\"},{\"id\":\"1107\",\"type\":\"BoxZoomTool\"},{\"id\":\"1108\",\"type\":\"SaveTool\"},{\"id\":\"1109\",\"type\":\"ResetTool\"},{\"id\":\"1110\",\"type\":\"HelpTool\"}]},\"id\":\"1111\",\"type\":\"Toolbar\"},{\"attributes\":{},\"id\":\"1525\",\"type\":\"BasicTickFormatter\"},{\"attributes\":{\"callback\":null,\"data\":{\"image\":[{\"__ndarray__\":\"AAAAAAAAAAEAAAggODkqEgAAAAEAAAAAAAAAAAAAAAAAAAAACktmamdna2hdSQgAAAAAAAAAAAAAAAAAAAAADmpsV1RUVVlbW2RmCgAAAAAAAAAAAAAAAAAAADVfU1dUWFhVWFdUZEAAAAAAAAAAAAAAAAAAAAA/U1VXWVdXWFVUVV9IAAAAAAAAAAAAAAAAAAAAVFdUV1dXV1dXVFNfLgAAAAAAAAAAAAAAAAAAADFcVFVXV1dXV1VXYCgAAAAAAAAAAAAAAAAAAAAmYVVVV1dXV1dXWGAiAAAAAAAAAAAAAAAAAAAAJWZYWVdXV1dYWFVfHgAAAAAAAAAAAAAAAAAAAB1nW1lXV1dXV1hUXRkAAAAAAAAAAAAAAAAAAAAOZltYWVhYV1VXVWAYAAAAAAAAAAAAAAAAAAAACmNZWVhYWFhVV1VgFQAAAAAAAAAAAAAAAAAAAAhjWFlYWFhXVVhUXxQAAAAAAAAAAAAAAAAAAAACZFlYV1dVV1dXVWAMAAAAAAAAAAAAAAAAAAAAAGdXWFdYV1dXV1dgCQAAAAAAAAAAAAAAAAAAAABnUFlXWFdXV1dXXQoAAAAAAAAAAAAAAAAAAAAIdk1ZVVdXWFdXWGQRAAAAAAAAAAAAAAAAAAAAAGtVWFdXV1hVV1dhAAAAAAAAAAAAAAAAAAAAAABXXFRXV1VYV1RXXwAAAAAAAAAAAAAAAAAAAAAAV2NUWFdVVFVRYV0AAAAAAAAAAAAAAAAAAAAAAFRhVVVVVFFTUGBZAAAAAAAAAAAAAAAAAAAAAABMX1FTU1NTUE1YTQAAAAAAAAAAAAAAAAAAAAAASGBQU0k/Q1BQWUsAAAAAAAAAAAAAAAAAAAAAAElhTDhLbFc7PVlPAAAAAAAAAAAAAAAAAAAAAABIXT2e0eHayVtFWwAAAAAAAAAAAAAAAAAAAAAAUESd4u7/+OHHTFUAAAAAAAAAAAAAAAAAAAAAAFWO3cG6rbO5zdRkDAAAAAAAAAAAAAAAAAAAAAAFWDAAAAAAABh2FgAAAAAAAAAAAA==\",\"dtype\":\"uint8\",\"shape\":[28,28]}]},\"selected\":{\"id\":\"1518\",\"type\":\"Selection\"},\"selection_policy\":{\"id\":\"1519\",\"type\":\"UnionRenderers\"}},\"id\":\"1118\",\"type\":\"ColumnDataSource\"},{\"attributes\":{},\"id\":\"1516\",\"type\":\"BasicTickFormatter\"},{\"attributes\":{},\"id\":\"1105\",\"type\":\"PanTool\"},{\"attributes\":{},\"id\":\"1498\",\"type\":\"BasicTickFormatter\"},{\"attributes\":{},\"id\":\"1106\",\"type\":\"WheelZoomTool\"},{\"attributes\":{\"bottom_units\":\"screen\",\"fill_alpha\":{\"value\":0.5},\"fill_color\":{\"value\":\"lightgrey\"},\"left_units\":\"screen\",\"level\":\"overlay\",\"line_alpha\":{\"value\":1.0},\"line_color\":{\"value\":\"black\"},\"line_dash\":[4,4],\"line_width\":{\"value\":2},\"render_mode\":\"css\",\"right_units\":\"screen\",\"top_units\":\"screen\"},\"id\":\"1499\",\"type\":\"BoxAnnotation\"},{\"attributes\":{\"overlay\":{\"id\":\"1517\",\"type\":\"BoxAnnotation\"}},\"id\":\"1107\",\"type\":\"BoxZoomTool\"},{\"attributes\":{},\"id\":\"1108\",\"type\":\"SaveTool\"},{\"attributes\":{},\"id\":\"1501\",\"type\":\"UnionRenderers\"},{\"attributes\":{},\"id\":\"1109\",\"type\":\"ResetTool\"},{\"attributes\":{\"toolbar\":{\"id\":\"1603\",\"type\":\"ProxyToolbar\"},\"toolbar_location\":\"above\"},\"id\":\"1604\",\"type\":\"ToolbarBox\"},{\"attributes\":{},\"id\":\"1505\",\"type\":\"BasicTickFormatter\"},{\"attributes\":{},\"id\":\"1110\",\"type\":\"HelpTool\"},{\"attributes\":{\"bottom_units\":\"screen\",\"fill_alpha\":{\"value\":0.5},\"fill_color\":{\"value\":\"lightgrey\"},\"left_units\":\"screen\",\"level\":\"overlay\",\"line_alpha\":{\"value\":1.0},\"line_color\":{\"value\":\"black\"},\"line_dash\":[4,4],\"line_width\":{\"value\":2},\"render_mode\":\"css\",\"right_units\":\"screen\",\"top_units\":\"screen\"},\"id\":\"1508\",\"type\":\"BoxAnnotation\"},{\"attributes\":{},\"id\":\"1509\",\"type\":\"Selection\"},{\"attributes\":{},\"id\":\"1510\",\"type\":\"UnionRenderers\"},{\"attributes\":{\"below\":[{\"id\":\"1136\",\"type\":\"LinearAxis\"}],\"center\":[{\"id\":\"1140\",\"type\":\"Grid\"},{\"id\":\"1145\",\"type\":\"Grid\"}],\"left\":[{\"id\":\"1141\",\"type\":\"LinearAxis\"}],\"plot_height\":150,\"plot_width\":150,\"renderers\":[{\"id\":\"1164\",\"type\":\"GlyphRenderer\"}],\"title\":{\"id\":\"1126\",\"type\":\"Title\"},\"toolbar\":{\"id\":\"1152\",\"type\":\"Toolbar\"},\"toolbar_location\":null,\"x_range\":{\"id\":\"1128\",\"type\":\"DataRange1d\"},\"x_scale\":{\"id\":\"1132\",\"type\":\"LinearScale\"},\"y_range\":{\"id\":\"1130\",\"type\":\"DataRange1d\"},\"y_scale\":{\"id\":\"1134\",\"type\":\"LinearScale\"}},\"id\":\"1125\",\"subtype\":\"Figure\",\"type\":\"Plot\"},{\"attributes\":{},\"id\":\"1514\",\"type\":\"BasicTickFormatter\"},{\"attributes\":{},\"id\":\"1500\",\"type\":\"Selection\"},{\"attributes\":{\"palette\":[\"#000000\",\"#252525\",\"#525252\",\"#737373\",\"#969696\",\"#bdbdbd\",\"#d9d9d9\",\"#f0f0f0\",\"#ffffff\"]},\"id\":\"1122\",\"type\":\"LinearColorMapper\"},{\"attributes\":{\"bottom_units\":\"screen\",\"fill_alpha\":{\"value\":0.5},\"fill_color\":{\"value\":\"lightgrey\"},\"left_units\":\"screen\",\"level\":\"overlay\",\"line_alpha\":{\"value\":1.0},\"line_color\":{\"value\":\"black\"},\"line_dash\":[4,4],\"line_width\":{\"value\":2},\"render_mode\":\"css\",\"right_units\":\"screen\",\"top_units\":\"screen\"},\"id\":\"1517\",\"type\":\"BoxAnnotation\"},{\"attributes\":{\"source\":{\"id\":\"1118\",\"type\":\"ColumnDataSource\"}},\"id\":\"1124\",\"type\":\"CDSView\"},{\"attributes\":{},\"id\":\"1518\",\"type\":\"Selection\"},{\"attributes\":{\"text\":\"Label 3\"},\"id\":\"1126\",\"type\":\"Title\"},{\"attributes\":{},\"id\":\"1519\",\"type\":\"UnionRenderers\"},{\"attributes\":{\"callback\":null},\"id\":\"1128\",\"type\":\"DataRange1d\"},{\"attributes\":{\"tools\":[{\"id\":\"1023\",\"type\":\"PanTool\"},{\"id\":\"1024\",\"type\":\"WheelZoomTool\"},{\"id\":\"1025\",\"type\":\"BoxZoomTool\"},{\"id\":\"1026\",\"type\":\"SaveTool\"},{\"id\":\"1027\",\"type\":\"ResetTool\"},{\"id\":\"1028\",\"type\":\"HelpTool\"},{\"id\":\"1064\",\"type\":\"PanTool\"},{\"id\":\"1065\",\"type\":\"WheelZoomTool\"},{\"id\":\"1066\",\"type\":\"BoxZoomTool\"},{\"id\":\"1067\",\"type\":\"SaveTool\"},{\"id\":\"1068\",\"type\":\"ResetTool\"},{\"id\":\"1069\",\"type\":\"HelpTool\"},{\"id\":\"1105\",\"type\":\"PanTool\"},{\"id\":\"1106\",\"type\":\"WheelZoomTool\"},{\"id\":\"1107\",\"type\":\"BoxZoomTool\"},{\"id\":\"1108\",\"type\":\"SaveTool\"},{\"id\":\"1109\",\"type\":\"ResetTool\"},{\"id\":\"1110\",\"type\":\"HelpTool\"},{\"id\":\"1146\",\"type\":\"PanTool\"},{\"id\":\"1147\",\"type\":\"WheelZoomTool\"},{\"id\":\"1148\",\"type\":\"BoxZoomTool\"},{\"id\":\"1149\",\"type\":\"SaveTool\"},{\"id\":\"1150\",\"type\":\"ResetTool\"},{\"id\":\"1151\",\"type\":\"HelpTool\"},{\"id\":\"1187\",\"type\":\"PanTool\"},{\"id\":\"1188\",\"type\":\"WheelZoomTool\"},{\"id\":\"1189\",\"type\":\"BoxZoomTool\"},{\"id\":\"1190\",\"type\":\"SaveTool\"},{\"id\":\"1191\",\"type\":\"ResetTool\"},{\"id\":\"1192\",\"type\":\"HelpTool\"},{\"id\":\"1228\",\"type\":\"PanTool\"},{\"id\":\"1229\",\"type\":\"WheelZoomTool\"},{\"id\":\"1230\",\"type\":\"BoxZoomTool\"},{\"id\":\"1231\",\"type\":\"SaveTool\"},{\"id\":\"1232\",\"type\":\"ResetTool\"},{\"id\":\"1233\",\"type\":\"HelpTool\"},{\"id\":\"1269\",\"type\":\"PanTool\"},{\"id\":\"1270\",\"type\":\"WheelZoomTool\"},{\"id\":\"1271\",\"type\":\"BoxZoomTool\"},{\"id\":\"1272\",\"type\":\"SaveTool\"},{\"id\":\"1273\",\"type\":\"ResetTool\"},{\"id\":\"1274\",\"type\":\"HelpTool\"},{\"id\":\"1310\",\"type\":\"PanTool\"},{\"id\":\"1311\",\"type\":\"WheelZoomTool\"},{\"id\":\"1312\",\"type\":\"BoxZoomTool\"},{\"id\":\"1313\",\"type\":\"SaveTool\"},{\"id\":\"1314\",\"type\":\"ResetTool\"},{\"id\":\"1315\",\"type\":\"HelpTool\"},{\"id\":\"1351\",\"type\":\"PanTool\"},{\"id\":\"1352\",\"type\":\"WheelZoomTool\"},{\"id\":\"1353\",\"type\":\"BoxZoomTool\"},{\"id\":\"1354\",\"type\":\"SaveTool\"},{\"id\":\"1355\",\"type\":\"ResetTool\"},{\"id\":\"1356\",\"type\":\"HelpTool\"},{\"id\":\"1392\",\"type\":\"PanTool\"},{\"id\":\"1393\",\"type\":\"WheelZoomTool\"},{\"id\":\"1394\",\"type\":\"BoxZoomTool\"},{\"id\":\"1395\",\"type\":\"SaveTool\"},{\"id\":\"1396\",\"type\":\"ResetTool\"},{\"id\":\"1397\",\"type\":\"HelpTool\"},{\"id\":\"1433\",\"type\":\"PanTool\"},{\"id\":\"1434\",\"type\":\"WheelZoomTool\"},{\"id\":\"1435\",\"type\":\"BoxZoomTool\"},{\"id\":\"1436\",\"type\":\"SaveTool\"},{\"id\":\"1437\",\"type\":\"ResetTool\"},{\"id\":\"1438\",\"type\":\"HelpTool\"},{\"id\":\"1474\",\"type\":\"PanTool\"},{\"id\":\"1475\",\"type\":\"WheelZoomTool\"},{\"id\":\"1476\",\"type\":\"BoxZoomTool\"},{\"id\":\"1477\",\"type\":\"SaveTool\"},{\"id\":\"1478\",\"type\":\"ResetTool\"},{\"id\":\"1479\",\"type\":\"HelpTool\"}]},\"id\":\"1603\",\"type\":\"ProxyToolbar\"},{\"attributes\":{\"formatter\":{\"id\":\"1523\",\"type\":\"BasicTickFormatter\"},\"ticker\":{\"id\":\"1137\",\"type\":\"BasicTicker\"},\"visible\":false},\"id\":\"1136\",\"type\":\"LinearAxis\"},{\"attributes\":{},\"id\":\"1523\",\"type\":\"BasicTickFormatter\"},{\"attributes\":{\"callback\":null},\"id\":\"1130\",\"type\":\"DataRange1d\"},{\"attributes\":{\"bottom_units\":\"screen\",\"fill_alpha\":{\"value\":0.5},\"fill_color\":{\"value\":\"lightgrey\"},\"left_units\":\"screen\",\"level\":\"overlay\",\"line_alpha\":{\"value\":1.0},\"line_color\":{\"value\":\"black\"},\"line_dash\":[4,4],\"line_width\":{\"value\":2},\"render_mode\":\"css\",\"right_units\":\"screen\",\"top_units\":\"screen\"},\"id\":\"1526\",\"type\":\"BoxAnnotation\"},{\"attributes\":{},\"id\":\"1137\",\"type\":\"BasicTicker\"},{\"attributes\":{},\"id\":\"1527\",\"type\":\"Selection\"},{\"attributes\":{},\"id\":\"1132\",\"type\":\"LinearScale\"},{\"attributes\":{},\"id\":\"1528\",\"type\":\"UnionRenderers\"},{\"attributes\":{\"active_drag\":\"auto\",\"active_inspect\":\"auto\",\"active_multi\":null,\"active_scroll\":\"auto\",\"active_tap\":\"auto\",\"tools\":[{\"id\":\"1187\",\"type\":\"PanTool\"},{\"id\":\"1188\",\"type\":\"WheelZoomTool\"},{\"id\":\"1189\",\"type\":\"BoxZoomTool\"},{\"id\":\"1190\",\"type\":\"SaveTool\"},{\"id\":\"1191\",\"type\":\"ResetTool\"},{\"id\":\"1192\",\"type\":\"HelpTool\"}]},\"id\":\"1193\",\"type\":\"Toolbar\"},{\"attributes\":{},\"id\":\"1187\",\"type\":\"PanTool\"},{\"attributes\":{\"callback\":null},\"id\":\"1333\",\"type\":\"DataRange1d\"},{\"attributes\":{\"color_mapper\":{\"id\":\"1040\",\"type\":\"LinearColorMapper\"},\"dh\":{\"units\":\"data\",\"value\":1},\"dw\":{\"units\":\"data\",\"value\":1},\"image\":{\"field\":\"image\"},\"x\":{\"value\":0},\"y\":{\"value\":0}},\"id\":\"1039\",\"type\":\"Image\"},{\"attributes\":{},\"id\":\"1188\",\"type\":\"WheelZoomTool\"},{\"attributes\":{\"overlay\":{\"id\":\"1535\",\"type\":\"BoxAnnotation\"}},\"id\":\"1189\",\"type\":\"BoxZoomTool\"},{\"attributes\":{\"callback\":null},\"id\":\"1335\",\"type\":\"DataRange1d\"},{\"attributes\":{},\"id\":\"1190\",\"type\":\"SaveTool\"},{\"attributes\":{},\"id\":\"1191\",\"type\":\"ResetTool\"},{\"attributes\":{},\"id\":\"1337\",\"type\":\"LinearScale\"},{\"attributes\":{},\"id\":\"1339\",\"type\":\"LinearScale\"},{\"attributes\":{},\"id\":\"1192\",\"type\":\"HelpTool\"},{\"attributes\":{\"formatter\":{\"id\":\"1568\",\"type\":\"BasicTickFormatter\"},\"ticker\":{\"id\":\"1342\",\"type\":\"BasicTicker\"},\"visible\":false},\"id\":\"1341\",\"type\":\"LinearAxis\"},{\"attributes\":{},\"id\":\"1347\",\"type\":\"BasicTicker\"},{\"attributes\":{\"data_source\":{\"id\":\"1200\",\"type\":\"ColumnDataSource\"},\"glyph\":{\"id\":\"1201\",\"type\":\"Image\"},\"hover_glyph\":null,\"muted_glyph\":null,\"nonselection_glyph\":{\"id\":\"1203\",\"type\":\"Image\"},\"selection_glyph\":null,\"view\":{\"id\":\"1206\",\"type\":\"CDSView\"}},\"id\":\"1205\",\"type\":\"GlyphRenderer\"},{\"attributes\":{},\"id\":\"1342\",\"type\":\"BasicTicker\"},{\"attributes\":{\"ticker\":{\"id\":\"1342\",\"type\":\"BasicTicker\"},\"visible\":false},\"id\":\"1345\",\"type\":\"Grid\"},{\"attributes\":{\"below\":[{\"id\":\"1382\",\"type\":\"LinearAxis\"}],\"center\":[{\"id\":\"1386\",\"type\":\"Grid\"},{\"id\":\"1391\",\"type\":\"Grid\"}],\"left\":[{\"id\":\"1387\",\"type\":\"LinearAxis\"}],\"plot_height\":150,\"plot_width\":150,\"renderers\":[{\"id\":\"1410\",\"type\":\"GlyphRenderer\"}],\"title\":{\"id\":\"1372\",\"type\":\"Title\"},\"toolbar\":{\"id\":\"1398\",\"type\":\"Toolbar\"},\"toolbar_location\":null,\"x_range\":{\"id\":\"1374\",\"type\":\"DataRange1d\"},\"x_scale\":{\"id\":\"1378\",\"type\":\"LinearScale\"},\"y_range\":{\"id\":\"1376\",\"type\":\"DataRange1d\"},\"y_scale\":{\"id\":\"1380\",\"type\":\"LinearScale\"}},\"id\":\"1371\",\"subtype\":\"Figure\",\"type\":\"Plot\"},{\"attributes\":{},\"id\":\"1052\",\"type\":\"LinearScale\"},{\"attributes\":{\"dimension\":1,\"ticker\":{\"id\":\"1347\",\"type\":\"BasicTicker\"},\"visible\":false},\"id\":\"1350\",\"type\":\"Grid\"},{\"attributes\":{\"formatter\":{\"id\":\"1570\",\"type\":\"BasicTickFormatter\"},\"ticker\":{\"id\":\"1347\",\"type\":\"BasicTicker\"},\"visible\":false},\"id\":\"1346\",\"type\":\"LinearAxis\"},{\"attributes\":{\"palette\":[\"#000000\",\"#252525\",\"#525252\",\"#737373\",\"#969696\",\"#bdbdbd\",\"#d9d9d9\",\"#f0f0f0\",\"#ffffff\"]},\"id\":\"1204\",\"type\":\"LinearColorMapper\"},{\"attributes\":{\"palette\":[\"#000000\",\"#252525\",\"#525252\",\"#737373\",\"#969696\",\"#bdbdbd\",\"#d9d9d9\",\"#f0f0f0\",\"#ffffff\"]},\"id\":\"1366\",\"type\":\"LinearColorMapper\"},{\"attributes\":{},\"id\":\"1055\",\"type\":\"BasicTicker\"},{\"attributes\":{\"source\":{\"id\":\"1200\",\"type\":\"ColumnDataSource\"}},\"id\":\"1206\",\"type\":\"CDSView\"},{\"attributes\":{\"formatter\":{\"id\":\"1505\",\"type\":\"BasicTickFormatter\"},\"ticker\":{\"id\":\"1055\",\"type\":\"BasicTicker\"},\"visible\":false},\"id\":\"1054\",\"type\":\"LinearAxis\"},{\"attributes\":{\"below\":[{\"id\":\"1218\",\"type\":\"LinearAxis\"}],\"center\":[{\"id\":\"1222\",\"type\":\"Grid\"},{\"id\":\"1227\",\"type\":\"Grid\"}],\"left\":[{\"id\":\"1223\",\"type\":\"LinearAxis\"}],\"plot_height\":150,\"plot_width\":150,\"renderers\":[{\"id\":\"1246\",\"type\":\"GlyphRenderer\"}],\"title\":{\"id\":\"1208\",\"type\":\"Title\"},\"toolbar\":{\"id\":\"1234\",\"type\":\"Toolbar\"},\"toolbar_location\":null,\"x_range\":{\"id\":\"1210\",\"type\":\"DataRange1d\"},\"x_scale\":{\"id\":\"1214\",\"type\":\"LinearScale\"},\"y_range\":{\"id\":\"1212\",\"type\":\"DataRange1d\"},\"y_scale\":{\"id\":\"1216\",\"type\":\"LinearScale\"}},\"id\":\"1207\",\"subtype\":\"Figure\",\"type\":\"Plot\"},{\"attributes\":{\"color_mapper\":{\"id\":\"1368\",\"type\":\"LinearColorMapper\"},\"dh\":{\"units\":\"data\",\"value\":1},\"dw\":{\"units\":\"data\",\"value\":1},\"image\":{\"field\":\"image\"},\"x\":{\"value\":0},\"y\":{\"value\":0}},\"id\":\"1367\",\"type\":\"Image\"},{\"attributes\":{\"data_source\":{\"id\":\"1364\",\"type\":\"ColumnDataSource\"},\"glyph\":{\"id\":\"1365\",\"type\":\"Image\"},\"hover_glyph\":null,\"muted_glyph\":null,\"nonselection_glyph\":{\"id\":\"1367\",\"type\":\"Image\"},\"selection_glyph\":null,\"view\":{\"id\":\"1370\",\"type\":\"CDSView\"}},\"id\":\"1369\",\"type\":\"GlyphRenderer\"},{\"attributes\":{\"palette\":[\"#000000\",\"#252525\",\"#525252\",\"#737373\",\"#969696\",\"#bdbdbd\",\"#d9d9d9\",\"#f0f0f0\",\"#ffffff\"]},\"id\":\"1245\",\"type\":\"LinearColorMapper\"},{\"attributes\":{\"text\":\"Label 2\"},\"id\":\"1208\",\"type\":\"Title\"},{\"attributes\":{\"active_drag\":\"auto\",\"active_inspect\":\"auto\",\"active_multi\":null,\"active_scroll\":\"auto\",\"active_tap\":\"auto\",\"tools\":[{\"id\":\"1351\",\"type\":\"PanTool\"},{\"id\":\"1352\",\"type\":\"WheelZoomTool\"},{\"id\":\"1353\",\"type\":\"BoxZoomTool\"},{\"id\":\"1354\",\"type\":\"SaveTool\"},{\"id\":\"1355\",\"type\":\"ResetTool\"},{\"id\":\"1356\",\"type\":\"HelpTool\"}]},\"id\":\"1357\",\"type\":\"Toolbar\"},{\"attributes\":{\"text\":\"Label 5\"},\"id\":\"1372\",\"type\":\"Title\"},{\"attributes\":{\"callback\":null},\"id\":\"1210\",\"type\":\"DataRange1d\"},{\"attributes\":{},\"id\":\"1351\",\"type\":\"PanTool\"},{\"attributes\":{},\"id\":\"1352\",\"type\":\"WheelZoomTool\"},{\"attributes\":{\"overlay\":{\"id\":\"1571\",\"type\":\"BoxAnnotation\"}},\"id\":\"1353\",\"type\":\"BoxZoomTool\"},{\"attributes\":{\"callback\":null},\"id\":\"1212\",\"type\":\"DataRange1d\"},{\"attributes\":{},\"id\":\"1354\",\"type\":\"SaveTool\"},{\"attributes\":{},\"id\":\"1214\",\"type\":\"LinearScale\"},{\"attributes\":{},\"id\":\"1355\",\"type\":\"ResetTool\"},{\"attributes\":{},\"id\":\"1216\",\"type\":\"LinearScale\"},{\"attributes\":{\"formatter\":{\"id\":\"1541\",\"type\":\"BasicTickFormatter\"},\"ticker\":{\"id\":\"1219\",\"type\":\"BasicTicker\"},\"visible\":false},\"id\":\"1218\",\"type\":\"LinearAxis\"},{\"attributes\":{},\"id\":\"1356\",\"type\":\"HelpTool\"},{\"attributes\":{},\"id\":\"1224\",\"type\":\"BasicTicker\"},{\"attributes\":{\"dimension\":1,\"ticker\":{\"id\":\"1060\",\"type\":\"BasicTicker\"},\"visible\":false},\"id\":\"1063\",\"type\":\"Grid\"},{\"attributes\":{},\"id\":\"1219\",\"type\":\"BasicTicker\"},{\"attributes\":{\"ticker\":{\"id\":\"1219\",\"type\":\"BasicTicker\"},\"visible\":false},\"id\":\"1222\",\"type\":\"Grid\"},{\"attributes\":{\"palette\":[\"#000000\",\"#252525\",\"#525252\",\"#737373\",\"#969696\",\"#bdbdbd\",\"#d9d9d9\",\"#f0f0f0\",\"#ffffff\"]},\"id\":\"1243\",\"type\":\"LinearColorMapper\"},{\"attributes\":{\"dimension\":1,\"ticker\":{\"id\":\"1224\",\"type\":\"BasicTicker\"},\"visible\":false},\"id\":\"1227\",\"type\":\"Grid\"},{\"attributes\":{},\"id\":\"1050\",\"type\":\"LinearScale\"},{\"attributes\":{\"formatter\":{\"id\":\"1543\",\"type\":\"BasicTickFormatter\"},\"ticker\":{\"id\":\"1224\",\"type\":\"BasicTicker\"},\"visible\":false},\"id\":\"1223\",\"type\":\"LinearAxis\"},{\"attributes\":{\"callback\":null},\"id\":\"1048\",\"type\":\"DataRange1d\"},{\"attributes\":{\"color_mapper\":{\"id\":\"1245\",\"type\":\"LinearColorMapper\"},\"dh\":{\"units\":\"data\",\"value\":1},\"dw\":{\"units\":\"data\",\"value\":1},\"image\":{\"field\":\"image\"},\"x\":{\"value\":0},\"y\":{\"value\":0}},\"id\":\"1244\",\"type\":\"Image\"},{\"attributes\":{\"palette\":[\"#000000\",\"#252525\",\"#525252\",\"#737373\",\"#969696\",\"#bdbdbd\",\"#d9d9d9\",\"#f0f0f0\",\"#ffffff\"]},\"id\":\"1368\",\"type\":\"LinearColorMapper\"},{\"attributes\":{\"source\":{\"id\":\"1364\",\"type\":\"ColumnDataSource\"}},\"id\":\"1370\",\"type\":\"CDSView\"},{\"attributes\":{\"callback\":null,\"data\":{\"image\":[{\"__ndarray__\":\"AAAASaeFAAAAAAAAAAAAAAAAAQEATJeNAAAAAAAAAHvF4AAAAAAAAAAAAAAAAAAAAIPOtBIAAAAAAABrxOEAP5NxdXd2dXJydXKHeQBzzLIJAAAAAAAAacflAHPKorCura2ssLShrcwActC4BgAAAAAAAGPD3whav56XlpWUkpWVmabFAH/QtwUAAAAAAABfxd4jTsq3u76/vr7Avbu7zACdzrgFAAAAAAAAXsTcOz/Krra0tri3t7a2vMoAuMy5BQAAAAAAAF3F2GEyza+2ubi3trm4uL3HANPIugYAAAAAAABYyNOBLs6xtbW4t7e0ubi8wgDhxrsAAAAAAAAAVcnPnyzNt7ayt7a4tLu5u7kA38XIAAAAAAAAAFTLy8Qjy723tLi3uLK5uL2xAN/FyAAAAAAAAABMy8rUGsrBu7S7ubq2u7q+rBHexckAAAAAAAAASc7I0yHKwr6yube5uLq6vqMp4MLJAAAAAAAAADzPy9s4yL/At7m4uri7uMCaOuLBxwAAAAAAAAAiybnbTMW5vrSztLazt7XCkEflycUAAAAAAAAACqKdzlawyMrHxsXGyMjFxppfyLOjAAAAAAAAADH/v/6Ob2JncXV1cmlkYX9pl+C8egAAAAAAAAAAYlaguO7/9O7r7/Dz+v//zresxssAAAAAAAAAEtiGl51JVoGDiYSAgXVRQoHgmoZDAAAAAAAAAAAABxomut2yo6KjqLjL2dg2RUeIigAAAAAAAAAAy9zmywAAJC8nHBMKAAAAKKJ2GwAAAAAAAAAAAKnbz8vUh1pTWGNrdpa509vZ191YAAAAAAAAAACeyL/T09bV19bT1NLR08zQxb/aKgAAAAAAAAAAWsKvsr7Bxci9tbi7vbu4rrK0whkAAAAAAAAAAAy8t7Gvr66pmpSboqmrsLGsvqoAAAAAAAAAAAAAUrnDvbeznpifopaor7K3v9YjAAEAAAAAAAAAAAARfrzOxd76///yysTOx4MUAAABAAAAAAAAAAABAAAACY/HjX2ErLxYFgAAAAABAAAAAA==\",\"dtype\":\"uint8\",\"shape\":[28,28]}]},\"selected\":{\"id\":\"1545\",\"type\":\"Selection\"},\"selection_policy\":{\"id\":\"1546\",\"type\":\"UnionRenderers\"}},\"id\":\"1241\",\"type\":\"ColumnDataSource\"},{\"attributes\":{\"color_mapper\":{\"id\":\"1407\",\"type\":\"LinearColorMapper\"},\"dh\":{\"units\":\"data\",\"value\":1},\"dw\":{\"units\":\"data\",\"value\":1},\"image\":{\"field\":\"image\"},\"x\":{\"value\":0},\"y\":{\"value\":0}},\"id\":\"1406\",\"type\":\"Image\"},{\"attributes\":{},\"id\":\"1134\",\"type\":\"LinearScale\"},{\"attributes\":{\"callback\":null},\"id\":\"1374\",\"type\":\"DataRange1d\"},{\"attributes\":{\"color_mapper\":{\"id\":\"1243\",\"type\":\"LinearColorMapper\"},\"dh\":{\"units\":\"data\",\"value\":1},\"dw\":{\"units\":\"data\",\"value\":1},\"image\":{\"field\":\"image\"},\"x\":{\"value\":0},\"y\":{\"value\":0}},\"id\":\"1242\",\"type\":\"Image\"},{\"attributes\":{},\"id\":\"1228\",\"type\":\"PanTool\"},{\"attributes\":{},\"id\":\"1380\",\"type\":\"LinearScale\"},{\"attributes\":{},\"id\":\"1229\",\"type\":\"WheelZoomTool\"},{\"attributes\":{\"dimension\":1,\"ticker\":{\"id\":\"1183\",\"type\":\"BasicTicker\"},\"visible\":false},\"id\":\"1186\",\"type\":\"Grid\"},{\"attributes\":{},\"id\":\"1231\",\"type\":\"SaveTool\"},{\"attributes\":{\"callback\":null},\"id\":\"1376\",\"type\":\"DataRange1d\"},{\"attributes\":{\"overlay\":{\"id\":\"1544\",\"type\":\"BoxAnnotation\"}},\"id\":\"1230\",\"type\":\"BoxZoomTool\"},{\"attributes\":{\"formatter\":{\"id\":\"1577\",\"type\":\"BasicTickFormatter\"},\"ticker\":{\"id\":\"1383\",\"type\":\"BasicTicker\"},\"visible\":false},\"id\":\"1382\",\"type\":\"LinearAxis\"},{\"attributes\":{},\"id\":\"1378\",\"type\":\"LinearScale\"},{\"attributes\":{\"active_drag\":\"auto\",\"active_inspect\":\"auto\",\"active_multi\":null,\"active_scroll\":\"auto\",\"active_tap\":\"auto\",\"tools\":[{\"id\":\"1023\",\"type\":\"PanTool\"},{\"id\":\"1024\",\"type\":\"WheelZoomTool\"},{\"id\":\"1025\",\"type\":\"BoxZoomTool\"},{\"id\":\"1026\",\"type\":\"SaveTool\"},{\"id\":\"1027\",\"type\":\"ResetTool\"},{\"id\":\"1028\",\"type\":\"HelpTool\"}]},\"id\":\"1029\",\"type\":\"Toolbar\"},{\"attributes\":{},\"id\":\"1532\",\"type\":\"BasicTickFormatter\"},{\"attributes\":{},\"id\":\"1534\",\"type\":\"BasicTickFormatter\"},{\"attributes\":{},\"id\":\"1060\",\"type\":\"BasicTicker\"},{\"attributes\":{\"bottom_units\":\"screen\",\"fill_alpha\":{\"value\":0.5},\"fill_color\":{\"value\":\"lightgrey\"},\"left_units\":\"screen\",\"level\":\"overlay\",\"line_alpha\":{\"value\":1.0},\"line_color\":{\"value\":\"black\"},\"line_dash\":[4,4],\"line_width\":{\"value\":2},\"render_mode\":\"css\",\"right_units\":\"screen\",\"top_units\":\"screen\"},\"id\":\"1535\",\"type\":\"BoxAnnotation\"},{\"attributes\":{\"ticker\":{\"id\":\"1055\",\"type\":\"BasicTicker\"},\"visible\":false},\"id\":\"1058\",\"type\":\"Grid\"},{\"attributes\":{},\"id\":\"1536\",\"type\":\"Selection\"},{\"attributes\":{\"callback\":null,\"data\":{\"image\":[{\"__ndarray__\":\"AAAAAAAAAAAAAAAAAAAAAAAAAAAAAAAAAAAAAAAAAAAAAAAAAAAAAAAAAAAAAAAAAAAAAAAAAAAAAAAAAAAAAAAAAAAAAAAjKUgsPSgAAAAAAAAAAAA6Y6imsLW2trO/wdzd9PP28u/t3shCAAAAAgCq2MDCvLzT0tLRzMbBvL28ubWvrK+/1L1KAABc0rGnnLDAxr/Dv8LEyNLTz9XSzMS3q7PB23oAc87NtayxtbrOx9jh7Nzd29bKwMK+ucXVwrfLMEPm3dze0dTa3+/148Pw1cbOxbnY4dPNwczUzEsd5eDf39nX3duodWpJQfHZ18Lc+erl5d7SxuliAOHk3tHM0r+avN3l/5ZQ8NzNzc3W09Pd4OTKAwD26NzT3erd///fzsH1n8jR0NbM0ODd4NC7OQAA1+7p+Pq8sOrg5tPNyOLZ3tzkvWtSLBIAAAAAAJ/04Nfb3+Da09Da3dXP5MyRPgAAAAAAAAADAABN/9rX5d/Y3d7b3t/Z4u0AAAAAAAIHBgQBAAAAXNHZ2erf2tXo8OTm5Ow3AAAEAAAAAAAAAAAAOKd39dze1dfdxsva3N70YwAGAAAAAAAAAAAAADTRxeLU4NrQ46nA2tTc2wwAAwEAAAAAAAAAAAAAyvPc39XT0tS0xtXa5MEAAAAAAAAAAAAAAAAAAK31393g3uDj6+Tf2OG3AAAAAAAAAAAAAAAAAADlxHt/pNXX39/l6ejoyAABAQEAAAAAAAAAAABCrFiNknp5f6PY2Nrfz0UAAQAAAAAAAAAAAAAAD0iCTRdAbaGca7LP7JsAAAAAAAAAAAAAAAAAAAAKDAAAAAAXe5CGsMxmAAYAAAAAAAAAAAAAAAADAAAEAwEAAAA2Pn+IJAADAAAAAAAAAAAAAAAAAAEBAAAAAAQBAABJDQAAAQAAAAAAAAAAAAAAAAAAAAAAAAAAAAAAAAAAAAAAAAAAAAAAAAAAAAAAAAAAAAAAAAAAAAAAAAAAAAAAAAAAAAAAAAAAAAAAAAAAAAAAAAAAAAAAAAAAAAAAAAAAAAAAAA==\",\"dtype\":\"uint8\",\"shape\":[28,28]}]},\"selected\":{\"id\":\"1500\",\"type\":\"Selection\"},\"selection_policy\":{\"id\":\"1501\",\"type\":\"UnionRenderers\"}},\"id\":\"1036\",\"type\":\"ColumnDataSource\"},{\"attributes\":{\"data_source\":{\"id\":\"1077\",\"type\":\"ColumnDataSource\"},\"glyph\":{\"id\":\"1078\",\"type\":\"Image\"},\"hover_glyph\":null,\"muted_glyph\":null,\"nonselection_glyph\":{\"id\":\"1080\",\"type\":\"Image\"},\"selection_glyph\":null,\"view\":{\"id\":\"1083\",\"type\":\"CDSView\"}},\"id\":\"1082\",\"type\":\"GlyphRenderer\"},{\"attributes\":{},\"id\":\"1537\",\"type\":\"UnionRenderers\"},{\"attributes\":{},\"id\":\"1023\",\"type\":\"PanTool\"},{\"attributes\":{},\"id\":\"1024\",\"type\":\"WheelZoomTool\"},{\"attributes\":{},\"id\":\"1543\",\"type\":\"BasicTickFormatter\"},{\"attributes\":{},\"id\":\"1541\",\"type\":\"BasicTickFormatter\"},{\"attributes\":{\"overlay\":{\"id\":\"1499\",\"type\":\"BoxAnnotation\"}},\"id\":\"1025\",\"type\":\"BoxZoomTool\"},{\"attributes\":{},\"id\":\"1552\",\"type\":\"BasicTickFormatter\"},{\"attributes\":{},\"id\":\"1026\",\"type\":\"SaveTool\"},{\"attributes\":{\"bottom_units\":\"screen\",\"fill_alpha\":{\"value\":0.5},\"fill_color\":{\"value\":\"lightgrey\"},\"left_units\":\"screen\",\"level\":\"overlay\",\"line_alpha\":{\"value\":1.0},\"line_color\":{\"value\":\"black\"},\"line_dash\":[4,4],\"line_width\":{\"value\":2},\"render_mode\":\"css\",\"right_units\":\"screen\",\"top_units\":\"screen\"},\"id\":\"1544\",\"type\":\"BoxAnnotation\"},{\"attributes\":{},\"id\":\"1027\",\"type\":\"ResetTool\"},{\"attributes\":{},\"id\":\"1545\",\"type\":\"Selection\"},{\"attributes\":{},\"id\":\"1546\",\"type\":\"UnionRenderers\"},{\"attributes\":{},\"id\":\"1028\",\"type\":\"HelpTool\"},{\"attributes\":{},\"id\":\"1561\",\"type\":\"BasicTickFormatter\"},{\"attributes\":{\"callback\":null,\"data\":{\"image\":[{\"__ndarray__\":\"AAAAAAAAAAAAAAAAAAAAAAAAAAAAAAAAAAAAAAAAgwAAAAAAAAAAAAAAAAAAAAAAAAAAAAAAAAAAAO4gAAAAAAAAAAAAAB13tKZ9Xl1BLxMAAAAAAAB9KQAAAAAAAAAHACSxwZRabJqSioyeo5WAYAAAxDIAAAAAAAAAAAa+7EYAFsz1rwEJEBstOkAAAMswAAEAAAAAAACO/X4AAABa0rcBAAAAAAAAAAC6LQABAAAAAAAt4bUAAAAAAAAAAAABAAAAAQAAki8AAQMAAAAAw7sbAAAAAApJVzoAAAAAAAAAAHQwAAQEAAAAr5eBAAAAAAAAQCcQAAEAAAAAAABgLQAAAAAAoIGbAAAAAQAAAAAAAAAAAAAAAAAGTC8AAAAAqXKbGwADAAAAAAAAAQEAAAAAAAAAEEkwAAABq460KQAKBAMAAAAAAAAAAAMAAAAAACcnUk90jqSgIAAAAAAAAAAAAAAAAAAAAAAAAAAtDU1gIYl3AAADAAAAAAAAAAAAAAAAAAAAAAAGY1dPAy0wAAAAAAAAAAAAAAAAAAAAAAAAAAAAI10Qq5JbAAADAwAAAAAAAAAAAAABAAAAAAAAAC06HXfDbwAAAQADAAAAAAAAAAAAAAAAAAAAAAA2RiMwWGQAAQAAAwkDAQMAAAAAAAAAAAAAAAAAMjohL1JPAAEAAAEJAAAAAAAAAAAAAAAAAAAAABMzaj1jNgAAAAAAAD6aPg0AAAEAAAAAAAAAAAAALMlwVSMAAAAAR/+YWD0WAAEDAAAAAAAAAAAAAABnb2cNABYAkqw7HixECgAAAAAAAAAAAAAAAAAAJCppNQEzcqSSni0pAAAAAAEAAAAAAAAAAAAAAAAwjsDlt9FjJl4AAAAAAAABAAAAAAAAAAAAAAfBwJJtQAAAAAAAAAADAQAAAAAAAAAAAAAAAAABJwA6AAAAAAEBAAABAwEAAAAAAAAAAAAAAAAAAAAAAAAAAAAAAAAAAAAAAAAAAAAAAAAAAAAAAAAAAAAAAAAAAAAAAAAAAAAAAAAAAAAAAAAAAA==\",\"dtype\":\"uint8\",\"shape\":[28,28]}]},\"selected\":{\"id\":\"1572\",\"type\":\"Selection\"},\"selection_policy\":{\"id\":\"1573\",\"type\":\"UnionRenderers\"}},\"id\":\"1364\",\"type\":\"ColumnDataSource\"},{\"attributes\":{},\"id\":\"1550\",\"type\":\"BasicTickFormatter\"},{\"attributes\":{\"bottom_units\":\"screen\",\"fill_alpha\":{\"value\":0.5},\"fill_color\":{\"value\":\"lightgrey\"},\"left_units\":\"screen\",\"level\":\"overlay\",\"line_alpha\":{\"value\":1.0},\"line_color\":{\"value\":\"black\"},\"line_dash\":[4,4],\"line_width\":{\"value\":2},\"render_mode\":\"css\",\"right_units\":\"screen\",\"top_units\":\"screen\"},\"id\":\"1553\",\"type\":\"BoxAnnotation\"},{\"attributes\":{},\"id\":\"1554\",\"type\":\"Selection\"},{\"attributes\":{\"formatter\":{\"id\":\"1507\",\"type\":\"BasicTickFormatter\"},\"ticker\":{\"id\":\"1060\",\"type\":\"BasicTicker\"},\"visible\":false},\"id\":\"1059\",\"type\":\"LinearAxis\"},{\"attributes\":{},\"id\":\"1555\",\"type\":\"UnionRenderers\"},{\"attributes\":{\"color_mapper\":{\"id\":\"1081\",\"type\":\"LinearColorMapper\"},\"dh\":{\"units\":\"data\",\"value\":1},\"dw\":{\"units\":\"data\",\"value\":1},\"image\":{\"field\":\"image\"},\"x\":{\"value\":0},\"y\":{\"value\":0}},\"id\":\"1080\",\"type\":\"Image\"},{\"attributes\":{\"color_mapper\":{\"id\":\"1120\",\"type\":\"LinearColorMapper\"},\"dh\":{\"units\":\"data\",\"value\":1},\"dw\":{\"units\":\"data\",\"value\":1},\"image\":{\"field\":\"image\"},\"x\":{\"value\":0},\"y\":{\"value\":0}},\"id\":\"1119\",\"type\":\"Image\"},{\"attributes\":{},\"id\":\"1570\",\"type\":\"BasicTickFormatter\"},{\"attributes\":{\"palette\":[\"#000000\",\"#252525\",\"#525252\",\"#737373\",\"#969696\",\"#bdbdbd\",\"#d9d9d9\",\"#f0f0f0\",\"#ffffff\"]},\"id\":\"1079\",\"type\":\"LinearColorMapper\"},{\"attributes\":{\"active_drag\":\"auto\",\"active_inspect\":\"auto\",\"active_multi\":null,\"active_scroll\":\"auto\",\"active_tap\":\"auto\",\"tools\":[{\"id\":\"1064\",\"type\":\"PanTool\"},{\"id\":\"1065\",\"type\":\"WheelZoomTool\"},{\"id\":\"1066\",\"type\":\"BoxZoomTool\"},{\"id\":\"1067\",\"type\":\"SaveTool\"},{\"id\":\"1068\",\"type\":\"ResetTool\"},{\"id\":\"1069\",\"type\":\"HelpTool\"}]},\"id\":\"1070\",\"type\":\"Toolbar\"},{\"attributes\":{},\"id\":\"1559\",\"type\":\"BasicTickFormatter\"},{\"attributes\":{\"bottom_units\":\"screen\",\"fill_alpha\":{\"value\":0.5},\"fill_color\":{\"value\":\"lightgrey\"},\"left_units\":\"screen\",\"level\":\"overlay\",\"line_alpha\":{\"value\":1.0},\"line_color\":{\"value\":\"black\"},\"line_dash\":[4,4],\"line_width\":{\"value\":2},\"render_mode\":\"css\",\"right_units\":\"screen\",\"top_units\":\"screen\"},\"id\":\"1562\",\"type\":\"BoxAnnotation\"},{\"attributes\":{\"callback\":null,\"data\":{\"image\":[{\"__ndarray__\":\"AAAAAAAATIJyd3l9fH2Jh4eCkosAAAEAAAAAAAAAAAACAKLg1vPw9PT07uzq1t28AAAAAAAAAAAAAAAAAAB/zsXNyczNz8zHycvSrAAAAAAAAAAAAAAAAAEAfM/F0s/T1NXRztDP0sYAAAEAAAAAAAAAAAABAHnPxNPP0tTUz8zQ0NDGAAABAAAAAAAAAAAAAgB20sPUz9LS187O0M/PzAAAAAAAAAAAAAAAAAIAc9XB09DSz9fNz9DNzMwAAAEAAAAAAAAAAAACAGnZwtLR0s7Vzc/RzcnKAAABAAAAAAAAAAAAAwBg3cPR0tLN083P0M3JzAAAAQAAAAAAAAAAAAMAUN3Gzc7Tz9DO0c7RxtQAAAEAAAAAAAAAAAAEAEveysjQ0s/PzdDOy8bXAAACAAAAAAAAAAAABABI3c/G0NLPz8zPz8jFvAAAAgAAAAAAAAAAAAUAStvRx87Rzs3Nzs3Jxr8CAAMAAAAAAAAAAAAFAE3azc3Mz83Mzs3KzcfFCwABAAAAAAAAAAABAwBb2sjUzM7NzM3OytTD1C4ABgEAAAAAAAAAAAAAa9rF1MzOzczMzsvWwOEvAAAAAAAAAAAAAAAAAKXSw8vJyMjIyMXA0MHenzYRAAAAAAAAAHHB1+HUye/8+v38+PX4+vzG0/jt37tqAAAAAADQ29Xez85XXExGTlNeWUc0ydjc09brpAAAAAAAnNTO1Ni9AEYNDBEQPCMqAM3g19bW4i0AAAAAAF/c0NbZ1wDN//uu/4vz/gDW19LU2vcAAAAAAAAm+tLWztsAMUdEO2cAYkYAyNfL0d7IAAAAAAAAAODczsrecT8zLTIwSS9LZczPzM7idAAAAAAAAACM3svLz+v4/Pf2+fX6+O7Uy8vH2zMAAAAAAAAAKeHIycjIyMjGxsTJx8fGysbI27wAAAAAAAAAAACk4NrRycnJyszXyMTGy9Tg3rAOAAAAAAAAAAAAAC2g5/7X2f/////s5NjbiDEAAAABAAAAAAAAAAAAAAAQhahXKzA2Z7wpAAAAAAEAAAAAAA==\",\"dtype\":\"uint8\",\"shape\":[28,28]}]},\"selected\":{\"id\":\"1509\",\"type\":\"Selection\"},\"selection_policy\":{\"id\":\"1510\",\"type\":\"UnionRenderers\"}},\"id\":\"1077\",\"type\":\"ColumnDataSource\"},{\"attributes\":{},\"id\":\"1064\",\"type\":\"PanTool\"},{\"attributes\":{},\"id\":\"1563\",\"type\":\"Selection\"},{\"attributes\":{},\"id\":\"1065\",\"type\":\"WheelZoomTool\"},{\"attributes\":{},\"id\":\"1564\",\"type\":\"UnionRenderers\"},{\"attributes\":{\"overlay\":{\"id\":\"1508\",\"type\":\"BoxAnnotation\"}},\"id\":\"1066\",\"type\":\"BoxZoomTool\"},{\"attributes\":{},\"id\":\"1067\",\"type\":\"SaveTool\"},{\"attributes\":{},\"id\":\"1568\",\"type\":\"BasicTickFormatter\"},{\"attributes\":{},\"id\":\"1068\",\"type\":\"ResetTool\"},{\"attributes\":{\"bottom_units\":\"screen\",\"fill_alpha\":{\"value\":0.5},\"fill_color\":{\"value\":\"lightgrey\"},\"left_units\":\"screen\",\"level\":\"overlay\",\"line_alpha\":{\"value\":1.0},\"line_color\":{\"value\":\"black\"},\"line_dash\":[4,4],\"line_width\":{\"value\":2},\"render_mode\":\"css\",\"right_units\":\"screen\",\"top_units\":\"screen\"},\"id\":\"1571\",\"type\":\"BoxAnnotation\"},{\"attributes\":{},\"id\":\"1572\",\"type\":\"Selection\"},{\"attributes\":{},\"id\":\"1069\",\"type\":\"HelpTool\"},{\"attributes\":{},\"id\":\"1573\",\"type\":\"UnionRenderers\"},{\"attributes\":{\"below\":[{\"id\":\"1054\",\"type\":\"LinearAxis\"}],\"center\":[{\"id\":\"1058\",\"type\":\"Grid\"},{\"id\":\"1063\",\"type\":\"Grid\"}],\"left\":[{\"id\":\"1059\",\"type\":\"LinearAxis\"}],\"plot_height\":150,\"plot_width\":150,\"renderers\":[{\"id\":\"1082\",\"type\":\"GlyphRenderer\"}],\"title\":{\"id\":\"1044\",\"type\":\"Title\"},\"toolbar\":{\"id\":\"1070\",\"type\":\"Toolbar\"},\"toolbar_location\":null,\"x_range\":{\"id\":\"1046\",\"type\":\"DataRange1d\"},\"x_scale\":{\"id\":\"1050\",\"type\":\"LinearScale\"},\"y_range\":{\"id\":\"1048\",\"type\":\"DataRange1d\"},\"y_scale\":{\"id\":\"1052\",\"type\":\"LinearScale\"}},\"id\":\"1043\",\"subtype\":\"Figure\",\"type\":\"Plot\"},{\"attributes\":{\"bottom_units\":\"screen\",\"fill_alpha\":{\"value\":0.5},\"fill_color\":{\"value\":\"lightgrey\"},\"left_units\":\"screen\",\"level\":\"overlay\",\"line_alpha\":{\"value\":1.0},\"line_color\":{\"value\":\"black\"},\"line_dash\":[4,4],\"line_width\":{\"value\":2},\"render_mode\":\"css\",\"right_units\":\"screen\",\"top_units\":\"screen\"},\"id\":\"1580\",\"type\":\"BoxAnnotation\"},{\"attributes\":{\"color_mapper\":{\"id\":\"1079\",\"type\":\"LinearColorMapper\"},\"dh\":{\"units\":\"data\",\"value\":1},\"dw\":{\"units\":\"data\",\"value\":1},\"image\":{\"field\":\"image\"},\"x\":{\"value\":0},\"y\":{\"value\":0}},\"id\":\"1078\",\"type\":\"Image\"},{\"attributes\":{},\"id\":\"1577\",\"type\":\"BasicTickFormatter\"},{\"attributes\":{\"below\":[{\"id\":\"1095\",\"type\":\"LinearAxis\"}],\"center\":[{\"id\":\"1099\",\"type\":\"Grid\"},{\"id\":\"1104\",\"type\":\"Grid\"}],\"left\":[{\"id\":\"1100\",\"type\":\"LinearAxis\"}],\"plot_height\":150,\"plot_width\":150,\"renderers\":[{\"id\":\"1123\",\"type\":\"GlyphRenderer\"}],\"title\":{\"id\":\"1085\",\"type\":\"Title\"},\"toolbar\":{\"id\":\"1111\",\"type\":\"Toolbar\"},\"toolbar_location\":null,\"x_range\":{\"id\":\"1087\",\"type\":\"DataRange1d\"},\"x_scale\":{\"id\":\"1091\",\"type\":\"LinearScale\"},\"y_range\":{\"id\":\"1089\",\"type\":\"DataRange1d\"},\"y_scale\":{\"id\":\"1093\",\"type\":\"LinearScale\"}},\"id\":\"1084\",\"subtype\":\"Figure\",\"type\":\"Plot\"},{\"attributes\":{},\"id\":\"1579\",\"type\":\"BasicTickFormatter\"},{\"attributes\":{\"text\":\"Label 0\"},\"id\":\"1044\",\"type\":\"Title\"},{\"attributes\":{},\"id\":\"1581\",\"type\":\"Selection\"},{\"attributes\":{\"palette\":[\"#000000\",\"#252525\",\"#525252\",\"#737373\",\"#969696\",\"#bdbdbd\",\"#d9d9d9\",\"#f0f0f0\",\"#ffffff\"]},\"id\":\"1081\",\"type\":\"LinearColorMapper\"},{\"attributes\":{\"source\":{\"id\":\"1077\",\"type\":\"ColumnDataSource\"}},\"id\":\"1083\",\"type\":\"CDSView\"},{\"attributes\":{},\"id\":\"1582\",\"type\":\"UnionRenderers\"},{\"attributes\":{\"text\":\"Label 0\"},\"id\":\"1085\",\"type\":\"Title\"},{\"attributes\":{},\"id\":\"1588\",\"type\":\"BasicTickFormatter\"},{\"attributes\":{},\"id\":\"1586\",\"type\":\"BasicTickFormatter\"},{\"attributes\":{\"dimension\":1,\"ticker\":{\"id\":\"1429\",\"type\":\"BasicTicker\"},\"visible\":false},\"id\":\"1432\",\"type\":\"Grid\"},{\"attributes\":{\"data_source\":{\"id\":\"1446\",\"type\":\"ColumnDataSource\"},\"glyph\":{\"id\":\"1447\",\"type\":\"Image\"},\"hover_glyph\":null,\"muted_glyph\":null,\"nonselection_glyph\":{\"id\":\"1449\",\"type\":\"Image\"},\"selection_glyph\":null,\"view\":{\"id\":\"1452\",\"type\":\"CDSView\"}},\"id\":\"1451\",\"type\":\"GlyphRenderer\"},{\"attributes\":{\"bottom_units\":\"screen\",\"fill_alpha\":{\"value\":0.5},\"fill_color\":{\"value\":\"lightgrey\"},\"left_units\":\"screen\",\"level\":\"overlay\",\"line_alpha\":{\"value\":1.0},\"line_color\":{\"value\":\"black\"},\"line_dash\":[4,4],\"line_width\":{\"value\":2},\"render_mode\":\"css\",\"right_units\":\"screen\",\"top_units\":\"screen\"},\"id\":\"1589\",\"type\":\"BoxAnnotation\"},{\"attributes\":{},\"id\":\"1590\",\"type\":\"Selection\"},{\"attributes\":{\"color_mapper\":{\"id\":\"1450\",\"type\":\"LinearColorMapper\"},\"dh\":{\"units\":\"data\",\"value\":1},\"dw\":{\"units\":\"data\",\"value\":1},\"image\":{\"field\":\"image\"},\"x\":{\"value\":0},\"y\":{\"value\":0}},\"id\":\"1449\",\"type\":\"Image\"},{\"attributes\":{},\"id\":\"1591\",\"type\":\"UnionRenderers\"},{\"attributes\":{\"palette\":[\"#000000\",\"#252525\",\"#525252\",\"#737373\",\"#969696\",\"#bdbdbd\",\"#d9d9d9\",\"#f0f0f0\",\"#ffffff\"]},\"id\":\"1448\",\"type\":\"LinearColorMapper\"},{\"attributes\":{\"active_drag\":\"auto\",\"active_inspect\":\"auto\",\"active_multi\":null,\"active_scroll\":\"auto\",\"active_tap\":\"auto\",\"tools\":[{\"id\":\"1433\",\"type\":\"PanTool\"},{\"id\":\"1434\",\"type\":\"WheelZoomTool\"},{\"id\":\"1435\",\"type\":\"BoxZoomTool\"},{\"id\":\"1436\",\"type\":\"SaveTool\"},{\"id\":\"1437\",\"type\":\"ResetTool\"},{\"id\":\"1438\",\"type\":\"HelpTool\"}]},\"id\":\"1439\",\"type\":\"Toolbar\"},{\"attributes\":{},\"id\":\"1597\",\"type\":\"BasicTickFormatter\"},{\"attributes\":{\"callback\":null,\"data\":{\"image\":[{\"__ndarray__\":\"AAAAAAMAEp5ueHlaU4VsUlVqcYdzAAMAAAAAAAAAAAAFACqzssX/zrjw4sjCxra7pwAFAAAAAAAAAAAABQAwr6W+zp2U2M6fmbGsq4EABQAAAAAAAAAAAAcAOK+nvNqepdvJppvHp66HAAUAAAAAAAAAAAAFADmsqrramKfGvqegzZ61igAFAAAAAAAAAAAABAAsq6ixzZ6quL6hr8Kdu2kABAAAAAAAAAAAAAQAFKalrb6opba/nbOzorRXAAQAAAAAAAAAAAADAAWepqazrqWtu5m5p6ylLwAEAAAAAAAAAAAAAQAApKqmqq+kprWas6CtmBIAAwAAAAAAAAAAAAACAICmoqeuoKazn62mpKsEAAIAAAAAAAAAAAAABABZq6CqrKGkrJ+sp52VAAEAAAAAAAAAAAAAAAUAMquloqyhoaifpqGhcgADAAAAAAAAAAAAAAADAByipaWnpKGhpqSbpjkABAAAAAAAAAAAAAAAAgAAoqSqoqWhpZukk6seAAQAAAAAAAAAAAAAAAEAAMimoaSkoKGeoJivGQABAAAAAAAAAAAAAAMDAADNsZmloqCeopueryUABQMBAAAAAAAAAAAAAAAAvruapKSinp2Zn7tSAAAAAAAAAAAAAAAAB5+EEry/qJ2hoJ6emKaZfhyuHwAAAAAAAAAAbKzJ8LmHvLKkoJugnp6uca/14Z1kAAAAAAAAAD2mmMHDjaWqm5qdnqSgmYB71qCRTwAAAAAAAAAVpqKVi6SqrKWhpqisoaCaeI2ZqjsAAAAAAAAAALmhobS8wr+2u7q7uru/rJeMm7EjAAAAAAAAAACerKu1vsG/u7OyuLS5tbKokZKvAgAAAAAAAAAAeK6kq6y5uLmrrq2otLGyqqCToQAAAAAAAAAAADuvoa65w667vry+u7qqtK+gmYcAAAAAAAAAAAAAr7ysvqi/zsaSxd3TvrW0prlCAAAAAAAAAAAAACK82c3n2dOZh5W72OzC2daYAAAAAAAAAAAAAAAAAHC5VQAAAAAAAABqyI4LAAAAAAAAAA==\",\"dtype\":\"uint8\",\"shape\":[28,28]}]},\"selected\":{\"id\":\"1590\",\"type\":\"Selection\"},\"selection_policy\":{\"id\":\"1591\",\"type\":\"UnionRenderers\"}},\"id\":\"1446\",\"type\":\"ColumnDataSource\"},{\"attributes\":{},\"id\":\"1433\",\"type\":\"PanTool\"},{\"attributes\":{},\"id\":\"1595\",\"type\":\"BasicTickFormatter\"},{\"attributes\":{\"bottom_units\":\"screen\",\"fill_alpha\":{\"value\":0.5},\"fill_color\":{\"value\":\"lightgrey\"},\"left_units\":\"screen\",\"level\":\"overlay\",\"line_alpha\":{\"value\":1.0},\"line_color\":{\"value\":\"black\"},\"line_dash\":[4,4],\"line_width\":{\"value\":2},\"render_mode\":\"css\",\"right_units\":\"screen\",\"top_units\":\"screen\"},\"id\":\"1598\",\"type\":\"BoxAnnotation\"},{\"attributes\":{},\"id\":\"1434\",\"type\":\"WheelZoomTool\"},{\"attributes\":{},\"id\":\"1599\",\"type\":\"Selection\"},{\"attributes\":{\"overlay\":{\"id\":\"1589\",\"type\":\"BoxAnnotation\"}},\"id\":\"1435\",\"type\":\"BoxZoomTool\"},{\"attributes\":{},\"id\":\"1600\",\"type\":\"UnionRenderers\"},{\"attributes\":{},\"id\":\"1436\",\"type\":\"SaveTool\"},{\"attributes\":{},\"id\":\"1437\",\"type\":\"ResetTool\"},{\"attributes\":{\"callback\":null},\"id\":\"1046\",\"type\":\"DataRange1d\"},{\"attributes\":{},\"id\":\"1438\",\"type\":\"HelpTool\"},{\"attributes\":{\"below\":[{\"id\":\"1464\",\"type\":\"LinearAxis\"}],\"center\":[{\"id\":\"1468\",\"type\":\"Grid\"},{\"id\":\"1473\",\"type\":\"Grid\"}],\"left\":[{\"id\":\"1469\",\"type\":\"LinearAxis\"}],\"plot_height\":150,\"plot_width\":150,\"renderers\":[{\"id\":\"1492\",\"type\":\"GlyphRenderer\"}],\"title\":{\"id\":\"1454\",\"type\":\"Title\"},\"toolbar\":{\"id\":\"1480\",\"type\":\"Toolbar\"},\"toolbar_location\":null,\"x_range\":{\"id\":\"1456\",\"type\":\"DataRange1d\"},\"x_scale\":{\"id\":\"1460\",\"type\":\"LinearScale\"},\"y_range\":{\"id\":\"1458\",\"type\":\"DataRange1d\"},\"y_scale\":{\"id\":\"1462\",\"type\":\"LinearScale\"}},\"id\":\"1453\",\"subtype\":\"Figure\",\"type\":\"Plot\"},{\"attributes\":{\"palette\":[\"#000000\",\"#252525\",\"#525252\",\"#737373\",\"#969696\",\"#bdbdbd\",\"#d9d9d9\",\"#f0f0f0\",\"#ffffff\"]},\"id\":\"1450\",\"type\":\"LinearColorMapper\"},{\"attributes\":{\"source\":{\"id\":\"1446\",\"type\":\"ColumnDataSource\"}},\"id\":\"1452\",\"type\":\"CDSView\"},{\"attributes\":{\"text\":\"Label 9\"},\"id\":\"1454\",\"type\":\"Title\"},{\"attributes\":{\"callback\":null},\"id\":\"1456\",\"type\":\"DataRange1d\"},{\"attributes\":{\"callback\":null},\"id\":\"1458\",\"type\":\"DataRange1d\"},{\"attributes\":{},\"id\":\"1460\",\"type\":\"LinearScale\"},{\"attributes\":{},\"id\":\"1462\",\"type\":\"LinearScale\"},{\"attributes\":{\"formatter\":{\"id\":\"1595\",\"type\":\"BasicTickFormatter\"},\"ticker\":{\"id\":\"1465\",\"type\":\"BasicTicker\"},\"visible\":false},\"id\":\"1464\",\"type\":\"LinearAxis\"},{\"attributes\":{},\"id\":\"1470\",\"type\":\"BasicTicker\"},{\"attributes\":{},\"id\":\"1465\",\"type\":\"BasicTicker\"},{\"attributes\":{\"ticker\":{\"id\":\"1465\",\"type\":\"BasicTicker\"},\"visible\":false},\"id\":\"1468\",\"type\":\"Grid\"},{\"attributes\":{\"dimension\":1,\"ticker\":{\"id\":\"1470\",\"type\":\"BasicTicker\"},\"visible\":false},\"id\":\"1473\",\"type\":\"Grid\"},{\"attributes\":{\"formatter\":{\"id\":\"1597\",\"type\":\"BasicTickFormatter\"},\"ticker\":{\"id\":\"1470\",\"type\":\"BasicTicker\"},\"visible\":false},\"id\":\"1469\",\"type\":\"LinearAxis\"},{\"attributes\":{\"color_mapper\":{\"id\":\"1491\",\"type\":\"LinearColorMapper\"},\"dh\":{\"units\":\"data\",\"value\":1},\"dw\":{\"units\":\"data\",\"value\":1},\"image\":{\"field\":\"image\"},\"x\":{\"value\":0},\"y\":{\"value\":0}},\"id\":\"1490\",\"type\":\"Image\"},{\"attributes\":{\"palette\":[\"#000000\",\"#252525\",\"#525252\",\"#737373\",\"#969696\",\"#bdbdbd\",\"#d9d9d9\",\"#f0f0f0\",\"#ffffff\"]},\"id\":\"1489\",\"type\":\"LinearColorMapper\"},{\"attributes\":{\"callback\":null,\"data\":{\"image\":[{\"__ndarray__\":\"AAAAAAAYKkAAAAMAAAAAACVHWUgmAAAAAAAAAAAABAAT3PX/dQADAAAASPX///////nHexwAAAAAAAcAPv/l/5oAAwAAQP3t+/Hu7PDz8fLlvAkAAAAEAEr76v+fAAcAAP/frNj0+O7x7ubk2fFnAAAABABh++T/qgAAAK3//Obhv/fx6ufn5u/fGQAAAAMAcfzn/7AAAFD/7vTzxuW+8fD+//bzVAAAAAABAIv95/+sAE3/5/Pw9uq40MX/jSEDAAAAAAAAAACa/On/m2P//+n07uvu8rj1dQAAAAAGAQAAAAAAr/jr9s/i59DQ9/765+n3vgAAAgQCAAAAAAAAAMD97fr7w+36yLu+3u/q/jUAAgAAAAAAAAABAADP//D0+/7l2f//39e6388AAAAAAAAAAAAAAAAAx//r/M2+6MnD7fz47/9NAAAAAQAAAAAAAAAAnOn/7v7du9/28s3h7u7jAAACAAAAAAAAAABald/m9e/+46//5fz71NL/gwAAAAAAAAAAAAAAAEzg4P/x/OWv/+Tx9/HK4gcAAwAAAAAAAAAAAAAAoP+f//rYw//i5+PX+nQAAAAAAAAAAAAAAAAAAAD/HOH/ztz41evr3f8uAAIAAAAAAAAAAAAAAAAAsVoA/9Hy8vjz6eTeAAADAAAAAAAAAAAAAAABAACNXf++4c/Uys33mQAAAAAAAAAAAAAAAAAAAAEAALL/x/Lc7dzK9T0AAQAAAAAAAAAAAAAAAAABAACm27/f7ez/8eAAAAQAAAAAAAAAAAAAAAAAAB+F/87/2tu5xua9AAABAAAAAAAAAAAAAAADAD9ygO/+9ur8/dfnfQAAAAAAAAAAAAAAAAAAAgAYLM/8/+Lt9O/n/0gABgEAAAAAAAAAAAAAAAAHACH78vjW6PTs6fQGAAQAAAAAAAAAAAAAAAAACQCS//r/9vPj6ePVAAACAAAAAAAAAAAAAAAAAAMACZbUypv///j0vgAAAQAAAAAAAAAAAAAAAAAAAQAAAAAAG1VdbycAAAAAAAAAAAAAAAAAAA==\",\"dtype\":\"uint8\",\"shape\":[28,28]}]},\"selected\":{\"id\":\"1599\",\"type\":\"Selection\"},\"selection_policy\":{\"id\":\"1600\",\"type\":\"UnionRenderers\"}},\"id\":\"1487\",\"type\":\"ColumnDataSource\"},{\"attributes\":{\"color_mapper\":{\"id\":\"1489\",\"type\":\"LinearColorMapper\"},\"dh\":{\"units\":\"data\",\"value\":1},\"dw\":{\"units\":\"data\",\"value\":1},\"image\":{\"field\":\"image\"},\"x\":{\"value\":0},\"y\":{\"value\":0}},\"id\":\"1488\",\"type\":\"Image\"},{\"attributes\":{},\"id\":\"1142\",\"type\":\"BasicTicker\"},{\"attributes\":{\"ticker\":{\"id\":\"1137\",\"type\":\"BasicTicker\"},\"visible\":false},\"id\":\"1140\",\"type\":\"Grid\"},{\"attributes\":{\"data_source\":{\"id\":\"1159\",\"type\":\"ColumnDataSource\"},\"glyph\":{\"id\":\"1160\",\"type\":\"Image\"},\"hover_glyph\":null,\"muted_glyph\":null,\"nonselection_glyph\":{\"id\":\"1162\",\"type\":\"Image\"},\"selection_glyph\":null,\"view\":{\"id\":\"1165\",\"type\":\"CDSView\"}},\"id\":\"1164\",\"type\":\"GlyphRenderer\"},{\"attributes\":{\"dimension\":1,\"ticker\":{\"id\":\"1142\",\"type\":\"BasicTicker\"},\"visible\":false},\"id\":\"1145\",\"type\":\"Grid\"},{\"attributes\":{\"formatter\":{\"id\":\"1525\",\"type\":\"BasicTickFormatter\"},\"ticker\":{\"id\":\"1142\",\"type\":\"BasicTicker\"},\"visible\":false},\"id\":\"1141\",\"type\":\"LinearAxis\"},{\"attributes\":{\"children\":[[{\"id\":\"1002\",\"subtype\":\"Figure\",\"type\":\"Plot\"},0,0],[{\"id\":\"1043\",\"subtype\":\"Figure\",\"type\":\"Plot\"},0,1],[{\"id\":\"1084\",\"subtype\":\"Figure\",\"type\":\"Plot\"},0,2],[{\"id\":\"1125\",\"subtype\":\"Figure\",\"type\":\"Plot\"},0,3],[{\"id\":\"1166\",\"subtype\":\"Figure\",\"type\":\"Plot\"},1,0],[{\"id\":\"1207\",\"subtype\":\"Figure\",\"type\":\"Plot\"},1,1],[{\"id\":\"1248\",\"subtype\":\"Figure\",\"type\":\"Plot\"},1,2],[{\"id\":\"1289\",\"subtype\":\"Figure\",\"type\":\"Plot\"},1,3],[{\"id\":\"1330\",\"subtype\":\"Figure\",\"type\":\"Plot\"},2,0],[{\"id\":\"1371\",\"subtype\":\"Figure\",\"type\":\"Plot\"},2,1],[{\"id\":\"1412\",\"subtype\":\"Figure\",\"type\":\"Plot\"},2,2],[{\"id\":\"1453\",\"subtype\":\"Figure\",\"type\":\"Plot\"},2,3]]},\"id\":\"1602\",\"type\":\"GridBox\"},{\"attributes\":{\"color_mapper\":{\"id\":\"1163\",\"type\":\"LinearColorMapper\"},\"dh\":{\"units\":\"data\",\"value\":1},\"dw\":{\"units\":\"data\",\"value\":1},\"image\":{\"field\":\"image\"},\"x\":{\"value\":0},\"y\":{\"value\":0}},\"id\":\"1162\",\"type\":\"Image\"},{\"attributes\":{\"color_mapper\":{\"id\":\"1204\",\"type\":\"LinearColorMapper\"},\"dh\":{\"units\":\"data\",\"value\":1},\"dw\":{\"units\":\"data\",\"value\":1},\"image\":{\"field\":\"image\"},\"x\":{\"value\":0},\"y\":{\"value\":0}},\"id\":\"1203\",\"type\":\"Image\"},{\"attributes\":{\"palette\":[\"#000000\",\"#252525\",\"#525252\",\"#737373\",\"#969696\",\"#bdbdbd\",\"#d9d9d9\",\"#f0f0f0\",\"#ffffff\"]},\"id\":\"1161\",\"type\":\"LinearColorMapper\"},{\"attributes\":{\"active_drag\":\"auto\",\"active_inspect\":\"auto\",\"active_multi\":null,\"active_scroll\":\"auto\",\"active_tap\":\"auto\",\"tools\":[{\"id\":\"1146\",\"type\":\"PanTool\"},{\"id\":\"1147\",\"type\":\"WheelZoomTool\"},{\"id\":\"1148\",\"type\":\"BoxZoomTool\"},{\"id\":\"1149\",\"type\":\"SaveTool\"},{\"id\":\"1150\",\"type\":\"ResetTool\"},{\"id\":\"1151\",\"type\":\"HelpTool\"}]},\"id\":\"1152\",\"type\":\"Toolbar\"},{\"attributes\":{\"color_mapper\":{\"id\":\"1038\",\"type\":\"LinearColorMapper\"},\"dh\":{\"units\":\"data\",\"value\":1},\"dw\":{\"units\":\"data\",\"value\":1},\"image\":{\"field\":\"image\"},\"x\":{\"value\":0},\"y\":{\"value\":0}},\"id\":\"1037\",\"type\":\"Image\"},{\"attributes\":{\"below\":[{\"id\":\"1013\",\"type\":\"LinearAxis\"}],\"center\":[{\"id\":\"1017\",\"type\":\"Grid\"},{\"id\":\"1022\",\"type\":\"Grid\"}],\"left\":[{\"id\":\"1018\",\"type\":\"LinearAxis\"}],\"plot_height\":150,\"plot_width\":150,\"renderers\":[{\"id\":\"1041\",\"type\":\"GlyphRenderer\"}],\"title\":{\"id\":\"1003\",\"type\":\"Title\"},\"toolbar\":{\"id\":\"1029\",\"type\":\"Toolbar\"},\"toolbar_location\":null,\"x_range\":{\"id\":\"1005\",\"type\":\"DataRange1d\"},\"x_scale\":{\"id\":\"1009\",\"type\":\"LinearScale\"},\"y_range\":{\"id\":\"1007\",\"type\":\"DataRange1d\"},\"y_scale\":{\"id\":\"1011\",\"type\":\"LinearScale\"}},\"id\":\"1002\",\"subtype\":\"Figure\",\"type\":\"Plot\"},{\"attributes\":{\"callback\":null,\"data\":{\"image\":[{\"__ndarray__\":\"AAAAAAAAAAAAAAAAAAAAIQQjAAIABAAAAAAAAAAAAAAADGSFoFWYU2SONF5wmoxXeZoAAAAAAAAAAAAAAE2Fh5BTxJZgiW5ZZpiMT3d1AAAAAAAAAAAAAABAh4WSMK+BVZ5TVWyQjD6BagAAAAAAAAAAAAAAJ5KHozyvgVOpZE93hX1Rf1UAAAAAAAAAAAAAACN5gbNTh4lNnGhJg3VwZnlCAAAAAAAAAAAAAAASaHWadWyQUZBqS4luZnB3PgAAAAAAAAAAAAAAAFlyjJZojFV/akeMZGBseSEAAAAAAAAAAAAAAABEeXWgaIVXg2o+kGJsZJIAAAAAAAAAAAAAAAAAJYdsg3CHWYNmPolbcmpkAAAAAAAAAAAAAAAAAABwfYODg3WFZFl9anKUHQACAAAAAAAAAAAAAAIAFolLSzI4QjIlMjpZagAAAAAAAAAAAAAAAAAAAAByV3Bianl3YGheey0AAAAAAAAAAAAAAAAAAAAAYJSSkpiJf5SUjKdCAAIAAAAAAAAAAAAAAAAEAEJ7aFNeZltkboGWNAAAAAAAAAAAAAAAAAAABABCh25qVXVsZH+HqzgAAgAAAAAAAAAAAAAAAAQAPIdibGZ3ZGKBh61CAAIAAAAAAAAAAAAAAAAEAECFaHBmanJocIGrYgACAAAAAAAAAAAAAAAAAABbgXJ5Xmhsand/qX0AAAAAAAAAAAAAAAAAAAAAcoF1eWRwZm5wgZx7AAAAAAAAAAAAAAAAAAAAAJB/d251dW53d32JnhkABAAAAAAAAAAAAAAAAE2Of3VwbHJubnuHiZ7dAAAAAAAAAAAAAAAAAA6Wg4x3hYF3f32FmJKFvG4AAAAAAAAAAAAAAACMjH2Dg4OFlJSDiYmOgZKnNgAAAAAAAAAAAABLqX2FiYyMhYd/jpKcoJiMjpYAAAAAAAAAAAAAAIycgZSYnKutr6+SlpiWjKMjAAAAAAAAAAAAAAAAktW6s8Lb3//ovK+3sbpJAAAAAAAAAAAAAAAAAAAAZsLMiTYOQJyvYCEAAAAAAAAAAA==\",\"dtype\":\"uint8\",\"shape\":[28,28]}]},\"selected\":{\"id\":\"1527\",\"type\":\"Selection\"},\"selection_policy\":{\"id\":\"1528\",\"type\":\"UnionRenderers\"}},\"id\":\"1159\",\"type\":\"ColumnDataSource\"},{\"attributes\":{},\"id\":\"1146\",\"type\":\"PanTool\"},{\"attributes\":{\"text\":\"Label 9\"},\"id\":\"1003\",\"type\":\"Title\"},{\"attributes\":{},\"id\":\"1147\",\"type\":\"WheelZoomTool\"},{\"attributes\":{\"callback\":null},\"id\":\"1005\",\"type\":\"DataRange1d\"},{\"attributes\":{\"overlay\":{\"id\":\"1526\",\"type\":\"BoxAnnotation\"}},\"id\":\"1148\",\"type\":\"BoxZoomTool\"},{\"attributes\":{},\"id\":\"1149\",\"type\":\"SaveTool\"},{\"attributes\":{},\"id\":\"1150\",\"type\":\"ResetTool\"},{\"attributes\":{\"callback\":null},\"id\":\"1007\",\"type\":\"DataRange1d\"},{\"attributes\":{},\"id\":\"1009\",\"type\":\"LinearScale\"},{\"attributes\":{},\"id\":\"1151\",\"type\":\"HelpTool\"},{\"attributes\":{},\"id\":\"1011\",\"type\":\"LinearScale\"},{\"attributes\":{},\"id\":\"1019\",\"type\":\"BasicTicker\"},{\"attributes\":{\"formatter\":{\"id\":\"1496\",\"type\":\"BasicTickFormatter\"},\"ticker\":{\"id\":\"1014\",\"type\":\"BasicTicker\"},\"visible\":false},\"id\":\"1013\",\"type\":\"LinearAxis\"},{\"attributes\":{},\"id\":\"1014\",\"type\":\"BasicTicker\"},{\"attributes\":{\"below\":[{\"id\":\"1177\",\"type\":\"LinearAxis\"}],\"center\":[{\"id\":\"1181\",\"type\":\"Grid\"},{\"id\":\"1186\",\"type\":\"Grid\"}],\"left\":[{\"id\":\"1182\",\"type\":\"LinearAxis\"}],\"plot_height\":150,\"plot_width\":150,\"renderers\":[{\"id\":\"1205\",\"type\":\"GlyphRenderer\"}],\"title\":{\"id\":\"1167\",\"type\":\"Title\"},\"toolbar\":{\"id\":\"1193\",\"type\":\"Toolbar\"},\"toolbar_location\":null,\"x_range\":{\"id\":\"1169\",\"type\":\"DataRange1d\"},\"x_scale\":{\"id\":\"1173\",\"type\":\"LinearScale\"},\"y_range\":{\"id\":\"1171\",\"type\":\"DataRange1d\"},\"y_scale\":{\"id\":\"1175\",\"type\":\"LinearScale\"}},\"id\":\"1166\",\"subtype\":\"Figure\",\"type\":\"Plot\"},{\"attributes\":{\"dimension\":1,\"ticker\":{\"id\":\"1019\",\"type\":\"BasicTicker\"},\"visible\":false},\"id\":\"1022\",\"type\":\"Grid\"},{\"attributes\":{\"ticker\":{\"id\":\"1014\",\"type\":\"BasicTicker\"},\"visible\":false},\"id\":\"1017\",\"type\":\"Grid\"},{\"attributes\":{\"formatter\":{\"id\":\"1498\",\"type\":\"BasicTickFormatter\"},\"ticker\":{\"id\":\"1019\",\"type\":\"BasicTicker\"},\"visible\":false},\"id\":\"1018\",\"type\":\"LinearAxis\"},{\"attributes\":{\"palette\":[\"#000000\",\"#252525\",\"#525252\",\"#737373\",\"#969696\",\"#bdbdbd\",\"#d9d9d9\",\"#f0f0f0\",\"#ffffff\"]},\"id\":\"1163\",\"type\":\"LinearColorMapper\"},{\"attributes\":{\"source\":{\"id\":\"1159\",\"type\":\"ColumnDataSource\"}},\"id\":\"1165\",\"type\":\"CDSView\"},{\"attributes\":{\"text\":\"Label 0\"},\"id\":\"1167\",\"type\":\"Title\"},{\"attributes\":{\"callback\":null},\"id\":\"1169\",\"type\":\"DataRange1d\"},{\"attributes\":{\"callback\":null},\"id\":\"1171\",\"type\":\"DataRange1d\"},{\"attributes\":{},\"id\":\"1173\",\"type\":\"LinearScale\"},{\"attributes\":{},\"id\":\"1175\",\"type\":\"LinearScale\"},{\"attributes\":{\"formatter\":{\"id\":\"1532\",\"type\":\"BasicTickFormatter\"},\"ticker\":{\"id\":\"1178\",\"type\":\"BasicTicker\"},\"visible\":false},\"id\":\"1177\",\"type\":\"LinearAxis\"},{\"attributes\":{},\"id\":\"1183\",\"type\":\"BasicTicker\"},{\"attributes\":{},\"id\":\"1178\",\"type\":\"BasicTicker\"},{\"attributes\":{\"callback\":null,\"data\":{\"image\":[{\"__ndarray__\":\"AAAAAAAAAAAAAEqhiwAZqGY9AAAAAAAAAAAAAAAAAAAAAAAARv/y//YAVP/r8v8tAAAAAAAAAAAAAAAAAAAAH//u4e7fAD7/2t7y/wAAAAAAAAAAAAAAAAAAAI7x4+bt8wBA/9zk5PFlAAAAAAAAAAAAAAAAAAC7+ebm8/cATP/T5eP4sQAAAAAAAAAAAAAAAAAAkO7Y1tvp4fLn2NrL644AAAAAAAAAAAAAAAAAAGPywNra2tzx3tvc0P9CAAAAAAAAAAAAAAAAAAA67pne29jW6dzb29T+EQAAAAAAAAAAAAAAAAAAB/ff2NrX2erb3NjZ6gAAAAAAAAAAAAAAAAAAAADc1NXa19rn293W3coAAAAAAAAAAAAAAAAAAAAAo9vN2Nfa5Nvc0+KSAAAAAAAAAAAAAAAAAAAAADr+ztXX2+Pb29HjTwAAAAAAAAAAAAAAAAAAAAAA59PT19rg29rW/yYAAAAAAAAAAAAAAAAAAAAAANPX0tbZ3tvZ2PkAAAAAAAAAAAAAAAAAAAAAAACz2s/W2N7a19j4AAAAAAAAAAAAAAAAAAAAAAAAk97L1dnc2dbY9wAAAAAAAAAAAAAAAAAAAAAAAH3hzNPX2djW2PUAAAAAAAAAAAAAAAAAAAAAAACI4svU1tjZ1tj3AAAAAAAAAAAAAAAAAAAAAAAAluHO2NjZ2dfY/gAAAAAAAAAAAAAAAAAAAAAAAKfdy9TX1tPS1v4YAAAAAAAAAAAAAAAAAAAAAACs4MrZ19LY2tbeLQAAAAAAAAAAAAAAAAAAAAAAq+fZ2+/84NzV5EYAAAAAAAAAAAAAAAAAAAAAALrm1vaiLvnX0+hiAAAAAAAAAAAAAAAAAAAAAADI4tX/ogD/4tTliwAAAAAAAAAAAAAAAAAAAAAAvt3Z8MIA/unX4a0AAAAAAAAAAAAAAAAAAAAAANHa6vLvk+bz6uPAAAAAAAAAAAAAAAAAAAAAAAvE4tkaAAAAILvOvQAAAAAAAAAAAAAAAAAAAAAAABoAAAAAAAAAAAAAAAAAAAAAAA==\",\"dtype\":\"uint8\",\"shape\":[28,28]}]},\"selected\":{\"id\":\"1536\",\"type\":\"Selection\"},\"selection_policy\":{\"id\":\"1537\",\"type\":\"UnionRenderers\"}},\"id\":\"1200\",\"type\":\"ColumnDataSource\"},{\"attributes\":{\"color_mapper\":{\"id\":\"1202\",\"type\":\"LinearColorMapper\"},\"dh\":{\"units\":\"data\",\"value\":1},\"dw\":{\"units\":\"data\",\"value\":1},\"image\":{\"field\":\"image\"},\"x\":{\"value\":0},\"y\":{\"value\":0}},\"id\":\"1201\",\"type\":\"Image\"},{\"attributes\":{\"ticker\":{\"id\":\"1178\",\"type\":\"BasicTicker\"},\"visible\":false},\"id\":\"1181\",\"type\":\"Grid\"},{\"attributes\":{\"palette\":[\"#000000\",\"#252525\",\"#525252\",\"#737373\",\"#969696\",\"#bdbdbd\",\"#d9d9d9\",\"#f0f0f0\",\"#ffffff\"]},\"id\":\"1202\",\"type\":\"LinearColorMapper\"},{\"attributes\":{\"formatter\":{\"id\":\"1534\",\"type\":\"BasicTickFormatter\"},\"ticker\":{\"id\":\"1183\",\"type\":\"BasicTicker\"},\"visible\":false},\"id\":\"1182\",\"type\":\"LinearAxis\"},{\"attributes\":{\"data_source\":{\"id\":\"1282\",\"type\":\"ColumnDataSource\"},\"glyph\":{\"id\":\"1283\",\"type\":\"Image\"},\"hover_glyph\":null,\"muted_glyph\":null,\"nonselection_glyph\":{\"id\":\"1285\",\"type\":\"Image\"},\"selection_glyph\":null,\"view\":{\"id\":\"1288\",\"type\":\"CDSView\"}},\"id\":\"1287\",\"type\":\"GlyphRenderer\"},{\"attributes\":{},\"id\":\"1232\",\"type\":\"ResetTool\"},{\"attributes\":{\"palette\":[\"#000000\",\"#252525\",\"#525252\",\"#737373\",\"#969696\",\"#bdbdbd\",\"#d9d9d9\",\"#f0f0f0\",\"#ffffff\"]},\"id\":\"1040\",\"type\":\"LinearColorMapper\"},{\"attributes\":{\"below\":[{\"id\":\"1300\",\"type\":\"LinearAxis\"}],\"center\":[{\"id\":\"1304\",\"type\":\"Grid\"},{\"id\":\"1309\",\"type\":\"Grid\"}],\"left\":[{\"id\":\"1305\",\"type\":\"LinearAxis\"}],\"plot_height\":150,\"plot_width\":150,\"renderers\":[{\"id\":\"1328\",\"type\":\"GlyphRenderer\"}],\"title\":{\"id\":\"1290\",\"type\":\"Title\"},\"toolbar\":{\"id\":\"1316\",\"type\":\"Toolbar\"},\"toolbar_location\":null,\"x_range\":{\"id\":\"1292\",\"type\":\"DataRange1d\"},\"x_scale\":{\"id\":\"1296\",\"type\":\"LinearScale\"},\"y_range\":{\"id\":\"1294\",\"type\":\"DataRange1d\"},\"y_scale\":{\"id\":\"1298\",\"type\":\"LinearScale\"}},\"id\":\"1289\",\"subtype\":\"Figure\",\"type\":\"Plot\"},{\"attributes\":{},\"id\":\"1233\",\"type\":\"HelpTool\"},{\"attributes\":{\"source\":{\"id\":\"1282\",\"type\":\"ColumnDataSource\"}},\"id\":\"1288\",\"type\":\"CDSView\"},{\"attributes\":{\"active_drag\":\"auto\",\"active_inspect\":\"auto\",\"active_multi\":null,\"active_scroll\":\"auto\",\"active_tap\":\"auto\",\"tools\":[{\"id\":\"1228\",\"type\":\"PanTool\"},{\"id\":\"1229\",\"type\":\"WheelZoomTool\"},{\"id\":\"1230\",\"type\":\"BoxZoomTool\"},{\"id\":\"1231\",\"type\":\"SaveTool\"},{\"id\":\"1232\",\"type\":\"ResetTool\"},{\"id\":\"1233\",\"type\":\"HelpTool\"}]},\"id\":\"1234\",\"type\":\"Toolbar\"},{\"attributes\":{\"callback\":null},\"id\":\"1089\",\"type\":\"DataRange1d\"},{\"attributes\":{\"text\":\"Label 2\"},\"id\":\"1290\",\"type\":\"Title\"},{\"attributes\":{\"below\":[{\"id\":\"1259\",\"type\":\"LinearAxis\"}],\"center\":[{\"id\":\"1263\",\"type\":\"Grid\"},{\"id\":\"1268\",\"type\":\"Grid\"}],\"left\":[{\"id\":\"1264\",\"type\":\"LinearAxis\"}],\"plot_height\":150,\"plot_width\":150,\"renderers\":[{\"id\":\"1287\",\"type\":\"GlyphRenderer\"}],\"title\":{\"id\":\"1249\",\"type\":\"Title\"},\"toolbar\":{\"id\":\"1275\",\"type\":\"Toolbar\"},\"toolbar_location\":null,\"x_range\":{\"id\":\"1251\",\"type\":\"DataRange1d\"},\"x_scale\":{\"id\":\"1255\",\"type\":\"LinearScale\"},\"y_range\":{\"id\":\"1253\",\"type\":\"DataRange1d\"},\"y_scale\":{\"id\":\"1257\",\"type\":\"LinearScale\"}},\"id\":\"1248\",\"subtype\":\"Figure\",\"type\":\"Plot\"},{\"attributes\":{\"source\":{\"id\":\"1036\",\"type\":\"ColumnDataSource\"}},\"id\":\"1042\",\"type\":\"CDSView\"},{\"attributes\":{\"callback\":null},\"id\":\"1292\",\"type\":\"DataRange1d\"},{\"attributes\":{\"data_source\":{\"id\":\"1241\",\"type\":\"ColumnDataSource\"},\"glyph\":{\"id\":\"1242\",\"type\":\"Image\"},\"hover_glyph\":null,\"muted_glyph\":null,\"nonselection_glyph\":{\"id\":\"1244\",\"type\":\"Image\"},\"selection_glyph\":null,\"view\":{\"id\":\"1247\",\"type\":\"CDSView\"}},\"id\":\"1246\",\"type\":\"GlyphRenderer\"},{\"attributes\":{\"source\":{\"id\":\"1241\",\"type\":\"ColumnDataSource\"}},\"id\":\"1247\",\"type\":\"CDSView\"},{\"attributes\":{\"callback\":null},\"id\":\"1294\",\"type\":\"DataRange1d\"},{\"attributes\":{\"text\":\"Label 7\"},\"id\":\"1249\",\"type\":\"Title\"},{\"attributes\":{},\"id\":\"1296\",\"type\":\"LinearScale\"},{\"attributes\":{\"callback\":null},\"id\":\"1251\",\"type\":\"DataRange1d\"},{\"attributes\":{},\"id\":\"1298\",\"type\":\"LinearScale\"},{\"attributes\":{\"formatter\":{\"id\":\"1559\",\"type\":\"BasicTickFormatter\"},\"ticker\":{\"id\":\"1301\",\"type\":\"BasicTicker\"},\"visible\":false},\"id\":\"1300\",\"type\":\"LinearAxis\"},{\"attributes\":{},\"id\":\"1306\",\"type\":\"BasicTicker\"},{\"attributes\":{},\"id\":\"1301\",\"type\":\"BasicTicker\"},{\"attributes\":{\"callback\":null},\"id\":\"1253\",\"type\":\"DataRange1d\"},{\"attributes\":{\"ticker\":{\"id\":\"1301\",\"type\":\"BasicTicker\"},\"visible\":false},\"id\":\"1304\",\"type\":\"Grid\"},{\"attributes\":{\"palette\":[\"#000000\",\"#252525\",\"#525252\",\"#737373\",\"#969696\",\"#bdbdbd\",\"#d9d9d9\",\"#f0f0f0\",\"#ffffff\"]},\"id\":\"1325\",\"type\":\"LinearColorMapper\"},{\"attributes\":{},\"id\":\"1255\",\"type\":\"LinearScale\"},{\"attributes\":{\"dimension\":1,\"ticker\":{\"id\":\"1306\",\"type\":\"BasicTicker\"},\"visible\":false},\"id\":\"1309\",\"type\":\"Grid\"},{\"attributes\":{},\"id\":\"1257\",\"type\":\"LinearScale\"},{\"attributes\":{\"formatter\":{\"id\":\"1561\",\"type\":\"BasicTickFormatter\"},\"ticker\":{\"id\":\"1306\",\"type\":\"BasicTicker\"},\"visible\":false},\"id\":\"1305\",\"type\":\"LinearAxis\"},{\"attributes\":{\"palette\":[\"#000000\",\"#252525\",\"#525252\",\"#737373\",\"#969696\",\"#bdbdbd\",\"#d9d9d9\",\"#f0f0f0\",\"#ffffff\"]},\"id\":\"1038\",\"type\":\"LinearColorMapper\"},{\"attributes\":{\"formatter\":{\"id\":\"1550\",\"type\":\"BasicTickFormatter\"},\"ticker\":{\"id\":\"1260\",\"type\":\"BasicTicker\"},\"visible\":false},\"id\":\"1259\",\"type\":\"LinearAxis\"},{\"attributes\":{\"color_mapper\":{\"id\":\"1327\",\"type\":\"LinearColorMapper\"},\"dh\":{\"units\":\"data\",\"value\":1},\"dw\":{\"units\":\"data\",\"value\":1},\"image\":{\"field\":\"image\"},\"x\":{\"value\":0},\"y\":{\"value\":0}},\"id\":\"1326\",\"type\":\"Image\"},{\"attributes\":{},\"id\":\"1265\",\"type\":\"BasicTicker\"},{\"attributes\":{},\"id\":\"1260\",\"type\":\"BasicTicker\"},{\"attributes\":{\"color_mapper\":{\"id\":\"1366\",\"type\":\"LinearColorMapper\"},\"dh\":{\"units\":\"data\",\"value\":1},\"dw\":{\"units\":\"data\",\"value\":1},\"image\":{\"field\":\"image\"},\"x\":{\"value\":0},\"y\":{\"value\":0}},\"id\":\"1365\",\"type\":\"Image\"},{\"attributes\":{\"data_source\":{\"id\":\"1036\",\"type\":\"ColumnDataSource\"},\"glyph\":{\"id\":\"1037\",\"type\":\"Image\"},\"hover_glyph\":null,\"muted_glyph\":null,\"nonselection_glyph\":{\"id\":\"1039\",\"type\":\"Image\"},\"selection_glyph\":null,\"view\":{\"id\":\"1042\",\"type\":\"CDSView\"}},\"id\":\"1041\",\"type\":\"GlyphRenderer\"},{\"attributes\":{\"callback\":null,\"data\":{\"image\":[{\"__ndarray__\":\"AABG5+1SAAMAAAAAAAAAAAAAAAQANE1fAQAAAAAASPf2ZwAEAAAAAAAAAAAAAAALAL//6gAAAAAAALTr+5cAAQACBAQFBQYEAgAAAACj8uQeAAAAAHf+3vTeAAAAAAAAAAAAAAAAAAAA/O7s/xAAAACy9uXu/wAAAAAOFBUWFQgAAAAAAP/p4v+sAAAAZf/h7f9RyPj75Onq7Ozl/+/iiAD/6eDyrQAAABf/5O//wP/w7ufm5ebl5uzu+/VR/+vV/6cAAAAA/+T09+Dd4ujp5+Xk6OTk5eDi6P/y2v9fAAAAAP/m9vTh5d3m5uTm4u7n4OHe6OLq+OD/FAAAAAD/5/rv3ePd4+bm5+Xr4+Hh5ezg7frh/1MAAAAA/+v36unr4ODk5ujo6eLj3+fq0Oz46P9YAAAAAPzv89339ebg5Obp6enj5eDs5tjt8uv/GwAAAADf8O/l/O3t3ubn5+Xn5efe7uTa8+jz9QAAAAAB/+rs5vjh893m5+fl5+Xn3+3l+ezh+tQAAAAAAK/04+/z2vXg5Ofn5efl59/s3ufs5f9aAAAAAACn+uH+7Nvx5ePn5+Xn5Obf6t3x8uP/ZgAAAAAAN/Pl++Xh6ubj5uTj5OXj5Ond8ffl/WUAAAAAAAD/7fLj4efk5Obl5OXm4+bi5vb15vgzAAAAAAAA4/D24OTl5OPk4+Lj5eHl3eX56uf1LwAAAAAAAOf05d/o5OTm5+Xk5ufk6OPd/+Lw4QAAAAAAAACM/uTm6Onq6+vr6+vq6Ono3P/l7+oAAAAAAAEAWPbe6efq6+vr6+vs7Orq6N/+3++xAAAAAAAEABj/5+bq6+zr6+vr7O3s7urf7+v/AAADAAAAAAAASfbh6e3v7Ovr6ejq7O3v5OL+UQAAAAAAAAABAACw/+vm5u/q7ff16+zp6uT7xwAAAQAAAAAAAAIAAKXp++/m8ObN3e7m8fv0zgAAAgAAAAAAAAAAAgAAAG/4/P////////F+HAAAAgAAAAAAAAAAAAAAAAAAAFUhAAAAHD8AAAAAAQEAAAAAAA==\",\"dtype\":\"uint8\",\"shape\":[28,28]}]},\"selected\":{\"id\":\"1563\",\"type\":\"Selection\"},\"selection_policy\":{\"id\":\"1564\",\"type\":\"UnionRenderers\"}},\"id\":\"1323\",\"type\":\"ColumnDataSource\"},{\"attributes\":{\"ticker\":{\"id\":\"1260\",\"type\":\"BasicTicker\"},\"visible\":false},\"id\":\"1263\",\"type\":\"Grid\"},{\"attributes\":{\"active_drag\":\"auto\",\"active_inspect\":\"auto\",\"active_multi\":null,\"active_scroll\":\"auto\",\"active_tap\":\"auto\",\"tools\":[{\"id\":\"1310\",\"type\":\"PanTool\"},{\"id\":\"1311\",\"type\":\"WheelZoomTool\"},{\"id\":\"1312\",\"type\":\"BoxZoomTool\"},{\"id\":\"1313\",\"type\":\"SaveTool\"},{\"id\":\"1314\",\"type\":\"ResetTool\"},{\"id\":\"1315\",\"type\":\"HelpTool\"}]},\"id\":\"1316\",\"type\":\"Toolbar\"},{\"attributes\":{\"palette\":[\"#000000\",\"#252525\",\"#525252\",\"#737373\",\"#969696\",\"#bdbdbd\",\"#d9d9d9\",\"#f0f0f0\",\"#ffffff\"]},\"id\":\"1284\",\"type\":\"LinearColorMapper\"},{\"attributes\":{\"color_mapper\":{\"id\":\"1325\",\"type\":\"LinearColorMapper\"},\"dh\":{\"units\":\"data\",\"value\":1},\"dw\":{\"units\":\"data\",\"value\":1},\"image\":{\"field\":\"image\"},\"x\":{\"value\":0},\"y\":{\"value\":0}},\"id\":\"1324\",\"type\":\"Image\"},{\"attributes\":{\"dimension\":1,\"ticker\":{\"id\":\"1265\",\"type\":\"BasicTicker\"},\"visible\":false},\"id\":\"1268\",\"type\":\"Grid\"},{\"attributes\":{\"formatter\":{\"id\":\"1552\",\"type\":\"BasicTickFormatter\"},\"ticker\":{\"id\":\"1265\",\"type\":\"BasicTicker\"},\"visible\":false},\"id\":\"1264\",\"type\":\"LinearAxis\"},{\"attributes\":{},\"id\":\"1310\",\"type\":\"PanTool\"},{\"attributes\":{\"color_mapper\":{\"id\":\"1286\",\"type\":\"LinearColorMapper\"},\"dh\":{\"units\":\"data\",\"value\":1},\"dw\":{\"units\":\"data\",\"value\":1},\"image\":{\"field\":\"image\"},\"x\":{\"value\":0},\"y\":{\"value\":0}},\"id\":\"1285\",\"type\":\"Image\"},{\"attributes\":{},\"id\":\"1311\",\"type\":\"WheelZoomTool\"},{\"attributes\":{\"overlay\":{\"id\":\"1562\",\"type\":\"BoxAnnotation\"}},\"id\":\"1312\",\"type\":\"BoxZoomTool\"},{\"attributes\":{\"callback\":null,\"data\":{\"image\":[{\"__ndarray__\":\"AAAAAAAAAAAAAAAAAAAAAAAAAAAAAAAAAAAAAAAAAAAAAAAAAAAAAAAAAAAAAAAAAAAAAAAAAAAAAAAAAAAAAAAAAAAAAAAAAAAAAAAAAAAAAAAAAAAAAAAAAAAAAAAAAAAAAAAAAAAAAAAAAAAAAAAAAAAAAAAAAAAAAAAAAAAAAAAAAAAAAAAAAAAAAAAAAAAAAAAAAAAAAAAAAAAAAAAAAAAAAAAAAAAAAAAAAAAAAAAAAAAAAAAAAAAAAAAAAAAAAAAaJSglKCMfHiswKykpLConJyIbEQ4JAAAAAAAtS1BdU09UT0I5MSkkHhsTERIPDxQMFhoaGQsAAAEMICAfGRkjLT1MXG97j5GPjoZsTCgHAAALED7RxtfV3d7i6PP///358/Dy3dvZ3NjPvJ1yNw+J2MrR1dTX1dDIyM3Gxb2/u73Ix8PCx8LIx75sicvB1vLm5b++v8XM0tHM1tPLyrvGzMCmnncyACTI5nwAAK/Ox7rBz9XV19fAxNHt1m4AAAAAAAAAFgoCs+DpzrnPw83WzL7C3fCWQwAAAAADAQAAADMj+20WAHTRm8zIw8ni7JUQAAAAAAYAAgAAAAAAs14AAADx1bXD1vmzeiUAAAABAAAAAAAAAAAAAHwGAAAAp9HW34paAAAAAAEAAAAAAAAAAAAAAAAAAAAAAADlagAAAAAABAAAAAAAAAAAAAAAAAAAAQUAAAAAAgAAAAQAAQMAAQEAAAAAAAAAAAAAAAAAAAAAAAAAAAAAAAAAAAAAAAAAAAAAAAAAAAAAAAAAAAAAAAAAAAAAAAAAAAAAAAAAAAAAAAAAAAAAAAAAAAAAAAAAAAAAAAAAAAAAAAAAAAAAAAAAAAAAAAAAAAAAAAAAAAAAAAAAAAAAAAAAAAAAAAAAAAAAAAAAAAAAAAAAAAAAAAAAAAAAAAAAAAAAAAAAAAAAAAAAAAAAAAAAAAAAAAAAAAAAAAAAAAAAAAAAAAAAAAAAAAAAAAAAAAAAAAAAAAAAAAAAAAAAAAAAAAAAAAAAAAAAAAAAAAAAAA==\",\"dtype\":\"uint8\",\"shape\":[28,28]}]},\"selected\":{\"id\":\"1554\",\"type\":\"Selection\"},\"selection_policy\":{\"id\":\"1555\",\"type\":\"UnionRenderers\"}},\"id\":\"1282\",\"type\":\"ColumnDataSource\"},{\"attributes\":{},\"id\":\"1313\",\"type\":\"SaveTool\"},{\"attributes\":{\"active_drag\":\"auto\",\"active_inspect\":\"auto\",\"active_multi\":null,\"active_scroll\":\"auto\",\"active_tap\":\"auto\",\"tools\":[{\"id\":\"1269\",\"type\":\"PanTool\"},{\"id\":\"1270\",\"type\":\"WheelZoomTool\"},{\"id\":\"1271\",\"type\":\"BoxZoomTool\"},{\"id\":\"1272\",\"type\":\"SaveTool\"},{\"id\":\"1273\",\"type\":\"ResetTool\"},{\"id\":\"1274\",\"type\":\"HelpTool\"}]},\"id\":\"1275\",\"type\":\"Toolbar\"},{\"attributes\":{\"color_mapper\":{\"id\":\"1284\",\"type\":\"LinearColorMapper\"},\"dh\":{\"units\":\"data\",\"value\":1},\"dw\":{\"units\":\"data\",\"value\":1},\"image\":{\"field\":\"image\"},\"x\":{\"value\":0},\"y\":{\"value\":0}},\"id\":\"1283\",\"type\":\"Image\"},{\"attributes\":{},\"id\":\"1314\",\"type\":\"ResetTool\"},{\"attributes\":{},\"id\":\"1269\",\"type\":\"PanTool\"},{\"attributes\":{\"data_source\":{\"id\":\"1323\",\"type\":\"ColumnDataSource\"},\"glyph\":{\"id\":\"1324\",\"type\":\"Image\"},\"hover_glyph\":null,\"muted_glyph\":null,\"nonselection_glyph\":{\"id\":\"1326\",\"type\":\"Image\"},\"selection_glyph\":null,\"view\":{\"id\":\"1329\",\"type\":\"CDSView\"}},\"id\":\"1328\",\"type\":\"GlyphRenderer\"},{\"attributes\":{},\"id\":\"1270\",\"type\":\"WheelZoomTool\"},{\"attributes\":{},\"id\":\"1315\",\"type\":\"HelpTool\"},{\"attributes\":{\"overlay\":{\"id\":\"1553\",\"type\":\"BoxAnnotation\"}},\"id\":\"1271\",\"type\":\"BoxZoomTool\"},{\"attributes\":{},\"id\":\"1272\",\"type\":\"SaveTool\"},{\"attributes\":{\"below\":[{\"id\":\"1341\",\"type\":\"LinearAxis\"}],\"center\":[{\"id\":\"1345\",\"type\":\"Grid\"},{\"id\":\"1350\",\"type\":\"Grid\"}],\"left\":[{\"id\":\"1346\",\"type\":\"LinearAxis\"}],\"plot_height\":150,\"plot_width\":150,\"renderers\":[{\"id\":\"1369\",\"type\":\"GlyphRenderer\"}],\"title\":{\"id\":\"1331\",\"type\":\"Title\"},\"toolbar\":{\"id\":\"1357\",\"type\":\"Toolbar\"},\"toolbar_location\":null,\"x_range\":{\"id\":\"1333\",\"type\":\"DataRange1d\"},\"x_scale\":{\"id\":\"1337\",\"type\":\"LinearScale\"},\"y_range\":{\"id\":\"1335\",\"type\":\"DataRange1d\"},\"y_scale\":{\"id\":\"1339\",\"type\":\"LinearScale\"}},\"id\":\"1330\",\"subtype\":\"Figure\",\"type\":\"Plot\"},{\"attributes\":{},\"id\":\"1273\",\"type\":\"ResetTool\"},{\"attributes\":{\"palette\":[\"#000000\",\"#252525\",\"#525252\",\"#737373\",\"#969696\",\"#bdbdbd\",\"#d9d9d9\",\"#f0f0f0\",\"#ffffff\"]},\"id\":\"1286\",\"type\":\"LinearColorMapper\"},{\"attributes\":{},\"id\":\"1274\",\"type\":\"HelpTool\"},{\"attributes\":{\"palette\":[\"#000000\",\"#252525\",\"#525252\",\"#737373\",\"#969696\",\"#bdbdbd\",\"#d9d9d9\",\"#f0f0f0\",\"#ffffff\"]},\"id\":\"1327\",\"type\":\"LinearColorMapper\"},{\"attributes\":{\"source\":{\"id\":\"1323\",\"type\":\"ColumnDataSource\"}},\"id\":\"1329\",\"type\":\"CDSView\"},{\"attributes\":{\"text\":\"Label 5\"},\"id\":\"1331\",\"type\":\"Title\"}],\"root_ids\":[\"1605\"]},\"title\":\"Bokeh Application\",\"version\":\"1.4.0\"}};\n",
       "  var render_items = [{\"docid\":\"df0f4271-b0a5-4063-8b70-861ab417f0bf\",\"roots\":{\"1605\":\"4304d6ec-d984-4c1a-9b66-f588fdaf4bb1\"}}];\n",
       "  root.Bokeh.embed.embed_items_notebook(docs_json, render_items);\n",
       "\n",
       "  }\n",
       "  if (root.Bokeh !== undefined) {\n",
       "    embed_document(root);\n",
       "  } else {\n",
       "    var attempts = 0;\n",
       "    var timer = setInterval(function(root) {\n",
       "      if (root.Bokeh !== undefined) {\n",
       "        clearInterval(timer);\n",
       "        embed_document(root);\n",
       "      } else {\n",
       "        attempts++;\n",
       "        if (attempts > 100) {\n",
       "          clearInterval(timer);\n",
       "          console.log(\"Bokeh: ERROR: Unable to run BokehJS code because BokehJS library is missing\");\n",
       "        }\n",
       "      }\n",
       "    }, 10, root)\n",
       "  }\n",
       "})(window);"
      ],
      "application/vnd.bokehjs_exec.v0+json": ""
     },
     "metadata": {
      "application/vnd.bokehjs_exec.v0+json": {
       "id": "1605"
      }
     },
     "output_type": "display_data"
    }
   ],
   "source": [
    "image_samples = train[:12].reshape(-1, 28, 28)\n",
    "label_samples = train_labels[:12]\n",
    "\n",
    "rows = show_image_grid(image_samples, label_samples, rot90=2)"
   ]
  },
  {
   "cell_type": "markdown",
   "metadata": {},
   "source": [
    "이미지는 여러 개의 체널로 구성됩니다. 이미지의 크기를 (height, width, channel) 로 혹은 (channel, height, width) 로 정의할 수 있습니다. 지금 이용하는 tensorflow 의 형식을 확인합니다."
   ]
  },
  {
   "cell_type": "code",
   "execution_count": 5,
   "metadata": {},
   "outputs": [
    {
     "data": {
      "text/plain": [
       "'channels_last'"
      ]
     },
     "execution_count": 5,
     "metadata": {},
     "output_type": "execute_result"
    }
   ],
   "source": [
    "from keras import backend as K\n",
    "\n",
    "K.image_data_format()"
   ]
  },
  {
   "cell_type": "markdown",
   "metadata": {},
   "source": [
    "이미지의 크기를 표현하는 방법에 따라 input shape 을 다르게 정의하며, (n data, channel, height, width) 혹은 (n data, height, width, channel) 로 input data 의 shape 을 변경합니다. 또한 이미지 데이터는 uint8 형식의 어레이입니다. 뉴럴 네트워크가 잘 학습할 수 있도록 [0, 1] 사이의 실수값으로 이를 변환합니다."
   ]
  },
  {
   "cell_type": "code",
   "execution_count": 6,
   "metadata": {},
   "outputs": [
    {
     "name": "stdout",
     "output_type": "stream",
     "text": [
      "range = (0, 255)\n",
      "dtype = uint8\n",
      "train_X shape = (60000, 28, 28, 1)\n",
      "test_X  shape = (10000, 28, 28, 1)\n",
      "\n",
      "range = (0.0, 1.0)\n",
      "dtype = float32\n",
      "train_X shape = (60000, 28, 28, 1)\n",
      "test_X  shape = (10000, 28, 28, 1)\n"
     ]
    }
   ],
   "source": [
    "if K.image_data_format() == 'channels_first':\n",
    "    train_X = train.reshape(train.shape[0], 1, 28, 28)\n",
    "    test_X = test.reshape(test.shape[0], 1, 28, 28)\n",
    "    input_shape = (1, 28, 28)\n",
    "else:\n",
    "    train_X = train.reshape(train.shape[0], 28, 28, 1)\n",
    "    test_X = test.reshape(test.shape[0], 28, 28, 1)\n",
    "    input_shape = (28, 28, 1)\n",
    "\n",
    "print(f'range = ({train_X.min()}, {train_X.max()})')\n",
    "print(f'dtype = {train_X.dtype}')\n",
    "print(f'train_X shape = {train_X.shape}')\n",
    "print(f'test_X  shape = {test_X.shape}')\n",
    "\n",
    "train_X = train_X.astype(np.float32) / 255\n",
    "test_X = test_X.astype(np.float32) / 255\n",
    "\n",
    "print(f'\\nrange = ({train_X.min()}, {train_X.max()})')\n",
    "print(f'dtype = {train_X.dtype}')\n",
    "print(f'train_X shape = {train_X.shape}')\n",
    "print(f'test_X  shape = {test_X.shape}')"
   ]
  },
  {
   "cell_type": "markdown",
   "metadata": {},
   "source": [
    "`train_labels` 은 shape 이 (60000,) 인 column vector 입니다. 이를 one-hot representation 으로 변경합니다."
   ]
  },
  {
   "cell_type": "code",
   "execution_count": 7,
   "metadata": {},
   "outputs": [
    {
     "name": "stdout",
     "output_type": "stream",
     "text": [
      "train_y shape = (60000, 10)\n",
      "test_y  shape = (10000, 10)\n"
     ]
    }
   ],
   "source": [
    "train_y = keras.utils.to_categorical(train_labels, n_classes)\n",
    "test_y = keras.utils.to_categorical(test_labels, n_classes)\n",
    "\n",
    "print(f'train_y shape = {train_y.shape}')\n",
    "print(f'test_y  shape = {test_y.shape}')"
   ]
  },
  {
   "cell_type": "markdown",
   "metadata": {},
   "source": [
    "Keras 에서 feed forward 방식으로 모델을 구성할 때에는 `keras.models.Sequential` 을 이용할 수 있습니다. input 이 Sequential 의 처음부터 마지막까지 이동한다는 의미입니다.\n",
    "\n",
    "Conv2D 는 2 차원의 kernel 을 적용하는 convolutional filter 를 의미합니다. filters, kernel_size 등의 패러매터값은 CNN 의 강의노트에 등장한 개념입니다. `kernel_initializer` 는 뉴럴 네트워크의 initializer 에서 다뤘던 방법입니다. 활성함수로 ReLU 를 이용할 때 좋은 성능을 보여준다고 알려져 있습니다.\n",
    "\n",
    "Conv2D 가 적용된 이후 max pooling 을 수행하고, activation map 을 `Flatten()` 을 이용하여 flatten vector 로 만들 수 있습니다. 그 뒤, fully connected layer 를 추가하고 마지막에 softmax 를 활성함수로 지니는 10 차원의 fully connected layer 를 추가합니다.\n",
    "\n",
    "Sequential 에 add 되는 각 레이어들은 앞선 레이어의 output shape 로부터 다음 레이어의 input shape 을 알 수 있습니다. 그러나 Sequential 의 첫번째 레이어는 input data 의 모양을 모르기 때문에 `input_shape` 을 반드시 지정해줘야 합니다.\n",
    "\n",
    "이처럼 모델 구성이 모두 끝나면 `compile()` 을 수행합니다. 이 때 학습에 이용할 loss function 와 optimizer 를 설정합니다."
   ]
  },
  {
   "cell_type": "code",
   "execution_count": 8,
   "metadata": {},
   "outputs": [],
   "source": [
    "from keras.models import Sequential\n",
    "from keras.layers import Conv2D, MaxPooling2D, Dense, Flatten\n",
    "\n",
    "cnn = Sequential()\n",
    "cnn.add(\n",
    "    Conv2D(\n",
    "        filters=32,\n",
    "        kernel_size=(3,3),\n",
    "        strides=(1,1),\n",
    "        activation='relu',\n",
    "        use_bias=True,\n",
    "        kernel_initializer='glorot_uniform',\n",
    "        input_shape = input_shape\n",
    "    ))\n",
    "cnn.add(MaxPooling2D(pool_size=(2,2)))\n",
    "cnn.add(Conv2D(filters=32, kernel_size=(3,3), activation='relu'))\n",
    "cnn.add(MaxPooling2D(pool_size=(2,2)))\n",
    "cnn.add(Flatten())\n",
    "cnn.add(Dense(units=128, activation='relu'))\n",
    "cnn.add(Dense(64, activation='relu'))\n",
    "cnn.add(Dense(n_classes, activation='softmax'))\n",
    "\n",
    "cnn.compile(\n",
    "    loss = keras.losses.categorical_crossentropy,\n",
    "    optimizer = keras.optimizers.Adam(),\n",
    "    metrics = ['accuracy']\n",
    ")"
   ]
  },
  {
   "cell_type": "markdown",
   "metadata": {},
   "source": [
    "`summary()` 함수를 실행하면 layers 의 구성이 표현됩니다. Output shape 의 첫칸의 None 은 batch size 가 다르게 들어올 수 있기 때문에 이를 가변적으로 열어둔 것입니다."
   ]
  },
  {
   "cell_type": "code",
   "execution_count": 9,
   "metadata": {},
   "outputs": [
    {
     "name": "stdout",
     "output_type": "stream",
     "text": [
      "Model: \"sequential_1\"\n",
      "_________________________________________________________________\n",
      "Layer (type)                 Output Shape              Param #   \n",
      "=================================================================\n",
      "conv2d_1 (Conv2D)            (None, 26, 26, 32)        320       \n",
      "_________________________________________________________________\n",
      "max_pooling2d_1 (MaxPooling2 (None, 13, 13, 32)        0         \n",
      "_________________________________________________________________\n",
      "conv2d_2 (Conv2D)            (None, 11, 11, 32)        9248      \n",
      "_________________________________________________________________\n",
      "max_pooling2d_2 (MaxPooling2 (None, 5, 5, 32)          0         \n",
      "_________________________________________________________________\n",
      "flatten_1 (Flatten)          (None, 800)               0         \n",
      "_________________________________________________________________\n",
      "dense_1 (Dense)              (None, 128)               102528    \n",
      "_________________________________________________________________\n",
      "dense_2 (Dense)              (None, 64)                8256      \n",
      "_________________________________________________________________\n",
      "dense_3 (Dense)              (None, 10)                650       \n",
      "=================================================================\n",
      "Total params: 121,002\n",
      "Trainable params: 121,002\n",
      "Non-trainable params: 0\n",
      "_________________________________________________________________\n"
     ]
    }
   ],
   "source": [
    "cnn.summary()"
   ]
  },
  {
   "cell_type": "markdown",
   "metadata": {},
   "source": [
    "Keras 는 scikit learn 처럼 fit 함수와 predict 함수를 제공합니다. predict 함수에 test data 를 입력해봅니다. output 의 크기가 (batch, n classes) 이기 때문에 보기가 힘드니 이를 transpose 해서 확인해봅니다. 세 개의 테스트 데이터는 어떤 특정 클래스에 속하지 않고 대체로 비슷한 확률값을 지닙니다."
   ]
  },
  {
   "cell_type": "code",
   "execution_count": 10,
   "metadata": {},
   "outputs": [
    {
     "name": "stdout",
     "output_type": "stream",
     "text": [
      "shape of output = (3, 10)\n",
      "[[0.0983585 0.1036142 0.099087 ]\n",
      " [0.09953   0.099103  0.1066984]\n",
      " [0.0965131 0.0937494 0.0926799]\n",
      " [0.1019977 0.1016248 0.1028454]\n",
      " [0.1010443 0.1151557 0.1151832]\n",
      " [0.1015419 0.0968163 0.0919842]\n",
      " [0.0949118 0.0904609 0.0900139]\n",
      " [0.1000009 0.0924273 0.0903056]\n",
      " [0.101958  0.0948563 0.1007263]\n",
      " [0.1041438 0.1121921 0.1104761]]\n"
     ]
    }
   ],
   "source": [
    "np.set_printoptions(precision=7, suppress=True)\n",
    "\n",
    "print(f'shape of output = {cnn.predict(test_X[:3]).shape}')\n",
    "print(cnn.predict(test_X[:3]).T)"
   ]
  },
  {
   "cell_type": "markdown",
   "metadata": {},
   "source": [
    "Compiled 된 모델의 fit 함수에 학습데이터를 입력합니다. 이 때 batch size 와 epochs 를 지정할 수 있습니다. 진행상황을 살펴보기 위하여 verbose 도 조절할 수 있습니다. validation data 를 입력하면 매 epoch 마다 이 데이터를 이용한 성능 평가를 수행합니다. 앞서 compile 함수에서 metrics 에 'accuracy' 를 입력하였기 때문에 정확도 기준에서 성능을 측정합니다.\n",
    "\n",
    "파이썬의 time.time() 함수를 이용하면 현재 시각이 출력됩니다. 20 epochs 의 학습 시간도 측정해 봅니다."
   ]
  },
  {
   "cell_type": "code",
   "execution_count": 11,
   "metadata": {},
   "outputs": [
    {
     "name": "stdout",
     "output_type": "stream",
     "text": [
      "Train on 60000 samples, validate on 10000 samples\n",
      "Epoch 1/20\n",
      " - 40s - loss: 0.6073 - accuracy: 0.7808 - val_loss: 0.4555 - val_accuracy: 0.8344\n",
      "Epoch 2/20\n",
      " - 39s - loss: 0.3776 - accuracy: 0.8640 - val_loss: 0.3615 - val_accuracy: 0.8707\n",
      "Epoch 3/20\n",
      " - 36s - loss: 0.3271 - accuracy: 0.8815 - val_loss: 0.3315 - val_accuracy: 0.8834\n",
      "Epoch 4/20\n",
      " - 36s - loss: 0.2965 - accuracy: 0.8909 - val_loss: 0.3454 - val_accuracy: 0.8726\n",
      "Epoch 5/20\n",
      " - 34s - loss: 0.2765 - accuracy: 0.8987 - val_loss: 0.2909 - val_accuracy: 0.8961\n",
      "Epoch 6/20\n",
      " - 37s - loss: 0.2594 - accuracy: 0.9043 - val_loss: 0.2835 - val_accuracy: 0.8969\n",
      "Epoch 7/20\n",
      " - 39s - loss: 0.2416 - accuracy: 0.9118 - val_loss: 0.2743 - val_accuracy: 0.9000\n",
      "Epoch 8/20\n",
      " - 36s - loss: 0.2263 - accuracy: 0.9161 - val_loss: 0.2746 - val_accuracy: 0.8991\n",
      "Epoch 9/20\n",
      " - 34s - loss: 0.2136 - accuracy: 0.9204 - val_loss: 0.2596 - val_accuracy: 0.9067\n",
      "Epoch 10/20\n",
      " - 30s - loss: 0.2050 - accuracy: 0.9222 - val_loss: 0.2686 - val_accuracy: 0.9037\n",
      "Epoch 11/20\n",
      " - 30s - loss: 0.1921 - accuracy: 0.9281 - val_loss: 0.2482 - val_accuracy: 0.9131\n",
      "Epoch 12/20\n",
      " - 31s - loss: 0.1783 - accuracy: 0.9338 - val_loss: 0.2640 - val_accuracy: 0.9098\n",
      "Epoch 13/20\n",
      " - 30s - loss: 0.1693 - accuracy: 0.9366 - val_loss: 0.2675 - val_accuracy: 0.9081\n",
      "Epoch 14/20\n",
      " - 33s - loss: 0.1609 - accuracy: 0.9405 - val_loss: 0.2631 - val_accuracy: 0.9106\n",
      "Epoch 15/20\n",
      " - 30s - loss: 0.1509 - accuracy: 0.9436 - val_loss: 0.2735 - val_accuracy: 0.9086\n",
      "Epoch 16/20\n",
      " - 39s - loss: 0.1419 - accuracy: 0.9475 - val_loss: 0.2766 - val_accuracy: 0.9078\n",
      "Epoch 17/20\n",
      " - 37s - loss: 0.1353 - accuracy: 0.9495 - val_loss: 0.2662 - val_accuracy: 0.9123\n",
      "Epoch 18/20\n",
      " - 14s - loss: 0.1247 - accuracy: 0.9531 - val_loss: 0.2770 - val_accuracy: 0.9148\n",
      "Epoch 19/20\n",
      " - 8s - loss: 0.1172 - accuracy: 0.9564 - val_loss: 0.2695 - val_accuracy: 0.9115\n",
      "Epoch 20/20\n",
      " - 8s - loss: 0.1091 - accuracy: 0.9594 - val_loss: 0.2815 - val_accuracy: 0.9137\n"
     ]
    }
   ],
   "source": [
    "from time import time\n",
    "\n",
    "\n",
    "batch_size = 128\n",
    "epochs = 20\n",
    "\n",
    "train_time = time()\n",
    "\n",
    "history = cnn.fit(\n",
    "    train_X, train_y,\n",
    "    batch_size = batch_size,\n",
    "    epochs = epochs,\n",
    "    verbose = 2, # 0: silent, 1: progress bar, 2: one line per epoch\n",
    "    validation_data = (test_X, test_y)\n",
    ")\n",
    "\n",
    "train_time = time() - train_time"
   ]
  },
  {
   "cell_type": "markdown",
   "metadata": {},
   "source": [
    "테스트 시간도 측정해봅니다."
   ]
  },
  {
   "cell_type": "code",
   "execution_count": 12,
   "metadata": {},
   "outputs": [
    {
     "name": "stdout",
     "output_type": "stream",
     "text": [
      "10000/10000 [==============================] - 1s 56us/step\n"
     ]
    }
   ],
   "source": [
    "test_time = time()\n",
    "score = cnn.evaluate(test_X, test_y)\n",
    "test_time = time() - test_time"
   ]
  },
  {
   "cell_type": "markdown",
   "metadata": {},
   "source": [
    "`Model.evaluate()` 함수의 결과는 앞서 verbose message 로 출력된 validation data 에 대한 loss 와 accuracy 입니다."
   ]
  },
  {
   "cell_type": "code",
   "execution_count": 13,
   "metadata": {},
   "outputs": [
    {
     "name": "stdout",
     "output_type": "stream",
     "text": [
      "train time = 623.44 sec\n",
      "test  time = 0.56426 sec\n",
      "evaluation score = [0.2814574972480535, 0.9136999845504761]\n"
     ]
    }
   ],
   "source": [
    "print(f'train time = {train_time:.5} sec')\n",
    "print(f'test  time = {test_time:.5} sec')\n",
    "print(f'evaluation score = {score}')"
   ]
  },
  {
   "cell_type": "markdown",
   "metadata": {},
   "source": [
    "실제로 패러매터가 학습되었는지 확인해봅니다. 이번에는 각 데이터들이 특정 클레스에 속할 확률값이 커졌습니다 (entropy 가 줄어들었습니다)"
   ]
  },
  {
   "cell_type": "code",
   "execution_count": 14,
   "metadata": {},
   "outputs": [
    {
     "name": "stdout",
     "output_type": "stream",
     "text": [
      "shape of output = (3, 10)\n",
      "[[0.        0.0000013 0.       ]\n",
      " [0.        0.        1.       ]\n",
      " [0.        0.9996885 0.       ]\n",
      " [0.        0.        0.       ]\n",
      " [0.        0.0002674 0.       ]\n",
      " [0.0000011 0.        0.       ]\n",
      " [0.        0.0000428 0.       ]\n",
      " [0.000001  0.        0.       ]\n",
      " [0.        0.        0.       ]\n",
      " [0.9999979 0.        0.       ]]\n"
     ]
    }
   ],
   "source": [
    "print(f'shape of output = {cnn.predict(test_X[:3]).shape}')\n",
    "print(cnn.predict(test_X[:3]).T)"
   ]
  },
  {
   "cell_type": "markdown",
   "metadata": {},
   "source": [
    "Keras 의 패러매터들을 numpy 로 옮겨올 수도 있습니다. max pooling 은 패러매터가 없습니다. 그렇기 때문에 convolutional filter x2 와 fully connected x3 에 대한 패러매터를 가져와 크기를 확인해 봅니다."
   ]
  },
  {
   "cell_type": "code",
   "execution_count": 15,
   "metadata": {},
   "outputs": [
    {
     "name": "stdout",
     "output_type": "stream",
     "text": [
      "[conv2d_1] weights: (3, 3, 1, 32), bias: (32,)\n",
      "[conv2d_2] weights: (3, 3, 32, 32), bias: (32,)\n",
      "[dense_1] weights: (800, 128), bias: (128,)\n",
      "[dense_2] weights: (128, 64), bias: (64,)\n",
      "[dense_3] weights: (64, 10), bias: (10,)\n"
     ]
    }
   ],
   "source": [
    "for layer in cnn.layers:\n",
    "    name = layer.name\n",
    "    if name[:5] in ['conv2', 'dense']:        \n",
    "        weights = layer.weights[0].numpy()\n",
    "        bias = layer.bias.numpy()\n",
    "        print(f'[{name}] weights: {weights.shape}, bias: {bias.shape}')"
   ]
  },
  {
   "cell_type": "markdown",
   "metadata": {},
   "source": [
    "각 hidden layers 의 output 도 가져올 수 있습니다. 이는 조금 복잡한데, 위 구문은 tensorflow 의 구조를 공부하신 다음에 그 의미를 살펴보시기 바랍니다. 지금은 이 함수를 그대로 가져다 이용하셔도 좋습니다. 모든 레이어의 값이 아니라 특정 레이어의 값만을 가져오고 싶다면 `func` 의 두번째 lsit 를 다르게 정의하면 됩니다.\n",
    "\n",
    "```python\n",
    "def get_hidden_vectors(model, inputs, mode=0):\n",
    "    func = K.function([model.layers[0].input, K.learning_phase()],\n",
    "                      [model.layers[3].output])\n",
    "```\n",
    "\n",
    "각 레이어의 이름과 hidden vectors 의 shape 을 함께 출력합니다. layer.name 은 summary() 함수의 name 입니다. _1, _2 와 같은 suffix 는 메모리 상에 만들어진 레이어들을 구분하기 위한 인덱스 입니다."
   ]
  },
  {
   "cell_type": "code",
   "execution_count": 16,
   "metadata": {},
   "outputs": [
    {
     "name": "stdout",
     "output_type": "stream",
     "text": [
      "num layers = 8\n",
      "\n",
      "[conv2d_1        ]: (3, 26, 26, 32)\n",
      "[max_pooling2d_1 ]: (3, 13, 13, 32)\n",
      "[conv2d_2        ]: (3, 11, 11, 32)\n",
      "[max_pooling2d_2 ]: (3, 5, 5, 32)\n",
      "[flatten_1       ]: (3, 800)\n",
      "[dense_1         ]: (3, 128)\n",
      "[dense_2         ]: (3, 64)\n",
      "[dense_3         ]: (3, 10)\n"
     ]
    }
   ],
   "source": [
    "def get_hidden_vectors(model, inputs, mode=0):\n",
    "    func = K.function([model.layers[0].input, K.learning_phase()],\n",
    "                      [layer.output for layer in model.layers])\n",
    "    # mode 0 : evaluation mode\n",
    "    # mode 1 : training mode. diff when using dropout\n",
    "    hiddens = func([inputs, mode])\n",
    "    names = [layer.name for layer in model.layers]\n",
    "    return hiddens, names\n",
    "\n",
    "hiddens, names = get_hidden_vectors(cnn, test_X[:3])\n",
    "\n",
    "print(f'num layers = {len(hiddens)}\\n')\n",
    "for h, name in zip(hiddens, names):\n",
    "    print(f'[{name:16}]: {h.shape}')"
   ]
  },
  {
   "cell_type": "markdown",
   "metadata": {},
   "source": [
    "`Model.fit()` 함수의 출력값인 history 에는 학습 과정에 대한 정보가 포함되어 있습니다. 이 안에는 history 라는 dict 가 포함되어 있습니다. verbose message 에 출력된 값들이 포함되어 있는데, 이를 bokeh 를 이용하여 lineplot 으로 그려봅니다."
   ]
  },
  {
   "cell_type": "code",
   "execution_count": 17,
   "metadata": {},
   "outputs": [],
   "source": [
    "from bokeh.palettes import Spectral4\n",
    "from bokeh.plotting import figure, show\n",
    "from bokeh.models import SingleIntervalTicker\n",
    "\n",
    "# bokeh >= 1.4.0 부터 legend -> legend_label 로 이름이 바뀌었습니다.\n",
    "def linechart(x, y, line_color='grey', line_width=3, legend_label=None, p=None, title=None):\n",
    "    if p is None:\n",
    "        p = figure(width=800, height=400, title=title)\n",
    "        p.xaxis.axis_label = 'Epoch'\n",
    "        p.xaxis.ticker = SingleIntervalTicker(interval=1)\n",
    "        p.xaxis.major_label_standoff = 1\n",
    "    p.line(x=x, y=y, line_color=line_color, line_width=line_width,\n",
    "           legend_label=legend_label, alpha=0.8, line_dash=(4,4))\n",
    "    return p"
   ]
  },
  {
   "cell_type": "code",
   "execution_count": 18,
   "metadata": {},
   "outputs": [
    {
     "data": {
      "text/html": [
       "\n",
       "\n",
       "\n",
       "\n",
       "\n",
       "\n",
       "  <div class=\"bk-root\" id=\"262b1a40-e8bf-4eb1-8f46-f08e1c1ffabb\" data-root-id=\"2278\"></div>\n"
      ]
     },
     "metadata": {},
     "output_type": "display_data"
    },
    {
     "data": {
      "application/javascript": [
       "(function(root) {\n",
       "  function embed_document(root) {\n",
       "    \n",
       "  var docs_json = {\"9207bda0-21fc-4776-9c8a-32f40ce717d8\":{\"roots\":{\"references\":[{\"attributes\":{\"below\":[{\"id\":\"2289\",\"type\":\"LinearAxis\"}],\"center\":[{\"id\":\"2293\",\"type\":\"Grid\"},{\"id\":\"2298\",\"type\":\"Grid\"},{\"id\":\"2324\",\"type\":\"Legend\"}],\"left\":[{\"id\":\"2294\",\"type\":\"LinearAxis\"}],\"plot_height\":400,\"plot_width\":800,\"renderers\":[{\"id\":\"2317\",\"type\":\"GlyphRenderer\"},{\"id\":\"2329\",\"type\":\"GlyphRenderer\"},{\"id\":\"2342\",\"type\":\"GlyphRenderer\"},{\"id\":\"2357\",\"type\":\"GlyphRenderer\"}],\"title\":{\"id\":\"2279\",\"type\":\"Title\"},\"toolbar\":{\"id\":\"2305\",\"type\":\"Toolbar\"},\"x_range\":{\"id\":\"2281\",\"type\":\"DataRange1d\"},\"x_scale\":{\"id\":\"2285\",\"type\":\"LinearScale\"},\"y_range\":{\"id\":\"2283\",\"type\":\"DataRange1d\"},\"y_scale\":{\"id\":\"2287\",\"type\":\"LinearScale\"}},\"id\":\"2278\",\"subtype\":\"Figure\",\"type\":\"Plot\"},{\"attributes\":{\"label\":{\"value\":\"accuracy\"},\"renderers\":[{\"id\":\"2357\",\"type\":\"GlyphRenderer\"}]},\"id\":\"2370\",\"type\":\"LegendItem\"},{\"attributes\":{\"callback\":null,\"data\":{\"x\":[0,1,2,3,4,5,6,7,8,9,10,11,12,13,14,15,16,17,18,19],\"y\":[0.6072835279623667,0.3775921851317088,0.32714214942455294,0.2964639746507009,0.276475857257843,0.2593988720575968,0.24155693709850312,0.2263489419380824,0.21358080815474192,0.20495485492547352,0.19211970640818277,0.17833520960410437,0.169289110938708,0.16089848064581552,0.15090844543774923,0.14191502741177878,0.13532084896564484,0.12473416590690613,0.11715357631444931,0.10906384395360946]},\"selected\":{\"id\":\"2368\",\"type\":\"Selection\"},\"selection_policy\":{\"id\":\"2369\",\"type\":\"UnionRenderers\"}},\"id\":\"2339\",\"type\":\"ColumnDataSource\"},{\"attributes\":{\"line_alpha\":0.8,\"line_color\":\"#2b83ba\",\"line_dash\":[4,4],\"line_width\":3,\"x\":{\"field\":\"x\"},\"y\":{\"field\":\"y\"}},\"id\":\"2315\",\"type\":\"Line\"},{\"attributes\":{\"source\":{\"id\":\"2326\",\"type\":\"ColumnDataSource\"}},\"id\":\"2330\",\"type\":\"CDSView\"},{\"attributes\":{},\"id\":\"2322\",\"type\":\"BasicTickFormatter\"},{\"attributes\":{},\"id\":\"2287\",\"type\":\"LinearScale\"},{\"attributes\":{\"label\":{\"value\":\"loss\"},\"renderers\":[{\"id\":\"2342\",\"type\":\"GlyphRenderer\"}]},\"id\":\"2353\",\"type\":\"LegendItem\"},{\"attributes\":{\"callback\":null},\"id\":\"2283\",\"type\":\"DataRange1d\"},{\"attributes\":{\"data_source\":{\"id\":\"2339\",\"type\":\"ColumnDataSource\"},\"glyph\":{\"id\":\"2340\",\"type\":\"Line\"},\"hover_glyph\":null,\"muted_glyph\":null,\"nonselection_glyph\":{\"id\":\"2341\",\"type\":\"Line\"},\"selection_glyph\":null,\"view\":{\"id\":\"2343\",\"type\":\"CDSView\"}},\"id\":\"2342\",\"type\":\"GlyphRenderer\"},{\"attributes\":{\"interval\":1},\"id\":\"2312\",\"type\":\"SingleIntervalTicker\"},{\"attributes\":{\"line_alpha\":0.1,\"line_color\":\"#1f77b4\",\"line_dash\":[4,4],\"line_width\":3,\"x\":{\"field\":\"x\"},\"y\":{\"field\":\"y\"}},\"id\":\"2316\",\"type\":\"Line\"},{\"attributes\":{\"data_source\":{\"id\":\"2326\",\"type\":\"ColumnDataSource\"},\"glyph\":{\"id\":\"2327\",\"type\":\"Line\"},\"hover_glyph\":null,\"muted_glyph\":null,\"nonselection_glyph\":{\"id\":\"2328\",\"type\":\"Line\"},\"selection_glyph\":null,\"view\":{\"id\":\"2330\",\"type\":\"CDSView\"}},\"id\":\"2329\",\"type\":\"GlyphRenderer\"},{\"attributes\":{\"ticker\":{\"id\":\"2290\",\"type\":\"BasicTicker\"}},\"id\":\"2293\",\"type\":\"Grid\"},{\"attributes\":{\"line_alpha\":0.8,\"line_color\":\"#abdda4\",\"line_dash\":[4,4],\"line_width\":3,\"x\":{\"field\":\"x\"},\"y\":{\"field\":\"y\"}},\"id\":\"2327\",\"type\":\"Line\"},{\"attributes\":{\"source\":{\"id\":\"2339\",\"type\":\"ColumnDataSource\"}},\"id\":\"2343\",\"type\":\"CDSView\"},{\"attributes\":{\"data_source\":{\"id\":\"2314\",\"type\":\"ColumnDataSource\"},\"glyph\":{\"id\":\"2315\",\"type\":\"Line\"},\"hover_glyph\":null,\"muted_glyph\":null,\"nonselection_glyph\":{\"id\":\"2316\",\"type\":\"Line\"},\"selection_glyph\":null,\"view\":{\"id\":\"2318\",\"type\":\"CDSView\"}},\"id\":\"2317\",\"type\":\"GlyphRenderer\"},{\"attributes\":{\"callback\":null,\"data\":{\"x\":[0,1,2,3,4,5,6,7,8,9,10,11,12,13,14,15,16,17,18,19],\"y\":[0.45547454867362974,0.36146590547561647,0.3314704759120941,0.345419207239151,0.2909081576108932,0.28348175201416015,0.27432997374534607,0.2746265698075295,0.25964662097692487,0.2686454099655151,0.24818539537191392,0.2640128752887249,0.2675131472349167,0.26310414150953293,0.27353690540194514,0.2766383237838745,0.2661557933926582,0.2770246987879276,0.26953207412660124,0.28145748784542085]},\"selected\":{\"id\":\"2336\",\"type\":\"Selection\"},\"selection_policy\":{\"id\":\"2337\",\"type\":\"UnionRenderers\"}},\"id\":\"2314\",\"type\":\"ColumnDataSource\"},{\"attributes\":{\"line_alpha\":0.8,\"line_color\":\"#fdae61\",\"line_dash\":[4,4],\"line_width\":3,\"x\":{\"field\":\"x\"},\"y\":{\"field\":\"y\"}},\"id\":\"2340\",\"type\":\"Line\"},{\"attributes\":{\"callback\":null,\"data\":{\"x\":[0,1,2,3,4,5,6,7,8,9,10,11,12,13,14,15,16,17,18,19],\"y\":[0.7807833552360535,0.8639666438102722,0.8815000057220459,0.890916645526886,0.8986833095550537,0.9043499827384949,0.9117500185966492,0.9161166548728943,0.9204333424568176,0.9221500158309937,0.9280999898910522,0.9337833523750305,0.9365833401679993,0.9404666423797607,0.9435666799545288,0.9474999904632568,0.9494666457176208,0.9531000256538391,0.9563500285148621,0.9594166874885559]},\"selected\":{\"id\":\"2478\",\"type\":\"Selection\"},\"selection_policy\":{\"id\":\"2479\",\"type\":\"UnionRenderers\"}},\"id\":\"2354\",\"type\":\"ColumnDataSource\"},{\"attributes\":{},\"id\":\"2302\",\"type\":\"SaveTool\"},{\"attributes\":{\"formatter\":{\"id\":\"2322\",\"type\":\"BasicTickFormatter\"},\"ticker\":{\"id\":\"2295\",\"type\":\"BasicTicker\"}},\"id\":\"2294\",\"type\":\"LinearAxis\"},{\"attributes\":{\"line_alpha\":0.1,\"line_color\":\"#1f77b4\",\"line_dash\":[4,4],\"line_width\":3,\"x\":{\"field\":\"x\"},\"y\":{\"field\":\"y\"}},\"id\":\"2356\",\"type\":\"Line\"},{\"attributes\":{\"label\":{\"value\":\"val_loss\"},\"renderers\":[{\"id\":\"2317\",\"type\":\"GlyphRenderer\"}]},\"id\":\"2325\",\"type\":\"LegendItem\"},{\"attributes\":{\"items\":[{\"id\":\"2325\",\"type\":\"LegendItem\"},{\"id\":\"2338\",\"type\":\"LegendItem\"},{\"id\":\"2353\",\"type\":\"LegendItem\"},{\"id\":\"2370\",\"type\":\"LegendItem\"}]},\"id\":\"2324\",\"type\":\"Legend\"},{\"attributes\":{},\"id\":\"2300\",\"type\":\"WheelZoomTool\"},{\"attributes\":{\"label\":{\"value\":\"val_accuracy\"},\"renderers\":[{\"id\":\"2329\",\"type\":\"GlyphRenderer\"}]},\"id\":\"2338\",\"type\":\"LegendItem\"},{\"attributes\":{},\"id\":\"2320\",\"type\":\"BasicTickFormatter\"},{\"attributes\":{},\"id\":\"2336\",\"type\":\"Selection\"},{\"attributes\":{},\"id\":\"2478\",\"type\":\"Selection\"},{\"attributes\":{\"callback\":null},\"id\":\"2281\",\"type\":\"DataRange1d\"},{\"attributes\":{\"axis_label\":\"Epoch\",\"formatter\":{\"id\":\"2320\",\"type\":\"BasicTickFormatter\"},\"major_label_standoff\":1,\"ticker\":{\"id\":\"2312\",\"type\":\"SingleIntervalTicker\"}},\"id\":\"2289\",\"type\":\"LinearAxis\"},{\"attributes\":{\"line_alpha\":0.1,\"line_color\":\"#1f77b4\",\"line_dash\":[4,4],\"line_width\":3,\"x\":{\"field\":\"x\"},\"y\":{\"field\":\"y\"}},\"id\":\"2328\",\"type\":\"Line\"},{\"attributes\":{\"dimension\":1,\"ticker\":{\"id\":\"2295\",\"type\":\"BasicTicker\"}},\"id\":\"2298\",\"type\":\"Grid\"},{\"attributes\":{},\"id\":\"2304\",\"type\":\"HelpTool\"},{\"attributes\":{},\"id\":\"2303\",\"type\":\"ResetTool\"},{\"attributes\":{},\"id\":\"2351\",\"type\":\"Selection\"},{\"attributes\":{\"callback\":null,\"data\":{\"x\":[0,1,2,3,4,5,6,7,8,9,10,11,12,13,14,15,16,17,18,19],\"y\":[0.8343999981880188,0.8707000017166138,0.883400022983551,0.8726000189781189,0.8960999846458435,0.8968999981880188,0.8999999761581421,0.8991000056266785,0.9067000150680542,0.9036999940872192,0.913100004196167,0.9097999930381775,0.9081000089645386,0.9106000065803528,0.9085999727249146,0.907800018787384,0.9122999906539917,0.9147999882698059,0.9114999771118164,0.9136999845504761]},\"selected\":{\"id\":\"2351\",\"type\":\"Selection\"},\"selection_policy\":{\"id\":\"2352\",\"type\":\"UnionRenderers\"}},\"id\":\"2326\",\"type\":\"ColumnDataSource\"},{\"attributes\":{},\"id\":\"2368\",\"type\":\"Selection\"},{\"attributes\":{},\"id\":\"2479\",\"type\":\"UnionRenderers\"},{\"attributes\":{\"data_source\":{\"id\":\"2354\",\"type\":\"ColumnDataSource\"},\"glyph\":{\"id\":\"2355\",\"type\":\"Line\"},\"hover_glyph\":null,\"muted_glyph\":null,\"nonselection_glyph\":{\"id\":\"2356\",\"type\":\"Line\"},\"selection_glyph\":null,\"view\":{\"id\":\"2358\",\"type\":\"CDSView\"}},\"id\":\"2357\",\"type\":\"GlyphRenderer\"},{\"attributes\":{\"overlay\":{\"id\":\"2323\",\"type\":\"BoxAnnotation\"}},\"id\":\"2301\",\"type\":\"BoxZoomTool\"},{\"attributes\":{},\"id\":\"2290\",\"type\":\"BasicTicker\"},{\"attributes\":{},\"id\":\"2337\",\"type\":\"UnionRenderers\"},{\"attributes\":{},\"id\":\"2295\",\"type\":\"BasicTicker\"},{\"attributes\":{},\"id\":\"2352\",\"type\":\"UnionRenderers\"},{\"attributes\":{\"source\":{\"id\":\"2354\",\"type\":\"ColumnDataSource\"}},\"id\":\"2358\",\"type\":\"CDSView\"},{\"attributes\":{\"line_alpha\":0.8,\"line_color\":\"#d7191c\",\"line_dash\":[4,4],\"line_width\":3,\"x\":{\"field\":\"x\"},\"y\":{\"field\":\"y\"}},\"id\":\"2355\",\"type\":\"Line\"},{\"attributes\":{},\"id\":\"2369\",\"type\":\"UnionRenderers\"},{\"attributes\":{\"text\":\"Training performance of CNN\"},\"id\":\"2279\",\"type\":\"Title\"},{\"attributes\":{},\"id\":\"2299\",\"type\":\"PanTool\"},{\"attributes\":{\"line_alpha\":0.1,\"line_color\":\"#1f77b4\",\"line_dash\":[4,4],\"line_width\":3,\"x\":{\"field\":\"x\"},\"y\":{\"field\":\"y\"}},\"id\":\"2341\",\"type\":\"Line\"},{\"attributes\":{\"bottom_units\":\"screen\",\"fill_alpha\":{\"value\":0.5},\"fill_color\":{\"value\":\"lightgrey\"},\"left_units\":\"screen\",\"level\":\"overlay\",\"line_alpha\":{\"value\":1.0},\"line_color\":{\"value\":\"black\"},\"line_dash\":[4,4],\"line_width\":{\"value\":2},\"render_mode\":\"css\",\"right_units\":\"screen\",\"top_units\":\"screen\"},\"id\":\"2323\",\"type\":\"BoxAnnotation\"},{\"attributes\":{\"active_drag\":\"auto\",\"active_inspect\":\"auto\",\"active_multi\":null,\"active_scroll\":\"auto\",\"active_tap\":\"auto\",\"tools\":[{\"id\":\"2299\",\"type\":\"PanTool\"},{\"id\":\"2300\",\"type\":\"WheelZoomTool\"},{\"id\":\"2301\",\"type\":\"BoxZoomTool\"},{\"id\":\"2302\",\"type\":\"SaveTool\"},{\"id\":\"2303\",\"type\":\"ResetTool\"},{\"id\":\"2304\",\"type\":\"HelpTool\"}]},\"id\":\"2305\",\"type\":\"Toolbar\"},{\"attributes\":{\"source\":{\"id\":\"2314\",\"type\":\"ColumnDataSource\"}},\"id\":\"2318\",\"type\":\"CDSView\"},{\"attributes\":{},\"id\":\"2285\",\"type\":\"LinearScale\"}],\"root_ids\":[\"2278\"]},\"title\":\"Bokeh Application\",\"version\":\"1.4.0\"}};\n",
       "  var render_items = [{\"docid\":\"9207bda0-21fc-4776-9c8a-32f40ce717d8\",\"roots\":{\"2278\":\"262b1a40-e8bf-4eb1-8f46-f08e1c1ffabb\"}}];\n",
       "  root.Bokeh.embed.embed_items_notebook(docs_json, render_items);\n",
       "\n",
       "  }\n",
       "  if (root.Bokeh !== undefined) {\n",
       "    embed_document(root);\n",
       "  } else {\n",
       "    var attempts = 0;\n",
       "    var timer = setInterval(function(root) {\n",
       "      if (root.Bokeh !== undefined) {\n",
       "        clearInterval(timer);\n",
       "        embed_document(root);\n",
       "      } else {\n",
       "        attempts++;\n",
       "        if (attempts > 100) {\n",
       "          clearInterval(timer);\n",
       "          console.log(\"Bokeh: ERROR: Unable to run BokehJS code because BokehJS library is missing\");\n",
       "        }\n",
       "      }\n",
       "    }, 10, root)\n",
       "  }\n",
       "})(window);"
      ],
      "application/vnd.bokehjs_exec.v0+json": ""
     },
     "metadata": {
      "application/vnd.bokehjs_exec.v0+json": {
       "id": "2278"
      }
     },
     "output_type": "display_data"
    }
   ],
   "source": [
    "x = np.arange(len(history.history['loss']))\n",
    "p = None\n",
    "title = 'Training performance of CNN'\n",
    "for color, (legend, y) in zip(Spectral4, history.history.items()):\n",
    "    p = linechart(x, y, line_color=color, legend_label=legend, p=p, title=title)\n",
    "show(p)"
   ]
  },
  {
   "cell_type": "markdown",
   "metadata": {},
   "source": [
    "앞서 scikit-learn 으로 연습한 feed-forward 모델도 keras 로 손쉽게 만들 수 있습니다. 대부분의 내용은 CNN 모델 구성과 같지만, 이번에는 `add()` 함수에 name 을 입력하였습니다. 인덱스로 구분하는 것이 복잡할 때에는 이름을 정의하여 구분이 쉽도록 만듭니다."
   ]
  },
  {
   "cell_type": "code",
   "execution_count": 19,
   "metadata": {},
   "outputs": [
    {
     "name": "stdout",
     "output_type": "stream",
     "text": [
      "Train on 60000 samples, validate on 10000 samples\n",
      "Epoch 1/20\n",
      " - 1s - loss: 0.5341 - accuracy: 0.8149 - val_loss: 0.4395 - val_accuracy: 0.8468\n",
      "Epoch 2/20\n",
      " - 1s - loss: 0.3871 - accuracy: 0.8613 - val_loss: 0.3900 - val_accuracy: 0.8627\n",
      "Epoch 3/20\n",
      " - 1s - loss: 0.3439 - accuracy: 0.8749 - val_loss: 0.4125 - val_accuracy: 0.8464\n",
      "Epoch 4/20\n",
      " - 1s - loss: 0.3177 - accuracy: 0.8834 - val_loss: 0.3627 - val_accuracy: 0.8697\n",
      "Epoch 5/20\n",
      " - 1s - loss: 0.2979 - accuracy: 0.8892 - val_loss: 0.3569 - val_accuracy: 0.8703\n",
      "Epoch 6/20\n",
      " - 1s - loss: 0.2834 - accuracy: 0.8955 - val_loss: 0.3396 - val_accuracy: 0.8751\n",
      "Epoch 7/20\n",
      " - 1s - loss: 0.2696 - accuracy: 0.8996 - val_loss: 0.3261 - val_accuracy: 0.8816\n",
      "Epoch 8/20\n",
      " - 1s - loss: 0.2580 - accuracy: 0.9045 - val_loss: 0.3398 - val_accuracy: 0.8802\n",
      "Epoch 9/20\n",
      " - 1s - loss: 0.2495 - accuracy: 0.9066 - val_loss: 0.3315 - val_accuracy: 0.8805\n",
      "Epoch 10/20\n",
      " - 1s - loss: 0.2386 - accuracy: 0.9112 - val_loss: 0.3322 - val_accuracy: 0.8835\n",
      "Epoch 11/20\n",
      " - 1s - loss: 0.2297 - accuracy: 0.9135 - val_loss: 0.3539 - val_accuracy: 0.8766\n",
      "Epoch 12/20\n",
      " - 1s - loss: 0.2227 - accuracy: 0.9164 - val_loss: 0.3237 - val_accuracy: 0.8872\n",
      "Epoch 13/20\n",
      " - 1s - loss: 0.2168 - accuracy: 0.9190 - val_loss: 0.3381 - val_accuracy: 0.8851\n",
      "Epoch 14/20\n",
      " - 1s - loss: 0.2114 - accuracy: 0.9204 - val_loss: 0.3478 - val_accuracy: 0.8813\n",
      "Epoch 15/20\n",
      " - 1s - loss: 0.2014 - accuracy: 0.9248 - val_loss: 0.3458 - val_accuracy: 0.8838\n",
      "Epoch 16/20\n",
      " - 1s - loss: 0.1959 - accuracy: 0.9267 - val_loss: 0.3234 - val_accuracy: 0.8919\n",
      "Epoch 17/20\n",
      " - 1s - loss: 0.1911 - accuracy: 0.9281 - val_loss: 0.3356 - val_accuracy: 0.8880\n",
      "Epoch 18/20\n",
      " - 1s - loss: 0.1826 - accuracy: 0.9310 - val_loss: 0.3262 - val_accuracy: 0.8918\n",
      "Epoch 19/20\n",
      " - 1s - loss: 0.1793 - accuracy: 0.9327 - val_loss: 0.3532 - val_accuracy: 0.8892\n",
      "Epoch 20/20\n",
      " - 1s - loss: 0.1723 - accuracy: 0.9357 - val_loss: 0.3508 - val_accuracy: 0.8867\n"
     ]
    }
   ],
   "source": [
    "ff = Sequential()\n",
    "ff.add(Dense(200, activation='relu', name='hidden_1', input_shape=(784,)))\n",
    "ff.add(Dense(50, activation='relu', name='hidden_2'))\n",
    "ff.add(Dense(n_classes, activation='softmax', name='output'))\n",
    "ff.compile(\n",
    "    loss = keras.losses.categorical_crossentropy,\n",
    "    optimizer = keras.optimizers.Adam(),\n",
    "    metrics = ['accuracy']\n",
    ")\n",
    "\n",
    "history = ff.fit(\n",
    "    train_X.reshape(train_X.shape[0],-1), train_y,\n",
    "    batch_size = batch_size,\n",
    "    epochs = epochs,\n",
    "    verbose = 2, # 0: silent, 1: progress bar, 2: one line per epoch\n",
    "    validation_data = (test_X.reshape(test_X.shape[0],-1), test_y)\n",
    ")"
   ]
  },
  {
   "cell_type": "markdown",
   "metadata": {},
   "source": [
    "MNIST, Fashion-MNIST 모두 어려운 데이터는 아니기 때문에 어느 정도의 성능은 보여줍니다. 하지만 CNN 이 조금 더 좋은 성능을 보여줍니다."
   ]
  },
  {
   "cell_type": "code",
   "execution_count": 20,
   "metadata": {},
   "outputs": [
    {
     "data": {
      "text/html": [
       "\n",
       "\n",
       "\n",
       "\n",
       "\n",
       "\n",
       "  <div class=\"bk-root\" id=\"80f22d37-1e0c-4cc8-8042-b0566072ba20\" data-root-id=\"2558\"></div>\n"
      ]
     },
     "metadata": {},
     "output_type": "display_data"
    },
    {
     "data": {
      "application/javascript": [
       "(function(root) {\n",
       "  function embed_document(root) {\n",
       "    \n",
       "  var docs_json = {\"d431d0b6-9274-4f10-8d42-d90a7f73e117\":{\"roots\":{\"references\":[{\"attributes\":{\"below\":[{\"id\":\"2569\",\"type\":\"LinearAxis\"}],\"center\":[{\"id\":\"2573\",\"type\":\"Grid\"},{\"id\":\"2578\",\"type\":\"Grid\"},{\"id\":\"2604\",\"type\":\"Legend\"}],\"left\":[{\"id\":\"2574\",\"type\":\"LinearAxis\"}],\"plot_height\":400,\"plot_width\":800,\"renderers\":[{\"id\":\"2597\",\"type\":\"GlyphRenderer\"},{\"id\":\"2609\",\"type\":\"GlyphRenderer\"},{\"id\":\"2622\",\"type\":\"GlyphRenderer\"},{\"id\":\"2637\",\"type\":\"GlyphRenderer\"}],\"title\":{\"id\":\"2559\",\"type\":\"Title\"},\"toolbar\":{\"id\":\"2585\",\"type\":\"Toolbar\"},\"x_range\":{\"id\":\"2561\",\"type\":\"DataRange1d\"},\"x_scale\":{\"id\":\"2565\",\"type\":\"LinearScale\"},\"y_range\":{\"id\":\"2563\",\"type\":\"DataRange1d\"},\"y_scale\":{\"id\":\"2567\",\"type\":\"LinearScale\"}},\"id\":\"2558\",\"subtype\":\"Figure\",\"type\":\"Plot\"},{\"attributes\":{\"callback\":null},\"id\":\"2563\",\"type\":\"DataRange1d\"},{\"attributes\":{\"label\":{\"value\":\"val_loss\"},\"renderers\":[{\"id\":\"2597\",\"type\":\"GlyphRenderer\"}]},\"id\":\"2605\",\"type\":\"LegendItem\"},{\"attributes\":{\"line_alpha\":0.1,\"line_color\":\"#1f77b4\",\"line_dash\":[4,4],\"line_width\":3,\"x\":{\"field\":\"x\"},\"y\":{\"field\":\"y\"}},\"id\":\"2621\",\"type\":\"Line\"},{\"attributes\":{\"dimension\":1,\"ticker\":{\"id\":\"2575\",\"type\":\"BasicTicker\"}},\"id\":\"2578\",\"type\":\"Grid\"},{\"attributes\":{\"axis_label\":\"Epoch\",\"formatter\":{\"id\":\"2600\",\"type\":\"BasicTickFormatter\"},\"major_label_standoff\":1,\"ticker\":{\"id\":\"2592\",\"type\":\"SingleIntervalTicker\"}},\"id\":\"2569\",\"type\":\"LinearAxis\"},{\"attributes\":{\"source\":{\"id\":\"2606\",\"type\":\"ColumnDataSource\"}},\"id\":\"2610\",\"type\":\"CDSView\"},{\"attributes\":{},\"id\":\"2616\",\"type\":\"Selection\"},{\"attributes\":{\"line_alpha\":0.8,\"line_color\":\"#d7191c\",\"line_dash\":[4,4],\"line_width\":3,\"x\":{\"field\":\"x\"},\"y\":{\"field\":\"y\"}},\"id\":\"2635\",\"type\":\"Line\"},{\"attributes\":{},\"id\":\"2632\",\"type\":\"UnionRenderers\"},{\"attributes\":{\"data_source\":{\"id\":\"2594\",\"type\":\"ColumnDataSource\"},\"glyph\":{\"id\":\"2595\",\"type\":\"Line\"},\"hover_glyph\":null,\"muted_glyph\":null,\"nonselection_glyph\":{\"id\":\"2596\",\"type\":\"Line\"},\"selection_glyph\":null,\"view\":{\"id\":\"2598\",\"type\":\"CDSView\"}},\"id\":\"2597\",\"type\":\"GlyphRenderer\"},{\"attributes\":{\"line_alpha\":0.1,\"line_color\":\"#1f77b4\",\"line_dash\":[4,4],\"line_width\":3,\"x\":{\"field\":\"x\"},\"y\":{\"field\":\"y\"}},\"id\":\"2636\",\"type\":\"Line\"},{\"attributes\":{},\"id\":\"2602\",\"type\":\"BasicTickFormatter\"},{\"attributes\":{},\"id\":\"2648\",\"type\":\"Selection\"},{\"attributes\":{},\"id\":\"2771\",\"type\":\"Selection\"},{\"attributes\":{\"label\":{\"value\":\"loss\"},\"renderers\":[{\"id\":\"2622\",\"type\":\"GlyphRenderer\"}]},\"id\":\"2633\",\"type\":\"LegendItem\"},{\"attributes\":{\"source\":{\"id\":\"2594\",\"type\":\"ColumnDataSource\"}},\"id\":\"2598\",\"type\":\"CDSView\"},{\"attributes\":{\"items\":[{\"id\":\"2605\",\"type\":\"LegendItem\"},{\"id\":\"2618\",\"type\":\"LegendItem\"},{\"id\":\"2633\",\"type\":\"LegendItem\"},{\"id\":\"2650\",\"type\":\"LegendItem\"}]},\"id\":\"2604\",\"type\":\"Legend\"},{\"attributes\":{\"line_alpha\":0.1,\"line_color\":\"#1f77b4\",\"line_dash\":[4,4],\"line_width\":3,\"x\":{\"field\":\"x\"},\"y\":{\"field\":\"y\"}},\"id\":\"2596\",\"type\":\"Line\"},{\"attributes\":{},\"id\":\"2565\",\"type\":\"LinearScale\"},{\"attributes\":{\"callback\":null,\"data\":{\"x\":[0,1,2,3,4,5,6,7,8,9,10,11,12,13,14,15,16,17,18,19],\"y\":[0.5340717372258504,0.3870918182055155,0.34385335111618043,0.31772713296413424,0.2978859820842743,0.2833692591667175,0.2695611526966095,0.258030948193868,0.24954780501524607,0.23861698831717174,0.22971664151350657,0.22267070604165395,0.2167699342250824,0.21135195200443269,0.20144738629659018,0.19588470946153005,0.19109409627914428,0.18257597676118215,0.17931412472724914,0.17231070886452993]},\"selected\":{\"id\":\"2648\",\"type\":\"Selection\"},\"selection_policy\":{\"id\":\"2649\",\"type\":\"UnionRenderers\"}},\"id\":\"2619\",\"type\":\"ColumnDataSource\"},{\"attributes\":{\"interval\":1},\"id\":\"2592\",\"type\":\"SingleIntervalTicker\"},{\"attributes\":{\"text\":\"Training performance of Feed-forward h=(200,50)\"},\"id\":\"2559\",\"type\":\"Title\"},{\"attributes\":{},\"id\":\"2600\",\"type\":\"BasicTickFormatter\"},{\"attributes\":{},\"id\":\"2649\",\"type\":\"UnionRenderers\"},{\"attributes\":{},\"id\":\"2772\",\"type\":\"UnionRenderers\"},{\"attributes\":{\"ticker\":{\"id\":\"2570\",\"type\":\"BasicTicker\"}},\"id\":\"2573\",\"type\":\"Grid\"},{\"attributes\":{},\"id\":\"2579\",\"type\":\"PanTool\"},{\"attributes\":{\"callback\":null,\"data\":{\"x\":[0,1,2,3,4,5,6,7,8,9,10,11,12,13,14,15,16,17,18,19],\"y\":[0.4394813629627228,0.3899561273574829,0.41246225233078004,0.3627375000953674,0.3569383488893509,0.3396430021524429,0.32607109217643737,0.3398416161417961,0.3315324126958847,0.33218487973213195,0.35388436427116393,0.32373305897712706,0.3381496393918991,0.34783433549404147,0.3458421149253845,0.3234090068340302,0.3356489449739456,0.3262324407577515,0.3531709891796112,0.35079016466140744]},\"selected\":{\"id\":\"2616\",\"type\":\"Selection\"},\"selection_policy\":{\"id\":\"2617\",\"type\":\"UnionRenderers\"}},\"id\":\"2594\",\"type\":\"ColumnDataSource\"},{\"attributes\":{\"line_alpha\":0.1,\"line_color\":\"#1f77b4\",\"line_dash\":[4,4],\"line_width\":3,\"x\":{\"field\":\"x\"},\"y\":{\"field\":\"y\"}},\"id\":\"2608\",\"type\":\"Line\"},{\"attributes\":{\"bottom_units\":\"screen\",\"fill_alpha\":{\"value\":0.5},\"fill_color\":{\"value\":\"lightgrey\"},\"left_units\":\"screen\",\"level\":\"overlay\",\"line_alpha\":{\"value\":1.0},\"line_color\":{\"value\":\"black\"},\"line_dash\":[4,4],\"line_width\":{\"value\":2},\"render_mode\":\"css\",\"right_units\":\"screen\",\"top_units\":\"screen\"},\"id\":\"2603\",\"type\":\"BoxAnnotation\"},{\"attributes\":{\"label\":{\"value\":\"val_accuracy\"},\"renderers\":[{\"id\":\"2609\",\"type\":\"GlyphRenderer\"}]},\"id\":\"2618\",\"type\":\"LegendItem\"},{\"attributes\":{\"formatter\":{\"id\":\"2602\",\"type\":\"BasicTickFormatter\"},\"ticker\":{\"id\":\"2575\",\"type\":\"BasicTicker\"}},\"id\":\"2574\",\"type\":\"LinearAxis\"},{\"attributes\":{\"callback\":null},\"id\":\"2561\",\"type\":\"DataRange1d\"},{\"attributes\":{\"source\":{\"id\":\"2619\",\"type\":\"ColumnDataSource\"}},\"id\":\"2623\",\"type\":\"CDSView\"},{\"attributes\":{},\"id\":\"2580\",\"type\":\"WheelZoomTool\"},{\"attributes\":{},\"id\":\"2570\",\"type\":\"BasicTicker\"},{\"attributes\":{\"data_source\":{\"id\":\"2634\",\"type\":\"ColumnDataSource\"},\"glyph\":{\"id\":\"2635\",\"type\":\"Line\"},\"hover_glyph\":null,\"muted_glyph\":null,\"nonselection_glyph\":{\"id\":\"2636\",\"type\":\"Line\"},\"selection_glyph\":null,\"view\":{\"id\":\"2638\",\"type\":\"CDSView\"}},\"id\":\"2637\",\"type\":\"GlyphRenderer\"},{\"attributes\":{},\"id\":\"2575\",\"type\":\"BasicTicker\"},{\"attributes\":{\"line_alpha\":0.8,\"line_color\":\"#2b83ba\",\"line_dash\":[4,4],\"line_width\":3,\"x\":{\"field\":\"x\"},\"y\":{\"field\":\"y\"}},\"id\":\"2595\",\"type\":\"Line\"},{\"attributes\":{\"callback\":null,\"data\":{\"x\":[0,1,2,3,4,5,6,7,8,9,10,11,12,13,14,15,16,17,18,19],\"y\":[0.8468000292778015,0.8626999855041504,0.8464000225067139,0.869700014591217,0.8702999949455261,0.8751000165939331,0.881600022315979,0.8802000284194946,0.8805000185966492,0.8834999799728394,0.8766000270843506,0.8871999979019165,0.8851000070571899,0.8812999725341797,0.8838000297546387,0.8919000029563904,0.8880000114440918,0.8917999863624573,0.88919997215271,0.8866999745368958]},\"selected\":{\"id\":\"2631\",\"type\":\"Selection\"},\"selection_policy\":{\"id\":\"2632\",\"type\":\"UnionRenderers\"}},\"id\":\"2606\",\"type\":\"ColumnDataSource\"},{\"attributes\":{},\"id\":\"2617\",\"type\":\"UnionRenderers\"},{\"attributes\":{\"label\":{\"value\":\"accuracy\"},\"renderers\":[{\"id\":\"2637\",\"type\":\"GlyphRenderer\"}]},\"id\":\"2650\",\"type\":\"LegendItem\"},{\"attributes\":{},\"id\":\"2567\",\"type\":\"LinearScale\"},{\"attributes\":{\"data_source\":{\"id\":\"2619\",\"type\":\"ColumnDataSource\"},\"glyph\":{\"id\":\"2620\",\"type\":\"Line\"},\"hover_glyph\":null,\"muted_glyph\":null,\"nonselection_glyph\":{\"id\":\"2621\",\"type\":\"Line\"},\"selection_glyph\":null,\"view\":{\"id\":\"2623\",\"type\":\"CDSView\"}},\"id\":\"2622\",\"type\":\"GlyphRenderer\"},{\"attributes\":{},\"id\":\"2631\",\"type\":\"Selection\"},{\"attributes\":{\"data_source\":{\"id\":\"2606\",\"type\":\"ColumnDataSource\"},\"glyph\":{\"id\":\"2607\",\"type\":\"Line\"},\"hover_glyph\":null,\"muted_glyph\":null,\"nonselection_glyph\":{\"id\":\"2608\",\"type\":\"Line\"},\"selection_glyph\":null,\"view\":{\"id\":\"2610\",\"type\":\"CDSView\"}},\"id\":\"2609\",\"type\":\"GlyphRenderer\"},{\"attributes\":{\"overlay\":{\"id\":\"2603\",\"type\":\"BoxAnnotation\"}},\"id\":\"2581\",\"type\":\"BoxZoomTool\"},{\"attributes\":{\"line_alpha\":0.8,\"line_color\":\"#abdda4\",\"line_dash\":[4,4],\"line_width\":3,\"x\":{\"field\":\"x\"},\"y\":{\"field\":\"y\"}},\"id\":\"2607\",\"type\":\"Line\"},{\"attributes\":{\"source\":{\"id\":\"2634\",\"type\":\"ColumnDataSource\"}},\"id\":\"2638\",\"type\":\"CDSView\"},{\"attributes\":{},\"id\":\"2582\",\"type\":\"SaveTool\"},{\"attributes\":{},\"id\":\"2583\",\"type\":\"ResetTool\"},{\"attributes\":{\"line_alpha\":0.8,\"line_color\":\"#fdae61\",\"line_dash\":[4,4],\"line_width\":3,\"x\":{\"field\":\"x\"},\"y\":{\"field\":\"y\"}},\"id\":\"2620\",\"type\":\"Line\"},{\"attributes\":{\"callback\":null,\"data\":{\"x\":[0,1,2,3,4,5,6,7,8,9,10,11,12,13,14,15,16,17,18,19],\"y\":[0.8149166703224182,0.861299991607666,0.8749333620071411,0.8834499716758728,0.8892499804496765,0.8955333232879639,0.8995500206947327,0.9044833183288574,0.9066166877746582,0.911216676235199,0.9134833216667175,0.9164166450500488,0.9190333485603333,0.920366644859314,0.9247999787330627,0.926716685295105,0.9280999898910522,0.9309999942779541,0.9326500296592712,0.9357333183288574]},\"selected\":{\"id\":\"2771\",\"type\":\"Selection\"},\"selection_policy\":{\"id\":\"2772\",\"type\":\"UnionRenderers\"}},\"id\":\"2634\",\"type\":\"ColumnDataSource\"},{\"attributes\":{\"active_drag\":\"auto\",\"active_inspect\":\"auto\",\"active_multi\":null,\"active_scroll\":\"auto\",\"active_tap\":\"auto\",\"tools\":[{\"id\":\"2579\",\"type\":\"PanTool\"},{\"id\":\"2580\",\"type\":\"WheelZoomTool\"},{\"id\":\"2581\",\"type\":\"BoxZoomTool\"},{\"id\":\"2582\",\"type\":\"SaveTool\"},{\"id\":\"2583\",\"type\":\"ResetTool\"},{\"id\":\"2584\",\"type\":\"HelpTool\"}]},\"id\":\"2585\",\"type\":\"Toolbar\"},{\"attributes\":{},\"id\":\"2584\",\"type\":\"HelpTool\"}],\"root_ids\":[\"2558\"]},\"title\":\"Bokeh Application\",\"version\":\"1.4.0\"}};\n",
       "  var render_items = [{\"docid\":\"d431d0b6-9274-4f10-8d42-d90a7f73e117\",\"roots\":{\"2558\":\"80f22d37-1e0c-4cc8-8042-b0566072ba20\"}}];\n",
       "  root.Bokeh.embed.embed_items_notebook(docs_json, render_items);\n",
       "\n",
       "  }\n",
       "  if (root.Bokeh !== undefined) {\n",
       "    embed_document(root);\n",
       "  } else {\n",
       "    var attempts = 0;\n",
       "    var timer = setInterval(function(root) {\n",
       "      if (root.Bokeh !== undefined) {\n",
       "        clearInterval(timer);\n",
       "        embed_document(root);\n",
       "      } else {\n",
       "        attempts++;\n",
       "        if (attempts > 100) {\n",
       "          clearInterval(timer);\n",
       "          console.log(\"Bokeh: ERROR: Unable to run BokehJS code because BokehJS library is missing\");\n",
       "        }\n",
       "      }\n",
       "    }, 10, root)\n",
       "  }\n",
       "})(window);"
      ],
      "application/vnd.bokehjs_exec.v0+json": ""
     },
     "metadata": {
      "application/vnd.bokehjs_exec.v0+json": {
       "id": "2558"
      }
     },
     "output_type": "display_data"
    }
   ],
   "source": [
    "x = np.arange(len(history.history['loss']))\n",
    "p = None\n",
    "title = 'Training performance of Feed-forward h=(200,50)'\n",
    "for color, (legend, y) in zip(Spectral4, history.history.items()):\n",
    "    p = linechart(x, y, line_color=color, legend_label=legend, p=p, title=title)\n",
    "show(p)"
   ]
  },
  {
   "cell_type": "markdown",
   "metadata": {},
   "source": [
    "앞서 정의한 이름으로 `summary()` 의 결과값이 출력됩니다."
   ]
  },
  {
   "cell_type": "code",
   "execution_count": 21,
   "metadata": {},
   "outputs": [
    {
     "name": "stdout",
     "output_type": "stream",
     "text": [
      "Model: \"sequential_2\"\n",
      "_________________________________________________________________\n",
      "Layer (type)                 Output Shape              Param #   \n",
      "=================================================================\n",
      "hidden_1 (Dense)             (None, 200)               157000    \n",
      "_________________________________________________________________\n",
      "hidden_2 (Dense)             (None, 50)                10050     \n",
      "_________________________________________________________________\n",
      "output (Dense)               (None, 10)                510       \n",
      "=================================================================\n",
      "Total params: 167,560\n",
      "Trainable params: 167,560\n",
      "Non-trainable params: 0\n",
      "_________________________________________________________________\n"
     ]
    }
   ],
   "source": [
    "ff.summary()"
   ]
  },
  {
   "cell_type": "code",
   "execution_count": 22,
   "metadata": {},
   "outputs": [
    {
     "name": "stdout",
     "output_type": "stream",
     "text": [
      "[hidden_1 ] weights: (784, 200), bias: (200,)\n",
      "[hidden_2 ] weights: (200, 50), bias: (50,)\n",
      "[output   ] weights: (50, 10), bias: (10,)\n"
     ]
    }
   ],
   "source": [
    "for layer in ff.layers:\n",
    "    name = layer.name\n",
    "    weights = layer.weights[0].numpy()\n",
    "    bias = layer.bias.numpy()\n",
    "    print(f'[{name:9}] weights: {weights.shape}, bias: {bias.shape}')"
   ]
  },
  {
   "cell_type": "markdown",
   "metadata": {},
   "source": [
    "앞서 정의한 `get_hidden_vectors()` 함수를 재활용 할 수 있습니다. feed forward 모델의 hidden vectors 를 가져옵니다. 이름을 지정하니 보기가 정말 편리합니다."
   ]
  },
  {
   "cell_type": "code",
   "execution_count": 23,
   "metadata": {},
   "outputs": [
    {
     "name": "stdout",
     "output_type": "stream",
     "text": [
      "num layers = 3\n",
      "\n",
      "[hidden_1]: (3, 200)\n",
      "[hidden_2]: (3, 50)\n",
      "[output  ]: (3, 10)\n"
     ]
    }
   ],
   "source": [
    "hiddens, names = get_hidden_vectors(ff, test_X[:3].reshape(3,-1))\n",
    "\n",
    "print(f'num layers = {len(hiddens)}\\n')\n",
    "for h, name in zip(hiddens, names):\n",
    "    print(f'[{name:8}]: {h.shape}')"
   ]
  },
  {
   "cell_type": "markdown",
   "metadata": {},
   "source": [
    "학습한 모델을 저장할 수 있습니다. `Model.save()` 함수를 이용합니다."
   ]
  },
  {
   "cell_type": "code",
   "execution_count": 24,
   "metadata": {},
   "outputs": [],
   "source": [
    "ff.save('keras_ff.h5')"
   ]
  },
  {
   "cell_type": "markdown",
   "metadata": {},
   "source": [
    "학습된 모델을 읽어올 수 있습니다. `test_X` 에 대하여 evaluation 을 수행하니 동일한 성능을 보여줍니다."
   ]
  },
  {
   "cell_type": "code",
   "execution_count": 25,
   "metadata": {},
   "outputs": [
    {
     "data": {
      "text/plain": [
       "[0.35079017066955565, 0.8866999745368958]"
      ]
     },
     "execution_count": 25,
     "metadata": {},
     "output_type": "execute_result"
    }
   ],
   "source": [
    "from keras.models import load_model\n",
    "\n",
    "ff_loaded = load_model('keras_ff.h5')\n",
    "ff_loaded.evaluate(\n",
    "    test_X.reshape(test_X.shape[0],-1), test_y,\n",
    "    verbose = 0\n",
    ")"
   ]
  },
  {
   "cell_type": "code",
   "execution_count": null,
   "metadata": {},
   "outputs": [],
   "source": []
  }
 ],
 "metadata": {
  "kernelspec": {
   "display_name": "Python 3",
   "language": "python",
   "name": "python3"
  },
  "language_info": {
   "codemirror_mode": {
    "name": "ipython",
    "version": 3
   },
   "file_extension": ".py",
   "mimetype": "text/x-python",
   "name": "python",
   "nbconvert_exporter": "python",
   "pygments_lexer": "ipython3",
   "version": "3.7.4"
  }
 },
 "nbformat": 4,
 "nbformat_minor": 2
}
