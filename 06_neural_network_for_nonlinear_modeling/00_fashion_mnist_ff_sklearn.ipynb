{
 "cells": [
  {
   "cell_type": "markdown",
   "metadata": {},
   "source": [
    "UMAP 의 실습에 이용했던 fashion-MNIST 데이터를 이용합니다."
   ]
  },
  {
   "cell_type": "code",
   "execution_count": 1,
   "metadata": {},
   "outputs": [],
   "source": [
    "import sys\n",
    "mnist_utils_path = '../../../../fashion-mnist/utils/'\n",
    "mnist_data_path  = '../../../../fashion-mnist/data/fashion/'\n",
    "sys.path.append(mnist_utils_path)"
   ]
  },
  {
   "cell_type": "markdown",
   "metadata": {},
   "source": [
    "학습용 데이터와 테스트용 데이터를 모두 불러옵니다."
   ]
  },
  {
   "cell_type": "code",
   "execution_count": 2,
   "metadata": {},
   "outputs": [
    {
     "name": "stdout",
     "output_type": "stream",
     "text": [
      "(60000, 784)\n",
      "(60000,)\n",
      "(10000, 784)\n",
      "(10000,)\n"
     ]
    }
   ],
   "source": [
    "from mnist_reader import load_mnist\n",
    "\n",
    "train, train_labels = load_mnist(mnist_data_path, kind='train')\n",
    "test, test_labels   = load_mnist(mnist_data_path, kind='t10k')\n",
    "\n",
    "print(train.shape)\n",
    "print(train_labels.shape)\n",
    "print(test.shape)\n",
    "print(test_labels.shape)"
   ]
  },
  {
   "cell_type": "markdown",
   "metadata": {},
   "source": [
    "IRIS + PCA tutorial 에서 Bokeh 를 이용하여 scatter plot 을 그리는 연습을 하였습니다. 이번에는 Bokeh 를 이용하여 여러 장의 이미지를 출력하는 연습을 해봅니다. figure 를 이용하여 도화지를 준비하는 과정은 동일합니다. 더하여 x, y 축의 레이블 및 grid lines 을 모두 보이지 않게 설정하였습니다.\n",
    "\n",
    "image 함수는 그림을 출력하는 함수로, image(x, y) 는 이미지의 좌측 하단에 위치하는 값, dw 는 x 축의 범위, dh 는 y 축의 범위입니다. 한 장의 이미지만을 출력할 때에는 (0, 1) 로 설정하여도 됩니다. 이 값은 이후에 scatter plot 과 image 를 동시에 출력할 때 잘 조절해야 합니다.\n",
    "\n",
    "gridplot 함수는 list of list (rows of columns) 로 이뤄진 그림들을 입력값으로 받습니다. 그리고 show 함수를 이용하여 이 gridplot 을 출력합니다."
   ]
  },
  {
   "cell_type": "code",
   "execution_count": 3,
   "metadata": {},
   "outputs": [
    {
     "data": {
      "text/html": [
       "\n",
       "    <div class=\"bk-root\">\n",
       "        <a href=\"https://bokeh.org\" target=\"_blank\" class=\"bk-logo bk-logo-small bk-logo-notebook\"></a>\n",
       "        <span id=\"1001\">Loading BokehJS ...</span>\n",
       "    </div>"
      ]
     },
     "metadata": {},
     "output_type": "display_data"
    },
    {
     "data": {
      "application/javascript": [
       "\n",
       "(function(root) {\n",
       "  function now() {\n",
       "    return new Date();\n",
       "  }\n",
       "\n",
       "  var force = true;\n",
       "\n",
       "  if (typeof root._bokeh_onload_callbacks === \"undefined\" || force === true) {\n",
       "    root._bokeh_onload_callbacks = [];\n",
       "    root._bokeh_is_loading = undefined;\n",
       "  }\n",
       "\n",
       "  var JS_MIME_TYPE = 'application/javascript';\n",
       "  var HTML_MIME_TYPE = 'text/html';\n",
       "  var EXEC_MIME_TYPE = 'application/vnd.bokehjs_exec.v0+json';\n",
       "  var CLASS_NAME = 'output_bokeh rendered_html';\n",
       "\n",
       "  /**\n",
       "   * Render data to the DOM node\n",
       "   */\n",
       "  function render(props, node) {\n",
       "    var script = document.createElement(\"script\");\n",
       "    node.appendChild(script);\n",
       "  }\n",
       "\n",
       "  /**\n",
       "   * Handle when an output is cleared or removed\n",
       "   */\n",
       "  function handleClearOutput(event, handle) {\n",
       "    var cell = handle.cell;\n",
       "\n",
       "    var id = cell.output_area._bokeh_element_id;\n",
       "    var server_id = cell.output_area._bokeh_server_id;\n",
       "    // Clean up Bokeh references\n",
       "    if (id != null && id in Bokeh.index) {\n",
       "      Bokeh.index[id].model.document.clear();\n",
       "      delete Bokeh.index[id];\n",
       "    }\n",
       "\n",
       "    if (server_id !== undefined) {\n",
       "      // Clean up Bokeh references\n",
       "      var cmd = \"from bokeh.io.state import curstate; print(curstate().uuid_to_server['\" + server_id + \"'].get_sessions()[0].document.roots[0]._id)\";\n",
       "      cell.notebook.kernel.execute(cmd, {\n",
       "        iopub: {\n",
       "          output: function(msg) {\n",
       "            var id = msg.content.text.trim();\n",
       "            if (id in Bokeh.index) {\n",
       "              Bokeh.index[id].model.document.clear();\n",
       "              delete Bokeh.index[id];\n",
       "            }\n",
       "          }\n",
       "        }\n",
       "      });\n",
       "      // Destroy server and session\n",
       "      var cmd = \"import bokeh.io.notebook as ion; ion.destroy_server('\" + server_id + \"')\";\n",
       "      cell.notebook.kernel.execute(cmd);\n",
       "    }\n",
       "  }\n",
       "\n",
       "  /**\n",
       "   * Handle when a new output is added\n",
       "   */\n",
       "  function handleAddOutput(event, handle) {\n",
       "    var output_area = handle.output_area;\n",
       "    var output = handle.output;\n",
       "\n",
       "    // limit handleAddOutput to display_data with EXEC_MIME_TYPE content only\n",
       "    if ((output.output_type != \"display_data\") || (!output.data.hasOwnProperty(EXEC_MIME_TYPE))) {\n",
       "      return\n",
       "    }\n",
       "\n",
       "    var toinsert = output_area.element.find(\".\" + CLASS_NAME.split(' ')[0]);\n",
       "\n",
       "    if (output.metadata[EXEC_MIME_TYPE][\"id\"] !== undefined) {\n",
       "      toinsert[toinsert.length - 1].firstChild.textContent = output.data[JS_MIME_TYPE];\n",
       "      // store reference to embed id on output_area\n",
       "      output_area._bokeh_element_id = output.metadata[EXEC_MIME_TYPE][\"id\"];\n",
       "    }\n",
       "    if (output.metadata[EXEC_MIME_TYPE][\"server_id\"] !== undefined) {\n",
       "      var bk_div = document.createElement(\"div\");\n",
       "      bk_div.innerHTML = output.data[HTML_MIME_TYPE];\n",
       "      var script_attrs = bk_div.children[0].attributes;\n",
       "      for (var i = 0; i < script_attrs.length; i++) {\n",
       "        toinsert[toinsert.length - 1].firstChild.setAttribute(script_attrs[i].name, script_attrs[i].value);\n",
       "      }\n",
       "      // store reference to server id on output_area\n",
       "      output_area._bokeh_server_id = output.metadata[EXEC_MIME_TYPE][\"server_id\"];\n",
       "    }\n",
       "  }\n",
       "\n",
       "  function register_renderer(events, OutputArea) {\n",
       "\n",
       "    function append_mime(data, metadata, element) {\n",
       "      // create a DOM node to render to\n",
       "      var toinsert = this.create_output_subarea(\n",
       "        metadata,\n",
       "        CLASS_NAME,\n",
       "        EXEC_MIME_TYPE\n",
       "      );\n",
       "      this.keyboard_manager.register_events(toinsert);\n",
       "      // Render to node\n",
       "      var props = {data: data, metadata: metadata[EXEC_MIME_TYPE]};\n",
       "      render(props, toinsert[toinsert.length - 1]);\n",
       "      element.append(toinsert);\n",
       "      return toinsert\n",
       "    }\n",
       "\n",
       "    /* Handle when an output is cleared or removed */\n",
       "    events.on('clear_output.CodeCell', handleClearOutput);\n",
       "    events.on('delete.Cell', handleClearOutput);\n",
       "\n",
       "    /* Handle when a new output is added */\n",
       "    events.on('output_added.OutputArea', handleAddOutput);\n",
       "\n",
       "    /**\n",
       "     * Register the mime type and append_mime function with output_area\n",
       "     */\n",
       "    OutputArea.prototype.register_mime_type(EXEC_MIME_TYPE, append_mime, {\n",
       "      /* Is output safe? */\n",
       "      safe: true,\n",
       "      /* Index of renderer in `output_area.display_order` */\n",
       "      index: 0\n",
       "    });\n",
       "  }\n",
       "\n",
       "  // register the mime type if in Jupyter Notebook environment and previously unregistered\n",
       "  if (root.Jupyter !== undefined) {\n",
       "    var events = require('base/js/events');\n",
       "    var OutputArea = require('notebook/js/outputarea').OutputArea;\n",
       "\n",
       "    if (OutputArea.prototype.mime_types().indexOf(EXEC_MIME_TYPE) == -1) {\n",
       "      register_renderer(events, OutputArea);\n",
       "    }\n",
       "  }\n",
       "\n",
       "  \n",
       "  if (typeof (root._bokeh_timeout) === \"undefined\" || force === true) {\n",
       "    root._bokeh_timeout = Date.now() + 5000;\n",
       "    root._bokeh_failed_load = false;\n",
       "  }\n",
       "\n",
       "  var NB_LOAD_WARNING = {'data': {'text/html':\n",
       "     \"<div style='background-color: #fdd'>\\n\"+\n",
       "     \"<p>\\n\"+\n",
       "     \"BokehJS does not appear to have successfully loaded. If loading BokehJS from CDN, this \\n\"+\n",
       "     \"may be due to a slow or bad network connection. Possible fixes:\\n\"+\n",
       "     \"</p>\\n\"+\n",
       "     \"<ul>\\n\"+\n",
       "     \"<li>re-rerun `output_notebook()` to attempt to load from CDN again, or</li>\\n\"+\n",
       "     \"<li>use INLINE resources instead, as so:</li>\\n\"+\n",
       "     \"</ul>\\n\"+\n",
       "     \"<code>\\n\"+\n",
       "     \"from bokeh.resources import INLINE\\n\"+\n",
       "     \"output_notebook(resources=INLINE)\\n\"+\n",
       "     \"</code>\\n\"+\n",
       "     \"</div>\"}};\n",
       "\n",
       "  function display_loaded() {\n",
       "    var el = document.getElementById(\"1001\");\n",
       "    if (el != null) {\n",
       "      el.textContent = \"BokehJS is loading...\";\n",
       "    }\n",
       "    if (root.Bokeh !== undefined) {\n",
       "      if (el != null) {\n",
       "        el.textContent = \"BokehJS \" + root.Bokeh.version + \" successfully loaded.\";\n",
       "      }\n",
       "    } else if (Date.now() < root._bokeh_timeout) {\n",
       "      setTimeout(display_loaded, 100)\n",
       "    }\n",
       "  }\n",
       "\n",
       "\n",
       "  function run_callbacks() {\n",
       "    try {\n",
       "      root._bokeh_onload_callbacks.forEach(function(callback) {\n",
       "        if (callback != null)\n",
       "          callback();\n",
       "      });\n",
       "    } finally {\n",
       "      delete root._bokeh_onload_callbacks\n",
       "    }\n",
       "    console.debug(\"Bokeh: all callbacks have finished\");\n",
       "  }\n",
       "\n",
       "  function load_libs(css_urls, js_urls, callback) {\n",
       "    if (css_urls == null) css_urls = [];\n",
       "    if (js_urls == null) js_urls = [];\n",
       "\n",
       "    root._bokeh_onload_callbacks.push(callback);\n",
       "    if (root._bokeh_is_loading > 0) {\n",
       "      console.debug(\"Bokeh: BokehJS is being loaded, scheduling callback at\", now());\n",
       "      return null;\n",
       "    }\n",
       "    if (js_urls == null || js_urls.length === 0) {\n",
       "      run_callbacks();\n",
       "      return null;\n",
       "    }\n",
       "    console.debug(\"Bokeh: BokehJS not loaded, scheduling load and callback at\", now());\n",
       "    root._bokeh_is_loading = css_urls.length + js_urls.length;\n",
       "\n",
       "    function on_load() {\n",
       "      root._bokeh_is_loading--;\n",
       "      if (root._bokeh_is_loading === 0) {\n",
       "        console.debug(\"Bokeh: all BokehJS libraries/stylesheets loaded\");\n",
       "        run_callbacks()\n",
       "      }\n",
       "    }\n",
       "\n",
       "    function on_error() {\n",
       "      console.error(\"failed to load \" + url);\n",
       "    }\n",
       "\n",
       "    for (var i = 0; i < css_urls.length; i++) {\n",
       "      var url = css_urls[i];\n",
       "      const element = document.createElement(\"link\");\n",
       "      element.onload = on_load;\n",
       "      element.onerror = on_error;\n",
       "      element.rel = \"stylesheet\";\n",
       "      element.type = \"text/css\";\n",
       "      element.href = url;\n",
       "      console.debug(\"Bokeh: injecting link tag for BokehJS stylesheet: \", url);\n",
       "      document.body.appendChild(element);\n",
       "    }\n",
       "\n",
       "    for (var i = 0; i < js_urls.length; i++) {\n",
       "      var url = js_urls[i];\n",
       "      var element = document.createElement('script');\n",
       "      element.onload = on_load;\n",
       "      element.onerror = on_error;\n",
       "      element.async = false;\n",
       "      element.src = url;\n",
       "      console.debug(\"Bokeh: injecting script tag for BokehJS library: \", url);\n",
       "      document.head.appendChild(element);\n",
       "    }\n",
       "  };var element = document.getElementById(\"1001\");\n",
       "  if (element == null) {\n",
       "    console.error(\"Bokeh: ERROR: autoload.js configured with elementid '1001' but no matching script tag was found. \")\n",
       "    return false;\n",
       "  }\n",
       "\n",
       "  function inject_raw_css(css) {\n",
       "    const element = document.createElement(\"style\");\n",
       "    element.appendChild(document.createTextNode(css));\n",
       "    document.body.appendChild(element);\n",
       "  }\n",
       "\n",
       "  \n",
       "  var js_urls = [\"https://cdn.pydata.org/bokeh/release/bokeh-1.4.0.min.js\", \"https://cdn.pydata.org/bokeh/release/bokeh-widgets-1.4.0.min.js\", \"https://cdn.pydata.org/bokeh/release/bokeh-tables-1.4.0.min.js\", \"https://cdn.pydata.org/bokeh/release/bokeh-gl-1.4.0.min.js\"];\n",
       "  var css_urls = [];\n",
       "  \n",
       "\n",
       "  var inline_js = [\n",
       "    function(Bokeh) {\n",
       "      Bokeh.set_log_level(\"info\");\n",
       "    },\n",
       "    function(Bokeh) {\n",
       "    \n",
       "    \n",
       "    }\n",
       "  ];\n",
       "\n",
       "  function run_inline_js() {\n",
       "    \n",
       "    if (root.Bokeh !== undefined || force === true) {\n",
       "      \n",
       "    for (var i = 0; i < inline_js.length; i++) {\n",
       "      inline_js[i].call(root, root.Bokeh);\n",
       "    }\n",
       "    if (force === true) {\n",
       "        display_loaded();\n",
       "      }} else if (Date.now() < root._bokeh_timeout) {\n",
       "      setTimeout(run_inline_js, 100);\n",
       "    } else if (!root._bokeh_failed_load) {\n",
       "      console.log(\"Bokeh: BokehJS failed to load within specified timeout.\");\n",
       "      root._bokeh_failed_load = true;\n",
       "    } else if (force !== true) {\n",
       "      var cell = $(document.getElementById(\"1001\")).parents('.cell').data().cell;\n",
       "      cell.output_area.append_execute_result(NB_LOAD_WARNING)\n",
       "    }\n",
       "\n",
       "  }\n",
       "\n",
       "  if (root._bokeh_is_loading === 0) {\n",
       "    console.debug(\"Bokeh: BokehJS loaded, going straight to plotting\");\n",
       "    run_inline_js();\n",
       "  } else {\n",
       "    load_libs(css_urls, js_urls, function() {\n",
       "      console.debug(\"Bokeh: BokehJS plotting callback run at\", now());\n",
       "      run_inline_js();\n",
       "    });\n",
       "  }\n",
       "}(window));"
      ],
      "application/vnd.bokehjs_load.v0+json": "\n(function(root) {\n  function now() {\n    return new Date();\n  }\n\n  var force = true;\n\n  if (typeof root._bokeh_onload_callbacks === \"undefined\" || force === true) {\n    root._bokeh_onload_callbacks = [];\n    root._bokeh_is_loading = undefined;\n  }\n\n  \n\n  \n  if (typeof (root._bokeh_timeout) === \"undefined\" || force === true) {\n    root._bokeh_timeout = Date.now() + 5000;\n    root._bokeh_failed_load = false;\n  }\n\n  var NB_LOAD_WARNING = {'data': {'text/html':\n     \"<div style='background-color: #fdd'>\\n\"+\n     \"<p>\\n\"+\n     \"BokehJS does not appear to have successfully loaded. If loading BokehJS from CDN, this \\n\"+\n     \"may be due to a slow or bad network connection. Possible fixes:\\n\"+\n     \"</p>\\n\"+\n     \"<ul>\\n\"+\n     \"<li>re-rerun `output_notebook()` to attempt to load from CDN again, or</li>\\n\"+\n     \"<li>use INLINE resources instead, as so:</li>\\n\"+\n     \"</ul>\\n\"+\n     \"<code>\\n\"+\n     \"from bokeh.resources import INLINE\\n\"+\n     \"output_notebook(resources=INLINE)\\n\"+\n     \"</code>\\n\"+\n     \"</div>\"}};\n\n  function display_loaded() {\n    var el = document.getElementById(\"1001\");\n    if (el != null) {\n      el.textContent = \"BokehJS is loading...\";\n    }\n    if (root.Bokeh !== undefined) {\n      if (el != null) {\n        el.textContent = \"BokehJS \" + root.Bokeh.version + \" successfully loaded.\";\n      }\n    } else if (Date.now() < root._bokeh_timeout) {\n      setTimeout(display_loaded, 100)\n    }\n  }\n\n\n  function run_callbacks() {\n    try {\n      root._bokeh_onload_callbacks.forEach(function(callback) {\n        if (callback != null)\n          callback();\n      });\n    } finally {\n      delete root._bokeh_onload_callbacks\n    }\n    console.debug(\"Bokeh: all callbacks have finished\");\n  }\n\n  function load_libs(css_urls, js_urls, callback) {\n    if (css_urls == null) css_urls = [];\n    if (js_urls == null) js_urls = [];\n\n    root._bokeh_onload_callbacks.push(callback);\n    if (root._bokeh_is_loading > 0) {\n      console.debug(\"Bokeh: BokehJS is being loaded, scheduling callback at\", now());\n      return null;\n    }\n    if (js_urls == null || js_urls.length === 0) {\n      run_callbacks();\n      return null;\n    }\n    console.debug(\"Bokeh: BokehJS not loaded, scheduling load and callback at\", now());\n    root._bokeh_is_loading = css_urls.length + js_urls.length;\n\n    function on_load() {\n      root._bokeh_is_loading--;\n      if (root._bokeh_is_loading === 0) {\n        console.debug(\"Bokeh: all BokehJS libraries/stylesheets loaded\");\n        run_callbacks()\n      }\n    }\n\n    function on_error() {\n      console.error(\"failed to load \" + url);\n    }\n\n    for (var i = 0; i < css_urls.length; i++) {\n      var url = css_urls[i];\n      const element = document.createElement(\"link\");\n      element.onload = on_load;\n      element.onerror = on_error;\n      element.rel = \"stylesheet\";\n      element.type = \"text/css\";\n      element.href = url;\n      console.debug(\"Bokeh: injecting link tag for BokehJS stylesheet: \", url);\n      document.body.appendChild(element);\n    }\n\n    for (var i = 0; i < js_urls.length; i++) {\n      var url = js_urls[i];\n      var element = document.createElement('script');\n      element.onload = on_load;\n      element.onerror = on_error;\n      element.async = false;\n      element.src = url;\n      console.debug(\"Bokeh: injecting script tag for BokehJS library: \", url);\n      document.head.appendChild(element);\n    }\n  };var element = document.getElementById(\"1001\");\n  if (element == null) {\n    console.error(\"Bokeh: ERROR: autoload.js configured with elementid '1001' but no matching script tag was found. \")\n    return false;\n  }\n\n  function inject_raw_css(css) {\n    const element = document.createElement(\"style\");\n    element.appendChild(document.createTextNode(css));\n    document.body.appendChild(element);\n  }\n\n  \n  var js_urls = [\"https://cdn.pydata.org/bokeh/release/bokeh-1.4.0.min.js\", \"https://cdn.pydata.org/bokeh/release/bokeh-widgets-1.4.0.min.js\", \"https://cdn.pydata.org/bokeh/release/bokeh-tables-1.4.0.min.js\", \"https://cdn.pydata.org/bokeh/release/bokeh-gl-1.4.0.min.js\"];\n  var css_urls = [];\n  \n\n  var inline_js = [\n    function(Bokeh) {\n      Bokeh.set_log_level(\"info\");\n    },\n    function(Bokeh) {\n    \n    \n    }\n  ];\n\n  function run_inline_js() {\n    \n    if (root.Bokeh !== undefined || force === true) {\n      \n    for (var i = 0; i < inline_js.length; i++) {\n      inline_js[i].call(root, root.Bokeh);\n    }\n    if (force === true) {\n        display_loaded();\n      }} else if (Date.now() < root._bokeh_timeout) {\n      setTimeout(run_inline_js, 100);\n    } else if (!root._bokeh_failed_load) {\n      console.log(\"Bokeh: BokehJS failed to load within specified timeout.\");\n      root._bokeh_failed_load = true;\n    } else if (force !== true) {\n      var cell = $(document.getElementById(\"1001\")).parents('.cell').data().cell;\n      cell.output_area.append_execute_result(NB_LOAD_WARNING)\n    }\n\n  }\n\n  if (root._bokeh_is_loading === 0) {\n    console.debug(\"Bokeh: BokehJS loaded, going straight to plotting\");\n    run_inline_js();\n  } else {\n    load_libs(css_urls, js_urls, function() {\n      console.debug(\"Bokeh: BokehJS plotting callback run at\", now());\n      run_inline_js();\n    });\n  }\n}(window));"
     },
     "metadata": {},
     "output_type": "display_data"
    }
   ],
   "source": [
    "import math\n",
    "from bokeh.plotting import output_notebook, show, figure\n",
    "from bokeh.layouts import gridplot\n",
    "\n",
    "output_notebook()\n",
    "\n",
    "def show_image_grid(images, labels, n_cols=4):\n",
    "    figs = []\n",
    "    for img, l in zip(images, labels):\n",
    "        p = figure(width=150, height=150, title=f'Label {l}')\n",
    "        p.axis.visible = False\n",
    "        p.xgrid.visible = False\n",
    "        p.ygrid.visible = False\n",
    "        p.image(image=[img], x=0, dw=1, y=0, dh=1)\n",
    "        figs.append(p)\n",
    "\n",
    "    # 소수점 올림\n",
    "    n_rows = math.ceil(len(figs) / n_cols)\n",
    "    rows = []\n",
    "    for i in range(n_rows):\n",
    "        b = i * n_cols\n",
    "        e = (i+1) * n_cols\n",
    "        rows.append(figs[b:e])\n",
    "\n",
    "    # input = list of list\n",
    "    gp = gridplot(rows)\n",
    "    show(gp)\n",
    "\n",
    "    return rows"
   ]
  },
  {
   "cell_type": "markdown",
   "metadata": {},
   "source": [
    "Image handling tutorial 에서 연습한 것처럼 flatten vector 를 reshape 함수를 이용하여 이미지로 복원합니다. 행렬의 (0, 0) 은 이미지의 우측 상단이기 때문에 90 도 방향으로 2 번 회전하였습니다."
   ]
  },
  {
   "cell_type": "code",
   "execution_count": 4,
   "metadata": {},
   "outputs": [],
   "source": [
    "import numpy as np\n",
    "\n",
    "image_samples = [np.rot90(xi.reshape(28,28),k=2) for xi in train[:12]]\n",
    "label_samples = train_labels[:12]"
   ]
  },
  {
   "cell_type": "markdown",
   "metadata": {},
   "source": [
    "앞서 만든 함수를 이용하여 이미지를 확인해 봅니다."
   ]
  },
  {
   "cell_type": "code",
   "execution_count": 5,
   "metadata": {},
   "outputs": [
    {
     "data": {
      "text/html": [
       "\n",
       "\n",
       "\n",
       "\n",
       "\n",
       "\n",
       "  <div class=\"bk-root\" id=\"7eccaadf-36bc-4cde-87d9-ada0bc52a2c1\" data-root-id=\"1605\"></div>\n"
      ]
     },
     "metadata": {},
     "output_type": "display_data"
    },
    {
     "data": {
      "application/javascript": [
       "(function(root) {\n",
       "  function embed_document(root) {\n",
       "    \n",
       "  var docs_json = {\"c8f2ebd0-e16f-459d-a20d-4dc59069f763\":{\"roots\":{\"references\":[{\"attributes\":{\"children\":[{\"id\":\"1604\",\"type\":\"ToolbarBox\"},{\"id\":\"1602\",\"type\":\"GridBox\"}]},\"id\":\"1605\",\"type\":\"Column\"},{\"attributes\":{},\"id\":\"1060\",\"type\":\"BasicTicker\"},{\"attributes\":{\"below\":[{\"id\":\"1054\",\"type\":\"LinearAxis\"}],\"center\":[{\"id\":\"1058\",\"type\":\"Grid\"},{\"id\":\"1063\",\"type\":\"Grid\"}],\"left\":[{\"id\":\"1059\",\"type\":\"LinearAxis\"}],\"plot_height\":150,\"plot_width\":150,\"renderers\":[{\"id\":\"1082\",\"type\":\"GlyphRenderer\"}],\"title\":{\"id\":\"1044\",\"type\":\"Title\"},\"toolbar\":{\"id\":\"1070\",\"type\":\"Toolbar\"},\"toolbar_location\":null,\"x_range\":{\"id\":\"1046\",\"type\":\"DataRange1d\"},\"x_scale\":{\"id\":\"1050\",\"type\":\"LinearScale\"},\"y_range\":{\"id\":\"1048\",\"type\":\"DataRange1d\"},\"y_scale\":{\"id\":\"1052\",\"type\":\"LinearScale\"}},\"id\":\"1043\",\"subtype\":\"Figure\",\"type\":\"Plot\"},{\"attributes\":{\"below\":[{\"id\":\"1300\",\"type\":\"LinearAxis\"}],\"center\":[{\"id\":\"1304\",\"type\":\"Grid\"},{\"id\":\"1309\",\"type\":\"Grid\"}],\"left\":[{\"id\":\"1305\",\"type\":\"LinearAxis\"}],\"plot_height\":150,\"plot_width\":150,\"renderers\":[{\"id\":\"1328\",\"type\":\"GlyphRenderer\"}],\"title\":{\"id\":\"1290\",\"type\":\"Title\"},\"toolbar\":{\"id\":\"1316\",\"type\":\"Toolbar\"},\"toolbar_location\":null,\"x_range\":{\"id\":\"1292\",\"type\":\"DataRange1d\"},\"x_scale\":{\"id\":\"1296\",\"type\":\"LinearScale\"},\"y_range\":{\"id\":\"1294\",\"type\":\"DataRange1d\"},\"y_scale\":{\"id\":\"1298\",\"type\":\"LinearScale\"}},\"id\":\"1289\",\"subtype\":\"Figure\",\"type\":\"Plot\"},{\"attributes\":{\"active_drag\":\"auto\",\"active_inspect\":\"auto\",\"active_multi\":null,\"active_scroll\":\"auto\",\"active_tap\":\"auto\",\"tools\":[{\"id\":\"1023\",\"type\":\"PanTool\"},{\"id\":\"1024\",\"type\":\"WheelZoomTool\"},{\"id\":\"1025\",\"type\":\"BoxZoomTool\"},{\"id\":\"1026\",\"type\":\"SaveTool\"},{\"id\":\"1027\",\"type\":\"ResetTool\"},{\"id\":\"1028\",\"type\":\"HelpTool\"}]},\"id\":\"1029\",\"type\":\"Toolbar\"},{\"attributes\":{\"active_drag\":\"auto\",\"active_inspect\":\"auto\",\"active_multi\":null,\"active_scroll\":\"auto\",\"active_tap\":\"auto\",\"tools\":[{\"id\":\"1269\",\"type\":\"PanTool\"},{\"id\":\"1270\",\"type\":\"WheelZoomTool\"},{\"id\":\"1271\",\"type\":\"BoxZoomTool\"},{\"id\":\"1272\",\"type\":\"SaveTool\"},{\"id\":\"1273\",\"type\":\"ResetTool\"},{\"id\":\"1274\",\"type\":\"HelpTool\"}]},\"id\":\"1275\",\"type\":\"Toolbar\"},{\"attributes\":{\"palette\":[\"#000000\",\"#252525\",\"#525252\",\"#737373\",\"#969696\",\"#bdbdbd\",\"#d9d9d9\",\"#f0f0f0\",\"#ffffff\"]},\"id\":\"1286\",\"type\":\"LinearColorMapper\"},{\"attributes\":{\"data_source\":{\"id\":\"1282\",\"type\":\"ColumnDataSource\"},\"glyph\":{\"id\":\"1283\",\"type\":\"Image\"},\"hover_glyph\":null,\"muted_glyph\":null,\"nonselection_glyph\":{\"id\":\"1285\",\"type\":\"Image\"},\"selection_glyph\":null,\"view\":{\"id\":\"1288\",\"type\":\"CDSView\"}},\"id\":\"1287\",\"type\":\"GlyphRenderer\"},{\"attributes\":{},\"id\":\"1052\",\"type\":\"LinearScale\"},{\"attributes\":{\"source\":{\"id\":\"1282\",\"type\":\"ColumnDataSource\"}},\"id\":\"1288\",\"type\":\"CDSView\"},{\"attributes\":{\"color_mapper\":{\"id\":\"1040\",\"type\":\"LinearColorMapper\"},\"dh\":{\"units\":\"data\",\"value\":1},\"dw\":{\"units\":\"data\",\"value\":1},\"image\":{\"field\":\"image\"},\"x\":{\"value\":0},\"y\":{\"value\":0}},\"id\":\"1039\",\"type\":\"Image\"},{\"attributes\":{\"palette\":[\"#000000\",\"#252525\",\"#525252\",\"#737373\",\"#969696\",\"#bdbdbd\",\"#d9d9d9\",\"#f0f0f0\",\"#ffffff\"]},\"id\":\"1325\",\"type\":\"LinearColorMapper\"},{\"attributes\":{\"text\":\"Label 2\"},\"id\":\"1290\",\"type\":\"Title\"},{\"attributes\":{\"data_source\":{\"id\":\"1036\",\"type\":\"ColumnDataSource\"},\"glyph\":{\"id\":\"1037\",\"type\":\"Image\"},\"hover_glyph\":null,\"muted_glyph\":null,\"nonselection_glyph\":{\"id\":\"1039\",\"type\":\"Image\"},\"selection_glyph\":null,\"view\":{\"id\":\"1042\",\"type\":\"CDSView\"}},\"id\":\"1041\",\"type\":\"GlyphRenderer\"},{\"attributes\":{\"callback\":null},\"id\":\"1292\",\"type\":\"DataRange1d\"},{\"attributes\":{\"palette\":[\"#000000\",\"#252525\",\"#525252\",\"#737373\",\"#969696\",\"#bdbdbd\",\"#d9d9d9\",\"#f0f0f0\",\"#ffffff\"]},\"id\":\"1040\",\"type\":\"LinearColorMapper\"},{\"attributes\":{\"callback\":null},\"id\":\"1294\",\"type\":\"DataRange1d\"},{\"attributes\":{\"source\":{\"id\":\"1036\",\"type\":\"ColumnDataSource\"}},\"id\":\"1042\",\"type\":\"CDSView\"},{\"attributes\":{},\"id\":\"1296\",\"type\":\"LinearScale\"},{\"attributes\":{},\"id\":\"1298\",\"type\":\"LinearScale\"},{\"attributes\":{\"callback\":null,\"data\":{\"image\":[{\"__ndarray__\":\"AAAAAAAATIJyd3l9fH2Jh4eCkosAAAEAAAAAAAAAAAACAKLg1vPw9PT07uzq1t28AAAAAAAAAAAAAAAAAAB/zsXNyczNz8zHycvSrAAAAAAAAAAAAAAAAAEAfM/F0s/T1NXRztDP0sYAAAEAAAAAAAAAAAABAHnPxNPP0tTUz8zQ0NDGAAABAAAAAAAAAAAAAgB20sPUz9LS187O0M/PzAAAAAAAAAAAAAAAAAIAc9XB09DSz9fNz9DNzMwAAAEAAAAAAAAAAAACAGnZwtLR0s7Vzc/RzcnKAAABAAAAAAAAAAAAAwBg3cPR0tLN083P0M3JzAAAAQAAAAAAAAAAAAMAUN3Gzc7Tz9DO0c7RxtQAAAEAAAAAAAAAAAAEAEveysjQ0s/PzdDOy8bXAAACAAAAAAAAAAAABABI3c/G0NLPz8zPz8jFvAAAAgAAAAAAAAAAAAUAStvRx87Rzs3Nzs3Jxr8CAAMAAAAAAAAAAAAFAE3azc3Mz83Mzs3KzcfFCwABAAAAAAAAAAABAwBb2sjUzM7NzM3OytTD1C4ABgEAAAAAAAAAAAAAa9rF1MzOzczMzsvWwOEvAAAAAAAAAAAAAAAAAKXSw8vJyMjIyMXA0MHenzYRAAAAAAAAAHHB1+HUye/8+v38+PX4+vzG0/jt37tqAAAAAADQ29Xez85XXExGTlNeWUc0ydjc09brpAAAAAAAnNTO1Ni9AEYNDBEQPCMqAM3g19bW4i0AAAAAAF/c0NbZ1wDN//uu/4vz/gDW19LU2vcAAAAAAAAm+tLWztsAMUdEO2cAYkYAyNfL0d7IAAAAAAAAAODczsrecT8zLTIwSS9LZczPzM7idAAAAAAAAACM3svLz+v4/Pf2+fX6+O7Uy8vH2zMAAAAAAAAAKeHIycjIyMjGxsTJx8fGysbI27wAAAAAAAAAAACk4NrRycnJyszXyMTGy9Tg3rAOAAAAAAAAAAAAAC2g5/7X2f/////s5NjbiDEAAAABAAAAAAAAAAAAAAAQhahXKzA2Z7wpAAAAAAEAAAAAAA==\",\"dtype\":\"uint8\",\"shape\":[28,28]}]},\"selected\":{\"id\":\"1509\",\"type\":\"Selection\"},\"selection_policy\":{\"id\":\"1510\",\"type\":\"UnionRenderers\"}},\"id\":\"1077\",\"type\":\"ColumnDataSource\"},{\"attributes\":{\"ticker\":{\"id\":\"1055\",\"type\":\"BasicTicker\"},\"visible\":false},\"id\":\"1058\",\"type\":\"Grid\"},{\"attributes\":{\"text\":\"Label 0\"},\"id\":\"1044\",\"type\":\"Title\"},{\"attributes\":{\"formatter\":{\"id\":\"1559\",\"type\":\"BasicTickFormatter\"},\"ticker\":{\"id\":\"1301\",\"type\":\"BasicTicker\"},\"visible\":false},\"id\":\"1300\",\"type\":\"LinearAxis\"},{\"attributes\":{},\"id\":\"1301\",\"type\":\"BasicTicker\"},{\"attributes\":{\"callback\":null},\"id\":\"1046\",\"type\":\"DataRange1d\"},{\"attributes\":{\"ticker\":{\"id\":\"1301\",\"type\":\"BasicTicker\"},\"visible\":false},\"id\":\"1304\",\"type\":\"Grid\"},{\"attributes\":{},\"id\":\"1055\",\"type\":\"BasicTicker\"},{\"attributes\":{\"formatter\":{\"id\":\"1561\",\"type\":\"BasicTickFormatter\"},\"ticker\":{\"id\":\"1306\",\"type\":\"BasicTicker\"},\"visible\":false},\"id\":\"1305\",\"type\":\"LinearAxis\"},{\"attributes\":{\"formatter\":{\"id\":\"1505\",\"type\":\"BasicTickFormatter\"},\"ticker\":{\"id\":\"1055\",\"type\":\"BasicTicker\"},\"visible\":false},\"id\":\"1054\",\"type\":\"LinearAxis\"},{\"attributes\":{},\"id\":\"1306\",\"type\":\"BasicTicker\"},{\"attributes\":{},\"id\":\"1050\",\"type\":\"LinearScale\"},{\"attributes\":{\"dimension\":1,\"ticker\":{\"id\":\"1306\",\"type\":\"BasicTicker\"},\"visible\":false},\"id\":\"1309\",\"type\":\"Grid\"},{\"attributes\":{\"callback\":null},\"id\":\"1048\",\"type\":\"DataRange1d\"},{\"attributes\":{\"color_mapper\":{\"id\":\"1325\",\"type\":\"LinearColorMapper\"},\"dh\":{\"units\":\"data\",\"value\":1},\"dw\":{\"units\":\"data\",\"value\":1},\"image\":{\"field\":\"image\"},\"x\":{\"value\":0},\"y\":{\"value\":0}},\"id\":\"1324\",\"type\":\"Image\"},{\"attributes\":{\"callback\":null,\"data\":{\"image\":[{\"__ndarray__\":\"AABG5+1SAAMAAAAAAAAAAAAAAAQANE1fAQAAAAAASPf2ZwAEAAAAAAAAAAAAAAALAL//6gAAAAAAALTr+5cAAQACBAQFBQYEAgAAAACj8uQeAAAAAHf+3vTeAAAAAAAAAAAAAAAAAAAA/O7s/xAAAACy9uXu/wAAAAAOFBUWFQgAAAAAAP/p4v+sAAAAZf/h7f9RyPj75Onq7Ozl/+/iiAD/6eDyrQAAABf/5O//wP/w7ufm5ebl5uzu+/VR/+vV/6cAAAAA/+T09+Dd4ujp5+Xk6OTk5eDi6P/y2v9fAAAAAP/m9vTh5d3m5uTm4u7n4OHe6OLq+OD/FAAAAAD/5/rv3ePd4+bm5+Xr4+Hh5ezg7frh/1MAAAAA/+v36unr4ODk5ujo6eLj3+fq0Oz46P9YAAAAAPzv89339ebg5Obp6enj5eDs5tjt8uv/GwAAAADf8O/l/O3t3ubn5+Xn5efe7uTa8+jz9QAAAAAB/+rs5vjh893m5+fl5+Xn3+3l+ezh+tQAAAAAAK/04+/z2vXg5Ofn5efl59/s3ufs5f9aAAAAAACn+uH+7Nvx5ePn5+Xn5Obf6t3x8uP/ZgAAAAAAN/Pl++Xh6ubj5uTj5OXj5Ond8ffl/WUAAAAAAAD/7fLj4efk5Obl5OXm4+bi5vb15vgzAAAAAAAA4/D24OTl5OPk4+Lj5eHl3eX56uf1LwAAAAAAAOf05d/o5OTm5+Xk5ufk6OPd/+Lw4QAAAAAAAACM/uTm6Onq6+vr6+vq6Ono3P/l7+oAAAAAAAEAWPbe6efq6+vr6+vs7Orq6N/+3++xAAAAAAAEABj/5+bq6+zr6+vr7O3s7urf7+v/AAADAAAAAAAASfbh6e3v7Ovr6ejq7O3v5OL+UQAAAAAAAAABAACw/+vm5u/q7ff16+zp6uT7xwAAAQAAAAAAAAIAAKXp++/m8ObN3e7m8fv0zgAAAgAAAAAAAAAAAgAAAG/4/P////////F+HAAAAgAAAAAAAAAAAAAAAAAAAFUhAAAAHD8AAAAAAQEAAAAAAA==\",\"dtype\":\"uint8\",\"shape\":[28,28]}]},\"selected\":{\"id\":\"1563\",\"type\":\"Selection\"},\"selection_policy\":{\"id\":\"1564\",\"type\":\"UnionRenderers\"}},\"id\":\"1323\",\"type\":\"ColumnDataSource\"},{\"attributes\":{\"color_mapper\":{\"id\":\"1327\",\"type\":\"LinearColorMapper\"},\"dh\":{\"units\":\"data\",\"value\":1},\"dw\":{\"units\":\"data\",\"value\":1},\"image\":{\"field\":\"image\"},\"x\":{\"value\":0},\"y\":{\"value\":0}},\"id\":\"1326\",\"type\":\"Image\"},{\"attributes\":{},\"id\":\"1310\",\"type\":\"PanTool\"},{\"attributes\":{},\"id\":\"1311\",\"type\":\"WheelZoomTool\"},{\"attributes\":{\"overlay\":{\"id\":\"1562\",\"type\":\"BoxAnnotation\"}},\"id\":\"1312\",\"type\":\"BoxZoomTool\"},{\"attributes\":{},\"id\":\"1313\",\"type\":\"SaveTool\"},{\"attributes\":{},\"id\":\"1314\",\"type\":\"ResetTool\"},{\"attributes\":{},\"id\":\"1315\",\"type\":\"HelpTool\"},{\"attributes\":{\"active_drag\":\"auto\",\"active_inspect\":\"auto\",\"active_multi\":null,\"active_scroll\":\"auto\",\"active_tap\":\"auto\",\"tools\":[{\"id\":\"1310\",\"type\":\"PanTool\"},{\"id\":\"1311\",\"type\":\"WheelZoomTool\"},{\"id\":\"1312\",\"type\":\"BoxZoomTool\"},{\"id\":\"1313\",\"type\":\"SaveTool\"},{\"id\":\"1314\",\"type\":\"ResetTool\"},{\"id\":\"1315\",\"type\":\"HelpTool\"}]},\"id\":\"1316\",\"type\":\"Toolbar\"},{\"attributes\":{\"palette\":[\"#000000\",\"#252525\",\"#525252\",\"#737373\",\"#969696\",\"#bdbdbd\",\"#d9d9d9\",\"#f0f0f0\",\"#ffffff\"]},\"id\":\"1327\",\"type\":\"LinearColorMapper\"},{\"attributes\":{\"data_source\":{\"id\":\"1323\",\"type\":\"ColumnDataSource\"},\"glyph\":{\"id\":\"1324\",\"type\":\"Image\"},\"hover_glyph\":null,\"muted_glyph\":null,\"nonselection_glyph\":{\"id\":\"1326\",\"type\":\"Image\"},\"selection_glyph\":null,\"view\":{\"id\":\"1329\",\"type\":\"CDSView\"}},\"id\":\"1328\",\"type\":\"GlyphRenderer\"},{\"attributes\":{\"source\":{\"id\":\"1323\",\"type\":\"ColumnDataSource\"}},\"id\":\"1329\",\"type\":\"CDSView\"},{\"attributes\":{\"below\":[{\"id\":\"1341\",\"type\":\"LinearAxis\"}],\"center\":[{\"id\":\"1345\",\"type\":\"Grid\"},{\"id\":\"1350\",\"type\":\"Grid\"}],\"left\":[{\"id\":\"1346\",\"type\":\"LinearAxis\"}],\"plot_height\":150,\"plot_width\":150,\"renderers\":[{\"id\":\"1369\",\"type\":\"GlyphRenderer\"}],\"title\":{\"id\":\"1331\",\"type\":\"Title\"},\"toolbar\":{\"id\":\"1357\",\"type\":\"Toolbar\"},\"toolbar_location\":null,\"x_range\":{\"id\":\"1333\",\"type\":\"DataRange1d\"},\"x_scale\":{\"id\":\"1337\",\"type\":\"LinearScale\"},\"y_range\":{\"id\":\"1335\",\"type\":\"DataRange1d\"},\"y_scale\":{\"id\":\"1339\",\"type\":\"LinearScale\"}},\"id\":\"1330\",\"subtype\":\"Figure\",\"type\":\"Plot\"},{\"attributes\":{\"formatter\":{\"id\":\"1507\",\"type\":\"BasicTickFormatter\"},\"ticker\":{\"id\":\"1060\",\"type\":\"BasicTicker\"},\"visible\":false},\"id\":\"1059\",\"type\":\"LinearAxis\"},{\"attributes\":{\"callback\":null,\"data\":{\"image\":[{\"__ndarray__\":\"AAAAAAAAAAAAAAAAAAAAAAAAAAAAAAAAAAAAAAAAgwAAAAAAAAAAAAAAAAAAAAAAAAAAAAAAAAAAAO4gAAAAAAAAAAAAAB13tKZ9Xl1BLxMAAAAAAAB9KQAAAAAAAAAHACSxwZRabJqSioyeo5WAYAAAxDIAAAAAAAAAAAa+7EYAFsz1rwEJEBstOkAAAMswAAEAAAAAAACO/X4AAABa0rcBAAAAAAAAAAC6LQABAAAAAAAt4bUAAAAAAAAAAAABAAAAAQAAki8AAQMAAAAAw7sbAAAAAApJVzoAAAAAAAAAAHQwAAQEAAAAr5eBAAAAAAAAQCcQAAEAAAAAAABgLQAAAAAAoIGbAAAAAQAAAAAAAAAAAAAAAAAGTC8AAAAAqXKbGwADAAAAAAAAAQEAAAAAAAAAEEkwAAABq460KQAKBAMAAAAAAAAAAAMAAAAAACcnUk90jqSgIAAAAAAAAAAAAAAAAAAAAAAAAAAtDU1gIYl3AAADAAAAAAAAAAAAAAAAAAAAAAAGY1dPAy0wAAAAAAAAAAAAAAAAAAAAAAAAAAAAI10Qq5JbAAADAwAAAAAAAAAAAAABAAAAAAAAAC06HXfDbwAAAQADAAAAAAAAAAAAAAAAAAAAAAA2RiMwWGQAAQAAAwkDAQMAAAAAAAAAAAAAAAAAMjohL1JPAAEAAAEJAAAAAAAAAAAAAAAAAAAAABMzaj1jNgAAAAAAAD6aPg0AAAEAAAAAAAAAAAAALMlwVSMAAAAAR/+YWD0WAAEDAAAAAAAAAAAAAABnb2cNABYAkqw7HixECgAAAAAAAAAAAAAAAAAAJCppNQEzcqSSni0pAAAAAAEAAAAAAAAAAAAAAAAwjsDlt9FjJl4AAAAAAAABAAAAAAAAAAAAAAfBwJJtQAAAAAAAAAADAQAAAAAAAAAAAAAAAAABJwA6AAAAAAEBAAABAwEAAAAAAAAAAAAAAAAAAAAAAAAAAAAAAAAAAAAAAAAAAAAAAAAAAAAAAAAAAAAAAAAAAAAAAAAAAAAAAAAAAAAAAAAAAA==\",\"dtype\":\"uint8\",\"shape\":[28,28]}]},\"selected\":{\"id\":\"1572\",\"type\":\"Selection\"},\"selection_policy\":{\"id\":\"1573\",\"type\":\"UnionRenderers\"}},\"id\":\"1364\",\"type\":\"ColumnDataSource\"},{\"attributes\":{\"text\":\"Label 5\"},\"id\":\"1331\",\"type\":\"Title\"},{\"attributes\":{\"callback\":null},\"id\":\"1333\",\"type\":\"DataRange1d\"},{\"attributes\":{\"callback\":null},\"id\":\"1335\",\"type\":\"DataRange1d\"},{\"attributes\":{},\"id\":\"1337\",\"type\":\"LinearScale\"},{\"attributes\":{},\"id\":\"1339\",\"type\":\"LinearScale\"},{\"attributes\":{\"formatter\":{\"id\":\"1568\",\"type\":\"BasicTickFormatter\"},\"ticker\":{\"id\":\"1342\",\"type\":\"BasicTicker\"},\"visible\":false},\"id\":\"1341\",\"type\":\"LinearAxis\"},{\"attributes\":{},\"id\":\"1342\",\"type\":\"BasicTicker\"},{\"attributes\":{\"ticker\":{\"id\":\"1342\",\"type\":\"BasicTicker\"},\"visible\":false},\"id\":\"1345\",\"type\":\"Grid\"},{\"attributes\":{\"formatter\":{\"id\":\"1570\",\"type\":\"BasicTickFormatter\"},\"ticker\":{\"id\":\"1347\",\"type\":\"BasicTicker\"},\"visible\":false},\"id\":\"1346\",\"type\":\"LinearAxis\"},{\"attributes\":{},\"id\":\"1347\",\"type\":\"BasicTicker\"},{\"attributes\":{\"dimension\":1,\"ticker\":{\"id\":\"1347\",\"type\":\"BasicTicker\"},\"visible\":false},\"id\":\"1350\",\"type\":\"Grid\"},{\"attributes\":{\"palette\":[\"#000000\",\"#252525\",\"#525252\",\"#737373\",\"#969696\",\"#bdbdbd\",\"#d9d9d9\",\"#f0f0f0\",\"#ffffff\"]},\"id\":\"1366\",\"type\":\"LinearColorMapper\"},{\"attributes\":{\"color_mapper\":{\"id\":\"1366\",\"type\":\"LinearColorMapper\"},\"dh\":{\"units\":\"data\",\"value\":1},\"dw\":{\"units\":\"data\",\"value\":1},\"image\":{\"field\":\"image\"},\"x\":{\"value\":0},\"y\":{\"value\":0}},\"id\":\"1365\",\"type\":\"Image\"},{\"attributes\":{\"color_mapper\":{\"id\":\"1368\",\"type\":\"LinearColorMapper\"},\"dh\":{\"units\":\"data\",\"value\":1},\"dw\":{\"units\":\"data\",\"value\":1},\"image\":{\"field\":\"image\"},\"x\":{\"value\":0},\"y\":{\"value\":0}},\"id\":\"1367\",\"type\":\"Image\"},{\"attributes\":{},\"id\":\"1351\",\"type\":\"PanTool\"},{\"attributes\":{},\"id\":\"1352\",\"type\":\"WheelZoomTool\"},{\"attributes\":{\"overlay\":{\"id\":\"1571\",\"type\":\"BoxAnnotation\"}},\"id\":\"1353\",\"type\":\"BoxZoomTool\"},{\"attributes\":{},\"id\":\"1354\",\"type\":\"SaveTool\"},{\"attributes\":{},\"id\":\"1355\",\"type\":\"ResetTool\"},{\"attributes\":{},\"id\":\"1356\",\"type\":\"HelpTool\"},{\"attributes\":{\"active_drag\":\"auto\",\"active_inspect\":\"auto\",\"active_multi\":null,\"active_scroll\":\"auto\",\"active_tap\":\"auto\",\"tools\":[{\"id\":\"1351\",\"type\":\"PanTool\"},{\"id\":\"1352\",\"type\":\"WheelZoomTool\"},{\"id\":\"1353\",\"type\":\"BoxZoomTool\"},{\"id\":\"1354\",\"type\":\"SaveTool\"},{\"id\":\"1355\",\"type\":\"ResetTool\"},{\"id\":\"1356\",\"type\":\"HelpTool\"}]},\"id\":\"1357\",\"type\":\"Toolbar\"},{\"attributes\":{\"palette\":[\"#000000\",\"#252525\",\"#525252\",\"#737373\",\"#969696\",\"#bdbdbd\",\"#d9d9d9\",\"#f0f0f0\",\"#ffffff\"]},\"id\":\"1368\",\"type\":\"LinearColorMapper\"},{\"attributes\":{\"callback\":null},\"id\":\"1089\",\"type\":\"DataRange1d\"},{\"attributes\":{\"data_source\":{\"id\":\"1364\",\"type\":\"ColumnDataSource\"},\"glyph\":{\"id\":\"1365\",\"type\":\"Image\"},\"hover_glyph\":null,\"muted_glyph\":null,\"nonselection_glyph\":{\"id\":\"1367\",\"type\":\"Image\"},\"selection_glyph\":null,\"view\":{\"id\":\"1370\",\"type\":\"CDSView\"}},\"id\":\"1369\",\"type\":\"GlyphRenderer\"},{\"attributes\":{\"callback\":null},\"id\":\"1087\",\"type\":\"DataRange1d\"},{\"attributes\":{\"text\":\"Label 0\"},\"id\":\"1085\",\"type\":\"Title\"},{\"attributes\":{\"source\":{\"id\":\"1364\",\"type\":\"ColumnDataSource\"}},\"id\":\"1370\",\"type\":\"CDSView\"},{\"attributes\":{\"below\":[{\"id\":\"1382\",\"type\":\"LinearAxis\"}],\"center\":[{\"id\":\"1386\",\"type\":\"Grid\"},{\"id\":\"1391\",\"type\":\"Grid\"}],\"left\":[{\"id\":\"1387\",\"type\":\"LinearAxis\"}],\"plot_height\":150,\"plot_width\":150,\"renderers\":[{\"id\":\"1410\",\"type\":\"GlyphRenderer\"}],\"title\":{\"id\":\"1372\",\"type\":\"Title\"},\"toolbar\":{\"id\":\"1398\",\"type\":\"Toolbar\"},\"toolbar_location\":null,\"x_range\":{\"id\":\"1374\",\"type\":\"DataRange1d\"},\"x_scale\":{\"id\":\"1378\",\"type\":\"LinearScale\"},\"y_range\":{\"id\":\"1376\",\"type\":\"DataRange1d\"},\"y_scale\":{\"id\":\"1380\",\"type\":\"LinearScale\"}},\"id\":\"1371\",\"subtype\":\"Figure\",\"type\":\"Plot\"},{\"attributes\":{},\"id\":\"1091\",\"type\":\"LinearScale\"},{\"attributes\":{},\"id\":\"1093\",\"type\":\"LinearScale\"},{\"attributes\":{\"palette\":[\"#000000\",\"#252525\",\"#525252\",\"#737373\",\"#969696\",\"#bdbdbd\",\"#d9d9d9\",\"#f0f0f0\",\"#ffffff\"]},\"id\":\"1407\",\"type\":\"LinearColorMapper\"},{\"attributes\":{\"formatter\":{\"id\":\"1514\",\"type\":\"BasicTickFormatter\"},\"ticker\":{\"id\":\"1096\",\"type\":\"BasicTicker\"},\"visible\":false},\"id\":\"1095\",\"type\":\"LinearAxis\"},{\"attributes\":{\"text\":\"Label 5\"},\"id\":\"1372\",\"type\":\"Title\"},{\"attributes\":{\"callback\":null},\"id\":\"1374\",\"type\":\"DataRange1d\"},{\"attributes\":{},\"id\":\"1096\",\"type\":\"BasicTicker\"},{\"attributes\":{\"ticker\":{\"id\":\"1096\",\"type\":\"BasicTicker\"},\"visible\":false},\"id\":\"1099\",\"type\":\"Grid\"},{\"attributes\":{\"callback\":null},\"id\":\"1376\",\"type\":\"DataRange1d\"},{\"attributes\":{\"formatter\":{\"id\":\"1516\",\"type\":\"BasicTickFormatter\"},\"ticker\":{\"id\":\"1101\",\"type\":\"BasicTicker\"},\"visible\":false},\"id\":\"1100\",\"type\":\"LinearAxis\"},{\"attributes\":{},\"id\":\"1378\",\"type\":\"LinearScale\"},{\"attributes\":{},\"id\":\"1380\",\"type\":\"LinearScale\"},{\"attributes\":{},\"id\":\"1101\",\"type\":\"BasicTicker\"},{\"attributes\":{\"dimension\":1,\"ticker\":{\"id\":\"1101\",\"type\":\"BasicTicker\"},\"visible\":false},\"id\":\"1104\",\"type\":\"Grid\"},{\"attributes\":{\"formatter\":{\"id\":\"1577\",\"type\":\"BasicTickFormatter\"},\"ticker\":{\"id\":\"1383\",\"type\":\"BasicTicker\"},\"visible\":false},\"id\":\"1382\",\"type\":\"LinearAxis\"},{\"attributes\":{},\"id\":\"1383\",\"type\":\"BasicTicker\"},{\"attributes\":{\"palette\":[\"#000000\",\"#252525\",\"#525252\",\"#737373\",\"#969696\",\"#bdbdbd\",\"#d9d9d9\",\"#f0f0f0\",\"#ffffff\"]},\"id\":\"1120\",\"type\":\"LinearColorMapper\"},{\"attributes\":{\"ticker\":{\"id\":\"1383\",\"type\":\"BasicTicker\"},\"visible\":false},\"id\":\"1386\",\"type\":\"Grid\"},{\"attributes\":{\"color_mapper\":{\"id\":\"1120\",\"type\":\"LinearColorMapper\"},\"dh\":{\"units\":\"data\",\"value\":1},\"dw\":{\"units\":\"data\",\"value\":1},\"image\":{\"field\":\"image\"},\"x\":{\"value\":0},\"y\":{\"value\":0}},\"id\":\"1119\",\"type\":\"Image\"},{\"attributes\":{\"formatter\":{\"id\":\"1579\",\"type\":\"BasicTickFormatter\"},\"ticker\":{\"id\":\"1388\",\"type\":\"BasicTicker\"},\"visible\":false},\"id\":\"1387\",\"type\":\"LinearAxis\"},{\"attributes\":{},\"id\":\"1105\",\"type\":\"PanTool\"},{\"attributes\":{},\"id\":\"1388\",\"type\":\"BasicTicker\"},{\"attributes\":{},\"id\":\"1106\",\"type\":\"WheelZoomTool\"},{\"attributes\":{\"dimension\":1,\"ticker\":{\"id\":\"1388\",\"type\":\"BasicTicker\"},\"visible\":false},\"id\":\"1391\",\"type\":\"Grid\"},{\"attributes\":{\"overlay\":{\"id\":\"1517\",\"type\":\"BoxAnnotation\"}},\"id\":\"1107\",\"type\":\"BoxZoomTool\"},{\"attributes\":{},\"id\":\"1108\",\"type\":\"SaveTool\"},{\"attributes\":{\"color_mapper\":{\"id\":\"1407\",\"type\":\"LinearColorMapper\"},\"dh\":{\"units\":\"data\",\"value\":1},\"dw\":{\"units\":\"data\",\"value\":1},\"image\":{\"field\":\"image\"},\"x\":{\"value\":0},\"y\":{\"value\":0}},\"id\":\"1406\",\"type\":\"Image\"},{\"attributes\":{},\"id\":\"1109\",\"type\":\"ResetTool\"},{\"attributes\":{\"callback\":null,\"data\":{\"image\":[{\"__ndarray__\":\"AAAAAAAAAAAAAAAAAAAAAAAAAAAAAAAAAAAAAAADAB1EAAEAAAAAAAEAAJiztKKHWSYAAAAAAAAACQCgugAIAAAAAAIAAML//////////8pIAAAAAAoAj4AACgAAAAACAEH16e/w6+bf5fH9/P8tAAAIAKV4AAkAAAABAADP5ubt8/Lv6PTy5eD9pQAAAAC8aQACAAAAAgAt6er///Tz6/Te2+3w8MUAAgAAzFkAAgAAAAAArfKvJor//P/k0/Pt09/5YAMAANpAAAIAAAAAE++xAAAA3dC9xtj/zwAIXD4CAADkMQACAAAAAJHEAAAAAE3u2+nn/7UAAAAAAgA67hkAAgAJACPZHQABAAAA2fHQ0OiEAAQGBQEAdvAIAAAAAADDhAAIAAIAABWKKAAAAAABAAAAAJntCgACAACfrQAAAAEAAAAAAAAAAAABAAEAAADK4wYAAAC5zAAAAgABAAAAAgQEAwEAAAAAAAAU6eAAAADs+gEAAQQAAQAAAAAAAAAAAAAAAAAAae7mZVf/0gAAAAAAAQAAAAAAAAAAAAAAAAAAAK7j6P7/5dTRAAABAgEAAAEAAAAAAAAAAAAAABnu3d0vS8zG7QAAAgAAAAAAAAAAAAAAAAAAAACkvyoAAAnbt/9MAAQAAAEBAAAAAAAAAAAAAAAAEwAAAAAAtrX8qgAAAAUCAAAAAAAAAAAAAAAAAAAEAwEDAHfG8+sAAAAAABMAAAAAAAAAAAAAAAADAAABABrSzcex8cbhtsOzIwAFAAAAAAAAAAAAAAAAAQAW2criioZvOykXAAAAAgAAAAAAAAAAAAAAAAEASurn9B0AAAAAAAAAAAAAAAAAAAAAAAAAAAEAG9fn7D4AAgAJBQMDAAEBAAAAAAAAAAAAAAAGALD/2S0ABQAAAQEAAAEAAAEAAAAAAAAAAAAABwAypAAAAAAAAAABAQAAAAAAAAAAAAAAAAAAAAAAAAAAAAAAAAAAAAAAAAAAAAAAAAAAAAAAAAAAAAAAAAAAAAAAAAAAAAAAAAAAAAAAAAAAAA==\",\"dtype\":\"uint8\",\"shape\":[28,28]}]},\"selected\":{\"id\":\"1581\",\"type\":\"Selection\"},\"selection_policy\":{\"id\":\"1582\",\"type\":\"UnionRenderers\"}},\"id\":\"1405\",\"type\":\"ColumnDataSource\"},{\"attributes\":{\"data_source\":{\"id\":\"1446\",\"type\":\"ColumnDataSource\"},\"glyph\":{\"id\":\"1447\",\"type\":\"Image\"},\"hover_glyph\":null,\"muted_glyph\":null,\"nonselection_glyph\":{\"id\":\"1449\",\"type\":\"Image\"},\"selection_glyph\":null,\"view\":{\"id\":\"1452\",\"type\":\"CDSView\"}},\"id\":\"1451\",\"type\":\"GlyphRenderer\"},{\"attributes\":{},\"id\":\"1509\",\"type\":\"Selection\"},{\"attributes\":{\"palette\":[\"#000000\",\"#252525\",\"#525252\",\"#737373\",\"#969696\",\"#bdbdbd\",\"#d9d9d9\",\"#f0f0f0\",\"#ffffff\"]},\"id\":\"1243\",\"type\":\"LinearColorMapper\"},{\"attributes\":{\"source\":{\"id\":\"1446\",\"type\":\"ColumnDataSource\"}},\"id\":\"1452\",\"type\":\"CDSView\"},{\"attributes\":{\"color_mapper\":{\"id\":\"1243\",\"type\":\"LinearColorMapper\"},\"dh\":{\"units\":\"data\",\"value\":1},\"dw\":{\"units\":\"data\",\"value\":1},\"image\":{\"field\":\"image\"},\"x\":{\"value\":0},\"y\":{\"value\":0}},\"id\":\"1242\",\"type\":\"Image\"},{\"attributes\":{},\"id\":\"1510\",\"type\":\"UnionRenderers\"},{\"attributes\":{\"below\":[{\"id\":\"1464\",\"type\":\"LinearAxis\"}],\"center\":[{\"id\":\"1468\",\"type\":\"Grid\"},{\"id\":\"1473\",\"type\":\"Grid\"}],\"left\":[{\"id\":\"1469\",\"type\":\"LinearAxis\"}],\"plot_height\":150,\"plot_width\":150,\"renderers\":[{\"id\":\"1492\",\"type\":\"GlyphRenderer\"}],\"title\":{\"id\":\"1454\",\"type\":\"Title\"},\"toolbar\":{\"id\":\"1480\",\"type\":\"Toolbar\"},\"toolbar_location\":null,\"x_range\":{\"id\":\"1456\",\"type\":\"DataRange1d\"},\"x_scale\":{\"id\":\"1460\",\"type\":\"LinearScale\"},\"y_range\":{\"id\":\"1458\",\"type\":\"DataRange1d\"},\"y_scale\":{\"id\":\"1462\",\"type\":\"LinearScale\"}},\"id\":\"1453\",\"subtype\":\"Figure\",\"type\":\"Plot\"},{\"attributes\":{\"dimension\":1,\"ticker\":{\"id\":\"1060\",\"type\":\"BasicTicker\"},\"visible\":false},\"id\":\"1063\",\"type\":\"Grid\"},{\"attributes\":{},\"id\":\"1514\",\"type\":\"BasicTickFormatter\"},{\"attributes\":{\"color_mapper\":{\"id\":\"1245\",\"type\":\"LinearColorMapper\"},\"dh\":{\"units\":\"data\",\"value\":1},\"dw\":{\"units\":\"data\",\"value\":1},\"image\":{\"field\":\"image\"},\"x\":{\"value\":0},\"y\":{\"value\":0}},\"id\":\"1244\",\"type\":\"Image\"},{\"attributes\":{\"palette\":[\"#000000\",\"#252525\",\"#525252\",\"#737373\",\"#969696\",\"#bdbdbd\",\"#d9d9d9\",\"#f0f0f0\",\"#ffffff\"]},\"id\":\"1079\",\"type\":\"LinearColorMapper\"},{\"attributes\":{},\"id\":\"1065\",\"type\":\"WheelZoomTool\"},{\"attributes\":{},\"id\":\"1228\",\"type\":\"PanTool\"},{\"attributes\":{},\"id\":\"1516\",\"type\":\"BasicTickFormatter\"},{\"attributes\":{\"palette\":[\"#000000\",\"#252525\",\"#525252\",\"#737373\",\"#969696\",\"#bdbdbd\",\"#d9d9d9\",\"#f0f0f0\",\"#ffffff\"]},\"id\":\"1489\",\"type\":\"LinearColorMapper\"},{\"attributes\":{},\"id\":\"1229\",\"type\":\"WheelZoomTool\"},{\"attributes\":{\"text\":\"Label 9\"},\"id\":\"1454\",\"type\":\"Title\"},{\"attributes\":{\"bottom_units\":\"screen\",\"fill_alpha\":{\"value\":0.5},\"fill_color\":{\"value\":\"lightgrey\"},\"left_units\":\"screen\",\"level\":\"overlay\",\"line_alpha\":{\"value\":1.0},\"line_color\":{\"value\":\"black\"},\"line_dash\":[4,4],\"line_width\":{\"value\":2},\"render_mode\":\"css\",\"right_units\":\"screen\",\"top_units\":\"screen\"},\"id\":\"1517\",\"type\":\"BoxAnnotation\"},{\"attributes\":{},\"id\":\"1064\",\"type\":\"PanTool\"},{\"attributes\":{\"overlay\":{\"id\":\"1544\",\"type\":\"BoxAnnotation\"}},\"id\":\"1230\",\"type\":\"BoxZoomTool\"},{\"attributes\":{\"callback\":null},\"id\":\"1456\",\"type\":\"DataRange1d\"},{\"attributes\":{\"color_mapper\":{\"id\":\"1079\",\"type\":\"LinearColorMapper\"},\"dh\":{\"units\":\"data\",\"value\":1},\"dw\":{\"units\":\"data\",\"value\":1},\"image\":{\"field\":\"image\"},\"x\":{\"value\":0},\"y\":{\"value\":0}},\"id\":\"1078\",\"type\":\"Image\"},{\"attributes\":{},\"id\":\"1518\",\"type\":\"Selection\"},{\"attributes\":{},\"id\":\"1231\",\"type\":\"SaveTool\"},{\"attributes\":{\"callback\":null},\"id\":\"1458\",\"type\":\"DataRange1d\"},{\"attributes\":{\"overlay\":{\"id\":\"1508\",\"type\":\"BoxAnnotation\"}},\"id\":\"1066\",\"type\":\"BoxZoomTool\"},{\"attributes\":{},\"id\":\"1519\",\"type\":\"UnionRenderers\"},{\"attributes\":{},\"id\":\"1069\",\"type\":\"HelpTool\"},{\"attributes\":{},\"id\":\"1232\",\"type\":\"ResetTool\"},{\"attributes\":{},\"id\":\"1460\",\"type\":\"LinearScale\"},{\"attributes\":{},\"id\":\"1523\",\"type\":\"BasicTickFormatter\"},{\"attributes\":{},\"id\":\"1233\",\"type\":\"HelpTool\"},{\"attributes\":{},\"id\":\"1462\",\"type\":\"LinearScale\"},{\"attributes\":{},\"id\":\"1525\",\"type\":\"BasicTickFormatter\"},{\"attributes\":{},\"id\":\"1067\",\"type\":\"SaveTool\"},{\"attributes\":{\"active_drag\":\"auto\",\"active_inspect\":\"auto\",\"active_multi\":null,\"active_scroll\":\"auto\",\"active_tap\":\"auto\",\"tools\":[{\"id\":\"1228\",\"type\":\"PanTool\"},{\"id\":\"1229\",\"type\":\"WheelZoomTool\"},{\"id\":\"1230\",\"type\":\"BoxZoomTool\"},{\"id\":\"1231\",\"type\":\"SaveTool\"},{\"id\":\"1232\",\"type\":\"ResetTool\"},{\"id\":\"1233\",\"type\":\"HelpTool\"}]},\"id\":\"1234\",\"type\":\"Toolbar\"},{\"attributes\":{\"formatter\":{\"id\":\"1595\",\"type\":\"BasicTickFormatter\"},\"ticker\":{\"id\":\"1465\",\"type\":\"BasicTicker\"},\"visible\":false},\"id\":\"1464\",\"type\":\"LinearAxis\"},{\"attributes\":{},\"id\":\"1068\",\"type\":\"ResetTool\"},{\"attributes\":{\"bottom_units\":\"screen\",\"fill_alpha\":{\"value\":0.5},\"fill_color\":{\"value\":\"lightgrey\"},\"left_units\":\"screen\",\"level\":\"overlay\",\"line_alpha\":{\"value\":1.0},\"line_color\":{\"value\":\"black\"},\"line_dash\":[4,4],\"line_width\":{\"value\":2},\"render_mode\":\"css\",\"right_units\":\"screen\",\"top_units\":\"screen\"},\"id\":\"1526\",\"type\":\"BoxAnnotation\"},{\"attributes\":{},\"id\":\"1465\",\"type\":\"BasicTicker\"},{\"attributes\":{\"active_drag\":\"auto\",\"active_inspect\":\"auto\",\"active_multi\":null,\"active_scroll\":\"auto\",\"active_tap\":\"auto\",\"tools\":[{\"id\":\"1064\",\"type\":\"PanTool\"},{\"id\":\"1065\",\"type\":\"WheelZoomTool\"},{\"id\":\"1066\",\"type\":\"BoxZoomTool\"},{\"id\":\"1067\",\"type\":\"SaveTool\"},{\"id\":\"1068\",\"type\":\"ResetTool\"},{\"id\":\"1069\",\"type\":\"HelpTool\"}]},\"id\":\"1070\",\"type\":\"Toolbar\"},{\"attributes\":{},\"id\":\"1527\",\"type\":\"Selection\"},{\"attributes\":{\"palette\":[\"#000000\",\"#252525\",\"#525252\",\"#737373\",\"#969696\",\"#bdbdbd\",\"#d9d9d9\",\"#f0f0f0\",\"#ffffff\"]},\"id\":\"1245\",\"type\":\"LinearColorMapper\"},{\"attributes\":{\"ticker\":{\"id\":\"1465\",\"type\":\"BasicTicker\"},\"visible\":false},\"id\":\"1468\",\"type\":\"Grid\"},{\"attributes\":{\"color_mapper\":{\"id\":\"1081\",\"type\":\"LinearColorMapper\"},\"dh\":{\"units\":\"data\",\"value\":1},\"dw\":{\"units\":\"data\",\"value\":1},\"image\":{\"field\":\"image\"},\"x\":{\"value\":0},\"y\":{\"value\":0}},\"id\":\"1080\",\"type\":\"Image\"},{\"attributes\":{},\"id\":\"1528\",\"type\":\"UnionRenderers\"},{\"attributes\":{\"data_source\":{\"id\":\"1241\",\"type\":\"ColumnDataSource\"},\"glyph\":{\"id\":\"1242\",\"type\":\"Image\"},\"hover_glyph\":null,\"muted_glyph\":null,\"nonselection_glyph\":{\"id\":\"1244\",\"type\":\"Image\"},\"selection_glyph\":null,\"view\":{\"id\":\"1247\",\"type\":\"CDSView\"}},\"id\":\"1246\",\"type\":\"GlyphRenderer\"},{\"attributes\":{\"formatter\":{\"id\":\"1597\",\"type\":\"BasicTickFormatter\"},\"ticker\":{\"id\":\"1470\",\"type\":\"BasicTicker\"},\"visible\":false},\"id\":\"1469\",\"type\":\"LinearAxis\"},{\"attributes\":{\"palette\":[\"#000000\",\"#252525\",\"#525252\",\"#737373\",\"#969696\",\"#bdbdbd\",\"#d9d9d9\",\"#f0f0f0\",\"#ffffff\"]},\"id\":\"1081\",\"type\":\"LinearColorMapper\"},{\"attributes\":{},\"id\":\"1532\",\"type\":\"BasicTickFormatter\"},{\"attributes\":{\"data_source\":{\"id\":\"1077\",\"type\":\"ColumnDataSource\"},\"glyph\":{\"id\":\"1078\",\"type\":\"Image\"},\"hover_glyph\":null,\"muted_glyph\":null,\"nonselection_glyph\":{\"id\":\"1080\",\"type\":\"Image\"},\"selection_glyph\":null,\"view\":{\"id\":\"1083\",\"type\":\"CDSView\"}},\"id\":\"1082\",\"type\":\"GlyphRenderer\"},{\"attributes\":{\"source\":{\"id\":\"1241\",\"type\":\"ColumnDataSource\"}},\"id\":\"1247\",\"type\":\"CDSView\"},{\"attributes\":{},\"id\":\"1470\",\"type\":\"BasicTicker\"},{\"attributes\":{},\"id\":\"1534\",\"type\":\"BasicTickFormatter\"},{\"attributes\":{\"below\":[{\"id\":\"1259\",\"type\":\"LinearAxis\"}],\"center\":[{\"id\":\"1263\",\"type\":\"Grid\"},{\"id\":\"1268\",\"type\":\"Grid\"}],\"left\":[{\"id\":\"1264\",\"type\":\"LinearAxis\"}],\"plot_height\":150,\"plot_width\":150,\"renderers\":[{\"id\":\"1287\",\"type\":\"GlyphRenderer\"}],\"title\":{\"id\":\"1249\",\"type\":\"Title\"},\"toolbar\":{\"id\":\"1275\",\"type\":\"Toolbar\"},\"toolbar_location\":null,\"x_range\":{\"id\":\"1251\",\"type\":\"DataRange1d\"},\"x_scale\":{\"id\":\"1255\",\"type\":\"LinearScale\"},\"y_range\":{\"id\":\"1253\",\"type\":\"DataRange1d\"},\"y_scale\":{\"id\":\"1257\",\"type\":\"LinearScale\"}},\"id\":\"1248\",\"subtype\":\"Figure\",\"type\":\"Plot\"},{\"attributes\":{\"dimension\":1,\"ticker\":{\"id\":\"1470\",\"type\":\"BasicTicker\"},\"visible\":false},\"id\":\"1473\",\"type\":\"Grid\"},{\"attributes\":{\"bottom_units\":\"screen\",\"fill_alpha\":{\"value\":0.5},\"fill_color\":{\"value\":\"lightgrey\"},\"left_units\":\"screen\",\"level\":\"overlay\",\"line_alpha\":{\"value\":1.0},\"line_color\":{\"value\":\"black\"},\"line_dash\":[4,4],\"line_width\":{\"value\":2},\"render_mode\":\"css\",\"right_units\":\"screen\",\"top_units\":\"screen\"},\"id\":\"1535\",\"type\":\"BoxAnnotation\"},{\"attributes\":{\"source\":{\"id\":\"1077\",\"type\":\"ColumnDataSource\"}},\"id\":\"1083\",\"type\":\"CDSView\"},{\"attributes\":{\"below\":[{\"id\":\"1095\",\"type\":\"LinearAxis\"}],\"center\":[{\"id\":\"1099\",\"type\":\"Grid\"},{\"id\":\"1104\",\"type\":\"Grid\"}],\"left\":[{\"id\":\"1100\",\"type\":\"LinearAxis\"}],\"plot_height\":150,\"plot_width\":150,\"renderers\":[{\"id\":\"1123\",\"type\":\"GlyphRenderer\"}],\"title\":{\"id\":\"1085\",\"type\":\"Title\"},\"toolbar\":{\"id\":\"1111\",\"type\":\"Toolbar\"},\"toolbar_location\":null,\"x_range\":{\"id\":\"1087\",\"type\":\"DataRange1d\"},\"x_scale\":{\"id\":\"1091\",\"type\":\"LinearScale\"},\"y_range\":{\"id\":\"1089\",\"type\":\"DataRange1d\"},\"y_scale\":{\"id\":\"1093\",\"type\":\"LinearScale\"}},\"id\":\"1084\",\"subtype\":\"Figure\",\"type\":\"Plot\"},{\"attributes\":{\"color_mapper\":{\"id\":\"1489\",\"type\":\"LinearColorMapper\"},\"dh\":{\"units\":\"data\",\"value\":1},\"dw\":{\"units\":\"data\",\"value\":1},\"image\":{\"field\":\"image\"},\"x\":{\"value\":0},\"y\":{\"value\":0}},\"id\":\"1488\",\"type\":\"Image\"},{\"attributes\":{},\"id\":\"1536\",\"type\":\"Selection\"},{\"attributes\":{\"palette\":[\"#000000\",\"#252525\",\"#525252\",\"#737373\",\"#969696\",\"#bdbdbd\",\"#d9d9d9\",\"#f0f0f0\",\"#ffffff\"]},\"id\":\"1284\",\"type\":\"LinearColorMapper\"},{\"attributes\":{\"text\":\"Label 7\"},\"id\":\"1249\",\"type\":\"Title\"},{\"attributes\":{\"callback\":null,\"data\":{\"image\":[{\"__ndarray__\":\"AAAAAAAYKkAAAAMAAAAAACVHWUgmAAAAAAAAAAAABAAT3PX/dQADAAAASPX///////nHexwAAAAAAAcAPv/l/5oAAwAAQP3t+/Hu7PDz8fLlvAkAAAAEAEr76v+fAAcAAP/frNj0+O7x7ubk2fFnAAAABABh++T/qgAAAK3//Obhv/fx6ufn5u/fGQAAAAMAcfzn/7AAAFD/7vTzxuW+8fD+//bzVAAAAAABAIv95/+sAE3/5/Pw9uq40MX/jSEDAAAAAAAAAACa/On/m2P//+n07uvu8rj1dQAAAAAGAQAAAAAAr/jr9s/i59DQ9/765+n3vgAAAgQCAAAAAAAAAMD97fr7w+36yLu+3u/q/jUAAgAAAAAAAAABAADP//D0+/7l2f//39e6388AAAAAAAAAAAAAAAAAx//r/M2+6MnD7fz47/9NAAAAAQAAAAAAAAAAnOn/7v7du9/28s3h7u7jAAACAAAAAAAAAABald/m9e/+46//5fz71NL/gwAAAAAAAAAAAAAAAEzg4P/x/OWv/+Tx9/HK4gcAAwAAAAAAAAAAAAAAoP+f//rYw//i5+PX+nQAAAAAAAAAAAAAAAAAAAD/HOH/ztz41evr3f8uAAIAAAAAAAAAAAAAAAAAsVoA/9Hy8vjz6eTeAAADAAAAAAAAAAAAAAABAACNXf++4c/Uys33mQAAAAAAAAAAAAAAAAAAAAEAALL/x/Lc7dzK9T0AAQAAAAAAAAAAAAAAAAABAACm27/f7ez/8eAAAAQAAAAAAAAAAAAAAAAAAB+F/87/2tu5xua9AAABAAAAAAAAAAAAAAADAD9ygO/+9ur8/dfnfQAAAAAAAAAAAAAAAAAAAgAYLM/8/+Lt9O/n/0gABgEAAAAAAAAAAAAAAAAHACH78vjW6PTs6fQGAAQAAAAAAAAAAAAAAAAACQCS//r/9vPj6ePVAAACAAAAAAAAAAAAAAAAAAMACZbUypv///j0vgAAAQAAAAAAAAAAAAAAAAAAAQAAAAAAG1VdbycAAAAAAAAAAAAAAAAAAA==\",\"dtype\":\"uint8\",\"shape\":[28,28]}]},\"selected\":{\"id\":\"1599\",\"type\":\"Selection\"},\"selection_policy\":{\"id\":\"1600\",\"type\":\"UnionRenderers\"}},\"id\":\"1487\",\"type\":\"ColumnDataSource\"},{\"attributes\":{},\"id\":\"1537\",\"type\":\"UnionRenderers\"},{\"attributes\":{\"callback\":null},\"id\":\"1251\",\"type\":\"DataRange1d\"},{\"attributes\":{\"callback\":null,\"data\":{\"image\":[{\"__ndarray__\":\"AAAAAAAAAAEAAAggODkqEgAAAAEAAAAAAAAAAAAAAAAAAAAACktmamdna2hdSQgAAAAAAAAAAAAAAAAAAAAADmpsV1RUVVlbW2RmCgAAAAAAAAAAAAAAAAAAADVfU1dUWFhVWFdUZEAAAAAAAAAAAAAAAAAAAAA/U1VXWVdXWFVUVV9IAAAAAAAAAAAAAAAAAAAAVFdUV1dXV1dXVFNfLgAAAAAAAAAAAAAAAAAAADFcVFVXV1dXV1VXYCgAAAAAAAAAAAAAAAAAAAAmYVVVV1dXV1dXWGAiAAAAAAAAAAAAAAAAAAAAJWZYWVdXV1dYWFVfHgAAAAAAAAAAAAAAAAAAAB1nW1lXV1dXV1hUXRkAAAAAAAAAAAAAAAAAAAAOZltYWVhYV1VXVWAYAAAAAAAAAAAAAAAAAAAACmNZWVhYWFhVV1VgFQAAAAAAAAAAAAAAAAAAAAhjWFlYWFhXVVhUXxQAAAAAAAAAAAAAAAAAAAACZFlYV1dVV1dXVWAMAAAAAAAAAAAAAAAAAAAAAGdXWFdYV1dXV1dgCQAAAAAAAAAAAAAAAAAAAABnUFlXWFdXV1dXXQoAAAAAAAAAAAAAAAAAAAAIdk1ZVVdXWFdXWGQRAAAAAAAAAAAAAAAAAAAAAGtVWFdXV1hVV1dhAAAAAAAAAAAAAAAAAAAAAABXXFRXV1VYV1RXXwAAAAAAAAAAAAAAAAAAAAAAV2NUWFdVVFVRYV0AAAAAAAAAAAAAAAAAAAAAAFRhVVVVVFFTUGBZAAAAAAAAAAAAAAAAAAAAAABMX1FTU1NTUE1YTQAAAAAAAAAAAAAAAAAAAAAASGBQU0k/Q1BQWUsAAAAAAAAAAAAAAAAAAAAAAElhTDhLbFc7PVlPAAAAAAAAAAAAAAAAAAAAAABIXT2e0eHayVtFWwAAAAAAAAAAAAAAAAAAAAAAUESd4u7/+OHHTFUAAAAAAAAAAAAAAAAAAAAAAFWO3cG6rbO5zdRkDAAAAAAAAAAAAAAAAAAAAAAFWDAAAAAAABh2FgAAAAAAAAAAAA==\",\"dtype\":\"uint8\",\"shape\":[28,28]}]},\"selected\":{\"id\":\"1518\",\"type\":\"Selection\"},\"selection_policy\":{\"id\":\"1519\",\"type\":\"UnionRenderers\"}},\"id\":\"1118\",\"type\":\"ColumnDataSource\"},{\"attributes\":{\"color_mapper\":{\"id\":\"1491\",\"type\":\"LinearColorMapper\"},\"dh\":{\"units\":\"data\",\"value\":1},\"dw\":{\"units\":\"data\",\"value\":1},\"image\":{\"field\":\"image\"},\"x\":{\"value\":0},\"y\":{\"value\":0}},\"id\":\"1490\",\"type\":\"Image\"},{\"attributes\":{},\"id\":\"1474\",\"type\":\"PanTool\"},{\"attributes\":{\"callback\":null},\"id\":\"1253\",\"type\":\"DataRange1d\"},{\"attributes\":{},\"id\":\"1475\",\"type\":\"WheelZoomTool\"},{\"attributes\":{\"callback\":null},\"id\":\"1005\",\"type\":\"DataRange1d\"},{\"attributes\":{},\"id\":\"1543\",\"type\":\"BasicTickFormatter\"},{\"attributes\":{},\"id\":\"1255\",\"type\":\"LinearScale\"},{\"attributes\":{\"overlay\":{\"id\":\"1598\",\"type\":\"BoxAnnotation\"}},\"id\":\"1476\",\"type\":\"BoxZoomTool\"},{\"attributes\":{\"bottom_units\":\"screen\",\"fill_alpha\":{\"value\":0.5},\"fill_color\":{\"value\":\"lightgrey\"},\"left_units\":\"screen\",\"level\":\"overlay\",\"line_alpha\":{\"value\":1.0},\"line_color\":{\"value\":\"black\"},\"line_dash\":[4,4],\"line_width\":{\"value\":2},\"render_mode\":\"css\",\"right_units\":\"screen\",\"top_units\":\"screen\"},\"id\":\"1544\",\"type\":\"BoxAnnotation\"},{\"attributes\":{},\"id\":\"1257\",\"type\":\"LinearScale\"},{\"attributes\":{},\"id\":\"1477\",\"type\":\"SaveTool\"},{\"attributes\":{},\"id\":\"1545\",\"type\":\"Selection\"},{\"attributes\":{\"formatter\":{\"id\":\"1550\",\"type\":\"BasicTickFormatter\"},\"ticker\":{\"id\":\"1260\",\"type\":\"BasicTicker\"},\"visible\":false},\"id\":\"1259\",\"type\":\"LinearAxis\"},{\"attributes\":{},\"id\":\"1478\",\"type\":\"ResetTool\"},{\"attributes\":{},\"id\":\"1546\",\"type\":\"UnionRenderers\"},{\"attributes\":{},\"id\":\"1260\",\"type\":\"BasicTicker\"},{\"attributes\":{},\"id\":\"1479\",\"type\":\"HelpTool\"},{\"attributes\":{},\"id\":\"1550\",\"type\":\"BasicTickFormatter\"},{\"attributes\":{\"ticker\":{\"id\":\"1260\",\"type\":\"BasicTicker\"},\"visible\":false},\"id\":\"1263\",\"type\":\"Grid\"},{\"attributes\":{\"active_drag\":\"auto\",\"active_inspect\":\"auto\",\"active_multi\":null,\"active_scroll\":\"auto\",\"active_tap\":\"auto\",\"tools\":[{\"id\":\"1474\",\"type\":\"PanTool\"},{\"id\":\"1475\",\"type\":\"WheelZoomTool\"},{\"id\":\"1476\",\"type\":\"BoxZoomTool\"},{\"id\":\"1477\",\"type\":\"SaveTool\"},{\"id\":\"1478\",\"type\":\"ResetTool\"},{\"id\":\"1479\",\"type\":\"HelpTool\"}]},\"id\":\"1480\",\"type\":\"Toolbar\"},{\"attributes\":{},\"id\":\"1552\",\"type\":\"BasicTickFormatter\"},{\"attributes\":{\"formatter\":{\"id\":\"1552\",\"type\":\"BasicTickFormatter\"},\"ticker\":{\"id\":\"1265\",\"type\":\"BasicTicker\"},\"visible\":false},\"id\":\"1264\",\"type\":\"LinearAxis\"},{\"attributes\":{\"bottom_units\":\"screen\",\"fill_alpha\":{\"value\":0.5},\"fill_color\":{\"value\":\"lightgrey\"},\"left_units\":\"screen\",\"level\":\"overlay\",\"line_alpha\":{\"value\":1.0},\"line_color\":{\"value\":\"black\"},\"line_dash\":[4,4],\"line_width\":{\"value\":2},\"render_mode\":\"css\",\"right_units\":\"screen\",\"top_units\":\"screen\"},\"id\":\"1553\",\"type\":\"BoxAnnotation\"},{\"attributes\":{},\"id\":\"1265\",\"type\":\"BasicTicker\"},{\"attributes\":{\"palette\":[\"#000000\",\"#252525\",\"#525252\",\"#737373\",\"#969696\",\"#bdbdbd\",\"#d9d9d9\",\"#f0f0f0\",\"#ffffff\"]},\"id\":\"1491\",\"type\":\"LinearColorMapper\"},{\"attributes\":{},\"id\":\"1554\",\"type\":\"Selection\"},{\"attributes\":{\"dimension\":1,\"ticker\":{\"id\":\"1265\",\"type\":\"BasicTicker\"},\"visible\":false},\"id\":\"1268\",\"type\":\"Grid\"},{\"attributes\":{\"data_source\":{\"id\":\"1487\",\"type\":\"ColumnDataSource\"},\"glyph\":{\"id\":\"1488\",\"type\":\"Image\"},\"hover_glyph\":null,\"muted_glyph\":null,\"nonselection_glyph\":{\"id\":\"1490\",\"type\":\"Image\"},\"selection_glyph\":null,\"view\":{\"id\":\"1493\",\"type\":\"CDSView\"}},\"id\":\"1492\",\"type\":\"GlyphRenderer\"},{\"attributes\":{},\"id\":\"1555\",\"type\":\"UnionRenderers\"},{\"attributes\":{\"color_mapper\":{\"id\":\"1284\",\"type\":\"LinearColorMapper\"},\"dh\":{\"units\":\"data\",\"value\":1},\"dw\":{\"units\":\"data\",\"value\":1},\"image\":{\"field\":\"image\"},\"x\":{\"value\":0},\"y\":{\"value\":0}},\"id\":\"1283\",\"type\":\"Image\"},{\"attributes\":{},\"id\":\"1559\",\"type\":\"BasicTickFormatter\"},{\"attributes\":{\"source\":{\"id\":\"1487\",\"type\":\"ColumnDataSource\"}},\"id\":\"1493\",\"type\":\"CDSView\"},{\"attributes\":{},\"id\":\"1496\",\"type\":\"BasicTickFormatter\"},{\"attributes\":{\"callback\":null,\"data\":{\"image\":[{\"__ndarray__\":\"AAAAAAAAAAAAAAAAAAAAAAAAAAAAAAAAAAAAAAAAAAAAAAAAAAAAAAAAAAAAAAAAAAAAAAAAAAAAAAAAAAAAAAAAAAAAAAAAAAAAAAAAAAAAAAAAAAAAAAAAAAAAAAAAAAAAAAAAAAAAAAAAAAAAAAAAAAAAAAAAAAAAAAAAAAAAAAAAAAAAAAAAAAAAAAAAAAAAAAAAAAAAAAAAAAAAAAAAAAAAAAAAAAAAAAAAAAAAAAAAAAAAAAAAAAAAAAAAAAAAAAAaJSglKCMfHiswKykpLConJyIbEQ4JAAAAAAAtS1BdU09UT0I5MSkkHhsTERIPDxQMFhoaGQsAAAEMICAfGRkjLT1MXG97j5GPjoZsTCgHAAALED7RxtfV3d7i6PP///358/Dy3dvZ3NjPvJ1yNw+J2MrR1dTX1dDIyM3Gxb2/u73Ix8PCx8LIx75sicvB1vLm5b++v8XM0tHM1tPLyrvGzMCmnncyACTI5nwAAK/Ox7rBz9XV19fAxNHt1m4AAAAAAAAAFgoCs+DpzrnPw83WzL7C3fCWQwAAAAADAQAAADMj+20WAHTRm8zIw8ni7JUQAAAAAAYAAgAAAAAAs14AAADx1bXD1vmzeiUAAAABAAAAAAAAAAAAAHwGAAAAp9HW34paAAAAAAEAAAAAAAAAAAAAAAAAAAAAAADlagAAAAAABAAAAAAAAAAAAAAAAAAAAQUAAAAAAgAAAAQAAQMAAQEAAAAAAAAAAAAAAAAAAAAAAAAAAAAAAAAAAAAAAAAAAAAAAAAAAAAAAAAAAAAAAAAAAAAAAAAAAAAAAAAAAAAAAAAAAAAAAAAAAAAAAAAAAAAAAAAAAAAAAAAAAAAAAAAAAAAAAAAAAAAAAAAAAAAAAAAAAAAAAAAAAAAAAAAAAAAAAAAAAAAAAAAAAAAAAAAAAAAAAAAAAAAAAAAAAAAAAAAAAAAAAAAAAAAAAAAAAAAAAAAAAAAAAAAAAAAAAAAAAAAAAAAAAAAAAAAAAAAAAAAAAAAAAAAAAAAAAAAAAAAAAAAAAAAAAA==\",\"dtype\":\"uint8\",\"shape\":[28,28]}]},\"selected\":{\"id\":\"1554\",\"type\":\"Selection\"},\"selection_policy\":{\"id\":\"1555\",\"type\":\"UnionRenderers\"}},\"id\":\"1282\",\"type\":\"ColumnDataSource\"},{\"attributes\":{},\"id\":\"1561\",\"type\":\"BasicTickFormatter\"},{\"attributes\":{},\"id\":\"1269\",\"type\":\"PanTool\"},{\"attributes\":{\"bottom_units\":\"screen\",\"fill_alpha\":{\"value\":0.5},\"fill_color\":{\"value\":\"lightgrey\"},\"left_units\":\"screen\",\"level\":\"overlay\",\"line_alpha\":{\"value\":1.0},\"line_color\":{\"value\":\"black\"},\"line_dash\":[4,4],\"line_width\":{\"value\":2},\"render_mode\":\"css\",\"right_units\":\"screen\",\"top_units\":\"screen\"},\"id\":\"1562\",\"type\":\"BoxAnnotation\"},{\"attributes\":{},\"id\":\"1498\",\"type\":\"BasicTickFormatter\"},{\"attributes\":{},\"id\":\"1270\",\"type\":\"WheelZoomTool\"},{\"attributes\":{\"bottom_units\":\"screen\",\"fill_alpha\":{\"value\":0.5},\"fill_color\":{\"value\":\"lightgrey\"},\"left_units\":\"screen\",\"level\":\"overlay\",\"line_alpha\":{\"value\":1.0},\"line_color\":{\"value\":\"black\"},\"line_dash\":[4,4],\"line_width\":{\"value\":2},\"render_mode\":\"css\",\"right_units\":\"screen\",\"top_units\":\"screen\"},\"id\":\"1499\",\"type\":\"BoxAnnotation\"},{\"attributes\":{},\"id\":\"1563\",\"type\":\"Selection\"},{\"attributes\":{\"overlay\":{\"id\":\"1553\",\"type\":\"BoxAnnotation\"}},\"id\":\"1271\",\"type\":\"BoxZoomTool\"},{\"attributes\":{},\"id\":\"1500\",\"type\":\"Selection\"},{\"attributes\":{},\"id\":\"1564\",\"type\":\"UnionRenderers\"},{\"attributes\":{},\"id\":\"1272\",\"type\":\"SaveTool\"},{\"attributes\":{},\"id\":\"1568\",\"type\":\"BasicTickFormatter\"},{\"attributes\":{},\"id\":\"1501\",\"type\":\"UnionRenderers\"},{\"attributes\":{},\"id\":\"1273\",\"type\":\"ResetTool\"},{\"attributes\":{},\"id\":\"1505\",\"type\":\"BasicTickFormatter\"},{\"attributes\":{},\"id\":\"1570\",\"type\":\"BasicTickFormatter\"},{\"attributes\":{},\"id\":\"1274\",\"type\":\"HelpTool\"},{\"attributes\":{\"bottom_units\":\"screen\",\"fill_alpha\":{\"value\":0.5},\"fill_color\":{\"value\":\"lightgrey\"},\"left_units\":\"screen\",\"level\":\"overlay\",\"line_alpha\":{\"value\":1.0},\"line_color\":{\"value\":\"black\"},\"line_dash\":[4,4],\"line_width\":{\"value\":2},\"render_mode\":\"css\",\"right_units\":\"screen\",\"top_units\":\"screen\"},\"id\":\"1571\",\"type\":\"BoxAnnotation\"},{\"attributes\":{},\"id\":\"1507\",\"type\":\"BasicTickFormatter\"},{\"attributes\":{\"bottom_units\":\"screen\",\"fill_alpha\":{\"value\":0.5},\"fill_color\":{\"value\":\"lightgrey\"},\"left_units\":\"screen\",\"level\":\"overlay\",\"line_alpha\":{\"value\":1.0},\"line_color\":{\"value\":\"black\"},\"line_dash\":[4,4],\"line_width\":{\"value\":2},\"render_mode\":\"css\",\"right_units\":\"screen\",\"top_units\":\"screen\"},\"id\":\"1508\",\"type\":\"BoxAnnotation\"},{\"attributes\":{\"color_mapper\":{\"id\":\"1286\",\"type\":\"LinearColorMapper\"},\"dh\":{\"units\":\"data\",\"value\":1},\"dw\":{\"units\":\"data\",\"value\":1},\"image\":{\"field\":\"image\"},\"x\":{\"value\":0},\"y\":{\"value\":0}},\"id\":\"1285\",\"type\":\"Image\"},{\"attributes\":{},\"id\":\"1572\",\"type\":\"Selection\"},{\"attributes\":{\"callback\":null},\"id\":\"1169\",\"type\":\"DataRange1d\"},{\"attributes\":{\"color_mapper\":{\"id\":\"1409\",\"type\":\"LinearColorMapper\"},\"dh\":{\"units\":\"data\",\"value\":1},\"dw\":{\"units\":\"data\",\"value\":1},\"image\":{\"field\":\"image\"},\"x\":{\"value\":0},\"y\":{\"value\":0}},\"id\":\"1408\",\"type\":\"Image\"},{\"attributes\":{},\"id\":\"1110\",\"type\":\"HelpTool\"},{\"attributes\":{},\"id\":\"1392\",\"type\":\"PanTool\"},{\"attributes\":{\"callback\":null},\"id\":\"1171\",\"type\":\"DataRange1d\"},{\"attributes\":{},\"id\":\"1393\",\"type\":\"WheelZoomTool\"},{\"attributes\":{\"active_drag\":\"auto\",\"active_inspect\":\"auto\",\"active_multi\":null,\"active_scroll\":\"auto\",\"active_tap\":\"auto\",\"tools\":[{\"id\":\"1105\",\"type\":\"PanTool\"},{\"id\":\"1106\",\"type\":\"WheelZoomTool\"},{\"id\":\"1107\",\"type\":\"BoxZoomTool\"},{\"id\":\"1108\",\"type\":\"SaveTool\"},{\"id\":\"1109\",\"type\":\"ResetTool\"},{\"id\":\"1110\",\"type\":\"HelpTool\"}]},\"id\":\"1111\",\"type\":\"Toolbar\"},{\"attributes\":{},\"id\":\"1173\",\"type\":\"LinearScale\"},{\"attributes\":{\"color_mapper\":{\"id\":\"1122\",\"type\":\"LinearColorMapper\"},\"dh\":{\"units\":\"data\",\"value\":1},\"dw\":{\"units\":\"data\",\"value\":1},\"image\":{\"field\":\"image\"},\"x\":{\"value\":0},\"y\":{\"value\":0}},\"id\":\"1121\",\"type\":\"Image\"},{\"attributes\":{\"overlay\":{\"id\":\"1580\",\"type\":\"BoxAnnotation\"}},\"id\":\"1394\",\"type\":\"BoxZoomTool\"},{\"attributes\":{},\"id\":\"1175\",\"type\":\"LinearScale\"},{\"attributes\":{\"palette\":[\"#000000\",\"#252525\",\"#525252\",\"#737373\",\"#969696\",\"#bdbdbd\",\"#d9d9d9\",\"#f0f0f0\",\"#ffffff\"]},\"id\":\"1122\",\"type\":\"LinearColorMapper\"},{\"attributes\":{},\"id\":\"1395\",\"type\":\"SaveTool\"},{\"attributes\":{\"formatter\":{\"id\":\"1532\",\"type\":\"BasicTickFormatter\"},\"ticker\":{\"id\":\"1178\",\"type\":\"BasicTicker\"},\"visible\":false},\"id\":\"1177\",\"type\":\"LinearAxis\"},{\"attributes\":{},\"id\":\"1396\",\"type\":\"ResetTool\"},{\"attributes\":{\"data_source\":{\"id\":\"1118\",\"type\":\"ColumnDataSource\"},\"glyph\":{\"id\":\"1119\",\"type\":\"Image\"},\"hover_glyph\":null,\"muted_glyph\":null,\"nonselection_glyph\":{\"id\":\"1121\",\"type\":\"Image\"},\"selection_glyph\":null,\"view\":{\"id\":\"1124\",\"type\":\"CDSView\"}},\"id\":\"1123\",\"type\":\"GlyphRenderer\"},{\"attributes\":{},\"id\":\"1178\",\"type\":\"BasicTicker\"},{\"attributes\":{},\"id\":\"1397\",\"type\":\"HelpTool\"},{\"attributes\":{\"source\":{\"id\":\"1118\",\"type\":\"ColumnDataSource\"}},\"id\":\"1124\",\"type\":\"CDSView\"},{\"attributes\":{\"ticker\":{\"id\":\"1178\",\"type\":\"BasicTicker\"},\"visible\":false},\"id\":\"1181\",\"type\":\"Grid\"},{\"attributes\":{\"below\":[{\"id\":\"1136\",\"type\":\"LinearAxis\"}],\"center\":[{\"id\":\"1140\",\"type\":\"Grid\"},{\"id\":\"1145\",\"type\":\"Grid\"}],\"left\":[{\"id\":\"1141\",\"type\":\"LinearAxis\"}],\"plot_height\":150,\"plot_width\":150,\"renderers\":[{\"id\":\"1164\",\"type\":\"GlyphRenderer\"}],\"title\":{\"id\":\"1126\",\"type\":\"Title\"},\"toolbar\":{\"id\":\"1152\",\"type\":\"Toolbar\"},\"toolbar_location\":null,\"x_range\":{\"id\":\"1128\",\"type\":\"DataRange1d\"},\"x_scale\":{\"id\":\"1132\",\"type\":\"LinearScale\"},\"y_range\":{\"id\":\"1130\",\"type\":\"DataRange1d\"},\"y_scale\":{\"id\":\"1134\",\"type\":\"LinearScale\"}},\"id\":\"1125\",\"subtype\":\"Figure\",\"type\":\"Plot\"},{\"attributes\":{\"active_drag\":\"auto\",\"active_inspect\":\"auto\",\"active_multi\":null,\"active_scroll\":\"auto\",\"active_tap\":\"auto\",\"tools\":[{\"id\":\"1392\",\"type\":\"PanTool\"},{\"id\":\"1393\",\"type\":\"WheelZoomTool\"},{\"id\":\"1394\",\"type\":\"BoxZoomTool\"},{\"id\":\"1395\",\"type\":\"SaveTool\"},{\"id\":\"1396\",\"type\":\"ResetTool\"},{\"id\":\"1397\",\"type\":\"HelpTool\"}]},\"id\":\"1398\",\"type\":\"Toolbar\"},{\"attributes\":{\"formatter\":{\"id\":\"1534\",\"type\":\"BasicTickFormatter\"},\"ticker\":{\"id\":\"1183\",\"type\":\"BasicTicker\"},\"visible\":false},\"id\":\"1182\",\"type\":\"LinearAxis\"},{\"attributes\":{},\"id\":\"1183\",\"type\":\"BasicTicker\"},{\"attributes\":{\"palette\":[\"#000000\",\"#252525\",\"#525252\",\"#737373\",\"#969696\",\"#bdbdbd\",\"#d9d9d9\",\"#f0f0f0\",\"#ffffff\"]},\"id\":\"1161\",\"type\":\"LinearColorMapper\"},{\"attributes\":{\"palette\":[\"#000000\",\"#252525\",\"#525252\",\"#737373\",\"#969696\",\"#bdbdbd\",\"#d9d9d9\",\"#f0f0f0\",\"#ffffff\"]},\"id\":\"1409\",\"type\":\"LinearColorMapper\"},{\"attributes\":{\"text\":\"Label 3\"},\"id\":\"1126\",\"type\":\"Title\"},{\"attributes\":{\"dimension\":1,\"ticker\":{\"id\":\"1183\",\"type\":\"BasicTicker\"},\"visible\":false},\"id\":\"1186\",\"type\":\"Grid\"},{\"attributes\":{\"callback\":null},\"id\":\"1128\",\"type\":\"DataRange1d\"},{\"attributes\":{\"data_source\":{\"id\":\"1405\",\"type\":\"ColumnDataSource\"},\"glyph\":{\"id\":\"1406\",\"type\":\"Image\"},\"hover_glyph\":null,\"muted_glyph\":null,\"nonselection_glyph\":{\"id\":\"1408\",\"type\":\"Image\"},\"selection_glyph\":null,\"view\":{\"id\":\"1411\",\"type\":\"CDSView\"}},\"id\":\"1410\",\"type\":\"GlyphRenderer\"},{\"attributes\":{\"palette\":[\"#000000\",\"#252525\",\"#525252\",\"#737373\",\"#969696\",\"#bdbdbd\",\"#d9d9d9\",\"#f0f0f0\",\"#ffffff\"]},\"id\":\"1202\",\"type\":\"LinearColorMapper\"},{\"attributes\":{\"callback\":null},\"id\":\"1130\",\"type\":\"DataRange1d\"},{\"attributes\":{\"source\":{\"id\":\"1405\",\"type\":\"ColumnDataSource\"}},\"id\":\"1411\",\"type\":\"CDSView\"},{\"attributes\":{\"color_mapper\":{\"id\":\"1202\",\"type\":\"LinearColorMapper\"},\"dh\":{\"units\":\"data\",\"value\":1},\"dw\":{\"units\":\"data\",\"value\":1},\"image\":{\"field\":\"image\"},\"x\":{\"value\":0},\"y\":{\"value\":0}},\"id\":\"1201\",\"type\":\"Image\"},{\"attributes\":{\"below\":[{\"id\":\"1423\",\"type\":\"LinearAxis\"}],\"center\":[{\"id\":\"1427\",\"type\":\"Grid\"},{\"id\":\"1432\",\"type\":\"Grid\"}],\"left\":[{\"id\":\"1428\",\"type\":\"LinearAxis\"}],\"plot_height\":150,\"plot_width\":150,\"renderers\":[{\"id\":\"1451\",\"type\":\"GlyphRenderer\"}],\"title\":{\"id\":\"1413\",\"type\":\"Title\"},\"toolbar\":{\"id\":\"1439\",\"type\":\"Toolbar\"},\"toolbar_location\":null,\"x_range\":{\"id\":\"1415\",\"type\":\"DataRange1d\"},\"x_scale\":{\"id\":\"1419\",\"type\":\"LinearScale\"},\"y_range\":{\"id\":\"1417\",\"type\":\"DataRange1d\"},\"y_scale\":{\"id\":\"1421\",\"type\":\"LinearScale\"}},\"id\":\"1412\",\"subtype\":\"Figure\",\"type\":\"Plot\"},{\"attributes\":{},\"id\":\"1132\",\"type\":\"LinearScale\"},{\"attributes\":{\"color_mapper\":{\"id\":\"1204\",\"type\":\"LinearColorMapper\"},\"dh\":{\"units\":\"data\",\"value\":1},\"dw\":{\"units\":\"data\",\"value\":1},\"image\":{\"field\":\"image\"},\"x\":{\"value\":0},\"y\":{\"value\":0}},\"id\":\"1203\",\"type\":\"Image\"},{\"attributes\":{},\"id\":\"1187\",\"type\":\"PanTool\"},{\"attributes\":{},\"id\":\"1134\",\"type\":\"LinearScale\"},{\"attributes\":{\"palette\":[\"#000000\",\"#252525\",\"#525252\",\"#737373\",\"#969696\",\"#bdbdbd\",\"#d9d9d9\",\"#f0f0f0\",\"#ffffff\"]},\"id\":\"1448\",\"type\":\"LinearColorMapper\"},{\"attributes\":{},\"id\":\"1188\",\"type\":\"WheelZoomTool\"},{\"attributes\":{\"formatter\":{\"id\":\"1523\",\"type\":\"BasicTickFormatter\"},\"ticker\":{\"id\":\"1137\",\"type\":\"BasicTicker\"},\"visible\":false},\"id\":\"1136\",\"type\":\"LinearAxis\"},{\"attributes\":{\"text\":\"Label 0\"},\"id\":\"1413\",\"type\":\"Title\"},{\"attributes\":{\"overlay\":{\"id\":\"1535\",\"type\":\"BoxAnnotation\"}},\"id\":\"1189\",\"type\":\"BoxZoomTool\"},{\"attributes\":{\"callback\":null},\"id\":\"1415\",\"type\":\"DataRange1d\"},{\"attributes\":{},\"id\":\"1137\",\"type\":\"BasicTicker\"},{\"attributes\":{},\"id\":\"1190\",\"type\":\"SaveTool\"},{\"attributes\":{\"ticker\":{\"id\":\"1137\",\"type\":\"BasicTicker\"},\"visible\":false},\"id\":\"1140\",\"type\":\"Grid\"},{\"attributes\":{\"callback\":null},\"id\":\"1417\",\"type\":\"DataRange1d\"},{\"attributes\":{},\"id\":\"1191\",\"type\":\"ResetTool\"},{\"attributes\":{\"formatter\":{\"id\":\"1525\",\"type\":\"BasicTickFormatter\"},\"ticker\":{\"id\":\"1142\",\"type\":\"BasicTicker\"},\"visible\":false},\"id\":\"1141\",\"type\":\"LinearAxis\"},{\"attributes\":{},\"id\":\"1419\",\"type\":\"LinearScale\"},{\"attributes\":{},\"id\":\"1192\",\"type\":\"HelpTool\"},{\"attributes\":{},\"id\":\"1421\",\"type\":\"LinearScale\"},{\"attributes\":{},\"id\":\"1142\",\"type\":\"BasicTicker\"},{\"attributes\":{\"dimension\":1,\"ticker\":{\"id\":\"1142\",\"type\":\"BasicTicker\"},\"visible\":false},\"id\":\"1145\",\"type\":\"Grid\"},{\"attributes\":{\"active_drag\":\"auto\",\"active_inspect\":\"auto\",\"active_multi\":null,\"active_scroll\":\"auto\",\"active_tap\":\"auto\",\"tools\":[{\"id\":\"1187\",\"type\":\"PanTool\"},{\"id\":\"1188\",\"type\":\"WheelZoomTool\"},{\"id\":\"1189\",\"type\":\"BoxZoomTool\"},{\"id\":\"1190\",\"type\":\"SaveTool\"},{\"id\":\"1191\",\"type\":\"ResetTool\"},{\"id\":\"1192\",\"type\":\"HelpTool\"}]},\"id\":\"1193\",\"type\":\"Toolbar\"},{\"attributes\":{\"formatter\":{\"id\":\"1586\",\"type\":\"BasicTickFormatter\"},\"ticker\":{\"id\":\"1424\",\"type\":\"BasicTicker\"},\"visible\":false},\"id\":\"1423\",\"type\":\"LinearAxis\"},{\"attributes\":{},\"id\":\"1424\",\"type\":\"BasicTicker\"},{\"attributes\":{\"color_mapper\":{\"id\":\"1161\",\"type\":\"LinearColorMapper\"},\"dh\":{\"units\":\"data\",\"value\":1},\"dw\":{\"units\":\"data\",\"value\":1},\"image\":{\"field\":\"image\"},\"x\":{\"value\":0},\"y\":{\"value\":0}},\"id\":\"1160\",\"type\":\"Image\"},{\"attributes\":{\"palette\":[\"#000000\",\"#252525\",\"#525252\",\"#737373\",\"#969696\",\"#bdbdbd\",\"#d9d9d9\",\"#f0f0f0\",\"#ffffff\"]},\"id\":\"1204\",\"type\":\"LinearColorMapper\"},{\"attributes\":{\"ticker\":{\"id\":\"1424\",\"type\":\"BasicTicker\"},\"visible\":false},\"id\":\"1427\",\"type\":\"Grid\"},{\"attributes\":{\"callback\":null,\"data\":{\"image\":[{\"__ndarray__\":\"AAAAAAAAAAAAAAAAAAAAIQQjAAIABAAAAAAAAAAAAAAADGSFoFWYU2SONF5wmoxXeZoAAAAAAAAAAAAAAE2Fh5BTxJZgiW5ZZpiMT3d1AAAAAAAAAAAAAABAh4WSMK+BVZ5TVWyQjD6BagAAAAAAAAAAAAAAJ5KHozyvgVOpZE93hX1Rf1UAAAAAAAAAAAAAACN5gbNTh4lNnGhJg3VwZnlCAAAAAAAAAAAAAAASaHWadWyQUZBqS4luZnB3PgAAAAAAAAAAAAAAAFlyjJZojFV/akeMZGBseSEAAAAAAAAAAAAAAABEeXWgaIVXg2o+kGJsZJIAAAAAAAAAAAAAAAAAJYdsg3CHWYNmPolbcmpkAAAAAAAAAAAAAAAAAABwfYODg3WFZFl9anKUHQACAAAAAAAAAAAAAAIAFolLSzI4QjIlMjpZagAAAAAAAAAAAAAAAAAAAAByV3Bianl3YGheey0AAAAAAAAAAAAAAAAAAAAAYJSSkpiJf5SUjKdCAAIAAAAAAAAAAAAAAAAEAEJ7aFNeZltkboGWNAAAAAAAAAAAAAAAAAAABABCh25qVXVsZH+HqzgAAgAAAAAAAAAAAAAAAAQAPIdibGZ3ZGKBh61CAAIAAAAAAAAAAAAAAAAEAECFaHBmanJocIGrYgACAAAAAAAAAAAAAAAAAABbgXJ5Xmhsand/qX0AAAAAAAAAAAAAAAAAAAAAcoF1eWRwZm5wgZx7AAAAAAAAAAAAAAAAAAAAAJB/d251dW53d32JnhkABAAAAAAAAAAAAAAAAE2Of3VwbHJubnuHiZ7dAAAAAAAAAAAAAAAAAA6Wg4x3hYF3f32FmJKFvG4AAAAAAAAAAAAAAACMjH2Dg4OFlJSDiYmOgZKnNgAAAAAAAAAAAABLqX2FiYyMhYd/jpKcoJiMjpYAAAAAAAAAAAAAAIycgZSYnKutr6+SlpiWjKMjAAAAAAAAAAAAAAAAktW6s8Lb3//ovK+3sbpJAAAAAAAAAAAAAAAAAAAAZsLMiTYOQJyvYCEAAAAAAAAAAA==\",\"dtype\":\"uint8\",\"shape\":[28,28]}]},\"selected\":{\"id\":\"1527\",\"type\":\"Selection\"},\"selection_policy\":{\"id\":\"1528\",\"type\":\"UnionRenderers\"}},\"id\":\"1159\",\"type\":\"ColumnDataSource\"},{\"attributes\":{\"data_source\":{\"id\":\"1200\",\"type\":\"ColumnDataSource\"},\"glyph\":{\"id\":\"1201\",\"type\":\"Image\"},\"hover_glyph\":null,\"muted_glyph\":null,\"nonselection_glyph\":{\"id\":\"1203\",\"type\":\"Image\"},\"selection_glyph\":null,\"view\":{\"id\":\"1206\",\"type\":\"CDSView\"}},\"id\":\"1205\",\"type\":\"GlyphRenderer\"},{\"attributes\":{\"formatter\":{\"id\":\"1588\",\"type\":\"BasicTickFormatter\"},\"ticker\":{\"id\":\"1429\",\"type\":\"BasicTicker\"},\"visible\":false},\"id\":\"1428\",\"type\":\"LinearAxis\"},{\"attributes\":{\"color_mapper\":{\"id\":\"1163\",\"type\":\"LinearColorMapper\"},\"dh\":{\"units\":\"data\",\"value\":1},\"dw\":{\"units\":\"data\",\"value\":1},\"image\":{\"field\":\"image\"},\"x\":{\"value\":0},\"y\":{\"value\":0}},\"id\":\"1162\",\"type\":\"Image\"},{\"attributes\":{},\"id\":\"1146\",\"type\":\"PanTool\"},{\"attributes\":{\"source\":{\"id\":\"1200\",\"type\":\"ColumnDataSource\"}},\"id\":\"1206\",\"type\":\"CDSView\"},{\"attributes\":{},\"id\":\"1429\",\"type\":\"BasicTicker\"},{\"attributes\":{},\"id\":\"1147\",\"type\":\"WheelZoomTool\"},{\"attributes\":{\"below\":[{\"id\":\"1218\",\"type\":\"LinearAxis\"}],\"center\":[{\"id\":\"1222\",\"type\":\"Grid\"},{\"id\":\"1227\",\"type\":\"Grid\"}],\"left\":[{\"id\":\"1223\",\"type\":\"LinearAxis\"}],\"plot_height\":150,\"plot_width\":150,\"renderers\":[{\"id\":\"1246\",\"type\":\"GlyphRenderer\"}],\"title\":{\"id\":\"1208\",\"type\":\"Title\"},\"toolbar\":{\"id\":\"1234\",\"type\":\"Toolbar\"},\"toolbar_location\":null,\"x_range\":{\"id\":\"1210\",\"type\":\"DataRange1d\"},\"x_scale\":{\"id\":\"1214\",\"type\":\"LinearScale\"},\"y_range\":{\"id\":\"1212\",\"type\":\"DataRange1d\"},\"y_scale\":{\"id\":\"1216\",\"type\":\"LinearScale\"}},\"id\":\"1207\",\"subtype\":\"Figure\",\"type\":\"Plot\"},{\"attributes\":{\"dimension\":1,\"ticker\":{\"id\":\"1429\",\"type\":\"BasicTicker\"},\"visible\":false},\"id\":\"1432\",\"type\":\"Grid\"},{\"attributes\":{\"overlay\":{\"id\":\"1526\",\"type\":\"BoxAnnotation\"}},\"id\":\"1148\",\"type\":\"BoxZoomTool\"},{\"attributes\":{},\"id\":\"1149\",\"type\":\"SaveTool\"},{\"attributes\":{\"callback\":null,\"data\":{\"image\":[{\"__ndarray__\":\"AAAASaeFAAAAAAAAAAAAAAAAAQEATJeNAAAAAAAAAHvF4AAAAAAAAAAAAAAAAAAAAIPOtBIAAAAAAABrxOEAP5NxdXd2dXJydXKHeQBzzLIJAAAAAAAAacflAHPKorCura2ssLShrcwActC4BgAAAAAAAGPD3whav56XlpWUkpWVmabFAH/QtwUAAAAAAABfxd4jTsq3u76/vr7Avbu7zACdzrgFAAAAAAAAXsTcOz/Krra0tri3t7a2vMoAuMy5BQAAAAAAAF3F2GEyza+2ubi3trm4uL3HANPIugYAAAAAAABYyNOBLs6xtbW4t7e0ubi8wgDhxrsAAAAAAAAAVcnPnyzNt7ayt7a4tLu5u7kA38XIAAAAAAAAAFTLy8Qjy723tLi3uLK5uL2xAN/FyAAAAAAAAABMy8rUGsrBu7S7ubq2u7q+rBHexckAAAAAAAAASc7I0yHKwr6yube5uLq6vqMp4MLJAAAAAAAAADzPy9s4yL/At7m4uri7uMCaOuLBxwAAAAAAAAAiybnbTMW5vrSztLazt7XCkEflycUAAAAAAAAACqKdzlawyMrHxsXGyMjFxppfyLOjAAAAAAAAADH/v/6Ob2JncXV1cmlkYX9pl+C8egAAAAAAAAAAYlaguO7/9O7r7/Dz+v//zresxssAAAAAAAAAEtiGl51JVoGDiYSAgXVRQoHgmoZDAAAAAAAAAAAABxomut2yo6KjqLjL2dg2RUeIigAAAAAAAAAAy9zmywAAJC8nHBMKAAAAKKJ2GwAAAAAAAAAAAKnbz8vUh1pTWGNrdpa509vZ191YAAAAAAAAAACeyL/T09bV19bT1NLR08zQxb/aKgAAAAAAAAAAWsKvsr7Bxci9tbi7vbu4rrK0whkAAAAAAAAAAAy8t7Gvr66pmpSboqmrsLGsvqoAAAAAAAAAAAAAUrnDvbeznpifopaor7K3v9YjAAEAAAAAAAAAAAARfrzOxd76///yysTOx4MUAAABAAAAAAAAAAABAAAACY/HjX2ErLxYFgAAAAABAAAAAA==\",\"dtype\":\"uint8\",\"shape\":[28,28]}]},\"selected\":{\"id\":\"1545\",\"type\":\"Selection\"},\"selection_policy\":{\"id\":\"1546\",\"type\":\"UnionRenderers\"}},\"id\":\"1241\",\"type\":\"ColumnDataSource\"},{\"attributes\":{\"color_mapper\":{\"id\":\"1448\",\"type\":\"LinearColorMapper\"},\"dh\":{\"units\":\"data\",\"value\":1},\"dw\":{\"units\":\"data\",\"value\":1},\"image\":{\"field\":\"image\"},\"x\":{\"value\":0},\"y\":{\"value\":0}},\"id\":\"1447\",\"type\":\"Image\"},{\"attributes\":{\"text\":\"Label 2\"},\"id\":\"1208\",\"type\":\"Title\"},{\"attributes\":{},\"id\":\"1150\",\"type\":\"ResetTool\"},{\"attributes\":{\"callback\":null,\"data\":{\"image\":[{\"__ndarray__\":\"AAAAAAMAEp5ueHlaU4VsUlVqcYdzAAMAAAAAAAAAAAAFACqzssX/zrjw4sjCxra7pwAFAAAAAAAAAAAABQAwr6W+zp2U2M6fmbGsq4EABQAAAAAAAAAAAAcAOK+nvNqepdvJppvHp66HAAUAAAAAAAAAAAAFADmsqrramKfGvqegzZ61igAFAAAAAAAAAAAABAAsq6ixzZ6quL6hr8Kdu2kABAAAAAAAAAAAAAQAFKalrb6opba/nbOzorRXAAQAAAAAAAAAAAADAAWepqazrqWtu5m5p6ylLwAEAAAAAAAAAAAAAQAApKqmqq+kprWas6CtmBIAAwAAAAAAAAAAAAACAICmoqeuoKazn62mpKsEAAIAAAAAAAAAAAAABABZq6CqrKGkrJ+sp52VAAEAAAAAAAAAAAAAAAUAMquloqyhoaifpqGhcgADAAAAAAAAAAAAAAADAByipaWnpKGhpqSbpjkABAAAAAAAAAAAAAAAAgAAoqSqoqWhpZukk6seAAQAAAAAAAAAAAAAAAEAAMimoaSkoKGeoJivGQABAAAAAAAAAAAAAAMDAADNsZmloqCeopueryUABQMBAAAAAAAAAAAAAAAAvruapKSinp2Zn7tSAAAAAAAAAAAAAAAAB5+EEry/qJ2hoJ6emKaZfhyuHwAAAAAAAAAAbKzJ8LmHvLKkoJugnp6uca/14Z1kAAAAAAAAAD2mmMHDjaWqm5qdnqSgmYB71qCRTwAAAAAAAAAVpqKVi6SqrKWhpqisoaCaeI2ZqjsAAAAAAAAAALmhobS8wr+2u7q7uru/rJeMm7EjAAAAAAAAAACerKu1vsG/u7OyuLS5tbKokZKvAgAAAAAAAAAAeK6kq6y5uLmrrq2otLGyqqCToQAAAAAAAAAAADuvoa65w667vry+u7qqtK+gmYcAAAAAAAAAAAAAr7ysvqi/zsaSxd3TvrW0prlCAAAAAAAAAAAAACK82c3n2dOZh5W72OzC2daYAAAAAAAAAAAAAAAAAHC5VQAAAAAAAABqyI4LAAAAAAAAAA==\",\"dtype\":\"uint8\",\"shape\":[28,28]}]},\"selected\":{\"id\":\"1590\",\"type\":\"Selection\"},\"selection_policy\":{\"id\":\"1591\",\"type\":\"UnionRenderers\"}},\"id\":\"1446\",\"type\":\"ColumnDataSource\"},{\"attributes\":{\"callback\":null},\"id\":\"1210\",\"type\":\"DataRange1d\"},{\"attributes\":{\"color_mapper\":{\"id\":\"1450\",\"type\":\"LinearColorMapper\"},\"dh\":{\"units\":\"data\",\"value\":1},\"dw\":{\"units\":\"data\",\"value\":1},\"image\":{\"field\":\"image\"},\"x\":{\"value\":0},\"y\":{\"value\":0}},\"id\":\"1449\",\"type\":\"Image\"},{\"attributes\":{},\"id\":\"1151\",\"type\":\"HelpTool\"},{\"attributes\":{},\"id\":\"1433\",\"type\":\"PanTool\"},{\"attributes\":{\"callback\":null},\"id\":\"1212\",\"type\":\"DataRange1d\"},{\"attributes\":{},\"id\":\"1434\",\"type\":\"WheelZoomTool\"},{\"attributes\":{\"active_drag\":\"auto\",\"active_inspect\":\"auto\",\"active_multi\":null,\"active_scroll\":\"auto\",\"active_tap\":\"auto\",\"tools\":[{\"id\":\"1146\",\"type\":\"PanTool\"},{\"id\":\"1147\",\"type\":\"WheelZoomTool\"},{\"id\":\"1148\",\"type\":\"BoxZoomTool\"},{\"id\":\"1149\",\"type\":\"SaveTool\"},{\"id\":\"1150\",\"type\":\"ResetTool\"},{\"id\":\"1151\",\"type\":\"HelpTool\"}]},\"id\":\"1152\",\"type\":\"Toolbar\"},{\"attributes\":{},\"id\":\"1214\",\"type\":\"LinearScale\"},{\"attributes\":{\"overlay\":{\"id\":\"1589\",\"type\":\"BoxAnnotation\"}},\"id\":\"1435\",\"type\":\"BoxZoomTool\"},{\"attributes\":{},\"id\":\"1216\",\"type\":\"LinearScale\"},{\"attributes\":{\"palette\":[\"#000000\",\"#252525\",\"#525252\",\"#737373\",\"#969696\",\"#bdbdbd\",\"#d9d9d9\",\"#f0f0f0\",\"#ffffff\"]},\"id\":\"1163\",\"type\":\"LinearColorMapper\"},{\"attributes\":{},\"id\":\"1436\",\"type\":\"SaveTool\"},{\"attributes\":{\"formatter\":{\"id\":\"1541\",\"type\":\"BasicTickFormatter\"},\"ticker\":{\"id\":\"1219\",\"type\":\"BasicTicker\"},\"visible\":false},\"id\":\"1218\",\"type\":\"LinearAxis\"},{\"attributes\":{},\"id\":\"1437\",\"type\":\"ResetTool\"},{\"attributes\":{\"data_source\":{\"id\":\"1159\",\"type\":\"ColumnDataSource\"},\"glyph\":{\"id\":\"1160\",\"type\":\"Image\"},\"hover_glyph\":null,\"muted_glyph\":null,\"nonselection_glyph\":{\"id\":\"1162\",\"type\":\"Image\"},\"selection_glyph\":null,\"view\":{\"id\":\"1165\",\"type\":\"CDSView\"}},\"id\":\"1164\",\"type\":\"GlyphRenderer\"},{\"attributes\":{},\"id\":\"1219\",\"type\":\"BasicTicker\"},{\"attributes\":{},\"id\":\"1438\",\"type\":\"HelpTool\"},{\"attributes\":{\"source\":{\"id\":\"1159\",\"type\":\"ColumnDataSource\"}},\"id\":\"1165\",\"type\":\"CDSView\"},{\"attributes\":{\"ticker\":{\"id\":\"1219\",\"type\":\"BasicTicker\"},\"visible\":false},\"id\":\"1222\",\"type\":\"Grid\"},{\"attributes\":{\"below\":[{\"id\":\"1177\",\"type\":\"LinearAxis\"}],\"center\":[{\"id\":\"1181\",\"type\":\"Grid\"},{\"id\":\"1186\",\"type\":\"Grid\"}],\"left\":[{\"id\":\"1182\",\"type\":\"LinearAxis\"}],\"plot_height\":150,\"plot_width\":150,\"renderers\":[{\"id\":\"1205\",\"type\":\"GlyphRenderer\"}],\"title\":{\"id\":\"1167\",\"type\":\"Title\"},\"toolbar\":{\"id\":\"1193\",\"type\":\"Toolbar\"},\"toolbar_location\":null,\"x_range\":{\"id\":\"1169\",\"type\":\"DataRange1d\"},\"x_scale\":{\"id\":\"1173\",\"type\":\"LinearScale\"},\"y_range\":{\"id\":\"1171\",\"type\":\"DataRange1d\"},\"y_scale\":{\"id\":\"1175\",\"type\":\"LinearScale\"}},\"id\":\"1166\",\"subtype\":\"Figure\",\"type\":\"Plot\"},{\"attributes\":{\"active_drag\":\"auto\",\"active_inspect\":\"auto\",\"active_multi\":null,\"active_scroll\":\"auto\",\"active_tap\":\"auto\",\"tools\":[{\"id\":\"1433\",\"type\":\"PanTool\"},{\"id\":\"1434\",\"type\":\"WheelZoomTool\"},{\"id\":\"1435\",\"type\":\"BoxZoomTool\"},{\"id\":\"1436\",\"type\":\"SaveTool\"},{\"id\":\"1437\",\"type\":\"ResetTool\"},{\"id\":\"1438\",\"type\":\"HelpTool\"}]},\"id\":\"1439\",\"type\":\"Toolbar\"},{\"attributes\":{\"formatter\":{\"id\":\"1543\",\"type\":\"BasicTickFormatter\"},\"ticker\":{\"id\":\"1224\",\"type\":\"BasicTicker\"},\"visible\":false},\"id\":\"1223\",\"type\":\"LinearAxis\"},{\"attributes\":{\"callback\":null,\"data\":{\"image\":[{\"__ndarray__\":\"AAAAAAAAAAAAAEqhiwAZqGY9AAAAAAAAAAAAAAAAAAAAAAAARv/y//YAVP/r8v8tAAAAAAAAAAAAAAAAAAAAH//u4e7fAD7/2t7y/wAAAAAAAAAAAAAAAAAAAI7x4+bt8wBA/9zk5PFlAAAAAAAAAAAAAAAAAAC7+ebm8/cATP/T5eP4sQAAAAAAAAAAAAAAAAAAkO7Y1tvp4fLn2NrL644AAAAAAAAAAAAAAAAAAGPywNra2tzx3tvc0P9CAAAAAAAAAAAAAAAAAAA67pne29jW6dzb29T+EQAAAAAAAAAAAAAAAAAAB/ff2NrX2erb3NjZ6gAAAAAAAAAAAAAAAAAAAADc1NXa19rn293W3coAAAAAAAAAAAAAAAAAAAAAo9vN2Nfa5Nvc0+KSAAAAAAAAAAAAAAAAAAAAADr+ztXX2+Pb29HjTwAAAAAAAAAAAAAAAAAAAAAA59PT19rg29rW/yYAAAAAAAAAAAAAAAAAAAAAANPX0tbZ3tvZ2PkAAAAAAAAAAAAAAAAAAAAAAACz2s/W2N7a19j4AAAAAAAAAAAAAAAAAAAAAAAAk97L1dnc2dbY9wAAAAAAAAAAAAAAAAAAAAAAAH3hzNPX2djW2PUAAAAAAAAAAAAAAAAAAAAAAACI4svU1tjZ1tj3AAAAAAAAAAAAAAAAAAAAAAAAluHO2NjZ2dfY/gAAAAAAAAAAAAAAAAAAAAAAAKfdy9TX1tPS1v4YAAAAAAAAAAAAAAAAAAAAAACs4MrZ19LY2tbeLQAAAAAAAAAAAAAAAAAAAAAAq+fZ2+/84NzV5EYAAAAAAAAAAAAAAAAAAAAAALrm1vaiLvnX0+hiAAAAAAAAAAAAAAAAAAAAAADI4tX/ogD/4tTliwAAAAAAAAAAAAAAAAAAAAAAvt3Z8MIA/unX4a0AAAAAAAAAAAAAAAAAAAAAANHa6vLvk+bz6uPAAAAAAAAAAAAAAAAAAAAAAAvE4tkaAAAAILvOvQAAAAAAAAAAAAAAAAAAAAAAABoAAAAAAAAAAAAAAAAAAAAAAA==\",\"dtype\":\"uint8\",\"shape\":[28,28]}]},\"selected\":{\"id\":\"1536\",\"type\":\"Selection\"},\"selection_policy\":{\"id\":\"1537\",\"type\":\"UnionRenderers\"}},\"id\":\"1200\",\"type\":\"ColumnDataSource\"},{\"attributes\":{},\"id\":\"1224\",\"type\":\"BasicTicker\"},{\"attributes\":{\"palette\":[\"#000000\",\"#252525\",\"#525252\",\"#737373\",\"#969696\",\"#bdbdbd\",\"#d9d9d9\",\"#f0f0f0\",\"#ffffff\"]},\"id\":\"1450\",\"type\":\"LinearColorMapper\"},{\"attributes\":{\"text\":\"Label 0\"},\"id\":\"1167\",\"type\":\"Title\"},{\"attributes\":{\"dimension\":1,\"ticker\":{\"id\":\"1224\",\"type\":\"BasicTicker\"},\"visible\":false},\"id\":\"1227\",\"type\":\"Grid\"},{\"attributes\":{},\"id\":\"1573\",\"type\":\"UnionRenderers\"},{\"attributes\":{},\"id\":\"1577\",\"type\":\"BasicTickFormatter\"},{\"attributes\":{},\"id\":\"1579\",\"type\":\"BasicTickFormatter\"},{\"attributes\":{\"bottom_units\":\"screen\",\"fill_alpha\":{\"value\":0.5},\"fill_color\":{\"value\":\"lightgrey\"},\"left_units\":\"screen\",\"level\":\"overlay\",\"line_alpha\":{\"value\":1.0},\"line_color\":{\"value\":\"black\"},\"line_dash\":[4,4],\"line_width\":{\"value\":2},\"render_mode\":\"css\",\"right_units\":\"screen\",\"top_units\":\"screen\"},\"id\":\"1580\",\"type\":\"BoxAnnotation\"},{\"attributes\":{},\"id\":\"1581\",\"type\":\"Selection\"},{\"attributes\":{},\"id\":\"1582\",\"type\":\"UnionRenderers\"},{\"attributes\":{},\"id\":\"1586\",\"type\":\"BasicTickFormatter\"},{\"attributes\":{},\"id\":\"1588\",\"type\":\"BasicTickFormatter\"},{\"attributes\":{\"bottom_units\":\"screen\",\"fill_alpha\":{\"value\":0.5},\"fill_color\":{\"value\":\"lightgrey\"},\"left_units\":\"screen\",\"level\":\"overlay\",\"line_alpha\":{\"value\":1.0},\"line_color\":{\"value\":\"black\"},\"line_dash\":[4,4],\"line_width\":{\"value\":2},\"render_mode\":\"css\",\"right_units\":\"screen\",\"top_units\":\"screen\"},\"id\":\"1589\",\"type\":\"BoxAnnotation\"},{\"attributes\":{},\"id\":\"1590\",\"type\":\"Selection\"},{\"attributes\":{},\"id\":\"1591\",\"type\":\"UnionRenderers\"},{\"attributes\":{},\"id\":\"1595\",\"type\":\"BasicTickFormatter\"},{\"attributes\":{},\"id\":\"1597\",\"type\":\"BasicTickFormatter\"},{\"attributes\":{\"text\":\"Label 9\"},\"id\":\"1003\",\"type\":\"Title\"},{\"attributes\":{\"bottom_units\":\"screen\",\"fill_alpha\":{\"value\":0.5},\"fill_color\":{\"value\":\"lightgrey\"},\"left_units\":\"screen\",\"level\":\"overlay\",\"line_alpha\":{\"value\":1.0},\"line_color\":{\"value\":\"black\"},\"line_dash\":[4,4],\"line_width\":{\"value\":2},\"render_mode\":\"css\",\"right_units\":\"screen\",\"top_units\":\"screen\"},\"id\":\"1598\",\"type\":\"BoxAnnotation\"},{\"attributes\":{\"children\":[[{\"id\":\"1002\",\"subtype\":\"Figure\",\"type\":\"Plot\"},0,0],[{\"id\":\"1043\",\"subtype\":\"Figure\",\"type\":\"Plot\"},0,1],[{\"id\":\"1084\",\"subtype\":\"Figure\",\"type\":\"Plot\"},0,2],[{\"id\":\"1125\",\"subtype\":\"Figure\",\"type\":\"Plot\"},0,3],[{\"id\":\"1166\",\"subtype\":\"Figure\",\"type\":\"Plot\"},1,0],[{\"id\":\"1207\",\"subtype\":\"Figure\",\"type\":\"Plot\"},1,1],[{\"id\":\"1248\",\"subtype\":\"Figure\",\"type\":\"Plot\"},1,2],[{\"id\":\"1289\",\"subtype\":\"Figure\",\"type\":\"Plot\"},1,3],[{\"id\":\"1330\",\"subtype\":\"Figure\",\"type\":\"Plot\"},2,0],[{\"id\":\"1371\",\"subtype\":\"Figure\",\"type\":\"Plot\"},2,1],[{\"id\":\"1412\",\"subtype\":\"Figure\",\"type\":\"Plot\"},2,2],[{\"id\":\"1453\",\"subtype\":\"Figure\",\"type\":\"Plot\"},2,3]]},\"id\":\"1602\",\"type\":\"GridBox\"},{\"attributes\":{},\"id\":\"1599\",\"type\":\"Selection\"},{\"attributes\":{\"below\":[{\"id\":\"1013\",\"type\":\"LinearAxis\"}],\"center\":[{\"id\":\"1017\",\"type\":\"Grid\"},{\"id\":\"1022\",\"type\":\"Grid\"}],\"left\":[{\"id\":\"1018\",\"type\":\"LinearAxis\"}],\"plot_height\":150,\"plot_width\":150,\"renderers\":[{\"id\":\"1041\",\"type\":\"GlyphRenderer\"}],\"title\":{\"id\":\"1003\",\"type\":\"Title\"},\"toolbar\":{\"id\":\"1029\",\"type\":\"Toolbar\"},\"toolbar_location\":null,\"x_range\":{\"id\":\"1005\",\"type\":\"DataRange1d\"},\"x_scale\":{\"id\":\"1009\",\"type\":\"LinearScale\"},\"y_range\":{\"id\":\"1007\",\"type\":\"DataRange1d\"},\"y_scale\":{\"id\":\"1011\",\"type\":\"LinearScale\"}},\"id\":\"1002\",\"subtype\":\"Figure\",\"type\":\"Plot\"},{\"attributes\":{},\"id\":\"1600\",\"type\":\"UnionRenderers\"},{\"attributes\":{\"palette\":[\"#000000\",\"#252525\",\"#525252\",\"#737373\",\"#969696\",\"#bdbdbd\",\"#d9d9d9\",\"#f0f0f0\",\"#ffffff\"]},\"id\":\"1038\",\"type\":\"LinearColorMapper\"},{\"attributes\":{\"tools\":[{\"id\":\"1023\",\"type\":\"PanTool\"},{\"id\":\"1024\",\"type\":\"WheelZoomTool\"},{\"id\":\"1025\",\"type\":\"BoxZoomTool\"},{\"id\":\"1026\",\"type\":\"SaveTool\"},{\"id\":\"1027\",\"type\":\"ResetTool\"},{\"id\":\"1028\",\"type\":\"HelpTool\"},{\"id\":\"1064\",\"type\":\"PanTool\"},{\"id\":\"1065\",\"type\":\"WheelZoomTool\"},{\"id\":\"1066\",\"type\":\"BoxZoomTool\"},{\"id\":\"1067\",\"type\":\"SaveTool\"},{\"id\":\"1068\",\"type\":\"ResetTool\"},{\"id\":\"1069\",\"type\":\"HelpTool\"},{\"id\":\"1105\",\"type\":\"PanTool\"},{\"id\":\"1106\",\"type\":\"WheelZoomTool\"},{\"id\":\"1107\",\"type\":\"BoxZoomTool\"},{\"id\":\"1108\",\"type\":\"SaveTool\"},{\"id\":\"1109\",\"type\":\"ResetTool\"},{\"id\":\"1110\",\"type\":\"HelpTool\"},{\"id\":\"1146\",\"type\":\"PanTool\"},{\"id\":\"1147\",\"type\":\"WheelZoomTool\"},{\"id\":\"1148\",\"type\":\"BoxZoomTool\"},{\"id\":\"1149\",\"type\":\"SaveTool\"},{\"id\":\"1150\",\"type\":\"ResetTool\"},{\"id\":\"1151\",\"type\":\"HelpTool\"},{\"id\":\"1187\",\"type\":\"PanTool\"},{\"id\":\"1188\",\"type\":\"WheelZoomTool\"},{\"id\":\"1189\",\"type\":\"BoxZoomTool\"},{\"id\":\"1190\",\"type\":\"SaveTool\"},{\"id\":\"1191\",\"type\":\"ResetTool\"},{\"id\":\"1192\",\"type\":\"HelpTool\"},{\"id\":\"1228\",\"type\":\"PanTool\"},{\"id\":\"1229\",\"type\":\"WheelZoomTool\"},{\"id\":\"1230\",\"type\":\"BoxZoomTool\"},{\"id\":\"1231\",\"type\":\"SaveTool\"},{\"id\":\"1232\",\"type\":\"ResetTool\"},{\"id\":\"1233\",\"type\":\"HelpTool\"},{\"id\":\"1269\",\"type\":\"PanTool\"},{\"id\":\"1270\",\"type\":\"WheelZoomTool\"},{\"id\":\"1271\",\"type\":\"BoxZoomTool\"},{\"id\":\"1272\",\"type\":\"SaveTool\"},{\"id\":\"1273\",\"type\":\"ResetTool\"},{\"id\":\"1274\",\"type\":\"HelpTool\"},{\"id\":\"1310\",\"type\":\"PanTool\"},{\"id\":\"1311\",\"type\":\"WheelZoomTool\"},{\"id\":\"1312\",\"type\":\"BoxZoomTool\"},{\"id\":\"1313\",\"type\":\"SaveTool\"},{\"id\":\"1314\",\"type\":\"ResetTool\"},{\"id\":\"1315\",\"type\":\"HelpTool\"},{\"id\":\"1351\",\"type\":\"PanTool\"},{\"id\":\"1352\",\"type\":\"WheelZoomTool\"},{\"id\":\"1353\",\"type\":\"BoxZoomTool\"},{\"id\":\"1354\",\"type\":\"SaveTool\"},{\"id\":\"1355\",\"type\":\"ResetTool\"},{\"id\":\"1356\",\"type\":\"HelpTool\"},{\"id\":\"1392\",\"type\":\"PanTool\"},{\"id\":\"1393\",\"type\":\"WheelZoomTool\"},{\"id\":\"1394\",\"type\":\"BoxZoomTool\"},{\"id\":\"1395\",\"type\":\"SaveTool\"},{\"id\":\"1396\",\"type\":\"ResetTool\"},{\"id\":\"1397\",\"type\":\"HelpTool\"},{\"id\":\"1433\",\"type\":\"PanTool\"},{\"id\":\"1434\",\"type\":\"WheelZoomTool\"},{\"id\":\"1435\",\"type\":\"BoxZoomTool\"},{\"id\":\"1436\",\"type\":\"SaveTool\"},{\"id\":\"1437\",\"type\":\"ResetTool\"},{\"id\":\"1438\",\"type\":\"HelpTool\"},{\"id\":\"1474\",\"type\":\"PanTool\"},{\"id\":\"1475\",\"type\":\"WheelZoomTool\"},{\"id\":\"1476\",\"type\":\"BoxZoomTool\"},{\"id\":\"1477\",\"type\":\"SaveTool\"},{\"id\":\"1478\",\"type\":\"ResetTool\"},{\"id\":\"1479\",\"type\":\"HelpTool\"}]},\"id\":\"1603\",\"type\":\"ProxyToolbar\"},{\"attributes\":{\"toolbar\":{\"id\":\"1603\",\"type\":\"ProxyToolbar\"},\"toolbar_location\":\"above\"},\"id\":\"1604\",\"type\":\"ToolbarBox\"},{\"attributes\":{\"ticker\":{\"id\":\"1014\",\"type\":\"BasicTicker\"},\"visible\":false},\"id\":\"1017\",\"type\":\"Grid\"},{\"attributes\":{},\"id\":\"1011\",\"type\":\"LinearScale\"},{\"attributes\":{\"callback\":null},\"id\":\"1007\",\"type\":\"DataRange1d\"},{\"attributes\":{},\"id\":\"1009\",\"type\":\"LinearScale\"},{\"attributes\":{\"formatter\":{\"id\":\"1496\",\"type\":\"BasicTickFormatter\"},\"ticker\":{\"id\":\"1014\",\"type\":\"BasicTicker\"},\"visible\":false},\"id\":\"1013\",\"type\":\"LinearAxis\"},{\"attributes\":{},\"id\":\"1014\",\"type\":\"BasicTicker\"},{\"attributes\":{\"formatter\":{\"id\":\"1498\",\"type\":\"BasicTickFormatter\"},\"ticker\":{\"id\":\"1019\",\"type\":\"BasicTicker\"},\"visible\":false},\"id\":\"1018\",\"type\":\"LinearAxis\"},{\"attributes\":{\"dimension\":1,\"ticker\":{\"id\":\"1019\",\"type\":\"BasicTicker\"},\"visible\":false},\"id\":\"1022\",\"type\":\"Grid\"},{\"attributes\":{},\"id\":\"1019\",\"type\":\"BasicTicker\"},{\"attributes\":{},\"id\":\"1024\",\"type\":\"WheelZoomTool\"},{\"attributes\":{\"color_mapper\":{\"id\":\"1038\",\"type\":\"LinearColorMapper\"},\"dh\":{\"units\":\"data\",\"value\":1},\"dw\":{\"units\":\"data\",\"value\":1},\"image\":{\"field\":\"image\"},\"x\":{\"value\":0},\"y\":{\"value\":0}},\"id\":\"1037\",\"type\":\"Image\"},{\"attributes\":{},\"id\":\"1023\",\"type\":\"PanTool\"},{\"attributes\":{\"callback\":null,\"data\":{\"image\":[{\"__ndarray__\":\"AAAAAAAAAAAAAAAAAAAAAAAAAAAAAAAAAAAAAAAAAAAAAAAAAAAAAAAAAAAAAAAAAAAAAAAAAAAAAAAAAAAAAAAAAAAAAAAjKUgsPSgAAAAAAAAAAAA6Y6imsLW2trO/wdzd9PP28u/t3shCAAAAAgCq2MDCvLzT0tLRzMbBvL28ubWvrK+/1L1KAABc0rGnnLDAxr/Dv8LEyNLTz9XSzMS3q7PB23oAc87NtayxtbrOx9jh7Nzd29bKwMK+ucXVwrfLMEPm3dze0dTa3+/148Pw1cbOxbnY4dPNwczUzEsd5eDf39nX3duodWpJQfHZ18Lc+erl5d7SxuliAOHk3tHM0r+avN3l/5ZQ8NzNzc3W09Pd4OTKAwD26NzT3erd///fzsH1n8jR0NbM0ODd4NC7OQAA1+7p+Pq8sOrg5tPNyOLZ3tzkvWtSLBIAAAAAAJ/04Nfb3+Da09Da3dXP5MyRPgAAAAAAAAADAABN/9rX5d/Y3d7b3t/Z4u0AAAAAAAIHBgQBAAAAXNHZ2erf2tXo8OTm5Ow3AAAEAAAAAAAAAAAAOKd39dze1dfdxsva3N70YwAGAAAAAAAAAAAAADTRxeLU4NrQ46nA2tTc2wwAAwEAAAAAAAAAAAAAyvPc39XT0tS0xtXa5MEAAAAAAAAAAAAAAAAAAK31393g3uDj6+Tf2OG3AAAAAAAAAAAAAAAAAADlxHt/pNXX39/l6ejoyAABAQEAAAAAAAAAAABCrFiNknp5f6PY2Nrfz0UAAQAAAAAAAAAAAAAAD0iCTRdAbaGca7LP7JsAAAAAAAAAAAAAAAAAAAAKDAAAAAAXe5CGsMxmAAYAAAAAAAAAAAAAAAADAAAEAwEAAAA2Pn+IJAADAAAAAAAAAAAAAAAAAAEBAAAAAAQBAABJDQAAAQAAAAAAAAAAAAAAAAAAAAAAAAAAAAAAAAAAAAAAAAAAAAAAAAAAAAAAAAAAAAAAAAAAAAAAAAAAAAAAAAAAAAAAAAAAAAAAAAAAAAAAAAAAAAAAAAAAAAAAAAAAAAAAAA==\",\"dtype\":\"uint8\",\"shape\":[28,28]}]},\"selected\":{\"id\":\"1500\",\"type\":\"Selection\"},\"selection_policy\":{\"id\":\"1501\",\"type\":\"UnionRenderers\"}},\"id\":\"1036\",\"type\":\"ColumnDataSource\"},{\"attributes\":{},\"id\":\"1541\",\"type\":\"BasicTickFormatter\"},{\"attributes\":{\"overlay\":{\"id\":\"1499\",\"type\":\"BoxAnnotation\"}},\"id\":\"1025\",\"type\":\"BoxZoomTool\"},{\"attributes\":{},\"id\":\"1026\",\"type\":\"SaveTool\"},{\"attributes\":{},\"id\":\"1027\",\"type\":\"ResetTool\"},{\"attributes\":{},\"id\":\"1028\",\"type\":\"HelpTool\"}],\"root_ids\":[\"1605\"]},\"title\":\"Bokeh Application\",\"version\":\"1.4.0\"}};\n",
       "  var render_items = [{\"docid\":\"c8f2ebd0-e16f-459d-a20d-4dc59069f763\",\"roots\":{\"1605\":\"7eccaadf-36bc-4cde-87d9-ada0bc52a2c1\"}}];\n",
       "  root.Bokeh.embed.embed_items_notebook(docs_json, render_items);\n",
       "\n",
       "  }\n",
       "  if (root.Bokeh !== undefined) {\n",
       "    embed_document(root);\n",
       "  } else {\n",
       "    var attempts = 0;\n",
       "    var timer = setInterval(function(root) {\n",
       "      if (root.Bokeh !== undefined) {\n",
       "        clearInterval(timer);\n",
       "        embed_document(root);\n",
       "      } else {\n",
       "        attempts++;\n",
       "        if (attempts > 100) {\n",
       "          clearInterval(timer);\n",
       "          console.log(\"Bokeh: ERROR: Unable to run BokehJS code because BokehJS library is missing\");\n",
       "        }\n",
       "      }\n",
       "    }, 10, root)\n",
       "  }\n",
       "})(window);"
      ],
      "application/vnd.bokehjs_exec.v0+json": ""
     },
     "metadata": {
      "application/vnd.bokehjs_exec.v0+json": {
       "id": "1605"
      }
     },
     "output_type": "display_data"
    }
   ],
   "source": [
    "rows = show_image_grid(image_samples, label_samples)"
   ]
  },
  {
   "cell_type": "markdown",
   "metadata": {},
   "source": [
    "Scikit-learn 의 multi-layer perceptron classifier 를 이용하여 이를 분류하는 모델을 학습해 봅니다. 학습 및 성능 평가를 반복할 것이기 때문에 이 과정 역시 함수로 만듭니다. Python 의 time package 를 이용하면 현재 시각을 UNIX time (1970.01.01 00:00:00 으로부터의 seconds) 으로 표현할 수 있습니다. 이 시간의 차이를 계산하여 학습 및 테스트 시간을 측정합니다. 그리고 classification_report 함수를 이용하여 클래스 별 성능을 확인합니다."
   ]
  },
  {
   "cell_type": "code",
   "execution_count": 6,
   "metadata": {},
   "outputs": [],
   "source": [
    "from time import time\n",
    "from sklearn.preprocessing import MinMaxScaler, StandardScaler\n",
    "from sklearn.neural_network import MLPClassifier\n",
    "from sklearn import metrics\n",
    "\n",
    "\n",
    "def train_and_evaluate(model, scaler, X_train, y_train, X_test, y_test):\n",
    "    # training\n",
    "    t = time()\n",
    "    X_train_scaled = scaler.fit_transform(X_train)\n",
    "    model.fit(X_train_scaled, y_train)\n",
    "    t = time() - t\n",
    "    print(f'training time = {t:.3} secs. with n={X_train.shape[0]}')\n",
    "\n",
    "    # test\n",
    "    t = time()\n",
    "    X_test_scaled = scaler.transform(X_test)\n",
    "    y_test_pred = model.predict(X_test_scaled)\n",
    "    t = time() - t\n",
    "    print(f'test     time = {t:.3} secs. with n={X_test.shape[0]}\\n')\n",
    "    print(metrics.classification_report(y_test, y_test_pred))\n",
    "\n",
    "    return model"
   ]
  },
  {
   "cell_type": "markdown",
   "metadata": {},
   "source": [
    "학습데이터는 클래스의 순서가 뒤섞여 있는 데이터입니다."
   ]
  },
  {
   "cell_type": "code",
   "execution_count": 7,
   "metadata": {},
   "outputs": [
    {
     "data": {
      "text/plain": [
       "array([9, 0, 0, 3, 0, 2, 7, 2, 5, 5], dtype=uint8)"
      ]
     },
     "execution_count": 7,
     "metadata": {},
     "output_type": "execute_result"
    }
   ],
   "source": [
    "train_labels[:10]"
   ]
  },
  {
   "cell_type": "markdown",
   "metadata": {},
   "source": [
    "우선 3000 개의 데이터만 이용하여 모델을 학습합니다. hidden layer size, activation function, optimizer 등을 설정합니다. `warm_start = True` 로 설정하면 모델이 충분히 학습되지 않았을 때 현재 weights 를 초기값으로 추가학습을 할 수 있습니다."
   ]
  },
  {
   "cell_type": "code",
   "execution_count": 8,
   "metadata": {},
   "outputs": [
    {
     "name": "stdout",
     "output_type": "stream",
     "text": [
      "training time = 6.56 secs. with n=3000\n",
      "test     time = 0.0989 secs. with n=10000\n",
      "\n",
      "              precision    recall  f1-score   support\n",
      "\n",
      "           0       0.80      0.80      0.80      1000\n",
      "           1       0.97      0.95      0.96      1000\n",
      "           2       0.70      0.73      0.72      1000\n",
      "           3       0.82      0.85      0.84      1000\n",
      "           4       0.73      0.77      0.75      1000\n",
      "           5       0.93      0.87      0.90      1000\n",
      "           6       0.62      0.57      0.59      1000\n",
      "           7       0.87      0.92      0.90      1000\n",
      "           8       0.95      0.92      0.93      1000\n",
      "           9       0.92      0.93      0.92      1000\n",
      "\n",
      "    accuracy                           0.83     10000\n",
      "   macro avg       0.83      0.83      0.83     10000\n",
      "weighted avg       0.83      0.83      0.83     10000\n",
      "\n"
     ]
    }
   ],
   "source": [
    "model = MLPClassifier(\n",
    "    hidden_layer_sizes = (200, 50),\n",
    "    activation = 'relu',\n",
    "#     solver = 'sgd',\n",
    "    solver = 'adam',\n",
    "    warm_start = True,\n",
    "    max_iter = 1000,\n",
    "    epsilon = 0.00001\n",
    ")\n",
    "scaler = StandardScaler()\n",
    "\n",
    "n_samples = 3000\n",
    "X = train[:n_samples]\n",
    "y = train_labels[:n_samples]\n",
    "\n",
    "model = train_and_evaluate(model, scaler, X, y, test, test_labels)"
   ]
  },
  {
   "cell_type": "markdown",
   "metadata": {},
   "source": [
    "성능이 아쉽습니다. 이번에는 학습데이터를 20000 개로 늘려서 추가학습을 합니다. 그런데 데이터의 개수가 증가하였음에도 불구하고 학습 시간이 매우 짧습니다. 이는 모델이 이미 weights 가 수렴했다고 판단했기 때문입니다."
   ]
  },
  {
   "cell_type": "code",
   "execution_count": 9,
   "metadata": {},
   "outputs": [
    {
     "name": "stdout",
     "output_type": "stream",
     "text": [
      "training time = 0.884 secs. with n=20000\n",
      "test     time = 0.0972 secs. with n=10000\n",
      "\n",
      "              precision    recall  f1-score   support\n",
      "\n",
      "           0       0.80      0.80      0.80      1000\n",
      "           1       0.99      0.95      0.97      1000\n",
      "           2       0.68      0.83      0.74      1000\n",
      "           3       0.79      0.90      0.84      1000\n",
      "           4       0.83      0.63      0.71      1000\n",
      "           5       0.93      0.89      0.91      1000\n",
      "           6       0.62      0.58      0.60      1000\n",
      "           7       0.92      0.88      0.90      1000\n",
      "           8       0.93      0.95      0.94      1000\n",
      "           9       0.90      0.94      0.92      1000\n",
      "\n",
      "    accuracy                           0.83     10000\n",
      "   macro avg       0.84      0.83      0.83     10000\n",
      "weighted avg       0.84      0.83      0.83     10000\n",
      "\n"
     ]
    }
   ],
   "source": [
    "n_samples = 20000\n",
    "X = train[:n_samples]\n",
    "y = train_labels[:n_samples]\n",
    "\n",
    "model = train_and_evaluate(model, scaler, X, y, test, test_labels)"
   ]
  },
  {
   "cell_type": "markdown",
   "metadata": {},
   "source": [
    "만약 `warm_start=False` 로 설정하면 re-initialize 되어 모델이 다시 학습됩니다. 성능이 조금이지만 개선되었습니다. 아마도 처음 3000 개의 데이터로 학습한 모델은 성능이 좋지 않은 local optima 에 갇혀있는 것이라 예상됩니다. 하지만 여전히 몇몇 클래스에 대해서는 성능이 아쉽습니다. 모델의 구조 (hidden layer size) 를 변경하던지 혹은 image classification 에 좋다고 알려진 convolutional neural network 를 이용해 보아야 할 것 같습니다."
   ]
  },
  {
   "cell_type": "code",
   "execution_count": 10,
   "metadata": {},
   "outputs": [
    {
     "name": "stdout",
     "output_type": "stream",
     "text": [
      "training time = 39.1 secs. with n=20000\n",
      "test     time = 0.0974 secs. with n=10000\n",
      "\n",
      "              precision    recall  f1-score   support\n",
      "\n",
      "           0       0.82      0.82      0.82      1000\n",
      "           1       0.98      0.96      0.97      1000\n",
      "           2       0.78      0.81      0.80      1000\n",
      "           3       0.87      0.87      0.87      1000\n",
      "           4       0.79      0.80      0.79      1000\n",
      "           5       0.95      0.94      0.95      1000\n",
      "           6       0.71      0.69      0.70      1000\n",
      "           7       0.94      0.96      0.95      1000\n",
      "           8       0.96      0.96      0.96      1000\n",
      "           9       0.95      0.95      0.95      1000\n",
      "\n",
      "    accuracy                           0.88     10000\n",
      "   macro avg       0.88      0.88      0.88     10000\n",
      "weighted avg       0.88      0.88      0.88     10000\n",
      "\n"
     ]
    }
   ],
   "source": [
    "n_samples = 20000\n",
    "X = train[:n_samples]\n",
    "y = train_labels[:n_samples]\n",
    "\n",
    "model.warm_start = False\n",
    "model = train_and_evaluate(model, scaler, X, y, test, test_labels)"
   ]
  },
  {
   "cell_type": "markdown",
   "metadata": {},
   "source": [
    "Feed forward neural network 의 패러매터들을 살펴봅니다. 이를 위하여 여러 개의 iterable 한 객체 내 데이터를 살펴보는 zip 함수를 이용합니다. zip 함수에 두 개 이상의 list, set 등을 입력하면 길이가 짧은 객체 탐색이 끝날 때까지 각 객체 내 데이터를 함께 yield 합니다."
   ]
  },
  {
   "cell_type": "code",
   "execution_count": 11,
   "metadata": {},
   "outputs": [
    {
     "name": "stdout",
     "output_type": "stream",
     "text": [
      "l1 = ['a', 'b', 'c', 'd', 'e']\n",
      "l2 = [3, 4, 5]\n",
      "\n",
      "item1 = a, item2 = 3\n",
      "item1 = b, item2 = 4\n",
      "item1 = c, item2 = 5\n"
     ]
    }
   ],
   "source": [
    "# Python zip\n",
    "l1 = list('abcde')\n",
    "l2 = list(range(3,6))\n",
    "\n",
    "print(f'l1 = {l1}')\n",
    "print(f'l2 = {l2}\\n')\n",
    "\n",
    "for item1, item2 in zip(l1, l2):\n",
    "    print(f'item1 = {item1}, item2 = {item2}')"
   ]
  },
  {
   "cell_type": "markdown",
   "metadata": {},
   "source": [
    "enumerate 함수는 데이터와 해당 데이터의 index 를 함께 출력합니다."
   ]
  },
  {
   "cell_type": "code",
   "execution_count": 12,
   "metadata": {},
   "outputs": [
    {
     "name": "stdout",
     "output_type": "stream",
     "text": [
      "#0 = a\n",
      "#1 = b\n",
      "#2 = c\n",
      "#3 = d\n",
      "#4 = e\n"
     ]
    }
   ],
   "source": [
    "# Python enumerate\n",
    "for i, l1 in enumerate(l1):\n",
    "    print(f'#{i} = {l1}')"
   ]
  },
  {
   "cell_type": "markdown",
   "metadata": {},
   "source": [
    "이를 이용하여 모델의 패러매터들의 크기를 살펴봅니다. 이 모델은 784 -> 200 -> 50 으로 hidden representation 을 변경한 뒤, 10 개의 클래스로 구분하는 softmax regression 을 수행합니다. 이에 해당하는 weights 와 intercept 가 다음의 크기로 학습되었습니다."
   ]
  },
  {
   "cell_type": "code",
   "execution_count": 13,
   "metadata": {},
   "outputs": [
    {
     "name": "stdout",
     "output_type": "stream",
     "text": [
      "num layers = 3\n",
      "layer#1: coef=(784, 200), intercept=(200,)\n",
      "layer#2: coef=(200, 50), intercept=(50,)\n",
      "layer#3: coef=(50, 10), intercept=(10,)\n"
     ]
    }
   ],
   "source": [
    "print(f'num layers = {len(model.coefs_)}')\n",
    "\n",
    "coefs = model.coefs_\n",
    "intercepts = model.intercepts_\n",
    "\n",
    "for l, (coef, intercept) in enumerate(zip(coefs, intercepts)):\n",
    "    print(f'layer#{l+1}: coef={coef.shape}, intercept={intercept.shape}')"
   ]
  },
  {
   "cell_type": "code",
   "execution_count": 14,
   "metadata": {},
   "outputs": [
    {
     "data": {
      "text/plain": [
       "array([[ 0.00906187,  0.04710608,  0.02653178],\n",
       "       [-0.0517881 , -0.04819394, -0.01113287],\n",
       "       [ 0.06830596, -0.0948201 , -0.0511848 ]])"
      ]
     },
     "execution_count": 14,
     "metadata": {},
     "output_type": "execute_result"
    }
   ],
   "source": [
    "coefs[0][:3,:3]"
   ]
  },
  {
   "cell_type": "code",
   "execution_count": null,
   "metadata": {},
   "outputs": [],
   "source": []
  }
 ],
 "metadata": {
  "kernelspec": {
   "display_name": "Python 3",
   "language": "python",
   "name": "python3"
  },
  "language_info": {
   "codemirror_mode": {
    "name": "ipython",
    "version": 3
   },
   "file_extension": ".py",
   "mimetype": "text/x-python",
   "name": "python",
   "nbconvert_exporter": "python",
   "pygments_lexer": "ipython3",
   "version": "3.7.1"
  }
 },
 "nbformat": 4,
 "nbformat_minor": 2
}
