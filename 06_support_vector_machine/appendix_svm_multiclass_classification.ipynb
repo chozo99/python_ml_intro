{
 "cells": [
  {
   "cell_type": "markdown",
   "metadata": {},
   "source": [
    "SVM 은 binary classification 만 가능하기 때문에 multi class classification 문제에서는 one versus one 혹은 one versus others 방법을 이용해야 하며, 각 방법마다 학습되는 hyper plane 의 개수가 다릅니다. 이를 확인하기 위하여 scikit-learn 에서 제공하는 작은 크기의 MNIST 데이터에서 5 개의 클래스만 이용하여 각 방법으로 SVC 를 학습해 봅니다."
   ]
  },
  {
   "cell_type": "code",
   "execution_count": 1,
   "metadata": {},
   "outputs": [
    {
     "name": "stdout",
     "output_type": "stream",
     "text": [
      "[0 1 2 3 4]\n"
     ]
    },
    {
     "data": {
      "image/png": "[encoded data removed]",
      "text/plain": [
       "<PIL.Image.Image image mode=L size=64x64 at 0x7FE1AC096E48>"
      ]
     },
     "execution_count": 1,
     "metadata": {},
     "output_type": "execute_result"
    }
   ],
   "source": [
    "# multi-class classification\n",
    "import numpy as np\n",
    "from PIL import Image\n",
    "from sklearn.datasets import load_digits\n",
    "\n",
    "X, y = load_digits(n_class=5, return_X_y=True)\n",
    "print(np.unique(y))\n",
    "\n",
    "image = Image.fromarray(np.array(16 * X[0].reshape(8,8), dtype=np.uint8))\n",
    "image = image.resize((64, 64))\n",
    "image"
   ]
  },
  {
   "cell_type": "markdown",
   "metadata": {},
   "source": [
    "one versus others 는 #c 개수만큼의 hyper planes 을 학습하기 때문에 decision function 의 값이 (n data, c) 모양입니다. 그리고 각 column 의 순서는 아래의 주석과 같습니다."
   ]
  },
  {
   "cell_type": "code",
   "execution_count": 2,
   "metadata": {},
   "outputs": [
    {
     "data": {
      "text/plain": [
       "(901, 5)"
      ]
     },
     "execution_count": 2,
     "metadata": {},
     "output_type": "execute_result"
    }
   ],
   "source": [
    "from sklearn.svm import SVC\n",
    "\n",
    "# (o vs others), (1 vs others), ..., (4 vs others)\n",
    "svc_ovr = SVC(kernel='linear', decision_function_shape='ovr', probability=True)\n",
    "svc_ovr.fit(X, y)\n",
    "svc_ovr.decision_function(X).shape"
   ]
  },
  {
   "cell_type": "markdown",
   "metadata": {},
   "source": [
    "그러나 one versus one 는 #c (#c - 1) / 2 개수만큼의 hyper planes 을 학습하기 때문에 decision function 의 값의 모양이 다릅니다. 그리고 각 column 의 순서는 아래의 주석과 같습니다."
   ]
  },
  {
   "cell_type": "code",
   "execution_count": 3,
   "metadata": {},
   "outputs": [
    {
     "data": {
      "text/plain": [
       "(901, 10)"
      ]
     },
     "execution_count": 3,
     "metadata": {},
     "output_type": "execute_result"
    }
   ],
   "source": [
    "# (0 vs 1), (0 vs 2), (0 vs 3), (0 vs 4), (1 vs 2), ..., (3 vs 4)\n",
    "# n_classes * (n_classes) / 2 = 5 * 4 / 2 = 10\n",
    "svc_ovo = SVC(kernel='linear', decision_function_shape='ovo', probability=True)\n",
    "svc_ovo.fit(X, y)\n",
    "svc_ovo.decision_function(X).shape"
   ]
  },
  {
   "cell_type": "code",
   "execution_count": null,
   "metadata": {},
   "outputs": [],
   "source": []
  }
 ],
 "metadata": {
  "kernelspec": {
   "display_name": "Python 3",
   "language": "python",
   "name": "python3"
  },
  "language_info": {
   "codemirror_mode": {
    "name": "ipython",
    "version": 3
   },
   "file_extension": ".py",
   "mimetype": "text/x-python",
   "name": "python",
   "nbconvert_exporter": "python",
   "pygments_lexer": "ipython3",
   "version": "3.7.1"
  }
 },
 "nbformat": 4,
 "nbformat_minor": 2
}
