{
 "cells": [
  {
   "cell_type": "code",
   "execution_count": 1,
   "metadata": {},
   "outputs": [
    {
     "data": {
      "text/html": [
       "\n",
       "    <div class=\"bk-root\">\n",
       "        <a href=\"https://bokeh.org\" target=\"_blank\" class=\"bk-logo bk-logo-small bk-logo-notebook\"></a>\n",
       "        <span id=\"1001\">Loading BokehJS ...</span>\n",
       "    </div>"
      ]
     },
     "metadata": {},
     "output_type": "display_data"
    },
    {
     "data": {
      "application/javascript": [
       "\n",
       "(function(root) {\n",
       "  function now() {\n",
       "    return new Date();\n",
       "  }\n",
       "\n",
       "  var force = true;\n",
       "\n",
       "  if (typeof root._bokeh_onload_callbacks === \"undefined\" || force === true) {\n",
       "    root._bokeh_onload_callbacks = [];\n",
       "    root._bokeh_is_loading = undefined;\n",
       "  }\n",
       "\n",
       "  var JS_MIME_TYPE = 'application/javascript';\n",
       "  var HTML_MIME_TYPE = 'text/html';\n",
       "  var EXEC_MIME_TYPE = 'application/vnd.bokehjs_exec.v0+json';\n",
       "  var CLASS_NAME = 'output_bokeh rendered_html';\n",
       "\n",
       "  /**\n",
       "   * Render data to the DOM node\n",
       "   */\n",
       "  function render(props, node) {\n",
       "    var script = document.createElement(\"script\");\n",
       "    node.appendChild(script);\n",
       "  }\n",
       "\n",
       "  /**\n",
       "   * Handle when an output is cleared or removed\n",
       "   */\n",
       "  function handleClearOutput(event, handle) {\n",
       "    var cell = handle.cell;\n",
       "\n",
       "    var id = cell.output_area._bokeh_element_id;\n",
       "    var server_id = cell.output_area._bokeh_server_id;\n",
       "    // Clean up Bokeh references\n",
       "    if (id != null && id in Bokeh.index) {\n",
       "      Bokeh.index[id].model.document.clear();\n",
       "      delete Bokeh.index[id];\n",
       "    }\n",
       "\n",
       "    if (server_id !== undefined) {\n",
       "      // Clean up Bokeh references\n",
       "      var cmd = \"from bokeh.io.state import curstate; print(curstate().uuid_to_server['\" + server_id + \"'].get_sessions()[0].document.roots[0]._id)\";\n",
       "      cell.notebook.kernel.execute(cmd, {\n",
       "        iopub: {\n",
       "          output: function(msg) {\n",
       "            var id = msg.content.text.trim();\n",
       "            if (id in Bokeh.index) {\n",
       "              Bokeh.index[id].model.document.clear();\n",
       "              delete Bokeh.index[id];\n",
       "            }\n",
       "          }\n",
       "        }\n",
       "      });\n",
       "      // Destroy server and session\n",
       "      var cmd = \"import bokeh.io.notebook as ion; ion.destroy_server('\" + server_id + \"')\";\n",
       "      cell.notebook.kernel.execute(cmd);\n",
       "    }\n",
       "  }\n",
       "\n",
       "  /**\n",
       "   * Handle when a new output is added\n",
       "   */\n",
       "  function handleAddOutput(event, handle) {\n",
       "    var output_area = handle.output_area;\n",
       "    var output = handle.output;\n",
       "\n",
       "    // limit handleAddOutput to display_data with EXEC_MIME_TYPE content only\n",
       "    if ((output.output_type != \"display_data\") || (!output.data.hasOwnProperty(EXEC_MIME_TYPE))) {\n",
       "      return\n",
       "    }\n",
       "\n",
       "    var toinsert = output_area.element.find(\".\" + CLASS_NAME.split(' ')[0]);\n",
       "\n",
       "    if (output.metadata[EXEC_MIME_TYPE][\"id\"] !== undefined) {\n",
       "      toinsert[toinsert.length - 1].firstChild.textContent = output.data[JS_MIME_TYPE];\n",
       "      // store reference to embed id on output_area\n",
       "      output_area._bokeh_element_id = output.metadata[EXEC_MIME_TYPE][\"id\"];\n",
       "    }\n",
       "    if (output.metadata[EXEC_MIME_TYPE][\"server_id\"] !== undefined) {\n",
       "      var bk_div = document.createElement(\"div\");\n",
       "      bk_div.innerHTML = output.data[HTML_MIME_TYPE];\n",
       "      var script_attrs = bk_div.children[0].attributes;\n",
       "      for (var i = 0; i < script_attrs.length; i++) {\n",
       "        toinsert[toinsert.length - 1].firstChild.setAttribute(script_attrs[i].name, script_attrs[i].value);\n",
       "      }\n",
       "      // store reference to server id on output_area\n",
       "      output_area._bokeh_server_id = output.metadata[EXEC_MIME_TYPE][\"server_id\"];\n",
       "    }\n",
       "  }\n",
       "\n",
       "  function register_renderer(events, OutputArea) {\n",
       "\n",
       "    function append_mime(data, metadata, element) {\n",
       "      // create a DOM node to render to\n",
       "      var toinsert = this.create_output_subarea(\n",
       "        metadata,\n",
       "        CLASS_NAME,\n",
       "        EXEC_MIME_TYPE\n",
       "      );\n",
       "      this.keyboard_manager.register_events(toinsert);\n",
       "      // Render to node\n",
       "      var props = {data: data, metadata: metadata[EXEC_MIME_TYPE]};\n",
       "      render(props, toinsert[toinsert.length - 1]);\n",
       "      element.append(toinsert);\n",
       "      return toinsert\n",
       "    }\n",
       "\n",
       "    /* Handle when an output is cleared or removed */\n",
       "    events.on('clear_output.CodeCell', handleClearOutput);\n",
       "    events.on('delete.Cell', handleClearOutput);\n",
       "\n",
       "    /* Handle when a new output is added */\n",
       "    events.on('output_added.OutputArea', handleAddOutput);\n",
       "\n",
       "    /**\n",
       "     * Register the mime type and append_mime function with output_area\n",
       "     */\n",
       "    OutputArea.prototype.register_mime_type(EXEC_MIME_TYPE, append_mime, {\n",
       "      /* Is output safe? */\n",
       "      safe: true,\n",
       "      /* Index of renderer in `output_area.display_order` */\n",
       "      index: 0\n",
       "    });\n",
       "  }\n",
       "\n",
       "  // register the mime type if in Jupyter Notebook environment and previously unregistered\n",
       "  if (root.Jupyter !== undefined) {\n",
       "    var events = require('base/js/events');\n",
       "    var OutputArea = require('notebook/js/outputarea').OutputArea;\n",
       "\n",
       "    if (OutputArea.prototype.mime_types().indexOf(EXEC_MIME_TYPE) == -1) {\n",
       "      register_renderer(events, OutputArea);\n",
       "    }\n",
       "  }\n",
       "\n",
       "  \n",
       "  if (typeof (root._bokeh_timeout) === \"undefined\" || force === true) {\n",
       "    root._bokeh_timeout = Date.now() + 5000;\n",
       "    root._bokeh_failed_load = false;\n",
       "  }\n",
       "\n",
       "  var NB_LOAD_WARNING = {'data': {'text/html':\n",
       "     \"<div style='background-color: #fdd'>\\n\"+\n",
       "     \"<p>\\n\"+\n",
       "     \"BokehJS does not appear to have successfully loaded. If loading BokehJS from CDN, this \\n\"+\n",
       "     \"may be due to a slow or bad network connection. Possible fixes:\\n\"+\n",
       "     \"</p>\\n\"+\n",
       "     \"<ul>\\n\"+\n",
       "     \"<li>re-rerun `output_notebook()` to attempt to load from CDN again, or</li>\\n\"+\n",
       "     \"<li>use INLINE resources instead, as so:</li>\\n\"+\n",
       "     \"</ul>\\n\"+\n",
       "     \"<code>\\n\"+\n",
       "     \"from bokeh.resources import INLINE\\n\"+\n",
       "     \"output_notebook(resources=INLINE)\\n\"+\n",
       "     \"</code>\\n\"+\n",
       "     \"</div>\"}};\n",
       "\n",
       "  function display_loaded() {\n",
       "    var el = document.getElementById(\"1001\");\n",
       "    if (el != null) {\n",
       "      el.textContent = \"BokehJS is loading...\";\n",
       "    }\n",
       "    if (root.Bokeh !== undefined) {\n",
       "      if (el != null) {\n",
       "        el.textContent = \"BokehJS \" + root.Bokeh.version + \" successfully loaded.\";\n",
       "      }\n",
       "    } else if (Date.now() < root._bokeh_timeout) {\n",
       "      setTimeout(display_loaded, 100)\n",
       "    }\n",
       "  }\n",
       "\n",
       "\n",
       "  function run_callbacks() {\n",
       "    try {\n",
       "      root._bokeh_onload_callbacks.forEach(function(callback) {\n",
       "        if (callback != null)\n",
       "          callback();\n",
       "      });\n",
       "    } finally {\n",
       "      delete root._bokeh_onload_callbacks\n",
       "    }\n",
       "    console.debug(\"Bokeh: all callbacks have finished\");\n",
       "  }\n",
       "\n",
       "  function load_libs(css_urls, js_urls, callback) {\n",
       "    if (css_urls == null) css_urls = [];\n",
       "    if (js_urls == null) js_urls = [];\n",
       "\n",
       "    root._bokeh_onload_callbacks.push(callback);\n",
       "    if (root._bokeh_is_loading > 0) {\n",
       "      console.debug(\"Bokeh: BokehJS is being loaded, scheduling callback at\", now());\n",
       "      return null;\n",
       "    }\n",
       "    if (js_urls == null || js_urls.length === 0) {\n",
       "      run_callbacks();\n",
       "      return null;\n",
       "    }\n",
       "    console.debug(\"Bokeh: BokehJS not loaded, scheduling load and callback at\", now());\n",
       "    root._bokeh_is_loading = css_urls.length + js_urls.length;\n",
       "\n",
       "    function on_load() {\n",
       "      root._bokeh_is_loading--;\n",
       "      if (root._bokeh_is_loading === 0) {\n",
       "        console.debug(\"Bokeh: all BokehJS libraries/stylesheets loaded\");\n",
       "        run_callbacks()\n",
       "      }\n",
       "    }\n",
       "\n",
       "    function on_error() {\n",
       "      console.error(\"failed to load \" + url);\n",
       "    }\n",
       "\n",
       "    for (var i = 0; i < css_urls.length; i++) {\n",
       "      var url = css_urls[i];\n",
       "      const element = document.createElement(\"link\");\n",
       "      element.onload = on_load;\n",
       "      element.onerror = on_error;\n",
       "      element.rel = \"stylesheet\";\n",
       "      element.type = \"text/css\";\n",
       "      element.href = url;\n",
       "      console.debug(\"Bokeh: injecting link tag for BokehJS stylesheet: \", url);\n",
       "      document.body.appendChild(element);\n",
       "    }\n",
       "\n",
       "    for (var i = 0; i < js_urls.length; i++) {\n",
       "      var url = js_urls[i];\n",
       "      var element = document.createElement('script');\n",
       "      element.onload = on_load;\n",
       "      element.onerror = on_error;\n",
       "      element.async = false;\n",
       "      element.src = url;\n",
       "      console.debug(\"Bokeh: injecting script tag for BokehJS library: \", url);\n",
       "      document.head.appendChild(element);\n",
       "    }\n",
       "  };var element = document.getElementById(\"1001\");\n",
       "  if (element == null) {\n",
       "    console.error(\"Bokeh: ERROR: autoload.js configured with elementid '1001' but no matching script tag was found. \")\n",
       "    return false;\n",
       "  }\n",
       "\n",
       "  function inject_raw_css(css) {\n",
       "    const element = document.createElement(\"style\");\n",
       "    element.appendChild(document.createTextNode(css));\n",
       "    document.body.appendChild(element);\n",
       "  }\n",
       "\n",
       "  \n",
       "  var js_urls = [\"https://cdn.pydata.org/bokeh/release/bokeh-1.4.0.min.js\", \"https://cdn.pydata.org/bokeh/release/bokeh-widgets-1.4.0.min.js\", \"https://cdn.pydata.org/bokeh/release/bokeh-tables-1.4.0.min.js\", \"https://cdn.pydata.org/bokeh/release/bokeh-gl-1.4.0.min.js\"];\n",
       "  var css_urls = [];\n",
       "  \n",
       "\n",
       "  var inline_js = [\n",
       "    function(Bokeh) {\n",
       "      Bokeh.set_log_level(\"info\");\n",
       "    },\n",
       "    function(Bokeh) {\n",
       "    \n",
       "    \n",
       "    }\n",
       "  ];\n",
       "\n",
       "  function run_inline_js() {\n",
       "    \n",
       "    if (root.Bokeh !== undefined || force === true) {\n",
       "      \n",
       "    for (var i = 0; i < inline_js.length; i++) {\n",
       "      inline_js[i].call(root, root.Bokeh);\n",
       "    }\n",
       "    if (force === true) {\n",
       "        display_loaded();\n",
       "      }} else if (Date.now() < root._bokeh_timeout) {\n",
       "      setTimeout(run_inline_js, 100);\n",
       "    } else if (!root._bokeh_failed_load) {\n",
       "      console.log(\"Bokeh: BokehJS failed to load within specified timeout.\");\n",
       "      root._bokeh_failed_load = true;\n",
       "    } else if (force !== true) {\n",
       "      var cell = $(document.getElementById(\"1001\")).parents('.cell').data().cell;\n",
       "      cell.output_area.append_execute_result(NB_LOAD_WARNING)\n",
       "    }\n",
       "\n",
       "  }\n",
       "\n",
       "  if (root._bokeh_is_loading === 0) {\n",
       "    console.debug(\"Bokeh: BokehJS loaded, going straight to plotting\");\n",
       "    run_inline_js();\n",
       "  } else {\n",
       "    load_libs(css_urls, js_urls, function() {\n",
       "      console.debug(\"Bokeh: BokehJS plotting callback run at\", now());\n",
       "      run_inline_js();\n",
       "    });\n",
       "  }\n",
       "}(window));"
      ],
      "application/vnd.bokehjs_load.v0+json": "\n(function(root) {\n  function now() {\n    return new Date();\n  }\n\n  var force = true;\n\n  if (typeof root._bokeh_onload_callbacks === \"undefined\" || force === true) {\n    root._bokeh_onload_callbacks = [];\n    root._bokeh_is_loading = undefined;\n  }\n\n  \n\n  \n  if (typeof (root._bokeh_timeout) === \"undefined\" || force === true) {\n    root._bokeh_timeout = Date.now() + 5000;\n    root._bokeh_failed_load = false;\n  }\n\n  var NB_LOAD_WARNING = {'data': {'text/html':\n     \"<div style='background-color: #fdd'>\\n\"+\n     \"<p>\\n\"+\n     \"BokehJS does not appear to have successfully loaded. If loading BokehJS from CDN, this \\n\"+\n     \"may be due to a slow or bad network connection. Possible fixes:\\n\"+\n     \"</p>\\n\"+\n     \"<ul>\\n\"+\n     \"<li>re-rerun `output_notebook()` to attempt to load from CDN again, or</li>\\n\"+\n     \"<li>use INLINE resources instead, as so:</li>\\n\"+\n     \"</ul>\\n\"+\n     \"<code>\\n\"+\n     \"from bokeh.resources import INLINE\\n\"+\n     \"output_notebook(resources=INLINE)\\n\"+\n     \"</code>\\n\"+\n     \"</div>\"}};\n\n  function display_loaded() {\n    var el = document.getElementById(\"1001\");\n    if (el != null) {\n      el.textContent = \"BokehJS is loading...\";\n    }\n    if (root.Bokeh !== undefined) {\n      if (el != null) {\n        el.textContent = \"BokehJS \" + root.Bokeh.version + \" successfully loaded.\";\n      }\n    } else if (Date.now() < root._bokeh_timeout) {\n      setTimeout(display_loaded, 100)\n    }\n  }\n\n\n  function run_callbacks() {\n    try {\n      root._bokeh_onload_callbacks.forEach(function(callback) {\n        if (callback != null)\n          callback();\n      });\n    } finally {\n      delete root._bokeh_onload_callbacks\n    }\n    console.debug(\"Bokeh: all callbacks have finished\");\n  }\n\n  function load_libs(css_urls, js_urls, callback) {\n    if (css_urls == null) css_urls = [];\n    if (js_urls == null) js_urls = [];\n\n    root._bokeh_onload_callbacks.push(callback);\n    if (root._bokeh_is_loading > 0) {\n      console.debug(\"Bokeh: BokehJS is being loaded, scheduling callback at\", now());\n      return null;\n    }\n    if (js_urls == null || js_urls.length === 0) {\n      run_callbacks();\n      return null;\n    }\n    console.debug(\"Bokeh: BokehJS not loaded, scheduling load and callback at\", now());\n    root._bokeh_is_loading = css_urls.length + js_urls.length;\n\n    function on_load() {\n      root._bokeh_is_loading--;\n      if (root._bokeh_is_loading === 0) {\n        console.debug(\"Bokeh: all BokehJS libraries/stylesheets loaded\");\n        run_callbacks()\n      }\n    }\n\n    function on_error() {\n      console.error(\"failed to load \" + url);\n    }\n\n    for (var i = 0; i < css_urls.length; i++) {\n      var url = css_urls[i];\n      const element = document.createElement(\"link\");\n      element.onload = on_load;\n      element.onerror = on_error;\n      element.rel = \"stylesheet\";\n      element.type = \"text/css\";\n      element.href = url;\n      console.debug(\"Bokeh: injecting link tag for BokehJS stylesheet: \", url);\n      document.body.appendChild(element);\n    }\n\n    for (var i = 0; i < js_urls.length; i++) {\n      var url = js_urls[i];\n      var element = document.createElement('script');\n      element.onload = on_load;\n      element.onerror = on_error;\n      element.async = false;\n      element.src = url;\n      console.debug(\"Bokeh: injecting script tag for BokehJS library: \", url);\n      document.head.appendChild(element);\n    }\n  };var element = document.getElementById(\"1001\");\n  if (element == null) {\n    console.error(\"Bokeh: ERROR: autoload.js configured with elementid '1001' but no matching script tag was found. \")\n    return false;\n  }\n\n  function inject_raw_css(css) {\n    const element = document.createElement(\"style\");\n    element.appendChild(document.createTextNode(css));\n    document.body.appendChild(element);\n  }\n\n  \n  var js_urls = [\"https://cdn.pydata.org/bokeh/release/bokeh-1.4.0.min.js\", \"https://cdn.pydata.org/bokeh/release/bokeh-widgets-1.4.0.min.js\", \"https://cdn.pydata.org/bokeh/release/bokeh-tables-1.4.0.min.js\", \"https://cdn.pydata.org/bokeh/release/bokeh-gl-1.4.0.min.js\"];\n  var css_urls = [];\n  \n\n  var inline_js = [\n    function(Bokeh) {\n      Bokeh.set_log_level(\"info\");\n    },\n    function(Bokeh) {\n    \n    \n    }\n  ];\n\n  function run_inline_js() {\n    \n    if (root.Bokeh !== undefined || force === true) {\n      \n    for (var i = 0; i < inline_js.length; i++) {\n      inline_js[i].call(root, root.Bokeh);\n    }\n    if (force === true) {\n        display_loaded();\n      }} else if (Date.now() < root._bokeh_timeout) {\n      setTimeout(run_inline_js, 100);\n    } else if (!root._bokeh_failed_load) {\n      console.log(\"Bokeh: BokehJS failed to load within specified timeout.\");\n      root._bokeh_failed_load = true;\n    } else if (force !== true) {\n      var cell = $(document.getElementById(\"1001\")).parents('.cell').data().cell;\n      cell.output_area.append_execute_result(NB_LOAD_WARNING)\n    }\n\n  }\n\n  if (root._bokeh_is_loading === 0) {\n    console.debug(\"Bokeh: BokehJS loaded, going straight to plotting\");\n    run_inline_js();\n  } else {\n    load_libs(css_urls, js_urls, function() {\n      console.debug(\"Bokeh: BokehJS plotting callback run at\", now());\n      run_inline_js();\n    });\n  }\n}(window));"
     },
     "metadata": {},
     "output_type": "display_data"
    }
   ],
   "source": [
    "import numpy as np\n",
    "from bokeh.plotting import figure, output_notebook, show\n",
    "from bokeh.io import save\n",
    "from sklearn.linear_model import LogisticRegression\n",
    "\n",
    "\n",
    "output_notebook()"
   ]
  },
  {
   "cell_type": "code",
   "execution_count": 2,
   "metadata": {},
   "outputs": [
    {
     "data": {
      "text/html": [
       "\n",
       "\n",
       "\n",
       "\n",
       "\n",
       "\n",
       "  <div class=\"bk-root\" id=\"2678a501-b0e7-4281-b3db-9fd47ec23774\" data-root-id=\"1101\"></div>\n"
      ]
     },
     "metadata": {},
     "output_type": "display_data"
    },
    {
     "data": {
      "application/javascript": [
       "(function(root) {\n",
       "  function embed_document(root) {\n",
       "    \n",
       "  var docs_json = {\"f1332e39-f49a-4eea-9a9e-1ffbfee489cf\":{\"roots\":{\"references\":[{\"attributes\":{\"children\":[{\"id\":\"1100\",\"type\":\"ToolbarBox\"},{\"id\":\"1098\",\"type\":\"GridBox\"}]},\"id\":\"1101\",\"type\":\"Column\"},{\"attributes\":{},\"id\":\"1019\",\"type\":\"BasicTicker\"},{\"attributes\":{\"active_drag\":\"auto\",\"active_inspect\":\"auto\",\"active_multi\":null,\"active_scroll\":\"auto\",\"active_tap\":\"auto\",\"tools\":[{\"id\":\"1062\",\"type\":\"PanTool\"},{\"id\":\"1063\",\"type\":\"WheelZoomTool\"},{\"id\":\"1064\",\"type\":\"BoxZoomTool\"},{\"id\":\"1065\",\"type\":\"SaveTool\"},{\"id\":\"1066\",\"type\":\"ResetTool\"},{\"id\":\"1067\",\"type\":\"HelpTool\"}]},\"id\":\"1068\",\"type\":\"Toolbar\"},{\"attributes\":{},\"id\":\"1048\",\"type\":\"LinearScale\"},{\"attributes\":{\"source\":{\"id\":\"1075\",\"type\":\"ColumnDataSource\"}},\"id\":\"1079\",\"type\":\"CDSView\"},{\"attributes\":{\"dimension\":1,\"ticker\":{\"id\":\"1019\",\"type\":\"BasicTicker\"}},\"id\":\"1022\",\"type\":\"Grid\"},{\"attributes\":{},\"id\":\"1050\",\"type\":\"LinearScale\"},{\"attributes\":{\"callback\":null,\"data\":{\"x\":{\"__ndarray__\":\"exSuR+F6hD9MaRLqe/aTP1rITTCHr50/tJNEO0m0oz87Q2LezpCoP8Lyf4FUba0/JNFOEu0ksT/nqN3jL5OzP6uAbLVyAbY/b1j7hrVvuD8yMIpY+N26P/UHGSo7TL0/ud+n+326vz+/W5tmYBTBP6DHYs+BS8I/gjMqOKOCwz9kn/GgxLnEP0YLuQnm8MU/KHeAcgcoxz8J40fbKF/IP+tOD0RKlsk/zbrWrGvNyj+uJp4VjQTMP5CSZX6uO80/cv4s589yzj9UavRP8anPPxvrXVyJcNA/DKHBEBoM0T/8ViXFqqfRP+0MiXk7Q9I/3sLsLcze0j/PeFDiXHrTP8AutJbtFdQ/seQXS36x1D+imnv/Dk3VP5NQ37Of6NU/hAZDaDCE1j90vKYcwR/XP2VyCtFRu9c/VihuheJW2D9H3tE5c/LYPziUNe4Djtk/KUqZopQp2j8aAP1WJcXaPwq2YAu2YNs/+2vEv0b82z/sISh015fcP93XiyhoM90/zo3v3PjO3T+/Q1ORiWreP7D5tkUaBt8/oa8a+qqh3z/JMj/XnR7gP8ENcTFmbOA/uuiiiy664D+yw9Tl9gfhP6qeBkC/VeE/o3k4moej4T+bVGr0T/HhP5QvnE4YP+I/jArOqOCM4j+F5f8CqdriP33AMV1xKOM/dptjtzl24z9udpURAsTjP2ZRx2vKEeQ/Xyz5xZJf5D9XBysgW63kP1DiXHoj++Q/SL2O1OtI5T9BmMAutJblPzlz8oh85OU/Mk4k40Qy5j8qKVY9DYDmPyIEiJfVzeY/G9+58Z0b5z8TuutLZmnnPwyVHaYut+c/BHBPAPcE6D/9SoFav1LoP/Uls7SHoOg/7QDlDlDu6D/m2xZpGDzpP962SMPgiek/15F6HanX6T/PbKx3cSXqP8hH3tE5c+o/wCIQLALB6j+4/UGGyg7rP7HYc+CSXOs/qbOlOluq6z+ijteUI/jrP5ppCe/rRew/k0Q7SbST7D+LH22jfOHsP4T6nv1EL+0/fNXQVw197T90sAKy1crtP22LNAyeGO4/ZmZmZmZm7j8=\",\"dtype\":\"float64\",\"shape\":[100]},\"y\":{\"__ndarray__\":\"W79SoNavhD9vQ0nyF1yUPziGkEFqkp4/gAdnRy9+pD+MeXUrwM2pP/9NR4O1OK8/REBtsvJfsj+JwgRaFzK1P47ezcs8E7g/hrHa+tsDuz8Qihn8cgS+P+BJYqbCisA/qQyzDs4bwj+ppuVQo7XDP6PAIzONWMU/Cz1Z1dkExz+GHcvh2rrIPw+mBcHleso/hCNn0VNFzD9wPpOighrOP6n3ITXU+s8/WbRyn1fz0D/zHhW6P+/RP7BbMOta8dI/mXdThOT50z+6qVzVGgnVP07sbV0/H9Y/Y8qu/5Y81z/4tDQ8amHYP0uxdG0Fjtk/EterCrnC2j83Cbjv2f/bP5rE56rBRd0/xwNX0c6U3j9qSoBaZe3fP5ob3oH3p+A/Bek/3m1e4T/HRyEOURriP6WRiPHf2+I/ah35Ql2j4z9sXDPkD3HkPw1aPDJDReU/7Rh+YUcg5j8ppO3icQLnP1UbQ9Md7Oc/ljZ0dazd6D+Bjsu5hdfpP2dUJ9MY2uo/0kQi3Nzl6z863yqOUfvsP1kB2QwAG+4/pvIqyHtF7z9jlV28sT3wP55UvRyx3vA/YRiGYRiG8T/qzMNmSzTyP36XG0+26fI/1y7pY86m8z/BqWwSE2z0P8FehwoPOvU/E2FWhFkR9j/kWvSyl/L2P4E03Wt+3vc/Gh3hC9TV+D+koVqkctn5P+WsiX1K6vo/lMCm/WQJ/D8JsJkH6Df9P1eJa+gZd/4/7GXI72XI/z/XkUHrsJYAQDU1Og/qUwFAhu7m0N0cAkDT6uhKrPICQA6haqub1gNA4hZ2tR7KBEBXM8uj3M4FQNQ198e65gZA0qkSXOgTCECNFQgj7VgJQBzrqaa7uApAn9EjKsg2DEDd12fLJdcNQPWBp9yrng9AMJlMJpPJEEBwnwiRyt0RQLDn9mhAEBNASdfN8TVmFEDS3nVAN+YVQCUw9pSHmBdAVWVxRruHGUBuGfxMl8EbQLsB+CNeWB5AUWvs+mayIEBc9Qd6pIQiQMM/QY6EuyRArhf4V417J0A8gfVTYP0qQC8mSMLFnS9A+///////MkA=\",\"dtype\":\"float64\",\"shape\":[100]}},\"selected\":{\"id\":\"1087\",\"type\":\"Selection\"},\"selection_policy\":{\"id\":\"1086\",\"type\":\"UnionRenderers\"}},\"id\":\"1036\",\"type\":\"ColumnDataSource\"},{\"attributes\":{\"children\":[[{\"id\":\"1002\",\"subtype\":\"Figure\",\"type\":\"Plot\"},0,0],[{\"id\":\"1041\",\"subtype\":\"Figure\",\"type\":\"Plot\"},0,1]]},\"id\":\"1098\",\"type\":\"GridBox\"},{\"attributes\":{},\"id\":\"1023\",\"type\":\"PanTool\"},{\"attributes\":{\"axis_label\":\"Probability\",\"formatter\":{\"id\":\"1091\",\"type\":\"BasicTickFormatter\"},\"ticker\":{\"id\":\"1053\",\"type\":\"BasicTicker\"}},\"id\":\"1052\",\"type\":\"LinearAxis\"},{\"attributes\":{},\"id\":\"1053\",\"type\":\"BasicTicker\"},{\"attributes\":{\"bottom_units\":\"screen\",\"fill_alpha\":{\"value\":0.5},\"fill_color\":{\"value\":\"lightgrey\"},\"left_units\":\"screen\",\"level\":\"overlay\",\"line_alpha\":{\"value\":1.0},\"line_color\":{\"value\":\"black\"},\"line_dash\":[4,4],\"line_width\":{\"value\":2},\"render_mode\":\"css\",\"right_units\":\"screen\",\"top_units\":\"screen\"},\"id\":\"1085\",\"type\":\"BoxAnnotation\"},{\"attributes\":{\"below\":[{\"id\":\"1013\",\"type\":\"LinearAxis\"}],\"center\":[{\"id\":\"1017\",\"type\":\"Grid\"},{\"id\":\"1022\",\"type\":\"Grid\"}],\"left\":[{\"id\":\"1018\",\"type\":\"LinearAxis\"}],\"plot_height\":400,\"plot_width\":400,\"renderers\":[{\"id\":\"1039\",\"type\":\"GlyphRenderer\"}],\"title\":{\"id\":\"1003\",\"type\":\"Title\"},\"toolbar\":{\"id\":\"1029\",\"type\":\"Toolbar\"},\"toolbar_location\":null,\"x_range\":{\"id\":\"1005\",\"type\":\"DataRange1d\"},\"x_scale\":{\"id\":\"1009\",\"type\":\"LinearScale\"},\"y_range\":{\"id\":\"1007\",\"type\":\"DataRange1d\"},\"y_scale\":{\"id\":\"1011\",\"type\":\"LinearScale\"}},\"id\":\"1002\",\"subtype\":\"Figure\",\"type\":\"Plot\"},{\"attributes\":{\"ticker\":{\"id\":\"1053\",\"type\":\"BasicTicker\"}},\"id\":\"1056\",\"type\":\"Grid\"},{\"attributes\":{},\"id\":\"1024\",\"type\":\"WheelZoomTool\"},{\"attributes\":{},\"id\":\"1082\",\"type\":\"BasicTickFormatter\"},{\"attributes\":{},\"id\":\"1086\",\"type\":\"UnionRenderers\"},{\"attributes\":{\"axis_label\":\"Logit\",\"formatter\":{\"id\":\"1093\",\"type\":\"BasicTickFormatter\"},\"ticker\":{\"id\":\"1058\",\"type\":\"BasicTicker\"}},\"id\":\"1057\",\"type\":\"LinearAxis\"},{\"attributes\":{},\"id\":\"1084\",\"type\":\"BasicTickFormatter\"},{\"attributes\":{\"overlay\":{\"id\":\"1085\",\"type\":\"BoxAnnotation\"}},\"id\":\"1025\",\"type\":\"BoxZoomTool\"},{\"attributes\":{},\"id\":\"1087\",\"type\":\"Selection\"},{\"attributes\":{},\"id\":\"1058\",\"type\":\"BasicTicker\"},{\"attributes\":{},\"id\":\"1026\",\"type\":\"SaveTool\"},{\"attributes\":{},\"id\":\"1091\",\"type\":\"BasicTickFormatter\"},{\"attributes\":{\"dimension\":1,\"ticker\":{\"id\":\"1058\",\"type\":\"BasicTicker\"}},\"id\":\"1061\",\"type\":\"Grid\"},{\"attributes\":{},\"id\":\"1027\",\"type\":\"ResetTool\"},{\"attributes\":{},\"id\":\"1093\",\"type\":\"BasicTickFormatter\"},{\"attributes\":{},\"id\":\"1028\",\"type\":\"HelpTool\"},{\"attributes\":{\"ticker\":{\"id\":\"1014\",\"type\":\"BasicTicker\"}},\"id\":\"1017\",\"type\":\"Grid\"},{\"attributes\":{\"bottom_units\":\"screen\",\"fill_alpha\":{\"value\":0.5},\"fill_color\":{\"value\":\"lightgrey\"},\"left_units\":\"screen\",\"level\":\"overlay\",\"line_alpha\":{\"value\":1.0},\"line_color\":{\"value\":\"black\"},\"line_dash\":[4,4],\"line_width\":{\"value\":2},\"render_mode\":\"css\",\"right_units\":\"screen\",\"top_units\":\"screen\"},\"id\":\"1094\",\"type\":\"BoxAnnotation\"},{\"attributes\":{\"fill_color\":{\"value\":\"#1f77b4\"},\"line_color\":{\"value\":\"#1f77b4\"},\"size\":{\"units\":\"screen\",\"value\":5},\"x\":{\"field\":\"x\"},\"y\":{\"field\":\"y\"}},\"id\":\"1076\",\"type\":\"Scatter\"},{\"attributes\":{\"text\":\"Probability - Odds function\"},\"id\":\"1003\",\"type\":\"Title\"},{\"attributes\":{\"active_drag\":\"auto\",\"active_inspect\":\"auto\",\"active_multi\":null,\"active_scroll\":\"auto\",\"active_tap\":\"auto\",\"tools\":[{\"id\":\"1023\",\"type\":\"PanTool\"},{\"id\":\"1024\",\"type\":\"WheelZoomTool\"},{\"id\":\"1025\",\"type\":\"BoxZoomTool\"},{\"id\":\"1026\",\"type\":\"SaveTool\"},{\"id\":\"1027\",\"type\":\"ResetTool\"},{\"id\":\"1028\",\"type\":\"HelpTool\"}]},\"id\":\"1029\",\"type\":\"Toolbar\"},{\"attributes\":{\"callback\":null,\"data\":{\"x\":{\"__ndarray__\":\"exSuR+F6hD9MaRLqe/aTP1rITTCHr50/tJNEO0m0oz87Q2LezpCoP8Lyf4FUba0/JNFOEu0ksT/nqN3jL5OzP6uAbLVyAbY/b1j7hrVvuD8yMIpY+N26P/UHGSo7TL0/ud+n+326vz+/W5tmYBTBP6DHYs+BS8I/gjMqOKOCwz9kn/GgxLnEP0YLuQnm8MU/KHeAcgcoxz8J40fbKF/IP+tOD0RKlsk/zbrWrGvNyj+uJp4VjQTMP5CSZX6uO80/cv4s589yzj9UavRP8anPPxvrXVyJcNA/DKHBEBoM0T/8ViXFqqfRP+0MiXk7Q9I/3sLsLcze0j/PeFDiXHrTP8AutJbtFdQ/seQXS36x1D+imnv/Dk3VP5NQ37Of6NU/hAZDaDCE1j90vKYcwR/XP2VyCtFRu9c/VihuheJW2D9H3tE5c/LYPziUNe4Djtk/KUqZopQp2j8aAP1WJcXaPwq2YAu2YNs/+2vEv0b82z/sISh015fcP93XiyhoM90/zo3v3PjO3T+/Q1ORiWreP7D5tkUaBt8/oa8a+qqh3z/JMj/XnR7gP8ENcTFmbOA/uuiiiy664D+yw9Tl9gfhP6qeBkC/VeE/o3k4moej4T+bVGr0T/HhP5QvnE4YP+I/jArOqOCM4j+F5f8CqdriP33AMV1xKOM/dptjtzl24z9udpURAsTjP2ZRx2vKEeQ/Xyz5xZJf5D9XBysgW63kP1DiXHoj++Q/SL2O1OtI5T9BmMAutJblPzlz8oh85OU/Mk4k40Qy5j8qKVY9DYDmPyIEiJfVzeY/G9+58Z0b5z8TuutLZmnnPwyVHaYut+c/BHBPAPcE6D/9SoFav1LoP/Uls7SHoOg/7QDlDlDu6D/m2xZpGDzpP962SMPgiek/15F6HanX6T/PbKx3cSXqP8hH3tE5c+o/wCIQLALB6j+4/UGGyg7rP7HYc+CSXOs/qbOlOluq6z+ijteUI/jrP5ppCe/rRew/k0Q7SbST7D+LH22jfOHsP4T6nv1EL+0/fNXQVw197T90sAKy1crtP22LNAyeGO4/ZmZmZmZm7j8=\",\"dtype\":\"float64\",\"shape\":[100]},\"y\":{\"__ndarray__\":\"Kx0WGWdhEsBLiBtw4lcPwJIBC1VTFwzAZgWwmve+CcBD1/rwBucHwB3QLFOzYAbAhzBcHNYSBcB1VarxWO4DwHjLqnh36QLAXOy/noH9AcDSoLpgryUBwHC0YyV3XgDAaL1W4U9K/7+VW7CLUu/9v6zhZUKiqPy/p/yA+Y5z+7+2Yfrn5E36v/0S4STQNfm/MULa7ccp+L+DaAA8fyj3v6DW6RnZMPa/nejZrt9B9b/QZm5GvVr0v1VJEdO2evO/izp+jieh8r8DixZ1fc3xv0SIfmo2//C/1WGW4t018L/jw9/lFeLuvxS7+W69YO2/xWYj9AXn6781A/QfUnTqvxoAN8cRCOm/a01yRMCh579ZNwYP40Dmv/dmu4MI5eS/usCD1saN479w7Lgmuzriv2AQWLCI6+C/hVZgK7A/378Jznp7ra7cv7qLFIhsI9q/Vnbf7led178PmurK4BvVvwkbzuB9ntK/AJv43Kok0L9EIYlCz1vLv0fVrz5vc8a/Xtk1e0KPwb8wJT0TtVy5v+InAqQyP6+/ZLOdyoWVl7/vMOmd/J2OP/zuPSkrG6s/26dALO1Jtz+zSBfgSoXAP04VvsOxaMU/DeBB0BhQyj/w/xYdcjzPP4exy7VaF9I/ZD6MrPCT1D9TOahSfhTXPyFrqsiLmdk/8OYFrqYj3D8lLszwYrPeP/uXCNmtpOA/m91YIRrz4T9mlGmeTEXjP6wTnd+gm+Q/kN1FaHj25T/CO914O1bnP5jzLPRZu+g/rXuzZUwm6j+mG7AvlZfrPwZQt+jBD+0/vueG8myP7j/N9RWrnwvwP56KSnr50/A///1Ojyqh8T/sPmXWpHPyP5C94FrnS/M/ewrehYAq9D+KfL7aEBD1P8+ZJ1RO/fU/M7j/jwjz9j/g+FsJLvL3P3Eq2LbS+/g/2+zxhTgR+j/oSnNe2jP7PzU8FaV6Zfw/wkT4qTao/T/Z1oApof7+P/BYgprzNQBAnu4vawL6AEB8DuEdCc4BQEpkXEhctQJA/0Cv6nS0A0Dzlwfrh9EEQPdtE3GOFQZAKrMEBjaOB0A=\",\"dtype\":\"float64\",\"shape\":[100]}},\"selected\":{\"id\":\"1096\",\"type\":\"Selection\"},\"selection_policy\":{\"id\":\"1095\",\"type\":\"UnionRenderers\"}},\"id\":\"1075\",\"type\":\"ColumnDataSource\"},{\"attributes\":{},\"id\":\"1095\",\"type\":\"UnionRenderers\"},{\"attributes\":{\"fill_color\":{\"value\":\"#1f77b4\"},\"line_color\":{\"value\":\"#1f77b4\"},\"size\":{\"units\":\"screen\",\"value\":5},\"x\":{\"field\":\"x\"},\"y\":{\"field\":\"y\"}},\"id\":\"1037\",\"type\":\"Scatter\"},{\"attributes\":{\"callback\":null},\"id\":\"1005\",\"type\":\"DataRange1d\"},{\"attributes\":{\"data_source\":{\"id\":\"1075\",\"type\":\"ColumnDataSource\"},\"glyph\":{\"id\":\"1076\",\"type\":\"Scatter\"},\"hover_glyph\":null,\"muted_glyph\":null,\"nonselection_glyph\":{\"id\":\"1077\",\"type\":\"Scatter\"},\"selection_glyph\":null,\"view\":{\"id\":\"1079\",\"type\":\"CDSView\"}},\"id\":\"1078\",\"type\":\"GlyphRenderer\"},{\"attributes\":{},\"id\":\"1096\",\"type\":\"Selection\"},{\"attributes\":{},\"id\":\"1062\",\"type\":\"PanTool\"},{\"attributes\":{\"callback\":null},\"id\":\"1007\",\"type\":\"DataRange1d\"},{\"attributes\":{\"tools\":[{\"id\":\"1023\",\"type\":\"PanTool\"},{\"id\":\"1024\",\"type\":\"WheelZoomTool\"},{\"id\":\"1025\",\"type\":\"BoxZoomTool\"},{\"id\":\"1026\",\"type\":\"SaveTool\"},{\"id\":\"1027\",\"type\":\"ResetTool\"},{\"id\":\"1028\",\"type\":\"HelpTool\"},{\"id\":\"1062\",\"type\":\"PanTool\"},{\"id\":\"1063\",\"type\":\"WheelZoomTool\"},{\"id\":\"1064\",\"type\":\"BoxZoomTool\"},{\"id\":\"1065\",\"type\":\"SaveTool\"},{\"id\":\"1066\",\"type\":\"ResetTool\"},{\"id\":\"1067\",\"type\":\"HelpTool\"}]},\"id\":\"1099\",\"type\":\"ProxyToolbar\"},{\"attributes\":{},\"id\":\"1063\",\"type\":\"WheelZoomTool\"},{\"attributes\":{\"fill_alpha\":{\"value\":0.1},\"fill_color\":{\"value\":\"#1f77b4\"},\"line_alpha\":{\"value\":0.1},\"line_color\":{\"value\":\"#1f77b4\"},\"size\":{\"units\":\"screen\",\"value\":5},\"x\":{\"field\":\"x\"},\"y\":{\"field\":\"y\"}},\"id\":\"1038\",\"type\":\"Scatter\"},{\"attributes\":{\"data_source\":{\"id\":\"1036\",\"type\":\"ColumnDataSource\"},\"glyph\":{\"id\":\"1037\",\"type\":\"Scatter\"},\"hover_glyph\":null,\"muted_glyph\":null,\"nonselection_glyph\":{\"id\":\"1038\",\"type\":\"Scatter\"},\"selection_glyph\":null,\"view\":{\"id\":\"1040\",\"type\":\"CDSView\"}},\"id\":\"1039\",\"type\":\"GlyphRenderer\"},{\"attributes\":{},\"id\":\"1009\",\"type\":\"LinearScale\"},{\"attributes\":{\"toolbar\":{\"id\":\"1099\",\"type\":\"ProxyToolbar\"},\"toolbar_location\":\"above\"},\"id\":\"1100\",\"type\":\"ToolbarBox\"},{\"attributes\":{\"overlay\":{\"id\":\"1094\",\"type\":\"BoxAnnotation\"}},\"id\":\"1064\",\"type\":\"BoxZoomTool\"},{\"attributes\":{\"source\":{\"id\":\"1036\",\"type\":\"ColumnDataSource\"}},\"id\":\"1040\",\"type\":\"CDSView\"},{\"attributes\":{},\"id\":\"1011\",\"type\":\"LinearScale\"},{\"attributes\":{},\"id\":\"1065\",\"type\":\"SaveTool\"},{\"attributes\":{\"below\":[{\"id\":\"1052\",\"type\":\"LinearAxis\"}],\"center\":[{\"id\":\"1056\",\"type\":\"Grid\"},{\"id\":\"1061\",\"type\":\"Grid\"}],\"left\":[{\"id\":\"1057\",\"type\":\"LinearAxis\"}],\"plot_height\":400,\"plot_width\":400,\"renderers\":[{\"id\":\"1078\",\"type\":\"GlyphRenderer\"}],\"title\":{\"id\":\"1042\",\"type\":\"Title\"},\"toolbar\":{\"id\":\"1068\",\"type\":\"Toolbar\"},\"toolbar_location\":null,\"x_range\":{\"id\":\"1044\",\"type\":\"DataRange1d\"},\"x_scale\":{\"id\":\"1048\",\"type\":\"LinearScale\"},\"y_range\":{\"id\":\"1046\",\"type\":\"DataRange1d\"},\"y_scale\":{\"id\":\"1050\",\"type\":\"LinearScale\"}},\"id\":\"1041\",\"subtype\":\"Figure\",\"type\":\"Plot\"},{\"attributes\":{\"axis_label\":\"Probability\",\"formatter\":{\"id\":\"1082\",\"type\":\"BasicTickFormatter\"},\"ticker\":{\"id\":\"1014\",\"type\":\"BasicTicker\"}},\"id\":\"1013\",\"type\":\"LinearAxis\"},{\"attributes\":{},\"id\":\"1066\",\"type\":\"ResetTool\"},{\"attributes\":{\"fill_alpha\":{\"value\":0.1},\"fill_color\":{\"value\":\"#1f77b4\"},\"line_alpha\":{\"value\":0.1},\"line_color\":{\"value\":\"#1f77b4\"},\"size\":{\"units\":\"screen\",\"value\":5},\"x\":{\"field\":\"x\"},\"y\":{\"field\":\"y\"}},\"id\":\"1077\",\"type\":\"Scatter\"},{\"attributes\":{},\"id\":\"1014\",\"type\":\"BasicTicker\"},{\"attributes\":{\"text\":\"Probability - Logit function\"},\"id\":\"1042\",\"type\":\"Title\"},{\"attributes\":{},\"id\":\"1067\",\"type\":\"HelpTool\"},{\"attributes\":{\"callback\":null},\"id\":\"1044\",\"type\":\"DataRange1d\"},{\"attributes\":{\"axis_label\":\"Odds\",\"formatter\":{\"id\":\"1084\",\"type\":\"BasicTickFormatter\"},\"ticker\":{\"id\":\"1019\",\"type\":\"BasicTicker\"}},\"id\":\"1018\",\"type\":\"LinearAxis\"},{\"attributes\":{\"callback\":null},\"id\":\"1046\",\"type\":\"DataRange1d\"}],\"root_ids\":[\"1101\"]},\"title\":\"Bokeh Application\",\"version\":\"1.4.0\"}};\n",
       "  var render_items = [{\"docid\":\"f1332e39-f49a-4eea-9a9e-1ffbfee489cf\",\"roots\":{\"1101\":\"2678a501-b0e7-4281-b3db-9fd47ec23774\"}}];\n",
       "  root.Bokeh.embed.embed_items_notebook(docs_json, render_items);\n",
       "\n",
       "  }\n",
       "  if (root.Bokeh !== undefined) {\n",
       "    embed_document(root);\n",
       "  } else {\n",
       "    var attempts = 0;\n",
       "    var timer = setInterval(function(root) {\n",
       "      if (root.Bokeh !== undefined) {\n",
       "        clearInterval(timer);\n",
       "        embed_document(root);\n",
       "      } else {\n",
       "        attempts++;\n",
       "        if (attempts > 100) {\n",
       "          clearInterval(timer);\n",
       "          console.log(\"Bokeh: ERROR: Unable to run BokehJS code because BokehJS library is missing\");\n",
       "        }\n",
       "      }\n",
       "    }, 10, root)\n",
       "  }\n",
       "})(window);"
      ],
      "application/vnd.bokehjs_exec.v0+json": ""
     },
     "metadata": {
      "application/vnd.bokehjs_exec.v0+json": {
       "id": "1101"
      }
     },
     "output_type": "display_data"
    }
   ],
   "source": [
    "from bokeh.layouts import gridplot\n",
    "\n",
    "def draw_odds_graph(N=100):\n",
    "    prob = np.linspace(0.01, 0.95, N)\n",
    "    odds = np.array([p/(1-p) for p in prob])\n",
    "    p = figure(title='Probability - Odds function', height=400, width=400,\n",
    "        x_axis_label='Probability', y_axis_label='Odds')\n",
    "    p.scatter(prob, odds, size=5)\n",
    "    return p\n",
    "\n",
    "def draw_logit_graph(N=100):\n",
    "    prob = np.linspace(0.01, 0.95, N)\n",
    "    odds = np.array([p/(1-p) for p in prob])\n",
    "    logit = np.log(odds)\n",
    "    p = figure(title='Probability - Logit function', height=400, width=400,\n",
    "        x_axis_label='Probability', y_axis_label='Logit')\n",
    "    p.scatter(prob, logit, size=5)\n",
    "    return p\n",
    "\n",
    "gp = gridplot([[draw_odds_graph(), draw_logit_graph()]])\n",
    "show(gp)"
   ]
  },
  {
   "cell_type": "code",
   "execution_count": 3,
   "metadata": {},
   "outputs": [
    {
     "data": {
      "text/html": [
       "\n",
       "\n",
       "\n",
       "\n",
       "\n",
       "\n",
       "  <div class=\"bk-root\" id=\"7e859b14-bd38-4cb5-b334-dd4e01d325d6\" data-root-id=\"1214\"></div>\n"
      ]
     },
     "metadata": {},
     "output_type": "display_data"
    },
    {
     "data": {
      "application/javascript": [
       "(function(root) {\n",
       "  function embed_document(root) {\n",
       "    \n",
       "  var docs_json = {\"441b4ccd-c00a-4402-8678-a68872f3372f\":{\"roots\":{\"references\":[{\"attributes\":{\"below\":[{\"id\":\"1223\",\"type\":\"LinearAxis\"}],\"center\":[{\"id\":\"1227\",\"type\":\"Grid\"},{\"id\":\"1232\",\"type\":\"Grid\"}],\"left\":[{\"id\":\"1228\",\"type\":\"LinearAxis\"}],\"renderers\":[{\"id\":\"1249\",\"type\":\"GlyphRenderer\"}],\"title\":{\"id\":\"1268\",\"type\":\"Title\"},\"toolbar\":{\"id\":\"1239\",\"type\":\"Toolbar\"},\"x_range\":{\"id\":\"1215\",\"type\":\"DataRange1d\"},\"x_scale\":{\"id\":\"1219\",\"type\":\"LinearScale\"},\"y_range\":{\"id\":\"1217\",\"type\":\"DataRange1d\"},\"y_scale\":{\"id\":\"1221\",\"type\":\"LinearScale\"}},\"id\":\"1214\",\"subtype\":\"Figure\",\"type\":\"Plot\"},{\"attributes\":{},\"id\":\"1274\",\"type\":\"UnionRenderers\"},{\"attributes\":{\"callback\":null},\"id\":\"1217\",\"type\":\"DataRange1d\"},{\"attributes\":{\"formatter\":{\"id\":\"1270\",\"type\":\"BasicTickFormatter\"},\"ticker\":{\"id\":\"1224\",\"type\":\"BasicTicker\"}},\"id\":\"1223\",\"type\":\"LinearAxis\"},{\"attributes\":{\"data_source\":{\"id\":\"1246\",\"type\":\"ColumnDataSource\"},\"glyph\":{\"id\":\"1247\",\"type\":\"Scatter\"},\"hover_glyph\":null,\"muted_glyph\":null,\"nonselection_glyph\":{\"id\":\"1248\",\"type\":\"Scatter\"},\"selection_glyph\":null,\"view\":{\"id\":\"1250\",\"type\":\"CDSView\"}},\"id\":\"1249\",\"type\":\"GlyphRenderer\"},{\"attributes\":{\"callback\":null,\"data\":{\"fill_color\":[\"#43a2ca\",\"#43a2ca\",\"#43a2ca\",\"#e34a33\",\"#e34a33\",\"#e34a33\",\"#e34a33\"],\"line_color\":[\"#43a2ca\",\"#43a2ca\",\"#43a2ca\",\"#e34a33\",\"#e34a33\",\"#e34a33\",\"#e34a33\"],\"x\":{\"__ndarray__\":\"PQrXo3A94j97FK5H4XqkP3sUrkfheuQ/SOF6FK5H0b8fhetRuB7Vv2ZmZmZmZta/4XoUrkfh2r8=\",\"dtype\":\"float64\",\"shape\":[7]},\"y\":{\"__ndarray__\":\"ZmZmZmZm1j8zMzMzMzPDPwAAAAAAANA/AAAAAAAA0L8pXI/C9Sjcv8P1KFyPwtW/AAAAAAAA0L8=\",\"dtype\":\"float64\",\"shape\":[7]}},\"selected\":{\"id\":\"1275\",\"type\":\"Selection\"},\"selection_policy\":{\"id\":\"1274\",\"type\":\"UnionRenderers\"}},\"id\":\"1246\",\"type\":\"ColumnDataSource\"},{\"attributes\":{\"source\":{\"id\":\"1246\",\"type\":\"ColumnDataSource\"}},\"id\":\"1250\",\"type\":\"CDSView\"},{\"attributes\":{\"overlay\":{\"id\":\"1273\",\"type\":\"BoxAnnotation\"}},\"id\":\"1235\",\"type\":\"BoxZoomTool\"},{\"attributes\":{\"formatter\":{\"id\":\"1272\",\"type\":\"BasicTickFormatter\"},\"ticker\":{\"id\":\"1229\",\"type\":\"BasicTicker\"}},\"id\":\"1228\",\"type\":\"LinearAxis\"},{\"attributes\":{},\"id\":\"1272\",\"type\":\"BasicTickFormatter\"},{\"attributes\":{},\"id\":\"1219\",\"type\":\"LinearScale\"},{\"attributes\":{},\"id\":\"1229\",\"type\":\"BasicTicker\"},{\"attributes\":{},\"id\":\"1275\",\"type\":\"Selection\"},{\"attributes\":{\"text\":\"\"},\"id\":\"1268\",\"type\":\"Title\"},{\"attributes\":{\"ticker\":{\"id\":\"1224\",\"type\":\"BasicTicker\"}},\"id\":\"1227\",\"type\":\"Grid\"},{\"attributes\":{\"bottom_units\":\"screen\",\"fill_alpha\":{\"value\":0.5},\"fill_color\":{\"value\":\"lightgrey\"},\"left_units\":\"screen\",\"level\":\"overlay\",\"line_alpha\":{\"value\":1.0},\"line_color\":{\"value\":\"black\"},\"line_dash\":[4,4],\"line_width\":{\"value\":2},\"render_mode\":\"css\",\"right_units\":\"screen\",\"top_units\":\"screen\"},\"id\":\"1273\",\"type\":\"BoxAnnotation\"},{\"attributes\":{},\"id\":\"1234\",\"type\":\"WheelZoomTool\"},{\"attributes\":{},\"id\":\"1238\",\"type\":\"HelpTool\"},{\"attributes\":{\"active_drag\":\"auto\",\"active_inspect\":\"auto\",\"active_multi\":null,\"active_scroll\":\"auto\",\"active_tap\":\"auto\",\"tools\":[{\"id\":\"1233\",\"type\":\"PanTool\"},{\"id\":\"1234\",\"type\":\"WheelZoomTool\"},{\"id\":\"1235\",\"type\":\"BoxZoomTool\"},{\"id\":\"1236\",\"type\":\"SaveTool\"},{\"id\":\"1237\",\"type\":\"ResetTool\"},{\"id\":\"1238\",\"type\":\"HelpTool\"}]},\"id\":\"1239\",\"type\":\"Toolbar\"},{\"attributes\":{},\"id\":\"1224\",\"type\":\"BasicTicker\"},{\"attributes\":{},\"id\":\"1236\",\"type\":\"SaveTool\"},{\"attributes\":{},\"id\":\"1237\",\"type\":\"ResetTool\"},{\"attributes\":{\"dimension\":1,\"ticker\":{\"id\":\"1229\",\"type\":\"BasicTicker\"}},\"id\":\"1232\",\"type\":\"Grid\"},{\"attributes\":{\"fill_color\":{\"field\":\"fill_color\"},\"line_color\":{\"field\":\"line_color\"},\"size\":{\"units\":\"screen\",\"value\":10},\"x\":{\"field\":\"x\"},\"y\":{\"field\":\"y\"}},\"id\":\"1247\",\"type\":\"Scatter\"},{\"attributes\":{\"callback\":null},\"id\":\"1215\",\"type\":\"DataRange1d\"},{\"attributes\":{},\"id\":\"1270\",\"type\":\"BasicTickFormatter\"},{\"attributes\":{\"fill_alpha\":{\"value\":0.1},\"fill_color\":{\"value\":\"#1f77b4\"},\"line_alpha\":{\"value\":0.1},\"line_color\":{\"value\":\"#1f77b4\"},\"size\":{\"units\":\"screen\",\"value\":10},\"x\":{\"field\":\"x\"},\"y\":{\"field\":\"y\"}},\"id\":\"1248\",\"type\":\"Scatter\"},{\"attributes\":{},\"id\":\"1221\",\"type\":\"LinearScale\"},{\"attributes\":{},\"id\":\"1233\",\"type\":\"PanTool\"}],\"root_ids\":[\"1214\"]},\"title\":\"Bokeh Application\",\"version\":\"1.4.0\"}};\n",
       "  var render_items = [{\"docid\":\"441b4ccd-c00a-4402-8678-a68872f3372f\",\"roots\":{\"1214\":\"7e859b14-bd38-4cb5-b334-dd4e01d325d6\"}}];\n",
       "  root.Bokeh.embed.embed_items_notebook(docs_json, render_items);\n",
       "\n",
       "  }\n",
       "  if (root.Bokeh !== undefined) {\n",
       "    embed_document(root);\n",
       "  } else {\n",
       "    var attempts = 0;\n",
       "    var timer = setInterval(function(root) {\n",
       "      if (root.Bokeh !== undefined) {\n",
       "        clearInterval(timer);\n",
       "        embed_document(root);\n",
       "      } else {\n",
       "        attempts++;\n",
       "        if (attempts > 100) {\n",
       "          clearInterval(timer);\n",
       "          console.log(\"Bokeh: ERROR: Unable to run BokehJS code because BokehJS library is missing\");\n",
       "        }\n",
       "      }\n",
       "    }, 10, root)\n",
       "  }\n",
       "})(window);"
      ],
      "application/vnd.bokehjs_exec.v0+json": ""
     },
     "metadata": {
      "application/vnd.bokehjs_exec.v0+json": {
       "id": "1214"
      }
     },
     "output_type": "display_data"
    }
   ],
   "source": [
    "X = np.array([\n",
    "    [0.57, 0.35],\n",
    "    [0.04, 0.15],\n",
    "    [0.64, 0.25],\n",
    "    [-0.27, -0.25],\n",
    "    [-0.33, -0.44],\n",
    "    [-0.35, -0.34],\n",
    "    [-0.42, -0.25],\n",
    "])\n",
    "\n",
    "y = np.array([1, 1, 1, 0, 0, 0, 0])\n",
    "colormap = ['#e34a33', '#43a2ca']\n",
    "colors = [colormap[l] for l in y]\n",
    "\n",
    "p = figure()\n",
    "p.scatter(X[:,0], X[:,1], color=colors, size=10)\n",
    "show(p)"
   ]
  },
  {
   "cell_type": "code",
   "execution_count": 4,
   "metadata": {},
   "outputs": [
    {
     "name": "stderr",
     "output_type": "stream",
     "text": [
      "/home/lovit/anaconda3/envs/pytorch/lib/python3.7/site-packages/sklearn/linear_model/logistic.py:432: FutureWarning: Default solver will be changed to 'lbfgs' in 0.22. Specify a solver to silence this warning.\n",
      "  FutureWarning)\n"
     ]
    },
    {
     "data": {
      "text/html": [
       "\n",
       "\n",
       "\n",
       "\n",
       "\n",
       "\n",
       "  <div class=\"bk-root\" id=\"2a86a43a-5fbb-4a31-89d3-9b945760f1d6\" data-root-id=\"1330\"></div>\n"
      ]
     },
     "metadata": {},
     "output_type": "display_data"
    },
    {
     "data": {
      "application/javascript": [
       "(function(root) {\n",
       "  function embed_document(root) {\n",
       "    \n",
       "  var docs_json = {\"6d3246c6-386e-4346-a051-3e4299ca0e57\":{\"roots\":{\"references\":[{\"attributes\":{\"below\":[{\"id\":\"1341\",\"type\":\"LinearAxis\"}],\"center\":[{\"id\":\"1345\",\"type\":\"Grid\"},{\"id\":\"1350\",\"type\":\"Grid\"}],\"left\":[{\"id\":\"1346\",\"type\":\"LinearAxis\"}],\"renderers\":[{\"id\":\"1367\",\"type\":\"GlyphRenderer\"},{\"id\":\"1372\",\"type\":\"GlyphRenderer\"}],\"title\":{\"id\":\"1331\",\"type\":\"Title\"},\"toolbar\":{\"id\":\"1357\",\"type\":\"Toolbar\"},\"x_range\":{\"id\":\"1333\",\"type\":\"DataRange1d\"},\"x_scale\":{\"id\":\"1337\",\"type\":\"LinearScale\"},\"y_range\":{\"id\":\"1335\",\"type\":\"DataRange1d\"},\"y_scale\":{\"id\":\"1339\",\"type\":\"LinearScale\"}},\"id\":\"1330\",\"subtype\":\"Figure\",\"type\":\"Plot\"},{\"attributes\":{},\"id\":\"1356\",\"type\":\"HelpTool\"},{\"attributes\":{\"callback\":null},\"id\":\"1333\",\"type\":\"DataRange1d\"},{\"attributes\":{\"active_drag\":\"auto\",\"active_inspect\":\"auto\",\"active_multi\":null,\"active_scroll\":\"auto\",\"active_tap\":\"auto\",\"tools\":[{\"id\":\"1351\",\"type\":\"PanTool\"},{\"id\":\"1352\",\"type\":\"WheelZoomTool\"},{\"id\":\"1353\",\"type\":\"BoxZoomTool\"},{\"id\":\"1354\",\"type\":\"SaveTool\"},{\"id\":\"1355\",\"type\":\"ResetTool\"},{\"id\":\"1356\",\"type\":\"HelpTool\"}]},\"id\":\"1357\",\"type\":\"Toolbar\"},{\"attributes\":{\"data_source\":{\"id\":\"1364\",\"type\":\"ColumnDataSource\"},\"glyph\":{\"id\":\"1365\",\"type\":\"ImageRGBA\"},\"hover_glyph\":null,\"muted_glyph\":null,\"nonselection_glyph\":{\"id\":\"1366\",\"type\":\"ImageRGBA\"},\"selection_glyph\":null,\"view\":{\"id\":\"1368\",\"type\":\"CDSView\"}},\"id\":\"1367\",\"type\":\"GlyphRenderer\"},{\"attributes\":{\"callback\":null},\"id\":\"1335\",\"type\":\"DataRange1d\"},{\"attributes\":{},\"id\":\"1337\",\"type\":\"LinearScale\"},{\"attributes\":{\"source\":{\"id\":\"1364\",\"type\":\"ColumnDataSource\"}},\"id\":\"1368\",\"type\":\"CDSView\"},{\"attributes\":{},\"id\":\"1339\",\"type\":\"LinearScale\"},{\"attributes\":{\"fill_color\":{\"field\":\"fill_color\"},\"line_color\":{\"field\":\"line_color\"},\"size\":{\"units\":\"screen\",\"value\":10},\"x\":{\"field\":\"x\"},\"y\":{\"field\":\"y\"}},\"id\":\"1370\",\"type\":\"Scatter\"},{\"attributes\":{\"formatter\":{\"id\":\"1401\",\"type\":\"BasicTickFormatter\"},\"ticker\":{\"id\":\"1342\",\"type\":\"BasicTicker\"}},\"id\":\"1341\",\"type\":\"LinearAxis\"},{\"attributes\":{\"fill_alpha\":{\"value\":0.1},\"fill_color\":{\"value\":\"#1f77b4\"},\"line_alpha\":{\"value\":0.1},\"line_color\":{\"value\":\"#1f77b4\"},\"size\":{\"units\":\"screen\",\"value\":10},\"x\":{\"field\":\"x\"},\"y\":{\"field\":\"y\"}},\"id\":\"1371\",\"type\":\"Scatter\"},{\"attributes\":{},\"id\":\"1342\",\"type\":\"BasicTicker\"},{\"attributes\":{\"data_source\":{\"id\":\"1369\",\"type\":\"ColumnDataSource\"},\"glyph\":{\"id\":\"1370\",\"type\":\"Scatter\"},\"hover_glyph\":null,\"muted_glyph\":null,\"nonselection_glyph\":{\"id\":\"1371\",\"type\":\"Scatter\"},\"selection_glyph\":null,\"view\":{\"id\":\"1373\",\"type\":\"CDSView\"}},\"id\":\"1372\",\"type\":\"GlyphRenderer\"},{\"attributes\":{\"ticker\":{\"id\":\"1342\",\"type\":\"BasicTicker\"}},\"id\":\"1345\",\"type\":\"Grid\"},{\"attributes\":{\"source\":{\"id\":\"1369\",\"type\":\"ColumnDataSource\"}},\"id\":\"1373\",\"type\":\"CDSView\"},{\"attributes\":{\"formatter\":{\"id\":\"1403\",\"type\":\"BasicTickFormatter\"},\"ticker\":{\"id\":\"1347\",\"type\":\"BasicTicker\"}},\"id\":\"1346\",\"type\":\"LinearAxis\"},{\"attributes\":{},\"id\":\"1403\",\"type\":\"BasicTickFormatter\"},{\"attributes\":{},\"id\":\"1347\",\"type\":\"BasicTicker\"},{\"attributes\":{\"bottom_units\":\"screen\",\"fill_alpha\":{\"value\":0.5},\"fill_color\":{\"value\":\"lightgrey\"},\"left_units\":\"screen\",\"level\":\"overlay\",\"line_alpha\":{\"value\":1.0},\"line_color\":{\"value\":\"black\"},\"line_dash\":[4,4],\"line_width\":{\"value\":2},\"render_mode\":\"css\",\"right_units\":\"screen\",\"top_units\":\"screen\"},\"id\":\"1404\",\"type\":\"BoxAnnotation\"},{\"attributes\":{\"dimension\":1,\"ticker\":{\"id\":\"1347\",\"type\":\"BasicTicker\"}},\"id\":\"1350\",\"type\":\"Grid\"},{\"attributes\":{},\"id\":\"1405\",\"type\":\"UnionRenderers\"},{\"attributes\":{\"dh\":{\"units\":\"data\",\"value\":0.869},\"dw\":{\"units\":\"data\",\"value\":1.1660000000000001},\"image\":{\"field\":\"image\"},\"x\":{\"value\":-0.462},\"y\":{\"value\":-0.48400000000000004}},\"id\":\"1366\",\"type\":\"ImageRGBA\"},{\"attributes\":{\"callback\":null,\"data\":{\"fill_color\":[\"#43a2ca\",\"#43a2ca\",\"#43a2ca\",\"#e34a33\",\"#e34a33\",\"#e34a33\",\"#e34a33\"],\"line_color\":[\"#43a2ca\",\"#43a2ca\",\"#43a2ca\",\"#e34a33\",\"#e34a33\",\"#e34a33\",\"#e34a33\"],\"x\":{\"__ndarray__\":\"PQrXo3A94j97FK5H4XqkP3sUrkfheuQ/SOF6FK5H0b8fhetRuB7Vv2ZmZmZmZta/4XoUrkfh2r8=\",\"dtype\":\"float64\",\"shape\":[7]},\"y\":{\"__ndarray__\":\"ZmZmZmZm1j8zMzMzMzPDPwAAAAAAANA/AAAAAAAA0L8pXI/C9Sjcv8P1KFyPwtW/AAAAAAAA0L8=\",\"dtype\":\"float64\",\"shape\":[7]}},\"selected\":{\"id\":\"1408\",\"type\":\"Selection\"},\"selection_policy\":{\"id\":\"1407\",\"type\":\"UnionRenderers\"}},\"id\":\"1369\",\"type\":\"ColumnDataSource\"},{\"attributes\":{},\"id\":\"1406\",\"type\":\"Selection\"},{\"attributes\":{\"dh\":{\"units\":\"data\",\"value\":0.869},\"dw\":{\"units\":\"data\",\"value\":1.1660000000000001},\"image\":{\"field\":\"image\"},\"x\":{\"value\":-0.462},\"y\":{\"value\":-0.48400000000000004}},\"id\":\"1365\",\"type\":\"ImageRGBA\"},{\"attributes\":{},\"id\":\"1407\",\"type\":\"UnionRenderers\"},{\"attributes\":{},\"id\":\"1351\",\"type\":\"PanTool\"},{\"attributes\":{\"text\":\"b0 = -0.144, b1 = 0.903, b2 = 0.712\"},\"id\":\"1331\",\"type\":\"Title\"},{\"attributes\":{},\"id\":\"1408\",\"type\":\"Selection\"},{\"attributes\":{},\"id\":\"1352\",\"type\":\"WheelZoomTool\"},{\"attributes\":{\"overlay\":{\"id\":\"1404\",\"type\":\"BoxAnnotation\"}},\"id\":\"1353\",\"type\":\"BoxZoomTool\"},{\"attributes\":{\"callback\":null,\"data\":{\"image\":[{\"__ndarray__\":\"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\",\"dtype\":\"uint32\",\"shape\":[40,40]}]},\"selected\":{\"id\":\"1406\",\"type\":\"Selection\"},\"selection_policy\":{\"id\":\"1405\",\"type\":\"UnionRenderers\"}},\"id\":\"1364\",\"type\":\"ColumnDataSource\"},{\"attributes\":{},\"id\":\"1401\",\"type\":\"BasicTickFormatter\"},{\"attributes\":{},\"id\":\"1354\",\"type\":\"SaveTool\"},{\"attributes\":{},\"id\":\"1355\",\"type\":\"ResetTool\"}],\"root_ids\":[\"1330\"]},\"title\":\"Bokeh Application\",\"version\":\"1.4.0\"}};\n",
       "  var render_items = [{\"docid\":\"6d3246c6-386e-4346-a051-3e4299ca0e57\",\"roots\":{\"1330\":\"2a86a43a-5fbb-4a31-89d3-9b945760f1d6\"}}];\n",
       "  root.Bokeh.embed.embed_items_notebook(docs_json, render_items);\n",
       "\n",
       "  }\n",
       "  if (root.Bokeh !== undefined) {\n",
       "    embed_document(root);\n",
       "  } else {\n",
       "    var attempts = 0;\n",
       "    var timer = setInterval(function(root) {\n",
       "      if (root.Bokeh !== undefined) {\n",
       "        clearInterval(timer);\n",
       "        embed_document(root);\n",
       "      } else {\n",
       "        attempts++;\n",
       "        if (attempts > 100) {\n",
       "          clearInterval(timer);\n",
       "          console.log(\"Bokeh: ERROR: Unable to run BokehJS code because BokehJS library is missing\");\n",
       "        }\n",
       "      }\n",
       "    }, 10, root)\n",
       "  }\n",
       "})(window);"
      ],
      "application/vnd.bokehjs_exec.v0+json": ""
     },
     "metadata": {
      "application/vnd.bokehjs_exec.v0+json": {
       "id": "1330"
      }
     },
     "output_type": "display_data"
    }
   ],
   "source": [
    "def draw_classification_map(X, model, N=40, height=600, width=600, title=None):\n",
    "    image, x_min, y_min, dw, dh = make_classification_map(X, model, N)\n",
    "    p = draw_image(image, x_min, y_min, dw, dh, height, width, title)\n",
    "    return p\n",
    "\n",
    "def make_classification_map(X, model, N=40):\n",
    "    x_min, x_max = X[:,0].min() * 1.1, X[:,0].max() * 1.1\n",
    "    y_min, y_max = X[:,1].min() * 1.1, X[:,1].max() * 1.1\n",
    "    x_test = np.linspace(x_min, x_max, N)\n",
    "    y_test = np.linspace(y_min, y_max, N)\n",
    "    X_test = np.array([(xi, yi) for xi in x_test for yi in y_test])\n",
    "    y_test = model.predict_proba(X_test)\n",
    "    S = y_test[:,0] - y_test[:,1]\n",
    "    image = score_to_image(S, N)\n",
    "    return image, x_min, y_min, x_max - x_min, y_max - y_min\n",
    "\n",
    "def score_to_image(S, N=40):\n",
    "    S = S.reshape(N,N)\n",
    "    h, w = S.shape\n",
    "    image = np.zeros((h, w), dtype=np.uint32)\n",
    "    view = image.view(dtype=np.uint8).reshape(h, w, 4)\n",
    "\n",
    "    for i in range(h):\n",
    "        for j in range(w):\n",
    "            s = S[i,j]\n",
    "            if s > 0:\n",
    "                view[i,j,0] = 128\n",
    "                view[i,j,1] = 26\n",
    "                view[i,j,2] = 0\n",
    "                view[i,j,3] = int(200 * s)\n",
    "            elif s < 0:\n",
    "                view[i,j,0] = 0\n",
    "                view[i,j,1] = 26\n",
    "                view[i,j,2] = 128\n",
    "                view[i,j,3] = int(-s * 200)\n",
    "    return image\n",
    "\n",
    "def draw_image(image, x_min, y_min, dw, dh, height=600, width=600, title=None):\n",
    "    p = figure(height=height, width=width, title=title)\n",
    "    p.image_rgba(image=[image], x=x_min, y=y_min, dw=dw, dh=dh)\n",
    "    return p\n",
    "\n",
    "model = LogisticRegression().fit(X, y)\n",
    "\n",
    "title = f'b0 = {model.intercept_[0]:.3}, b1 = {model.coef_[0,0]:.3}, b2 = {model.coef_[0,1]:.3}'\n",
    "\n",
    "p = draw_classification_map(X, model, title=title)\n",
    "p.scatter(X[:,0], X[:,1], color=colors, size=10)\n",
    "show(p)"
   ]
  },
  {
   "cell_type": "code",
   "execution_count": 5,
   "metadata": {},
   "outputs": [
    {
     "data": {
      "text/html": [
       "\n",
       "\n",
       "\n",
       "\n",
       "\n",
       "\n",
       "  <div class=\"bk-root\" id=\"21237763-5b65-4398-916e-49d9ef644a5f\" data-root-id=\"1469\"></div>\n"
      ]
     },
     "metadata": {},
     "output_type": "display_data"
    },
    {
     "data": {
      "application/javascript": [
       "(function(root) {\n",
       "  function embed_document(root) {\n",
       "    \n",
       "  var docs_json = {\"155eccdc-6114-4ba5-b598-d64662e50925\":{\"roots\":{\"references\":[{\"attributes\":{\"below\":[{\"id\":\"1480\",\"type\":\"LinearAxis\"}],\"center\":[{\"id\":\"1484\",\"type\":\"Grid\"},{\"id\":\"1489\",\"type\":\"Grid\"}],\"left\":[{\"id\":\"1485\",\"type\":\"LinearAxis\"}],\"renderers\":[{\"id\":\"1506\",\"type\":\"GlyphRenderer\"},{\"id\":\"1511\",\"type\":\"GlyphRenderer\"}],\"title\":{\"id\":\"1470\",\"type\":\"Title\"},\"toolbar\":{\"id\":\"1496\",\"type\":\"Toolbar\"},\"x_range\":{\"id\":\"1472\",\"type\":\"DataRange1d\"},\"x_scale\":{\"id\":\"1476\",\"type\":\"LinearScale\"},\"y_range\":{\"id\":\"1474\",\"type\":\"DataRange1d\"},\"y_scale\":{\"id\":\"1478\",\"type\":\"LinearScale\"}},\"id\":\"1469\",\"subtype\":\"Figure\",\"type\":\"Plot\"},{\"attributes\":{\"fill_alpha\":{\"value\":0.1},\"fill_color\":{\"value\":\"#1f77b4\"},\"line_alpha\":{\"value\":0.1},\"line_color\":{\"value\":\"#1f77b4\"},\"size\":{\"units\":\"screen\",\"value\":10},\"x\":{\"field\":\"x\"},\"y\":{\"field\":\"y\"}},\"id\":\"1510\",\"type\":\"Scatter\"},{\"attributes\":{},\"id\":\"1481\",\"type\":\"BasicTicker\"},{\"attributes\":{},\"id\":\"1556\",\"type\":\"UnionRenderers\"},{\"attributes\":{\"text\":\"b0 = 0.3, b1 = -0.5, b2 = 0.7\"},\"id\":\"1470\",\"type\":\"Title\"},{\"attributes\":{},\"id\":\"1555\",\"type\":\"Selection\"},{\"attributes\":{\"bottom_units\":\"screen\",\"fill_alpha\":{\"value\":0.5},\"fill_color\":{\"value\":\"lightgrey\"},\"left_units\":\"screen\",\"level\":\"overlay\",\"line_alpha\":{\"value\":1.0},\"line_color\":{\"value\":\"black\"},\"line_dash\":[4,4],\"line_width\":{\"value\":2},\"render_mode\":\"css\",\"right_units\":\"screen\",\"top_units\":\"screen\"},\"id\":\"1553\",\"type\":\"BoxAnnotation\"},{\"attributes\":{},\"id\":\"1554\",\"type\":\"UnionRenderers\"},{\"attributes\":{\"dimension\":1,\"ticker\":{\"id\":\"1486\",\"type\":\"BasicTicker\"}},\"id\":\"1489\",\"type\":\"Grid\"},{\"attributes\":{\"callback\":null},\"id\":\"1472\",\"type\":\"DataRange1d\"},{\"attributes\":{\"fill_color\":{\"field\":\"fill_color\"},\"line_color\":{\"field\":\"line_color\"},\"size\":{\"units\":\"screen\",\"value\":10},\"x\":{\"field\":\"x\"},\"y\":{\"field\":\"y\"}},\"id\":\"1509\",\"type\":\"Scatter\"},{\"attributes\":{\"source\":{\"id\":\"1508\",\"type\":\"ColumnDataSource\"}},\"id\":\"1512\",\"type\":\"CDSView\"},{\"attributes\":{\"dh\":{\"units\":\"data\",\"value\":0.869},\"dw\":{\"units\":\"data\",\"value\":1.1660000000000001},\"image\":{\"field\":\"image\"},\"x\":{\"value\":-0.462},\"y\":{\"value\":-0.48400000000000004}},\"id\":\"1504\",\"type\":\"ImageRGBA\"},{\"attributes\":{\"callback\":null},\"id\":\"1474\",\"type\":\"DataRange1d\"},{\"attributes\":{},\"id\":\"1476\",\"type\":\"LinearScale\"},{\"attributes\":{},\"id\":\"1552\",\"type\":\"BasicTickFormatter\"},{\"attributes\":{\"data_source\":{\"id\":\"1508\",\"type\":\"ColumnDataSource\"},\"glyph\":{\"id\":\"1509\",\"type\":\"Scatter\"},\"hover_glyph\":null,\"muted_glyph\":null,\"nonselection_glyph\":{\"id\":\"1510\",\"type\":\"Scatter\"},\"selection_glyph\":null,\"view\":{\"id\":\"1512\",\"type\":\"CDSView\"}},\"id\":\"1511\",\"type\":\"GlyphRenderer\"},{\"attributes\":{},\"id\":\"1478\",\"type\":\"LinearScale\"},{\"attributes\":{\"source\":{\"id\":\"1503\",\"type\":\"ColumnDataSource\"}},\"id\":\"1507\",\"type\":\"CDSView\"},{\"attributes\":{\"formatter\":{\"id\":\"1550\",\"type\":\"BasicTickFormatter\"},\"ticker\":{\"id\":\"1481\",\"type\":\"BasicTicker\"}},\"id\":\"1480\",\"type\":\"LinearAxis\"},{\"attributes\":{},\"id\":\"1550\",\"type\":\"BasicTickFormatter\"},{\"attributes\":{\"active_drag\":\"auto\",\"active_inspect\":\"auto\",\"active_multi\":null,\"active_scroll\":\"auto\",\"active_tap\":\"auto\",\"tools\":[{\"id\":\"1490\",\"type\":\"PanTool\"},{\"id\":\"1491\",\"type\":\"WheelZoomTool\"},{\"id\":\"1492\",\"type\":\"BoxZoomTool\"},{\"id\":\"1493\",\"type\":\"SaveTool\"},{\"id\":\"1494\",\"type\":\"ResetTool\"},{\"id\":\"1495\",\"type\":\"HelpTool\"}]},\"id\":\"1496\",\"type\":\"Toolbar\"},{\"attributes\":{},\"id\":\"1491\",\"type\":\"WheelZoomTool\"},{\"attributes\":{\"callback\":null,\"data\":{\"image\":[{\"__ndarray__\":\"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\",\"dtype\":\"uint32\",\"shape\":[40,40]}]},\"selected\":{\"id\":\"1555\",\"type\":\"Selection\"},\"selection_policy\":{\"id\":\"1554\",\"type\":\"UnionRenderers\"}},\"id\":\"1503\",\"type\":\"ColumnDataSource\"},{\"attributes\":{\"ticker\":{\"id\":\"1481\",\"type\":\"BasicTicker\"}},\"id\":\"1484\",\"type\":\"Grid\"},{\"attributes\":{},\"id\":\"1495\",\"type\":\"HelpTool\"},{\"attributes\":{},\"id\":\"1557\",\"type\":\"Selection\"},{\"attributes\":{},\"id\":\"1494\",\"type\":\"ResetTool\"},{\"attributes\":{\"formatter\":{\"id\":\"1552\",\"type\":\"BasicTickFormatter\"},\"ticker\":{\"id\":\"1486\",\"type\":\"BasicTicker\"}},\"id\":\"1485\",\"type\":\"LinearAxis\"},{\"attributes\":{},\"id\":\"1486\",\"type\":\"BasicTicker\"},{\"attributes\":{},\"id\":\"1493\",\"type\":\"SaveTool\"},{\"attributes\":{\"overlay\":{\"id\":\"1553\",\"type\":\"BoxAnnotation\"}},\"id\":\"1492\",\"type\":\"BoxZoomTool\"},{\"attributes\":{\"callback\":null,\"data\":{\"fill_color\":[\"#43a2ca\",\"#43a2ca\",\"#43a2ca\",\"#e34a33\",\"#e34a33\",\"#e34a33\",\"#e34a33\"],\"line_color\":[\"#43a2ca\",\"#43a2ca\",\"#43a2ca\",\"#e34a33\",\"#e34a33\",\"#e34a33\",\"#e34a33\"],\"x\":{\"__ndarray__\":\"PQrXo3A94j97FK5H4XqkP3sUrkfheuQ/SOF6FK5H0b8fhetRuB7Vv2ZmZmZmZta/4XoUrkfh2r8=\",\"dtype\":\"float64\",\"shape\":[7]},\"y\":{\"__ndarray__\":\"ZmZmZmZm1j8zMzMzMzPDPwAAAAAAANA/AAAAAAAA0L8pXI/C9Sjcv8P1KFyPwtW/AAAAAAAA0L8=\",\"dtype\":\"float64\",\"shape\":[7]}},\"selected\":{\"id\":\"1557\",\"type\":\"Selection\"},\"selection_policy\":{\"id\":\"1556\",\"type\":\"UnionRenderers\"}},\"id\":\"1508\",\"type\":\"ColumnDataSource\"},{\"attributes\":{\"dh\":{\"units\":\"data\",\"value\":0.869},\"dw\":{\"units\":\"data\",\"value\":1.1660000000000001},\"image\":{\"field\":\"image\"},\"x\":{\"value\":-0.462},\"y\":{\"value\":-0.48400000000000004}},\"id\":\"1505\",\"type\":\"ImageRGBA\"},{\"attributes\":{\"data_source\":{\"id\":\"1503\",\"type\":\"ColumnDataSource\"},\"glyph\":{\"id\":\"1504\",\"type\":\"ImageRGBA\"},\"hover_glyph\":null,\"muted_glyph\":null,\"nonselection_glyph\":{\"id\":\"1505\",\"type\":\"ImageRGBA\"},\"selection_glyph\":null,\"view\":{\"id\":\"1507\",\"type\":\"CDSView\"}},\"id\":\"1506\",\"type\":\"GlyphRenderer\"},{\"attributes\":{},\"id\":\"1490\",\"type\":\"PanTool\"}],\"root_ids\":[\"1469\"]},\"title\":\"Bokeh Application\",\"version\":\"1.4.0\"}};\n",
       "  var render_items = [{\"docid\":\"155eccdc-6114-4ba5-b598-d64662e50925\",\"roots\":{\"1469\":\"21237763-5b65-4398-916e-49d9ef644a5f\"}}];\n",
       "  root.Bokeh.embed.embed_items_notebook(docs_json, render_items);\n",
       "\n",
       "  }\n",
       "  if (root.Bokeh !== undefined) {\n",
       "    embed_document(root);\n",
       "  } else {\n",
       "    var attempts = 0;\n",
       "    var timer = setInterval(function(root) {\n",
       "      if (root.Bokeh !== undefined) {\n",
       "        clearInterval(timer);\n",
       "        embed_document(root);\n",
       "      } else {\n",
       "        attempts++;\n",
       "        if (attempts > 100) {\n",
       "          clearInterval(timer);\n",
       "          console.log(\"Bokeh: ERROR: Unable to run BokehJS code because BokehJS library is missing\");\n",
       "        }\n",
       "      }\n",
       "    }, 10, root)\n",
       "  }\n",
       "})(window);"
      ],
      "application/vnd.bokehjs_exec.v0+json": ""
     },
     "metadata": {
      "application/vnd.bokehjs_exec.v0+json": {
       "id": "1469"
      }
     },
     "output_type": "display_data"
    }
   ],
   "source": [
    "model.coef_ = np.array([[-0.5, 0.7]])\n",
    "model.intercept_ = np.array([0.3])\n",
    "\n",
    "title = f'b0 = {model.intercept_[0]:.3}, b1 = {model.coef_[0,0]:.3}, b2 = {model.coef_[0,1]:.3}'\n",
    "\n",
    "p = draw_classification_map(X, model, title=title)\n",
    "p.scatter(X[:,0], X[:,1], color=colors, size=10)\n",
    "show(p)"
   ]
  },
  {
   "cell_type": "code",
   "execution_count": 6,
   "metadata": {},
   "outputs": [
    {
     "name": "stdout",
     "output_type": "stream",
     "text": [
      "0.6531857858657759\n",
      "0.25245049605743686\n",
      "0.023815314814262255\n",
      "0.0036480429472656437\n"
     ]
    }
   ],
   "source": [
    "beta = np.array([\n",
    "    [0.1, 0.1],\n",
    "    [2.0, 2.0],\n",
    "    [10., 10.],\n",
    "    [20., 20.],\n",
    "])\n",
    "\n",
    "model.intercept_ = np.array([-0.144])\n",
    "for b in beta:\n",
    "    model.coef_ = np.array([b])\n",
    "    logprob = model.predict_log_proba(X)\n",
    "    logprob[np.where(y != 0)[0],0] = 0\n",
    "    logprob[np.where(y != 1)[0],1] = 0\n",
    "    nll = -logprob[np.where(logprob < 0)].mean()\n",
    "    print(nll)"
   ]
  },
  {
   "cell_type": "code",
   "execution_count": 7,
   "metadata": {},
   "outputs": [
    {
     "name": "stdout",
     "output_type": "stream",
     "text": [
      "(300, 15)\n",
      "(300,)\n"
     ]
    }
   ],
   "source": [
    "def make_l1_classification_data(n_data=100, n_features=20, n_importants=5, n_classes=2):\n",
    "    X = 0.2 * np.random.random_sample((n_data * n_classes, n_features * n_classes))\n",
    "    for c in range(n_classes):\n",
    "        row_b, row_e = c * n_data, (c+1) * n_data\n",
    "        col_b, col_e = c * n_importants, (c+1) * n_importants\n",
    "        X[row_b:row_e,col_b:col_e] = 0.6 + np.random.random_sample((n_data, n_importants)) * 0.4\n",
    "    y = np.array([c for c in range(n_classes) for _ in range(n_data)], dtype=np.int)\n",
    "    return X, y\n",
    "\n",
    "X, y = make_l1_classification_data(n_features=5, n_importants=2, n_classes=3)\n",
    "print(X.shape)\n",
    "print(y.shape)"
   ]
  },
  {
   "cell_type": "code",
   "execution_count": 8,
   "metadata": {},
   "outputs": [
    {
     "data": {
      "text/html": [
       "\n",
       "\n",
       "\n",
       "\n",
       "\n",
       "\n",
       "  <div class=\"bk-root\" id=\"9b7146fc-3ece-4bc5-b507-5406eb5f7bdd\" data-root-id=\"1618\"></div>\n"
      ]
     },
     "metadata": {},
     "output_type": "display_data"
    },
    {
     "data": {
      "application/javascript": [
       "(function(root) {\n",
       "  function embed_document(root) {\n",
       "    \n",
       "  var docs_json = {\"1516cf4b-d88f-4c20-ae20-5f11715d0e02\":{\"roots\":{\"references\":[{\"attributes\":{\"below\":[{\"id\":\"1627\",\"type\":\"LinearAxis\"}],\"center\":[{\"id\":\"1631\",\"type\":\"Grid\"},{\"id\":\"1636\",\"type\":\"Grid\"}],\"left\":[{\"id\":\"1632\",\"type\":\"LinearAxis\"}],\"renderers\":[{\"id\":\"1655\",\"type\":\"GlyphRenderer\"}],\"title\":{\"id\":\"1703\",\"type\":\"Title\"},\"toolbar\":{\"id\":\"1643\",\"type\":\"Toolbar\"},\"x_range\":{\"id\":\"1619\",\"type\":\"DataRange1d\"},\"x_scale\":{\"id\":\"1623\",\"type\":\"LinearScale\"},\"y_range\":{\"id\":\"1621\",\"type\":\"DataRange1d\"},\"y_scale\":{\"id\":\"1625\",\"type\":\"LinearScale\"}},\"id\":\"1618\",\"subtype\":\"Figure\",\"type\":\"Plot\"},{\"attributes\":{\"color_mapper\":{\"id\":\"1654\",\"type\":\"LinearColorMapper\"},\"dh\":{\"units\":\"data\",\"value\":1},\"dw\":{\"units\":\"data\",\"value\":1},\"image\":{\"field\":\"image\"},\"x\":{\"value\":0},\"y\":{\"value\":0}},\"id\":\"1653\",\"type\":\"Image\"},{\"attributes\":{\"callback\":null,\"data\":{\"image\":[{\"__ndarray__\":\"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\",\"dtype\":\"float64\",\"shape\":[300,15]}]},\"selected\":{\"id\":\"1710\",\"type\":\"Selection\"},\"selection_policy\":{\"id\":\"1709\",\"type\":\"UnionRenderers\"}},\"id\":\"1650\",\"type\":\"ColumnDataSource\"},{\"attributes\":{\"ticker\":{\"id\":\"1628\",\"type\":\"BasicTicker\"}},\"id\":\"1631\",\"type\":\"Grid\"},{\"attributes\":{},\"id\":\"1710\",\"type\":\"Selection\"},{\"attributes\":{\"source\":{\"id\":\"1650\",\"type\":\"ColumnDataSource\"}},\"id\":\"1656\",\"type\":\"CDSView\"},{\"attributes\":{\"data_source\":{\"id\":\"1650\",\"type\":\"ColumnDataSource\"},\"glyph\":{\"id\":\"1651\",\"type\":\"Image\"},\"hover_glyph\":null,\"muted_glyph\":null,\"nonselection_glyph\":{\"id\":\"1653\",\"type\":\"Image\"},\"selection_glyph\":null,\"view\":{\"id\":\"1656\",\"type\":\"CDSView\"}},\"id\":\"1655\",\"type\":\"GlyphRenderer\"},{\"attributes\":{},\"id\":\"1705\",\"type\":\"BasicTickFormatter\"},{\"attributes\":{},\"id\":\"1709\",\"type\":\"UnionRenderers\"},{\"attributes\":{},\"id\":\"1642\",\"type\":\"HelpTool\"},{\"attributes\":{\"text\":\"\"},\"id\":\"1703\",\"type\":\"Title\"},{\"attributes\":{\"callback\":null},\"id\":\"1619\",\"type\":\"DataRange1d\"},{\"attributes\":{\"active_drag\":\"auto\",\"active_inspect\":\"auto\",\"active_multi\":null,\"active_scroll\":\"auto\",\"active_tap\":\"auto\",\"tools\":[{\"id\":\"1637\",\"type\":\"PanTool\"},{\"id\":\"1638\",\"type\":\"WheelZoomTool\"},{\"id\":\"1639\",\"type\":\"BoxZoomTool\"},{\"id\":\"1640\",\"type\":\"SaveTool\"},{\"id\":\"1641\",\"type\":\"ResetTool\"},{\"id\":\"1642\",\"type\":\"HelpTool\"}]},\"id\":\"1643\",\"type\":\"Toolbar\"},{\"attributes\":{},\"id\":\"1638\",\"type\":\"WheelZoomTool\"},{\"attributes\":{},\"id\":\"1633\",\"type\":\"BasicTicker\"},{\"attributes\":{\"bottom_units\":\"screen\",\"fill_alpha\":{\"value\":0.5},\"fill_color\":{\"value\":\"lightgrey\"},\"left_units\":\"screen\",\"level\":\"overlay\",\"line_alpha\":{\"value\":1.0},\"line_color\":{\"value\":\"black\"},\"line_dash\":[4,4],\"line_width\":{\"value\":2},\"render_mode\":\"css\",\"right_units\":\"screen\",\"top_units\":\"screen\"},\"id\":\"1708\",\"type\":\"BoxAnnotation\"},{\"attributes\":{\"formatter\":{\"id\":\"1707\",\"type\":\"BasicTickFormatter\"},\"ticker\":{\"id\":\"1633\",\"type\":\"BasicTicker\"}},\"id\":\"1632\",\"type\":\"LinearAxis\"},{\"attributes\":{\"color_mapper\":{\"id\":\"1652\",\"type\":\"LinearColorMapper\"},\"dh\":{\"units\":\"data\",\"value\":1},\"dw\":{\"units\":\"data\",\"value\":1},\"image\":{\"field\":\"image\"},\"x\":{\"value\":0},\"y\":{\"value\":0}},\"id\":\"1651\",\"type\":\"Image\"},{\"attributes\":{},\"id\":\"1707\",\"type\":\"BasicTickFormatter\"},{\"attributes\":{\"palette\":[\"#000000\",\"#252525\",\"#525252\",\"#737373\",\"#969696\",\"#bdbdbd\",\"#d9d9d9\",\"#f0f0f0\",\"#ffffff\"]},\"id\":\"1652\",\"type\":\"LinearColorMapper\"},{\"attributes\":{},\"id\":\"1637\",\"type\":\"PanTool\"},{\"attributes\":{\"overlay\":{\"id\":\"1708\",\"type\":\"BoxAnnotation\"}},\"id\":\"1639\",\"type\":\"BoxZoomTool\"},{\"attributes\":{},\"id\":\"1625\",\"type\":\"LinearScale\"},{\"attributes\":{\"palette\":[\"#000000\",\"#252525\",\"#525252\",\"#737373\",\"#969696\",\"#bdbdbd\",\"#d9d9d9\",\"#f0f0f0\",\"#ffffff\"]},\"id\":\"1654\",\"type\":\"LinearColorMapper\"},{\"attributes\":{},\"id\":\"1641\",\"type\":\"ResetTool\"},{\"attributes\":{},\"id\":\"1640\",\"type\":\"SaveTool\"},{\"attributes\":{\"dimension\":1,\"ticker\":{\"id\":\"1633\",\"type\":\"BasicTicker\"}},\"id\":\"1636\",\"type\":\"Grid\"},{\"attributes\":{},\"id\":\"1623\",\"type\":\"LinearScale\"},{\"attributes\":{\"formatter\":{\"id\":\"1705\",\"type\":\"BasicTickFormatter\"},\"ticker\":{\"id\":\"1628\",\"type\":\"BasicTicker\"}},\"id\":\"1627\",\"type\":\"LinearAxis\"},{\"attributes\":{},\"id\":\"1628\",\"type\":\"BasicTicker\"},{\"attributes\":{\"callback\":null},\"id\":\"1621\",\"type\":\"DataRange1d\"}],\"root_ids\":[\"1618\"]},\"title\":\"Bokeh Application\",\"version\":\"1.4.0\"}};\n",
       "  var render_items = [{\"docid\":\"1516cf4b-d88f-4c20-ae20-5f11715d0e02\",\"roots\":{\"1618\":\"9b7146fc-3ece-4bc5-b507-5406eb5f7bdd\"}}];\n",
       "  root.Bokeh.embed.embed_items_notebook(docs_json, render_items);\n",
       "\n",
       "  }\n",
       "  if (root.Bokeh !== undefined) {\n",
       "    embed_document(root);\n",
       "  } else {\n",
       "    var attempts = 0;\n",
       "    var timer = setInterval(function(root) {\n",
       "      if (root.Bokeh !== undefined) {\n",
       "        clearInterval(timer);\n",
       "        embed_document(root);\n",
       "      } else {\n",
       "        attempts++;\n",
       "        if (attempts > 100) {\n",
       "          clearInterval(timer);\n",
       "          console.log(\"Bokeh: ERROR: Unable to run BokehJS code because BokehJS library is missing\");\n",
       "        }\n",
       "      }\n",
       "    }, 10, root)\n",
       "  }\n",
       "})(window);"
      ],
      "application/vnd.bokehjs_exec.v0+json": ""
     },
     "metadata": {
      "application/vnd.bokehjs_exec.v0+json": {
       "id": "1618"
      }
     },
     "output_type": "display_data"
    }
   ],
   "source": [
    "p = figure()\n",
    "p.image(image=[X], x=0, y=0, dw=1, dh=1)\n",
    "show(p)"
   ]
  },
  {
   "cell_type": "code",
   "execution_count": 9,
   "metadata": {},
   "outputs": [
    {
     "name": "stdout",
     "output_type": "stream",
     "text": [
      "[[ 0.          0.35948556  0.          0.          0.          0.\n",
      "   0.          0.          0.          0.          0.          0.\n",
      "   0.          0.          0.        ]\n",
      " [ 0.         -0.10279524  0.24732585  0.          0.          0.\n",
      "   0.          0.          0.          0.          0.          0.\n",
      "   0.          0.          0.        ]\n",
      " [ 0.         -0.3607675  -0.31552198  0.          0.          0.\n",
      "   0.          0.          0.          0.          0.          0.\n",
      "   0.          0.          0.        ]]\n"
     ]
    },
    {
     "name": "stderr",
     "output_type": "stream",
     "text": [
      "/home/lovit/anaconda3/envs/pytorch/lib/python3.7/site-packages/sklearn/linear_model/logistic.py:432: FutureWarning: Default solver will be changed to 'lbfgs' in 0.22. Specify a solver to silence this warning.\n",
      "  FutureWarning)\n",
      "/home/lovit/anaconda3/envs/pytorch/lib/python3.7/site-packages/sklearn/linear_model/logistic.py:469: FutureWarning: Default multi_class will be changed to 'auto' in 0.22. Specify the multi_class option to silence this warning.\n",
      "  \"this warning.\", FutureWarning)\n"
     ]
    }
   ],
   "source": [
    "lasso = LogisticRegression(penalty='l1', C=0.03).fit(X, y)\n",
    "print(lasso.coef_)"
   ]
  },
  {
   "cell_type": "code",
   "execution_count": 10,
   "metadata": {},
   "outputs": [
    {
     "name": "stdout",
     "output_type": "stream",
     "text": [
      "[[ 2.4617357   2.45710151 -1.56604351 -1.55313199 -1.54487463 -1.60830176\n",
      "  -0.05681405 -0.04050241 -0.04460427 -0.08791885 -0.05720098 -0.06973952\n",
      "  -0.11075643 -0.06716527 -0.06664289]\n",
      " [-1.56303755 -1.5466943   2.54689275  2.46016628 -1.58865469 -1.57969747\n",
      "  -0.08370188 -0.06022821 -0.06511064 -0.04948992 -0.11075977 -0.06804898\n",
      "  -0.0873082  -0.07197883 -0.1154976 ]\n",
      " [-1.57871211 -1.62441989 -1.67109574 -1.56845106  2.44165371  2.50498424\n",
      "  -0.06867316 -0.10389544 -0.08656815 -0.06045278 -0.02754029 -0.06807017\n",
      "  -0.00549838 -0.05522777 -0.03302182]]\n"
     ]
    },
    {
     "name": "stderr",
     "output_type": "stream",
     "text": [
      "/home/lovit/anaconda3/envs/pytorch/lib/python3.7/site-packages/sklearn/linear_model/logistic.py:432: FutureWarning: Default solver will be changed to 'lbfgs' in 0.22. Specify a solver to silence this warning.\n",
      "  FutureWarning)\n",
      "/home/lovit/anaconda3/envs/pytorch/lib/python3.7/site-packages/sklearn/linear_model/logistic.py:469: FutureWarning: Default multi_class will be changed to 'auto' in 0.22. Specify the multi_class option to silence this warning.\n",
      "  \"this warning.\", FutureWarning)\n"
     ]
    }
   ],
   "source": [
    "ridge = LogisticRegression(penalty='l2', C=0.5).fit(X, y)\n",
    "print(ridge.coef_)"
   ]
  },
  {
   "cell_type": "code",
   "execution_count": 11,
   "metadata": {},
   "outputs": [
    {
     "name": "stderr",
     "output_type": "stream",
     "text": [
      "/home/lovit/anaconda3/envs/pytorch/lib/python3.7/site-packages/sklearn/linear_model/logistic.py:432: FutureWarning:\n",
      "\n",
      "Default solver will be changed to 'lbfgs' in 0.22. Specify a solver to silence this warning.\n",
      "\n",
      "/home/lovit/anaconda3/envs/pytorch/lib/python3.7/site-packages/sklearn/linear_model/logistic.py:469: FutureWarning:\n",
      "\n",
      "Default multi_class will be changed to 'auto' in 0.22. Specify the multi_class option to silence this warning.\n",
      "\n"
     ]
    },
    {
     "data": {
      "text/html": [
       "\n",
       "\n",
       "\n",
       "\n",
       "\n",
       "\n",
       "  <div class=\"bk-root\" id=\"07bf2c12-73b2-404f-9a2d-9b2e57064134\" data-root-id=\"1765\"></div>\n"
      ]
     },
     "metadata": {},
     "output_type": "display_data"
    },
    {
     "data": {
      "application/javascript": [
       "(function(root) {\n",
       "  function embed_document(root) {\n",
       "    \n",
       "  var docs_json = {\"c122a2cb-9e3c-47ef-b76b-69a1737a6962\":{\"roots\":{\"references\":[{\"attributes\":{\"below\":[{\"id\":\"1776\",\"type\":\"LinearAxis\"}],\"center\":[{\"id\":\"1780\",\"type\":\"Grid\"},{\"id\":\"1785\",\"type\":\"Grid\"}],\"left\":[{\"id\":\"1781\",\"type\":\"LinearAxis\"}],\"renderers\":[{\"id\":\"1800\",\"type\":\"GlyphRenderer\"},{\"id\":\"1805\",\"type\":\"GlyphRenderer\"}],\"title\":{\"id\":\"1766\",\"type\":\"Title\"},\"toolbar\":{\"id\":\"1791\",\"type\":\"Toolbar\"},\"x_range\":{\"id\":\"1768\",\"type\":\"DataRange1d\"},\"x_scale\":{\"id\":\"1772\",\"type\":\"LinearScale\"},\"y_range\":{\"id\":\"1770\",\"type\":\"DataRange1d\"},\"y_scale\":{\"id\":\"1774\",\"type\":\"LinearScale\"}},\"id\":\"1765\",\"subtype\":\"Figure\",\"type\":\"Plot\"},{\"attributes\":{\"dimension\":1,\"ticker\":{\"id\":\"1782\",\"type\":\"BasicTicker\"}},\"id\":\"1785\",\"type\":\"Grid\"},{\"attributes\":{},\"id\":\"1868\",\"type\":\"Selection\"},{\"attributes\":{\"data_source\":{\"id\":\"1797\",\"type\":\"ColumnDataSource\"},\"glyph\":{\"id\":\"1798\",\"type\":\"Scatter\"},\"hover_glyph\":null,\"muted_glyph\":null,\"nonselection_glyph\":{\"id\":\"1799\",\"type\":\"Scatter\"},\"selection_glyph\":null,\"view\":{\"id\":\"1801\",\"type\":\"CDSView\"}},\"id\":\"1800\",\"type\":\"GlyphRenderer\"},{\"attributes\":{\"callback\":null,\"data\":{\"fill_color\":[\"#2b83ba\",\"#2b83ba\",\"#2b83ba\",\"#2b83ba\",\"#2b83ba\",\"#2b83ba\",\"#2b83ba\",\"#2b83ba\",\"#2b83ba\",\"#2b83ba\",\"#2b83ba\",\"#2b83ba\",\"#2b83ba\",\"#2b83ba\",\"#2b83ba\",\"#2b83ba\",\"#2b83ba\",\"#2b83ba\",\"#2b83ba\",\"#2b83ba\",\"#2b83ba\",\"#2b83ba\",\"#2b83ba\",\"#2b83ba\",\"#2b83ba\",\"#2b83ba\",\"#2b83ba\",\"#2b83ba\",\"#2b83ba\",\"#2b83ba\",\"#2b83ba\",\"#2b83ba\",\"#2b83ba\",\"#2b83ba\",\"#2b83ba\",\"#2b83ba\",\"#2b83ba\",\"#2b83ba\",\"#2b83ba\",\"#2b83ba\",\"#2b83ba\",\"#2b83ba\",\"#2b83ba\",\"#2b83ba\",\"#2b83ba\",\"#2b83ba\",\"#2b83ba\",\"#2b83ba\",\"#2b83ba\",\"#2b83ba\",\"#2b83ba\",\"#2b83ba\",\"#2b83ba\",\"#2b83ba\",\"#2b83ba\",\"#2b83ba\",\"#2b83ba\",\"#2b83ba\",\"#2b83ba\",\"#2b83ba\",\"#2b83ba\",\"#2b83ba\",\"#2b83ba\",\"#2b83ba\",\"#2b83ba\",\"#2b83ba\",\"#2b83ba\",\"#2b83ba\",\"#2b83ba\",\"#2b83ba\",\"#2b83ba\",\"#2b83ba\",\"#2b83ba\",\"#2b83ba\",\"#2b83ba\",\"#2b83ba\",\"#2b83ba\",\"#2b83ba\",\"#2b83ba\",\"#2b83ba\",\"#2b83ba\",\"#2b83ba\",\"#2b83ba\",\"#2b83ba\",\"#2b83ba\",\"#2b83ba\",\"#2b83ba\",\"#2b83ba\",\"#2b83ba\",\"#2b83ba\",\"#2b83ba\",\"#2b83ba\",\"#2b83ba\",\"#2b83ba\",\"#2b83ba\",\"#2b83ba\",\"#2b83ba\",\"#2b83ba\",\"#2b83ba\",\"#2b83ba\",\"#abdda4\",\"#abdda4\",\"#abdda4\",\"#abdda4\",\"#abdda4\",\"#abdda4\",\"#abdda4\",\"#abdda4\",\"#abdda4\",\"#abdda4\",\"#abdda4\",\"#abdda4\",\"#abdda4\",\"#abdda4\",\"#abdda4\",\"#abdda4\",\"#abdda4\",\"#abdda4\",\"#abdda4\",\"#abdda4\",\"#abdda4\",\"#abdda4\",\"#abdda4\",\"#abdda4\",\"#abdda4\",\"#abdda4\",\"#abdda4\",\"#abdda4\",\"#abdda4\",\"#abdda4\",\"#abdda4\",\"#abdda4\",\"#abdda4\",\"#abdda4\",\"#abdda4\",\"#abdda4\",\"#abdda4\",\"#abdda4\",\"#abdda4\",\"#abdda4\",\"#abdda4\",\"#abdda4\",\"#abdda4\",\"#abdda4\",\"#abdda4\",\"#abdda4\",\"#abdda4\",\"#abdda4\",\"#abdda4\",\"#abdda4\",\"#abdda4\",\"#abdda4\",\"#abdda4\",\"#abdda4\",\"#abdda4\",\"#abdda4\",\"#abdda4\",\"#abdda4\",\"#abdda4\",\"#abdda4\",\"#abdda4\",\"#abdda4\",\"#abdda4\",\"#abdda4\",\"#abdda4\",\"#abdda4\",\"#abdda4\",\"#abdda4\",\"#abdda4\",\"#abdda4\",\"#abdda4\",\"#abdda4\",\"#abdda4\",\"#abdda4\",\"#abdda4\",\"#abdda4\",\"#abdda4\",\"#abdda4\",\"#abdda4\",\"#abdda4\",\"#abdda4\",\"#abdda4\",\"#abdda4\",\"#abdda4\",\"#abdda4\",\"#abdda4\",\"#abdda4\",\"#abdda4\",\"#abdda4\",\"#abdda4\",\"#abdda4\",\"#abdda4\",\"#abdda4\",\"#abdda4\",\"#abdda4\",\"#abdda4\",\"#abdda4\",\"#abdda4\",\"#abdda4\",\"#abdda4\",\"#ffffbf\",\"#ffffbf\",\"#ffffbf\",\"#ffffbf\",\"#ffffbf\",\"#ffffbf\",\"#ffffbf\",\"#ffffbf\",\"#ffffbf\",\"#ffffbf\",\"#ffffbf\",\"#ffffbf\",\"#ffffbf\",\"#ffffbf\",\"#ffffbf\",\"#ffffbf\",\"#ffffbf\",\"#ffffbf\",\"#ffffbf\",\"#ffffbf\",\"#ffffbf\",\"#ffffbf\",\"#ffffbf\",\"#ffffbf\",\"#ffffbf\",\"#ffffbf\",\"#ffffbf\",\"#ffffbf\",\"#ffffbf\",\"#ffffbf\",\"#ffffbf\",\"#ffffbf\",\"#ffffbf\",\"#ffffbf\",\"#ffffbf\",\"#ffffbf\",\"#ffffbf\",\"#ffffbf\",\"#ffffbf\",\"#ffffbf\",\"#ffffbf\",\"#ffffbf\",\"#ffffbf\",\"#ffffbf\",\"#ffffbf\",\"#ffffbf\",\"#ffffbf\",\"#ffffbf\",\"#ffffbf\",\"#ffffbf\",\"#ffffbf\",\"#ffffbf\",\"#ffffbf\",\"#ffffbf\",\"#ffffbf\",\"#ffffbf\",\"#ffffbf\",\"#ffffbf\",\"#ffffbf\",\"#ffffbf\",\"#ffffbf\",\"#ffffbf\",\"#ffffbf\",\"#ffffbf\",\"#ffffbf\",\"#ffffbf\",\"#ffffbf\",\"#ffffbf\",\"#ffffbf\",\"#ffffbf\",\"#ffffbf\",\"#ffffbf\",\"#ffffbf\",\"#ffffbf\",\"#ffffbf\",\"#ffffbf\",\"#ffffbf\",\"#ffffbf\",\"#ffffbf\",\"#ffffbf\",\"#ffffbf\",\"#ffffbf\",\"#ffffbf\",\"#ffffbf\",\"#ffffbf\",\"#ffffbf\",\"#ffffbf\",\"#ffffbf\",\"#ffffbf\",\"#ffffbf\",\"#ffffbf\",\"#ffffbf\",\"#ffffbf\",\"#ffffbf\",\"#ffffbf\",\"#ffffbf\",\"#ffffbf\",\"#ffffbf\",\"#ffffbf\",\"#ffffbf\",\"#fdae61\",\"#fdae61\",\"#fdae61\",\"#fdae61\",\"#fdae61\",\"#fdae61\",\"#fdae61\",\"#fdae61\",\"#fdae61\",\"#fdae61\",\"#fdae61\",\"#fdae61\",\"#fdae61\",\"#fdae61\",\"#fdae61\",\"#fdae61\",\"#fdae61\",\"#fdae61\",\"#fdae61\",\"#fdae61\",\"#fdae61\",\"#fdae61\",\"#fdae61\",\"#fdae61\",\"#fdae61\",\"#fdae61\",\"#fdae61\",\"#fdae61\",\"#fdae61\",\"#fdae61\",\"#fdae61\",\"#fdae61\",\"#fdae61\",\"#fdae61\",\"#fdae61\",\"#fdae61\",\"#fdae61\",\"#fdae61\",\"#fdae61\",\"#fdae61\",\"#fdae61\",\"#fdae61\",\"#fdae61\",\"#fdae61\",\"#fdae61\",\"#fdae61\",\"#fdae61\",\"#fdae61\",\"#fdae61\",\"#fdae61\",\"#fdae61\",\"#fdae61\",\"#fdae61\",\"#fdae61\",\"#fdae61\",\"#fdae61\",\"#fdae61\",\"#fdae61\",\"#fdae61\",\"#fdae61\",\"#fdae61\",\"#fdae61\",\"#fdae61\",\"#fdae61\",\"#fdae61\",\"#fdae61\",\"#fdae61\",\"#fdae61\",\"#fdae61\",\"#fdae61\",\"#fdae61\",\"#fdae61\",\"#fdae61\",\"#fdae61\",\"#fdae61\",\"#fdae61\",\"#fdae61\",\"#fdae61\",\"#fdae61\",\"#fdae61\",\"#fdae61\",\"#fdae61\",\"#fdae61\",\"#fdae61\",\"#fdae61\",\"#fdae61\",\"#fdae61\",\"#fdae61\",\"#fdae61\",\"#fdae61\",\"#fdae61\",\"#fdae61\",\"#fdae61\",\"#fdae61\",\"#fdae61\",\"#fdae61\",\"#fdae61\",\"#fdae61\",\"#fdae61\",\"#fdae61\",\"#d7191c\",\"#d7191c\",\"#d7191c\",\"#d7191c\",\"#d7191c\",\"#d7191c\",\"#d7191c\",\"#d7191c\",\"#d7191c\",\"#d7191c\",\"#d7191c\",\"#d7191c\",\"#d7191c\",\"#d7191c\",\"#d7191c\",\"#d7191c\",\"#d7191c\",\"#d7191c\",\"#d7191c\",\"#d7191c\",\"#d7191c\",\"#d7191c\",\"#d7191c\",\"#d7191c\",\"#d7191c\",\"#d7191c\",\"#d7191c\",\"#d7191c\",\"#d7191c\",\"#d7191c\",\"#d7191c\",\"#d7191c\",\"#d7191c\",\"#d7191c\",\"#d7191c\",\"#d7191c\",\"#d7191c\",\"#d7191c\",\"#d7191c\",\"#d7191c\",\"#d7191c\",\"#d7191c\",\"#d7191c\",\"#d7191c\",\"#d7191c\",\"#d7191c\",\"#d7191c\",\"#d7191c\",\"#d7191c\",\"#d7191c\",\"#d7191c\",\"#d7191c\",\"#d7191c\",\"#d7191c\",\"#d7191c\",\"#d7191c\",\"#d7191c\",\"#d7191c\",\"#d7191c\",\"#d7191c\",\"#d7191c\",\"#d7191c\",\"#d7191c\",\"#d7191c\",\"#d7191c\",\"#d7191c\",\"#d7191c\",\"#d7191c\",\"#d7191c\",\"#d7191c\",\"#d7191c\",\"#d7191c\",\"#d7191c\",\"#d7191c\",\"#d7191c\",\"#d7191c\",\"#d7191c\",\"#d7191c\",\"#d7191c\",\"#d7191c\",\"#d7191c\",\"#d7191c\",\"#d7191c\",\"#d7191c\",\"#d7191c\",\"#d7191c\",\"#d7191c\",\"#d7191c\",\"#d7191c\",\"#d7191c\",\"#d7191c\",\"#d7191c\",\"#d7191c\",\"#d7191c\",\"#d7191c\",\"#d7191c\",\"#d7191c\",\"#d7191c\",\"#d7191c\",\"#d7191c\"],\"line_color\":[\"#2b83ba\",\"#2b83ba\",\"#2b83ba\",\"#2b83ba\",\"#2b83ba\",\"#2b83ba\",\"#2b83ba\",\"#2b83ba\",\"#2b83ba\",\"#2b83ba\",\"#2b83ba\",\"#2b83ba\",\"#2b83ba\",\"#2b83ba\",\"#2b83ba\",\"#2b83ba\",\"#2b83ba\",\"#2b83ba\",\"#2b83ba\",\"#2b83ba\",\"#2b83ba\",\"#2b83ba\",\"#2b83ba\",\"#2b83ba\",\"#2b83ba\",\"#2b83ba\",\"#2b83ba\",\"#2b83ba\",\"#2b83ba\",\"#2b83ba\",\"#2b83ba\",\"#2b83ba\",\"#2b83ba\",\"#2b83ba\",\"#2b83ba\",\"#2b83ba\",\"#2b83ba\",\"#2b83ba\",\"#2b83ba\",\"#2b83ba\",\"#2b83ba\",\"#2b83ba\",\"#2b83ba\",\"#2b83ba\",\"#2b83ba\",\"#2b83ba\",\"#2b83ba\",\"#2b83ba\",\"#2b83ba\",\"#2b83ba\",\"#2b83ba\",\"#2b83ba\",\"#2b83ba\",\"#2b83ba\",\"#2b83ba\",\"#2b83ba\",\"#2b83ba\",\"#2b83ba\",\"#2b83ba\",\"#2b83ba\",\"#2b83ba\",\"#2b83ba\",\"#2b83ba\",\"#2b83ba\",\"#2b83ba\",\"#2b83ba\",\"#2b83ba\",\"#2b83ba\",\"#2b83ba\",\"#2b83ba\",\"#2b83ba\",\"#2b83ba\",\"#2b83ba\",\"#2b83ba\",\"#2b83ba\",\"#2b83ba\",\"#2b83ba\",\"#2b83ba\",\"#2b83ba\",\"#2b83ba\",\"#2b83ba\",\"#2b83ba\",\"#2b83ba\",\"#2b83ba\",\"#2b83ba\",\"#2b83ba\",\"#2b83ba\",\"#2b83ba\",\"#2b83ba\",\"#2b83ba\",\"#2b83ba\",\"#2b83ba\",\"#2b83ba\",\"#2b83ba\",\"#2b83ba\",\"#2b83ba\",\"#2b83ba\",\"#2b83ba\",\"#2b83ba\",\"#2b83ba\",\"#abdda4\",\"#abdda4\",\"#abdda4\",\"#abdda4\",\"#abdda4\",\"#abdda4\",\"#abdda4\",\"#abdda4\",\"#abdda4\",\"#abdda4\",\"#abdda4\",\"#abdda4\",\"#abdda4\",\"#abdda4\",\"#abdda4\",\"#abdda4\",\"#abdda4\",\"#abdda4\",\"#abdda4\",\"#abdda4\",\"#abdda4\",\"#abdda4\",\"#abdda4\",\"#abdda4\",\"#abdda4\",\"#abdda4\",\"#abdda4\",\"#abdda4\",\"#abdda4\",\"#abdda4\",\"#abdda4\",\"#abdda4\",\"#abdda4\",\"#abdda4\",\"#abdda4\",\"#abdda4\",\"#abdda4\",\"#abdda4\",\"#abdda4\",\"#abdda4\",\"#abdda4\",\"#abdda4\",\"#abdda4\",\"#abdda4\",\"#abdda4\",\"#abdda4\",\"#abdda4\",\"#abdda4\",\"#abdda4\",\"#abdda4\",\"#abdda4\",\"#abdda4\",\"#abdda4\",\"#abdda4\",\"#abdda4\",\"#abdda4\",\"#abdda4\",\"#abdda4\",\"#abdda4\",\"#abdda4\",\"#abdda4\",\"#abdda4\",\"#abdda4\",\"#abdda4\",\"#abdda4\",\"#abdda4\",\"#abdda4\",\"#abdda4\",\"#abdda4\",\"#abdda4\",\"#abdda4\",\"#abdda4\",\"#abdda4\",\"#abdda4\",\"#abdda4\",\"#abdda4\",\"#abdda4\",\"#abdda4\",\"#abdda4\",\"#abdda4\",\"#abdda4\",\"#abdda4\",\"#abdda4\",\"#abdda4\",\"#abdda4\",\"#abdda4\",\"#abdda4\",\"#abdda4\",\"#abdda4\",\"#abdda4\",\"#abdda4\",\"#abdda4\",\"#abdda4\",\"#abdda4\",\"#abdda4\",\"#abdda4\",\"#abdda4\",\"#abdda4\",\"#abdda4\",\"#abdda4\",\"#ffffbf\",\"#ffffbf\",\"#ffffbf\",\"#ffffbf\",\"#ffffbf\",\"#ffffbf\",\"#ffffbf\",\"#ffffbf\",\"#ffffbf\",\"#ffffbf\",\"#ffffbf\",\"#ffffbf\",\"#ffffbf\",\"#ffffbf\",\"#ffffbf\",\"#ffffbf\",\"#ffffbf\",\"#ffffbf\",\"#ffffbf\",\"#ffffbf\",\"#ffffbf\",\"#ffffbf\",\"#ffffbf\",\"#ffffbf\",\"#ffffbf\",\"#ffffbf\",\"#ffffbf\",\"#ffffbf\",\"#ffffbf\",\"#ffffbf\",\"#ffffbf\",\"#ffffbf\",\"#ffffbf\",\"#ffffbf\",\"#ffffbf\",\"#ffffbf\",\"#ffffbf\",\"#ffffbf\",\"#ffffbf\",\"#ffffbf\",\"#ffffbf\",\"#ffffbf\",\"#ffffbf\",\"#ffffbf\",\"#ffffbf\",\"#ffffbf\",\"#ffffbf\",\"#ffffbf\",\"#ffffbf\",\"#ffffbf\",\"#ffffbf\",\"#ffffbf\",\"#ffffbf\",\"#ffffbf\",\"#ffffbf\",\"#ffffbf\",\"#ffffbf\",\"#ffffbf\",\"#ffffbf\",\"#ffffbf\",\"#ffffbf\",\"#ffffbf\",\"#ffffbf\",\"#ffffbf\",\"#ffffbf\",\"#ffffbf\",\"#ffffbf\",\"#ffffbf\",\"#ffffbf\",\"#ffffbf\",\"#ffffbf\",\"#ffffbf\",\"#ffffbf\",\"#ffffbf\",\"#ffffbf\",\"#ffffbf\",\"#ffffbf\",\"#ffffbf\",\"#ffffbf\",\"#ffffbf\",\"#ffffbf\",\"#ffffbf\",\"#ffffbf\",\"#ffffbf\",\"#ffffbf\",\"#ffffbf\",\"#ffffbf\",\"#ffffbf\",\"#ffffbf\",\"#ffffbf\",\"#ffffbf\",\"#ffffbf\",\"#ffffbf\",\"#ffffbf\",\"#ffffbf\",\"#ffffbf\",\"#ffffbf\",\"#ffffbf\",\"#ffffbf\",\"#ffffbf\",\"#fdae61\",\"#fdae61\",\"#fdae61\",\"#fdae61\",\"#fdae61\",\"#fdae61\",\"#fdae61\",\"#fdae61\",\"#fdae61\",\"#fdae61\",\"#fdae61\",\"#fdae61\",\"#fdae61\",\"#fdae61\",\"#fdae61\",\"#fdae61\",\"#fdae61\",\"#fdae61\",\"#fdae61\",\"#fdae61\",\"#fdae61\",\"#fdae61\",\"#fdae61\",\"#fdae61\",\"#fdae61\",\"#fdae61\",\"#fdae61\",\"#fdae61\",\"#fdae61\",\"#fdae61\",\"#fdae61\",\"#fdae61\",\"#fdae61\",\"#fdae61\",\"#fdae61\",\"#fdae61\",\"#fdae61\",\"#fdae61\",\"#fdae61\",\"#fdae61\",\"#fdae61\",\"#fdae61\",\"#fdae61\",\"#fdae61\",\"#fdae61\",\"#fdae61\",\"#fdae61\",\"#fdae61\",\"#fdae61\",\"#fdae61\",\"#fdae61\",\"#fdae61\",\"#fdae61\",\"#fdae61\",\"#fdae61\",\"#fdae61\",\"#fdae61\",\"#fdae61\",\"#fdae61\",\"#fdae61\",\"#fdae61\",\"#fdae61\",\"#fdae61\",\"#fdae61\",\"#fdae61\",\"#fdae61\",\"#fdae61\",\"#fdae61\",\"#fdae61\",\"#fdae61\",\"#fdae61\",\"#fdae61\",\"#fdae61\",\"#fdae61\",\"#fdae61\",\"#fdae61\",\"#fdae61\",\"#fdae61\",\"#fdae61\",\"#fdae61\",\"#fdae61\",\"#fdae61\",\"#fdae61\",\"#fdae61\",\"#fdae61\",\"#fdae61\",\"#fdae61\",\"#fdae61\",\"#fdae61\",\"#fdae61\",\"#fdae61\",\"#fdae61\",\"#fdae61\",\"#fdae61\",\"#fdae61\",\"#fdae61\",\"#fdae61\",\"#fdae61\",\"#fdae61\",\"#fdae61\",\"#d7191c\",\"#d7191c\",\"#d7191c\",\"#d7191c\",\"#d7191c\",\"#d7191c\",\"#d7191c\",\"#d7191c\",\"#d7191c\",\"#d7191c\",\"#d7191c\",\"#d7191c\",\"#d7191c\",\"#d7191c\",\"#d7191c\",\"#d7191c\",\"#d7191c\",\"#d7191c\",\"#d7191c\",\"#d7191c\",\"#d7191c\",\"#d7191c\",\"#d7191c\",\"#d7191c\",\"#d7191c\",\"#d7191c\",\"#d7191c\",\"#d7191c\",\"#d7191c\",\"#d7191c\",\"#d7191c\",\"#d7191c\",\"#d7191c\",\"#d7191c\",\"#d7191c\",\"#d7191c\",\"#d7191c\",\"#d7191c\",\"#d7191c\",\"#d7191c\",\"#d7191c\",\"#d7191c\",\"#d7191c\",\"#d7191c\",\"#d7191c\",\"#d7191c\",\"#d7191c\",\"#d7191c\",\"#d7191c\",\"#d7191c\",\"#d7191c\",\"#d7191c\",\"#d7191c\",\"#d7191c\",\"#d7191c\",\"#d7191c\",\"#d7191c\",\"#d7191c\",\"#d7191c\",\"#d7191c\",\"#d7191c\",\"#d7191c\",\"#d7191c\",\"#d7191c\",\"#d7191c\",\"#d7191c\",\"#d7191c\",\"#d7191c\",\"#d7191c\",\"#d7191c\",\"#d7191c\",\"#d7191c\",\"#d7191c\",\"#d7191c\",\"#d7191c\",\"#d7191c\",\"#d7191c\",\"#d7191c\",\"#d7191c\",\"#d7191c\",\"#d7191c\",\"#d7191c\",\"#d7191c\",\"#d7191c\",\"#d7191c\",\"#d7191c\",\"#d7191c\",\"#d7191c\",\"#d7191c\",\"#d7191c\",\"#d7191c\",\"#d7191c\",\"#d7191c\",\"#d7191c\",\"#d7191c\",\"#d7191c\",\"#d7191c\",\"#d7191c\",\"#d7191c\",\"#d7191c\"],\"x\":{\"__ndarray__\":\"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\",\"dtype\":\"float64\",\"shape\":[500]},\"y\":{\"__ndarray__\":\"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\",\"dtype\":\"float64\",\"shape\":[500]}},\"selected\":{\"id\":\"1868\",\"type\":\"Selection\"},\"selection_policy\":{\"id\":\"1867\",\"type\":\"UnionRenderers\"}},\"id\":\"1797\",\"type\":\"ColumnDataSource\"},{\"attributes\":{},\"id\":\"1869\",\"type\":\"UnionRenderers\"},{\"attributes\":{\"fill_alpha\":{\"value\":0.1},\"fill_color\":{\"value\":\"#1f77b4\"},\"line_alpha\":{\"value\":0.1},\"line_color\":{\"value\":\"#1f77b4\"},\"size\":{\"units\":\"screen\",\"value\":5},\"x\":{\"field\":\"x\"},\"y\":{\"field\":\"y\"}},\"id\":\"1799\",\"type\":\"Scatter\"},{\"attributes\":{\"active_drag\":\"auto\",\"active_inspect\":\"auto\",\"active_multi\":null,\"active_scroll\":\"auto\",\"active_tap\":\"auto\",\"tools\":[{\"id\":\"1786\",\"type\":\"PanTool\"},{\"id\":\"1787\",\"type\":\"WheelZoomTool\"},{\"id\":\"1788\",\"type\":\"BoxZoomTool\"},{\"id\":\"1789\",\"type\":\"SaveTool\"},{\"id\":\"1790\",\"type\":\"ResetTool\"}]},\"id\":\"1791\",\"type\":\"Toolbar\"},{\"attributes\":{},\"id\":\"1870\",\"type\":\"Selection\"},{\"attributes\":{},\"id\":\"1786\",\"type\":\"PanTool\"},{\"attributes\":{},\"id\":\"1863\",\"type\":\"BasicTickFormatter\"},{\"attributes\":{},\"id\":\"1787\",\"type\":\"WheelZoomTool\"},{\"attributes\":{\"callback\":null},\"id\":\"1768\",\"type\":\"DataRange1d\"},{\"attributes\":{\"overlay\":{\"id\":\"1866\",\"type\":\"BoxAnnotation\"}},\"id\":\"1788\",\"type\":\"BoxZoomTool\"},{\"attributes\":{},\"id\":\"1789\",\"type\":\"SaveTool\"},{\"attributes\":{\"callback\":null,\"data\":{\"fill_color\":[\"#2b83ba\",\"#abdda4\",\"#ffffbf\",\"#fdae61\",\"#d7191c\"],\"line_color\":[\"#2b83ba\",\"#abdda4\",\"#ffffbf\",\"#fdae61\",\"#d7191c\"],\"x\":{\"__ndarray__\":\"cpGV+7OSrz/NHXhAsj+Xv3/0QpWz7rO/22M6IMH6lr8v2GO7GJqxPw==\",\"dtype\":\"float64\",\"shape\":[5]},\"y\":{\"__ndarray__\":\"yUgFzgLtrj9ua0iCusazP7R7yDXtGnE/Ot7awFtXtL+Ipe1Mydqdvw==\",\"dtype\":\"float64\",\"shape\":[5]}},\"selected\":{\"id\":\"1870\",\"type\":\"Selection\"},\"selection_policy\":{\"id\":\"1869\",\"type\":\"UnionRenderers\"}},\"id\":\"1802\",\"type\":\"ColumnDataSource\"},{\"attributes\":{},\"id\":\"1790\",\"type\":\"ResetTool\"},{\"attributes\":{\"formatter\":{\"id\":\"1863\",\"type\":\"BasicTickFormatter\"},\"ticker\":{\"id\":\"1777\",\"type\":\"BasicTicker\"}},\"id\":\"1776\",\"type\":\"LinearAxis\"},{\"attributes\":{\"source\":{\"id\":\"1797\",\"type\":\"ColumnDataSource\"}},\"id\":\"1801\",\"type\":\"CDSView\"},{\"attributes\":{\"callback\":null},\"id\":\"1770\",\"type\":\"DataRange1d\"},{\"attributes\":{\"fill_alpha\":{\"value\":0.95},\"fill_color\":{\"field\":\"fill_color\"},\"line_alpha\":{\"value\":0.95},\"line_color\":{\"field\":\"line_color\"},\"marker\":{\"value\":\"triangle\"},\"size\":{\"units\":\"screen\",\"value\":10},\"x\":{\"field\":\"x\"},\"y\":{\"field\":\"y\"}},\"id\":\"1803\",\"type\":\"Scatter\"},{\"attributes\":{\"fill_alpha\":{\"value\":0.1},\"fill_color\":{\"value\":\"#1f77b4\"},\"line_alpha\":{\"value\":0.1},\"line_color\":{\"value\":\"#1f77b4\"},\"marker\":{\"value\":\"triangle\"},\"size\":{\"units\":\"screen\",\"value\":10},\"x\":{\"field\":\"x\"},\"y\":{\"field\":\"y\"}},\"id\":\"1804\",\"type\":\"Scatter\"},{\"attributes\":{\"text\":\"Radial\"},\"id\":\"1766\",\"type\":\"Title\"},{\"attributes\":{\"formatter\":{\"id\":\"1865\",\"type\":\"BasicTickFormatter\"},\"ticker\":{\"id\":\"1782\",\"type\":\"BasicTicker\"}},\"id\":\"1781\",\"type\":\"LinearAxis\"},{\"attributes\":{\"data_source\":{\"id\":\"1802\",\"type\":\"ColumnDataSource\"},\"glyph\":{\"id\":\"1803\",\"type\":\"Scatter\"},\"hover_glyph\":null,\"muted_glyph\":null,\"nonselection_glyph\":{\"id\":\"1804\",\"type\":\"Scatter\"},\"selection_glyph\":null,\"view\":{\"id\":\"1806\",\"type\":\"CDSView\"}},\"id\":\"1805\",\"type\":\"GlyphRenderer\"},{\"attributes\":{},\"id\":\"1777\",\"type\":\"BasicTicker\"},{\"attributes\":{\"source\":{\"id\":\"1802\",\"type\":\"ColumnDataSource\"}},\"id\":\"1806\",\"type\":\"CDSView\"},{\"attributes\":{\"fill_alpha\":{\"value\":0.5},\"fill_color\":{\"field\":\"fill_color\"},\"line_alpha\":{\"value\":0.5},\"line_color\":{\"field\":\"line_color\"},\"size\":{\"units\":\"screen\",\"value\":5},\"x\":{\"field\":\"x\"},\"y\":{\"field\":\"y\"}},\"id\":\"1798\",\"type\":\"Scatter\"},{\"attributes\":{},\"id\":\"1865\",\"type\":\"BasicTickFormatter\"},{\"attributes\":{},\"id\":\"1774\",\"type\":\"LinearScale\"},{\"attributes\":{\"ticker\":{\"id\":\"1777\",\"type\":\"BasicTicker\"}},\"id\":\"1780\",\"type\":\"Grid\"},{\"attributes\":{},\"id\":\"1772\",\"type\":\"LinearScale\"},{\"attributes\":{\"bottom_units\":\"screen\",\"fill_alpha\":{\"value\":0.5},\"fill_color\":{\"value\":\"lightgrey\"},\"left_units\":\"screen\",\"level\":\"overlay\",\"line_alpha\":{\"value\":1.0},\"line_color\":{\"value\":\"black\"},\"line_dash\":[4,4],\"line_width\":{\"value\":2},\"render_mode\":\"css\",\"right_units\":\"screen\",\"top_units\":\"screen\"},\"id\":\"1866\",\"type\":\"BoxAnnotation\"},{\"attributes\":{},\"id\":\"1782\",\"type\":\"BasicTicker\"},{\"attributes\":{},\"id\":\"1867\",\"type\":\"UnionRenderers\"}],\"root_ids\":[\"1765\"]},\"title\":\"Bokeh Application\",\"version\":\"1.4.0\"}};\n",
       "  var render_items = [{\"docid\":\"c122a2cb-9e3c-47ef-b76b-69a1737a6962\",\"roots\":{\"1765\":\"07bf2c12-73b2-404f-9a2d-9b2e57064134\"}}];\n",
       "  root.Bokeh.embed.embed_items_notebook(docs_json, render_items);\n",
       "\n",
       "  }\n",
       "  if (root.Bokeh !== undefined) {\n",
       "    embed_document(root);\n",
       "  } else {\n",
       "    var attempts = 0;\n",
       "    var timer = setInterval(function(root) {\n",
       "      if (root.Bokeh !== undefined) {\n",
       "        clearInterval(timer);\n",
       "        embed_document(root);\n",
       "      } else {\n",
       "        attempts++;\n",
       "        if (attempts > 100) {\n",
       "          clearInterval(timer);\n",
       "          console.log(\"Bokeh: ERROR: Unable to run BokehJS code because BokehJS library is missing\");\n",
       "        }\n",
       "      }\n",
       "    }, 10, root)\n",
       "  }\n",
       "})(window);"
      ],
      "application/vnd.bokehjs_exec.v0+json": ""
     },
     "metadata": {
      "application/vnd.bokehjs_exec.v0+json": {
       "id": "1765"
      }
     },
     "output_type": "display_data"
    }
   ],
   "source": [
    "from soydata.data import make_radial\n",
    "from soydata.visualize import scatterplot\n",
    "\n",
    "n_classes = 5\n",
    "X, labels = make_radial(n_samples_per_cluster=100, n_classes=n_classes, \n",
    "    n_clusters_per_class=1, gap=0.3, equal_proportion=True,\n",
    "    radius_min=0.1, radius_scale=1.0, radius_variance=0.5)\n",
    "\n",
    "ridge = LogisticRegression(penalty='l2', C=0.001).fit(X, labels)\n",
    "p = scatterplot(X, labels=labels, title='Radial', alpha=0.5, show_inline=False)\n",
    "p = scatterplot(ridge.coef_, labels=np.arange(n_classes), marker='triangle', size=10, p=p)"
   ]
  },
  {
   "cell_type": "code",
   "execution_count": 12,
   "metadata": {},
   "outputs": [
    {
     "name": "stderr",
     "output_type": "stream",
     "text": [
      "/home/lovit/anaconda3/envs/pytorch/lib/python3.7/site-packages/sklearn/linear_model/logistic.py:432: FutureWarning:\n",
      "\n",
      "Default solver will be changed to 'lbfgs' in 0.22. Specify a solver to silence this warning.\n",
      "\n",
      "/home/lovit/anaconda3/envs/pytorch/lib/python3.7/site-packages/sklearn/linear_model/logistic.py:469: FutureWarning:\n",
      "\n",
      "Default multi_class will be changed to 'auto' in 0.22. Specify the multi_class option to silence this warning.\n",
      "\n"
     ]
    },
    {
     "data": {
      "text/html": [
       "\n",
       "\n",
       "\n",
       "\n",
       "\n",
       "\n",
       "  <div class=\"bk-root\" id=\"c5a20448-9a02-4621-9182-cecc3d6d528a\" data-root-id=\"1931\"></div>\n"
      ]
     },
     "metadata": {},
     "output_type": "display_data"
    },
    {
     "data": {
      "application/javascript": [
       "(function(root) {\n",
       "  function embed_document(root) {\n",
       "    \n",
       "  var docs_json = {\"ac9bdb3c-2280-4978-83ee-f7e4192f4903\":{\"roots\":{\"references\":[{\"attributes\":{\"below\":[{\"id\":\"1942\",\"type\":\"LinearAxis\"}],\"center\":[{\"id\":\"1946\",\"type\":\"Grid\"},{\"id\":\"1951\",\"type\":\"Grid\"}],\"left\":[{\"id\":\"1947\",\"type\":\"LinearAxis\"}],\"renderers\":[{\"id\":\"1966\",\"type\":\"GlyphRenderer\"},{\"id\":\"1971\",\"type\":\"GlyphRenderer\"}],\"title\":{\"id\":\"1932\",\"type\":\"Title\"},\"toolbar\":{\"id\":\"1957\",\"type\":\"Toolbar\"},\"x_range\":{\"id\":\"1934\",\"type\":\"DataRange1d\"},\"x_scale\":{\"id\":\"1938\",\"type\":\"LinearScale\"},\"y_range\":{\"id\":\"1936\",\"type\":\"DataRange1d\"},\"y_scale\":{\"id\":\"1940\",\"type\":\"LinearScale\"}},\"id\":\"1931\",\"subtype\":\"Figure\",\"type\":\"Plot\"},{\"attributes\":{\"callback\":null,\"data\":{\"fill_color\":[\"#B8D992\",\"#BE83AB\",\"#78CCD0\"],\"line_color\":[\"#B8D992\",\"#BE83AB\",\"#78CCD0\"],\"x\":{\"__ndarray__\":\"Gm7+pCBz5D/Od00JmUuqvxVXyHuUut2/\",\"dtype\":\"float64\",\"shape\":[3]},\"y\":{\"__ndarray__\":\"HzXFKTLKgb8loGZjziHHP+zhIC3lQd2/\",\"dtype\":\"float64\",\"shape\":[3]}},\"selected\":{\"id\":\"2046\",\"type\":\"Selection\"},\"selection_policy\":{\"id\":\"2045\",\"type\":\"UnionRenderers\"}},\"id\":\"1968\",\"type\":\"ColumnDataSource\"},{\"attributes\":{\"bottom_units\":\"screen\",\"fill_alpha\":{\"value\":0.5},\"fill_color\":{\"value\":\"lightgrey\"},\"left_units\":\"screen\",\"level\":\"overlay\",\"line_alpha\":{\"value\":1.0},\"line_color\":{\"value\":\"black\"},\"line_dash\":[4,4],\"line_width\":{\"value\":2},\"render_mode\":\"css\",\"right_units\":\"screen\",\"top_units\":\"screen\"},\"id\":\"2042\",\"type\":\"BoxAnnotation\"},{\"attributes\":{\"data_source\":{\"id\":\"1968\",\"type\":\"ColumnDataSource\"},\"glyph\":{\"id\":\"1969\",\"type\":\"Scatter\"},\"hover_glyph\":null,\"muted_glyph\":null,\"nonselection_glyph\":{\"id\":\"1970\",\"type\":\"Scatter\"},\"selection_glyph\":null,\"view\":{\"id\":\"1972\",\"type\":\"CDSView\"}},\"id\":\"1971\",\"type\":\"GlyphRenderer\"},{\"attributes\":{},\"id\":\"2043\",\"type\":\"UnionRenderers\"},{\"attributes\":{\"fill_alpha\":{\"value\":0.1},\"fill_color\":{\"value\":\"#1f77b4\"},\"line_alpha\":{\"value\":0.1},\"line_color\":{\"value\":\"#1f77b4\"},\"marker\":{\"value\":\"triangle\"},\"size\":{\"units\":\"screen\",\"value\":10},\"x\":{\"field\":\"x\"},\"y\":{\"field\":\"y\"}},\"id\":\"1970\",\"type\":\"Scatter\"},{\"attributes\":{\"data_source\":{\"id\":\"1963\",\"type\":\"ColumnDataSource\"},\"glyph\":{\"id\":\"1964\",\"type\":\"Scatter\"},\"hover_glyph\":null,\"muted_glyph\":null,\"nonselection_glyph\":{\"id\":\"1965\",\"type\":\"Scatter\"},\"selection_glyph\":null,\"view\":{\"id\":\"1967\",\"type\":\"CDSView\"}},\"id\":\"1966\",\"type\":\"GlyphRenderer\"},{\"attributes\":{},\"id\":\"2044\",\"type\":\"Selection\"},{\"attributes\":{},\"id\":\"1953\",\"type\":\"WheelZoomTool\"},{\"attributes\":{},\"id\":\"2041\",\"type\":\"BasicTickFormatter\"},{\"attributes\":{\"active_drag\":\"auto\",\"active_inspect\":\"auto\",\"active_multi\":null,\"active_scroll\":\"auto\",\"active_tap\":\"auto\",\"tools\":[{\"id\":\"1952\",\"type\":\"PanTool\"},{\"id\":\"1953\",\"type\":\"WheelZoomTool\"},{\"id\":\"1954\",\"type\":\"BoxZoomTool\"},{\"id\":\"1955\",\"type\":\"SaveTool\"},{\"id\":\"1956\",\"type\":\"ResetTool\"}]},\"id\":\"1957\",\"type\":\"Toolbar\"},{\"attributes\":{},\"id\":\"2045\",\"type\":\"UnionRenderers\"},{\"attributes\":{},\"id\":\"1956\",\"type\":\"ResetTool\"},{\"attributes\":{},\"id\":\"2046\",\"type\":\"Selection\"},{\"attributes\":{\"source\":{\"id\":\"1968\",\"type\":\"ColumnDataSource\"}},\"id\":\"1972\",\"type\":\"CDSView\"},{\"attributes\":{},\"id\":\"2039\",\"type\":\"BasicTickFormatter\"},{\"attributes\":{\"callback\":null,\"data\":{\"fill_color\":[\"#B8D992\",\"#B8D992\",\"#B8D992\",\"#B8D992\",\"#B8D992\",\"#B8D992\",\"#B8D992\",\"#B8D992\",\"#B8D992\",\"#B8D992\",\"#B8D992\",\"#B8D992\",\"#B8D992\",\"#B8D992\",\"#B8D992\",\"#B8D992\",\"#B8D992\",\"#B8D992\",\"#B8D992\",\"#B8D992\",\"#B8D992\",\"#B8D992\",\"#B8D992\",\"#B8D992\",\"#B8D992\",\"#B8D992\",\"#B8D992\",\"#B8D992\",\"#B8D992\",\"#B8D992\",\"#B8D992\",\"#B8D992\",\"#B8D992\",\"#B8D992\",\"#B8D992\",\"#B8D992\",\"#B8D992\",\"#B8D992\",\"#B8D992\",\"#B8D992\",\"#B8D992\",\"#B8D992\",\"#B8D992\",\"#B8D992\",\"#B8D992\",\"#B8D992\",\"#B8D992\",\"#B8D992\",\"#B8D992\",\"#B8D992\",\"#B8D992\",\"#B8D992\",\"#B8D992\",\"#B8D992\",\"#B8D992\",\"#B8D992\",\"#B8D992\",\"#B8D992\",\"#B8D992\",\"#B8D992\",\"#B8D992\",\"#B8D992\",\"#B8D992\",\"#B8D992\",\"#B8D992\",\"#B8D992\",\"#B8D992\",\"#B8D992\",\"#B8D992\",\"#B8D992\",\"#B8D992\",\"#B8D992\",\"#B8D992\",\"#B8D992\",\"#B8D992\",\"#B8D992\",\"#B8D992\",\"#B8D992\",\"#B8D992\",\"#B8D992\",\"#B8D992\",\"#B8D992\",\"#B8D992\",\"#B8D992\",\"#B8D992\",\"#B8D992\",\"#B8D992\",\"#B8D992\",\"#B8D992\",\"#B8D992\",\"#B8D992\",\"#B8D992\",\"#B8D992\",\"#B8D992\",\"#B8D992\",\"#B8D992\",\"#B8D992\",\"#B8D992\",\"#B8D992\",\"#B8D992\",\"#BE83AB\",\"#BE83AB\",\"#BE83AB\",\"#BE83AB\",\"#BE83AB\",\"#BE83AB\",\"#BE83AB\",\"#BE83AB\",\"#BE83AB\",\"#BE83AB\",\"#BE83AB\",\"#BE83AB\",\"#BE83AB\",\"#BE83AB\",\"#BE83AB\",\"#BE83AB\",\"#BE83AB\",\"#BE83AB\",\"#BE83AB\",\"#BE83AB\",\"#BE83AB\",\"#BE83AB\",\"#BE83AB\",\"#BE83AB\",\"#BE83AB\",\"#BE83AB\",\"#BE83AB\",\"#BE83AB\",\"#BE83AB\",\"#BE83AB\",\"#BE83AB\",\"#BE83AB\",\"#BE83AB\",\"#BE83AB\",\"#BE83AB\",\"#BE83AB\",\"#BE83AB\",\"#BE83AB\",\"#BE83AB\",\"#BE83AB\",\"#BE83AB\",\"#BE83AB\",\"#BE83AB\",\"#BE83AB\",\"#BE83AB\",\"#BE83AB\",\"#BE83AB\",\"#BE83AB\",\"#BE83AB\",\"#BE83AB\",\"#BE83AB\",\"#BE83AB\",\"#BE83AB\",\"#BE83AB\",\"#BE83AB\",\"#BE83AB\",\"#BE83AB\",\"#BE83AB\",\"#BE83AB\",\"#BE83AB\",\"#BE83AB\",\"#BE83AB\",\"#BE83AB\",\"#BE83AB\",\"#BE83AB\",\"#BE83AB\",\"#BE83AB\",\"#BE83AB\",\"#BE83AB\",\"#BE83AB\",\"#BE83AB\",\"#BE83AB\",\"#BE83AB\",\"#BE83AB\",\"#BE83AB\",\"#BE83AB\",\"#BE83AB\",\"#BE83AB\",\"#BE83AB\",\"#BE83AB\",\"#BE83AB\",\"#BE83AB\",\"#BE83AB\",\"#BE83AB\",\"#BE83AB\",\"#BE83AB\",\"#BE83AB\",\"#BE83AB\",\"#BE83AB\",\"#BE83AB\",\"#BE83AB\",\"#BE83AB\",\"#BE83AB\",\"#BE83AB\",\"#BE83AB\",\"#BE83AB\",\"#BE83AB\",\"#BE83AB\",\"#BE83AB\",\"#BE83AB\",\"#78CCD0\",\"#78CCD0\",\"#78CCD0\",\"#78CCD0\",\"#78CCD0\",\"#78CCD0\",\"#78CCD0\",\"#78CCD0\",\"#78CCD0\",\"#78CCD0\",\"#78CCD0\",\"#78CCD0\",\"#78CCD0\",\"#78CCD0\",\"#78CCD0\",\"#78CCD0\",\"#78CCD0\",\"#78CCD0\",\"#78CCD0\",\"#78CCD0\",\"#78CCD0\",\"#78CCD0\",\"#78CCD0\",\"#78CCD0\",\"#78CCD0\",\"#78CCD0\",\"#78CCD0\",\"#78CCD0\",\"#78CCD0\",\"#78CCD0\",\"#78CCD0\",\"#78CCD0\",\"#78CCD0\",\"#78CCD0\",\"#78CCD0\",\"#78CCD0\",\"#78CCD0\",\"#78CCD0\",\"#78CCD0\",\"#78CCD0\",\"#78CCD0\",\"#78CCD0\",\"#78CCD0\",\"#78CCD0\",\"#78CCD0\",\"#78CCD0\",\"#78CCD0\",\"#78CCD0\",\"#78CCD0\",\"#78CCD0\",\"#78CCD0\",\"#78CCD0\",\"#78CCD0\",\"#78CCD0\",\"#78CCD0\",\"#78CCD0\",\"#78CCD0\",\"#78CCD0\",\"#78CCD0\",\"#78CCD0\",\"#78CCD0\",\"#78CCD0\",\"#78CCD0\",\"#78CCD0\",\"#78CCD0\",\"#78CCD0\",\"#78CCD0\",\"#78CCD0\",\"#78CCD0\",\"#78CCD0\",\"#78CCD0\",\"#78CCD0\",\"#78CCD0\",\"#78CCD0\",\"#78CCD0\",\"#78CCD0\",\"#78CCD0\",\"#78CCD0\",\"#78CCD0\",\"#78CCD0\",\"#78CCD0\",\"#78CCD0\",\"#78CCD0\",\"#78CCD0\",\"#78CCD0\",\"#78CCD0\",\"#78CCD0\",\"#78CCD0\",\"#78CCD0\",\"#78CCD0\",\"#78CCD0\",\"#78CCD0\",\"#78CCD0\",\"#78CCD0\",\"#78CCD0\",\"#78CCD0\",\"#78CCD0\",\"#78CCD0\",\"#78CCD0\",\"#78CCD0\"],\"line_color\":[\"#B8D992\",\"#B8D992\",\"#B8D992\",\"#B8D992\",\"#B8D992\",\"#B8D992\",\"#B8D992\",\"#B8D992\",\"#B8D992\",\"#B8D992\",\"#B8D992\",\"#B8D992\",\"#B8D992\",\"#B8D992\",\"#B8D992\",\"#B8D992\",\"#B8D992\",\"#B8D992\",\"#B8D992\",\"#B8D992\",\"#B8D992\",\"#B8D992\",\"#B8D992\",\"#B8D992\",\"#B8D992\",\"#B8D992\",\"#B8D992\",\"#B8D992\",\"#B8D992\",\"#B8D992\",\"#B8D992\",\"#B8D992\",\"#B8D992\",\"#B8D992\",\"#B8D992\",\"#B8D992\",\"#B8D992\",\"#B8D992\",\"#B8D992\",\"#B8D992\",\"#B8D992\",\"#B8D992\",\"#B8D992\",\"#B8D992\",\"#B8D992\",\"#B8D992\",\"#B8D992\",\"#B8D992\",\"#B8D992\",\"#B8D992\",\"#B8D992\",\"#B8D992\",\"#B8D992\",\"#B8D992\",\"#B8D992\",\"#B8D992\",\"#B8D992\",\"#B8D992\",\"#B8D992\",\"#B8D992\",\"#B8D992\",\"#B8D992\",\"#B8D992\",\"#B8D992\",\"#B8D992\",\"#B8D992\",\"#B8D992\",\"#B8D992\",\"#B8D992\",\"#B8D992\",\"#B8D992\",\"#B8D992\",\"#B8D992\",\"#B8D992\",\"#B8D992\",\"#B8D992\",\"#B8D992\",\"#B8D992\",\"#B8D992\",\"#B8D992\",\"#B8D992\",\"#B8D992\",\"#B8D992\",\"#B8D992\",\"#B8D992\",\"#B8D992\",\"#B8D992\",\"#B8D992\",\"#B8D992\",\"#B8D992\",\"#B8D992\",\"#B8D992\",\"#B8D992\",\"#B8D992\",\"#B8D992\",\"#B8D992\",\"#B8D992\",\"#B8D992\",\"#B8D992\",\"#B8D992\",\"#BE83AB\",\"#BE83AB\",\"#BE83AB\",\"#BE83AB\",\"#BE83AB\",\"#BE83AB\",\"#BE83AB\",\"#BE83AB\",\"#BE83AB\",\"#BE83AB\",\"#BE83AB\",\"#BE83AB\",\"#BE83AB\",\"#BE83AB\",\"#BE83AB\",\"#BE83AB\",\"#BE83AB\",\"#BE83AB\",\"#BE83AB\",\"#BE83AB\",\"#BE83AB\",\"#BE83AB\",\"#BE83AB\",\"#BE83AB\",\"#BE83AB\",\"#BE83AB\",\"#BE83AB\",\"#BE83AB\",\"#BE83AB\",\"#BE83AB\",\"#BE83AB\",\"#BE83AB\",\"#BE83AB\",\"#BE83AB\",\"#BE83AB\",\"#BE83AB\",\"#BE83AB\",\"#BE83AB\",\"#BE83AB\",\"#BE83AB\",\"#BE83AB\",\"#BE83AB\",\"#BE83AB\",\"#BE83AB\",\"#BE83AB\",\"#BE83AB\",\"#BE83AB\",\"#BE83AB\",\"#BE83AB\",\"#BE83AB\",\"#BE83AB\",\"#BE83AB\",\"#BE83AB\",\"#BE83AB\",\"#BE83AB\",\"#BE83AB\",\"#BE83AB\",\"#BE83AB\",\"#BE83AB\",\"#BE83AB\",\"#BE83AB\",\"#BE83AB\",\"#BE83AB\",\"#BE83AB\",\"#BE83AB\",\"#BE83AB\",\"#BE83AB\",\"#BE83AB\",\"#BE83AB\",\"#BE83AB\",\"#BE83AB\",\"#BE83AB\",\"#BE83AB\",\"#BE83AB\",\"#BE83AB\",\"#BE83AB\",\"#BE83AB\",\"#BE83AB\",\"#BE83AB\",\"#BE83AB\",\"#BE83AB\",\"#BE83AB\",\"#BE83AB\",\"#BE83AB\",\"#BE83AB\",\"#BE83AB\",\"#BE83AB\",\"#BE83AB\",\"#BE83AB\",\"#BE83AB\",\"#BE83AB\",\"#BE83AB\",\"#BE83AB\",\"#BE83AB\",\"#BE83AB\",\"#BE83AB\",\"#BE83AB\",\"#BE83AB\",\"#BE83AB\",\"#BE83AB\",\"#78CCD0\",\"#78CCD0\",\"#78CCD0\",\"#78CCD0\",\"#78CCD0\",\"#78CCD0\",\"#78CCD0\",\"#78CCD0\",\"#78CCD0\",\"#78CCD0\",\"#78CCD0\",\"#78CCD0\",\"#78CCD0\",\"#78CCD0\",\"#78CCD0\",\"#78CCD0\",\"#78CCD0\",\"#78CCD0\",\"#78CCD0\",\"#78CCD0\",\"#78CCD0\",\"#78CCD0\",\"#78CCD0\",\"#78CCD0\",\"#78CCD0\",\"#78CCD0\",\"#78CCD0\",\"#78CCD0\",\"#78CCD0\",\"#78CCD0\",\"#78CCD0\",\"#78CCD0\",\"#78CCD0\",\"#78CCD0\",\"#78CCD0\",\"#78CCD0\",\"#78CCD0\",\"#78CCD0\",\"#78CCD0\",\"#78CCD0\",\"#78CCD0\",\"#78CCD0\",\"#78CCD0\",\"#78CCD0\",\"#78CCD0\",\"#78CCD0\",\"#78CCD0\",\"#78CCD0\",\"#78CCD0\",\"#78CCD0\",\"#78CCD0\",\"#78CCD0\",\"#78CCD0\",\"#78CCD0\",\"#78CCD0\",\"#78CCD0\",\"#78CCD0\",\"#78CCD0\",\"#78CCD0\",\"#78CCD0\",\"#78CCD0\",\"#78CCD0\",\"#78CCD0\",\"#78CCD0\",\"#78CCD0\",\"#78CCD0\",\"#78CCD0\",\"#78CCD0\",\"#78CCD0\",\"#78CCD0\",\"#78CCD0\",\"#78CCD0\",\"#78CCD0\",\"#78CCD0\",\"#78CCD0\",\"#78CCD0\",\"#78CCD0\",\"#78CCD0\",\"#78CCD0\",\"#78CCD0\",\"#78CCD0\",\"#78CCD0\",\"#78CCD0\",\"#78CCD0\",\"#78CCD0\",\"#78CCD0\",\"#78CCD0\",\"#78CCD0\",\"#78CCD0\",\"#78CCD0\",\"#78CCD0\",\"#78CCD0\",\"#78CCD0\",\"#78CCD0\",\"#78CCD0\",\"#78CCD0\",\"#78CCD0\",\"#78CCD0\",\"#78CCD0\",\"#78CCD0\"],\"x\":{\"__ndarray__\":\"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\",\"dtype\":\"float64\",\"shape\":[300]},\"y\":{\"__ndarray__\":\"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\",\"dtype\":\"float64\",\"shape\":[300]}},\"selected\":{\"id\":\"2044\",\"type\":\"Selection\"},\"selection_policy\":{\"id\":\"2043\",\"type\":\"UnionRenderers\"}},\"id\":\"1963\",\"type\":\"ColumnDataSource\"},{\"attributes\":{},\"id\":\"1940\",\"type\":\"LinearScale\"},{\"attributes\":{\"overlay\":{\"id\":\"2042\",\"type\":\"BoxAnnotation\"}},\"id\":\"1954\",\"type\":\"BoxZoomTool\"},{\"attributes\":{\"fill_alpha\":{\"value\":0.5},\"fill_color\":{\"field\":\"fill_color\"},\"line_alpha\":{\"value\":0.5},\"line_color\":{\"field\":\"line_color\"},\"size\":{\"units\":\"screen\",\"value\":5},\"x\":{\"field\":\"x\"},\"y\":{\"field\":\"y\"}},\"id\":\"1964\",\"type\":\"Scatter\"},{\"attributes\":{},\"id\":\"1938\",\"type\":\"LinearScale\"},{\"attributes\":{\"formatter\":{\"id\":\"2039\",\"type\":\"BasicTickFormatter\"},\"ticker\":{\"id\":\"1943\",\"type\":\"BasicTicker\"}},\"id\":\"1942\",\"type\":\"LinearAxis\"},{\"attributes\":{},\"id\":\"1955\",\"type\":\"SaveTool\"},{\"attributes\":{\"callback\":null},\"id\":\"1936\",\"type\":\"DataRange1d\"},{\"attributes\":{\"callback\":null},\"id\":\"1934\",\"type\":\"DataRange1d\"},{\"attributes\":{\"source\":{\"id\":\"1963\",\"type\":\"ColumnDataSource\"}},\"id\":\"1967\",\"type\":\"CDSView\"},{\"attributes\":{\"text\":\"Radial\"},\"id\":\"1932\",\"type\":\"Title\"},{\"attributes\":{\"fill_alpha\":{\"value\":0.1},\"fill_color\":{\"value\":\"#1f77b4\"},\"line_alpha\":{\"value\":0.1},\"line_color\":{\"value\":\"#1f77b4\"},\"size\":{\"units\":\"screen\",\"value\":5},\"x\":{\"field\":\"x\"},\"y\":{\"field\":\"y\"}},\"id\":\"1965\",\"type\":\"Scatter\"},{\"attributes\":{},\"id\":\"1943\",\"type\":\"BasicTicker\"},{\"attributes\":{},\"id\":\"1948\",\"type\":\"BasicTicker\"},{\"attributes\":{\"ticker\":{\"id\":\"1943\",\"type\":\"BasicTicker\"}},\"id\":\"1946\",\"type\":\"Grid\"},{\"attributes\":{\"fill_alpha\":{\"value\":0.95},\"fill_color\":{\"field\":\"fill_color\"},\"line_alpha\":{\"value\":0.95},\"line_color\":{\"field\":\"line_color\"},\"marker\":{\"value\":\"triangle\"},\"size\":{\"units\":\"screen\",\"value\":10},\"x\":{\"field\":\"x\"},\"y\":{\"field\":\"y\"}},\"id\":\"1969\",\"type\":\"Scatter\"},{\"attributes\":{\"formatter\":{\"id\":\"2041\",\"type\":\"BasicTickFormatter\"},\"ticker\":{\"id\":\"1948\",\"type\":\"BasicTicker\"}},\"id\":\"1947\",\"type\":\"LinearAxis\"},{\"attributes\":{\"dimension\":1,\"ticker\":{\"id\":\"1948\",\"type\":\"BasicTicker\"}},\"id\":\"1951\",\"type\":\"Grid\"},{\"attributes\":{},\"id\":\"1952\",\"type\":\"PanTool\"}],\"root_ids\":[\"1931\"]},\"title\":\"Bokeh Application\",\"version\":\"1.4.0\"}};\n",
       "  var render_items = [{\"docid\":\"ac9bdb3c-2280-4978-83ee-f7e4192f4903\",\"roots\":{\"1931\":\"c5a20448-9a02-4621-9182-cecc3d6d528a\"}}];\n",
       "  root.Bokeh.embed.embed_items_notebook(docs_json, render_items);\n",
       "\n",
       "  }\n",
       "  if (root.Bokeh !== undefined) {\n",
       "    embed_document(root);\n",
       "  } else {\n",
       "    var attempts = 0;\n",
       "    var timer = setInterval(function(root) {\n",
       "      if (root.Bokeh !== undefined) {\n",
       "        clearInterval(timer);\n",
       "        embed_document(root);\n",
       "      } else {\n",
       "        attempts++;\n",
       "        if (attempts > 100) {\n",
       "          clearInterval(timer);\n",
       "          console.log(\"Bokeh: ERROR: Unable to run BokehJS code because BokehJS library is missing\");\n",
       "        }\n",
       "      }\n",
       "    }, 10, root)\n",
       "  }\n",
       "})(window);"
      ],
      "application/vnd.bokehjs_exec.v0+json": ""
     },
     "metadata": {
      "application/vnd.bokehjs_exec.v0+json": {
       "id": "1931"
      }
     },
     "output_type": "display_data"
    }
   ],
   "source": [
    "X_ = X[np.where(labels < 3)[0]]\n",
    "labels_ = labels[np.where(labels < 3)[0]]\n",
    "ridge = LogisticRegression(penalty='l2', C=0.01).fit(X_, labels_)\n",
    "p = scatterplot(X_, labels=labels_, title='Radial', alpha=0.5, show_inline=False)\n",
    "p = scatterplot(ridge.coef_, labels=np.arange(3), marker='triangle', size=10, p=p)"
   ]
  },
  {
   "cell_type": "code",
   "execution_count": null,
   "metadata": {},
   "outputs": [],
   "source": []
  }
 ],
 "metadata": {
  "kernelspec": {
   "display_name": "Python 3",
   "language": "python",
   "name": "python3"
  },
  "language_info": {
   "codemirror_mode": {
    "name": "ipython",
    "version": 3
   },
   "file_extension": ".py",
   "mimetype": "text/x-python",
   "name": "python",
   "nbconvert_exporter": "python",
   "pygments_lexer": "ipython3",
   "version": "3.7.1"
  }
 },
 "nbformat": 4,
 "nbformat_minor": 2
}
