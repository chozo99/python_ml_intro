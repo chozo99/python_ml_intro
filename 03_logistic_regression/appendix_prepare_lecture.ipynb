{
 "cells": [
  {
   "cell_type": "code",
   "execution_count": 1,
   "metadata": {},
   "outputs": [
    {
     "data": {
      "text/html": [
       "\n",
       "    <div class=\"bk-root\">\n",
       "        <a href=\"https://bokeh.org\" target=\"_blank\" class=\"bk-logo bk-logo-small bk-logo-notebook\"></a>\n",
       "        <span id=\"1001\">Loading BokehJS ...</span>\n",
       "    </div>"
      ]
     },
     "metadata": {},
     "output_type": "display_data"
    },
    {
     "data": {
      "application/javascript": [
       "\n",
       "(function(root) {\n",
       "  function now() {\n",
       "    return new Date();\n",
       "  }\n",
       "\n",
       "  var force = true;\n",
       "\n",
       "  if (typeof root._bokeh_onload_callbacks === \"undefined\" || force === true) {\n",
       "    root._bokeh_onload_callbacks = [];\n",
       "    root._bokeh_is_loading = undefined;\n",
       "  }\n",
       "\n",
       "  var JS_MIME_TYPE = 'application/javascript';\n",
       "  var HTML_MIME_TYPE = 'text/html';\n",
       "  var EXEC_MIME_TYPE = 'application/vnd.bokehjs_exec.v0+json';\n",
       "  var CLASS_NAME = 'output_bokeh rendered_html';\n",
       "\n",
       "  /**\n",
       "   * Render data to the DOM node\n",
       "   */\n",
       "  function render(props, node) {\n",
       "    var script = document.createElement(\"script\");\n",
       "    node.appendChild(script);\n",
       "  }\n",
       "\n",
       "  /**\n",
       "   * Handle when an output is cleared or removed\n",
       "   */\n",
       "  function handleClearOutput(event, handle) {\n",
       "    var cell = handle.cell;\n",
       "\n",
       "    var id = cell.output_area._bokeh_element_id;\n",
       "    var server_id = cell.output_area._bokeh_server_id;\n",
       "    // Clean up Bokeh references\n",
       "    if (id != null && id in Bokeh.index) {\n",
       "      Bokeh.index[id].model.document.clear();\n",
       "      delete Bokeh.index[id];\n",
       "    }\n",
       "\n",
       "    if (server_id !== undefined) {\n",
       "      // Clean up Bokeh references\n",
       "      var cmd = \"from bokeh.io.state import curstate; print(curstate().uuid_to_server['\" + server_id + \"'].get_sessions()[0].document.roots[0]._id)\";\n",
       "      cell.notebook.kernel.execute(cmd, {\n",
       "        iopub: {\n",
       "          output: function(msg) {\n",
       "            var id = msg.content.text.trim();\n",
       "            if (id in Bokeh.index) {\n",
       "              Bokeh.index[id].model.document.clear();\n",
       "              delete Bokeh.index[id];\n",
       "            }\n",
       "          }\n",
       "        }\n",
       "      });\n",
       "      // Destroy server and session\n",
       "      var cmd = \"import bokeh.io.notebook as ion; ion.destroy_server('\" + server_id + \"')\";\n",
       "      cell.notebook.kernel.execute(cmd);\n",
       "    }\n",
       "  }\n",
       "\n",
       "  /**\n",
       "   * Handle when a new output is added\n",
       "   */\n",
       "  function handleAddOutput(event, handle) {\n",
       "    var output_area = handle.output_area;\n",
       "    var output = handle.output;\n",
       "\n",
       "    // limit handleAddOutput to display_data with EXEC_MIME_TYPE content only\n",
       "    if ((output.output_type != \"display_data\") || (!output.data.hasOwnProperty(EXEC_MIME_TYPE))) {\n",
       "      return\n",
       "    }\n",
       "\n",
       "    var toinsert = output_area.element.find(\".\" + CLASS_NAME.split(' ')[0]);\n",
       "\n",
       "    if (output.metadata[EXEC_MIME_TYPE][\"id\"] !== undefined) {\n",
       "      toinsert[toinsert.length - 1].firstChild.textContent = output.data[JS_MIME_TYPE];\n",
       "      // store reference to embed id on output_area\n",
       "      output_area._bokeh_element_id = output.metadata[EXEC_MIME_TYPE][\"id\"];\n",
       "    }\n",
       "    if (output.metadata[EXEC_MIME_TYPE][\"server_id\"] !== undefined) {\n",
       "      var bk_div = document.createElement(\"div\");\n",
       "      bk_div.innerHTML = output.data[HTML_MIME_TYPE];\n",
       "      var script_attrs = bk_div.children[0].attributes;\n",
       "      for (var i = 0; i < script_attrs.length; i++) {\n",
       "        toinsert[toinsert.length - 1].firstChild.setAttribute(script_attrs[i].name, script_attrs[i].value);\n",
       "      }\n",
       "      // store reference to server id on output_area\n",
       "      output_area._bokeh_server_id = output.metadata[EXEC_MIME_TYPE][\"server_id\"];\n",
       "    }\n",
       "  }\n",
       "\n",
       "  function register_renderer(events, OutputArea) {\n",
       "\n",
       "    function append_mime(data, metadata, element) {\n",
       "      // create a DOM node to render to\n",
       "      var toinsert = this.create_output_subarea(\n",
       "        metadata,\n",
       "        CLASS_NAME,\n",
       "        EXEC_MIME_TYPE\n",
       "      );\n",
       "      this.keyboard_manager.register_events(toinsert);\n",
       "      // Render to node\n",
       "      var props = {data: data, metadata: metadata[EXEC_MIME_TYPE]};\n",
       "      render(props, toinsert[toinsert.length - 1]);\n",
       "      element.append(toinsert);\n",
       "      return toinsert\n",
       "    }\n",
       "\n",
       "    /* Handle when an output is cleared or removed */\n",
       "    events.on('clear_output.CodeCell', handleClearOutput);\n",
       "    events.on('delete.Cell', handleClearOutput);\n",
       "\n",
       "    /* Handle when a new output is added */\n",
       "    events.on('output_added.OutputArea', handleAddOutput);\n",
       "\n",
       "    /**\n",
       "     * Register the mime type and append_mime function with output_area\n",
       "     */\n",
       "    OutputArea.prototype.register_mime_type(EXEC_MIME_TYPE, append_mime, {\n",
       "      /* Is output safe? */\n",
       "      safe: true,\n",
       "      /* Index of renderer in `output_area.display_order` */\n",
       "      index: 0\n",
       "    });\n",
       "  }\n",
       "\n",
       "  // register the mime type if in Jupyter Notebook environment and previously unregistered\n",
       "  if (root.Jupyter !== undefined) {\n",
       "    var events = require('base/js/events');\n",
       "    var OutputArea = require('notebook/js/outputarea').OutputArea;\n",
       "\n",
       "    if (OutputArea.prototype.mime_types().indexOf(EXEC_MIME_TYPE) == -1) {\n",
       "      register_renderer(events, OutputArea);\n",
       "    }\n",
       "  }\n",
       "\n",
       "  \n",
       "  if (typeof (root._bokeh_timeout) === \"undefined\" || force === true) {\n",
       "    root._bokeh_timeout = Date.now() + 5000;\n",
       "    root._bokeh_failed_load = false;\n",
       "  }\n",
       "\n",
       "  var NB_LOAD_WARNING = {'data': {'text/html':\n",
       "     \"<div style='background-color: #fdd'>\\n\"+\n",
       "     \"<p>\\n\"+\n",
       "     \"BokehJS does not appear to have successfully loaded. If loading BokehJS from CDN, this \\n\"+\n",
       "     \"may be due to a slow or bad network connection. Possible fixes:\\n\"+\n",
       "     \"</p>\\n\"+\n",
       "     \"<ul>\\n\"+\n",
       "     \"<li>re-rerun `output_notebook()` to attempt to load from CDN again, or</li>\\n\"+\n",
       "     \"<li>use INLINE resources instead, as so:</li>\\n\"+\n",
       "     \"</ul>\\n\"+\n",
       "     \"<code>\\n\"+\n",
       "     \"from bokeh.resources import INLINE\\n\"+\n",
       "     \"output_notebook(resources=INLINE)\\n\"+\n",
       "     \"</code>\\n\"+\n",
       "     \"</div>\"}};\n",
       "\n",
       "  function display_loaded() {\n",
       "    var el = document.getElementById(\"1001\");\n",
       "    if (el != null) {\n",
       "      el.textContent = \"BokehJS is loading...\";\n",
       "    }\n",
       "    if (root.Bokeh !== undefined) {\n",
       "      if (el != null) {\n",
       "        el.textContent = \"BokehJS \" + root.Bokeh.version + \" successfully loaded.\";\n",
       "      }\n",
       "    } else if (Date.now() < root._bokeh_timeout) {\n",
       "      setTimeout(display_loaded, 100)\n",
       "    }\n",
       "  }\n",
       "\n",
       "\n",
       "  function run_callbacks() {\n",
       "    try {\n",
       "      root._bokeh_onload_callbacks.forEach(function(callback) {\n",
       "        if (callback != null)\n",
       "          callback();\n",
       "      });\n",
       "    } finally {\n",
       "      delete root._bokeh_onload_callbacks\n",
       "    }\n",
       "    console.debug(\"Bokeh: all callbacks have finished\");\n",
       "  }\n",
       "\n",
       "  function load_libs(css_urls, js_urls, callback) {\n",
       "    if (css_urls == null) css_urls = [];\n",
       "    if (js_urls == null) js_urls = [];\n",
       "\n",
       "    root._bokeh_onload_callbacks.push(callback);\n",
       "    if (root._bokeh_is_loading > 0) {\n",
       "      console.debug(\"Bokeh: BokehJS is being loaded, scheduling callback at\", now());\n",
       "      return null;\n",
       "    }\n",
       "    if (js_urls == null || js_urls.length === 0) {\n",
       "      run_callbacks();\n",
       "      return null;\n",
       "    }\n",
       "    console.debug(\"Bokeh: BokehJS not loaded, scheduling load and callback at\", now());\n",
       "    root._bokeh_is_loading = css_urls.length + js_urls.length;\n",
       "\n",
       "    function on_load() {\n",
       "      root._bokeh_is_loading--;\n",
       "      if (root._bokeh_is_loading === 0) {\n",
       "        console.debug(\"Bokeh: all BokehJS libraries/stylesheets loaded\");\n",
       "        run_callbacks()\n",
       "      }\n",
       "    }\n",
       "\n",
       "    function on_error() {\n",
       "      console.error(\"failed to load \" + url);\n",
       "    }\n",
       "\n",
       "    for (var i = 0; i < css_urls.length; i++) {\n",
       "      var url = css_urls[i];\n",
       "      const element = document.createElement(\"link\");\n",
       "      element.onload = on_load;\n",
       "      element.onerror = on_error;\n",
       "      element.rel = \"stylesheet\";\n",
       "      element.type = \"text/css\";\n",
       "      element.href = url;\n",
       "      console.debug(\"Bokeh: injecting link tag for BokehJS stylesheet: \", url);\n",
       "      document.body.appendChild(element);\n",
       "    }\n",
       "\n",
       "    for (var i = 0; i < js_urls.length; i++) {\n",
       "      var url = js_urls[i];\n",
       "      var element = document.createElement('script');\n",
       "      element.onload = on_load;\n",
       "      element.onerror = on_error;\n",
       "      element.async = false;\n",
       "      element.src = url;\n",
       "      console.debug(\"Bokeh: injecting script tag for BokehJS library: \", url);\n",
       "      document.head.appendChild(element);\n",
       "    }\n",
       "  };var element = document.getElementById(\"1001\");\n",
       "  if (element == null) {\n",
       "    console.error(\"Bokeh: ERROR: autoload.js configured with elementid '1001' but no matching script tag was found. \")\n",
       "    return false;\n",
       "  }\n",
       "\n",
       "  function inject_raw_css(css) {\n",
       "    const element = document.createElement(\"style\");\n",
       "    element.appendChild(document.createTextNode(css));\n",
       "    document.body.appendChild(element);\n",
       "  }\n",
       "\n",
       "  \n",
       "  var js_urls = [\"https://cdn.pydata.org/bokeh/release/bokeh-1.4.0.min.js\", \"https://cdn.pydata.org/bokeh/release/bokeh-widgets-1.4.0.min.js\", \"https://cdn.pydata.org/bokeh/release/bokeh-tables-1.4.0.min.js\", \"https://cdn.pydata.org/bokeh/release/bokeh-gl-1.4.0.min.js\"];\n",
       "  var css_urls = [];\n",
       "  \n",
       "\n",
       "  var inline_js = [\n",
       "    function(Bokeh) {\n",
       "      Bokeh.set_log_level(\"info\");\n",
       "    },\n",
       "    function(Bokeh) {\n",
       "    \n",
       "    \n",
       "    }\n",
       "  ];\n",
       "\n",
       "  function run_inline_js() {\n",
       "    \n",
       "    if (root.Bokeh !== undefined || force === true) {\n",
       "      \n",
       "    for (var i = 0; i < inline_js.length; i++) {\n",
       "      inline_js[i].call(root, root.Bokeh);\n",
       "    }\n",
       "    if (force === true) {\n",
       "        display_loaded();\n",
       "      }} else if (Date.now() < root._bokeh_timeout) {\n",
       "      setTimeout(run_inline_js, 100);\n",
       "    } else if (!root._bokeh_failed_load) {\n",
       "      console.log(\"Bokeh: BokehJS failed to load within specified timeout.\");\n",
       "      root._bokeh_failed_load = true;\n",
       "    } else if (force !== true) {\n",
       "      var cell = $(document.getElementById(\"1001\")).parents('.cell').data().cell;\n",
       "      cell.output_area.append_execute_result(NB_LOAD_WARNING)\n",
       "    }\n",
       "\n",
       "  }\n",
       "\n",
       "  if (root._bokeh_is_loading === 0) {\n",
       "    console.debug(\"Bokeh: BokehJS loaded, going straight to plotting\");\n",
       "    run_inline_js();\n",
       "  } else {\n",
       "    load_libs(css_urls, js_urls, function() {\n",
       "      console.debug(\"Bokeh: BokehJS plotting callback run at\", now());\n",
       "      run_inline_js();\n",
       "    });\n",
       "  }\n",
       "}(window));"
      ],
      "application/vnd.bokehjs_load.v0+json": "\n(function(root) {\n  function now() {\n    return new Date();\n  }\n\n  var force = true;\n\n  if (typeof root._bokeh_onload_callbacks === \"undefined\" || force === true) {\n    root._bokeh_onload_callbacks = [];\n    root._bokeh_is_loading = undefined;\n  }\n\n  \n\n  \n  if (typeof (root._bokeh_timeout) === \"undefined\" || force === true) {\n    root._bokeh_timeout = Date.now() + 5000;\n    root._bokeh_failed_load = false;\n  }\n\n  var NB_LOAD_WARNING = {'data': {'text/html':\n     \"<div style='background-color: #fdd'>\\n\"+\n     \"<p>\\n\"+\n     \"BokehJS does not appear to have successfully loaded. If loading BokehJS from CDN, this \\n\"+\n     \"may be due to a slow or bad network connection. Possible fixes:\\n\"+\n     \"</p>\\n\"+\n     \"<ul>\\n\"+\n     \"<li>re-rerun `output_notebook()` to attempt to load from CDN again, or</li>\\n\"+\n     \"<li>use INLINE resources instead, as so:</li>\\n\"+\n     \"</ul>\\n\"+\n     \"<code>\\n\"+\n     \"from bokeh.resources import INLINE\\n\"+\n     \"output_notebook(resources=INLINE)\\n\"+\n     \"</code>\\n\"+\n     \"</div>\"}};\n\n  function display_loaded() {\n    var el = document.getElementById(\"1001\");\n    if (el != null) {\n      el.textContent = \"BokehJS is loading...\";\n    }\n    if (root.Bokeh !== undefined) {\n      if (el != null) {\n        el.textContent = \"BokehJS \" + root.Bokeh.version + \" successfully loaded.\";\n      }\n    } else if (Date.now() < root._bokeh_timeout) {\n      setTimeout(display_loaded, 100)\n    }\n  }\n\n\n  function run_callbacks() {\n    try {\n      root._bokeh_onload_callbacks.forEach(function(callback) {\n        if (callback != null)\n          callback();\n      });\n    } finally {\n      delete root._bokeh_onload_callbacks\n    }\n    console.debug(\"Bokeh: all callbacks have finished\");\n  }\n\n  function load_libs(css_urls, js_urls, callback) {\n    if (css_urls == null) css_urls = [];\n    if (js_urls == null) js_urls = [];\n\n    root._bokeh_onload_callbacks.push(callback);\n    if (root._bokeh_is_loading > 0) {\n      console.debug(\"Bokeh: BokehJS is being loaded, scheduling callback at\", now());\n      return null;\n    }\n    if (js_urls == null || js_urls.length === 0) {\n      run_callbacks();\n      return null;\n    }\n    console.debug(\"Bokeh: BokehJS not loaded, scheduling load and callback at\", now());\n    root._bokeh_is_loading = css_urls.length + js_urls.length;\n\n    function on_load() {\n      root._bokeh_is_loading--;\n      if (root._bokeh_is_loading === 0) {\n        console.debug(\"Bokeh: all BokehJS libraries/stylesheets loaded\");\n        run_callbacks()\n      }\n    }\n\n    function on_error() {\n      console.error(\"failed to load \" + url);\n    }\n\n    for (var i = 0; i < css_urls.length; i++) {\n      var url = css_urls[i];\n      const element = document.createElement(\"link\");\n      element.onload = on_load;\n      element.onerror = on_error;\n      element.rel = \"stylesheet\";\n      element.type = \"text/css\";\n      element.href = url;\n      console.debug(\"Bokeh: injecting link tag for BokehJS stylesheet: \", url);\n      document.body.appendChild(element);\n    }\n\n    for (var i = 0; i < js_urls.length; i++) {\n      var url = js_urls[i];\n      var element = document.createElement('script');\n      element.onload = on_load;\n      element.onerror = on_error;\n      element.async = false;\n      element.src = url;\n      console.debug(\"Bokeh: injecting script tag for BokehJS library: \", url);\n      document.head.appendChild(element);\n    }\n  };var element = document.getElementById(\"1001\");\n  if (element == null) {\n    console.error(\"Bokeh: ERROR: autoload.js configured with elementid '1001' but no matching script tag was found. \")\n    return false;\n  }\n\n  function inject_raw_css(css) {\n    const element = document.createElement(\"style\");\n    element.appendChild(document.createTextNode(css));\n    document.body.appendChild(element);\n  }\n\n  \n  var js_urls = [\"https://cdn.pydata.org/bokeh/release/bokeh-1.4.0.min.js\", \"https://cdn.pydata.org/bokeh/release/bokeh-widgets-1.4.0.min.js\", \"https://cdn.pydata.org/bokeh/release/bokeh-tables-1.4.0.min.js\", \"https://cdn.pydata.org/bokeh/release/bokeh-gl-1.4.0.min.js\"];\n  var css_urls = [];\n  \n\n  var inline_js = [\n    function(Bokeh) {\n      Bokeh.set_log_level(\"info\");\n    },\n    function(Bokeh) {\n    \n    \n    }\n  ];\n\n  function run_inline_js() {\n    \n    if (root.Bokeh !== undefined || force === true) {\n      \n    for (var i = 0; i < inline_js.length; i++) {\n      inline_js[i].call(root, root.Bokeh);\n    }\n    if (force === true) {\n        display_loaded();\n      }} else if (Date.now() < root._bokeh_timeout) {\n      setTimeout(run_inline_js, 100);\n    } else if (!root._bokeh_failed_load) {\n      console.log(\"Bokeh: BokehJS failed to load within specified timeout.\");\n      root._bokeh_failed_load = true;\n    } else if (force !== true) {\n      var cell = $(document.getElementById(\"1001\")).parents('.cell').data().cell;\n      cell.output_area.append_execute_result(NB_LOAD_WARNING)\n    }\n\n  }\n\n  if (root._bokeh_is_loading === 0) {\n    console.debug(\"Bokeh: BokehJS loaded, going straight to plotting\");\n    run_inline_js();\n  } else {\n    load_libs(css_urls, js_urls, function() {\n      console.debug(\"Bokeh: BokehJS plotting callback run at\", now());\n      run_inline_js();\n    });\n  }\n}(window));"
     },
     "metadata": {},
     "output_type": "display_data"
    }
   ],
   "source": [
    "import numpy as np\n",
    "from bokeh.plotting import figure, output_notebook, show\n",
    "from bokeh.io import save\n",
    "from sklearn.linear_model import LogisticRegression\n",
    "\n",
    "\n",
    "output_notebook()"
   ]
  },
  {
   "cell_type": "code",
   "execution_count": 2,
   "metadata": {},
   "outputs": [
    {
     "data": {
      "text/html": [
       "\n",
       "\n",
       "\n",
       "\n",
       "\n",
       "\n",
       "  <div class=\"bk-root\" id=\"517c65f9-ab1d-486d-8ccd-763591692afa\" data-root-id=\"1101\"></div>\n"
      ]
     },
     "metadata": {},
     "output_type": "display_data"
    },
    {
     "data": {
      "application/javascript": [
       "(function(root) {\n",
       "  function embed_document(root) {\n",
       "    \n",
       "  var docs_json = {\"fb82c0b8-ab0b-4073-ac57-39cff266f678\":{\"roots\":{\"references\":[{\"attributes\":{\"children\":[{\"id\":\"1100\",\"type\":\"ToolbarBox\"},{\"id\":\"1098\",\"type\":\"GridBox\"}]},\"id\":\"1101\",\"type\":\"Column\"},{\"attributes\":{\"callback\":null,\"data\":{\"x\":{\"__ndarray__\":\"exSuR+F6hD9MaRLqe/aTP1rITTCHr50/tJNEO0m0oz87Q2LezpCoP8Lyf4FUba0/JNFOEu0ksT/nqN3jL5OzP6uAbLVyAbY/b1j7hrVvuD8yMIpY+N26P/UHGSo7TL0/ud+n+326vz+/W5tmYBTBP6DHYs+BS8I/gjMqOKOCwz9kn/GgxLnEP0YLuQnm8MU/KHeAcgcoxz8J40fbKF/IP+tOD0RKlsk/zbrWrGvNyj+uJp4VjQTMP5CSZX6uO80/cv4s589yzj9UavRP8anPPxvrXVyJcNA/DKHBEBoM0T/8ViXFqqfRP+0MiXk7Q9I/3sLsLcze0j/PeFDiXHrTP8AutJbtFdQ/seQXS36x1D+imnv/Dk3VP5NQ37Of6NU/hAZDaDCE1j90vKYcwR/XP2VyCtFRu9c/VihuheJW2D9H3tE5c/LYPziUNe4Djtk/KUqZopQp2j8aAP1WJcXaPwq2YAu2YNs/+2vEv0b82z/sISh015fcP93XiyhoM90/zo3v3PjO3T+/Q1ORiWreP7D5tkUaBt8/oa8a+qqh3z/JMj/XnR7gP8ENcTFmbOA/uuiiiy664D+yw9Tl9gfhP6qeBkC/VeE/o3k4moej4T+bVGr0T/HhP5QvnE4YP+I/jArOqOCM4j+F5f8CqdriP33AMV1xKOM/dptjtzl24z9udpURAsTjP2ZRx2vKEeQ/Xyz5xZJf5D9XBysgW63kP1DiXHoj++Q/SL2O1OtI5T9BmMAutJblPzlz8oh85OU/Mk4k40Qy5j8qKVY9DYDmPyIEiJfVzeY/G9+58Z0b5z8TuutLZmnnPwyVHaYut+c/BHBPAPcE6D/9SoFav1LoP/Uls7SHoOg/7QDlDlDu6D/m2xZpGDzpP962SMPgiek/15F6HanX6T/PbKx3cSXqP8hH3tE5c+o/wCIQLALB6j+4/UGGyg7rP7HYc+CSXOs/qbOlOluq6z+ijteUI/jrP5ppCe/rRew/k0Q7SbST7D+LH22jfOHsP4T6nv1EL+0/fNXQVw197T90sAKy1crtP22LNAyeGO4/ZmZmZmZm7j8=\",\"dtype\":\"float64\",\"shape\":[100]},\"y\":{\"__ndarray__\":\"Kx0WGWdhEsBLiBtw4lcPwJIBC1VTFwzAZgWwmve+CcBD1/rwBucHwB3QLFOzYAbAhzBcHNYSBcB1VarxWO4DwHjLqnh36QLAXOy/noH9AcDSoLpgryUBwHC0YyV3XgDAaL1W4U9K/7+VW7CLUu/9v6zhZUKiqPy/p/yA+Y5z+7+2Yfrn5E36v/0S4STQNfm/MULa7ccp+L+DaAA8fyj3v6DW6RnZMPa/nejZrt9B9b/QZm5GvVr0v1VJEdO2evO/izp+jieh8r8DixZ1fc3xv0SIfmo2//C/1WGW4t018L/jw9/lFeLuvxS7+W69YO2/xWYj9AXn6781A/QfUnTqvxoAN8cRCOm/a01yRMCh579ZNwYP40Dmv/dmu4MI5eS/usCD1saN479w7Lgmuzriv2AQWLCI6+C/hVZgK7A/378Jznp7ra7cv7qLFIhsI9q/Vnbf7led178PmurK4BvVvwkbzuB9ntK/AJv43Kok0L9EIYlCz1vLv0fVrz5vc8a/Xtk1e0KPwb8wJT0TtVy5v+InAqQyP6+/ZLOdyoWVl7/vMOmd/J2OP/zuPSkrG6s/26dALO1Jtz+zSBfgSoXAP04VvsOxaMU/DeBB0BhQyj/w/xYdcjzPP4exy7VaF9I/ZD6MrPCT1D9TOahSfhTXPyFrqsiLmdk/8OYFrqYj3D8lLszwYrPeP/uXCNmtpOA/m91YIRrz4T9mlGmeTEXjP6wTnd+gm+Q/kN1FaHj25T/CO914O1bnP5jzLPRZu+g/rXuzZUwm6j+mG7AvlZfrPwZQt+jBD+0/vueG8myP7j/N9RWrnwvwP56KSnr50/A///1Ojyqh8T/sPmXWpHPyP5C94FrnS/M/ewrehYAq9D+KfL7aEBD1P8+ZJ1RO/fU/M7j/jwjz9j/g+FsJLvL3P3Eq2LbS+/g/2+zxhTgR+j/oSnNe2jP7PzU8FaV6Zfw/wkT4qTao/T/Z1oApof7+P/BYgprzNQBAnu4vawL6AEB8DuEdCc4BQEpkXEhctQJA/0Cv6nS0A0Dzlwfrh9EEQPdtE3GOFQZAKrMEBjaOB0A=\",\"dtype\":\"float64\",\"shape\":[100]}},\"selected\":{\"id\":\"1094\",\"type\":\"Selection\"},\"selection_policy\":{\"id\":\"1095\",\"type\":\"UnionRenderers\"}},\"id\":\"1075\",\"type\":\"ColumnDataSource\"},{\"attributes\":{},\"id\":\"1094\",\"type\":\"Selection\"},{\"attributes\":{},\"id\":\"1009\",\"type\":\"LinearScale\"},{\"attributes\":{\"data_source\":{\"id\":\"1075\",\"type\":\"ColumnDataSource\"},\"glyph\":{\"id\":\"1076\",\"type\":\"Scatter\"},\"hover_glyph\":null,\"muted_glyph\":null,\"nonselection_glyph\":{\"id\":\"1077\",\"type\":\"Scatter\"},\"selection_glyph\":null,\"view\":{\"id\":\"1079\",\"type\":\"CDSView\"}},\"id\":\"1078\",\"type\":\"GlyphRenderer\"},{\"attributes\":{\"fill_alpha\":{\"value\":0.1},\"fill_color\":{\"value\":\"#1f77b4\"},\"line_alpha\":{\"value\":0.1},\"line_color\":{\"value\":\"#1f77b4\"},\"size\":{\"units\":\"screen\",\"value\":5},\"x\":{\"field\":\"x\"},\"y\":{\"field\":\"y\"}},\"id\":\"1038\",\"type\":\"Scatter\"},{\"attributes\":{},\"id\":\"1062\",\"type\":\"PanTool\"},{\"attributes\":{},\"id\":\"1095\",\"type\":\"UnionRenderers\"},{\"attributes\":{},\"id\":\"1011\",\"type\":\"LinearScale\"},{\"attributes\":{},\"id\":\"1063\",\"type\":\"WheelZoomTool\"},{\"attributes\":{\"data_source\":{\"id\":\"1036\",\"type\":\"ColumnDataSource\"},\"glyph\":{\"id\":\"1037\",\"type\":\"Scatter\"},\"hover_glyph\":null,\"muted_glyph\":null,\"nonselection_glyph\":{\"id\":\"1038\",\"type\":\"Scatter\"},\"selection_glyph\":null,\"view\":{\"id\":\"1040\",\"type\":\"CDSView\"}},\"id\":\"1039\",\"type\":\"GlyphRenderer\"},{\"attributes\":{\"bottom_units\":\"screen\",\"fill_alpha\":{\"value\":0.5},\"fill_color\":{\"value\":\"lightgrey\"},\"left_units\":\"screen\",\"level\":\"overlay\",\"line_alpha\":{\"value\":1.0},\"line_color\":{\"value\":\"black\"},\"line_dash\":[4,4],\"line_width\":{\"value\":2},\"render_mode\":\"css\",\"right_units\":\"screen\",\"top_units\":\"screen\"},\"id\":\"1096\",\"type\":\"BoxAnnotation\"},{\"attributes\":{\"axis_label\":\"Probability\",\"formatter\":{\"id\":\"1083\",\"type\":\"BasicTickFormatter\"},\"ticker\":{\"id\":\"1014\",\"type\":\"BasicTicker\"}},\"id\":\"1013\",\"type\":\"LinearAxis\"},{\"attributes\":{\"overlay\":{\"id\":\"1096\",\"type\":\"BoxAnnotation\"}},\"id\":\"1064\",\"type\":\"BoxZoomTool\"},{\"attributes\":{\"tools\":[{\"id\":\"1023\",\"type\":\"PanTool\"},{\"id\":\"1024\",\"type\":\"WheelZoomTool\"},{\"id\":\"1025\",\"type\":\"BoxZoomTool\"},{\"id\":\"1026\",\"type\":\"SaveTool\"},{\"id\":\"1027\",\"type\":\"ResetTool\"},{\"id\":\"1028\",\"type\":\"HelpTool\"},{\"id\":\"1062\",\"type\":\"PanTool\"},{\"id\":\"1063\",\"type\":\"WheelZoomTool\"},{\"id\":\"1064\",\"type\":\"BoxZoomTool\"},{\"id\":\"1065\",\"type\":\"SaveTool\"},{\"id\":\"1066\",\"type\":\"ResetTool\"},{\"id\":\"1067\",\"type\":\"HelpTool\"}]},\"id\":\"1099\",\"type\":\"ProxyToolbar\"},{\"attributes\":{\"source\":{\"id\":\"1036\",\"type\":\"ColumnDataSource\"}},\"id\":\"1040\",\"type\":\"CDSView\"},{\"attributes\":{},\"id\":\"1014\",\"type\":\"BasicTicker\"},{\"attributes\":{},\"id\":\"1065\",\"type\":\"SaveTool\"},{\"attributes\":{\"toolbar\":{\"id\":\"1099\",\"type\":\"ProxyToolbar\"},\"toolbar_location\":\"above\"},\"id\":\"1100\",\"type\":\"ToolbarBox\"},{\"attributes\":{\"ticker\":{\"id\":\"1014\",\"type\":\"BasicTicker\"}},\"id\":\"1017\",\"type\":\"Grid\"},{\"attributes\":{},\"id\":\"1066\",\"type\":\"ResetTool\"},{\"attributes\":{\"fill_alpha\":{\"value\":0.1},\"fill_color\":{\"value\":\"#1f77b4\"},\"line_alpha\":{\"value\":0.1},\"line_color\":{\"value\":\"#1f77b4\"},\"size\":{\"units\":\"screen\",\"value\":5},\"x\":{\"field\":\"x\"},\"y\":{\"field\":\"y\"}},\"id\":\"1077\",\"type\":\"Scatter\"},{\"attributes\":{\"axis_label\":\"Odds\",\"formatter\":{\"id\":\"1081\",\"type\":\"BasicTickFormatter\"},\"ticker\":{\"id\":\"1019\",\"type\":\"BasicTicker\"}},\"id\":\"1018\",\"type\":\"LinearAxis\"},{\"attributes\":{\"text\":\"Probability - Logit function\"},\"id\":\"1042\",\"type\":\"Title\"},{\"attributes\":{},\"id\":\"1067\",\"type\":\"HelpTool\"},{\"attributes\":{},\"id\":\"1092\",\"type\":\"BasicTickFormatter\"},{\"attributes\":{},\"id\":\"1019\",\"type\":\"BasicTicker\"},{\"attributes\":{\"callback\":null},\"id\":\"1044\",\"type\":\"DataRange1d\"},{\"attributes\":{\"active_drag\":\"auto\",\"active_inspect\":\"auto\",\"active_multi\":null,\"active_scroll\":\"auto\",\"active_tap\":\"auto\",\"tools\":[{\"id\":\"1062\",\"type\":\"PanTool\"},{\"id\":\"1063\",\"type\":\"WheelZoomTool\"},{\"id\":\"1064\",\"type\":\"BoxZoomTool\"},{\"id\":\"1065\",\"type\":\"SaveTool\"},{\"id\":\"1066\",\"type\":\"ResetTool\"},{\"id\":\"1067\",\"type\":\"HelpTool\"}]},\"id\":\"1068\",\"type\":\"Toolbar\"},{\"attributes\":{\"dimension\":1,\"ticker\":{\"id\":\"1019\",\"type\":\"BasicTicker\"}},\"id\":\"1022\",\"type\":\"Grid\"},{\"attributes\":{\"callback\":null},\"id\":\"1046\",\"type\":\"DataRange1d\"},{\"attributes\":{\"source\":{\"id\":\"1075\",\"type\":\"ColumnDataSource\"}},\"id\":\"1079\",\"type\":\"CDSView\"},{\"attributes\":{},\"id\":\"1048\",\"type\":\"LinearScale\"},{\"attributes\":{},\"id\":\"1050\",\"type\":\"LinearScale\"},{\"attributes\":{\"children\":[[{\"id\":\"1002\",\"subtype\":\"Figure\",\"type\":\"Plot\"},0,0],[{\"id\":\"1041\",\"subtype\":\"Figure\",\"type\":\"Plot\"},0,1]]},\"id\":\"1098\",\"type\":\"GridBox\"},{\"attributes\":{\"callback\":null,\"data\":{\"x\":{\"__ndarray__\":\"exSuR+F6hD9MaRLqe/aTP1rITTCHr50/tJNEO0m0oz87Q2LezpCoP8Lyf4FUba0/JNFOEu0ksT/nqN3jL5OzP6uAbLVyAbY/b1j7hrVvuD8yMIpY+N26P/UHGSo7TL0/ud+n+326vz+/W5tmYBTBP6DHYs+BS8I/gjMqOKOCwz9kn/GgxLnEP0YLuQnm8MU/KHeAcgcoxz8J40fbKF/IP+tOD0RKlsk/zbrWrGvNyj+uJp4VjQTMP5CSZX6uO80/cv4s589yzj9UavRP8anPPxvrXVyJcNA/DKHBEBoM0T/8ViXFqqfRP+0MiXk7Q9I/3sLsLcze0j/PeFDiXHrTP8AutJbtFdQ/seQXS36x1D+imnv/Dk3VP5NQ37Of6NU/hAZDaDCE1j90vKYcwR/XP2VyCtFRu9c/VihuheJW2D9H3tE5c/LYPziUNe4Djtk/KUqZopQp2j8aAP1WJcXaPwq2YAu2YNs/+2vEv0b82z/sISh015fcP93XiyhoM90/zo3v3PjO3T+/Q1ORiWreP7D5tkUaBt8/oa8a+qqh3z/JMj/XnR7gP8ENcTFmbOA/uuiiiy664D+yw9Tl9gfhP6qeBkC/VeE/o3k4moej4T+bVGr0T/HhP5QvnE4YP+I/jArOqOCM4j+F5f8CqdriP33AMV1xKOM/dptjtzl24z9udpURAsTjP2ZRx2vKEeQ/Xyz5xZJf5D9XBysgW63kP1DiXHoj++Q/SL2O1OtI5T9BmMAutJblPzlz8oh85OU/Mk4k40Qy5j8qKVY9DYDmPyIEiJfVzeY/G9+58Z0b5z8TuutLZmnnPwyVHaYut+c/BHBPAPcE6D/9SoFav1LoP/Uls7SHoOg/7QDlDlDu6D/m2xZpGDzpP962SMPgiek/15F6HanX6T/PbKx3cSXqP8hH3tE5c+o/wCIQLALB6j+4/UGGyg7rP7HYc+CSXOs/qbOlOluq6z+ijteUI/jrP5ppCe/rRew/k0Q7SbST7D+LH22jfOHsP4T6nv1EL+0/fNXQVw197T90sAKy1crtP22LNAyeGO4/ZmZmZmZm7j8=\",\"dtype\":\"float64\",\"shape\":[100]},\"y\":{\"__ndarray__\":\"W79SoNavhD9vQ0nyF1yUPziGkEFqkp4/gAdnRy9+pD+MeXUrwM2pP/9NR4O1OK8/REBtsvJfsj+JwgRaFzK1P47ezcs8E7g/hrHa+tsDuz8Qihn8cgS+P+BJYqbCisA/qQyzDs4bwj+ppuVQo7XDP6PAIzONWMU/Cz1Z1dkExz+GHcvh2rrIPw+mBcHleso/hCNn0VNFzD9wPpOighrOP6n3ITXU+s8/WbRyn1fz0D/zHhW6P+/RP7BbMOta8dI/mXdThOT50z+6qVzVGgnVP07sbV0/H9Y/Y8qu/5Y81z/4tDQ8amHYP0uxdG0Fjtk/EterCrnC2j83Cbjv2f/bP5rE56rBRd0/xwNX0c6U3j9qSoBaZe3fP5ob3oH3p+A/Bek/3m1e4T/HRyEOURriP6WRiPHf2+I/ah35Ql2j4z9sXDPkD3HkPw1aPDJDReU/7Rh+YUcg5j8ppO3icQLnP1UbQ9Md7Oc/ljZ0dazd6D+Bjsu5hdfpP2dUJ9MY2uo/0kQi3Nzl6z863yqOUfvsP1kB2QwAG+4/pvIqyHtF7z9jlV28sT3wP55UvRyx3vA/YRiGYRiG8T/qzMNmSzTyP36XG0+26fI/1y7pY86m8z/BqWwSE2z0P8FehwoPOvU/E2FWhFkR9j/kWvSyl/L2P4E03Wt+3vc/Gh3hC9TV+D+koVqkctn5P+WsiX1K6vo/lMCm/WQJ/D8JsJkH6Df9P1eJa+gZd/4/7GXI72XI/z/XkUHrsJYAQDU1Og/qUwFAhu7m0N0cAkDT6uhKrPICQA6haqub1gNA4hZ2tR7KBEBXM8uj3M4FQNQ198e65gZA0qkSXOgTCECNFQgj7VgJQBzrqaa7uApAn9EjKsg2DEDd12fLJdcNQPWBp9yrng9AMJlMJpPJEEBwnwiRyt0RQLDn9mhAEBNASdfN8TVmFEDS3nVAN+YVQCUw9pSHmBdAVWVxRruHGUBuGfxMl8EbQLsB+CNeWB5AUWvs+mayIEBc9Qd6pIQiQMM/QY6EuyRArhf4V417J0A8gfVTYP0qQC8mSMLFnS9A+///////MkA=\",\"dtype\":\"float64\",\"shape\":[100]}},\"selected\":{\"id\":\"1085\",\"type\":\"Selection\"},\"selection_policy\":{\"id\":\"1086\",\"type\":\"UnionRenderers\"}},\"id\":\"1036\",\"type\":\"ColumnDataSource\"},{\"attributes\":{\"axis_label\":\"Probability\",\"formatter\":{\"id\":\"1092\",\"type\":\"BasicTickFormatter\"},\"ticker\":{\"id\":\"1053\",\"type\":\"BasicTicker\"}},\"id\":\"1052\",\"type\":\"LinearAxis\"},{\"attributes\":{},\"id\":\"1023\",\"type\":\"PanTool\"},{\"attributes\":{},\"id\":\"1081\",\"type\":\"BasicTickFormatter\"},{\"attributes\":{},\"id\":\"1053\",\"type\":\"BasicTicker\"},{\"attributes\":{},\"id\":\"1024\",\"type\":\"WheelZoomTool\"},{\"attributes\":{\"text\":\"Probability - Odds function\"},\"id\":\"1003\",\"type\":\"Title\"},{\"attributes\":{},\"id\":\"1083\",\"type\":\"BasicTickFormatter\"},{\"attributes\":{\"ticker\":{\"id\":\"1053\",\"type\":\"BasicTicker\"}},\"id\":\"1056\",\"type\":\"Grid\"},{\"attributes\":{\"overlay\":{\"id\":\"1087\",\"type\":\"BoxAnnotation\"}},\"id\":\"1025\",\"type\":\"BoxZoomTool\"},{\"attributes\":{},\"id\":\"1085\",\"type\":\"Selection\"},{\"attributes\":{\"below\":[{\"id\":\"1052\",\"type\":\"LinearAxis\"}],\"center\":[{\"id\":\"1056\",\"type\":\"Grid\"},{\"id\":\"1061\",\"type\":\"Grid\"}],\"left\":[{\"id\":\"1057\",\"type\":\"LinearAxis\"}],\"plot_height\":400,\"plot_width\":400,\"renderers\":[{\"id\":\"1078\",\"type\":\"GlyphRenderer\"}],\"title\":{\"id\":\"1042\",\"type\":\"Title\"},\"toolbar\":{\"id\":\"1068\",\"type\":\"Toolbar\"},\"toolbar_location\":null,\"x_range\":{\"id\":\"1044\",\"type\":\"DataRange1d\"},\"x_scale\":{\"id\":\"1048\",\"type\":\"LinearScale\"},\"y_range\":{\"id\":\"1046\",\"type\":\"DataRange1d\"},\"y_scale\":{\"id\":\"1050\",\"type\":\"LinearScale\"}},\"id\":\"1041\",\"subtype\":\"Figure\",\"type\":\"Plot\"},{\"attributes\":{\"fill_color\":{\"value\":\"#1f77b4\"},\"line_color\":{\"value\":\"#1f77b4\"},\"size\":{\"units\":\"screen\",\"value\":5},\"x\":{\"field\":\"x\"},\"y\":{\"field\":\"y\"}},\"id\":\"1037\",\"type\":\"Scatter\"},{\"attributes\":{\"axis_label\":\"Logit\",\"formatter\":{\"id\":\"1090\",\"type\":\"BasicTickFormatter\"},\"ticker\":{\"id\":\"1058\",\"type\":\"BasicTicker\"}},\"id\":\"1057\",\"type\":\"LinearAxis\"},{\"attributes\":{},\"id\":\"1026\",\"type\":\"SaveTool\"},{\"attributes\":{},\"id\":\"1086\",\"type\":\"UnionRenderers\"},{\"attributes\":{\"below\":[{\"id\":\"1013\",\"type\":\"LinearAxis\"}],\"center\":[{\"id\":\"1017\",\"type\":\"Grid\"},{\"id\":\"1022\",\"type\":\"Grid\"}],\"left\":[{\"id\":\"1018\",\"type\":\"LinearAxis\"}],\"plot_height\":400,\"plot_width\":400,\"renderers\":[{\"id\":\"1039\",\"type\":\"GlyphRenderer\"}],\"title\":{\"id\":\"1003\",\"type\":\"Title\"},\"toolbar\":{\"id\":\"1029\",\"type\":\"Toolbar\"},\"toolbar_location\":null,\"x_range\":{\"id\":\"1005\",\"type\":\"DataRange1d\"},\"x_scale\":{\"id\":\"1009\",\"type\":\"LinearScale\"},\"y_range\":{\"id\":\"1007\",\"type\":\"DataRange1d\"},\"y_scale\":{\"id\":\"1011\",\"type\":\"LinearScale\"}},\"id\":\"1002\",\"subtype\":\"Figure\",\"type\":\"Plot\"},{\"attributes\":{},\"id\":\"1027\",\"type\":\"ResetTool\"},{\"attributes\":{\"bottom_units\":\"screen\",\"fill_alpha\":{\"value\":0.5},\"fill_color\":{\"value\":\"lightgrey\"},\"left_units\":\"screen\",\"level\":\"overlay\",\"line_alpha\":{\"value\":1.0},\"line_color\":{\"value\":\"black\"},\"line_dash\":[4,4],\"line_width\":{\"value\":2},\"render_mode\":\"css\",\"right_units\":\"screen\",\"top_units\":\"screen\"},\"id\":\"1087\",\"type\":\"BoxAnnotation\"},{\"attributes\":{},\"id\":\"1058\",\"type\":\"BasicTicker\"},{\"attributes\":{\"dimension\":1,\"ticker\":{\"id\":\"1058\",\"type\":\"BasicTicker\"}},\"id\":\"1061\",\"type\":\"Grid\"},{\"attributes\":{},\"id\":\"1028\",\"type\":\"HelpTool\"},{\"attributes\":{},\"id\":\"1090\",\"type\":\"BasicTickFormatter\"},{\"attributes\":{\"callback\":null},\"id\":\"1005\",\"type\":\"DataRange1d\"},{\"attributes\":{\"active_drag\":\"auto\",\"active_inspect\":\"auto\",\"active_multi\":null,\"active_scroll\":\"auto\",\"active_tap\":\"auto\",\"tools\":[{\"id\":\"1023\",\"type\":\"PanTool\"},{\"id\":\"1024\",\"type\":\"WheelZoomTool\"},{\"id\":\"1025\",\"type\":\"BoxZoomTool\"},{\"id\":\"1026\",\"type\":\"SaveTool\"},{\"id\":\"1027\",\"type\":\"ResetTool\"},{\"id\":\"1028\",\"type\":\"HelpTool\"}]},\"id\":\"1029\",\"type\":\"Toolbar\"},{\"attributes\":{\"fill_color\":{\"value\":\"#1f77b4\"},\"line_color\":{\"value\":\"#1f77b4\"},\"size\":{\"units\":\"screen\",\"value\":5},\"x\":{\"field\":\"x\"},\"y\":{\"field\":\"y\"}},\"id\":\"1076\",\"type\":\"Scatter\"},{\"attributes\":{\"callback\":null},\"id\":\"1007\",\"type\":\"DataRange1d\"}],\"root_ids\":[\"1101\"]},\"title\":\"Bokeh Application\",\"version\":\"1.4.0\"}};\n",
       "  var render_items = [{\"docid\":\"fb82c0b8-ab0b-4073-ac57-39cff266f678\",\"roots\":{\"1101\":\"517c65f9-ab1d-486d-8ccd-763591692afa\"}}];\n",
       "  root.Bokeh.embed.embed_items_notebook(docs_json, render_items);\n",
       "\n",
       "  }\n",
       "  if (root.Bokeh !== undefined) {\n",
       "    embed_document(root);\n",
       "  } else {\n",
       "    var attempts = 0;\n",
       "    var timer = setInterval(function(root) {\n",
       "      if (root.Bokeh !== undefined) {\n",
       "        clearInterval(timer);\n",
       "        embed_document(root);\n",
       "      } else {\n",
       "        attempts++;\n",
       "        if (attempts > 100) {\n",
       "          clearInterval(timer);\n",
       "          console.log(\"Bokeh: ERROR: Unable to run BokehJS code because BokehJS library is missing\");\n",
       "        }\n",
       "      }\n",
       "    }, 10, root)\n",
       "  }\n",
       "})(window);"
      ],
      "application/vnd.bokehjs_exec.v0+json": ""
     },
     "metadata": {
      "application/vnd.bokehjs_exec.v0+json": {
       "id": "1101"
      }
     },
     "output_type": "display_data"
    }
   ],
   "source": [
    "from bokeh.layouts import gridplot\n",
    "\n",
    "def draw_odds_graph(N=100):\n",
    "    prob = np.linspace(0.01, 0.95, N)\n",
    "    odds = np.array([p/(1-p) for p in prob])\n",
    "    p = figure(title='Probability - Odds function', height=400, width=400,\n",
    "        x_axis_label='Probability', y_axis_label='Odds')\n",
    "    p.scatter(prob, odds, size=5)\n",
    "    return p\n",
    "\n",
    "def draw_logit_graph(N=100):\n",
    "    prob = np.linspace(0.01, 0.95, N)\n",
    "    odds = np.array([p/(1-p) for p in prob])\n",
    "    logit = np.log(odds)\n",
    "    p = figure(title='Probability - Logit function', height=400, width=400,\n",
    "        x_axis_label='Probability', y_axis_label='Logit')\n",
    "    p.scatter(prob, logit, size=5)\n",
    "    return p\n",
    "\n",
    "gp = gridplot([[draw_odds_graph(), draw_logit_graph()]])\n",
    "show(gp)"
   ]
  },
  {
   "cell_type": "code",
   "execution_count": 3,
   "metadata": {},
   "outputs": [
    {
     "data": {
      "text/html": [
       "\n",
       "\n",
       "\n",
       "\n",
       "\n",
       "\n",
       "  <div class=\"bk-root\" id=\"644e8557-6cd2-46a3-85dd-35e352cb1d7a\" data-root-id=\"1214\"></div>\n"
      ]
     },
     "metadata": {},
     "output_type": "display_data"
    },
    {
     "data": {
      "application/javascript": [
       "(function(root) {\n",
       "  function embed_document(root) {\n",
       "    \n",
       "  var docs_json = {\"1f6ee827-d86d-4b5f-a4cd-74e341e32261\":{\"roots\":{\"references\":[{\"attributes\":{\"below\":[{\"id\":\"1223\",\"type\":\"LinearAxis\"}],\"center\":[{\"id\":\"1227\",\"type\":\"Grid\"},{\"id\":\"1232\",\"type\":\"Grid\"}],\"left\":[{\"id\":\"1228\",\"type\":\"LinearAxis\"}],\"renderers\":[{\"id\":\"1249\",\"type\":\"GlyphRenderer\"}],\"title\":{\"id\":\"1267\",\"type\":\"Title\"},\"toolbar\":{\"id\":\"1239\",\"type\":\"Toolbar\"},\"x_range\":{\"id\":\"1215\",\"type\":\"DataRange1d\"},\"x_scale\":{\"id\":\"1219\",\"type\":\"LinearScale\"},\"y_range\":{\"id\":\"1217\",\"type\":\"DataRange1d\"},\"y_scale\":{\"id\":\"1221\",\"type\":\"LinearScale\"}},\"id\":\"1214\",\"subtype\":\"Figure\",\"type\":\"Plot\"},{\"attributes\":{\"callback\":null},\"id\":\"1215\",\"type\":\"DataRange1d\"},{\"attributes\":{\"text\":\"\"},\"id\":\"1267\",\"type\":\"Title\"},{\"attributes\":{\"fill_alpha\":{\"value\":0.1},\"fill_color\":{\"value\":\"#1f77b4\"},\"line_alpha\":{\"value\":0.1},\"line_color\":{\"value\":\"#1f77b4\"},\"size\":{\"units\":\"screen\",\"value\":10},\"x\":{\"field\":\"x\"},\"y\":{\"field\":\"y\"}},\"id\":\"1248\",\"type\":\"Scatter\"},{\"attributes\":{\"callback\":null,\"data\":{\"fill_color\":[\"#43a2ca\",\"#43a2ca\",\"#43a2ca\",\"#e34a33\",\"#e34a33\",\"#e34a33\",\"#e34a33\"],\"line_color\":[\"#43a2ca\",\"#43a2ca\",\"#43a2ca\",\"#e34a33\",\"#e34a33\",\"#e34a33\",\"#e34a33\"],\"x\":{\"__ndarray__\":\"PQrXo3A94j97FK5H4XqkP3sUrkfheuQ/SOF6FK5H0b8fhetRuB7Vv2ZmZmZmZta/4XoUrkfh2r8=\",\"dtype\":\"float64\",\"shape\":[7]},\"y\":{\"__ndarray__\":\"ZmZmZmZm1j8zMzMzMzPDPwAAAAAAANA/AAAAAAAA0L8pXI/C9Sjcv8P1KFyPwtW/AAAAAAAA0L8=\",\"dtype\":\"float64\",\"shape\":[7]}},\"selected\":{\"id\":\"1273\",\"type\":\"Selection\"},\"selection_policy\":{\"id\":\"1274\",\"type\":\"UnionRenderers\"}},\"id\":\"1246\",\"type\":\"ColumnDataSource\"},{\"attributes\":{\"source\":{\"id\":\"1246\",\"type\":\"ColumnDataSource\"}},\"id\":\"1250\",\"type\":\"CDSView\"},{\"attributes\":{},\"id\":\"1271\",\"type\":\"BasicTickFormatter\"},{\"attributes\":{},\"id\":\"1237\",\"type\":\"ResetTool\"},{\"attributes\":{\"callback\":null},\"id\":\"1217\",\"type\":\"DataRange1d\"},{\"attributes\":{},\"id\":\"1269\",\"type\":\"BasicTickFormatter\"},{\"attributes\":{},\"id\":\"1273\",\"type\":\"Selection\"},{\"attributes\":{},\"id\":\"1233\",\"type\":\"PanTool\"},{\"attributes\":{},\"id\":\"1219\",\"type\":\"LinearScale\"},{\"attributes\":{},\"id\":\"1274\",\"type\":\"UnionRenderers\"},{\"attributes\":{\"active_drag\":\"auto\",\"active_inspect\":\"auto\",\"active_multi\":null,\"active_scroll\":\"auto\",\"active_tap\":\"auto\",\"tools\":[{\"id\":\"1233\",\"type\":\"PanTool\"},{\"id\":\"1234\",\"type\":\"WheelZoomTool\"},{\"id\":\"1235\",\"type\":\"BoxZoomTool\"},{\"id\":\"1236\",\"type\":\"SaveTool\"},{\"id\":\"1237\",\"type\":\"ResetTool\"},{\"id\":\"1238\",\"type\":\"HelpTool\"}]},\"id\":\"1239\",\"type\":\"Toolbar\"},{\"attributes\":{\"bottom_units\":\"screen\",\"fill_alpha\":{\"value\":0.5},\"fill_color\":{\"value\":\"lightgrey\"},\"left_units\":\"screen\",\"level\":\"overlay\",\"line_alpha\":{\"value\":1.0},\"line_color\":{\"value\":\"black\"},\"line_dash\":[4,4],\"line_width\":{\"value\":2},\"render_mode\":\"css\",\"right_units\":\"screen\",\"top_units\":\"screen\"},\"id\":\"1275\",\"type\":\"BoxAnnotation\"},{\"attributes\":{\"formatter\":{\"id\":\"1271\",\"type\":\"BasicTickFormatter\"},\"ticker\":{\"id\":\"1224\",\"type\":\"BasicTicker\"}},\"id\":\"1223\",\"type\":\"LinearAxis\"},{\"attributes\":{\"dimension\":1,\"ticker\":{\"id\":\"1229\",\"type\":\"BasicTicker\"}},\"id\":\"1232\",\"type\":\"Grid\"},{\"attributes\":{},\"id\":\"1224\",\"type\":\"BasicTicker\"},{\"attributes\":{\"fill_color\":{\"field\":\"fill_color\"},\"line_color\":{\"field\":\"line_color\"},\"size\":{\"units\":\"screen\",\"value\":10},\"x\":{\"field\":\"x\"},\"y\":{\"field\":\"y\"}},\"id\":\"1247\",\"type\":\"Scatter\"},{\"attributes\":{},\"id\":\"1238\",\"type\":\"HelpTool\"},{\"attributes\":{\"ticker\":{\"id\":\"1224\",\"type\":\"BasicTicker\"}},\"id\":\"1227\",\"type\":\"Grid\"},{\"attributes\":{\"overlay\":{\"id\":\"1275\",\"type\":\"BoxAnnotation\"}},\"id\":\"1235\",\"type\":\"BoxZoomTool\"},{\"attributes\":{},\"id\":\"1229\",\"type\":\"BasicTicker\"},{\"attributes\":{},\"id\":\"1236\",\"type\":\"SaveTool\"},{\"attributes\":{\"formatter\":{\"id\":\"1269\",\"type\":\"BasicTickFormatter\"},\"ticker\":{\"id\":\"1229\",\"type\":\"BasicTicker\"}},\"id\":\"1228\",\"type\":\"LinearAxis\"},{\"attributes\":{},\"id\":\"1234\",\"type\":\"WheelZoomTool\"},{\"attributes\":{},\"id\":\"1221\",\"type\":\"LinearScale\"},{\"attributes\":{\"data_source\":{\"id\":\"1246\",\"type\":\"ColumnDataSource\"},\"glyph\":{\"id\":\"1247\",\"type\":\"Scatter\"},\"hover_glyph\":null,\"muted_glyph\":null,\"nonselection_glyph\":{\"id\":\"1248\",\"type\":\"Scatter\"},\"selection_glyph\":null,\"view\":{\"id\":\"1250\",\"type\":\"CDSView\"}},\"id\":\"1249\",\"type\":\"GlyphRenderer\"}],\"root_ids\":[\"1214\"]},\"title\":\"Bokeh Application\",\"version\":\"1.4.0\"}};\n",
       "  var render_items = [{\"docid\":\"1f6ee827-d86d-4b5f-a4cd-74e341e32261\",\"roots\":{\"1214\":\"644e8557-6cd2-46a3-85dd-35e352cb1d7a\"}}];\n",
       "  root.Bokeh.embed.embed_items_notebook(docs_json, render_items);\n",
       "\n",
       "  }\n",
       "  if (root.Bokeh !== undefined) {\n",
       "    embed_document(root);\n",
       "  } else {\n",
       "    var attempts = 0;\n",
       "    var timer = setInterval(function(root) {\n",
       "      if (root.Bokeh !== undefined) {\n",
       "        clearInterval(timer);\n",
       "        embed_document(root);\n",
       "      } else {\n",
       "        attempts++;\n",
       "        if (attempts > 100) {\n",
       "          clearInterval(timer);\n",
       "          console.log(\"Bokeh: ERROR: Unable to run BokehJS code because BokehJS library is missing\");\n",
       "        }\n",
       "      }\n",
       "    }, 10, root)\n",
       "  }\n",
       "})(window);"
      ],
      "application/vnd.bokehjs_exec.v0+json": ""
     },
     "metadata": {
      "application/vnd.bokehjs_exec.v0+json": {
       "id": "1214"
      }
     },
     "output_type": "display_data"
    }
   ],
   "source": [
    "X = np.array([\n",
    "    [0.57, 0.35],\n",
    "    [0.04, 0.15],\n",
    "    [0.64, 0.25],\n",
    "    [-0.27, -0.25],\n",
    "    [-0.33, -0.44],\n",
    "    [-0.35, -0.34],\n",
    "    [-0.42, -0.25],\n",
    "])\n",
    "\n",
    "y = np.array([1, 1, 1, 0, 0, 0, 0])\n",
    "colormap = ['#e34a33', '#43a2ca']\n",
    "colors = [colormap[l] for l in y]\n",
    "\n",
    "p = figure()\n",
    "p.scatter(X[:,0], X[:,1], color=colors, size=10)\n",
    "show(p)"
   ]
  },
  {
   "cell_type": "code",
   "execution_count": 4,
   "metadata": {},
   "outputs": [
    {
     "data": {
      "text/html": [
       "\n",
       "\n",
       "\n",
       "\n",
       "\n",
       "\n",
       "  <div class=\"bk-root\" id=\"d0c22d7f-f211-41d4-9b6a-dbdaa937d846\" data-root-id=\"1330\"></div>\n"
      ]
     },
     "metadata": {},
     "output_type": "display_data"
    },
    {
     "data": {
      "application/javascript": [
       "(function(root) {\n",
       "  function embed_document(root) {\n",
       "    \n",
       "  var docs_json = {\"995a493e-f8db-42be-b29c-1d87dc59a06e\":{\"roots\":{\"references\":[{\"attributes\":{\"below\":[{\"id\":\"1341\",\"type\":\"LinearAxis\"}],\"center\":[{\"id\":\"1345\",\"type\":\"Grid\"},{\"id\":\"1350\",\"type\":\"Grid\"}],\"left\":[{\"id\":\"1346\",\"type\":\"LinearAxis\"}],\"renderers\":[{\"id\":\"1367\",\"type\":\"GlyphRenderer\"},{\"id\":\"1372\",\"type\":\"GlyphRenderer\"}],\"title\":{\"id\":\"1331\",\"type\":\"Title\"},\"toolbar\":{\"id\":\"1357\",\"type\":\"Toolbar\"},\"x_range\":{\"id\":\"1333\",\"type\":\"DataRange1d\"},\"x_scale\":{\"id\":\"1337\",\"type\":\"LinearScale\"},\"y_range\":{\"id\":\"1335\",\"type\":\"DataRange1d\"},\"y_scale\":{\"id\":\"1339\",\"type\":\"LinearScale\"}},\"id\":\"1330\",\"subtype\":\"Figure\",\"type\":\"Plot\"},{\"attributes\":{\"source\":{\"id\":\"1369\",\"type\":\"ColumnDataSource\"}},\"id\":\"1373\",\"type\":\"CDSView\"},{\"attributes\":{\"formatter\":{\"id\":\"1400\",\"type\":\"BasicTickFormatter\"},\"ticker\":{\"id\":\"1347\",\"type\":\"BasicTicker\"}},\"id\":\"1346\",\"type\":\"LinearAxis\"},{\"attributes\":{},\"id\":\"1347\",\"type\":\"BasicTicker\"},{\"attributes\":{},\"id\":\"1400\",\"type\":\"BasicTickFormatter\"},{\"attributes\":{\"dimension\":1,\"ticker\":{\"id\":\"1347\",\"type\":\"BasicTicker\"}},\"id\":\"1350\",\"type\":\"Grid\"},{\"attributes\":{},\"id\":\"1402\",\"type\":\"BasicTickFormatter\"},{\"attributes\":{\"dh\":{\"units\":\"data\",\"value\":0.869},\"dw\":{\"units\":\"data\",\"value\":1.1660000000000001},\"image\":{\"field\":\"image\"},\"x\":{\"value\":-0.462},\"y\":{\"value\":-0.48400000000000004}},\"id\":\"1366\",\"type\":\"ImageRGBA\"},{\"attributes\":{\"text\":\"b0 = -0.235, b1 = 0.903, b2 = 0.704\"},\"id\":\"1331\",\"type\":\"Title\"},{\"attributes\":{\"dh\":{\"units\":\"data\",\"value\":0.869},\"dw\":{\"units\":\"data\",\"value\":1.1660000000000001},\"image\":{\"field\":\"image\"},\"x\":{\"value\":-0.462},\"y\":{\"value\":-0.48400000000000004}},\"id\":\"1365\",\"type\":\"ImageRGBA\"},{\"attributes\":{\"callback\":null,\"data\":{\"image\":[{\"__ndarray__\":\"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\",\"dtype\":\"uint32\",\"shape\":[40,40]}]},\"selected\":{\"id\":\"1404\",\"type\":\"Selection\"},\"selection_policy\":{\"id\":\"1405\",\"type\":\"UnionRenderers\"}},\"id\":\"1364\",\"type\":\"ColumnDataSource\"},{\"attributes\":{},\"id\":\"1405\",\"type\":\"UnionRenderers\"},{\"attributes\":{\"data_source\":{\"id\":\"1364\",\"type\":\"ColumnDataSource\"},\"glyph\":{\"id\":\"1365\",\"type\":\"ImageRGBA\"},\"hover_glyph\":null,\"muted_glyph\":null,\"nonselection_glyph\":{\"id\":\"1366\",\"type\":\"ImageRGBA\"},\"selection_glyph\":null,\"view\":{\"id\":\"1368\",\"type\":\"CDSView\"}},\"id\":\"1367\",\"type\":\"GlyphRenderer\"},{\"attributes\":{},\"id\":\"1406\",\"type\":\"Selection\"},{\"attributes\":{},\"id\":\"1351\",\"type\":\"PanTool\"},{\"attributes\":{},\"id\":\"1407\",\"type\":\"UnionRenderers\"},{\"attributes\":{},\"id\":\"1352\",\"type\":\"WheelZoomTool\"},{\"attributes\":{\"formatter\":{\"id\":\"1402\",\"type\":\"BasicTickFormatter\"},\"ticker\":{\"id\":\"1342\",\"type\":\"BasicTicker\"}},\"id\":\"1341\",\"type\":\"LinearAxis\"},{\"attributes\":{\"bottom_units\":\"screen\",\"fill_alpha\":{\"value\":0.5},\"fill_color\":{\"value\":\"lightgrey\"},\"left_units\":\"screen\",\"level\":\"overlay\",\"line_alpha\":{\"value\":1.0},\"line_color\":{\"value\":\"black\"},\"line_dash\":[4,4],\"line_width\":{\"value\":2},\"render_mode\":\"css\",\"right_units\":\"screen\",\"top_units\":\"screen\"},\"id\":\"1408\",\"type\":\"BoxAnnotation\"},{\"attributes\":{\"overlay\":{\"id\":\"1408\",\"type\":\"BoxAnnotation\"}},\"id\":\"1353\",\"type\":\"BoxZoomTool\"},{\"attributes\":{\"callback\":null,\"data\":{\"fill_color\":[\"#43a2ca\",\"#43a2ca\",\"#43a2ca\",\"#e34a33\",\"#e34a33\",\"#e34a33\",\"#e34a33\"],\"line_color\":[\"#43a2ca\",\"#43a2ca\",\"#43a2ca\",\"#e34a33\",\"#e34a33\",\"#e34a33\",\"#e34a33\"],\"x\":{\"__ndarray__\":\"PQrXo3A94j97FK5H4XqkP3sUrkfheuQ/SOF6FK5H0b8fhetRuB7Vv2ZmZmZmZta/4XoUrkfh2r8=\",\"dtype\":\"float64\",\"shape\":[7]},\"y\":{\"__ndarray__\":\"ZmZmZmZm1j8zMzMzMzPDPwAAAAAAANA/AAAAAAAA0L8pXI/C9Sjcv8P1KFyPwtW/AAAAAAAA0L8=\",\"dtype\":\"float64\",\"shape\":[7]}},\"selected\":{\"id\":\"1406\",\"type\":\"Selection\"},\"selection_policy\":{\"id\":\"1407\",\"type\":\"UnionRenderers\"}},\"id\":\"1369\",\"type\":\"ColumnDataSource\"},{\"attributes\":{},\"id\":\"1354\",\"type\":\"SaveTool\"},{\"attributes\":{},\"id\":\"1355\",\"type\":\"ResetTool\"},{\"attributes\":{},\"id\":\"1337\",\"type\":\"LinearScale\"},{\"attributes\":{},\"id\":\"1356\",\"type\":\"HelpTool\"},{\"attributes\":{},\"id\":\"1404\",\"type\":\"Selection\"},{\"attributes\":{\"callback\":null},\"id\":\"1333\",\"type\":\"DataRange1d\"},{\"attributes\":{\"active_drag\":\"auto\",\"active_inspect\":\"auto\",\"active_multi\":null,\"active_scroll\":\"auto\",\"active_tap\":\"auto\",\"tools\":[{\"id\":\"1351\",\"type\":\"PanTool\"},{\"id\":\"1352\",\"type\":\"WheelZoomTool\"},{\"id\":\"1353\",\"type\":\"BoxZoomTool\"},{\"id\":\"1354\",\"type\":\"SaveTool\"},{\"id\":\"1355\",\"type\":\"ResetTool\"},{\"id\":\"1356\",\"type\":\"HelpTool\"}]},\"id\":\"1357\",\"type\":\"Toolbar\"},{\"attributes\":{\"callback\":null},\"id\":\"1335\",\"type\":\"DataRange1d\"},{\"attributes\":{\"source\":{\"id\":\"1364\",\"type\":\"ColumnDataSource\"}},\"id\":\"1368\",\"type\":\"CDSView\"},{\"attributes\":{},\"id\":\"1339\",\"type\":\"LinearScale\"},{\"attributes\":{\"fill_color\":{\"field\":\"fill_color\"},\"line_color\":{\"field\":\"line_color\"},\"size\":{\"units\":\"screen\",\"value\":10},\"x\":{\"field\":\"x\"},\"y\":{\"field\":\"y\"}},\"id\":\"1370\",\"type\":\"Scatter\"},{\"attributes\":{},\"id\":\"1342\",\"type\":\"BasicTicker\"},{\"attributes\":{\"fill_alpha\":{\"value\":0.1},\"fill_color\":{\"value\":\"#1f77b4\"},\"line_alpha\":{\"value\":0.1},\"line_color\":{\"value\":\"#1f77b4\"},\"size\":{\"units\":\"screen\",\"value\":10},\"x\":{\"field\":\"x\"},\"y\":{\"field\":\"y\"}},\"id\":\"1371\",\"type\":\"Scatter\"},{\"attributes\":{\"ticker\":{\"id\":\"1342\",\"type\":\"BasicTicker\"}},\"id\":\"1345\",\"type\":\"Grid\"},{\"attributes\":{\"data_source\":{\"id\":\"1369\",\"type\":\"ColumnDataSource\"},\"glyph\":{\"id\":\"1370\",\"type\":\"Scatter\"},\"hover_glyph\":null,\"muted_glyph\":null,\"nonselection_glyph\":{\"id\":\"1371\",\"type\":\"Scatter\"},\"selection_glyph\":null,\"view\":{\"id\":\"1373\",\"type\":\"CDSView\"}},\"id\":\"1372\",\"type\":\"GlyphRenderer\"}],\"root_ids\":[\"1330\"]},\"title\":\"Bokeh Application\",\"version\":\"1.4.0\"}};\n",
       "  var render_items = [{\"docid\":\"995a493e-f8db-42be-b29c-1d87dc59a06e\",\"roots\":{\"1330\":\"d0c22d7f-f211-41d4-9b6a-dbdaa937d846\"}}];\n",
       "  root.Bokeh.embed.embed_items_notebook(docs_json, render_items);\n",
       "\n",
       "  }\n",
       "  if (root.Bokeh !== undefined) {\n",
       "    embed_document(root);\n",
       "  } else {\n",
       "    var attempts = 0;\n",
       "    var timer = setInterval(function(root) {\n",
       "      if (root.Bokeh !== undefined) {\n",
       "        clearInterval(timer);\n",
       "        embed_document(root);\n",
       "      } else {\n",
       "        attempts++;\n",
       "        if (attempts > 100) {\n",
       "          clearInterval(timer);\n",
       "          console.log(\"Bokeh: ERROR: Unable to run BokehJS code because BokehJS library is missing\");\n",
       "        }\n",
       "      }\n",
       "    }, 10, root)\n",
       "  }\n",
       "})(window);"
      ],
      "application/vnd.bokehjs_exec.v0+json": ""
     },
     "metadata": {
      "application/vnd.bokehjs_exec.v0+json": {
       "id": "1330"
      }
     },
     "output_type": "display_data"
    }
   ],
   "source": [
    "def draw_classification_map(X, model, N=40, height=600, width=600, title=None):\n",
    "    image, x_min, y_min, dw, dh = make_classification_map(X, model, N)\n",
    "    p = draw_image(image, x_min, y_min, dw, dh, height, width, title)\n",
    "    return p\n",
    "\n",
    "def make_classification_map(X, model, N=40):\n",
    "    x_min, x_max = X[:,0].min() * 1.1, X[:,0].max() * 1.1\n",
    "    y_min, y_max = X[:,1].min() * 1.1, X[:,1].max() * 1.1\n",
    "    x_test = np.linspace(x_min, x_max, N)\n",
    "    y_test = np.linspace(y_min, y_max, N)\n",
    "    X_test = np.array([(xi, yi) for xi in x_test for yi in y_test])\n",
    "    y_test = model.predict_proba(X_test)\n",
    "    S = y_test[:,0] - y_test[:,1]\n",
    "    image = score_to_image(S, N)\n",
    "    return image, x_min, y_min, x_max - x_min, y_max - y_min\n",
    "\n",
    "def score_to_image(S, N=40):\n",
    "    S = S.reshape(N,N)\n",
    "    h, w = S.shape\n",
    "    image = np.zeros((h, w), dtype=np.uint32)\n",
    "    view = image.view(dtype=np.uint8).reshape(h, w, 4)\n",
    "\n",
    "    for i in range(h):\n",
    "        for j in range(w):\n",
    "            s = S[i,j]\n",
    "            if s > 0:\n",
    "                view[i,j,0] = 128\n",
    "                view[i,j,1] = 26\n",
    "                view[i,j,2] = 0\n",
    "                view[i,j,3] = int(200 * s)\n",
    "            elif s < 0:\n",
    "                view[i,j,0] = 0\n",
    "                view[i,j,1] = 26\n",
    "                view[i,j,2] = 128\n",
    "                view[i,j,3] = int(-s * 200)\n",
    "    return image\n",
    "\n",
    "def draw_image(image, x_min, y_min, dw, dh, height=600, width=600, title=None):\n",
    "    p = figure(height=height, width=width, title=title)\n",
    "    p.image_rgba(image=[image], x=x_min, y=y_min, dw=dw, dh=dh)\n",
    "    return p\n",
    "\n",
    "model = LogisticRegression().fit(X, y)\n",
    "\n",
    "title = f'b0 = {model.intercept_[0]:.3}, b1 = {model.coef_[0,0]:.3}, b2 = {model.coef_[0,1]:.3}'\n",
    "\n",
    "p = draw_classification_map(X, model, title=title)\n",
    "p.scatter(X[:,0], X[:,1], color=colors, size=10)\n",
    "show(p)"
   ]
  },
  {
   "cell_type": "code",
   "execution_count": 5,
   "metadata": {},
   "outputs": [
    {
     "data": {
      "text/html": [
       "\n",
       "\n",
       "\n",
       "\n",
       "\n",
       "\n",
       "  <div class=\"bk-root\" id=\"f7a19469-9567-4df2-99e8-cbdeee5204a2\" data-root-id=\"1469\"></div>\n"
      ]
     },
     "metadata": {},
     "output_type": "display_data"
    },
    {
     "data": {
      "application/javascript": [
       "(function(root) {\n",
       "  function embed_document(root) {\n",
       "    \n",
       "  var docs_json = {\"d6e24bb0-ccaf-4b08-9403-96f4e57b6b24\":{\"roots\":{\"references\":[{\"attributes\":{\"below\":[{\"id\":\"1480\",\"type\":\"LinearAxis\"}],\"center\":[{\"id\":\"1484\",\"type\":\"Grid\"},{\"id\":\"1489\",\"type\":\"Grid\"}],\"left\":[{\"id\":\"1485\",\"type\":\"LinearAxis\"}],\"renderers\":[{\"id\":\"1506\",\"type\":\"GlyphRenderer\"},{\"id\":\"1511\",\"type\":\"GlyphRenderer\"}],\"title\":{\"id\":\"1470\",\"type\":\"Title\"},\"toolbar\":{\"id\":\"1496\",\"type\":\"Toolbar\"},\"x_range\":{\"id\":\"1472\",\"type\":\"DataRange1d\"},\"x_scale\":{\"id\":\"1476\",\"type\":\"LinearScale\"},\"y_range\":{\"id\":\"1474\",\"type\":\"DataRange1d\"},\"y_scale\":{\"id\":\"1478\",\"type\":\"LinearScale\"}},\"id\":\"1469\",\"subtype\":\"Figure\",\"type\":\"Plot\"},{\"attributes\":{},\"id\":\"1551\",\"type\":\"BasicTickFormatter\"},{\"attributes\":{\"active_drag\":\"auto\",\"active_inspect\":\"auto\",\"active_multi\":null,\"active_scroll\":\"auto\",\"active_tap\":\"auto\",\"tools\":[{\"id\":\"1490\",\"type\":\"PanTool\"},{\"id\":\"1491\",\"type\":\"WheelZoomTool\"},{\"id\":\"1492\",\"type\":\"BoxZoomTool\"},{\"id\":\"1493\",\"type\":\"SaveTool\"},{\"id\":\"1494\",\"type\":\"ResetTool\"},{\"id\":\"1495\",\"type\":\"HelpTool\"}]},\"id\":\"1496\",\"type\":\"Toolbar\"},{\"attributes\":{},\"id\":\"1553\",\"type\":\"Selection\"},{\"attributes\":{},\"id\":\"1495\",\"type\":\"HelpTool\"},{\"attributes\":{\"callback\":null,\"data\":{\"fill_color\":[\"#43a2ca\",\"#43a2ca\",\"#43a2ca\",\"#e34a33\",\"#e34a33\",\"#e34a33\",\"#e34a33\"],\"line_color\":[\"#43a2ca\",\"#43a2ca\",\"#43a2ca\",\"#e34a33\",\"#e34a33\",\"#e34a33\",\"#e34a33\"],\"x\":{\"__ndarray__\":\"PQrXo3A94j97FK5H4XqkP3sUrkfheuQ/SOF6FK5H0b8fhetRuB7Vv2ZmZmZmZta/4XoUrkfh2r8=\",\"dtype\":\"float64\",\"shape\":[7]},\"y\":{\"__ndarray__\":\"ZmZmZmZm1j8zMzMzMzPDPwAAAAAAANA/AAAAAAAA0L8pXI/C9Sjcv8P1KFyPwtW/AAAAAAAA0L8=\",\"dtype\":\"float64\",\"shape\":[7]}},\"selected\":{\"id\":\"1555\",\"type\":\"Selection\"},\"selection_policy\":{\"id\":\"1556\",\"type\":\"UnionRenderers\"}},\"id\":\"1508\",\"type\":\"ColumnDataSource\"},{\"attributes\":{},\"id\":\"1554\",\"type\":\"UnionRenderers\"},{\"attributes\":{\"data_source\":{\"id\":\"1503\",\"type\":\"ColumnDataSource\"},\"glyph\":{\"id\":\"1504\",\"type\":\"ImageRGBA\"},\"hover_glyph\":null,\"muted_glyph\":null,\"nonselection_glyph\":{\"id\":\"1505\",\"type\":\"ImageRGBA\"},\"selection_glyph\":null,\"view\":{\"id\":\"1507\",\"type\":\"CDSView\"}},\"id\":\"1506\",\"type\":\"GlyphRenderer\"},{\"attributes\":{},\"id\":\"1555\",\"type\":\"Selection\"},{\"attributes\":{\"source\":{\"id\":\"1503\",\"type\":\"ColumnDataSource\"}},\"id\":\"1507\",\"type\":\"CDSView\"},{\"attributes\":{\"bottom_units\":\"screen\",\"fill_alpha\":{\"value\":0.5},\"fill_color\":{\"value\":\"lightgrey\"},\"left_units\":\"screen\",\"level\":\"overlay\",\"line_alpha\":{\"value\":1.0},\"line_color\":{\"value\":\"black\"},\"line_dash\":[4,4],\"line_width\":{\"value\":2},\"render_mode\":\"css\",\"right_units\":\"screen\",\"top_units\":\"screen\"},\"id\":\"1557\",\"type\":\"BoxAnnotation\"},{\"attributes\":{\"callback\":null,\"data\":{\"image\":[{\"__ndarray__\":\"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\",\"dtype\":\"uint32\",\"shape\":[40,40]}]},\"selected\":{\"id\":\"1553\",\"type\":\"Selection\"},\"selection_policy\":{\"id\":\"1554\",\"type\":\"UnionRenderers\"}},\"id\":\"1503\",\"type\":\"ColumnDataSource\"},{\"attributes\":{},\"id\":\"1490\",\"type\":\"PanTool\"},{\"attributes\":{\"dh\":{\"units\":\"data\",\"value\":0.869},\"dw\":{\"units\":\"data\",\"value\":1.1660000000000001},\"image\":{\"field\":\"image\"},\"x\":{\"value\":-0.462},\"y\":{\"value\":-0.48400000000000004}},\"id\":\"1505\",\"type\":\"ImageRGBA\"},{\"attributes\":{\"overlay\":{\"id\":\"1557\",\"type\":\"BoxAnnotation\"}},\"id\":\"1492\",\"type\":\"BoxZoomTool\"},{\"attributes\":{\"dh\":{\"units\":\"data\",\"value\":0.869},\"dw\":{\"units\":\"data\",\"value\":1.1660000000000001},\"image\":{\"field\":\"image\"},\"x\":{\"value\":-0.462},\"y\":{\"value\":-0.48400000000000004}},\"id\":\"1504\",\"type\":\"ImageRGBA\"},{\"attributes\":{\"text\":\"b0 = 0.3, b1 = -0.5, b2 = 0.7\"},\"id\":\"1470\",\"type\":\"Title\"},{\"attributes\":{\"formatter\":{\"id\":\"1549\",\"type\":\"BasicTickFormatter\"},\"ticker\":{\"id\":\"1486\",\"type\":\"BasicTicker\"}},\"id\":\"1485\",\"type\":\"LinearAxis\"},{\"attributes\":{\"source\":{\"id\":\"1508\",\"type\":\"ColumnDataSource\"}},\"id\":\"1512\",\"type\":\"CDSView\"},{\"attributes\":{},\"id\":\"1486\",\"type\":\"BasicTicker\"},{\"attributes\":{},\"id\":\"1491\",\"type\":\"WheelZoomTool\"},{\"attributes\":{\"formatter\":{\"id\":\"1551\",\"type\":\"BasicTickFormatter\"},\"ticker\":{\"id\":\"1481\",\"type\":\"BasicTicker\"}},\"id\":\"1480\",\"type\":\"LinearAxis\"},{\"attributes\":{\"fill_color\":{\"field\":\"fill_color\"},\"line_color\":{\"field\":\"line_color\"},\"size\":{\"units\":\"screen\",\"value\":10},\"x\":{\"field\":\"x\"},\"y\":{\"field\":\"y\"}},\"id\":\"1509\",\"type\":\"Scatter\"},{\"attributes\":{\"dimension\":1,\"ticker\":{\"id\":\"1486\",\"type\":\"BasicTicker\"}},\"id\":\"1489\",\"type\":\"Grid\"},{\"attributes\":{},\"id\":\"1494\",\"type\":\"ResetTool\"},{\"attributes\":{\"ticker\":{\"id\":\"1481\",\"type\":\"BasicTicker\"}},\"id\":\"1484\",\"type\":\"Grid\"},{\"attributes\":{\"fill_alpha\":{\"value\":0.1},\"fill_color\":{\"value\":\"#1f77b4\"},\"line_alpha\":{\"value\":0.1},\"line_color\":{\"value\":\"#1f77b4\"},\"size\":{\"units\":\"screen\",\"value\":10},\"x\":{\"field\":\"x\"},\"y\":{\"field\":\"y\"}},\"id\":\"1510\",\"type\":\"Scatter\"},{\"attributes\":{\"callback\":null},\"id\":\"1472\",\"type\":\"DataRange1d\"},{\"attributes\":{},\"id\":\"1481\",\"type\":\"BasicTicker\"},{\"attributes\":{\"data_source\":{\"id\":\"1508\",\"type\":\"ColumnDataSource\"},\"glyph\":{\"id\":\"1509\",\"type\":\"Scatter\"},\"hover_glyph\":null,\"muted_glyph\":null,\"nonselection_glyph\":{\"id\":\"1510\",\"type\":\"Scatter\"},\"selection_glyph\":null,\"view\":{\"id\":\"1512\",\"type\":\"CDSView\"}},\"id\":\"1511\",\"type\":\"GlyphRenderer\"},{\"attributes\":{},\"id\":\"1476\",\"type\":\"LinearScale\"},{\"attributes\":{},\"id\":\"1493\",\"type\":\"SaveTool\"},{\"attributes\":{},\"id\":\"1556\",\"type\":\"UnionRenderers\"},{\"attributes\":{},\"id\":\"1478\",\"type\":\"LinearScale\"},{\"attributes\":{\"callback\":null},\"id\":\"1474\",\"type\":\"DataRange1d\"},{\"attributes\":{},\"id\":\"1549\",\"type\":\"BasicTickFormatter\"}],\"root_ids\":[\"1469\"]},\"title\":\"Bokeh Application\",\"version\":\"1.4.0\"}};\n",
       "  var render_items = [{\"docid\":\"d6e24bb0-ccaf-4b08-9403-96f4e57b6b24\",\"roots\":{\"1469\":\"f7a19469-9567-4df2-99e8-cbdeee5204a2\"}}];\n",
       "  root.Bokeh.embed.embed_items_notebook(docs_json, render_items);\n",
       "\n",
       "  }\n",
       "  if (root.Bokeh !== undefined) {\n",
       "    embed_document(root);\n",
       "  } else {\n",
       "    var attempts = 0;\n",
       "    var timer = setInterval(function(root) {\n",
       "      if (root.Bokeh !== undefined) {\n",
       "        clearInterval(timer);\n",
       "        embed_document(root);\n",
       "      } else {\n",
       "        attempts++;\n",
       "        if (attempts > 100) {\n",
       "          clearInterval(timer);\n",
       "          console.log(\"Bokeh: ERROR: Unable to run BokehJS code because BokehJS library is missing\");\n",
       "        }\n",
       "      }\n",
       "    }, 10, root)\n",
       "  }\n",
       "})(window);"
      ],
      "application/vnd.bokehjs_exec.v0+json": ""
     },
     "metadata": {
      "application/vnd.bokehjs_exec.v0+json": {
       "id": "1469"
      }
     },
     "output_type": "display_data"
    }
   ],
   "source": [
    "model.coef_ = np.array([[-0.5, 0.7]])\n",
    "model.intercept_ = np.array([0.3])\n",
    "\n",
    "title = f'b0 = {model.intercept_[0]:.3}, b1 = {model.coef_[0,0]:.3}, b2 = {model.coef_[0,1]:.3}'\n",
    "\n",
    "p = draw_classification_map(X, model, title=title)\n",
    "p.scatter(X[:,0], X[:,1], color=colors, size=10)\n",
    "show(p)"
   ]
  },
  {
   "cell_type": "code",
   "execution_count": 6,
   "metadata": {},
   "outputs": [
    {
     "name": "stdout",
     "output_type": "stream",
     "text": [
      "0.6531857858657759\n",
      "0.25245049605743686\n",
      "0.023815314814262255\n",
      "0.0036480429472656437\n"
     ]
    }
   ],
   "source": [
    "beta = np.array([\n",
    "    [0.1, 0.1],\n",
    "    [2.0, 2.0],\n",
    "    [10., 10.],\n",
    "    [20., 20.],\n",
    "])\n",
    "\n",
    "model.intercept_ = np.array([-0.144])\n",
    "for b in beta:\n",
    "    model.coef_ = np.array([b])\n",
    "    logprob = model.predict_log_proba(X)\n",
    "    logprob[np.where(y != 0)[0],0] = 0\n",
    "    logprob[np.where(y != 1)[0],1] = 0\n",
    "    nll = -logprob[np.where(logprob < 0)].mean()\n",
    "    print(nll)"
   ]
  },
  {
   "cell_type": "code",
   "execution_count": 7,
   "metadata": {},
   "outputs": [
    {
     "name": "stdout",
     "output_type": "stream",
     "text": [
      "(300, 15)\n",
      "(300,)\n"
     ]
    }
   ],
   "source": [
    "def make_l1_classification_data(n_data=100, n_features=20, n_importants=5, n_classes=2):\n",
    "    X = 0.2 * np.random.random_sample((n_data * n_classes, n_features * n_classes))\n",
    "    for c in range(n_classes):\n",
    "        row_b, row_e = c * n_data, (c+1) * n_data\n",
    "        col_b, col_e = c * n_importants, (c+1) * n_importants\n",
    "        X[row_b:row_e,col_b:col_e] = 0.6 + np.random.random_sample((n_data, n_importants)) * 0.4\n",
    "    y = np.array([c for c in range(n_classes) for _ in range(n_data)], dtype=np.int)\n",
    "    return X, y\n",
    "\n",
    "X, y = make_l1_classification_data(n_features=5, n_importants=2, n_classes=3)\n",
    "print(X.shape)\n",
    "print(y.shape)"
   ]
  },
  {
   "cell_type": "code",
   "execution_count": 8,
   "metadata": {},
   "outputs": [
    {
     "data": {
      "text/html": [
       "\n",
       "\n",
       "\n",
       "\n",
       "\n",
       "\n",
       "  <div class=\"bk-root\" id=\"70809c9b-e60d-41c1-a097-7550fc5dac2d\" data-root-id=\"1618\"></div>\n"
      ]
     },
     "metadata": {},
     "output_type": "display_data"
    },
    {
     "data": {
      "application/javascript": [
       "(function(root) {\n",
       "  function embed_document(root) {\n",
       "    \n",
       "  var docs_json = {\"23430939-6624-450e-a6be-7c98c5e0d44d\":{\"roots\":{\"references\":[{\"attributes\":{\"below\":[{\"id\":\"1627\",\"type\":\"LinearAxis\"}],\"center\":[{\"id\":\"1631\",\"type\":\"Grid\"},{\"id\":\"1636\",\"type\":\"Grid\"}],\"left\":[{\"id\":\"1632\",\"type\":\"LinearAxis\"}],\"renderers\":[{\"id\":\"1655\",\"type\":\"GlyphRenderer\"}],\"title\":{\"id\":\"1702\",\"type\":\"Title\"},\"toolbar\":{\"id\":\"1643\",\"type\":\"Toolbar\"},\"x_range\":{\"id\":\"1619\",\"type\":\"DataRange1d\"},\"x_scale\":{\"id\":\"1623\",\"type\":\"LinearScale\"},\"y_range\":{\"id\":\"1621\",\"type\":\"DataRange1d\"},\"y_scale\":{\"id\":\"1625\",\"type\":\"LinearScale\"}},\"id\":\"1618\",\"subtype\":\"Figure\",\"type\":\"Plot\"},{\"attributes\":{},\"id\":\"1623\",\"type\":\"LinearScale\"},{\"attributes\":{},\"id\":\"1709\",\"type\":\"UnionRenderers\"},{\"attributes\":{},\"id\":\"1708\",\"type\":\"Selection\"},{\"attributes\":{\"color_mapper\":{\"id\":\"1654\",\"type\":\"LinearColorMapper\"},\"dh\":{\"units\":\"data\",\"value\":1},\"dw\":{\"units\":\"data\",\"value\":1},\"image\":{\"field\":\"image\"},\"x\":{\"value\":0},\"y\":{\"value\":0}},\"id\":\"1653\",\"type\":\"Image\"},{\"attributes\":{\"bottom_units\":\"screen\",\"fill_alpha\":{\"value\":0.5},\"fill_color\":{\"value\":\"lightgrey\"},\"left_units\":\"screen\",\"level\":\"overlay\",\"line_alpha\":{\"value\":1.0},\"line_color\":{\"value\":\"black\"},\"line_dash\":[4,4],\"line_width\":{\"value\":2},\"render_mode\":\"css\",\"right_units\":\"screen\",\"top_units\":\"screen\"},\"id\":\"1710\",\"type\":\"BoxAnnotation\"},{\"attributes\":{\"callback\":null,\"data\":{\"image\":[{\"__ndarray__\":\"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\",\"dtype\":\"float64\",\"shape\":[300,15]}]},\"selected\":{\"id\":\"1708\",\"type\":\"Selection\"},\"selection_policy\":{\"id\":\"1709\",\"type\":\"UnionRenderers\"}},\"id\":\"1650\",\"type\":\"ColumnDataSource\"},{\"attributes\":{\"callback\":null},\"id\":\"1619\",\"type\":\"DataRange1d\"},{\"attributes\":{},\"id\":\"1640\",\"type\":\"SaveTool\"},{\"attributes\":{},\"id\":\"1642\",\"type\":\"HelpTool\"},{\"attributes\":{\"ticker\":{\"id\":\"1628\",\"type\":\"BasicTicker\"}},\"id\":\"1631\",\"type\":\"Grid\"},{\"attributes\":{\"overlay\":{\"id\":\"1710\",\"type\":\"BoxAnnotation\"}},\"id\":\"1639\",\"type\":\"BoxZoomTool\"},{\"attributes\":{\"source\":{\"id\":\"1650\",\"type\":\"ColumnDataSource\"}},\"id\":\"1656\",\"type\":\"CDSView\"},{\"attributes\":{\"formatter\":{\"id\":\"1704\",\"type\":\"BasicTickFormatter\"},\"ticker\":{\"id\":\"1633\",\"type\":\"BasicTicker\"}},\"id\":\"1632\",\"type\":\"LinearAxis\"},{\"attributes\":{},\"id\":\"1641\",\"type\":\"ResetTool\"},{\"attributes\":{},\"id\":\"1633\",\"type\":\"BasicTicker\"},{\"attributes\":{\"palette\":[\"#000000\",\"#252525\",\"#525252\",\"#737373\",\"#969696\",\"#bdbdbd\",\"#d9d9d9\",\"#f0f0f0\",\"#ffffff\"]},\"id\":\"1654\",\"type\":\"LinearColorMapper\"},{\"attributes\":{},\"id\":\"1638\",\"type\":\"WheelZoomTool\"},{\"attributes\":{\"data_source\":{\"id\":\"1650\",\"type\":\"ColumnDataSource\"},\"glyph\":{\"id\":\"1651\",\"type\":\"Image\"},\"hover_glyph\":null,\"muted_glyph\":null,\"nonselection_glyph\":{\"id\":\"1653\",\"type\":\"Image\"},\"selection_glyph\":null,\"view\":{\"id\":\"1656\",\"type\":\"CDSView\"}},\"id\":\"1655\",\"type\":\"GlyphRenderer\"},{\"attributes\":{},\"id\":\"1637\",\"type\":\"PanTool\"},{\"attributes\":{},\"id\":\"1706\",\"type\":\"BasicTickFormatter\"},{\"attributes\":{\"active_drag\":\"auto\",\"active_inspect\":\"auto\",\"active_multi\":null,\"active_scroll\":\"auto\",\"active_tap\":\"auto\",\"tools\":[{\"id\":\"1637\",\"type\":\"PanTool\"},{\"id\":\"1638\",\"type\":\"WheelZoomTool\"},{\"id\":\"1639\",\"type\":\"BoxZoomTool\"},{\"id\":\"1640\",\"type\":\"SaveTool\"},{\"id\":\"1641\",\"type\":\"ResetTool\"},{\"id\":\"1642\",\"type\":\"HelpTool\"}]},\"id\":\"1643\",\"type\":\"Toolbar\"},{\"attributes\":{},\"id\":\"1628\",\"type\":\"BasicTicker\"},{\"attributes\":{},\"id\":\"1704\",\"type\":\"BasicTickFormatter\"},{\"attributes\":{\"callback\":null},\"id\":\"1621\",\"type\":\"DataRange1d\"},{\"attributes\":{\"palette\":[\"#000000\",\"#252525\",\"#525252\",\"#737373\",\"#969696\",\"#bdbdbd\",\"#d9d9d9\",\"#f0f0f0\",\"#ffffff\"]},\"id\":\"1652\",\"type\":\"LinearColorMapper\"},{\"attributes\":{},\"id\":\"1625\",\"type\":\"LinearScale\"},{\"attributes\":{\"dimension\":1,\"ticker\":{\"id\":\"1633\",\"type\":\"BasicTicker\"}},\"id\":\"1636\",\"type\":\"Grid\"},{\"attributes\":{\"text\":\"\"},\"id\":\"1702\",\"type\":\"Title\"},{\"attributes\":{\"color_mapper\":{\"id\":\"1652\",\"type\":\"LinearColorMapper\"},\"dh\":{\"units\":\"data\",\"value\":1},\"dw\":{\"units\":\"data\",\"value\":1},\"image\":{\"field\":\"image\"},\"x\":{\"value\":0},\"y\":{\"value\":0}},\"id\":\"1651\",\"type\":\"Image\"},{\"attributes\":{\"formatter\":{\"id\":\"1706\",\"type\":\"BasicTickFormatter\"},\"ticker\":{\"id\":\"1628\",\"type\":\"BasicTicker\"}},\"id\":\"1627\",\"type\":\"LinearAxis\"}],\"root_ids\":[\"1618\"]},\"title\":\"Bokeh Application\",\"version\":\"1.4.0\"}};\n",
       "  var render_items = [{\"docid\":\"23430939-6624-450e-a6be-7c98c5e0d44d\",\"roots\":{\"1618\":\"70809c9b-e60d-41c1-a097-7550fc5dac2d\"}}];\n",
       "  root.Bokeh.embed.embed_items_notebook(docs_json, render_items);\n",
       "\n",
       "  }\n",
       "  if (root.Bokeh !== undefined) {\n",
       "    embed_document(root);\n",
       "  } else {\n",
       "    var attempts = 0;\n",
       "    var timer = setInterval(function(root) {\n",
       "      if (root.Bokeh !== undefined) {\n",
       "        clearInterval(timer);\n",
       "        embed_document(root);\n",
       "      } else {\n",
       "        attempts++;\n",
       "        if (attempts > 100) {\n",
       "          clearInterval(timer);\n",
       "          console.log(\"Bokeh: ERROR: Unable to run BokehJS code because BokehJS library is missing\");\n",
       "        }\n",
       "      }\n",
       "    }, 10, root)\n",
       "  }\n",
       "})(window);"
      ],
      "application/vnd.bokehjs_exec.v0+json": ""
     },
     "metadata": {
      "application/vnd.bokehjs_exec.v0+json": {
       "id": "1618"
      }
     },
     "output_type": "display_data"
    }
   ],
   "source": [
    "p = figure()\n",
    "p.image(image=[X], x=0, y=0, dw=1, dh=1)\n",
    "show(p)"
   ]
  },
  {
   "cell_type": "code",
   "execution_count": 9,
   "metadata": {},
   "outputs": [
    {
     "name": "stdout",
     "output_type": "stream",
     "text": [
      "[[0.01084059 1.16254849 0.         0.         0.         0.\n",
      "  0.         0.         0.         0.         0.         0.\n",
      "  0.         0.         0.        ]\n",
      " [0.         0.         0.79263202 0.24116181 0.         0.\n",
      "  0.         0.         0.         0.         0.         0.\n",
      "  0.         0.         0.        ]\n",
      " [0.         0.         0.         0.         0.4147573  0.72782133\n",
      "  0.         0.         0.         0.         0.         0.\n",
      "  0.         0.         0.        ]]\n"
     ]
    }
   ],
   "source": [
    "lasso = LogisticRegression(penalty='l1', C=0.03, solver='saga').fit(X, y)\n",
    "print(lasso.coef_)"
   ]
  },
  {
   "cell_type": "code",
   "execution_count": 10,
   "metadata": {},
   "outputs": [
    {
     "name": "stdout",
     "output_type": "stream",
     "text": [
      "[[ 1.73590132  1.77113221 -0.86310852 -0.85761644 -0.85332213 -0.85455327\n",
      "   0.01071637  0.01016517  0.00180089 -0.02418791  0.00921573  0.00897138\n",
      "  -0.01536883  0.0116363  -0.0168285 ]\n",
      " [-0.86451179 -0.91435821  1.72218983  1.71136093 -0.90011775 -0.90159505\n",
      "   0.01848319 -0.01558126 -0.01761291  0.01052863 -0.0300833  -0.01895903\n",
      "  -0.00823717  0.01048281 -0.00653656]\n",
      " [-0.87138953 -0.856774   -0.85908131 -0.85374449  1.75343988  1.75614832\n",
      "  -0.02919956  0.00541609  0.01581202  0.01365928  0.02086757  0.00998766\n",
      "   0.023606   -0.02211911  0.02336506]]\n"
     ]
    }
   ],
   "source": [
    "ridge = LogisticRegression(penalty='l2', C=0.5).fit(X, y)\n",
    "print(ridge.coef_)"
   ]
  },
  {
   "cell_type": "code",
   "execution_count": 11,
   "metadata": {},
   "outputs": [
    {
     "data": {
      "text/html": [
       "\n",
       "\n",
       "\n",
       "\n",
       "\n",
       "\n",
       "  <div class=\"bk-root\" id=\"e9e673f5-ab15-4d54-b582-6a8c389a9309\" data-root-id=\"1765\"></div>\n"
      ]
     },
     "metadata": {},
     "output_type": "display_data"
    },
    {
     "data": {
      "application/javascript": [
       "(function(root) {\n",
       "  function embed_document(root) {\n",
       "    \n",
       "  var docs_json = {\"ea4c981e-30e8-4a7c-8bda-72c5ae590922\":{\"roots\":{\"references\":[{\"attributes\":{\"below\":[{\"id\":\"1776\",\"type\":\"LinearAxis\"}],\"center\":[{\"id\":\"1780\",\"type\":\"Grid\"},{\"id\":\"1785\",\"type\":\"Grid\"}],\"left\":[{\"id\":\"1781\",\"type\":\"LinearAxis\"}],\"renderers\":[{\"id\":\"1800\",\"type\":\"GlyphRenderer\"},{\"id\":\"1805\",\"type\":\"GlyphRenderer\"}],\"title\":{\"id\":\"1766\",\"type\":\"Title\"},\"toolbar\":{\"id\":\"1791\",\"type\":\"Toolbar\"},\"x_range\":{\"id\":\"1768\",\"type\":\"DataRange1d\"},\"x_scale\":{\"id\":\"1772\",\"type\":\"LinearScale\"},\"y_range\":{\"id\":\"1770\",\"type\":\"DataRange1d\"},\"y_scale\":{\"id\":\"1774\",\"type\":\"LinearScale\"}},\"id\":\"1765\",\"subtype\":\"Figure\",\"type\":\"Plot\"},{\"attributes\":{\"callback\":null},\"id\":\"1770\",\"type\":\"DataRange1d\"},{\"attributes\":{\"active_drag\":\"auto\",\"active_inspect\":\"auto\",\"active_multi\":null,\"active_scroll\":\"auto\",\"active_tap\":\"auto\",\"tools\":[{\"id\":\"1786\",\"type\":\"PanTool\"},{\"id\":\"1787\",\"type\":\"WheelZoomTool\"},{\"id\":\"1788\",\"type\":\"BoxZoomTool\"},{\"id\":\"1789\",\"type\":\"SaveTool\"},{\"id\":\"1790\",\"type\":\"ResetTool\"}]},\"id\":\"1791\",\"type\":\"Toolbar\"},{\"attributes\":{\"formatter\":{\"id\":\"1864\",\"type\":\"BasicTickFormatter\"},\"ticker\":{\"id\":\"1777\",\"type\":\"BasicTicker\"}},\"id\":\"1776\",\"type\":\"LinearAxis\"},{\"attributes\":{\"source\":{\"id\":\"1797\",\"type\":\"ColumnDataSource\"}},\"id\":\"1801\",\"type\":\"CDSView\"},{\"attributes\":{\"fill_alpha\":{\"value\":0.95},\"fill_color\":{\"field\":\"fill_color\"},\"line_alpha\":{\"value\":0.95},\"line_color\":{\"field\":\"line_color\"},\"marker\":{\"value\":\"triangle\"},\"size\":{\"units\":\"screen\",\"value\":10},\"x\":{\"field\":\"x\"},\"y\":{\"field\":\"y\"}},\"id\":\"1803\",\"type\":\"Scatter\"},{\"attributes\":{\"data_source\":{\"id\":\"1802\",\"type\":\"ColumnDataSource\"},\"glyph\":{\"id\":\"1803\",\"type\":\"Scatter\"},\"hover_glyph\":null,\"muted_glyph\":null,\"nonselection_glyph\":{\"id\":\"1804\",\"type\":\"Scatter\"},\"selection_glyph\":null,\"view\":{\"id\":\"1806\",\"type\":\"CDSView\"}},\"id\":\"1805\",\"type\":\"GlyphRenderer\"},{\"attributes\":{\"formatter\":{\"id\":\"1862\",\"type\":\"BasicTickFormatter\"},\"ticker\":{\"id\":\"1782\",\"type\":\"BasicTicker\"}},\"id\":\"1781\",\"type\":\"LinearAxis\"},{\"attributes\":{\"source\":{\"id\":\"1802\",\"type\":\"ColumnDataSource\"}},\"id\":\"1806\",\"type\":\"CDSView\"},{\"attributes\":{},\"id\":\"1777\",\"type\":\"BasicTicker\"},{\"attributes\":{},\"id\":\"1862\",\"type\":\"BasicTickFormatter\"},{\"attributes\":{\"fill_alpha\":{\"value\":0.5},\"fill_color\":{\"field\":\"fill_color\"},\"line_alpha\":{\"value\":0.5},\"line_color\":{\"field\":\"line_color\"},\"size\":{\"units\":\"screen\",\"value\":5},\"x\":{\"field\":\"x\"},\"y\":{\"field\":\"y\"}},\"id\":\"1798\",\"type\":\"Scatter\"},{\"attributes\":{},\"id\":\"1864\",\"type\":\"BasicTickFormatter\"},{\"attributes\":{\"fill_alpha\":{\"value\":0.1},\"fill_color\":{\"value\":\"#1f77b4\"},\"line_alpha\":{\"value\":0.1},\"line_color\":{\"value\":\"#1f77b4\"},\"marker\":{\"value\":\"triangle\"},\"size\":{\"units\":\"screen\",\"value\":10},\"x\":{\"field\":\"x\"},\"y\":{\"field\":\"y\"}},\"id\":\"1804\",\"type\":\"Scatter\"},{\"attributes\":{\"ticker\":{\"id\":\"1777\",\"type\":\"BasicTicker\"}},\"id\":\"1780\",\"type\":\"Grid\"},{\"attributes\":{},\"id\":\"1866\",\"type\":\"Selection\"},{\"attributes\":{\"callback\":null},\"id\":\"1768\",\"type\":\"DataRange1d\"},{\"attributes\":{},\"id\":\"1782\",\"type\":\"BasicTicker\"},{\"attributes\":{},\"id\":\"1867\",\"type\":\"UnionRenderers\"},{\"attributes\":{\"dimension\":1,\"ticker\":{\"id\":\"1782\",\"type\":\"BasicTicker\"}},\"id\":\"1785\",\"type\":\"Grid\"},{\"attributes\":{},\"id\":\"1868\",\"type\":\"Selection\"},{\"attributes\":{\"data_source\":{\"id\":\"1797\",\"type\":\"ColumnDataSource\"},\"glyph\":{\"id\":\"1798\",\"type\":\"Scatter\"},\"hover_glyph\":null,\"muted_glyph\":null,\"nonselection_glyph\":{\"id\":\"1799\",\"type\":\"Scatter\"},\"selection_glyph\":null,\"view\":{\"id\":\"1801\",\"type\":\"CDSView\"}},\"id\":\"1800\",\"type\":\"GlyphRenderer\"},{\"attributes\":{\"text\":\"Radial\"},\"id\":\"1766\",\"type\":\"Title\"},{\"attributes\":{},\"id\":\"1869\",\"type\":\"UnionRenderers\"},{\"attributes\":{\"callback\":null,\"data\":{\"fill_color\":[\"#2b83ba\",\"#abdda4\",\"#ffffbf\",\"#fdae61\",\"#d7191c\"],\"line_color\":[\"#2b83ba\",\"#abdda4\",\"#ffffbf\",\"#fdae61\",\"#d7191c\"],\"x\":{\"__ndarray__\":\"8UNPQrARsT/zXz6P2fyfv6h+klCH+rO/ByZ987IHmb/dG/Iu+imxPw==\",\"dtype\":\"float64\",\"shape\":[5]},\"y\":{\"__ndarray__\":\"wyEmzVh9rD8jSFFlttK0P2bCaX7XDXG/lBdnawKktr9bSS3RBbmmvw==\",\"dtype\":\"float64\",\"shape\":[5]}},\"selected\":{\"id\":\"1868\",\"type\":\"Selection\"},\"selection_policy\":{\"id\":\"1869\",\"type\":\"UnionRenderers\"}},\"id\":\"1802\",\"type\":\"ColumnDataSource\"},{\"attributes\":{\"fill_alpha\":{\"value\":0.1},\"fill_color\":{\"value\":\"#1f77b4\"},\"line_alpha\":{\"value\":0.1},\"line_color\":{\"value\":\"#1f77b4\"},\"size\":{\"units\":\"screen\",\"value\":5},\"x\":{\"field\":\"x\"},\"y\":{\"field\":\"y\"}},\"id\":\"1799\",\"type\":\"Scatter\"},{\"attributes\":{\"bottom_units\":\"screen\",\"fill_alpha\":{\"value\":0.5},\"fill_color\":{\"value\":\"lightgrey\"},\"left_units\":\"screen\",\"level\":\"overlay\",\"line_alpha\":{\"value\":1.0},\"line_color\":{\"value\":\"black\"},\"line_dash\":[4,4],\"line_width\":{\"value\":2},\"render_mode\":\"css\",\"right_units\":\"screen\",\"top_units\":\"screen\"},\"id\":\"1870\",\"type\":\"BoxAnnotation\"},{\"attributes\":{},\"id\":\"1786\",\"type\":\"PanTool\"},{\"attributes\":{},\"id\":\"1772\",\"type\":\"LinearScale\"},{\"attributes\":{},\"id\":\"1787\",\"type\":\"WheelZoomTool\"},{\"attributes\":{\"callback\":null,\"data\":{\"fill_color\":[\"#2b83ba\",\"#2b83ba\",\"#2b83ba\",\"#2b83ba\",\"#2b83ba\",\"#2b83ba\",\"#2b83ba\",\"#2b83ba\",\"#2b83ba\",\"#2b83ba\",\"#2b83ba\",\"#2b83ba\",\"#2b83ba\",\"#2b83ba\",\"#2b83ba\",\"#2b83ba\",\"#2b83ba\",\"#2b83ba\",\"#2b83ba\",\"#2b83ba\",\"#2b83ba\",\"#2b83ba\",\"#2b83ba\",\"#2b83ba\",\"#2b83ba\",\"#2b83ba\",\"#2b83ba\",\"#2b83ba\",\"#2b83ba\",\"#2b83ba\",\"#2b83ba\",\"#2b83ba\",\"#2b83ba\",\"#2b83ba\",\"#2b83ba\",\"#2b83ba\",\"#2b83ba\",\"#2b83ba\",\"#2b83ba\",\"#2b83ba\",\"#2b83ba\",\"#2b83ba\",\"#2b83ba\",\"#2b83ba\",\"#2b83ba\",\"#2b83ba\",\"#2b83ba\",\"#2b83ba\",\"#2b83ba\",\"#2b83ba\",\"#2b83ba\",\"#2b83ba\",\"#2b83ba\",\"#2b83ba\",\"#2b83ba\",\"#2b83ba\",\"#2b83ba\",\"#2b83ba\",\"#2b83ba\",\"#2b83ba\",\"#2b83ba\",\"#2b83ba\",\"#2b83ba\",\"#2b83ba\",\"#2b83ba\",\"#2b83ba\",\"#2b83ba\",\"#2b83ba\",\"#2b83ba\",\"#2b83ba\",\"#2b83ba\",\"#2b83ba\",\"#2b83ba\",\"#2b83ba\",\"#2b83ba\",\"#2b83ba\",\"#2b83ba\",\"#2b83ba\",\"#2b83ba\",\"#2b83ba\",\"#2b83ba\",\"#2b83ba\",\"#2b83ba\",\"#2b83ba\",\"#2b83ba\",\"#2b83ba\",\"#2b83ba\",\"#2b83ba\",\"#2b83ba\",\"#2b83ba\",\"#2b83ba\",\"#2b83ba\",\"#2b83ba\",\"#2b83ba\",\"#2b83ba\",\"#2b83ba\",\"#2b83ba\",\"#2b83ba\",\"#2b83ba\",\"#2b83ba\",\"#abdda4\",\"#abdda4\",\"#abdda4\",\"#abdda4\",\"#abdda4\",\"#abdda4\",\"#abdda4\",\"#abdda4\",\"#abdda4\",\"#abdda4\",\"#abdda4\",\"#abdda4\",\"#abdda4\",\"#abdda4\",\"#abdda4\",\"#abdda4\",\"#abdda4\",\"#abdda4\",\"#abdda4\",\"#abdda4\",\"#abdda4\",\"#abdda4\",\"#abdda4\",\"#abdda4\",\"#abdda4\",\"#abdda4\",\"#abdda4\",\"#abdda4\",\"#abdda4\",\"#abdda4\",\"#abdda4\",\"#abdda4\",\"#abdda4\",\"#abdda4\",\"#abdda4\",\"#abdda4\",\"#abdda4\",\"#abdda4\",\"#abdda4\",\"#abdda4\",\"#abdda4\",\"#abdda4\",\"#abdda4\",\"#abdda4\",\"#abdda4\",\"#abdda4\",\"#abdda4\",\"#abdda4\",\"#abdda4\",\"#abdda4\",\"#abdda4\",\"#abdda4\",\"#abdda4\",\"#abdda4\",\"#abdda4\",\"#abdda4\",\"#abdda4\",\"#abdda4\",\"#abdda4\",\"#abdda4\",\"#abdda4\",\"#abdda4\",\"#abdda4\",\"#abdda4\",\"#abdda4\",\"#abdda4\",\"#abdda4\",\"#abdda4\",\"#abdda4\",\"#abdda4\",\"#abdda4\",\"#abdda4\",\"#abdda4\",\"#abdda4\",\"#abdda4\",\"#abdda4\",\"#abdda4\",\"#abdda4\",\"#abdda4\",\"#abdda4\",\"#abdda4\",\"#abdda4\",\"#abdda4\",\"#abdda4\",\"#abdda4\",\"#abdda4\",\"#abdda4\",\"#abdda4\",\"#abdda4\",\"#abdda4\",\"#abdda4\",\"#abdda4\",\"#abdda4\",\"#abdda4\",\"#abdda4\",\"#abdda4\",\"#abdda4\",\"#abdda4\",\"#abdda4\",\"#abdda4\",\"#ffffbf\",\"#ffffbf\",\"#ffffbf\",\"#ffffbf\",\"#ffffbf\",\"#ffffbf\",\"#ffffbf\",\"#ffffbf\",\"#ffffbf\",\"#ffffbf\",\"#ffffbf\",\"#ffffbf\",\"#ffffbf\",\"#ffffbf\",\"#ffffbf\",\"#ffffbf\",\"#ffffbf\",\"#ffffbf\",\"#ffffbf\",\"#ffffbf\",\"#ffffbf\",\"#ffffbf\",\"#ffffbf\",\"#ffffbf\",\"#ffffbf\",\"#ffffbf\",\"#ffffbf\",\"#ffffbf\",\"#ffffbf\",\"#ffffbf\",\"#ffffbf\",\"#ffffbf\",\"#ffffbf\",\"#ffffbf\",\"#ffffbf\",\"#ffffbf\",\"#ffffbf\",\"#ffffbf\",\"#ffffbf\",\"#ffffbf\",\"#ffffbf\",\"#ffffbf\",\"#ffffbf\",\"#ffffbf\",\"#ffffbf\",\"#ffffbf\",\"#ffffbf\",\"#ffffbf\",\"#ffffbf\",\"#ffffbf\",\"#ffffbf\",\"#ffffbf\",\"#ffffbf\",\"#ffffbf\",\"#ffffbf\",\"#ffffbf\",\"#ffffbf\",\"#ffffbf\",\"#ffffbf\",\"#ffffbf\",\"#ffffbf\",\"#ffffbf\",\"#ffffbf\",\"#ffffbf\",\"#ffffbf\",\"#ffffbf\",\"#ffffbf\",\"#ffffbf\",\"#ffffbf\",\"#ffffbf\",\"#ffffbf\",\"#ffffbf\",\"#ffffbf\",\"#ffffbf\",\"#ffffbf\",\"#ffffbf\",\"#ffffbf\",\"#ffffbf\",\"#ffffbf\",\"#ffffbf\",\"#ffffbf\",\"#ffffbf\",\"#ffffbf\",\"#ffffbf\",\"#ffffbf\",\"#ffffbf\",\"#ffffbf\",\"#ffffbf\",\"#ffffbf\",\"#ffffbf\",\"#ffffbf\",\"#ffffbf\",\"#ffffbf\",\"#ffffbf\",\"#ffffbf\",\"#ffffbf\",\"#ffffbf\",\"#ffffbf\",\"#ffffbf\",\"#ffffbf\",\"#fdae61\",\"#fdae61\",\"#fdae61\",\"#fdae61\",\"#fdae61\",\"#fdae61\",\"#fdae61\",\"#fdae61\",\"#fdae61\",\"#fdae61\",\"#fdae61\",\"#fdae61\",\"#fdae61\",\"#fdae61\",\"#fdae61\",\"#fdae61\",\"#fdae61\",\"#fdae61\",\"#fdae61\",\"#fdae61\",\"#fdae61\",\"#fdae61\",\"#fdae61\",\"#fdae61\",\"#fdae61\",\"#fdae61\",\"#fdae61\",\"#fdae61\",\"#fdae61\",\"#fdae61\",\"#fdae61\",\"#fdae61\",\"#fdae61\",\"#fdae61\",\"#fdae61\",\"#fdae61\",\"#fdae61\",\"#fdae61\",\"#fdae61\",\"#fdae61\",\"#fdae61\",\"#fdae61\",\"#fdae61\",\"#fdae61\",\"#fdae61\",\"#fdae61\",\"#fdae61\",\"#fdae61\",\"#fdae61\",\"#fdae61\",\"#fdae61\",\"#fdae61\",\"#fdae61\",\"#fdae61\",\"#fdae61\",\"#fdae61\",\"#fdae61\",\"#fdae61\",\"#fdae61\",\"#fdae61\",\"#fdae61\",\"#fdae61\",\"#fdae61\",\"#fdae61\",\"#fdae61\",\"#fdae61\",\"#fdae61\",\"#fdae61\",\"#fdae61\",\"#fdae61\",\"#fdae61\",\"#fdae61\",\"#fdae61\",\"#fdae61\",\"#fdae61\",\"#fdae61\",\"#fdae61\",\"#fdae61\",\"#fdae61\",\"#fdae61\",\"#fdae61\",\"#fdae61\",\"#fdae61\",\"#fdae61\",\"#fdae61\",\"#fdae61\",\"#fdae61\",\"#fdae61\",\"#fdae61\",\"#fdae61\",\"#fdae61\",\"#fdae61\",\"#fdae61\",\"#fdae61\",\"#fdae61\",\"#fdae61\",\"#fdae61\",\"#fdae61\",\"#fdae61\",\"#fdae61\",\"#d7191c\",\"#d7191c\",\"#d7191c\",\"#d7191c\",\"#d7191c\",\"#d7191c\",\"#d7191c\",\"#d7191c\",\"#d7191c\",\"#d7191c\",\"#d7191c\",\"#d7191c\",\"#d7191c\",\"#d7191c\",\"#d7191c\",\"#d7191c\",\"#d7191c\",\"#d7191c\",\"#d7191c\",\"#d7191c\",\"#d7191c\",\"#d7191c\",\"#d7191c\",\"#d7191c\",\"#d7191c\",\"#d7191c\",\"#d7191c\",\"#d7191c\",\"#d7191c\",\"#d7191c\",\"#d7191c\",\"#d7191c\",\"#d7191c\",\"#d7191c\",\"#d7191c\",\"#d7191c\",\"#d7191c\",\"#d7191c\",\"#d7191c\",\"#d7191c\",\"#d7191c\",\"#d7191c\",\"#d7191c\",\"#d7191c\",\"#d7191c\",\"#d7191c\",\"#d7191c\",\"#d7191c\",\"#d7191c\",\"#d7191c\",\"#d7191c\",\"#d7191c\",\"#d7191c\",\"#d7191c\",\"#d7191c\",\"#d7191c\",\"#d7191c\",\"#d7191c\",\"#d7191c\",\"#d7191c\",\"#d7191c\",\"#d7191c\",\"#d7191c\",\"#d7191c\",\"#d7191c\",\"#d7191c\",\"#d7191c\",\"#d7191c\",\"#d7191c\",\"#d7191c\",\"#d7191c\",\"#d7191c\",\"#d7191c\",\"#d7191c\",\"#d7191c\",\"#d7191c\",\"#d7191c\",\"#d7191c\",\"#d7191c\",\"#d7191c\",\"#d7191c\",\"#d7191c\",\"#d7191c\",\"#d7191c\",\"#d7191c\",\"#d7191c\",\"#d7191c\",\"#d7191c\",\"#d7191c\",\"#d7191c\",\"#d7191c\",\"#d7191c\",\"#d7191c\",\"#d7191c\",\"#d7191c\",\"#d7191c\",\"#d7191c\",\"#d7191c\",\"#d7191c\",\"#d7191c\"],\"line_color\":[\"#2b83ba\",\"#2b83ba\",\"#2b83ba\",\"#2b83ba\",\"#2b83ba\",\"#2b83ba\",\"#2b83ba\",\"#2b83ba\",\"#2b83ba\",\"#2b83ba\",\"#2b83ba\",\"#2b83ba\",\"#2b83ba\",\"#2b83ba\",\"#2b83ba\",\"#2b83ba\",\"#2b83ba\",\"#2b83ba\",\"#2b83ba\",\"#2b83ba\",\"#2b83ba\",\"#2b83ba\",\"#2b83ba\",\"#2b83ba\",\"#2b83ba\",\"#2b83ba\",\"#2b83ba\",\"#2b83ba\",\"#2b83ba\",\"#2b83ba\",\"#2b83ba\",\"#2b83ba\",\"#2b83ba\",\"#2b83ba\",\"#2b83ba\",\"#2b83ba\",\"#2b83ba\",\"#2b83ba\",\"#2b83ba\",\"#2b83ba\",\"#2b83ba\",\"#2b83ba\",\"#2b83ba\",\"#2b83ba\",\"#2b83ba\",\"#2b83ba\",\"#2b83ba\",\"#2b83ba\",\"#2b83ba\",\"#2b83ba\",\"#2b83ba\",\"#2b83ba\",\"#2b83ba\",\"#2b83ba\",\"#2b83ba\",\"#2b83ba\",\"#2b83ba\",\"#2b83ba\",\"#2b83ba\",\"#2b83ba\",\"#2b83ba\",\"#2b83ba\",\"#2b83ba\",\"#2b83ba\",\"#2b83ba\",\"#2b83ba\",\"#2b83ba\",\"#2b83ba\",\"#2b83ba\",\"#2b83ba\",\"#2b83ba\",\"#2b83ba\",\"#2b83ba\",\"#2b83ba\",\"#2b83ba\",\"#2b83ba\",\"#2b83ba\",\"#2b83ba\",\"#2b83ba\",\"#2b83ba\",\"#2b83ba\",\"#2b83ba\",\"#2b83ba\",\"#2b83ba\",\"#2b83ba\",\"#2b83ba\",\"#2b83ba\",\"#2b83ba\",\"#2b83ba\",\"#2b83ba\",\"#2b83ba\",\"#2b83ba\",\"#2b83ba\",\"#2b83ba\",\"#2b83ba\",\"#2b83ba\",\"#2b83ba\",\"#2b83ba\",\"#2b83ba\",\"#2b83ba\",\"#abdda4\",\"#abdda4\",\"#abdda4\",\"#abdda4\",\"#abdda4\",\"#abdda4\",\"#abdda4\",\"#abdda4\",\"#abdda4\",\"#abdda4\",\"#abdda4\",\"#abdda4\",\"#abdda4\",\"#abdda4\",\"#abdda4\",\"#abdda4\",\"#abdda4\",\"#abdda4\",\"#abdda4\",\"#abdda4\",\"#abdda4\",\"#abdda4\",\"#abdda4\",\"#abdda4\",\"#abdda4\",\"#abdda4\",\"#abdda4\",\"#abdda4\",\"#abdda4\",\"#abdda4\",\"#abdda4\",\"#abdda4\",\"#abdda4\",\"#abdda4\",\"#abdda4\",\"#abdda4\",\"#abdda4\",\"#abdda4\",\"#abdda4\",\"#abdda4\",\"#abdda4\",\"#abdda4\",\"#abdda4\",\"#abdda4\",\"#abdda4\",\"#abdda4\",\"#abdda4\",\"#abdda4\",\"#abdda4\",\"#abdda4\",\"#abdda4\",\"#abdda4\",\"#abdda4\",\"#abdda4\",\"#abdda4\",\"#abdda4\",\"#abdda4\",\"#abdda4\",\"#abdda4\",\"#abdda4\",\"#abdda4\",\"#abdda4\",\"#abdda4\",\"#abdda4\",\"#abdda4\",\"#abdda4\",\"#abdda4\",\"#abdda4\",\"#abdda4\",\"#abdda4\",\"#abdda4\",\"#abdda4\",\"#abdda4\",\"#abdda4\",\"#abdda4\",\"#abdda4\",\"#abdda4\",\"#abdda4\",\"#abdda4\",\"#abdda4\",\"#abdda4\",\"#abdda4\",\"#abdda4\",\"#abdda4\",\"#abdda4\",\"#abdda4\",\"#abdda4\",\"#abdda4\",\"#abdda4\",\"#abdda4\",\"#abdda4\",\"#abdda4\",\"#abdda4\",\"#abdda4\",\"#abdda4\",\"#abdda4\",\"#abdda4\",\"#abdda4\",\"#abdda4\",\"#abdda4\",\"#ffffbf\",\"#ffffbf\",\"#ffffbf\",\"#ffffbf\",\"#ffffbf\",\"#ffffbf\",\"#ffffbf\",\"#ffffbf\",\"#ffffbf\",\"#ffffbf\",\"#ffffbf\",\"#ffffbf\",\"#ffffbf\",\"#ffffbf\",\"#ffffbf\",\"#ffffbf\",\"#ffffbf\",\"#ffffbf\",\"#ffffbf\",\"#ffffbf\",\"#ffffbf\",\"#ffffbf\",\"#ffffbf\",\"#ffffbf\",\"#ffffbf\",\"#ffffbf\",\"#ffffbf\",\"#ffffbf\",\"#ffffbf\",\"#ffffbf\",\"#ffffbf\",\"#ffffbf\",\"#ffffbf\",\"#ffffbf\",\"#ffffbf\",\"#ffffbf\",\"#ffffbf\",\"#ffffbf\",\"#ffffbf\",\"#ffffbf\",\"#ffffbf\",\"#ffffbf\",\"#ffffbf\",\"#ffffbf\",\"#ffffbf\",\"#ffffbf\",\"#ffffbf\",\"#ffffbf\",\"#ffffbf\",\"#ffffbf\",\"#ffffbf\",\"#ffffbf\",\"#ffffbf\",\"#ffffbf\",\"#ffffbf\",\"#ffffbf\",\"#ffffbf\",\"#ffffbf\",\"#ffffbf\",\"#ffffbf\",\"#ffffbf\",\"#ffffbf\",\"#ffffbf\",\"#ffffbf\",\"#ffffbf\",\"#ffffbf\",\"#ffffbf\",\"#ffffbf\",\"#ffffbf\",\"#ffffbf\",\"#ffffbf\",\"#ffffbf\",\"#ffffbf\",\"#ffffbf\",\"#ffffbf\",\"#ffffbf\",\"#ffffbf\",\"#ffffbf\",\"#ffffbf\",\"#ffffbf\",\"#ffffbf\",\"#ffffbf\",\"#ffffbf\",\"#ffffbf\",\"#ffffbf\",\"#ffffbf\",\"#ffffbf\",\"#ffffbf\",\"#ffffbf\",\"#ffffbf\",\"#ffffbf\",\"#ffffbf\",\"#ffffbf\",\"#ffffbf\",\"#ffffbf\",\"#ffffbf\",\"#ffffbf\",\"#ffffbf\",\"#ffffbf\",\"#ffffbf\",\"#fdae61\",\"#fdae61\",\"#fdae61\",\"#fdae61\",\"#fdae61\",\"#fdae61\",\"#fdae61\",\"#fdae61\",\"#fdae61\",\"#fdae61\",\"#fdae61\",\"#fdae61\",\"#fdae61\",\"#fdae61\",\"#fdae61\",\"#fdae61\",\"#fdae61\",\"#fdae61\",\"#fdae61\",\"#fdae61\",\"#fdae61\",\"#fdae61\",\"#fdae61\",\"#fdae61\",\"#fdae61\",\"#fdae61\",\"#fdae61\",\"#fdae61\",\"#fdae61\",\"#fdae61\",\"#fdae61\",\"#fdae61\",\"#fdae61\",\"#fdae61\",\"#fdae61\",\"#fdae61\",\"#fdae61\",\"#fdae61\",\"#fdae61\",\"#fdae61\",\"#fdae61\",\"#fdae61\",\"#fdae61\",\"#fdae61\",\"#fdae61\",\"#fdae61\",\"#fdae61\",\"#fdae61\",\"#fdae61\",\"#fdae61\",\"#fdae61\",\"#fdae61\",\"#fdae61\",\"#fdae61\",\"#fdae61\",\"#fdae61\",\"#fdae61\",\"#fdae61\",\"#fdae61\",\"#fdae61\",\"#fdae61\",\"#fdae61\",\"#fdae61\",\"#fdae61\",\"#fdae61\",\"#fdae61\",\"#fdae61\",\"#fdae61\",\"#fdae61\",\"#fdae61\",\"#fdae61\",\"#fdae61\",\"#fdae61\",\"#fdae61\",\"#fdae61\",\"#fdae61\",\"#fdae61\",\"#fdae61\",\"#fdae61\",\"#fdae61\",\"#fdae61\",\"#fdae61\",\"#fdae61\",\"#fdae61\",\"#fdae61\",\"#fdae61\",\"#fdae61\",\"#fdae61\",\"#fdae61\",\"#fdae61\",\"#fdae61\",\"#fdae61\",\"#fdae61\",\"#fdae61\",\"#fdae61\",\"#fdae61\",\"#fdae61\",\"#fdae61\",\"#fdae61\",\"#fdae61\",\"#d7191c\",\"#d7191c\",\"#d7191c\",\"#d7191c\",\"#d7191c\",\"#d7191c\",\"#d7191c\",\"#d7191c\",\"#d7191c\",\"#d7191c\",\"#d7191c\",\"#d7191c\",\"#d7191c\",\"#d7191c\",\"#d7191c\",\"#d7191c\",\"#d7191c\",\"#d7191c\",\"#d7191c\",\"#d7191c\",\"#d7191c\",\"#d7191c\",\"#d7191c\",\"#d7191c\",\"#d7191c\",\"#d7191c\",\"#d7191c\",\"#d7191c\",\"#d7191c\",\"#d7191c\",\"#d7191c\",\"#d7191c\",\"#d7191c\",\"#d7191c\",\"#d7191c\",\"#d7191c\",\"#d7191c\",\"#d7191c\",\"#d7191c\",\"#d7191c\",\"#d7191c\",\"#d7191c\",\"#d7191c\",\"#d7191c\",\"#d7191c\",\"#d7191c\",\"#d7191c\",\"#d7191c\",\"#d7191c\",\"#d7191c\",\"#d7191c\",\"#d7191c\",\"#d7191c\",\"#d7191c\",\"#d7191c\",\"#d7191c\",\"#d7191c\",\"#d7191c\",\"#d7191c\",\"#d7191c\",\"#d7191c\",\"#d7191c\",\"#d7191c\",\"#d7191c\",\"#d7191c\",\"#d7191c\",\"#d7191c\",\"#d7191c\",\"#d7191c\",\"#d7191c\",\"#d7191c\",\"#d7191c\",\"#d7191c\",\"#d7191c\",\"#d7191c\",\"#d7191c\",\"#d7191c\",\"#d7191c\",\"#d7191c\",\"#d7191c\",\"#d7191c\",\"#d7191c\",\"#d7191c\",\"#d7191c\",\"#d7191c\",\"#d7191c\",\"#d7191c\",\"#d7191c\",\"#d7191c\",\"#d7191c\",\"#d7191c\",\"#d7191c\",\"#d7191c\",\"#d7191c\",\"#d7191c\",\"#d7191c\",\"#d7191c\",\"#d7191c\",\"#d7191c\",\"#d7191c\"],\"x\":{\"__ndarray__\":\"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\",\"dtype\":\"float64\",\"shape\":[500]},\"y\":{\"__ndarray__\":\"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\",\"dtype\":\"float64\",\"shape\":[500]}},\"selected\":{\"id\":\"1866\",\"type\":\"Selection\"},\"selection_policy\":{\"id\":\"1867\",\"type\":\"UnionRenderers\"}},\"id\":\"1797\",\"type\":\"ColumnDataSource\"},{\"attributes\":{\"overlay\":{\"id\":\"1870\",\"type\":\"BoxAnnotation\"}},\"id\":\"1788\",\"type\":\"BoxZoomTool\"},{\"attributes\":{},\"id\":\"1789\",\"type\":\"SaveTool\"},{\"attributes\":{},\"id\":\"1774\",\"type\":\"LinearScale\"},{\"attributes\":{},\"id\":\"1790\",\"type\":\"ResetTool\"}],\"root_ids\":[\"1765\"]},\"title\":\"Bokeh Application\",\"version\":\"1.4.0\"}};\n",
       "  var render_items = [{\"docid\":\"ea4c981e-30e8-4a7c-8bda-72c5ae590922\",\"roots\":{\"1765\":\"e9e673f5-ab15-4d54-b582-6a8c389a9309\"}}];\n",
       "  root.Bokeh.embed.embed_items_notebook(docs_json, render_items);\n",
       "\n",
       "  }\n",
       "  if (root.Bokeh !== undefined) {\n",
       "    embed_document(root);\n",
       "  } else {\n",
       "    var attempts = 0;\n",
       "    var timer = setInterval(function(root) {\n",
       "      if (root.Bokeh !== undefined) {\n",
       "        clearInterval(timer);\n",
       "        embed_document(root);\n",
       "      } else {\n",
       "        attempts++;\n",
       "        if (attempts > 100) {\n",
       "          clearInterval(timer);\n",
       "          console.log(\"Bokeh: ERROR: Unable to run BokehJS code because BokehJS library is missing\");\n",
       "        }\n",
       "      }\n",
       "    }, 10, root)\n",
       "  }\n",
       "})(window);"
      ],
      "application/vnd.bokehjs_exec.v0+json": ""
     },
     "metadata": {
      "application/vnd.bokehjs_exec.v0+json": {
       "id": "1765"
      }
     },
     "output_type": "display_data"
    }
   ],
   "source": [
    "from soydata.data import make_radial\n",
    "from soydata.visualize import scatterplot\n",
    "\n",
    "n_classes = 5\n",
    "X, labels = make_radial(n_samples_per_cluster=100, n_classes=n_classes, \n",
    "    n_clusters_per_class=1, gap=0.3, equal_proportion=True,\n",
    "    radius_min=0.1, radius_scale=1.0, radius_variance=0.5)\n",
    "\n",
    "ridge = LogisticRegression(penalty='l2', C=0.001).fit(X, labels)\n",
    "p = scatterplot(X, labels=labels, title='Radial', alpha=0.5, show_inline=False)\n",
    "p = scatterplot(ridge.coef_, labels=np.arange(n_classes), marker='triangle', size=10, p=p)"
   ]
  },
  {
   "cell_type": "code",
   "execution_count": 12,
   "metadata": {},
   "outputs": [
    {
     "data": {
      "text/html": [
       "\n",
       "\n",
       "\n",
       "\n",
       "\n",
       "\n",
       "  <div class=\"bk-root\" id=\"7a933d96-9563-45ab-a561-1e7840c90ccc\" data-root-id=\"1931\"></div>\n"
      ]
     },
     "metadata": {},
     "output_type": "display_data"
    },
    {
     "data": {
      "application/javascript": [
       "(function(root) {\n",
       "  function embed_document(root) {\n",
       "    \n",
       "  var docs_json = {\"83a97b40-53cd-43fe-860c-bf6b1189afa1\":{\"roots\":{\"references\":[{\"attributes\":{\"below\":[{\"id\":\"1942\",\"type\":\"LinearAxis\"}],\"center\":[{\"id\":\"1946\",\"type\":\"Grid\"},{\"id\":\"1951\",\"type\":\"Grid\"}],\"left\":[{\"id\":\"1947\",\"type\":\"LinearAxis\"}],\"renderers\":[{\"id\":\"1966\",\"type\":\"GlyphRenderer\"},{\"id\":\"1971\",\"type\":\"GlyphRenderer\"}],\"title\":{\"id\":\"1932\",\"type\":\"Title\"},\"toolbar\":{\"id\":\"1957\",\"type\":\"Toolbar\"},\"x_range\":{\"id\":\"1934\",\"type\":\"DataRange1d\"},\"x_scale\":{\"id\":\"1938\",\"type\":\"LinearScale\"},\"y_range\":{\"id\":\"1936\",\"type\":\"DataRange1d\"},\"y_scale\":{\"id\":\"1940\",\"type\":\"LinearScale\"}},\"id\":\"1931\",\"subtype\":\"Figure\",\"type\":\"Plot\"},{\"attributes\":{\"active_drag\":\"auto\",\"active_inspect\":\"auto\",\"active_multi\":null,\"active_scroll\":\"auto\",\"active_tap\":\"auto\",\"tools\":[{\"id\":\"1952\",\"type\":\"PanTool\"},{\"id\":\"1953\",\"type\":\"WheelZoomTool\"},{\"id\":\"1954\",\"type\":\"BoxZoomTool\"},{\"id\":\"1955\",\"type\":\"SaveTool\"},{\"id\":\"1956\",\"type\":\"ResetTool\"}]},\"id\":\"1957\",\"type\":\"Toolbar\"},{\"attributes\":{\"overlay\":{\"id\":\"2046\",\"type\":\"BoxAnnotation\"}},\"id\":\"1954\",\"type\":\"BoxZoomTool\"},{\"attributes\":{\"text\":\"Radial\"},\"id\":\"1932\",\"type\":\"Title\"},{\"attributes\":{\"data_source\":{\"id\":\"1963\",\"type\":\"ColumnDataSource\"},\"glyph\":{\"id\":\"1964\",\"type\":\"Scatter\"},\"hover_glyph\":null,\"muted_glyph\":null,\"nonselection_glyph\":{\"id\":\"1965\",\"type\":\"Scatter\"},\"selection_glyph\":null,\"view\":{\"id\":\"1967\",\"type\":\"CDSView\"}},\"id\":\"1966\",\"type\":\"GlyphRenderer\"},{\"attributes\":{},\"id\":\"1943\",\"type\":\"BasicTicker\"},{\"attributes\":{\"fill_alpha\":{\"value\":0.1},\"fill_color\":{\"value\":\"#1f77b4\"},\"line_alpha\":{\"value\":0.1},\"line_color\":{\"value\":\"#1f77b4\"},\"size\":{\"units\":\"screen\",\"value\":5},\"x\":{\"field\":\"x\"},\"y\":{\"field\":\"y\"}},\"id\":\"1965\",\"type\":\"Scatter\"},{\"attributes\":{},\"id\":\"1952\",\"type\":\"PanTool\"},{\"attributes\":{\"source\":{\"id\":\"1963\",\"type\":\"ColumnDataSource\"}},\"id\":\"1967\",\"type\":\"CDSView\"},{\"attributes\":{\"formatter\":{\"id\":\"2040\",\"type\":\"BasicTickFormatter\"},\"ticker\":{\"id\":\"1943\",\"type\":\"BasicTicker\"}},\"id\":\"1942\",\"type\":\"LinearAxis\"},{\"attributes\":{\"ticker\":{\"id\":\"1943\",\"type\":\"BasicTicker\"}},\"id\":\"1946\",\"type\":\"Grid\"},{\"attributes\":{\"dimension\":1,\"ticker\":{\"id\":\"1948\",\"type\":\"BasicTicker\"}},\"id\":\"1951\",\"type\":\"Grid\"},{\"attributes\":{},\"id\":\"1953\",\"type\":\"WheelZoomTool\"},{\"attributes\":{},\"id\":\"2042\",\"type\":\"Selection\"},{\"attributes\":{\"callback\":null,\"data\":{\"fill_color\":[\"#B8D992\",\"#BE83AB\",\"#78CCD0\"],\"line_color\":[\"#B8D992\",\"#BE83AB\",\"#78CCD0\"],\"x\":{\"__ndarray__\":\"2/BT9ayr4j+FDyOQ2gzDv/hZlqLs0Nu/\",\"dtype\":\"float64\",\"shape\":[3]},\"y\":{\"__ndarray__\":\"ItVfaT87pz9l7o6LNIHVPwTpunicaNi/\",\"dtype\":\"float64\",\"shape\":[3]}},\"selected\":{\"id\":\"2044\",\"type\":\"Selection\"},\"selection_policy\":{\"id\":\"2045\",\"type\":\"UnionRenderers\"}},\"id\":\"1968\",\"type\":\"ColumnDataSource\"},{\"attributes\":{\"fill_alpha\":{\"value\":0.95},\"fill_color\":{\"field\":\"fill_color\"},\"line_alpha\":{\"value\":0.95},\"line_color\":{\"field\":\"line_color\"},\"marker\":{\"value\":\"triangle\"},\"size\":{\"units\":\"screen\",\"value\":10},\"x\":{\"field\":\"x\"},\"y\":{\"field\":\"y\"}},\"id\":\"1969\",\"type\":\"Scatter\"},{\"attributes\":{\"fill_alpha\":{\"value\":0.1},\"fill_color\":{\"value\":\"#1f77b4\"},\"line_alpha\":{\"value\":0.1},\"line_color\":{\"value\":\"#1f77b4\"},\"marker\":{\"value\":\"triangle\"},\"size\":{\"units\":\"screen\",\"value\":10},\"x\":{\"field\":\"x\"},\"y\":{\"field\":\"y\"}},\"id\":\"1970\",\"type\":\"Scatter\"},{\"attributes\":{},\"id\":\"1956\",\"type\":\"ResetTool\"},{\"attributes\":{\"data_source\":{\"id\":\"1968\",\"type\":\"ColumnDataSource\"},\"glyph\":{\"id\":\"1969\",\"type\":\"Scatter\"},\"hover_glyph\":null,\"muted_glyph\":null,\"nonselection_glyph\":{\"id\":\"1970\",\"type\":\"Scatter\"},\"selection_glyph\":null,\"view\":{\"id\":\"1972\",\"type\":\"CDSView\"}},\"id\":\"1971\",\"type\":\"GlyphRenderer\"},{\"attributes\":{\"source\":{\"id\":\"1968\",\"type\":\"ColumnDataSource\"}},\"id\":\"1972\",\"type\":\"CDSView\"},{\"attributes\":{},\"id\":\"1955\",\"type\":\"SaveTool\"},{\"attributes\":{},\"id\":\"2038\",\"type\":\"BasicTickFormatter\"},{\"attributes\":{},\"id\":\"2040\",\"type\":\"BasicTickFormatter\"},{\"attributes\":{\"fill_alpha\":{\"value\":0.5},\"fill_color\":{\"field\":\"fill_color\"},\"line_alpha\":{\"value\":0.5},\"line_color\":{\"field\":\"line_color\"},\"size\":{\"units\":\"screen\",\"value\":5},\"x\":{\"field\":\"x\"},\"y\":{\"field\":\"y\"}},\"id\":\"1964\",\"type\":\"Scatter\"},{\"attributes\":{},\"id\":\"2043\",\"type\":\"UnionRenderers\"},{\"attributes\":{\"formatter\":{\"id\":\"2038\",\"type\":\"BasicTickFormatter\"},\"ticker\":{\"id\":\"1948\",\"type\":\"BasicTicker\"}},\"id\":\"1947\",\"type\":\"LinearAxis\"},{\"attributes\":{},\"id\":\"2044\",\"type\":\"Selection\"},{\"attributes\":{\"callback\":null},\"id\":\"1936\",\"type\":\"DataRange1d\"},{\"attributes\":{},\"id\":\"2045\",\"type\":\"UnionRenderers\"},{\"attributes\":{\"callback\":null,\"data\":{\"fill_color\":[\"#B8D992\",\"#B8D992\",\"#B8D992\",\"#B8D992\",\"#B8D992\",\"#B8D992\",\"#B8D992\",\"#B8D992\",\"#B8D992\",\"#B8D992\",\"#B8D992\",\"#B8D992\",\"#B8D992\",\"#B8D992\",\"#B8D992\",\"#B8D992\",\"#B8D992\",\"#B8D992\",\"#B8D992\",\"#B8D992\",\"#B8D992\",\"#B8D992\",\"#B8D992\",\"#B8D992\",\"#B8D992\",\"#B8D992\",\"#B8D992\",\"#B8D992\",\"#B8D992\",\"#B8D992\",\"#B8D992\",\"#B8D992\",\"#B8D992\",\"#B8D992\",\"#B8D992\",\"#B8D992\",\"#B8D992\",\"#B8D992\",\"#B8D992\",\"#B8D992\",\"#B8D992\",\"#B8D992\",\"#B8D992\",\"#B8D992\",\"#B8D992\",\"#B8D992\",\"#B8D992\",\"#B8D992\",\"#B8D992\",\"#B8D992\",\"#B8D992\",\"#B8D992\",\"#B8D992\",\"#B8D992\",\"#B8D992\",\"#B8D992\",\"#B8D992\",\"#B8D992\",\"#B8D992\",\"#B8D992\",\"#B8D992\",\"#B8D992\",\"#B8D992\",\"#B8D992\",\"#B8D992\",\"#B8D992\",\"#B8D992\",\"#B8D992\",\"#B8D992\",\"#B8D992\",\"#B8D992\",\"#B8D992\",\"#B8D992\",\"#B8D992\",\"#B8D992\",\"#B8D992\",\"#B8D992\",\"#B8D992\",\"#B8D992\",\"#B8D992\",\"#B8D992\",\"#B8D992\",\"#B8D992\",\"#B8D992\",\"#B8D992\",\"#B8D992\",\"#B8D992\",\"#B8D992\",\"#B8D992\",\"#B8D992\",\"#B8D992\",\"#B8D992\",\"#B8D992\",\"#B8D992\",\"#B8D992\",\"#B8D992\",\"#B8D992\",\"#B8D992\",\"#B8D992\",\"#B8D992\",\"#BE83AB\",\"#BE83AB\",\"#BE83AB\",\"#BE83AB\",\"#BE83AB\",\"#BE83AB\",\"#BE83AB\",\"#BE83AB\",\"#BE83AB\",\"#BE83AB\",\"#BE83AB\",\"#BE83AB\",\"#BE83AB\",\"#BE83AB\",\"#BE83AB\",\"#BE83AB\",\"#BE83AB\",\"#BE83AB\",\"#BE83AB\",\"#BE83AB\",\"#BE83AB\",\"#BE83AB\",\"#BE83AB\",\"#BE83AB\",\"#BE83AB\",\"#BE83AB\",\"#BE83AB\",\"#BE83AB\",\"#BE83AB\",\"#BE83AB\",\"#BE83AB\",\"#BE83AB\",\"#BE83AB\",\"#BE83AB\",\"#BE83AB\",\"#BE83AB\",\"#BE83AB\",\"#BE83AB\",\"#BE83AB\",\"#BE83AB\",\"#BE83AB\",\"#BE83AB\",\"#BE83AB\",\"#BE83AB\",\"#BE83AB\",\"#BE83AB\",\"#BE83AB\",\"#BE83AB\",\"#BE83AB\",\"#BE83AB\",\"#BE83AB\",\"#BE83AB\",\"#BE83AB\",\"#BE83AB\",\"#BE83AB\",\"#BE83AB\",\"#BE83AB\",\"#BE83AB\",\"#BE83AB\",\"#BE83AB\",\"#BE83AB\",\"#BE83AB\",\"#BE83AB\",\"#BE83AB\",\"#BE83AB\",\"#BE83AB\",\"#BE83AB\",\"#BE83AB\",\"#BE83AB\",\"#BE83AB\",\"#BE83AB\",\"#BE83AB\",\"#BE83AB\",\"#BE83AB\",\"#BE83AB\",\"#BE83AB\",\"#BE83AB\",\"#BE83AB\",\"#BE83AB\",\"#BE83AB\",\"#BE83AB\",\"#BE83AB\",\"#BE83AB\",\"#BE83AB\",\"#BE83AB\",\"#BE83AB\",\"#BE83AB\",\"#BE83AB\",\"#BE83AB\",\"#BE83AB\",\"#BE83AB\",\"#BE83AB\",\"#BE83AB\",\"#BE83AB\",\"#BE83AB\",\"#BE83AB\",\"#BE83AB\",\"#BE83AB\",\"#BE83AB\",\"#BE83AB\",\"#78CCD0\",\"#78CCD0\",\"#78CCD0\",\"#78CCD0\",\"#78CCD0\",\"#78CCD0\",\"#78CCD0\",\"#78CCD0\",\"#78CCD0\",\"#78CCD0\",\"#78CCD0\",\"#78CCD0\",\"#78CCD0\",\"#78CCD0\",\"#78CCD0\",\"#78CCD0\",\"#78CCD0\",\"#78CCD0\",\"#78CCD0\",\"#78CCD0\",\"#78CCD0\",\"#78CCD0\",\"#78CCD0\",\"#78CCD0\",\"#78CCD0\",\"#78CCD0\",\"#78CCD0\",\"#78CCD0\",\"#78CCD0\",\"#78CCD0\",\"#78CCD0\",\"#78CCD0\",\"#78CCD0\",\"#78CCD0\",\"#78CCD0\",\"#78CCD0\",\"#78CCD0\",\"#78CCD0\",\"#78CCD0\",\"#78CCD0\",\"#78CCD0\",\"#78CCD0\",\"#78CCD0\",\"#78CCD0\",\"#78CCD0\",\"#78CCD0\",\"#78CCD0\",\"#78CCD0\",\"#78CCD0\",\"#78CCD0\",\"#78CCD0\",\"#78CCD0\",\"#78CCD0\",\"#78CCD0\",\"#78CCD0\",\"#78CCD0\",\"#78CCD0\",\"#78CCD0\",\"#78CCD0\",\"#78CCD0\",\"#78CCD0\",\"#78CCD0\",\"#78CCD0\",\"#78CCD0\",\"#78CCD0\",\"#78CCD0\",\"#78CCD0\",\"#78CCD0\",\"#78CCD0\",\"#78CCD0\",\"#78CCD0\",\"#78CCD0\",\"#78CCD0\",\"#78CCD0\",\"#78CCD0\",\"#78CCD0\",\"#78CCD0\",\"#78CCD0\",\"#78CCD0\",\"#78CCD0\",\"#78CCD0\",\"#78CCD0\",\"#78CCD0\",\"#78CCD0\",\"#78CCD0\",\"#78CCD0\",\"#78CCD0\",\"#78CCD0\",\"#78CCD0\",\"#78CCD0\",\"#78CCD0\",\"#78CCD0\",\"#78CCD0\",\"#78CCD0\",\"#78CCD0\",\"#78CCD0\",\"#78CCD0\",\"#78CCD0\",\"#78CCD0\",\"#78CCD0\"],\"line_color\":[\"#B8D992\",\"#B8D992\",\"#B8D992\",\"#B8D992\",\"#B8D992\",\"#B8D992\",\"#B8D992\",\"#B8D992\",\"#B8D992\",\"#B8D992\",\"#B8D992\",\"#B8D992\",\"#B8D992\",\"#B8D992\",\"#B8D992\",\"#B8D992\",\"#B8D992\",\"#B8D992\",\"#B8D992\",\"#B8D992\",\"#B8D992\",\"#B8D992\",\"#B8D992\",\"#B8D992\",\"#B8D992\",\"#B8D992\",\"#B8D992\",\"#B8D992\",\"#B8D992\",\"#B8D992\",\"#B8D992\",\"#B8D992\",\"#B8D992\",\"#B8D992\",\"#B8D992\",\"#B8D992\",\"#B8D992\",\"#B8D992\",\"#B8D992\",\"#B8D992\",\"#B8D992\",\"#B8D992\",\"#B8D992\",\"#B8D992\",\"#B8D992\",\"#B8D992\",\"#B8D992\",\"#B8D992\",\"#B8D992\",\"#B8D992\",\"#B8D992\",\"#B8D992\",\"#B8D992\",\"#B8D992\",\"#B8D992\",\"#B8D992\",\"#B8D992\",\"#B8D992\",\"#B8D992\",\"#B8D992\",\"#B8D992\",\"#B8D992\",\"#B8D992\",\"#B8D992\",\"#B8D992\",\"#B8D992\",\"#B8D992\",\"#B8D992\",\"#B8D992\",\"#B8D992\",\"#B8D992\",\"#B8D992\",\"#B8D992\",\"#B8D992\",\"#B8D992\",\"#B8D992\",\"#B8D992\",\"#B8D992\",\"#B8D992\",\"#B8D992\",\"#B8D992\",\"#B8D992\",\"#B8D992\",\"#B8D992\",\"#B8D992\",\"#B8D992\",\"#B8D992\",\"#B8D992\",\"#B8D992\",\"#B8D992\",\"#B8D992\",\"#B8D992\",\"#B8D992\",\"#B8D992\",\"#B8D992\",\"#B8D992\",\"#B8D992\",\"#B8D992\",\"#B8D992\",\"#B8D992\",\"#BE83AB\",\"#BE83AB\",\"#BE83AB\",\"#BE83AB\",\"#BE83AB\",\"#BE83AB\",\"#BE83AB\",\"#BE83AB\",\"#BE83AB\",\"#BE83AB\",\"#BE83AB\",\"#BE83AB\",\"#BE83AB\",\"#BE83AB\",\"#BE83AB\",\"#BE83AB\",\"#BE83AB\",\"#BE83AB\",\"#BE83AB\",\"#BE83AB\",\"#BE83AB\",\"#BE83AB\",\"#BE83AB\",\"#BE83AB\",\"#BE83AB\",\"#BE83AB\",\"#BE83AB\",\"#BE83AB\",\"#BE83AB\",\"#BE83AB\",\"#BE83AB\",\"#BE83AB\",\"#BE83AB\",\"#BE83AB\",\"#BE83AB\",\"#BE83AB\",\"#BE83AB\",\"#BE83AB\",\"#BE83AB\",\"#BE83AB\",\"#BE83AB\",\"#BE83AB\",\"#BE83AB\",\"#BE83AB\",\"#BE83AB\",\"#BE83AB\",\"#BE83AB\",\"#BE83AB\",\"#BE83AB\",\"#BE83AB\",\"#BE83AB\",\"#BE83AB\",\"#BE83AB\",\"#BE83AB\",\"#BE83AB\",\"#BE83AB\",\"#BE83AB\",\"#BE83AB\",\"#BE83AB\",\"#BE83AB\",\"#BE83AB\",\"#BE83AB\",\"#BE83AB\",\"#BE83AB\",\"#BE83AB\",\"#BE83AB\",\"#BE83AB\",\"#BE83AB\",\"#BE83AB\",\"#BE83AB\",\"#BE83AB\",\"#BE83AB\",\"#BE83AB\",\"#BE83AB\",\"#BE83AB\",\"#BE83AB\",\"#BE83AB\",\"#BE83AB\",\"#BE83AB\",\"#BE83AB\",\"#BE83AB\",\"#BE83AB\",\"#BE83AB\",\"#BE83AB\",\"#BE83AB\",\"#BE83AB\",\"#BE83AB\",\"#BE83AB\",\"#BE83AB\",\"#BE83AB\",\"#BE83AB\",\"#BE83AB\",\"#BE83AB\",\"#BE83AB\",\"#BE83AB\",\"#BE83AB\",\"#BE83AB\",\"#BE83AB\",\"#BE83AB\",\"#BE83AB\",\"#78CCD0\",\"#78CCD0\",\"#78CCD0\",\"#78CCD0\",\"#78CCD0\",\"#78CCD0\",\"#78CCD0\",\"#78CCD0\",\"#78CCD0\",\"#78CCD0\",\"#78CCD0\",\"#78CCD0\",\"#78CCD0\",\"#78CCD0\",\"#78CCD0\",\"#78CCD0\",\"#78CCD0\",\"#78CCD0\",\"#78CCD0\",\"#78CCD0\",\"#78CCD0\",\"#78CCD0\",\"#78CCD0\",\"#78CCD0\",\"#78CCD0\",\"#78CCD0\",\"#78CCD0\",\"#78CCD0\",\"#78CCD0\",\"#78CCD0\",\"#78CCD0\",\"#78CCD0\",\"#78CCD0\",\"#78CCD0\",\"#78CCD0\",\"#78CCD0\",\"#78CCD0\",\"#78CCD0\",\"#78CCD0\",\"#78CCD0\",\"#78CCD0\",\"#78CCD0\",\"#78CCD0\",\"#78CCD0\",\"#78CCD0\",\"#78CCD0\",\"#78CCD0\",\"#78CCD0\",\"#78CCD0\",\"#78CCD0\",\"#78CCD0\",\"#78CCD0\",\"#78CCD0\",\"#78CCD0\",\"#78CCD0\",\"#78CCD0\",\"#78CCD0\",\"#78CCD0\",\"#78CCD0\",\"#78CCD0\",\"#78CCD0\",\"#78CCD0\",\"#78CCD0\",\"#78CCD0\",\"#78CCD0\",\"#78CCD0\",\"#78CCD0\",\"#78CCD0\",\"#78CCD0\",\"#78CCD0\",\"#78CCD0\",\"#78CCD0\",\"#78CCD0\",\"#78CCD0\",\"#78CCD0\",\"#78CCD0\",\"#78CCD0\",\"#78CCD0\",\"#78CCD0\",\"#78CCD0\",\"#78CCD0\",\"#78CCD0\",\"#78CCD0\",\"#78CCD0\",\"#78CCD0\",\"#78CCD0\",\"#78CCD0\",\"#78CCD0\",\"#78CCD0\",\"#78CCD0\",\"#78CCD0\",\"#78CCD0\",\"#78CCD0\",\"#78CCD0\",\"#78CCD0\",\"#78CCD0\",\"#78CCD0\",\"#78CCD0\",\"#78CCD0\",\"#78CCD0\"],\"x\":{\"__ndarray__\":\"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\",\"dtype\":\"float64\",\"shape\":[300]},\"y\":{\"__ndarray__\":\"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\",\"dtype\":\"float64\",\"shape\":[300]}},\"selected\":{\"id\":\"2042\",\"type\":\"Selection\"},\"selection_policy\":{\"id\":\"2043\",\"type\":\"UnionRenderers\"}},\"id\":\"1963\",\"type\":\"ColumnDataSource\"},{\"attributes\":{},\"id\":\"1948\",\"type\":\"BasicTicker\"},{\"attributes\":{\"bottom_units\":\"screen\",\"fill_alpha\":{\"value\":0.5},\"fill_color\":{\"value\":\"lightgrey\"},\"left_units\":\"screen\",\"level\":\"overlay\",\"line_alpha\":{\"value\":1.0},\"line_color\":{\"value\":\"black\"},\"line_dash\":[4,4],\"line_width\":{\"value\":2},\"render_mode\":\"css\",\"right_units\":\"screen\",\"top_units\":\"screen\"},\"id\":\"2046\",\"type\":\"BoxAnnotation\"},{\"attributes\":{\"callback\":null},\"id\":\"1934\",\"type\":\"DataRange1d\"},{\"attributes\":{},\"id\":\"1938\",\"type\":\"LinearScale\"},{\"attributes\":{},\"id\":\"1940\",\"type\":\"LinearScale\"}],\"root_ids\":[\"1931\"]},\"title\":\"Bokeh Application\",\"version\":\"1.4.0\"}};\n",
       "  var render_items = [{\"docid\":\"83a97b40-53cd-43fe-860c-bf6b1189afa1\",\"roots\":{\"1931\":\"7a933d96-9563-45ab-a561-1e7840c90ccc\"}}];\n",
       "  root.Bokeh.embed.embed_items_notebook(docs_json, render_items);\n",
       "\n",
       "  }\n",
       "  if (root.Bokeh !== undefined) {\n",
       "    embed_document(root);\n",
       "  } else {\n",
       "    var attempts = 0;\n",
       "    var timer = setInterval(function(root) {\n",
       "      if (root.Bokeh !== undefined) {\n",
       "        clearInterval(timer);\n",
       "        embed_document(root);\n",
       "      } else {\n",
       "        attempts++;\n",
       "        if (attempts > 100) {\n",
       "          clearInterval(timer);\n",
       "          console.log(\"Bokeh: ERROR: Unable to run BokehJS code because BokehJS library is missing\");\n",
       "        }\n",
       "      }\n",
       "    }, 10, root)\n",
       "  }\n",
       "})(window);"
      ],
      "application/vnd.bokehjs_exec.v0+json": ""
     },
     "metadata": {
      "application/vnd.bokehjs_exec.v0+json": {
       "id": "1931"
      }
     },
     "output_type": "display_data"
    }
   ],
   "source": [
    "X_ = X[np.where(labels < 3)[0]]\n",
    "labels_ = labels[np.where(labels < 3)[0]]\n",
    "ridge = LogisticRegression(penalty='l2', C=0.01).fit(X_, labels_)\n",
    "p = scatterplot(X_, labels=labels_, title='Radial', alpha=0.5, show_inline=False)\n",
    "p = scatterplot(ridge.coef_, labels=np.arange(3), marker='triangle', size=10, p=p)"
   ]
  },
  {
   "cell_type": "code",
   "execution_count": null,
   "metadata": {},
   "outputs": [],
   "source": []
  }
 ],
 "metadata": {
  "kernelspec": {
   "display_name": "Python 3",
   "language": "python",
   "name": "python3"
  },
  "language_info": {
   "codemirror_mode": {
    "name": "ipython",
    "version": 3
   },
   "file_extension": ".py",
   "mimetype": "text/x-python",
   "name": "python",
   "nbconvert_exporter": "python",
   "pygments_lexer": "ipython3",
   "version": "3.7.1"
  }
 },
 "nbformat": 4,
 "nbformat_minor": 2
}
