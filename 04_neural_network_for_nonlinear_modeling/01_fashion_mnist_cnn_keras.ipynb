{
 "cells": [
  {
   "cell_type": "markdown",
   "metadata": {},
   "source": [
    "Keras 는 scikit-learn 수준으로 추상화 되어 있는 패키지 입니다. Keras 의 간단한 모델 설정 함수들을 실행하면 그 안에서 tensorflow 의 여러 함수들이 실행됩니다. 즉 keras 는 backend 로 tensorflow 를 이용합니다. 그렇기 때문에 반드시 tensorflow 를 설치해야 합니다. 그리고 tensorflow 2.x 부터는 Keras 가 tensorflow 의 내부에 포함되어 있습니다. 이를 위해서 tensorflow 를 설치하세요. 이 때 tensorflow 가 이용하는 몇몇 패키지들이 다른 패키지들과 충돌을 일으킬 수 있기 때문에 가능하면 가상환경을 만드신 다음에 설치하시는걸 권장드립니다.\n",
    "\n",
    "```\n",
    "pip install upgrade tensorflow\n",
    "```"
   ]
  },
  {
   "cell_type": "code",
   "execution_count": 1,
   "metadata": {},
   "outputs": [
    {
     "name": "stdout",
     "output_type": "stream",
     "text": [
      "keras==2.4.0\n",
      "tensorflow==2.3.0\n"
     ]
    }
   ],
   "source": [
    "import tensorflow\n",
    "from tensorflow import keras\n",
    "\n",
    "print(f'keras=={keras.__version__}')\n",
    "print(f'tensorflow=={tensorflow.__version__}')"
   ]
  },
  {
   "cell_type": "markdown",
   "metadata": {},
   "source": [
    "00 의 Feed forward neural network 의 실습에 이용했던 fashion-MNIST 데이터를 이용합니다."
   ]
  },
  {
   "cell_type": "code",
   "execution_count": 2,
   "metadata": {},
   "outputs": [],
   "source": [
    "import sys\n",
    "mnist_utils_path = '../../../fashion-mnist/utils/'\n",
    "mnist_data_path  = '../../../fashion-mnist/data/fashion/'\n",
    "sys.path.append(mnist_utils_path)"
   ]
  },
  {
   "cell_type": "markdown",
   "metadata": {},
   "source": [
    "학습용 데이터와 테스트용 데이터를 모두 불러옵니다. `numpy.unique()` 를 이용하면 클래스 개수를 확인할 수 있습니다."
   ]
  },
  {
   "cell_type": "code",
   "execution_count": 3,
   "metadata": {},
   "outputs": [
    {
     "name": "stdout",
     "output_type": "stream",
     "text": [
      "(60000, 784)\n",
      "(60000,)\n",
      "(10000, 784)\n",
      "(10000,)\n",
      "10\n"
     ]
    }
   ],
   "source": [
    "import numpy as np\n",
    "from mnist_reader import load_mnist\n",
    "\n",
    "train, train_labels = load_mnist(mnist_data_path, kind='train')\n",
    "test, test_labels   = load_mnist(mnist_data_path, kind='t10k')\n",
    "\n",
    "n_classes = np.unique(train_labels).shape[0]\n",
    "\n",
    "print(train.shape)\n",
    "print(train_labels.shape)\n",
    "print(test.shape)\n",
    "print(test_labels.shape)\n",
    "print(n_classes)"
   ]
  },
  {
   "cell_type": "markdown",
   "metadata": {},
   "source": [
    "이미지는 여러 개의 체널로 구성됩니다. 이미지의 크기를 (height, width, channel) 로 혹은 (channel, height, width) 로 정의할 수 있습니다. 지금 이용하는 tensorflow 의 형식을 확인합니다."
   ]
  },
  {
   "cell_type": "code",
   "execution_count": 4,
   "metadata": {},
   "outputs": [
    {
     "data": {
      "text/plain": [
       "'channels_last'"
      ]
     },
     "execution_count": 4,
     "metadata": {},
     "output_type": "execute_result"
    }
   ],
   "source": [
    "from tensorflow.keras import backend as K\n",
    "\n",
    "K.image_data_format()"
   ]
  },
  {
   "cell_type": "markdown",
   "metadata": {},
   "source": [
    "이미지의 크기를 표현하는 방법에 따라 input shape 을 다르게 정의하며, (n data, channel, height, width) 혹은 (n data, height, width, channel) 로 input data 의 shape 을 변경합니다. 또한 이미지 데이터는 uint8 형식의 어레이입니다. 뉴럴 네트워크가 잘 학습할 수 있도록 [0, 1] 사이의 실수값으로 이를 변환합니다."
   ]
  },
  {
   "cell_type": "code",
   "execution_count": 5,
   "metadata": {},
   "outputs": [
    {
     "name": "stdout",
     "output_type": "stream",
     "text": [
      "range = (0, 255)\n",
      "dtype = uint8\n",
      "train_X shape = (60000, 28, 28, 1)\n",
      "test_X  shape = (10000, 28, 28, 1)\n",
      "\n",
      "range = (0.0, 1.0)\n",
      "dtype = float32\n",
      "train_X shape = (60000, 28, 28, 1)\n",
      "test_X  shape = (10000, 28, 28, 1)\n"
     ]
    }
   ],
   "source": [
    "if K.image_data_format() == 'channels_first':\n",
    "    train_X = train.reshape(train.shape[0], 1, 28, 28)\n",
    "    test_X = test.reshape(test.shape[0], 1, 28, 28)\n",
    "    input_shape = (1, 28, 28)\n",
    "else:\n",
    "    train_X = train.reshape(train.shape[0], 28, 28, 1)\n",
    "    test_X = test.reshape(test.shape[0], 28, 28, 1)\n",
    "    input_shape = (28, 28, 1)\n",
    "\n",
    "print(f'range = ({train_X.min()}, {train_X.max()})')\n",
    "print(f'dtype = {train_X.dtype}')\n",
    "print(f'train_X shape = {train_X.shape}')\n",
    "print(f'test_X  shape = {test_X.shape}')\n",
    "\n",
    "train_X = train_X.astype(np.float32) / 255\n",
    "test_X = test_X.astype(np.float32) / 255\n",
    "\n",
    "print(f'\\nrange = ({train_X.min()}, {train_X.max()})')\n",
    "print(f'dtype = {train_X.dtype}')\n",
    "print(f'train_X shape = {train_X.shape}')\n",
    "print(f'test_X  shape = {test_X.shape}')"
   ]
  },
  {
   "cell_type": "markdown",
   "metadata": {},
   "source": [
    "`train_labels` 은 shape 이 (60000,) 인 column vector 입니다. 이를 one-hot representation 으로 변경합니다."
   ]
  },
  {
   "cell_type": "code",
   "execution_count": 6,
   "metadata": {},
   "outputs": [
    {
     "name": "stdout",
     "output_type": "stream",
     "text": [
      "train_y shape = (60000, 10)\n",
      "test_y  shape = (10000, 10)\n",
      "\n",
      "[[0. 0. 0. 0. 0. 0. 0. 0. 0. 1.]\n",
      " [1. 0. 0. 0. 0. 0. 0. 0. 0. 0.]\n",
      " [1. 0. 0. 0. 0. 0. 0. 0. 0. 0.]]\n"
     ]
    }
   ],
   "source": [
    "train_y = keras.utils.to_categorical(train_labels, n_classes)\n",
    "test_y = keras.utils.to_categorical(test_labels, n_classes)\n",
    "\n",
    "print(f'train_y shape = {train_y.shape}')\n",
    "print(f'test_y  shape = {test_y.shape}', end='\\n\\n')\n",
    "\n",
    "print(train_y[:3])"
   ]
  },
  {
   "cell_type": "markdown",
   "metadata": {},
   "source": [
    "Keras 에서 feed forward 방식으로 모델을 구성할 때에는 `keras.models.Sequential` 을 이용할 수 있습니다. input 이 Sequential 의 처음부터 마지막까지 이동한다는 의미입니다.\n",
    "\n",
    "Conv2D 는 2 차원의 kernel 을 적용하는 convolutional filter 를 의미합니다. filters, kernel_size 등의 패러매터값은 CNN 의 강의노트에 등장한 개념입니다. `kernel_initializer` 는 뉴럴 네트워크의 initializer 에서 다뤘던 방법입니다. 활성함수로 ReLU 를 이용할 때 좋은 성능을 보여준다고 알려져 있습니다.\n",
    "\n",
    "Conv2D 가 적용된 이후 max pooling 을 수행하고, activation map 을 `Flatten()` 을 이용하여 flatten vector 로 만들 수 있습니다. 그 뒤, fully connected layer 를 추가하고 마지막에 softmax 를 활성함수로 지니는 10 차원의 fully connected layer 를 추가합니다.\n",
    "\n",
    "Sequential 에 add 되는 각 레이어들은 앞선 레이어의 output shape 로부터 다음 레이어의 input shape 을 알 수 있습니다. 그러나 Sequential 의 첫번째 레이어는 input data 의 모양을 모르기 때문에 `input_shape` 을 반드시 지정해줘야 합니다.\n",
    "\n",
    "이처럼 모델 구성이 모두 끝나면 `compile()` 을 수행합니다. 이 때 학습에 이용할 loss function 와 optimizer 를 설정합니다."
   ]
  },
  {
   "cell_type": "code",
   "execution_count": 7,
   "metadata": {},
   "outputs": [],
   "source": [
    "from tensorflow.keras.models import Sequential\n",
    "from tensorflow.keras.layers import Conv2D, MaxPooling2D, Dense, Flatten\n",
    "\n",
    "cnn = Sequential()\n",
    "cnn.add(\n",
    "    Conv2D(\n",
    "        filters=32,\n",
    "        kernel_size=(3,3),\n",
    "        strides=(1,1),\n",
    "        activation='relu',\n",
    "        use_bias=True,\n",
    "        kernel_initializer='glorot_uniform',\n",
    "        input_shape = input_shape\n",
    "    ))\n",
    "cnn.add(MaxPooling2D(pool_size=(2,2)))\n",
    "cnn.add(Conv2D(filters=32, kernel_size=(3,3), activation='relu'))\n",
    "cnn.add(MaxPooling2D(pool_size=(2,2)))\n",
    "cnn.add(Flatten())\n",
    "cnn.add(Dense(units=128, activation='relu'))\n",
    "cnn.add(Dense(64, activation='relu'))\n",
    "cnn.add(Dense(n_classes, activation='softmax'))\n",
    "\n",
    "cnn.compile(\n",
    "    loss = keras.losses.categorical_crossentropy,\n",
    "    optimizer = keras.optimizers.Adam(),\n",
    "    metrics = ['accuracy']\n",
    ")"
   ]
  },
  {
   "cell_type": "markdown",
   "metadata": {},
   "source": [
    "`summary()` 함수를 실행하면 layers 의 구성이 표현됩니다. Output shape 의 첫칸의 None 은 batch size 가 다르게 들어올 수 있기 때문에 이를 가변적으로 열어둔 것입니다."
   ]
  },
  {
   "cell_type": "code",
   "execution_count": 8,
   "metadata": {},
   "outputs": [
    {
     "name": "stdout",
     "output_type": "stream",
     "text": [
      "Model: \"sequential\"\n",
      "_________________________________________________________________\n",
      "Layer (type)                 Output Shape              Param #   \n",
      "=================================================================\n",
      "conv2d (Conv2D)              (None, 26, 26, 32)        320       \n",
      "_________________________________________________________________\n",
      "max_pooling2d (MaxPooling2D) (None, 13, 13, 32)        0         \n",
      "_________________________________________________________________\n",
      "conv2d_1 (Conv2D)            (None, 11, 11, 32)        9248      \n",
      "_________________________________________________________________\n",
      "max_pooling2d_1 (MaxPooling2 (None, 5, 5, 32)          0         \n",
      "_________________________________________________________________\n",
      "flatten (Flatten)            (None, 800)               0         \n",
      "_________________________________________________________________\n",
      "dense (Dense)                (None, 128)               102528    \n",
      "_________________________________________________________________\n",
      "dense_1 (Dense)              (None, 64)                8256      \n",
      "_________________________________________________________________\n",
      "dense_2 (Dense)              (None, 10)                650       \n",
      "=================================================================\n",
      "Total params: 121,002\n",
      "Trainable params: 121,002\n",
      "Non-trainable params: 0\n",
      "_________________________________________________________________\n"
     ]
    }
   ],
   "source": [
    "cnn.summary()"
   ]
  },
  {
   "cell_type": "markdown",
   "metadata": {},
   "source": [
    "Keras 는 scikit learn 처럼 fit 함수와 predict 함수를 제공합니다. predict 함수에 test data 를 입력해봅니다. output 의 크기가 (batch, n classes) 이기 때문에 보기가 힘드니 이를 transpose 해서 확인해봅니다. 세 개의 테스트 데이터는 어떤 특정 클래스에 속하지 않고 대체로 비슷한 확률값을 지닙니다."
   ]
  },
  {
   "cell_type": "code",
   "execution_count": 9,
   "metadata": {},
   "outputs": [
    {
     "name": "stdout",
     "output_type": "stream",
     "text": [
      "shape of output = (3, 10)\n",
      "[[0.1070482 0.1322198 0.129455 ]\n",
      " [0.0940268 0.0839868 0.0821064]\n",
      " [0.1119168 0.1100923 0.1128716]\n",
      " [0.1045937 0.125713  0.1149236]\n",
      " [0.0913704 0.0774655 0.0879636]\n",
      " [0.0964908 0.0866065 0.0849802]\n",
      " [0.1001507 0.1130689 0.1053042]\n",
      " [0.0916144 0.0689266 0.081396 ]\n",
      " [0.0950249 0.0978905 0.0981627]\n",
      " [0.1077633 0.1040303 0.1028367]]\n"
     ]
    }
   ],
   "source": [
    "np.set_printoptions(precision=7, suppress=True)\n",
    "\n",
    "print(f'shape of output = {cnn.predict(test_X[:3]).shape}')\n",
    "print(cnn.predict(test_X[:3]).T)"
   ]
  },
  {
   "cell_type": "markdown",
   "metadata": {},
   "source": [
    "Compiled 된 모델의 fit 함수에 학습데이터를 입력합니다. 이 때 batch size 와 epochs 를 지정할 수 있습니다. 진행상황을 살펴보기 위하여 verbose 도 조절할 수 있습니다. validation data 를 입력하면 매 epoch 마다 이 데이터를 이용한 성능 평가를 수행합니다. 앞서 compile 함수에서 metrics 에 'accuracy' 를 입력하였기 때문에 정확도 기준에서 성능을 측정합니다.\n",
    "\n",
    "파이썬의 time.time() 함수를 이용하면 현재 시각이 출력됩니다. 20 epochs 의 학습 시간도 측정해 봅니다."
   ]
  },
  {
   "cell_type": "code",
   "execution_count": 10,
   "metadata": {},
   "outputs": [
    {
     "name": "stdout",
     "output_type": "stream",
     "text": [
      "Epoch 1/20\n",
      "469/469 - 9s - loss: 0.5938 - accuracy: 0.7876 - val_loss: 0.4401 - val_accuracy: 0.8389\n",
      "Epoch 2/20\n",
      "469/469 - 8s - loss: 0.3724 - accuracy: 0.8651 - val_loss: 0.3730 - val_accuracy: 0.8612\n",
      "Epoch 3/20\n",
      "469/469 - 8s - loss: 0.3238 - accuracy: 0.8822 - val_loss: 0.3189 - val_accuracy: 0.8870\n",
      "Epoch 4/20\n",
      "469/469 - 8s - loss: 0.2938 - accuracy: 0.8926 - val_loss: 0.3105 - val_accuracy: 0.8882\n",
      "Epoch 5/20\n",
      "469/469 - 10s - loss: 0.2704 - accuracy: 0.9000 - val_loss: 0.2961 - val_accuracy: 0.8937\n",
      "Epoch 6/20\n",
      "469/469 - 15s - loss: 0.2512 - accuracy: 0.9077 - val_loss: 0.2822 - val_accuracy: 0.8971\n",
      "Epoch 7/20\n",
      "469/469 - 13s - loss: 0.2348 - accuracy: 0.9134 - val_loss: 0.2646 - val_accuracy: 0.9024\n",
      "Epoch 8/20\n",
      "469/469 - 13s - loss: 0.2234 - accuracy: 0.9164 - val_loss: 0.2738 - val_accuracy: 0.9010\n",
      "Epoch 9/20\n",
      "469/469 - 12s - loss: 0.2101 - accuracy: 0.9217 - val_loss: 0.2636 - val_accuracy: 0.9062\n",
      "Epoch 10/20\n",
      "469/469 - 12s - loss: 0.1985 - accuracy: 0.9265 - val_loss: 0.2675 - val_accuracy: 0.9058\n",
      "Epoch 11/20\n",
      "469/469 - 12s - loss: 0.1865 - accuracy: 0.9313 - val_loss: 0.2589 - val_accuracy: 0.9076\n",
      "Epoch 12/20\n",
      "469/469 - 12s - loss: 0.1736 - accuracy: 0.9350 - val_loss: 0.2468 - val_accuracy: 0.9120\n",
      "Epoch 13/20\n",
      "469/469 - 12s - loss: 0.1626 - accuracy: 0.9398 - val_loss: 0.2604 - val_accuracy: 0.9110\n",
      "Epoch 14/20\n",
      "469/469 - 12s - loss: 0.1528 - accuracy: 0.9437 - val_loss: 0.2684 - val_accuracy: 0.9072\n",
      "Epoch 15/20\n",
      "469/469 - 12s - loss: 0.1459 - accuracy: 0.9449 - val_loss: 0.2546 - val_accuracy: 0.9112\n",
      "Epoch 16/20\n",
      "469/469 - 12s - loss: 0.1375 - accuracy: 0.9485 - val_loss: 0.2751 - val_accuracy: 0.9054\n",
      "Epoch 17/20\n",
      "469/469 - 12s - loss: 0.1248 - accuracy: 0.9535 - val_loss: 0.2733 - val_accuracy: 0.9098\n",
      "Epoch 18/20\n",
      "469/469 - 10s - loss: 0.1149 - accuracy: 0.9570 - val_loss: 0.3107 - val_accuracy: 0.9057\n",
      "Epoch 19/20\n",
      "469/469 - 8s - loss: 0.1079 - accuracy: 0.9589 - val_loss: 0.3069 - val_accuracy: 0.9063\n",
      "Epoch 20/20\n",
      "469/469 - 8s - loss: 0.1034 - accuracy: 0.9610 - val_loss: 0.3006 - val_accuracy: 0.9100\n"
     ]
    }
   ],
   "source": [
    "from time import time\n",
    "\n",
    "\n",
    "batch_size = 128\n",
    "epochs = 20\n",
    "\n",
    "train_time = time()\n",
    "\n",
    "history = cnn.fit(\n",
    "    train_X, train_y,\n",
    "    batch_size = batch_size,\n",
    "    epochs = epochs,\n",
    "    verbose = 2, # 0: silent, 1: progress bar, 2: one line per epoch\n",
    "    validation_data = (test_X, test_y)\n",
    ")\n",
    "\n",
    "train_time = time() - train_time"
   ]
  },
  {
   "cell_type": "markdown",
   "metadata": {},
   "source": [
    "테스트 시간도 측정해봅니다."
   ]
  },
  {
   "cell_type": "code",
   "execution_count": 11,
   "metadata": {},
   "outputs": [
    {
     "name": "stdout",
     "output_type": "stream",
     "text": [
      "313/313 [==============================] - 1s 2ms/step - loss: 0.3006 - accuracy: 0.9100\n"
     ]
    }
   ],
   "source": [
    "test_time = time()\n",
    "score = cnn.evaluate(test_X, test_y)\n",
    "test_time = time() - test_time"
   ]
  },
  {
   "cell_type": "markdown",
   "metadata": {},
   "source": [
    "`Model.evaluate()` 함수의 결과는 앞서 verbose message 로 출력된 validation data 에 대한 loss 와 accuracy 입니다."
   ]
  },
  {
   "cell_type": "code",
   "execution_count": 12,
   "metadata": {},
   "outputs": [
    {
     "name": "stdout",
     "output_type": "stream",
     "text": [
      "train time = 218.62 sec\n",
      "test  time = 0.69695 sec\n",
      "evaluation score = [0.3006109893321991, 0.9100000262260437]\n"
     ]
    }
   ],
   "source": [
    "print(f'train time = {train_time:.5} sec')\n",
    "print(f'test  time = {test_time:.5} sec')\n",
    "print(f'evaluation score = {score}')"
   ]
  },
  {
   "cell_type": "markdown",
   "metadata": {},
   "source": [
    "실제로 패러매터가 학습되었는지 확인해봅니다. 이번에는 각 데이터들이 특정 클레스에 속할 확률값이 커졌습니다 (entropy 가 줄어들었습니다)"
   ]
  },
  {
   "cell_type": "code",
   "execution_count": 13,
   "metadata": {},
   "outputs": [
    {
     "name": "stdout",
     "output_type": "stream",
     "text": [
      "shape of output = (3, 10)\n",
      "[[0.        0.0000002 0.       ]\n",
      " [0.        0.        1.       ]\n",
      " [0.        0.9999988 0.       ]\n",
      " [0.        0.        0.       ]\n",
      " [0.        0.0000002 0.       ]\n",
      " [0.        0.        0.       ]\n",
      " [0.        0.0000008 0.       ]\n",
      " [0.0003638 0.        0.       ]\n",
      " [0.        0.        0.       ]\n",
      " [0.9996361 0.        0.       ]]\n"
     ]
    }
   ],
   "source": [
    "print(f'shape of output = {cnn.predict(test_X[:3]).shape}')\n",
    "print(cnn.predict(test_X[:3]).T)"
   ]
  },
  {
   "cell_type": "markdown",
   "metadata": {},
   "source": [
    "Keras 의 패러매터들을 numpy 로 옮겨올 수도 있습니다. max pooling 은 패러매터가 없습니다. 그렇기 때문에 convolutional filter x2 와 fully connected x3 에 대한 패러매터를 가져와 크기를 확인해 봅니다."
   ]
  },
  {
   "cell_type": "code",
   "execution_count": 14,
   "metadata": {},
   "outputs": [
    {
     "name": "stdout",
     "output_type": "stream",
     "text": [
      "[conv2d] weights: (3, 3, 1, 32), bias: (32,)\n",
      "[conv2d_1] weights: (3, 3, 32, 32), bias: (32,)\n",
      "[dense] weights: (800, 128), bias: (128,)\n",
      "[dense_1] weights: (128, 64), bias: (64,)\n",
      "[dense_2] weights: (64, 10), bias: (10,)\n"
     ]
    }
   ],
   "source": [
    "for layer in cnn.layers:\n",
    "    name = layer.name\n",
    "    if name[:5] in ['conv2', 'dense']:        \n",
    "        weights = layer.weights[0].numpy()\n",
    "        bias = layer.bias.numpy()\n",
    "        print(f'[{name}] weights: {weights.shape}, bias: {bias.shape}')"
   ]
  },
  {
   "cell_type": "markdown",
   "metadata": {},
   "source": [
    "각 hidden layers 의 output 도 가져올 수 있습니다. 이는 조금 복잡한데, 위 구문은 tensorflow 의 구조를 공부하신 다음에 그 의미를 살펴보시기 바랍니다. 지금은 이 함수를 그대로 가져다 이용하셔도 좋습니다. 모든 레이어의 값이 아니라 특정 레이어의 값만을 가져오고 싶다면 `func` 의 두번째 lsit 를 다르게 정의하면 됩니다.\n",
    "\n",
    "(참고: https://keras.io/getting_started/faq/#how-can-i-obtain-the-output-of-an-intermediate-layer-feature-extraction)\n",
    "\n",
    "```python\n",
    "def get_hidden_vectors(model, inputs, mode=0):\n",
    "    func = K.function(\n",
    "        inputs = [model.layers[0].input],\n",
    "        outputs = [model.layers[3].output]\n",
    "    )\n",
    "```\n",
    "\n",
    "각 레이어의 이름과 hidden vectors 의 shape 을 함께 출력합니다. layer.name 은 summary() 함수의 name 입니다. _1, _2 와 같은 suffix 는 메모리 상에 만들어진 레이어들을 구분하기 위한 인덱스 입니다."
   ]
  },
  {
   "cell_type": "code",
   "execution_count": 15,
   "metadata": {},
   "outputs": [
    {
     "name": "stdout",
     "output_type": "stream",
     "text": [
      "num layers = 8\n",
      "\n",
      "[conv2d          ]: (3, 26, 26, 32)\n",
      "[max_pooling2d   ]: (3, 13, 13, 32)\n",
      "[conv2d_1        ]: (3, 11, 11, 32)\n",
      "[max_pooling2d_1 ]: (3, 5, 5, 32)\n",
      "[flatten         ]: (3, 800)\n",
      "[dense           ]: (3, 128)\n",
      "[dense_1         ]: (3, 64)\n",
      "[dense_2         ]: (3, 10)\n",
      "<class 'numpy.ndarray'>\n"
     ]
    }
   ],
   "source": [
    "def get_hidden_vectors(model, inputs, mode=0):\n",
    "    func = K.function(\n",
    "        inputs = [model.layers[0].input],\n",
    "        outputs = [layer.output for layer in model.layers]\n",
    "    )\n",
    "    hiddens = func(inputs)\n",
    "    names = [layer.name for layer in model.layers]\n",
    "    return hiddens, names\n",
    "\n",
    "hiddens, names = get_hidden_vectors(cnn, test_X[:3])\n",
    "\n",
    "print(f'num layers = {len(hiddens)}\\n')\n",
    "for h, name in zip(hiddens, names):\n",
    "    print(f'[{name:16}]: {h.shape}')\n",
    "\n",
    "print(type(h))"
   ]
  },
  {
   "cell_type": "markdown",
   "metadata": {},
   "source": [
    "`Model.fit()` 함수의 출력값인 history 에는 학습 과정에 대한 정보가 포함되어 있습니다. 이 안에는 history 라는 dict 가 포함되어 있습니다. verbose message 에 출력된 값들이 포함되어 있는데, 이를 bokeh 를 이용하여 lineplot 으로 그려봅니다."
   ]
  },
  {
   "cell_type": "code",
   "execution_count": 16,
   "metadata": {},
   "outputs": [
    {
     "name": "stdout",
     "output_type": "stream",
     "text": [
      "1.4.0\n"
     ]
    },
    {
     "data": {
      "text/html": [
       "\n",
       "    <div class=\"bk-root\">\n",
       "        <a href=\"https://bokeh.org\" target=\"_blank\" class=\"bk-logo bk-logo-small bk-logo-notebook\"></a>\n",
       "        <span id=\"1001\">Loading BokehJS ...</span>\n",
       "    </div>"
      ]
     },
     "metadata": {},
     "output_type": "display_data"
    },
    {
     "data": {
      "application/javascript": [
       "\n",
       "(function(root) {\n",
       "  function now() {\n",
       "    return new Date();\n",
       "  }\n",
       "\n",
       "  var force = true;\n",
       "\n",
       "  if (typeof root._bokeh_onload_callbacks === \"undefined\" || force === true) {\n",
       "    root._bokeh_onload_callbacks = [];\n",
       "    root._bokeh_is_loading = undefined;\n",
       "  }\n",
       "\n",
       "  var JS_MIME_TYPE = 'application/javascript';\n",
       "  var HTML_MIME_TYPE = 'text/html';\n",
       "  var EXEC_MIME_TYPE = 'application/vnd.bokehjs_exec.v0+json';\n",
       "  var CLASS_NAME = 'output_bokeh rendered_html';\n",
       "\n",
       "  /**\n",
       "   * Render data to the DOM node\n",
       "   */\n",
       "  function render(props, node) {\n",
       "    var script = document.createElement(\"script\");\n",
       "    node.appendChild(script);\n",
       "  }\n",
       "\n",
       "  /**\n",
       "   * Handle when an output is cleared or removed\n",
       "   */\n",
       "  function handleClearOutput(event, handle) {\n",
       "    var cell = handle.cell;\n",
       "\n",
       "    var id = cell.output_area._bokeh_element_id;\n",
       "    var server_id = cell.output_area._bokeh_server_id;\n",
       "    // Clean up Bokeh references\n",
       "    if (id != null && id in Bokeh.index) {\n",
       "      Bokeh.index[id].model.document.clear();\n",
       "      delete Bokeh.index[id];\n",
       "    }\n",
       "\n",
       "    if (server_id !== undefined) {\n",
       "      // Clean up Bokeh references\n",
       "      var cmd = \"from bokeh.io.state import curstate; print(curstate().uuid_to_server['\" + server_id + \"'].get_sessions()[0].document.roots[0]._id)\";\n",
       "      cell.notebook.kernel.execute(cmd, {\n",
       "        iopub: {\n",
       "          output: function(msg) {\n",
       "            var id = msg.content.text.trim();\n",
       "            if (id in Bokeh.index) {\n",
       "              Bokeh.index[id].model.document.clear();\n",
       "              delete Bokeh.index[id];\n",
       "            }\n",
       "          }\n",
       "        }\n",
       "      });\n",
       "      // Destroy server and session\n",
       "      var cmd = \"import bokeh.io.notebook as ion; ion.destroy_server('\" + server_id + \"')\";\n",
       "      cell.notebook.kernel.execute(cmd);\n",
       "    }\n",
       "  }\n",
       "\n",
       "  /**\n",
       "   * Handle when a new output is added\n",
       "   */\n",
       "  function handleAddOutput(event, handle) {\n",
       "    var output_area = handle.output_area;\n",
       "    var output = handle.output;\n",
       "\n",
       "    // limit handleAddOutput to display_data with EXEC_MIME_TYPE content only\n",
       "    if ((output.output_type != \"display_data\") || (!output.data.hasOwnProperty(EXEC_MIME_TYPE))) {\n",
       "      return\n",
       "    }\n",
       "\n",
       "    var toinsert = output_area.element.find(\".\" + CLASS_NAME.split(' ')[0]);\n",
       "\n",
       "    if (output.metadata[EXEC_MIME_TYPE][\"id\"] !== undefined) {\n",
       "      toinsert[toinsert.length - 1].firstChild.textContent = output.data[JS_MIME_TYPE];\n",
       "      // store reference to embed id on output_area\n",
       "      output_area._bokeh_element_id = output.metadata[EXEC_MIME_TYPE][\"id\"];\n",
       "    }\n",
       "    if (output.metadata[EXEC_MIME_TYPE][\"server_id\"] !== undefined) {\n",
       "      var bk_div = document.createElement(\"div\");\n",
       "      bk_div.innerHTML = output.data[HTML_MIME_TYPE];\n",
       "      var script_attrs = bk_div.children[0].attributes;\n",
       "      for (var i = 0; i < script_attrs.length; i++) {\n",
       "        toinsert[toinsert.length - 1].firstChild.setAttribute(script_attrs[i].name, script_attrs[i].value);\n",
       "      }\n",
       "      // store reference to server id on output_area\n",
       "      output_area._bokeh_server_id = output.metadata[EXEC_MIME_TYPE][\"server_id\"];\n",
       "    }\n",
       "  }\n",
       "\n",
       "  function register_renderer(events, OutputArea) {\n",
       "\n",
       "    function append_mime(data, metadata, element) {\n",
       "      // create a DOM node to render to\n",
       "      var toinsert = this.create_output_subarea(\n",
       "        metadata,\n",
       "        CLASS_NAME,\n",
       "        EXEC_MIME_TYPE\n",
       "      );\n",
       "      this.keyboard_manager.register_events(toinsert);\n",
       "      // Render to node\n",
       "      var props = {data: data, metadata: metadata[EXEC_MIME_TYPE]};\n",
       "      render(props, toinsert[toinsert.length - 1]);\n",
       "      element.append(toinsert);\n",
       "      return toinsert\n",
       "    }\n",
       "\n",
       "    /* Handle when an output is cleared or removed */\n",
       "    events.on('clear_output.CodeCell', handleClearOutput);\n",
       "    events.on('delete.Cell', handleClearOutput);\n",
       "\n",
       "    /* Handle when a new output is added */\n",
       "    events.on('output_added.OutputArea', handleAddOutput);\n",
       "\n",
       "    /**\n",
       "     * Register the mime type and append_mime function with output_area\n",
       "     */\n",
       "    OutputArea.prototype.register_mime_type(EXEC_MIME_TYPE, append_mime, {\n",
       "      /* Is output safe? */\n",
       "      safe: true,\n",
       "      /* Index of renderer in `output_area.display_order` */\n",
       "      index: 0\n",
       "    });\n",
       "  }\n",
       "\n",
       "  // register the mime type if in Jupyter Notebook environment and previously unregistered\n",
       "  if (root.Jupyter !== undefined) {\n",
       "    var events = require('base/js/events');\n",
       "    var OutputArea = require('notebook/js/outputarea').OutputArea;\n",
       "\n",
       "    if (OutputArea.prototype.mime_types().indexOf(EXEC_MIME_TYPE) == -1) {\n",
       "      register_renderer(events, OutputArea);\n",
       "    }\n",
       "  }\n",
       "\n",
       "  \n",
       "  if (typeof (root._bokeh_timeout) === \"undefined\" || force === true) {\n",
       "    root._bokeh_timeout = Date.now() + 5000;\n",
       "    root._bokeh_failed_load = false;\n",
       "  }\n",
       "\n",
       "  var NB_LOAD_WARNING = {'data': {'text/html':\n",
       "     \"<div style='background-color: #fdd'>\\n\"+\n",
       "     \"<p>\\n\"+\n",
       "     \"BokehJS does not appear to have successfully loaded. If loading BokehJS from CDN, this \\n\"+\n",
       "     \"may be due to a slow or bad network connection. Possible fixes:\\n\"+\n",
       "     \"</p>\\n\"+\n",
       "     \"<ul>\\n\"+\n",
       "     \"<li>re-rerun `output_notebook()` to attempt to load from CDN again, or</li>\\n\"+\n",
       "     \"<li>use INLINE resources instead, as so:</li>\\n\"+\n",
       "     \"</ul>\\n\"+\n",
       "     \"<code>\\n\"+\n",
       "     \"from bokeh.resources import INLINE\\n\"+\n",
       "     \"output_notebook(resources=INLINE)\\n\"+\n",
       "     \"</code>\\n\"+\n",
       "     \"</div>\"}};\n",
       "\n",
       "  function display_loaded() {\n",
       "    var el = document.getElementById(\"1001\");\n",
       "    if (el != null) {\n",
       "      el.textContent = \"BokehJS is loading...\";\n",
       "    }\n",
       "    if (root.Bokeh !== undefined) {\n",
       "      if (el != null) {\n",
       "        el.textContent = \"BokehJS \" + root.Bokeh.version + \" successfully loaded.\";\n",
       "      }\n",
       "    } else if (Date.now() < root._bokeh_timeout) {\n",
       "      setTimeout(display_loaded, 100)\n",
       "    }\n",
       "  }\n",
       "\n",
       "\n",
       "  function run_callbacks() {\n",
       "    try {\n",
       "      root._bokeh_onload_callbacks.forEach(function(callback) {\n",
       "        if (callback != null)\n",
       "          callback();\n",
       "      });\n",
       "    } finally {\n",
       "      delete root._bokeh_onload_callbacks\n",
       "    }\n",
       "    console.debug(\"Bokeh: all callbacks have finished\");\n",
       "  }\n",
       "\n",
       "  function load_libs(css_urls, js_urls, callback) {\n",
       "    if (css_urls == null) css_urls = [];\n",
       "    if (js_urls == null) js_urls = [];\n",
       "\n",
       "    root._bokeh_onload_callbacks.push(callback);\n",
       "    if (root._bokeh_is_loading > 0) {\n",
       "      console.debug(\"Bokeh: BokehJS is being loaded, scheduling callback at\", now());\n",
       "      return null;\n",
       "    }\n",
       "    if (js_urls == null || js_urls.length === 0) {\n",
       "      run_callbacks();\n",
       "      return null;\n",
       "    }\n",
       "    console.debug(\"Bokeh: BokehJS not loaded, scheduling load and callback at\", now());\n",
       "    root._bokeh_is_loading = css_urls.length + js_urls.length;\n",
       "\n",
       "    function on_load() {\n",
       "      root._bokeh_is_loading--;\n",
       "      if (root._bokeh_is_loading === 0) {\n",
       "        console.debug(\"Bokeh: all BokehJS libraries/stylesheets loaded\");\n",
       "        run_callbacks()\n",
       "      }\n",
       "    }\n",
       "\n",
       "    function on_error() {\n",
       "      console.error(\"failed to load \" + url);\n",
       "    }\n",
       "\n",
       "    for (var i = 0; i < css_urls.length; i++) {\n",
       "      var url = css_urls[i];\n",
       "      const element = document.createElement(\"link\");\n",
       "      element.onload = on_load;\n",
       "      element.onerror = on_error;\n",
       "      element.rel = \"stylesheet\";\n",
       "      element.type = \"text/css\";\n",
       "      element.href = url;\n",
       "      console.debug(\"Bokeh: injecting link tag for BokehJS stylesheet: \", url);\n",
       "      document.body.appendChild(element);\n",
       "    }\n",
       "\n",
       "    for (var i = 0; i < js_urls.length; i++) {\n",
       "      var url = js_urls[i];\n",
       "      var element = document.createElement('script');\n",
       "      element.onload = on_load;\n",
       "      element.onerror = on_error;\n",
       "      element.async = false;\n",
       "      element.src = url;\n",
       "      console.debug(\"Bokeh: injecting script tag for BokehJS library: \", url);\n",
       "      document.head.appendChild(element);\n",
       "    }\n",
       "  };var element = document.getElementById(\"1001\");\n",
       "  if (element == null) {\n",
       "    console.error(\"Bokeh: ERROR: autoload.js configured with elementid '1001' but no matching script tag was found. \")\n",
       "    return false;\n",
       "  }\n",
       "\n",
       "  function inject_raw_css(css) {\n",
       "    const element = document.createElement(\"style\");\n",
       "    element.appendChild(document.createTextNode(css));\n",
       "    document.body.appendChild(element);\n",
       "  }\n",
       "\n",
       "  \n",
       "  var js_urls = [\"https://cdn.pydata.org/bokeh/release/bokeh-1.4.0.min.js\", \"https://cdn.pydata.org/bokeh/release/bokeh-widgets-1.4.0.min.js\", \"https://cdn.pydata.org/bokeh/release/bokeh-tables-1.4.0.min.js\", \"https://cdn.pydata.org/bokeh/release/bokeh-gl-1.4.0.min.js\"];\n",
       "  var css_urls = [];\n",
       "  \n",
       "\n",
       "  var inline_js = [\n",
       "    function(Bokeh) {\n",
       "      Bokeh.set_log_level(\"info\");\n",
       "    },\n",
       "    function(Bokeh) {\n",
       "    \n",
       "    \n",
       "    }\n",
       "  ];\n",
       "\n",
       "  function run_inline_js() {\n",
       "    \n",
       "    if (root.Bokeh !== undefined || force === true) {\n",
       "      \n",
       "    for (var i = 0; i < inline_js.length; i++) {\n",
       "      inline_js[i].call(root, root.Bokeh);\n",
       "    }\n",
       "    if (force === true) {\n",
       "        display_loaded();\n",
       "      }} else if (Date.now() < root._bokeh_timeout) {\n",
       "      setTimeout(run_inline_js, 100);\n",
       "    } else if (!root._bokeh_failed_load) {\n",
       "      console.log(\"Bokeh: BokehJS failed to load within specified timeout.\");\n",
       "      root._bokeh_failed_load = true;\n",
       "    } else if (force !== true) {\n",
       "      var cell = $(document.getElementById(\"1001\")).parents('.cell').data().cell;\n",
       "      cell.output_area.append_execute_result(NB_LOAD_WARNING)\n",
       "    }\n",
       "\n",
       "  }\n",
       "\n",
       "  if (root._bokeh_is_loading === 0) {\n",
       "    console.debug(\"Bokeh: BokehJS loaded, going straight to plotting\");\n",
       "    run_inline_js();\n",
       "  } else {\n",
       "    load_libs(css_urls, js_urls, function() {\n",
       "      console.debug(\"Bokeh: BokehJS plotting callback run at\", now());\n",
       "      run_inline_js();\n",
       "    });\n",
       "  }\n",
       "}(window));"
      ],
      "application/vnd.bokehjs_load.v0+json": "\n(function(root) {\n  function now() {\n    return new Date();\n  }\n\n  var force = true;\n\n  if (typeof root._bokeh_onload_callbacks === \"undefined\" || force === true) {\n    root._bokeh_onload_callbacks = [];\n    root._bokeh_is_loading = undefined;\n  }\n\n  \n\n  \n  if (typeof (root._bokeh_timeout) === \"undefined\" || force === true) {\n    root._bokeh_timeout = Date.now() + 5000;\n    root._bokeh_failed_load = false;\n  }\n\n  var NB_LOAD_WARNING = {'data': {'text/html':\n     \"<div style='background-color: #fdd'>\\n\"+\n     \"<p>\\n\"+\n     \"BokehJS does not appear to have successfully loaded. If loading BokehJS from CDN, this \\n\"+\n     \"may be due to a slow or bad network connection. Possible fixes:\\n\"+\n     \"</p>\\n\"+\n     \"<ul>\\n\"+\n     \"<li>re-rerun `output_notebook()` to attempt to load from CDN again, or</li>\\n\"+\n     \"<li>use INLINE resources instead, as so:</li>\\n\"+\n     \"</ul>\\n\"+\n     \"<code>\\n\"+\n     \"from bokeh.resources import INLINE\\n\"+\n     \"output_notebook(resources=INLINE)\\n\"+\n     \"</code>\\n\"+\n     \"</div>\"}};\n\n  function display_loaded() {\n    var el = document.getElementById(\"1001\");\n    if (el != null) {\n      el.textContent = \"BokehJS is loading...\";\n    }\n    if (root.Bokeh !== undefined) {\n      if (el != null) {\n        el.textContent = \"BokehJS \" + root.Bokeh.version + \" successfully loaded.\";\n      }\n    } else if (Date.now() < root._bokeh_timeout) {\n      setTimeout(display_loaded, 100)\n    }\n  }\n\n\n  function run_callbacks() {\n    try {\n      root._bokeh_onload_callbacks.forEach(function(callback) {\n        if (callback != null)\n          callback();\n      });\n    } finally {\n      delete root._bokeh_onload_callbacks\n    }\n    console.debug(\"Bokeh: all callbacks have finished\");\n  }\n\n  function load_libs(css_urls, js_urls, callback) {\n    if (css_urls == null) css_urls = [];\n    if (js_urls == null) js_urls = [];\n\n    root._bokeh_onload_callbacks.push(callback);\n    if (root._bokeh_is_loading > 0) {\n      console.debug(\"Bokeh: BokehJS is being loaded, scheduling callback at\", now());\n      return null;\n    }\n    if (js_urls == null || js_urls.length === 0) {\n      run_callbacks();\n      return null;\n    }\n    console.debug(\"Bokeh: BokehJS not loaded, scheduling load and callback at\", now());\n    root._bokeh_is_loading = css_urls.length + js_urls.length;\n\n    function on_load() {\n      root._bokeh_is_loading--;\n      if (root._bokeh_is_loading === 0) {\n        console.debug(\"Bokeh: all BokehJS libraries/stylesheets loaded\");\n        run_callbacks()\n      }\n    }\n\n    function on_error() {\n      console.error(\"failed to load \" + url);\n    }\n\n    for (var i = 0; i < css_urls.length; i++) {\n      var url = css_urls[i];\n      const element = document.createElement(\"link\");\n      element.onload = on_load;\n      element.onerror = on_error;\n      element.rel = \"stylesheet\";\n      element.type = \"text/css\";\n      element.href = url;\n      console.debug(\"Bokeh: injecting link tag for BokehJS stylesheet: \", url);\n      document.body.appendChild(element);\n    }\n\n    for (var i = 0; i < js_urls.length; i++) {\n      var url = js_urls[i];\n      var element = document.createElement('script');\n      element.onload = on_load;\n      element.onerror = on_error;\n      element.async = false;\n      element.src = url;\n      console.debug(\"Bokeh: injecting script tag for BokehJS library: \", url);\n      document.head.appendChild(element);\n    }\n  };var element = document.getElementById(\"1001\");\n  if (element == null) {\n    console.error(\"Bokeh: ERROR: autoload.js configured with elementid '1001' but no matching script tag was found. \")\n    return false;\n  }\n\n  function inject_raw_css(css) {\n    const element = document.createElement(\"style\");\n    element.appendChild(document.createTextNode(css));\n    document.body.appendChild(element);\n  }\n\n  \n  var js_urls = [\"https://cdn.pydata.org/bokeh/release/bokeh-1.4.0.min.js\", \"https://cdn.pydata.org/bokeh/release/bokeh-widgets-1.4.0.min.js\", \"https://cdn.pydata.org/bokeh/release/bokeh-tables-1.4.0.min.js\", \"https://cdn.pydata.org/bokeh/release/bokeh-gl-1.4.0.min.js\"];\n  var css_urls = [];\n  \n\n  var inline_js = [\n    function(Bokeh) {\n      Bokeh.set_log_level(\"info\");\n    },\n    function(Bokeh) {\n    \n    \n    }\n  ];\n\n  function run_inline_js() {\n    \n    if (root.Bokeh !== undefined || force === true) {\n      \n    for (var i = 0; i < inline_js.length; i++) {\n      inline_js[i].call(root, root.Bokeh);\n    }\n    if (force === true) {\n        display_loaded();\n      }} else if (Date.now() < root._bokeh_timeout) {\n      setTimeout(run_inline_js, 100);\n    } else if (!root._bokeh_failed_load) {\n      console.log(\"Bokeh: BokehJS failed to load within specified timeout.\");\n      root._bokeh_failed_load = true;\n    } else if (force !== true) {\n      var cell = $(document.getElementById(\"1001\")).parents('.cell').data().cell;\n      cell.output_area.append_execute_result(NB_LOAD_WARNING)\n    }\n\n  }\n\n  if (root._bokeh_is_loading === 0) {\n    console.debug(\"Bokeh: BokehJS loaded, going straight to plotting\");\n    run_inline_js();\n  } else {\n    load_libs(css_urls, js_urls, function() {\n      console.debug(\"Bokeh: BokehJS plotting callback run at\", now());\n      run_inline_js();\n    });\n  }\n}(window));"
     },
     "metadata": {},
     "output_type": "display_data"
    }
   ],
   "source": [
    "import bokeh\n",
    "from bokeh.palettes import Spectral4\n",
    "from bokeh.plotting import figure, show, output_notebook\n",
    "from bokeh.models import SingleIntervalTicker\n",
    "\n",
    "print(bokeh.__version__)\n",
    "output_notebook()\n",
    "\n",
    "# bokeh >= 1.4.0 부터 legend -> legend_label 로 이름이 바뀌었습니다.\n",
    "def linechart(x, y, line_color='grey', line_width=3, legend_label=None, p=None, title=None):\n",
    "    if p is None:\n",
    "        p = figure(width=800, height=400, title=title)\n",
    "        p.xaxis.axis_label = 'Epoch'\n",
    "        p.xaxis.ticker = SingleIntervalTicker(interval=1)\n",
    "        p.xaxis.major_label_standoff = 1\n",
    "    p.line(x=x, y=y, line_color=line_color, line_width=line_width,\n",
    "           legend_label=legend_label, alpha=0.8, line_dash=(4,4))\n",
    "    return p"
   ]
  },
  {
   "cell_type": "code",
   "execution_count": 17,
   "metadata": {},
   "outputs": [
    {
     "data": {
      "text/html": [
       "\n",
       "\n",
       "\n",
       "\n",
       "\n",
       "\n",
       "  <div class=\"bk-root\" id=\"63e406cc-eef5-4631-be65-fcbaceb357db\" data-root-id=\"1002\"></div>\n"
      ]
     },
     "metadata": {},
     "output_type": "display_data"
    },
    {
     "data": {
      "application/javascript": [
       "(function(root) {\n",
       "  function embed_document(root) {\n",
       "    \n",
       "  var docs_json = {\"12042f54-feff-4b05-aead-fa1ab4bcc978\":{\"roots\":{\"references\":[{\"attributes\":{\"below\":[{\"id\":\"1013\",\"type\":\"LinearAxis\"}],\"center\":[{\"id\":\"1017\",\"type\":\"Grid\"},{\"id\":\"1022\",\"type\":\"Grid\"},{\"id\":\"1048\",\"type\":\"Legend\"}],\"left\":[{\"id\":\"1018\",\"type\":\"LinearAxis\"}],\"plot_height\":400,\"plot_width\":800,\"renderers\":[{\"id\":\"1041\",\"type\":\"GlyphRenderer\"},{\"id\":\"1053\",\"type\":\"GlyphRenderer\"},{\"id\":\"1066\",\"type\":\"GlyphRenderer\"},{\"id\":\"1081\",\"type\":\"GlyphRenderer\"}],\"title\":{\"id\":\"1003\",\"type\":\"Title\"},\"toolbar\":{\"id\":\"1029\",\"type\":\"Toolbar\"},\"x_range\":{\"id\":\"1005\",\"type\":\"DataRange1d\"},\"x_scale\":{\"id\":\"1009\",\"type\":\"LinearScale\"},\"y_range\":{\"id\":\"1007\",\"type\":\"DataRange1d\"},\"y_scale\":{\"id\":\"1011\",\"type\":\"LinearScale\"}},\"id\":\"1002\",\"subtype\":\"Figure\",\"type\":\"Plot\"},{\"attributes\":{},\"id\":\"1011\",\"type\":\"LinearScale\"},{\"attributes\":{\"label\":{\"value\":\"accuracy\"},\"renderers\":[{\"id\":\"1053\",\"type\":\"GlyphRenderer\"}]},\"id\":\"1062\",\"type\":\"LegendItem\"},{\"attributes\":{\"overlay\":{\"id\":\"1047\",\"type\":\"BoxAnnotation\"}},\"id\":\"1025\",\"type\":\"BoxZoomTool\"},{\"attributes\":{\"line_alpha\":0.8,\"line_color\":\"#2b83ba\",\"line_dash\":[4,4],\"line_width\":3,\"x\":{\"field\":\"x\"},\"y\":{\"field\":\"y\"}},\"id\":\"1039\",\"type\":\"Line\"},{\"attributes\":{},\"id\":\"1061\",\"type\":\"UnionRenderers\"},{\"attributes\":{},\"id\":\"1027\",\"type\":\"ResetTool\"},{\"attributes\":{\"data_source\":{\"id\":\"1038\",\"type\":\"ColumnDataSource\"},\"glyph\":{\"id\":\"1039\",\"type\":\"Line\"},\"hover_glyph\":null,\"muted_glyph\":null,\"nonselection_glyph\":{\"id\":\"1040\",\"type\":\"Line\"},\"selection_glyph\":null,\"view\":{\"id\":\"1042\",\"type\":\"CDSView\"}},\"id\":\"1041\",\"type\":\"GlyphRenderer\"},{\"attributes\":{\"interval\":1},\"id\":\"1036\",\"type\":\"SingleIntervalTicker\"},{\"attributes\":{\"line_alpha\":0.8,\"line_color\":\"#fdae61\",\"line_dash\":[4,4],\"line_width\":3,\"x\":{\"field\":\"x\"},\"y\":{\"field\":\"y\"}},\"id\":\"1064\",\"type\":\"Line\"},{\"attributes\":{},\"id\":\"1028\",\"type\":\"HelpTool\"},{\"attributes\":{\"callback\":null,\"data\":{\"x\":[0,1,2,3,4,5,6,7,8,9,10,11,12,13,14,15,16,17,18,19],\"y\":[0.8389000296592712,0.8611999750137329,0.8870000243186951,0.8881999850273132,0.8937000036239624,0.8970999717712402,0.902400016784668,0.9010000228881836,0.9061999917030334,0.9057999849319458,0.9075999855995178,0.9120000004768372,0.9110000133514404,0.9071999788284302,0.9111999869346619,0.9053999781608582,0.9097999930381775,0.9057000279426575,0.9063000082969666,0.9100000262260437]},\"selected\":{\"id\":\"1106\",\"type\":\"Selection\"},\"selection_policy\":{\"id\":\"1107\",\"type\":\"UnionRenderers\"}},\"id\":\"1078\",\"type\":\"ColumnDataSource\"},{\"attributes\":{},\"id\":\"1046\",\"type\":\"BasicTickFormatter\"},{\"attributes\":{\"callback\":null,\"data\":{\"x\":[0,1,2,3,4,5,6,7,8,9,10,11,12,13,14,15,16,17,18,19],\"y\":[0.44012314081192017,0.37302881479263306,0.3189372718334198,0.3104953169822693,0.2961019277572632,0.28220540285110474,0.2646068334579468,0.27379509806632996,0.26357725262641907,0.2675108015537262,0.25888603925704956,0.2468096911907196,0.2603689730167389,0.26844486594200134,0.25459474325180054,0.2751356065273285,0.273263156414032,0.31070899963378906,0.3069477379322052,0.30061104893684387]},\"selected\":{\"id\":\"1092\",\"type\":\"Selection\"},\"selection_policy\":{\"id\":\"1093\",\"type\":\"UnionRenderers\"}},\"id\":\"1063\",\"type\":\"ColumnDataSource\"},{\"attributes\":{},\"id\":\"1009\",\"type\":\"LinearScale\"},{\"attributes\":{},\"id\":\"1026\",\"type\":\"SaveTool\"},{\"attributes\":{\"callback\":null},\"id\":\"1005\",\"type\":\"DataRange1d\"},{\"attributes\":{},\"id\":\"1044\",\"type\":\"BasicTickFormatter\"},{\"attributes\":{\"source\":{\"id\":\"1078\",\"type\":\"ColumnDataSource\"}},\"id\":\"1082\",\"type\":\"CDSView\"},{\"attributes\":{\"active_drag\":\"auto\",\"active_inspect\":\"auto\",\"active_multi\":null,\"active_scroll\":\"auto\",\"active_tap\":\"auto\",\"tools\":[{\"id\":\"1023\",\"type\":\"PanTool\"},{\"id\":\"1024\",\"type\":\"WheelZoomTool\"},{\"id\":\"1025\",\"type\":\"BoxZoomTool\"},{\"id\":\"1026\",\"type\":\"SaveTool\"},{\"id\":\"1027\",\"type\":\"ResetTool\"},{\"id\":\"1028\",\"type\":\"HelpTool\"}]},\"id\":\"1029\",\"type\":\"Toolbar\"},{\"attributes\":{\"line_alpha\":0.1,\"line_color\":\"#1f77b4\",\"line_dash\":[4,4],\"line_width\":3,\"x\":{\"field\":\"x\"},\"y\":{\"field\":\"y\"}},\"id\":\"1080\",\"type\":\"Line\"},{\"attributes\":{},\"id\":\"1075\",\"type\":\"Selection\"},{\"attributes\":{},\"id\":\"1106\",\"type\":\"Selection\"},{\"attributes\":{\"data_source\":{\"id\":\"1078\",\"type\":\"ColumnDataSource\"},\"glyph\":{\"id\":\"1079\",\"type\":\"Line\"},\"hover_glyph\":null,\"muted_glyph\":null,\"nonselection_glyph\":{\"id\":\"1080\",\"type\":\"Line\"},\"selection_glyph\":null,\"view\":{\"id\":\"1082\",\"type\":\"CDSView\"}},\"id\":\"1081\",\"type\":\"GlyphRenderer\"},{\"attributes\":{\"bottom_units\":\"screen\",\"fill_alpha\":{\"value\":0.5},\"fill_color\":{\"value\":\"lightgrey\"},\"left_units\":\"screen\",\"level\":\"overlay\",\"line_alpha\":{\"value\":1.0},\"line_color\":{\"value\":\"black\"},\"line_dash\":[4,4],\"line_width\":{\"value\":2},\"render_mode\":\"css\",\"right_units\":\"screen\",\"top_units\":\"screen\"},\"id\":\"1047\",\"type\":\"BoxAnnotation\"},{\"attributes\":{\"axis_label\":\"Epoch\",\"formatter\":{\"id\":\"1046\",\"type\":\"BasicTickFormatter\"},\"major_label_standoff\":1,\"ticker\":{\"id\":\"1036\",\"type\":\"SingleIntervalTicker\"}},\"id\":\"1013\",\"type\":\"LinearAxis\"},{\"attributes\":{},\"id\":\"1023\",\"type\":\"PanTool\"},{\"attributes\":{\"line_alpha\":0.8,\"line_color\":\"#abdda4\",\"line_dash\":[4,4],\"line_width\":3,\"x\":{\"field\":\"x\"},\"y\":{\"field\":\"y\"}},\"id\":\"1051\",\"type\":\"Line\"},{\"attributes\":{},\"id\":\"1076\",\"type\":\"UnionRenderers\"},{\"attributes\":{\"source\":{\"id\":\"1038\",\"type\":\"ColumnDataSource\"}},\"id\":\"1042\",\"type\":\"CDSView\"},{\"attributes\":{\"line_alpha\":0.8,\"line_color\":\"#d7191c\",\"line_dash\":[4,4],\"line_width\":3,\"x\":{\"field\":\"x\"},\"y\":{\"field\":\"y\"}},\"id\":\"1079\",\"type\":\"Line\"},{\"attributes\":{},\"id\":\"1060\",\"type\":\"Selection\"},{\"attributes\":{},\"id\":\"1092\",\"type\":\"Selection\"},{\"attributes\":{\"label\":{\"value\":\"val_loss\"},\"renderers\":[{\"id\":\"1066\",\"type\":\"GlyphRenderer\"}]},\"id\":\"1077\",\"type\":\"LegendItem\"},{\"attributes\":{},\"id\":\"1019\",\"type\":\"BasicTicker\"},{\"attributes\":{\"label\":{\"value\":\"val_accuracy\"},\"renderers\":[{\"id\":\"1081\",\"type\":\"GlyphRenderer\"}]},\"id\":\"1094\",\"type\":\"LegendItem\"},{\"attributes\":{\"source\":{\"id\":\"1063\",\"type\":\"ColumnDataSource\"}},\"id\":\"1067\",\"type\":\"CDSView\"},{\"attributes\":{\"text\":\"Training performance of CNN\"},\"id\":\"1003\",\"type\":\"Title\"},{\"attributes\":{},\"id\":\"1014\",\"type\":\"BasicTicker\"},{\"attributes\":{},\"id\":\"1093\",\"type\":\"UnionRenderers\"},{\"attributes\":{\"callback\":null,\"data\":{\"x\":[0,1,2,3,4,5,6,7,8,9,10,11,12,13,14,15,16,17,18,19],\"y\":[0.5938464403152466,0.37236863374710083,0.32377785444259644,0.2937515676021576,0.2704170346260071,0.25119924545288086,0.234806090593338,0.22339071333408356,0.21014614403247833,0.1985475867986679,0.18648651242256165,0.1736479103565216,0.16259777545928955,0.1528121381998062,0.14590026438236237,0.13745436072349548,0.12482712417840958,0.1148652732372284,0.1079462394118309,0.10343845933675766]},\"selected\":{\"id\":\"1060\",\"type\":\"Selection\"},\"selection_policy\":{\"id\":\"1061\",\"type\":\"UnionRenderers\"}},\"id\":\"1038\",\"type\":\"ColumnDataSource\"},{\"attributes\":{\"callback\":null,\"data\":{\"x\":[0,1,2,3,4,5,6,7,8,9,10,11,12,13,14,15,16,17,18,19],\"y\":[0.7875833511352539,0.865066647529602,0.882183313369751,0.8925666809082031,0.9000333547592163,0.9077000021934509,0.9133999943733215,0.9163500070571899,0.92166668176651,0.9265499711036682,0.9313166737556458,0.9349666833877563,0.9398166537284851,0.9437166452407837,0.9449499845504761,0.9485499858856201,0.9535333514213562,0.9569666385650635,0.9589499831199646,0.9610000252723694]},\"selected\":{\"id\":\"1075\",\"type\":\"Selection\"},\"selection_policy\":{\"id\":\"1076\",\"type\":\"UnionRenderers\"}},\"id\":\"1050\",\"type\":\"ColumnDataSource\"},{\"attributes\":{\"ticker\":{\"id\":\"1014\",\"type\":\"BasicTicker\"}},\"id\":\"1017\",\"type\":\"Grid\"},{\"attributes\":{\"source\":{\"id\":\"1050\",\"type\":\"ColumnDataSource\"}},\"id\":\"1054\",\"type\":\"CDSView\"},{\"attributes\":{\"line_alpha\":0.1,\"line_color\":\"#1f77b4\",\"line_dash\":[4,4],\"line_width\":3,\"x\":{\"field\":\"x\"},\"y\":{\"field\":\"y\"}},\"id\":\"1052\",\"type\":\"Line\"},{\"attributes\":{\"callback\":null},\"id\":\"1007\",\"type\":\"DataRange1d\"},{\"attributes\":{\"dimension\":1,\"ticker\":{\"id\":\"1019\",\"type\":\"BasicTicker\"}},\"id\":\"1022\",\"type\":\"Grid\"},{\"attributes\":{},\"id\":\"1107\",\"type\":\"UnionRenderers\"},{\"attributes\":{\"formatter\":{\"id\":\"1044\",\"type\":\"BasicTickFormatter\"},\"ticker\":{\"id\":\"1019\",\"type\":\"BasicTicker\"}},\"id\":\"1018\",\"type\":\"LinearAxis\"},{\"attributes\":{\"data_source\":{\"id\":\"1050\",\"type\":\"ColumnDataSource\"},\"glyph\":{\"id\":\"1051\",\"type\":\"Line\"},\"hover_glyph\":null,\"muted_glyph\":null,\"nonselection_glyph\":{\"id\":\"1052\",\"type\":\"Line\"},\"selection_glyph\":null,\"view\":{\"id\":\"1054\",\"type\":\"CDSView\"}},\"id\":\"1053\",\"type\":\"GlyphRenderer\"},{\"attributes\":{},\"id\":\"1024\",\"type\":\"WheelZoomTool\"},{\"attributes\":{\"label\":{\"value\":\"loss\"},\"renderers\":[{\"id\":\"1041\",\"type\":\"GlyphRenderer\"}]},\"id\":\"1049\",\"type\":\"LegendItem\"},{\"attributes\":{\"line_alpha\":0.1,\"line_color\":\"#1f77b4\",\"line_dash\":[4,4],\"line_width\":3,\"x\":{\"field\":\"x\"},\"y\":{\"field\":\"y\"}},\"id\":\"1040\",\"type\":\"Line\"},{\"attributes\":{\"line_alpha\":0.1,\"line_color\":\"#1f77b4\",\"line_dash\":[4,4],\"line_width\":3,\"x\":{\"field\":\"x\"},\"y\":{\"field\":\"y\"}},\"id\":\"1065\",\"type\":\"Line\"},{\"attributes\":{\"data_source\":{\"id\":\"1063\",\"type\":\"ColumnDataSource\"},\"glyph\":{\"id\":\"1064\",\"type\":\"Line\"},\"hover_glyph\":null,\"muted_glyph\":null,\"nonselection_glyph\":{\"id\":\"1065\",\"type\":\"Line\"},\"selection_glyph\":null,\"view\":{\"id\":\"1067\",\"type\":\"CDSView\"}},\"id\":\"1066\",\"type\":\"GlyphRenderer\"},{\"attributes\":{\"items\":[{\"id\":\"1049\",\"type\":\"LegendItem\"},{\"id\":\"1062\",\"type\":\"LegendItem\"},{\"id\":\"1077\",\"type\":\"LegendItem\"},{\"id\":\"1094\",\"type\":\"LegendItem\"}]},\"id\":\"1048\",\"type\":\"Legend\"}],\"root_ids\":[\"1002\"]},\"title\":\"Bokeh Application\",\"version\":\"1.4.0\"}};\n",
       "  var render_items = [{\"docid\":\"12042f54-feff-4b05-aead-fa1ab4bcc978\",\"roots\":{\"1002\":\"63e406cc-eef5-4631-be65-fcbaceb357db\"}}];\n",
       "  root.Bokeh.embed.embed_items_notebook(docs_json, render_items);\n",
       "\n",
       "  }\n",
       "  if (root.Bokeh !== undefined) {\n",
       "    embed_document(root);\n",
       "  } else {\n",
       "    var attempts = 0;\n",
       "    var timer = setInterval(function(root) {\n",
       "      if (root.Bokeh !== undefined) {\n",
       "        clearInterval(timer);\n",
       "        embed_document(root);\n",
       "      } else {\n",
       "        attempts++;\n",
       "        if (attempts > 100) {\n",
       "          clearInterval(timer);\n",
       "          console.log(\"Bokeh: ERROR: Unable to run BokehJS code because BokehJS library is missing\");\n",
       "        }\n",
       "      }\n",
       "    }, 10, root)\n",
       "  }\n",
       "})(window);"
      ],
      "application/vnd.bokehjs_exec.v0+json": ""
     },
     "metadata": {
      "application/vnd.bokehjs_exec.v0+json": {
       "id": "1002"
      }
     },
     "output_type": "display_data"
    }
   ],
   "source": [
    "x = np.arange(len(history.history['loss']))\n",
    "p = None\n",
    "title = 'Training performance of CNN'\n",
    "for color, (legend, y) in zip(Spectral4, history.history.items()):\n",
    "    p = linechart(x, y, line_color=color, legend_label=legend, p=p, title=title)\n",
    "show(p)"
   ]
  },
  {
   "cell_type": "markdown",
   "metadata": {},
   "source": [
    "앞서 scikit-learn 으로 연습한 feed-forward 모델도 keras 로 손쉽게 만들 수 있습니다. 대부분의 내용은 CNN 모델 구성과 같지만, 이번에는 `add()` 함수에 name 을 입력하였습니다. 인덱스로 구분하는 것이 복잡할 때에는 이름을 정의하여 구분이 쉽도록 만듭니다."
   ]
  },
  {
   "cell_type": "code",
   "execution_count": 18,
   "metadata": {},
   "outputs": [
    {
     "name": "stdout",
     "output_type": "stream",
     "text": [
      "Epoch 1/20\n",
      "469/469 - 1s - loss: 0.5420 - accuracy: 0.8121 - val_loss: 0.4475 - val_accuracy: 0.8413\n",
      "Epoch 2/20\n",
      "469/469 - 1s - loss: 0.3803 - accuracy: 0.8626 - val_loss: 0.3782 - val_accuracy: 0.8652\n",
      "Epoch 3/20\n",
      "469/469 - 1s - loss: 0.3369 - accuracy: 0.8769 - val_loss: 0.3992 - val_accuracy: 0.8557\n",
      "Epoch 4/20\n",
      "469/469 - 1s - loss: 0.3179 - accuracy: 0.8826 - val_loss: 0.3852 - val_accuracy: 0.8606\n",
      "Epoch 5/20\n",
      "469/469 - 1s - loss: 0.2954 - accuracy: 0.8915 - val_loss: 0.3464 - val_accuracy: 0.8725\n",
      "Epoch 6/20\n",
      "469/469 - 1s - loss: 0.2806 - accuracy: 0.8957 - val_loss: 0.3344 - val_accuracy: 0.8782\n",
      "Epoch 7/20\n",
      "469/469 - 1s - loss: 0.2705 - accuracy: 0.8994 - val_loss: 0.3366 - val_accuracy: 0.8765\n",
      "Epoch 8/20\n",
      "469/469 - 1s - loss: 0.2568 - accuracy: 0.9038 - val_loss: 0.3528 - val_accuracy: 0.8698\n",
      "Epoch 9/20\n",
      "469/469 - 1s - loss: 0.2469 - accuracy: 0.9088 - val_loss: 0.3172 - val_accuracy: 0.8842\n",
      "Epoch 10/20\n",
      "469/469 - 1s - loss: 0.2372 - accuracy: 0.9112 - val_loss: 0.3305 - val_accuracy: 0.8876\n",
      "Epoch 11/20\n",
      "469/469 - 1s - loss: 0.2259 - accuracy: 0.9155 - val_loss: 0.3313 - val_accuracy: 0.8882\n",
      "Epoch 12/20\n",
      "469/469 - 1s - loss: 0.2232 - accuracy: 0.9151 - val_loss: 0.3246 - val_accuracy: 0.8860\n",
      "Epoch 13/20\n",
      "469/469 - 1s - loss: 0.2133 - accuracy: 0.9200 - val_loss: 0.3351 - val_accuracy: 0.8855\n",
      "Epoch 14/20\n",
      "469/469 - 1s - loss: 0.2078 - accuracy: 0.9215 - val_loss: 0.3242 - val_accuracy: 0.8894\n",
      "Epoch 15/20\n",
      "469/469 - 1s - loss: 0.2008 - accuracy: 0.9240 - val_loss: 0.3170 - val_accuracy: 0.8936\n",
      "Epoch 16/20\n",
      "469/469 - 1s - loss: 0.1957 - accuracy: 0.9272 - val_loss: 0.3417 - val_accuracy: 0.8847\n",
      "Epoch 17/20\n",
      "469/469 - 1s - loss: 0.1891 - accuracy: 0.9294 - val_loss: 0.3390 - val_accuracy: 0.8866\n",
      "Epoch 18/20\n",
      "469/469 - 1s - loss: 0.1824 - accuracy: 0.9315 - val_loss: 0.3324 - val_accuracy: 0.8901\n",
      "Epoch 19/20\n",
      "469/469 - 1s - loss: 0.1805 - accuracy: 0.9324 - val_loss: 0.3676 - val_accuracy: 0.8839\n",
      "Epoch 20/20\n",
      "469/469 - 1s - loss: 0.1737 - accuracy: 0.9338 - val_loss: 0.3562 - val_accuracy: 0.8845\n"
     ]
    }
   ],
   "source": [
    "ff = Sequential()\n",
    "ff.add(Dense(200, activation='relu', name='hidden_1', input_shape=(784,)))\n",
    "ff.add(Dense(50, activation='relu', name='hidden_2'))\n",
    "ff.add(Dense(n_classes, activation='softmax', name='output'))\n",
    "ff.compile(\n",
    "    loss = keras.losses.categorical_crossentropy,\n",
    "    optimizer = keras.optimizers.Adam(),\n",
    "    metrics = ['accuracy']\n",
    ")\n",
    "\n",
    "history = ff.fit(\n",
    "    train_X.reshape(train_X.shape[0],-1),\n",
    "    train_y,\n",
    "    batch_size = batch_size,\n",
    "    epochs = epochs,\n",
    "    verbose = 2, # 0: silent, 1: progress bar, 2: one line per epoch\n",
    "    validation_data = (test_X.reshape(test_X.shape[0],-1), test_y)\n",
    ")"
   ]
  },
  {
   "cell_type": "markdown",
   "metadata": {},
   "source": [
    "MNIST, Fashion-MNIST 모두 어려운 데이터는 아니기 때문에 어느 정도의 성능은 보여줍니다. 하지만 CNN 이 조금 더 좋은 성능을 보여줍니다."
   ]
  },
  {
   "cell_type": "code",
   "execution_count": 19,
   "metadata": {},
   "outputs": [
    {
     "data": {
      "text/html": [
       "\n",
       "\n",
       "\n",
       "\n",
       "\n",
       "\n",
       "  <div class=\"bk-root\" id=\"0ca7be33-4a40-4693-9fec-0d2c79a34efb\" data-root-id=\"1186\"></div>\n"
      ]
     },
     "metadata": {},
     "output_type": "display_data"
    },
    {
     "data": {
      "application/javascript": [
       "(function(root) {\n",
       "  function embed_document(root) {\n",
       "    \n",
       "  var docs_json = {\"a2d35742-3176-41ae-ab4e-0ee32379d243\":{\"roots\":{\"references\":[{\"attributes\":{\"below\":[{\"id\":\"1197\",\"type\":\"LinearAxis\"}],\"center\":[{\"id\":\"1201\",\"type\":\"Grid\"},{\"id\":\"1206\",\"type\":\"Grid\"},{\"id\":\"1232\",\"type\":\"Legend\"}],\"left\":[{\"id\":\"1202\",\"type\":\"LinearAxis\"}],\"plot_height\":400,\"plot_width\":800,\"renderers\":[{\"id\":\"1225\",\"type\":\"GlyphRenderer\"},{\"id\":\"1237\",\"type\":\"GlyphRenderer\"},{\"id\":\"1250\",\"type\":\"GlyphRenderer\"},{\"id\":\"1265\",\"type\":\"GlyphRenderer\"}],\"title\":{\"id\":\"1187\",\"type\":\"Title\"},\"toolbar\":{\"id\":\"1213\",\"type\":\"Toolbar\"},\"x_range\":{\"id\":\"1189\",\"type\":\"DataRange1d\"},\"x_scale\":{\"id\":\"1193\",\"type\":\"LinearScale\"},\"y_range\":{\"id\":\"1191\",\"type\":\"DataRange1d\"},\"y_scale\":{\"id\":\"1195\",\"type\":\"LinearScale\"}},\"id\":\"1186\",\"subtype\":\"Figure\",\"type\":\"Plot\"},{\"attributes\":{\"data_source\":{\"id\":\"1222\",\"type\":\"ColumnDataSource\"},\"glyph\":{\"id\":\"1223\",\"type\":\"Line\"},\"hover_glyph\":null,\"muted_glyph\":null,\"nonselection_glyph\":{\"id\":\"1224\",\"type\":\"Line\"},\"selection_glyph\":null,\"view\":{\"id\":\"1226\",\"type\":\"CDSView\"}},\"id\":\"1225\",\"type\":\"GlyphRenderer\"},{\"attributes\":{\"data_source\":{\"id\":\"1234\",\"type\":\"ColumnDataSource\"},\"glyph\":{\"id\":\"1235\",\"type\":\"Line\"},\"hover_glyph\":null,\"muted_glyph\":null,\"nonselection_glyph\":{\"id\":\"1236\",\"type\":\"Line\"},\"selection_glyph\":null,\"view\":{\"id\":\"1238\",\"type\":\"CDSView\"}},\"id\":\"1237\",\"type\":\"GlyphRenderer\"},{\"attributes\":{},\"id\":\"1244\",\"type\":\"Selection\"},{\"attributes\":{\"items\":[{\"id\":\"1233\",\"type\":\"LegendItem\"},{\"id\":\"1246\",\"type\":\"LegendItem\"},{\"id\":\"1261\",\"type\":\"LegendItem\"},{\"id\":\"1278\",\"type\":\"LegendItem\"}]},\"id\":\"1232\",\"type\":\"Legend\"},{\"attributes\":{\"formatter\":{\"id\":\"1228\",\"type\":\"BasicTickFormatter\"},\"ticker\":{\"id\":\"1203\",\"type\":\"BasicTicker\"}},\"id\":\"1202\",\"type\":\"LinearAxis\"},{\"attributes\":{\"label\":{\"value\":\"loss\"},\"renderers\":[{\"id\":\"1225\",\"type\":\"GlyphRenderer\"}]},\"id\":\"1233\",\"type\":\"LegendItem\"},{\"attributes\":{\"callback\":null,\"data\":{\"x\":[0,1,2,3,4,5,6,7,8,9,10,11,12,13,14,15,16,17,18,19],\"y\":[0.5420178174972534,0.3803243041038513,0.3369305729866028,0.31786903738975525,0.2953983545303345,0.28055962920188904,0.2704569399356842,0.2567707300186157,0.2469455450773239,0.23724164068698883,0.2258910983800888,0.22323541343212128,0.21328605711460114,0.20775707066059113,0.20083731412887573,0.19572649896144867,0.189138725399971,0.18240608274936676,0.1805085837841034,0.17368477582931519]},\"selected\":{\"id\":\"1244\",\"type\":\"Selection\"},\"selection_policy\":{\"id\":\"1245\",\"type\":\"UnionRenderers\"}},\"id\":\"1222\",\"type\":\"ColumnDataSource\"},{\"attributes\":{\"active_drag\":\"auto\",\"active_inspect\":\"auto\",\"active_multi\":null,\"active_scroll\":\"auto\",\"active_tap\":\"auto\",\"tools\":[{\"id\":\"1207\",\"type\":\"PanTool\"},{\"id\":\"1208\",\"type\":\"WheelZoomTool\"},{\"id\":\"1209\",\"type\":\"BoxZoomTool\"},{\"id\":\"1210\",\"type\":\"SaveTool\"},{\"id\":\"1211\",\"type\":\"ResetTool\"},{\"id\":\"1212\",\"type\":\"HelpTool\"}]},\"id\":\"1213\",\"type\":\"Toolbar\"},{\"attributes\":{\"overlay\":{\"id\":\"1231\",\"type\":\"BoxAnnotation\"}},\"id\":\"1209\",\"type\":\"BoxZoomTool\"},{\"attributes\":{\"callback\":null,\"data\":{\"x\":[0,1,2,3,4,5,6,7,8,9,10,11,12,13,14,15,16,17,18,19],\"y\":[0.8121333122253418,0.8626499772071838,0.8769333362579346,0.8825500011444092,0.8914999961853027,0.8956833481788635,0.8994333148002625,0.9037666916847229,0.9088166952133179,0.911216676235199,0.9154666662216187,0.9151333570480347,0.9199833273887634,0.9214833378791809,0.9239833354949951,0.9271833300590515,0.9294000267982483,0.9314500093460083,0.9324333071708679,0.9337999820709229]},\"selected\":{\"id\":\"1259\",\"type\":\"Selection\"},\"selection_policy\":{\"id\":\"1260\",\"type\":\"UnionRenderers\"}},\"id\":\"1234\",\"type\":\"ColumnDataSource\"},{\"attributes\":{\"line_alpha\":0.8,\"line_color\":\"#abdda4\",\"line_dash\":[4,4],\"line_width\":3,\"x\":{\"field\":\"x\"},\"y\":{\"field\":\"y\"}},\"id\":\"1235\",\"type\":\"Line\"},{\"attributes\":{\"line_alpha\":0.1,\"line_color\":\"#1f77b4\",\"line_dash\":[4,4],\"line_width\":3,\"x\":{\"field\":\"x\"},\"y\":{\"field\":\"y\"}},\"id\":\"1236\",\"type\":\"Line\"},{\"attributes\":{\"callback\":null,\"data\":{\"x\":[0,1,2,3,4,5,6,7,8,9,10,11,12,13,14,15,16,17,18,19],\"y\":[0.8413000106811523,0.8651999831199646,0.8557000160217285,0.8605999946594238,0.8725000023841858,0.8781999945640564,0.8765000104904175,0.8697999715805054,0.8841999769210815,0.8876000046730042,0.8881999850273132,0.8859999775886536,0.8855000138282776,0.8894000053405762,0.8935999870300293,0.8847000002861023,0.8866000175476074,0.8901000022888184,0.883899986743927,0.8845000267028809]},\"selected\":{\"id\":\"1303\",\"type\":\"Selection\"},\"selection_policy\":{\"id\":\"1304\",\"type\":\"UnionRenderers\"}},\"id\":\"1262\",\"type\":\"ColumnDataSource\"},{\"attributes\":{},\"id\":\"1228\",\"type\":\"BasicTickFormatter\"},{\"attributes\":{\"dimension\":1,\"ticker\":{\"id\":\"1203\",\"type\":\"BasicTicker\"}},\"id\":\"1206\",\"type\":\"Grid\"},{\"attributes\":{\"callback\":null,\"data\":{\"x\":[0,1,2,3,4,5,6,7,8,9,10,11,12,13,14,15,16,17,18,19],\"y\":[0.4475399851799011,0.3782179355621338,0.3992067575454712,0.3852488398551941,0.34642791748046875,0.33439671993255615,0.33664748072624207,0.3528461158275604,0.31715354323387146,0.330537885427475,0.33128729462623596,0.3246344327926636,0.3350633680820465,0.32420065999031067,0.3169989287853241,0.3417390286922455,0.3390403091907501,0.33238834142684937,0.3675812780857086,0.35622796416282654]},\"selected\":{\"id\":\"1276\",\"type\":\"Selection\"},\"selection_policy\":{\"id\":\"1277\",\"type\":\"UnionRenderers\"}},\"id\":\"1247\",\"type\":\"ColumnDataSource\"},{\"attributes\":{},\"id\":\"1260\",\"type\":\"UnionRenderers\"},{\"attributes\":{\"callback\":null},\"id\":\"1191\",\"type\":\"DataRange1d\"},{\"attributes\":{\"interval\":1},\"id\":\"1220\",\"type\":\"SingleIntervalTicker\"},{\"attributes\":{\"source\":{\"id\":\"1234\",\"type\":\"ColumnDataSource\"}},\"id\":\"1238\",\"type\":\"CDSView\"},{\"attributes\":{\"line_alpha\":0.8,\"line_color\":\"#fdae61\",\"line_dash\":[4,4],\"line_width\":3,\"x\":{\"field\":\"x\"},\"y\":{\"field\":\"y\"}},\"id\":\"1248\",\"type\":\"Line\"},{\"attributes\":{},\"id\":\"1193\",\"type\":\"LinearScale\"},{\"attributes\":{},\"id\":\"1203\",\"type\":\"BasicTicker\"},{\"attributes\":{\"data_source\":{\"id\":\"1262\",\"type\":\"ColumnDataSource\"},\"glyph\":{\"id\":\"1263\",\"type\":\"Line\"},\"hover_glyph\":null,\"muted_glyph\":null,\"nonselection_glyph\":{\"id\":\"1264\",\"type\":\"Line\"},\"selection_glyph\":null,\"view\":{\"id\":\"1266\",\"type\":\"CDSView\"}},\"id\":\"1265\",\"type\":\"GlyphRenderer\"},{\"attributes\":{\"ticker\":{\"id\":\"1198\",\"type\":\"BasicTicker\"}},\"id\":\"1201\",\"type\":\"Grid\"},{\"attributes\":{},\"id\":\"1208\",\"type\":\"WheelZoomTool\"},{\"attributes\":{\"line_alpha\":0.1,\"line_color\":\"#1f77b4\",\"line_dash\":[4,4],\"line_width\":3,\"x\":{\"field\":\"x\"},\"y\":{\"field\":\"y\"}},\"id\":\"1224\",\"type\":\"Line\"},{\"attributes\":{},\"id\":\"1230\",\"type\":\"BasicTickFormatter\"},{\"attributes\":{\"source\":{\"id\":\"1262\",\"type\":\"ColumnDataSource\"}},\"id\":\"1266\",\"type\":\"CDSView\"},{\"attributes\":{},\"id\":\"1276\",\"type\":\"Selection\"},{\"attributes\":{\"callback\":null},\"id\":\"1189\",\"type\":\"DataRange1d\"},{\"attributes\":{\"label\":{\"value\":\"val_accuracy\"},\"renderers\":[{\"id\":\"1265\",\"type\":\"GlyphRenderer\"}]},\"id\":\"1278\",\"type\":\"LegendItem\"},{\"attributes\":{\"data_source\":{\"id\":\"1247\",\"type\":\"ColumnDataSource\"},\"glyph\":{\"id\":\"1248\",\"type\":\"Line\"},\"hover_glyph\":null,\"muted_glyph\":null,\"nonselection_glyph\":{\"id\":\"1249\",\"type\":\"Line\"},\"selection_glyph\":null,\"view\":{\"id\":\"1251\",\"type\":\"CDSView\"}},\"id\":\"1250\",\"type\":\"GlyphRenderer\"},{\"attributes\":{},\"id\":\"1210\",\"type\":\"SaveTool\"},{\"attributes\":{},\"id\":\"1211\",\"type\":\"ResetTool\"},{\"attributes\":{},\"id\":\"1277\",\"type\":\"UnionRenderers\"},{\"attributes\":{},\"id\":\"1195\",\"type\":\"LinearScale\"},{\"attributes\":{\"line_alpha\":0.8,\"line_color\":\"#2b83ba\",\"line_dash\":[4,4],\"line_width\":3,\"x\":{\"field\":\"x\"},\"y\":{\"field\":\"y\"}},\"id\":\"1223\",\"type\":\"Line\"},{\"attributes\":{\"line_alpha\":0.8,\"line_color\":\"#d7191c\",\"line_dash\":[4,4],\"line_width\":3,\"x\":{\"field\":\"x\"},\"y\":{\"field\":\"y\"}},\"id\":\"1263\",\"type\":\"Line\"},{\"attributes\":{\"label\":{\"value\":\"val_loss\"},\"renderers\":[{\"id\":\"1250\",\"type\":\"GlyphRenderer\"}]},\"id\":\"1261\",\"type\":\"LegendItem\"},{\"attributes\":{\"line_alpha\":0.1,\"line_color\":\"#1f77b4\",\"line_dash\":[4,4],\"line_width\":3,\"x\":{\"field\":\"x\"},\"y\":{\"field\":\"y\"}},\"id\":\"1264\",\"type\":\"Line\"},{\"attributes\":{},\"id\":\"1207\",\"type\":\"PanTool\"},{\"attributes\":{\"source\":{\"id\":\"1222\",\"type\":\"ColumnDataSource\"}},\"id\":\"1226\",\"type\":\"CDSView\"},{\"attributes\":{\"source\":{\"id\":\"1247\",\"type\":\"ColumnDataSource\"}},\"id\":\"1251\",\"type\":\"CDSView\"},{\"attributes\":{},\"id\":\"1304\",\"type\":\"UnionRenderers\"},{\"attributes\":{\"line_alpha\":0.1,\"line_color\":\"#1f77b4\",\"line_dash\":[4,4],\"line_width\":3,\"x\":{\"field\":\"x\"},\"y\":{\"field\":\"y\"}},\"id\":\"1249\",\"type\":\"Line\"},{\"attributes\":{},\"id\":\"1259\",\"type\":\"Selection\"},{\"attributes\":{\"text\":\"Training performance of Feed-forward h=(200,50)\"},\"id\":\"1187\",\"type\":\"Title\"},{\"attributes\":{\"label\":{\"value\":\"accuracy\"},\"renderers\":[{\"id\":\"1237\",\"type\":\"GlyphRenderer\"}]},\"id\":\"1246\",\"type\":\"LegendItem\"},{\"attributes\":{},\"id\":\"1212\",\"type\":\"HelpTool\"},{\"attributes\":{\"axis_label\":\"Epoch\",\"formatter\":{\"id\":\"1230\",\"type\":\"BasicTickFormatter\"},\"major_label_standoff\":1,\"ticker\":{\"id\":\"1220\",\"type\":\"SingleIntervalTicker\"}},\"id\":\"1197\",\"type\":\"LinearAxis\"},{\"attributes\":{},\"id\":\"1198\",\"type\":\"BasicTicker\"},{\"attributes\":{\"bottom_units\":\"screen\",\"fill_alpha\":{\"value\":0.5},\"fill_color\":{\"value\":\"lightgrey\"},\"left_units\":\"screen\",\"level\":\"overlay\",\"line_alpha\":{\"value\":1.0},\"line_color\":{\"value\":\"black\"},\"line_dash\":[4,4],\"line_width\":{\"value\":2},\"render_mode\":\"css\",\"right_units\":\"screen\",\"top_units\":\"screen\"},\"id\":\"1231\",\"type\":\"BoxAnnotation\"},{\"attributes\":{},\"id\":\"1303\",\"type\":\"Selection\"},{\"attributes\":{},\"id\":\"1245\",\"type\":\"UnionRenderers\"}],\"root_ids\":[\"1186\"]},\"title\":\"Bokeh Application\",\"version\":\"1.4.0\"}};\n",
       "  var render_items = [{\"docid\":\"a2d35742-3176-41ae-ab4e-0ee32379d243\",\"roots\":{\"1186\":\"0ca7be33-4a40-4693-9fec-0d2c79a34efb\"}}];\n",
       "  root.Bokeh.embed.embed_items_notebook(docs_json, render_items);\n",
       "\n",
       "  }\n",
       "  if (root.Bokeh !== undefined) {\n",
       "    embed_document(root);\n",
       "  } else {\n",
       "    var attempts = 0;\n",
       "    var timer = setInterval(function(root) {\n",
       "      if (root.Bokeh !== undefined) {\n",
       "        clearInterval(timer);\n",
       "        embed_document(root);\n",
       "      } else {\n",
       "        attempts++;\n",
       "        if (attempts > 100) {\n",
       "          clearInterval(timer);\n",
       "          console.log(\"Bokeh: ERROR: Unable to run BokehJS code because BokehJS library is missing\");\n",
       "        }\n",
       "      }\n",
       "    }, 10, root)\n",
       "  }\n",
       "})(window);"
      ],
      "application/vnd.bokehjs_exec.v0+json": ""
     },
     "metadata": {
      "application/vnd.bokehjs_exec.v0+json": {
       "id": "1186"
      }
     },
     "output_type": "display_data"
    }
   ],
   "source": [
    "x = np.arange(len(history.history['loss']))\n",
    "p = None\n",
    "title = 'Training performance of Feed-forward h=(200,50)'\n",
    "for color, (legend, y) in zip(Spectral4, history.history.items()):\n",
    "    p = linechart(x, y, line_color=color, legend_label=legend, p=p, title=title)\n",
    "show(p)"
   ]
  },
  {
   "cell_type": "markdown",
   "metadata": {},
   "source": [
    "앞서 정의한 이름으로 `summary()` 의 결과값이 출력됩니다."
   ]
  },
  {
   "cell_type": "code",
   "execution_count": 20,
   "metadata": {},
   "outputs": [
    {
     "name": "stdout",
     "output_type": "stream",
     "text": [
      "Model: \"sequential_1\"\n",
      "_________________________________________________________________\n",
      "Layer (type)                 Output Shape              Param #   \n",
      "=================================================================\n",
      "hidden_1 (Dense)             (None, 200)               157000    \n",
      "_________________________________________________________________\n",
      "hidden_2 (Dense)             (None, 50)                10050     \n",
      "_________________________________________________________________\n",
      "output (Dense)               (None, 10)                510       \n",
      "=================================================================\n",
      "Total params: 167,560\n",
      "Trainable params: 167,560\n",
      "Non-trainable params: 0\n",
      "_________________________________________________________________\n"
     ]
    }
   ],
   "source": [
    "ff.summary()"
   ]
  },
  {
   "cell_type": "code",
   "execution_count": 21,
   "metadata": {},
   "outputs": [
    {
     "name": "stdout",
     "output_type": "stream",
     "text": [
      "[hidden_1 ] weights: (784, 200), bias: (200,)\n",
      "[hidden_2 ] weights: (200, 50), bias: (50,)\n",
      "[output   ] weights: (50, 10), bias: (10,)\n"
     ]
    }
   ],
   "source": [
    "for layer in ff.layers:\n",
    "    name = layer.name\n",
    "    weights = layer.weights[0].numpy()\n",
    "    bias = layer.bias.numpy()\n",
    "    print(f'[{name:9}] weights: {weights.shape}, bias: {bias.shape}')"
   ]
  },
  {
   "cell_type": "markdown",
   "metadata": {},
   "source": [
    "앞서 정의한 `get_hidden_vectors()` 함수를 재활용 할 수 있습니다. feed forward 모델의 hidden vectors 를 가져옵니다. 이름을 지정하니 보기가 정말 편리합니다."
   ]
  },
  {
   "cell_type": "code",
   "execution_count": 22,
   "metadata": {},
   "outputs": [
    {
     "name": "stdout",
     "output_type": "stream",
     "text": [
      "num layers = 3\n",
      "\n",
      "[hidden_1]: (3, 200)\n",
      "[hidden_2]: (3, 50)\n",
      "[output  ]: (3, 10)\n"
     ]
    }
   ],
   "source": [
    "hiddens, names = get_hidden_vectors(ff, test_X[:3].reshape(3,-1))\n",
    "\n",
    "print(f'num layers = {len(hiddens)}\\n')\n",
    "for h, name in zip(hiddens, names):\n",
    "    print(f'[{name:8}]: {h.shape}')"
   ]
  },
  {
   "cell_type": "markdown",
   "metadata": {},
   "source": [
    "학습한 모델을 저장할 수 있습니다. `Model.save()` 함수를 이용합니다."
   ]
  },
  {
   "cell_type": "code",
   "execution_count": 23,
   "metadata": {},
   "outputs": [],
   "source": [
    "ff.save('keras_ff.h5')"
   ]
  },
  {
   "cell_type": "markdown",
   "metadata": {},
   "source": [
    "학습된 모델을 읽어올 수 있습니다. `test_X` 에 대하여 evaluation 을 수행하니 동일한 성능을 보여줍니다."
   ]
  },
  {
   "cell_type": "code",
   "execution_count": 25,
   "metadata": {},
   "outputs": [
    {
     "data": {
      "text/plain": [
       "[0.3562278747558594, 0.8845000267028809]"
      ]
     },
     "execution_count": 25,
     "metadata": {},
     "output_type": "execute_result"
    }
   ],
   "source": [
    "from tensorflow.keras.models import load_model\n",
    "\n",
    "ff_loaded = load_model('keras_ff.h5')\n",
    "ff_loaded.evaluate(\n",
    "    test_X.reshape(test_X.shape[0],-1), test_y,\n",
    "    verbose = 0\n",
    ")"
   ]
  },
  {
   "cell_type": "code",
   "execution_count": null,
   "metadata": {},
   "outputs": [],
   "source": []
  }
 ],
 "metadata": {
  "kernelspec": {
   "display_name": "Python 3",
   "language": "python",
   "name": "python3"
  },
  "language_info": {
   "codemirror_mode": {
    "name": "ipython",
    "version": 3
   },
   "file_extension": ".py",
   "mimetype": "text/x-python",
   "name": "python",
   "nbconvert_exporter": "python",
   "pygments_lexer": "ipython3",
   "version": "3.7.4"
  }
 },
 "nbformat": 4,
 "nbformat_minor": 2
}
