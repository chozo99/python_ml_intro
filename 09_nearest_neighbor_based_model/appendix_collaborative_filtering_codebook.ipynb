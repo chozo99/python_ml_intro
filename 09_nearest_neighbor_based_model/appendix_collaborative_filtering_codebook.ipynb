{
 "cells": [
  {
   "cell_type": "markdown",
   "metadata": {},
   "source": [
    "## argsort\n",
    "\n",
    "Collaborative filtering 의 코드를 완성하기 위한 몇 가지 numpy handling 들을 배워봅니다."
   ]
  },
  {
   "cell_type": "code",
   "execution_count": 1,
   "metadata": {},
   "outputs": [
    {
     "data": {
      "text/plain": [
       "array([[0.5488, 0.7152, 0.6028, 0.5449, 0.4237],\n",
       "       [0.6459, 0.4376, 0.8918, 0.9637, 0.3834],\n",
       "       [0.7917, 0.5289, 0.568 , 0.9256, 0.071 ],\n",
       "       [0.0871, 0.0202, 0.8326, 0.7782, 0.87  ],\n",
       "       [0.9786, 0.7992, 0.4615, 0.7805, 0.1183],\n",
       "       [0.6399, 0.1434, 0.9447, 0.5218, 0.4147],\n",
       "       [0.2646, 0.7742, 0.4562, 0.5684, 0.0188],\n",
       "       [0.6176, 0.6121, 0.6169, 0.9437, 0.6818],\n",
       "       [0.3595, 0.437 , 0.6976, 0.0602, 0.6668],\n",
       "       [0.6706, 0.2104, 0.1289, 0.3154, 0.3637]])"
      ]
     },
     "execution_count": 1,
     "metadata": {},
     "output_type": "execute_result"
    }
   ],
   "source": [
    "import numpy as np\n",
    "\n",
    "np.random.seed(0)\n",
    "np.set_printoptions(precision=4, suppress=True)\n",
    "\n",
    "x = np.random.random_sample((10,5))\n",
    "x"
   ]
  },
  {
   "cell_type": "markdown",
   "metadata": {},
   "source": [
    "`x` 는 (10, 5) 크기의 행렬입니다. 각 row 별로 column 의 값들의 순서를 정렬하려면 `argsort(axis=1)` 을 이용합니다. 반대로 각 column 별로 row 의 값들의 순서를 정렬하려면 `argsort(axis=0)` 을 이용합니다."
   ]
  },
  {
   "cell_type": "code",
   "execution_count": 2,
   "metadata": {},
   "outputs": [
    {
     "data": {
      "text/plain": [
       "array([[4, 3, 0, 2, 1],\n",
       "       [4, 1, 0, 2, 3],\n",
       "       [4, 1, 2, 0, 3],\n",
       "       [1, 0, 3, 2, 4],\n",
       "       [4, 2, 3, 1, 0],\n",
       "       [1, 4, 3, 0, 2],\n",
       "       [4, 0, 2, 3, 1],\n",
       "       [1, 2, 0, 4, 3],\n",
       "       [3, 0, 1, 4, 2],\n",
       "       [2, 1, 3, 4, 0]])"
      ]
     },
     "execution_count": 2,
     "metadata": {},
     "output_type": "execute_result"
    }
   ],
   "source": [
    "topk = 2\n",
    "x.argsort(axis=1)"
   ]
  },
  {
   "cell_type": "markdown",
   "metadata": {},
   "source": [
    "정렬된 값의 모든 rows 에 대하여 앞의 topk 개의 columns 만 가져오면 각 rows 별로 가장 가까운 topk 개의 column indices 를 가져올 수 있습니다."
   ]
  },
  {
   "cell_type": "code",
   "execution_count": 3,
   "metadata": {},
   "outputs": [
    {
     "data": {
      "text/plain": [
       "array([[4, 3],\n",
       "       [4, 1],\n",
       "       [4, 1],\n",
       "       [1, 0],\n",
       "       [4, 2],\n",
       "       [1, 4],\n",
       "       [4, 0],\n",
       "       [1, 2],\n",
       "       [3, 0],\n",
       "       [2, 1]])"
      ]
     },
     "execution_count": 3,
     "metadata": {},
     "output_type": "execute_result"
    }
   ],
   "source": [
    "x.argsort(axis=1)[:,:topk]"
   ]
  },
  {
   "cell_type": "markdown",
   "metadata": {},
   "source": [
    "이 행렬에 `flatten()` 함수를 실행하면 각 rows 가 하나씩 차례로 concatenation 이 된 형태의 array 가 만들어집니다."
   ]
  },
  {
   "cell_type": "code",
   "execution_count": 4,
   "metadata": {},
   "outputs": [
    {
     "data": {
      "text/plain": [
       "array([4, 3, 4, 1, 4, 1, 1, 0, 4, 2, 1, 4, 4, 0, 1, 2, 3, 0, 2, 1])"
      ]
     },
     "execution_count": 4,
     "metadata": {},
     "output_type": "execute_result"
    }
   ],
   "source": [
    "cols = x.argsort(axis=1)[:,:topk].flatten()\n",
    "cols"
   ]
  },
  {
   "cell_type": "markdown",
   "metadata": {},
   "source": [
    "위의 값은 column indices 의 값이므로, 각 값에 해당하는 row indices 도 만들어봅니다. 이는 `numpy.repeat()` 와 `numpy.arange()` 함수를 이용하여 만들 수 있습니다."
   ]
  },
  {
   "cell_type": "code",
   "execution_count": 5,
   "metadata": {},
   "outputs": [
    {
     "data": {
      "text/plain": [
       "array([0, 0, 1, 1, 2, 2, 3, 3, 4, 4, 5, 5, 6, 6, 7, 7, 8, 8, 9, 9])"
      ]
     },
     "execution_count": 5,
     "metadata": {},
     "output_type": "execute_result"
    }
   ],
   "source": [
    "rows = np.repeat(np.arange(10), repeats=topk)\n",
    "rows"
   ]
  },
  {
   "cell_type": "markdown",
   "metadata": {},
   "source": [
    "numpy.ndarray 를 slicing 하는 방법으로 row, column indices 를 각각 array 로 만들어 입력할 수도 있습니다. 위의 `x` 와 slicing 된 값을 직접 비교해 보시기 바랍니다."
   ]
  },
  {
   "cell_type": "code",
   "execution_count": 6,
   "metadata": {},
   "outputs": [
    {
     "data": {
      "text/plain": [
       "array([0.4237, 0.5449, 0.3834, 0.4376, 0.071 , 0.5289, 0.0202, 0.0871,\n",
       "       0.1183, 0.4615, 0.1434, 0.4147, 0.0188, 0.2646, 0.6121, 0.6169,\n",
       "       0.0602, 0.3595, 0.1289, 0.2104])"
      ]
     },
     "execution_count": 6,
     "metadata": {},
     "output_type": "execute_result"
    }
   ],
   "source": [
    "x[rows,cols]"
   ]
  },
  {
   "cell_type": "markdown",
   "metadata": {},
   "source": [
    "그런데 위의 slicing 된 결과 역시 array 입니다. 이를 다시 (10, topk) 형식의 행렬로 변환하기 위하여 `reshape()` 함수를 이용합니다."
   ]
  },
  {
   "cell_type": "code",
   "execution_count": 7,
   "metadata": {},
   "outputs": [
    {
     "data": {
      "text/plain": [
       "array([[0.4237, 0.5449],\n",
       "       [0.3834, 0.4376],\n",
       "       [0.071 , 0.5289],\n",
       "       [0.0202, 0.0871],\n",
       "       [0.1183, 0.4615],\n",
       "       [0.1434, 0.4147],\n",
       "       [0.0188, 0.2646],\n",
       "       [0.6121, 0.6169],\n",
       "       [0.0602, 0.3595],\n",
       "       [0.1289, 0.2104]])"
      ]
     },
     "execution_count": 7,
     "metadata": {},
     "output_type": "execute_result"
    }
   ],
   "source": [
    "x[rows,cols].reshape(-1,topk)"
   ]
  },
  {
   "cell_type": "markdown",
   "metadata": {},
   "source": [
    "## distance computation\n",
    "\n",
    "위의 numpy.ndarray slicing 은 k argmin distance 를 계산하기 위해 필요합니다. Scikit-learn 에서는 `pairwise_distances`, `argmin_pairwise_distances` 등의 함수를 제공해 주지만 k argmin 함수를 제공하지 않습니다. 이는 직접 만들어야 합니다. `pairwise_distances(A, B, metric=metric)` 는 A 의 각 rows 에 대하여 B 의 각 rows 간의 metric distance 를 계산합니다. 그러므로 A, B 의 shape 은 각각 (n,k), (m,k) 여야 합니다."
   ]
  },
  {
   "cell_type": "code",
   "execution_count": 8,
   "metadata": {},
   "outputs": [
    {
     "data": {
      "text/plain": [
       "(2, 10)"
      ]
     },
     "execution_count": 8,
     "metadata": {},
     "output_type": "execute_result"
    }
   ],
   "source": [
    "from sklearn.metrics import pairwise_distances\n",
    "\n",
    "dist = pairwise_distances(x[:2,:], x, metric='euclidean')\n",
    "dist.shape"
   ]
  },
  {
   "cell_type": "code",
   "execution_count": 9,
   "metadata": {},
   "outputs": [
    {
     "data": {
      "text/plain": [
       "array([[0.    , 0.5891, 0.6035, 1.0013, 0.6004, 0.6729, 0.5199, 0.4912,\n",
       "        0.6451, 0.7419],\n",
       "       [0.5891, 0.    , 0.4832, 0.8724, 0.7283, 0.5344, 0.8589, 0.443 ,\n",
       "        1.0081, 1.027 ]])"
      ]
     },
     "execution_count": 9,
     "metadata": {},
     "output_type": "execute_result"
    }
   ],
   "source": [
    "dist"
   ]
  },
  {
   "cell_type": "markdown",
   "metadata": {},
   "source": [
    "앞서 각 row 별로 가장 작은 값을 지닌 colum indices 를 slicing 하는 방법을 살펴보았습니다."
   ]
  },
  {
   "cell_type": "code",
   "execution_count": 10,
   "metadata": {},
   "outputs": [
    {
     "data": {
      "text/plain": [
       "(2, 3)"
      ]
     },
     "execution_count": 10,
     "metadata": {},
     "output_type": "execute_result"
    }
   ],
   "source": [
    "topk = 3\n",
    "indices = dist.argsort(axis=1)[:,:topk]\n",
    "indices.shape"
   ]
  },
  {
   "cell_type": "code",
   "execution_count": 11,
   "metadata": {},
   "outputs": [
    {
     "data": {
      "text/plain": [
       "array([[0, 7, 6],\n",
       "       [1, 7, 2]])"
      ]
     },
     "execution_count": 11,
     "metadata": {},
     "output_type": "execute_result"
    }
   ],
   "source": [
    "indices"
   ]
  },
  {
   "cell_type": "code",
   "execution_count": 12,
   "metadata": {},
   "outputs": [
    {
     "data": {
      "text/plain": [
       "array([[0.    , 0.5891, 0.6035, 1.0013, 0.6004, 0.6729, 0.5199, 0.4912,\n",
       "        0.6451, 0.7419],\n",
       "       [0.5891, 0.    , 0.4832, 0.8724, 0.7283, 0.5344, 0.8589, 0.443 ,\n",
       "        1.0081, 1.027 ]])"
      ]
     },
     "execution_count": 12,
     "metadata": {},
     "output_type": "execute_result"
    }
   ],
   "source": [
    "dist"
   ]
  },
  {
   "cell_type": "markdown",
   "metadata": {},
   "source": [
    "그리고 그 indices 에 해당하는 값도 모두 가져오는 방법도 연습하였습니다."
   ]
  },
  {
   "cell_type": "code",
   "execution_count": 13,
   "metadata": {},
   "outputs": [
    {
     "data": {
      "text/plain": [
       "array([[0.    , 0.4912, 0.5199],\n",
       "       [0.    , 0.443 , 0.4832]])"
      ]
     },
     "execution_count": 13,
     "metadata": {},
     "output_type": "execute_result"
    }
   ],
   "source": [
    "cols = dist.argsort(axis=1)[:,:topk].flatten()\n",
    "rows = np.repeat(np.arange(dist.shape[0]), repeats=topk)\n",
    "dist[rows, cols].reshape(-1,topk)"
   ]
  },
  {
   "cell_type": "markdown",
   "metadata": {},
   "source": [
    "## matrix inner product\n",
    "\n",
    "벡터의 내적을 하는 방법에 대해서도 살펴봅니다. 행렬 곲은 정확히는 matrix multiplication, element-wise product, 등으로 나뉘어집니다."
   ]
  },
  {
   "cell_type": "code",
   "execution_count": 14,
   "metadata": {},
   "outputs": [
    {
     "name": "stdout",
     "output_type": "stream",
     "text": [
      "[[1 2 0]]\n",
      "[[0 2 0 0 0]\n",
      " [0 0 0 2 0]\n",
      " [2 1 1 1 0]]\n"
     ]
    }
   ],
   "source": [
    "a = np.random.randint(0, 3, size=(1, 3)) # similar sim\n",
    "b = np.random.randint(0, 3, size=(3, 5)) # candidate history\n",
    "\n",
    "print(a)\n",
    "print(b)"
   ]
  },
  {
   "cell_type": "markdown",
   "metadata": {},
   "source": [
    "`numpy.dot()` 함수는 matrix multiplication 을 수행합니다."
   ]
  },
  {
   "cell_type": "code",
   "execution_count": 15,
   "metadata": {},
   "outputs": [
    {
     "name": "stdout",
     "output_type": "stream",
     "text": [
      "[[0 2 0 4 0]]\n",
      "(1, 5)\n"
     ]
    }
   ],
   "source": [
    "c = np.dot(a, b)\n",
    "print(c)\n",
    "print(c.shape)"
   ]
  },
  {
   "cell_type": "markdown",
   "metadata": {},
   "source": [
    "## sparse matrix nonzero element indices\n",
    "\n",
    "Sparse matrix 는 대부분의 값이 0 일 경우, 0 이 아닌 값의 row, column indices 와 그에 해당하는 값만을 저장하는 방식입니다. 이는 다양한 종류가 있으며, 자세한 설명은 아래의 포스트를 참고하세요.\n",
    "\n",
    "https://lovit.github.io/nlp/machine%20learning/2018/04/09/sparse_mtarix_handling/\n",
    "\n",
    "Sparse matrix 에서 0 이 아닌 값의 위치를 알려면 `nonzero()` 함수를 실행합니다. 그 결과는 각각 row, column indices array 가 출력됩니다."
   ]
  },
  {
   "cell_type": "code",
   "execution_count": 16,
   "metadata": {},
   "outputs": [
    {
     "name": "stdout",
     "output_type": "stream",
     "text": [
      "[0 0 1 2]\n",
      "[2 5 4 1]\n"
     ]
    }
   ],
   "source": [
    "from scipy.sparse import csr_matrix\n",
    "\n",
    "s = csr_matrix(np.asarray([\n",
    "    [0, 0, 1, 0, 0, 2],\n",
    "    [0, 0, 0, 0, 3, 0],\n",
    "    [0, 4, 0, 0, 0, 0]\n",
    "]))\n",
    "rows, cols = s.nonzero()\n",
    "print(rows)\n",
    "print(cols)"
   ]
  },
  {
   "cell_type": "markdown",
   "metadata": {},
   "source": [
    "만약 한 row 의 nonzero elements 의 indices 를 알려면 sparse matrix 에 slicing 을 한 결과에 `nonzero()` 함수를 실행하면 됩니다."
   ]
  },
  {
   "cell_type": "code",
   "execution_count": 17,
   "metadata": {},
   "outputs": [
    {
     "data": {
      "text/plain": [
       "(array([0, 0], dtype=int32), array([2, 5], dtype=int32))"
      ]
     },
     "execution_count": 17,
     "metadata": {},
     "output_type": "execute_result"
    }
   ],
   "source": [
    "s[0].nonzero()"
   ]
  },
  {
   "cell_type": "markdown",
   "metadata": {},
   "source": [
    "0 이 아닌 실제 값들은 `data` array 에 저장되어 있습니다."
   ]
  },
  {
   "cell_type": "code",
   "execution_count": 18,
   "metadata": {},
   "outputs": [
    {
     "data": {
      "text/plain": [
       "array([1, 2, 3, 4], dtype=int64)"
      ]
     },
     "execution_count": 18,
     "metadata": {},
     "output_type": "execute_result"
    }
   ],
   "source": [
    "s.data"
   ]
  },
  {
   "cell_type": "code",
   "execution_count": null,
   "metadata": {},
   "outputs": [],
   "source": []
  }
 ],
 "metadata": {
  "kernelspec": {
   "display_name": "Python 3",
   "language": "python",
   "name": "python3"
  },
  "language_info": {
   "codemirror_mode": {
    "name": "ipython",
    "version": 3
   },
   "file_extension": ".py",
   "mimetype": "text/x-python",
   "name": "python",
   "nbconvert_exporter": "python",
   "pygments_lexer": "ipython3",
   "version": "3.7.1"
  }
 },
 "nbformat": 4,
 "nbformat_minor": 2
}
