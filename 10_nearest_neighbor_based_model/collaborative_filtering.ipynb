{
 "cells": [
  {
   "cell_type": "code",
   "execution_count": 16,
   "metadata": {},
   "outputs": [
    {
     "name": "stdout",
     "output_type": "stream",
     "text": [
      "soydata==0.1.0\n",
      "\n",
      "This function downloads MovieLens data from GroupLens\n",
      "Please read first http://files.grouplens.org/datasets/movielens/ml-20m-README.html\n",
      "All permissions are in GroupLens, and this function is an external utility to conventiently use MovieLens data.\n",
      "\n",
      "(138494, 131263)\n"
     ]
    }
   ],
   "source": [
    "import soydata\n",
    "from soydata.data.external.movielens import load_rating\n",
    "\n",
    "print(f'soydata=={soydata.__version__}\\n')\n",
    "\n",
    "user_item, _ = load_rating(size='20m')\n",
    "print(user_item.shape)"
   ]
  },
  {
   "cell_type": "code",
   "execution_count": 17,
   "metadata": {},
   "outputs": [
    {
     "name": "stdout",
     "output_type": "stream",
     "text": [
      "n empty user = 1\n",
      "n empty item = 104519\n"
     ]
    }
   ],
   "source": [
    "import numpy as np\n",
    "\n",
    "user_indices, item_indices = user_item.nonzero()\n",
    "user_size = np.bincount(user_indices, minlength=user_item.shape[0])\n",
    "item_size = np.bincount(item_indices, minlength=user_item.shape[1])\n",
    "\n",
    "n_empty_user = np.where(user_size == 0)[0].shape[0]\n",
    "n_empty_item = np.where(item_size == 0)[0].shape[0]\n",
    "\n",
    "print(f'n empty user = {n_empty_user}')\n",
    "print(f'n empty item = {n_empty_item}')"
   ]
  },
  {
   "cell_type": "code",
   "execution_count": 18,
   "metadata": {},
   "outputs": [],
   "source": [
    "from sklearn.metrics import pairwise_distances\n",
    "\n",
    "\n",
    "class SimpleSimilarFinder:\n",
    "    def __init__(self, matrix, metric='cosine'):\n",
    "        self.matrix = matrix\n",
    "        self.metric = metric\n",
    "        self.n_rows, self.n_features = matrix.shape\n",
    "\n",
    "    def get_similars(self, idx, topk=10):\n",
    "        if not (0 <= idx < self.n_rows):\n",
    "            raise ValueError(f'Unknown query: {idx}')\n",
    "        query_vec = self.matrix[idx,:]\n",
    "        return self.get_similars_from_vector(query_vec, topk)\n",
    "\n",
    "    def get_similars_from_vector(self, query, topk=10):\n",
    "        if len(query.shape) == 1:\n",
    "            query = query.reshape(1,-1)\n",
    "\n",
    "        dist = pairwise_distances(query, self.matrix, metric=self.metric)\n",
    "        similar_idx = dist.argsort(axis=1)[:,:topk]\n",
    "\n",
    "        cols = similar_idx.flatten()\n",
    "        rows = np.repeat(np.arange(query.shape[0]), repeats=topk)\n",
    "        similar_dist = dist[rows, cols].reshape(-1,topk)\n",
    "\n",
    "        return similar_idx, similar_dist"
   ]
  },
  {
   "cell_type": "code",
   "execution_count": 19,
   "metadata": {},
   "outputs": [
    {
     "name": "stdout",
     "output_type": "stream",
     "text": [
      "(1, 10)\n",
      "(1, 10)\n",
      "(1, 10)\n",
      "(10, 131263)\n"
     ]
    }
   ],
   "source": [
    "user_index = SimpleSimilarFinder(user_item)\n",
    "similar_users, similar_dist = user_index.get_similars(1)\n",
    "similar_sim = 1 - similar_dist\n",
    "\n",
    "print(similar_users.shape)\n",
    "print(similar_dist.shape)\n",
    "print(similar_sim.shape)\n",
    "\n",
    "candidates_history = user_item[similar_users.flatten()]\n",
    "print(candidates_history.shape)"
   ]
  },
  {
   "cell_type": "code",
   "execution_count": 20,
   "metadata": {},
   "outputs": [],
   "source": [
    "from time import time\n",
    "\n",
    "\n",
    "class CollaborativeFiltering:\n",
    "    def __init__(self, user_index, user_history):\n",
    "        self.user_index = user_index\n",
    "        self.user_history = user_history\n",
    "        self.n_users = user_history.shape[0]\n",
    "        self.popular_by_scores, self.popular_by_view = prepare_most_popular(user_history)\n",
    "\n",
    "    def recommender(self, user_idx, topk_users=10, topk_items=3):\n",
    "        t = time()\n",
    "        _, already_seen = self.user_history[user_idx,:].nonzero()\n",
    "\n",
    "        similar_users, similar_dist = self.user_index.get_similars(user_idx, topk_users)\n",
    "        similar_sim = 1 - similar_dist\n",
    "        candidates_history = self.user_history[similar_users.flatten()]\n",
    "\n",
    "        # with user rating\n",
    "        # shape = (1, num items)\n",
    "        candidate_scores = np.dot(similar_sim, candidates_history.todense())\n",
    "        # casting numpy.matrix -> numpy.ndarray\n",
    "        candidate_scores = np.array(candidate_scores).reshape(-1)\n",
    "\n",
    "        # remove already seen items\n",
    "        candidate_scores[already_seen] = 0\n",
    "        candidate_indices = candidate_scores.argsort()[::-1]\n",
    "\n",
    "        # remove score-zero items\n",
    "        n_positive = np.where(candidate_scores > 0)[0].shape[0]\n",
    "        recommended_indices = candidate_indices[:n_positive]\n",
    "\n",
    "        # re-ranking\n",
    "        # TODO\n",
    "\n",
    "        # select top items\n",
    "        if topk_items > 0:\n",
    "            recommended_indices = recommended_indices[:topk_items]\n",
    "\n",
    "        # with score\n",
    "        recommended_scores = candidate_scores[recommended_indices]\n",
    "\n",
    "        # check processing time\n",
    "        t = time() - t\n",
    "        n_reco = recommended_scores.shape[0]\n",
    "        print(f'recommend {n_reco} items from {n_positive} items with {t:.4} sec.')\n",
    "\n",
    "        return recommended_indices, recommended_scores\n",
    "\n",
    "    def most_popular(self, topk, by='score'):\n",
    "        if by == 'score':\n",
    "            self.popular_by_scores[:topk]\n",
    "        return self.popular_by_view[:topk]\n",
    "\n",
    "def prepare_most_popular(user_history):\n",
    "    score_sum = user_history.sum(axis=0).reshape(-1)\n",
    "    view_count = np.bincount(\n",
    "        user_history.nonzero()[1],\n",
    "        minlength = user_history.shape[1]\n",
    "    )\n",
    "    popular_by_scores = score_sum.argsort()[::-1]\n",
    "    popular_by_view = view_count.argsort()[::-1]\n",
    "    return popular_by_scores, popular_by_view"
   ]
  },
  {
   "cell_type": "code",
   "execution_count": 21,
   "metadata": {},
   "outputs": [
    {
     "name": "stdout",
     "output_type": "stream",
     "text": [
      "recommend 10 items from 494 items with 0.5786 sec.\n"
     ]
    }
   ],
   "source": [
    "cf = CollaborativeFiltering(user_index, user_item)\n",
    "items, scores = cf.recommender(1, topk_users=5, topk_items=10)"
   ]
  },
  {
   "cell_type": "code",
   "execution_count": 22,
   "metadata": {},
   "outputs": [
    {
     "name": "stdout",
     "output_type": "stream",
     "text": [
      "CPU times: user 44.6 s, sys: 2.21 s, total: 46.8 s\n",
      "Wall time: 20 s\n"
     ]
    }
   ],
   "source": [
    "%%time\n",
    "\n",
    "# with SVD\n",
    "from sklearn.decomposition import TruncatedSVD\n",
    "\n",
    "user_svd = TruncatedSVD(n_components=100).fit_transform(user_item)\n",
    "user_svd.shape"
   ]
  },
  {
   "cell_type": "code",
   "execution_count": 23,
   "metadata": {},
   "outputs": [
    {
     "name": "stdout",
     "output_type": "stream",
     "text": [
      "recommend 10 items from 559 items with 0.1007 sec.\n"
     ]
    }
   ],
   "source": [
    "user_index_svd = SimpleSimilarFinder(user_svd)\n",
    "cf_svd = CollaborativeFiltering(user_index_svd, user_item)\n",
    "items, scores = cf_svd.recommender(1, topk_users=5, topk_items=10)"
   ]
  },
  {
   "cell_type": "code",
   "execution_count": 24,
   "metadata": {},
   "outputs": [],
   "source": [
    "from sklearn.preprocessing import normalize\n",
    "from sklearn.neighbors import BallTree\n",
    "\n",
    "user_svd_norm = normalize(user_svd)\n",
    "# ball_tree = BallTree(user_svd, metric='cosine')\n",
    "ball_tree = BallTree(user_svd_norm, metric='euclidean')"
   ]
  },
  {
   "cell_type": "code",
   "execution_count": 25,
   "metadata": {},
   "outputs": [
    {
     "name": "stdout",
     "output_type": "stream",
     "text": [
      "CPU times: user 56 ms, sys: 0 ns, total: 56 ms\n",
      "Wall time: 56.2 ms\n"
     ]
    }
   ],
   "source": [
    "%%time\n",
    "similar_euc, similar_idxs = ball_tree.query(user_svd_norm[1].reshape(1,-1), k=10, return_distance=True)"
   ]
  },
  {
   "cell_type": "code",
   "execution_count": 26,
   "metadata": {},
   "outputs": [
    {
     "name": "stdout",
     "output_type": "stream",
     "text": [
      "[[     1 110069  13605   5366   7412  62235  75328  47783  50679  13687]]\n",
      "[[0.         0.65692462 0.6658841  0.67455978 0.69233518 0.69767421\n",
      "  0.69845812 0.701774   0.70283821 0.70476037]]\n",
      "[[0.         0.21577498 0.22170081 0.22751545 0.239664   0.24337465\n",
      "  0.24392187 0.24624338 0.24699078 0.24834359]]\n"
     ]
    }
   ],
   "source": [
    "similar_cos = (similar_euc ** 2) / 2\n",
    "\n",
    "print(similar_idxs)\n",
    "print(similar_euc)\n",
    "print(similar_cos)"
   ]
  },
  {
   "cell_type": "code",
   "execution_count": 27,
   "metadata": {},
   "outputs": [
    {
     "name": "stdout",
     "output_type": "stream",
     "text": [
      "[     1 110069  13605   5366   7412  62235  75328  47783  50679  13687]\n",
      "[0.         0.21577498 0.22170081 0.22751545 0.239664   0.24337465\n",
      " 0.24392187 0.24624338 0.24699078 0.24834359]\n"
     ]
    }
   ],
   "source": [
    "from sklearn.metrics import pairwise_distances\n",
    "\n",
    "dist = pairwise_distances(user_svd_norm[1].reshape(1,-1), user_svd, metric='cosine').reshape(-1)\n",
    "idxs = dist.argsort()[:10]\n",
    "dist = dist[idxs]\n",
    "\n",
    "print(idxs)\n",
    "print(dist)"
   ]
  },
  {
   "cell_type": "code",
   "execution_count": 28,
   "metadata": {},
   "outputs": [],
   "source": [
    "from sklearn.neighbors import BallTree\n",
    "\n",
    "\n",
    "class BallTreeSimilarFinder:\n",
    "    def __init__(self, matrix, leaf_size=40, **kargs):\n",
    "        self.matrix = matrix\n",
    "        self.index = BallTree(matrix, leaf_size, 'euclidean', **kargs)\n",
    "        self.n_rows, self.n_features = matrix.shape\n",
    "\n",
    "    def get_similars(self, idx, topk=10):\n",
    "        if not (0 <= idx < self.n_rows):\n",
    "            raise ValueError(f'Unknown query: {idx}')\n",
    "        query_vec = self.matrix[idx,:]\n",
    "        return self.get_similars_from_vector(query_vec, topk)\n",
    "\n",
    "    def get_similars_from_vector(self, query, topk=10):\n",
    "        if len(query.shape) == 1:\n",
    "            query = query.reshape(1,-1)\n",
    "\n",
    "        similar_euc, similar_idx = self.index.query(query, topk, return_distance=True)\n",
    "        similar_dist = (similar_euc ** 2) / 2\n",
    "        return similar_idx, similar_dist"
   ]
  },
  {
   "cell_type": "code",
   "execution_count": 29,
   "metadata": {},
   "outputs": [
    {
     "name": "stdout",
     "output_type": "stream",
     "text": [
      "recommend 10 items from 559 items with 0.03913 sec.\n"
     ]
    }
   ],
   "source": [
    "user_index_bt = BallTreeSimilarFinder(user_svd_norm)\n",
    "cf_bt = CollaborativeFiltering(user_index_bt, user_item)\n",
    "items, scores = cf_bt.recommender(1, topk_users=5, topk_items=10)"
   ]
  },
  {
   "cell_type": "code",
   "execution_count": null,
   "metadata": {},
   "outputs": [],
   "source": []
  }
 ],
 "metadata": {
  "kernelspec": {
   "display_name": "Python 3",
   "language": "python",
   "name": "python3"
  },
  "language_info": {
   "codemirror_mode": {
    "name": "ipython",
    "version": 3
   },
   "file_extension": ".py",
   "mimetype": "text/x-python",
   "name": "python",
   "nbconvert_exporter": "python",
   "pygments_lexer": "ipython3",
   "version": "3.7.1"
  }
 },
 "nbformat": 4,
 "nbformat_minor": 2
}
