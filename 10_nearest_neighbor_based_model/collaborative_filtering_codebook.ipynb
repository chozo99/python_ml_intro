{
 "cells": [
  {
   "cell_type": "markdown",
   "metadata": {},
   "source": [
    "## argsort"
   ]
  },
  {
   "cell_type": "code",
   "execution_count": 1,
   "metadata": {},
   "outputs": [
    {
     "data": {
      "text/plain": [
       "array([[0.13584834, 0.88809483, 0.54389937, 0.20684413, 0.65892555],\n",
       "       [0.4362939 , 0.36512436, 0.6636208 , 0.56927896, 0.53843228],\n",
       "       [0.57204597, 0.73540762, 0.77147478, 0.49308504, 0.24366841],\n",
       "       [0.31124288, 0.40777808, 0.22807183, 0.50927423, 0.03038492],\n",
       "       [0.90253933, 0.83891694, 0.87466353, 0.91832123, 0.06594177],\n",
       "       [0.58009851, 0.87538777, 0.45744279, 0.3382935 , 0.7447201 ],\n",
       "       [0.19295029, 0.09040076, 0.70884755, 0.63950947, 0.66888737],\n",
       "       [0.06301225, 0.18002833, 0.29218235, 0.45402853, 0.24505396],\n",
       "       [0.45213553, 0.72860828, 0.13543054, 0.01756567, 0.97500704],\n",
       "       [0.78917459, 0.1340449 , 0.74530157, 0.06352323, 0.78700756]])"
      ]
     },
     "execution_count": 1,
     "metadata": {},
     "output_type": "execute_result"
    }
   ],
   "source": [
    "import numpy as np\n",
    "\n",
    "x = np.random.random_sample((10,5))\n",
    "x"
   ]
  },
  {
   "cell_type": "code",
   "execution_count": 2,
   "metadata": {},
   "outputs": [
    {
     "data": {
      "text/plain": [
       "array([[0, 3, 2, 4, 1],\n",
       "       [1, 0, 4, 3, 2],\n",
       "       [4, 3, 0, 1, 2],\n",
       "       [4, 2, 0, 1, 3],\n",
       "       [4, 1, 2, 0, 3],\n",
       "       [3, 2, 0, 4, 1],\n",
       "       [1, 0, 3, 4, 2],\n",
       "       [0, 1, 4, 2, 3],\n",
       "       [3, 2, 0, 1, 4],\n",
       "       [3, 1, 2, 4, 0]])"
      ]
     },
     "execution_count": 2,
     "metadata": {},
     "output_type": "execute_result"
    }
   ],
   "source": [
    "topk = 2\n",
    "x.argsort(axis=1)"
   ]
  },
  {
   "cell_type": "code",
   "execution_count": 3,
   "metadata": {},
   "outputs": [
    {
     "data": {
      "text/plain": [
       "array([[0, 3],\n",
       "       [1, 0],\n",
       "       [4, 3],\n",
       "       [4, 2],\n",
       "       [4, 1],\n",
       "       [3, 2],\n",
       "       [1, 0],\n",
       "       [0, 1],\n",
       "       [3, 2],\n",
       "       [3, 1]])"
      ]
     },
     "execution_count": 3,
     "metadata": {},
     "output_type": "execute_result"
    }
   ],
   "source": [
    "x.argsort(axis=1)[:,:topk]"
   ]
  },
  {
   "cell_type": "code",
   "execution_count": 4,
   "metadata": {},
   "outputs": [
    {
     "data": {
      "text/plain": [
       "array([0, 3, 1, 0, 4, 3, 4, 2, 4, 1, 3, 2, 1, 0, 0, 1, 3, 2, 3, 1])"
      ]
     },
     "execution_count": 4,
     "metadata": {},
     "output_type": "execute_result"
    }
   ],
   "source": [
    "cols = x.argsort(axis=1)[:,:topk].flatten()\n",
    "cols"
   ]
  },
  {
   "cell_type": "code",
   "execution_count": 5,
   "metadata": {},
   "outputs": [
    {
     "data": {
      "text/plain": [
       "array([0, 0, 1, 1, 2, 2, 3, 3, 4, 4, 5, 5, 6, 6, 7, 7, 8, 8, 9, 9])"
      ]
     },
     "execution_count": 5,
     "metadata": {},
     "output_type": "execute_result"
    }
   ],
   "source": [
    "rows = np.repeat(np.arange(10), repeats=topk)\n",
    "rows"
   ]
  },
  {
   "cell_type": "code",
   "execution_count": 6,
   "metadata": {},
   "outputs": [
    {
     "data": {
      "text/plain": [
       "array([0.13584834, 0.20684413, 0.36512436, 0.4362939 , 0.24366841,\n",
       "       0.49308504, 0.03038492, 0.22807183, 0.06594177, 0.83891694,\n",
       "       0.3382935 , 0.45744279, 0.09040076, 0.19295029, 0.06301225,\n",
       "       0.18002833, 0.01756567, 0.13543054, 0.06352323, 0.1340449 ])"
      ]
     },
     "execution_count": 6,
     "metadata": {},
     "output_type": "execute_result"
    }
   ],
   "source": [
    "x[rows,cols]"
   ]
  },
  {
   "cell_type": "code",
   "execution_count": 7,
   "metadata": {},
   "outputs": [
    {
     "data": {
      "text/plain": [
       "array([[0.13584834, 0.20684413],\n",
       "       [0.36512436, 0.4362939 ],\n",
       "       [0.24366841, 0.49308504],\n",
       "       [0.03038492, 0.22807183],\n",
       "       [0.06594177, 0.83891694],\n",
       "       [0.3382935 , 0.45744279],\n",
       "       [0.09040076, 0.19295029],\n",
       "       [0.06301225, 0.18002833],\n",
       "       [0.01756567, 0.13543054],\n",
       "       [0.06352323, 0.1340449 ]])"
      ]
     },
     "execution_count": 7,
     "metadata": {},
     "output_type": "execute_result"
    }
   ],
   "source": [
    "x[rows,cols].reshape(-1,topk)"
   ]
  },
  {
   "cell_type": "markdown",
   "metadata": {},
   "source": [
    "## distance computation"
   ]
  },
  {
   "cell_type": "code",
   "execution_count": 8,
   "metadata": {},
   "outputs": [
    {
     "data": {
      "text/plain": [
       "(2, 10)"
      ]
     },
     "execution_count": 8,
     "metadata": {},
     "output_type": "execute_result"
    }
   ],
   "source": [
    "from sklearn.metrics import pairwise_distances\n",
    "\n",
    "dist = pairwise_distances(x[:2,:], x, metric='euclidean')\n",
    "dist.shape"
   ]
  },
  {
   "cell_type": "code",
   "execution_count": 9,
   "metadata": {},
   "outputs": [
    {
     "data": {
      "text/plain": [
       "array([[0.00000000e+00, 7.23862205e-01, 7.20933186e-01, 9.20728919e-01,\n",
       "        1.24798553e+00, 4.79201481e-01, 9.24166053e-01, 8.95775946e-01,\n",
       "        6.54258497e-01, 1.03582586e+00],\n",
       "       [7.23862205e-01, 2.10734243e-08, 5.09766662e-01, 6.84742787e-01,\n",
       "        9.11855822e-01, 6.47662587e-01, 3.98353465e-01, 6.41030220e-01,\n",
       "        9.52019716e-01, 7.08641498e-01]])"
      ]
     },
     "execution_count": 9,
     "metadata": {},
     "output_type": "execute_result"
    }
   ],
   "source": [
    "dist"
   ]
  },
  {
   "cell_type": "code",
   "execution_count": 10,
   "metadata": {},
   "outputs": [
    {
     "data": {
      "text/plain": [
       "(2, 3)"
      ]
     },
     "execution_count": 10,
     "metadata": {},
     "output_type": "execute_result"
    }
   ],
   "source": [
    "indices = dist.argsort(axis=1)[:,:3]\n",
    "indices.shape"
   ]
  },
  {
   "cell_type": "code",
   "execution_count": 11,
   "metadata": {},
   "outputs": [
    {
     "data": {
      "text/plain": [
       "array([[0, 5, 8],\n",
       "       [1, 6, 2]])"
      ]
     },
     "execution_count": 11,
     "metadata": {},
     "output_type": "execute_result"
    }
   ],
   "source": [
    "indices"
   ]
  },
  {
   "cell_type": "code",
   "execution_count": 12,
   "metadata": {},
   "outputs": [
    {
     "data": {
      "text/plain": [
       "array([[0.00000000e+00, 7.23862205e-01, 7.20933186e-01, 9.20728919e-01,\n",
       "        1.24798553e+00, 4.79201481e-01, 9.24166053e-01, 8.95775946e-01,\n",
       "        6.54258497e-01, 1.03582586e+00],\n",
       "       [7.23862205e-01, 2.10734243e-08, 5.09766662e-01, 6.84742787e-01,\n",
       "        9.11855822e-01, 6.47662587e-01, 3.98353465e-01, 6.41030220e-01,\n",
       "        9.52019716e-01, 7.08641498e-01]])"
      ]
     },
     "execution_count": 12,
     "metadata": {},
     "output_type": "execute_result"
    }
   ],
   "source": [
    "dist"
   ]
  },
  {
   "cell_type": "code",
   "execution_count": 13,
   "metadata": {},
   "outputs": [
    {
     "data": {
      "text/plain": [
       "array([[0.00000000e+00, 4.79201481e-01],\n",
       "       [2.10734243e-08, 3.98353465e-01]])"
      ]
     },
     "execution_count": 13,
     "metadata": {},
     "output_type": "execute_result"
    }
   ],
   "source": [
    "cols = dist.argsort(axis=1)[:,:topk].flatten()\n",
    "rows = np.repeat(np.arange(dist.shape[0]), repeats=topk)\n",
    "dist[rows, cols].reshape(-1,topk)"
   ]
  },
  {
   "cell_type": "markdown",
   "metadata": {},
   "source": [
    "## matrix inner product"
   ]
  },
  {
   "cell_type": "code",
   "execution_count": 14,
   "metadata": {},
   "outputs": [
    {
     "name": "stdout",
     "output_type": "stream",
     "text": [
      "[[2 0 1]]\n",
      "[[2 0 0 2 0]\n",
      " [2 1 1 1 0]\n",
      " [1 0 1 2 2]]\n"
     ]
    }
   ],
   "source": [
    "a = np.random.randint(0, 3, size=(1, 3)) # similar sim\n",
    "b = np.random.randint(0, 3, size=(3, 5)) # candidate history\n",
    "\n",
    "print(a)\n",
    "print(b)"
   ]
  },
  {
   "cell_type": "code",
   "execution_count": 15,
   "metadata": {},
   "outputs": [
    {
     "name": "stdout",
     "output_type": "stream",
     "text": [
      "[[5 0 1 6 2]]\n",
      "(1, 5)\n"
     ]
    }
   ],
   "source": [
    "c = np.dot(a, b)\n",
    "print(c)\n",
    "print(c.shape)"
   ]
  },
  {
   "cell_type": "markdown",
   "metadata": {},
   "source": [
    "## sparse matrix nonzero element indices"
   ]
  },
  {
   "cell_type": "code",
   "execution_count": 16,
   "metadata": {},
   "outputs": [
    {
     "name": "stdout",
     "output_type": "stream",
     "text": [
      "[0 0 1 2]\n",
      "[2 5 4 1]\n"
     ]
    }
   ],
   "source": [
    "from scipy.sparse import csr_matrix\n",
    "\n",
    "s = csr_matrix(np.asarray([\n",
    "    [0, 0, 1, 0, 0, 2],\n",
    "    [0, 0, 0, 0, 3, 0],\n",
    "    [0, 4, 0, 0, 0, 0]\n",
    "]))\n",
    "rows, cols = s.nonzero()\n",
    "print(rows)\n",
    "print(cols)"
   ]
  },
  {
   "cell_type": "code",
   "execution_count": 17,
   "metadata": {},
   "outputs": [
    {
     "data": {
      "text/plain": [
       "(array([0, 0], dtype=int32), array([2, 5], dtype=int32))"
      ]
     },
     "execution_count": 17,
     "metadata": {},
     "output_type": "execute_result"
    }
   ],
   "source": [
    "s[0].nonzero()"
   ]
  },
  {
   "cell_type": "code",
   "execution_count": null,
   "metadata": {},
   "outputs": [],
   "source": []
  }
 ],
 "metadata": {
  "kernelspec": {
   "display_name": "Python 3",
   "language": "python",
   "name": "python3"
  },
  "language_info": {
   "codemirror_mode": {
    "name": "ipython",
    "version": 3
   },
   "file_extension": ".py",
   "mimetype": "text/x-python",
   "name": "python",
   "nbconvert_exporter": "python",
   "pygments_lexer": "ipython3",
   "version": "3.7.1"
  }
 },
 "nbformat": 4,
 "nbformat_minor": 2
}
